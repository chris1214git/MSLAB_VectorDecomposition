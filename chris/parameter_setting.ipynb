{
 "cells": [
  {
   "cell_type": "code",
   "execution_count": 1,
   "id": "833e7b03",
   "metadata": {},
   "outputs": [],
   "source": [
    "import os\n",
    "import json"
   ]
  },
  {
   "cell_type": "code",
   "execution_count": 2,
   "id": "92a10029",
   "metadata": {},
   "outputs": [],
   "source": [
    "save_dir = 'parameters_baseline2'"
   ]
  },
  {
   "cell_type": "code",
   "execution_count": 3,
   "id": "654b7c95",
   "metadata": {},
   "outputs": [],
   "source": [
    "def save_json(preprocess_config):\n",
    "    os.makedirs(save_dir, exist_ok=True)\n",
    "    dataset = preprocess_config['dataset']\n",
    "\n",
    "    with open(os.path.join(save_dir, f'preprocess_config_{dataset}.json'), 'w') as f:\n",
    "        json.dump(preprocess_config, f)"
   ]
  },
  {
   "cell_type": "code",
   "execution_count": 4,
   "id": "b907a2e3",
   "metadata": {},
   "outputs": [],
   "source": [
    "preprocess_config = {}\n",
    "preprocess_config['dataset'] = 'agnews'\n",
    "preprocess_config['min_df'] = 1276 // 3\n",
    "preprocess_config['max_df'] = 1.0\n",
    "preprocess_config['vocabulary_size'] = None\n",
    "preprocess_config['min_doc_word'] = 15\n",
    "save_json(preprocess_config)"
   ]
  },
  {
   "cell_type": "code",
   "execution_count": 5,
   "id": "cb4f9751",
   "metadata": {},
   "outputs": [],
   "source": [
    "preprocess_config = {}\n",
    "preprocess_config['dataset'] = '20news'\n",
    "preprocess_config['min_df'] = 188 // 3\n",
    "preprocess_config['max_df'] = 1.0\n",
    "preprocess_config['vocabulary_size'] = None\n",
    "preprocess_config['min_doc_word'] = 15\n",
    "save_json(preprocess_config)"
   ]
  },
  {
   "cell_type": "code",
   "execution_count": 6,
   "id": "2ec9b21c",
   "metadata": {},
   "outputs": [],
   "source": [
    "preprocess_config = {}\n",
    "preprocess_config['dataset'] = 'IMDB'\n",
    "preprocess_config['min_df'] = 500 // 3\n",
    "preprocess_config['max_df'] = 1.0\n",
    "preprocess_config['vocabulary_size'] = None\n",
    "preprocess_config['min_doc_word'] = 15\n",
    "save_json(preprocess_config)"
   ]
  },
  {
   "cell_type": "code",
   "execution_count": 7,
   "id": "c4f570e7",
   "metadata": {},
   "outputs": [],
   "source": [
    "preprocess_config = {}\n",
    "preprocess_config['dataset'] = 'wiki'\n",
    "preprocess_config['min_df'] = 8617 // 3\n",
    "preprocess_config['max_df'] = 1.0\n",
    "preprocess_config['vocabulary_size'] = None\n",
    "preprocess_config['min_doc_word'] = 15\n",
    "save_json(preprocess_config)"
   ]
  },
  {
   "cell_type": "code",
   "execution_count": null,
   "id": "7cc71b5a",
   "metadata": {},
   "outputs": [],
   "source": []
  }
 ],
 "metadata": {
  "kernelspec": {
   "display_name": "Python 3",
   "language": "python",
   "name": "python3"
  },
  "language_info": {
   "codemirror_mode": {
    "name": "ipython",
    "version": 3
   },
   "file_extension": ".py",
   "mimetype": "text/x-python",
   "name": "python",
   "nbconvert_exporter": "python",
   "pygments_lexer": "ipython3",
   "version": "3.7.0"
  }
 },
 "nbformat": 4,
 "nbformat_minor": 5
}
