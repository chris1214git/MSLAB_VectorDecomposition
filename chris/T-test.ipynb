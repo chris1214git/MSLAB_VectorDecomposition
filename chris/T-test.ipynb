{
 "cells": [
  {
   "cell_type": "code",
   "execution_count": 1,
   "id": "0b4c37d4",
   "metadata": {},
   "outputs": [],
   "source": [
    "import os\n",
    "import json\n",
    "import pandas as pd"
   ]
  },
  {
   "cell_type": "code",
   "execution_count": 277,
   "id": "c72623ee",
   "metadata": {},
   "outputs": [
    {
     "data": {
      "text/plain": [
       "['20news_doc2vec_gensim.csv',\n",
       " '20news_mpnet_sklearn.csv',\n",
       " '20news_average_gensim.csv',\n",
       " '20news_bert_gensim.csv',\n",
       " '20news_mpnet_keybert.csv',\n",
       " 'IMDB_mpnet_gensim.csv',\n",
       " 'agnews_mpnet_gensim.csv',\n",
       " '20news_mpnet_gensim.csv',\n",
       " '.ipynb_checkpoints',\n",
       " '20news_mpnet_yake.csv']"
      ]
     },
     "execution_count": 277,
     "metadata": {},
     "output_type": "execute_result"
    }
   ],
   "source": [
    "os.listdir('record')"
   ]
  },
  {
   "cell_type": "code",
   "execution_count": 333,
   "id": "0c25e8b1",
   "metadata": {},
   "outputs": [
    {
     "data": {
      "text/html": [
       "<div>\n",
       "<style scoped>\n",
       "    .dataframe tbody tr th:only-of-type {\n",
       "        vertical-align: middle;\n",
       "    }\n",
       "\n",
       "    .dataframe tbody tr th {\n",
       "        vertical-align: top;\n",
       "    }\n",
       "\n",
       "    .dataframe thead th {\n",
       "        text-align: right;\n",
       "    }\n",
       "</style>\n",
       "<table border=\"1\" class=\"dataframe\">\n",
       "  <thead>\n",
       "    <tr style=\"text-align: right;\">\n",
       "      <th></th>\n",
       "      <th>semantic_precision@5</th>\n",
       "      <th>semantic_precision@10</th>\n",
       "      <th>semantic_precision@15</th>\n",
       "      <th>semantic_precision_v2@5</th>\n",
       "      <th>semantic_precision_v2@10</th>\n",
       "      <th>semantic_precision_v2@15</th>\n",
       "      <th>precision@5</th>\n",
       "      <th>precision@10</th>\n",
       "      <th>precision@15</th>\n",
       "      <th>precisionv2@5</th>\n",
       "      <th>precisionv2@10</th>\n",
       "      <th>precisionv2@15</th>\n",
       "      <th>ndcg@5</th>\n",
       "      <th>ndcg@10</th>\n",
       "      <th>ndcg@15</th>\n",
       "      <th>ndcg@all</th>\n",
       "    </tr>\n",
       "  </thead>\n",
       "  <tbody>\n",
       "    <tr>\n",
       "      <th>0</th>\n",
       "      <td>0.8810</td>\n",
       "      <td>0.8107</td>\n",
       "      <td>0.7486</td>\n",
       "      <td>0.4164</td>\n",
       "      <td>0.4263</td>\n",
       "      <td>0.4437</td>\n",
       "      <td>0.8514</td>\n",
       "      <td>0.7562</td>\n",
       "      <td>0.6797</td>\n",
       "      <td>0.3943</td>\n",
       "      <td>0.3930</td>\n",
       "      <td>0.3979</td>\n",
       "      <td>0.6615</td>\n",
       "      <td>0.6385</td>\n",
       "      <td>0.6195</td>\n",
       "      <td>0.7395</td>\n",
       "    </tr>\n",
       "    <tr>\n",
       "      <th>1</th>\n",
       "      <td>0.8824</td>\n",
       "      <td>0.8050</td>\n",
       "      <td>0.7423</td>\n",
       "      <td>0.4151</td>\n",
       "      <td>0.4249</td>\n",
       "      <td>0.4418</td>\n",
       "      <td>0.8532</td>\n",
       "      <td>0.7524</td>\n",
       "      <td>0.6755</td>\n",
       "      <td>0.3941</td>\n",
       "      <td>0.3909</td>\n",
       "      <td>0.3971</td>\n",
       "      <td>0.6610</td>\n",
       "      <td>0.6372</td>\n",
       "      <td>0.6189</td>\n",
       "      <td>0.7381</td>\n",
       "    </tr>\n",
       "    <tr>\n",
       "      <th>2</th>\n",
       "      <td>0.8812</td>\n",
       "      <td>0.8018</td>\n",
       "      <td>0.7373</td>\n",
       "      <td>0.4176</td>\n",
       "      <td>0.4278</td>\n",
       "      <td>0.4443</td>\n",
       "      <td>0.8514</td>\n",
       "      <td>0.7488</td>\n",
       "      <td>0.6715</td>\n",
       "      <td>0.3968</td>\n",
       "      <td>0.3943</td>\n",
       "      <td>0.3996</td>\n",
       "      <td>0.6658</td>\n",
       "      <td>0.6408</td>\n",
       "      <td>0.6220</td>\n",
       "      <td>0.7407</td>\n",
       "    </tr>\n",
       "    <tr>\n",
       "      <th>3</th>\n",
       "      <td>0.8836</td>\n",
       "      <td>0.8044</td>\n",
       "      <td>0.7394</td>\n",
       "      <td>0.4134</td>\n",
       "      <td>0.4236</td>\n",
       "      <td>0.4420</td>\n",
       "      <td>0.8533</td>\n",
       "      <td>0.7510</td>\n",
       "      <td>0.6726</td>\n",
       "      <td>0.3930</td>\n",
       "      <td>0.3916</td>\n",
       "      <td>0.3970</td>\n",
       "      <td>0.6609</td>\n",
       "      <td>0.6379</td>\n",
       "      <td>0.6183</td>\n",
       "      <td>0.7384</td>\n",
       "    </tr>\n",
       "    <tr>\n",
       "      <th>4</th>\n",
       "      <td>0.8809</td>\n",
       "      <td>0.8042</td>\n",
       "      <td>0.7403</td>\n",
       "      <td>0.4179</td>\n",
       "      <td>0.4276</td>\n",
       "      <td>0.4444</td>\n",
       "      <td>0.8510</td>\n",
       "      <td>0.7526</td>\n",
       "      <td>0.6757</td>\n",
       "      <td>0.3954</td>\n",
       "      <td>0.3961</td>\n",
       "      <td>0.4010</td>\n",
       "      <td>0.6642</td>\n",
       "      <td>0.6413</td>\n",
       "      <td>0.6222</td>\n",
       "      <td>0.7407</td>\n",
       "    </tr>\n",
       "    <tr>\n",
       "      <th>5</th>\n",
       "      <td>0.8821</td>\n",
       "      <td>0.8079</td>\n",
       "      <td>0.7468</td>\n",
       "      <td>0.4150</td>\n",
       "      <td>0.4249</td>\n",
       "      <td>0.4431</td>\n",
       "      <td>0.8564</td>\n",
       "      <td>0.7578</td>\n",
       "      <td>0.6810</td>\n",
       "      <td>0.3958</td>\n",
       "      <td>0.3927</td>\n",
       "      <td>0.3984</td>\n",
       "      <td>0.6637</td>\n",
       "      <td>0.6404</td>\n",
       "      <td>0.6207</td>\n",
       "      <td>0.7403</td>\n",
       "    </tr>\n",
       "    <tr>\n",
       "      <th>6</th>\n",
       "      <td>0.8840</td>\n",
       "      <td>0.8110</td>\n",
       "      <td>0.7491</td>\n",
       "      <td>0.4108</td>\n",
       "      <td>0.4208</td>\n",
       "      <td>0.4403</td>\n",
       "      <td>0.8572</td>\n",
       "      <td>0.7578</td>\n",
       "      <td>0.6827</td>\n",
       "      <td>0.3905</td>\n",
       "      <td>0.3885</td>\n",
       "      <td>0.3963</td>\n",
       "      <td>0.6581</td>\n",
       "      <td>0.6355</td>\n",
       "      <td>0.6175</td>\n",
       "      <td>0.7378</td>\n",
       "    </tr>\n",
       "    <tr>\n",
       "      <th>7</th>\n",
       "      <td>0.8890</td>\n",
       "      <td>0.8149</td>\n",
       "      <td>0.7525</td>\n",
       "      <td>0.4144</td>\n",
       "      <td>0.4236</td>\n",
       "      <td>0.4422</td>\n",
       "      <td>0.8631</td>\n",
       "      <td>0.7624</td>\n",
       "      <td>0.6840</td>\n",
       "      <td>0.3931</td>\n",
       "      <td>0.3907</td>\n",
       "      <td>0.3958</td>\n",
       "      <td>0.6610</td>\n",
       "      <td>0.6378</td>\n",
       "      <td>0.6185</td>\n",
       "      <td>0.7387</td>\n",
       "    </tr>\n",
       "    <tr>\n",
       "      <th>8</th>\n",
       "      <td>0.8807</td>\n",
       "      <td>0.8080</td>\n",
       "      <td>0.7470</td>\n",
       "      <td>0.4158</td>\n",
       "      <td>0.4224</td>\n",
       "      <td>0.4426</td>\n",
       "      <td>0.8559</td>\n",
       "      <td>0.7581</td>\n",
       "      <td>0.6818</td>\n",
       "      <td>0.3966</td>\n",
       "      <td>0.3915</td>\n",
       "      <td>0.3983</td>\n",
       "      <td>0.6624</td>\n",
       "      <td>0.6387</td>\n",
       "      <td>0.6202</td>\n",
       "      <td>0.7392</td>\n",
       "    </tr>\n",
       "    <tr>\n",
       "      <th>9</th>\n",
       "      <td>0.8813</td>\n",
       "      <td>0.8035</td>\n",
       "      <td>0.7369</td>\n",
       "      <td>0.4156</td>\n",
       "      <td>0.4246</td>\n",
       "      <td>0.4415</td>\n",
       "      <td>0.8538</td>\n",
       "      <td>0.7524</td>\n",
       "      <td>0.6714</td>\n",
       "      <td>0.3954</td>\n",
       "      <td>0.3922</td>\n",
       "      <td>0.3977</td>\n",
       "      <td>0.6627</td>\n",
       "      <td>0.6390</td>\n",
       "      <td>0.6189</td>\n",
       "      <td>0.7389</td>\n",
       "    </tr>\n",
       "  </tbody>\n",
       "</table>\n",
       "</div>"
      ],
      "text/plain": [
       "   semantic_precision@5  semantic_precision@10  semantic_precision@15  \\\n",
       "0                0.8810                 0.8107                 0.7486   \n",
       "1                0.8824                 0.8050                 0.7423   \n",
       "2                0.8812                 0.8018                 0.7373   \n",
       "3                0.8836                 0.8044                 0.7394   \n",
       "4                0.8809                 0.8042                 0.7403   \n",
       "5                0.8821                 0.8079                 0.7468   \n",
       "6                0.8840                 0.8110                 0.7491   \n",
       "7                0.8890                 0.8149                 0.7525   \n",
       "8                0.8807                 0.8080                 0.7470   \n",
       "9                0.8813                 0.8035                 0.7369   \n",
       "\n",
       "   semantic_precision_v2@5  semantic_precision_v2@10  \\\n",
       "0                   0.4164                    0.4263   \n",
       "1                   0.4151                    0.4249   \n",
       "2                   0.4176                    0.4278   \n",
       "3                   0.4134                    0.4236   \n",
       "4                   0.4179                    0.4276   \n",
       "5                   0.4150                    0.4249   \n",
       "6                   0.4108                    0.4208   \n",
       "7                   0.4144                    0.4236   \n",
       "8                   0.4158                    0.4224   \n",
       "9                   0.4156                    0.4246   \n",
       "\n",
       "   semantic_precision_v2@15  precision@5  precision@10  precision@15  \\\n",
       "0                    0.4437       0.8514        0.7562        0.6797   \n",
       "1                    0.4418       0.8532        0.7524        0.6755   \n",
       "2                    0.4443       0.8514        0.7488        0.6715   \n",
       "3                    0.4420       0.8533        0.7510        0.6726   \n",
       "4                    0.4444       0.8510        0.7526        0.6757   \n",
       "5                    0.4431       0.8564        0.7578        0.6810   \n",
       "6                    0.4403       0.8572        0.7578        0.6827   \n",
       "7                    0.4422       0.8631        0.7624        0.6840   \n",
       "8                    0.4426       0.8559        0.7581        0.6818   \n",
       "9                    0.4415       0.8538        0.7524        0.6714   \n",
       "\n",
       "   precisionv2@5  precisionv2@10  precisionv2@15  ndcg@5  ndcg@10  ndcg@15  \\\n",
       "0         0.3943          0.3930          0.3979  0.6615   0.6385   0.6195   \n",
       "1         0.3941          0.3909          0.3971  0.6610   0.6372   0.6189   \n",
       "2         0.3968          0.3943          0.3996  0.6658   0.6408   0.6220   \n",
       "3         0.3930          0.3916          0.3970  0.6609   0.6379   0.6183   \n",
       "4         0.3954          0.3961          0.4010  0.6642   0.6413   0.6222   \n",
       "5         0.3958          0.3927          0.3984  0.6637   0.6404   0.6207   \n",
       "6         0.3905          0.3885          0.3963  0.6581   0.6355   0.6175   \n",
       "7         0.3931          0.3907          0.3958  0.6610   0.6378   0.6185   \n",
       "8         0.3966          0.3915          0.3983  0.6624   0.6387   0.6202   \n",
       "9         0.3954          0.3922          0.3977  0.6627   0.6390   0.6189   \n",
       "\n",
       "   ndcg@all  \n",
       "0    0.7395  \n",
       "1    0.7381  \n",
       "2    0.7407  \n",
       "3    0.7384  \n",
       "4    0.7407  \n",
       "5    0.7403  \n",
       "6    0.7378  \n",
       "7    0.7387  \n",
       "8    0.7392  \n",
       "9    0.7389  "
      ]
     },
     "execution_count": 333,
     "metadata": {},
     "output_type": "execute_result"
    }
   ],
   "source": [
    "df = pd.read_csv('record/20news_mpnet_gensim.csv')\n",
    "\n",
    "new_cols = []\n",
    "for col in df.columns:\n",
    "    if col == 'semantic precision[v1]@5':\n",
    "        col = 'semantic_precision@5'\n",
    "    elif col == 'semantic precision[v1]@10':\n",
    "        col = 'semantic_precision@10'\n",
    "    elif col == 'semantic precision[v1]@15':\n",
    "        col = 'semantic_precision@15'\n",
    "    elif col == 'semantic precision [v2]@5':\n",
    "        col = 'semantic_precision_v2@5'\n",
    "    elif col == 'semantic precision [v2]@10':\n",
    "        col = 'semantic_precision_v2@10'\n",
    "    elif col == 'semantic precision [v2]@15':\n",
    "        col = 'semantic_precision_v2@15'\n",
    "    elif col == 'precision [v1]@5':\n",
    "        col = 'precision@5'\n",
    "    elif col == 'precision [v1]@10':\n",
    "        col = 'precision@10'\n",
    "    elif col == 'precision [v1]@15':\n",
    "        col = 'precision@15'\n",
    "    elif col == 'precision [v2]@5':\n",
    "        col = 'precisionv2@5'\n",
    "    elif col == 'precision [v2]@10':\n",
    "        col = 'precisionv2@10'\n",
    "    elif col == 'precision [v2]@15':\n",
    "        col = 'precisionv2@15'\n",
    "    else:\n",
    "        pass\n",
    "    new_cols.append(col)\n",
    "    \n",
    "df.columns = new_cols\n",
    "df"
   ]
  },
  {
   "cell_type": "code",
   "execution_count": 334,
   "id": "d73aeb2b",
   "metadata": {},
   "outputs": [
    {
     "data": {
      "text/plain": [
       "['IMDB_mpnet_tf-idf-gensim_ListNet_sigmoid_L1',\n",
       " '20news_doc2vec_tf-idf-gensim_MSE',\n",
       " 'agnews_mpnet_tf-idf-gensim_ListNet_sigmoid_L1',\n",
       " '20news_average_tf-idf-gensim_ListNet_sigmoid_L1',\n",
       " '20news_mpnet_yake_ListNet_sigmoid_L1',\n",
       " '20news_mpnet_tf-idf_ListNet_sigmoid_L1',\n",
       " '20news_mpnet_tf-idf-gensim_ListNet_sigmoid_L1',\n",
       " '20news_average_tf-idf-gensim_MSE',\n",
       " '20news_bert_tf-idf-gensim_ListNet_sigmoid_L1',\n",
       " '20news_mpnet_keybert_ListNet_sigmoid_L1',\n",
       " '20news_doc2vec_tf-idf-gensim_ListNet_sigmoid_L1']"
      ]
     },
     "execution_count": 334,
     "metadata": {},
     "output_type": "execute_result"
    }
   ],
   "source": [
    "os.listdir('experiment')"
   ]
  },
  {
   "cell_type": "code",
   "execution_count": 335,
   "id": "b82a1225",
   "metadata": {},
   "outputs": [],
   "source": [
    "def get_results(plot_dir):\n",
    "    with open(os.path.join(plot_dir, 'result.json'), 'r') as f:\n",
    "        r = json.load(f)\n",
    "\n",
    "    result = []    \n",
    "    for i in range(len(r)):\n",
    "        r_df = []\n",
    "        epochs = []\n",
    "        for j in range(len(r[i])):\n",
    "            r_df.append(r[i][j]['test'])\n",
    "            epochs.append(r[i][j]['epoch'])\n",
    "        r_df = pd.DataFrame(r_df)\n",
    "        result.append(r_df.iloc[-1])\n",
    "        \n",
    "    result = pd.DataFrame(result).reset_index(drop=True)\n",
    "    \n",
    "    return x, result"
   ]
  },
  {
   "cell_type": "code",
   "execution_count": 336,
   "id": "4e0f9f4b",
   "metadata": {},
   "outputs": [
    {
     "data": {
      "text/html": [
       "<div>\n",
       "<style scoped>\n",
       "    .dataframe tbody tr th:only-of-type {\n",
       "        vertical-align: middle;\n",
       "    }\n",
       "\n",
       "    .dataframe tbody tr th {\n",
       "        vertical-align: top;\n",
       "    }\n",
       "\n",
       "    .dataframe thead th {\n",
       "        text-align: right;\n",
       "    }\n",
       "</style>\n",
       "<table border=\"1\" class=\"dataframe\">\n",
       "  <thead>\n",
       "    <tr style=\"text-align: right;\">\n",
       "      <th></th>\n",
       "      <th>precision@5</th>\n",
       "      <th>precision@10</th>\n",
       "      <th>precision@15</th>\n",
       "      <th>precisionv2@5</th>\n",
       "      <th>precisionv2@10</th>\n",
       "      <th>precisionv2@15</th>\n",
       "      <th>ndcg@5</th>\n",
       "      <th>ndcg@10</th>\n",
       "      <th>ndcg@15</th>\n",
       "      <th>ndcg@all</th>\n",
       "      <th>semantic_precision@5</th>\n",
       "      <th>semantic_precision@10</th>\n",
       "      <th>semantic_precision@15</th>\n",
       "      <th>semantic_precision_v2@5</th>\n",
       "      <th>semantic_precision_v2@10</th>\n",
       "      <th>semantic_precision_v2@15</th>\n",
       "    </tr>\n",
       "  </thead>\n",
       "  <tbody>\n",
       "    <tr>\n",
       "      <th>0</th>\n",
       "      <td>0.859675</td>\n",
       "      <td>0.766605</td>\n",
       "      <td>0.692338</td>\n",
       "      <td>0.381956</td>\n",
       "      <td>0.371954</td>\n",
       "      <td>0.371469</td>\n",
       "      <td>0.648012</td>\n",
       "      <td>0.621217</td>\n",
       "      <td>0.601105</td>\n",
       "      <td>0.728223</td>\n",
       "      <td>0.906056</td>\n",
       "      <td>0.841702</td>\n",
       "      <td>0.782821</td>\n",
       "      <td>0.408810</td>\n",
       "      <td>0.414239</td>\n",
       "      <td>0.427048</td>\n",
       "    </tr>\n",
       "    <tr>\n",
       "      <th>1</th>\n",
       "      <td>0.857080</td>\n",
       "      <td>0.770154</td>\n",
       "      <td>0.694803</td>\n",
       "      <td>0.378602</td>\n",
       "      <td>0.371637</td>\n",
       "      <td>0.368597</td>\n",
       "      <td>0.647828</td>\n",
       "      <td>0.622092</td>\n",
       "      <td>0.601496</td>\n",
       "      <td>0.728790</td>\n",
       "      <td>0.906303</td>\n",
       "      <td>0.841896</td>\n",
       "      <td>0.782162</td>\n",
       "      <td>0.406850</td>\n",
       "      <td>0.413268</td>\n",
       "      <td>0.425082</td>\n",
       "    </tr>\n",
       "    <tr>\n",
       "      <th>2</th>\n",
       "      <td>0.857927</td>\n",
       "      <td>0.762067</td>\n",
       "      <td>0.688759</td>\n",
       "      <td>0.382609</td>\n",
       "      <td>0.373870</td>\n",
       "      <td>0.372670</td>\n",
       "      <td>0.652334</td>\n",
       "      <td>0.624945</td>\n",
       "      <td>0.605629</td>\n",
       "      <td>0.730847</td>\n",
       "      <td>0.903372</td>\n",
       "      <td>0.836246</td>\n",
       "      <td>0.778478</td>\n",
       "      <td>0.409569</td>\n",
       "      <td>0.414230</td>\n",
       "      <td>0.427831</td>\n",
       "    </tr>\n",
       "    <tr>\n",
       "      <th>3</th>\n",
       "      <td>0.862641</td>\n",
       "      <td>0.765210</td>\n",
       "      <td>0.695051</td>\n",
       "      <td>0.379767</td>\n",
       "      <td>0.370692</td>\n",
       "      <td>0.369474</td>\n",
       "      <td>0.648174</td>\n",
       "      <td>0.621046</td>\n",
       "      <td>0.601816</td>\n",
       "      <td>0.728286</td>\n",
       "      <td>0.907504</td>\n",
       "      <td>0.842338</td>\n",
       "      <td>0.786064</td>\n",
       "      <td>0.404396</td>\n",
       "      <td>0.411670</td>\n",
       "      <td>0.424317</td>\n",
       "    </tr>\n",
       "    <tr>\n",
       "      <th>4</th>\n",
       "      <td>0.862165</td>\n",
       "      <td>0.769818</td>\n",
       "      <td>0.693856</td>\n",
       "      <td>0.381515</td>\n",
       "      <td>0.370533</td>\n",
       "      <td>0.369291</td>\n",
       "      <td>0.649426</td>\n",
       "      <td>0.622762</td>\n",
       "      <td>0.602257</td>\n",
       "      <td>0.729314</td>\n",
       "      <td>0.907327</td>\n",
       "      <td>0.841517</td>\n",
       "      <td>0.782915</td>\n",
       "      <td>0.406886</td>\n",
       "      <td>0.409163</td>\n",
       "      <td>0.424359</td>\n",
       "    </tr>\n",
       "    <tr>\n",
       "      <th>5</th>\n",
       "      <td>0.859057</td>\n",
       "      <td>0.764998</td>\n",
       "      <td>0.693026</td>\n",
       "      <td>0.379396</td>\n",
       "      <td>0.369191</td>\n",
       "      <td>0.367090</td>\n",
       "      <td>0.648293</td>\n",
       "      <td>0.620839</td>\n",
       "      <td>0.600645</td>\n",
       "      <td>0.728241</td>\n",
       "      <td>0.904944</td>\n",
       "      <td>0.839345</td>\n",
       "      <td>0.782745</td>\n",
       "      <td>0.406073</td>\n",
       "      <td>0.411220</td>\n",
       "      <td>0.422464</td>\n",
       "    </tr>\n",
       "    <tr>\n",
       "      <th>6</th>\n",
       "      <td>0.861141</td>\n",
       "      <td>0.769059</td>\n",
       "      <td>0.693009</td>\n",
       "      <td>0.383510</td>\n",
       "      <td>0.369200</td>\n",
       "      <td>0.367302</td>\n",
       "      <td>0.649150</td>\n",
       "      <td>0.621631</td>\n",
       "      <td>0.601581</td>\n",
       "      <td>0.728693</td>\n",
       "      <td>0.905279</td>\n",
       "      <td>0.842329</td>\n",
       "      <td>0.780985</td>\n",
       "      <td>0.409110</td>\n",
       "      <td>0.410576</td>\n",
       "      <td>0.423282</td>\n",
       "    </tr>\n",
       "    <tr>\n",
       "      <th>7</th>\n",
       "      <td>0.857768</td>\n",
       "      <td>0.762562</td>\n",
       "      <td>0.690660</td>\n",
       "      <td>0.378637</td>\n",
       "      <td>0.371310</td>\n",
       "      <td>0.370062</td>\n",
       "      <td>0.644811</td>\n",
       "      <td>0.618836</td>\n",
       "      <td>0.599664</td>\n",
       "      <td>0.727308</td>\n",
       "      <td>0.902348</td>\n",
       "      <td>0.837394</td>\n",
       "      <td>0.781585</td>\n",
       "      <td>0.405561</td>\n",
       "      <td>0.413268</td>\n",
       "      <td>0.426136</td>\n",
       "    </tr>\n",
       "    <tr>\n",
       "      <th>8</th>\n",
       "      <td>0.863242</td>\n",
       "      <td>0.768459</td>\n",
       "      <td>0.694680</td>\n",
       "      <td>0.378319</td>\n",
       "      <td>0.371054</td>\n",
       "      <td>0.369080</td>\n",
       "      <td>0.648731</td>\n",
       "      <td>0.622302</td>\n",
       "      <td>0.601402</td>\n",
       "      <td>0.728811</td>\n",
       "      <td>0.909128</td>\n",
       "      <td>0.843856</td>\n",
       "      <td>0.784952</td>\n",
       "      <td>0.404149</td>\n",
       "      <td>0.413815</td>\n",
       "      <td>0.425459</td>\n",
       "    </tr>\n",
       "    <tr>\n",
       "      <th>9</th>\n",
       "      <td>0.861035</td>\n",
       "      <td>0.765113</td>\n",
       "      <td>0.692120</td>\n",
       "      <td>0.383210</td>\n",
       "      <td>0.370877</td>\n",
       "      <td>0.371210</td>\n",
       "      <td>0.651562</td>\n",
       "      <td>0.623069</td>\n",
       "      <td>0.603520</td>\n",
       "      <td>0.729323</td>\n",
       "      <td>0.905491</td>\n",
       "      <td>0.840113</td>\n",
       "      <td>0.781332</td>\n",
       "      <td>0.407027</td>\n",
       "      <td>0.412403</td>\n",
       "      <td>0.427101</td>\n",
       "    </tr>\n",
       "  </tbody>\n",
       "</table>\n",
       "</div>"
      ],
      "text/plain": [
       "   precision@5  precision@10  precision@15  precisionv2@5  precisionv2@10  \\\n",
       "0     0.859675      0.766605      0.692338       0.381956        0.371954   \n",
       "1     0.857080      0.770154      0.694803       0.378602        0.371637   \n",
       "2     0.857927      0.762067      0.688759       0.382609        0.373870   \n",
       "3     0.862641      0.765210      0.695051       0.379767        0.370692   \n",
       "4     0.862165      0.769818      0.693856       0.381515        0.370533   \n",
       "5     0.859057      0.764998      0.693026       0.379396        0.369191   \n",
       "6     0.861141      0.769059      0.693009       0.383510        0.369200   \n",
       "7     0.857768      0.762562      0.690660       0.378637        0.371310   \n",
       "8     0.863242      0.768459      0.694680       0.378319        0.371054   \n",
       "9     0.861035      0.765113      0.692120       0.383210        0.370877   \n",
       "\n",
       "   precisionv2@15    ndcg@5   ndcg@10   ndcg@15  ndcg@all  \\\n",
       "0        0.371469  0.648012  0.621217  0.601105  0.728223   \n",
       "1        0.368597  0.647828  0.622092  0.601496  0.728790   \n",
       "2        0.372670  0.652334  0.624945  0.605629  0.730847   \n",
       "3        0.369474  0.648174  0.621046  0.601816  0.728286   \n",
       "4        0.369291  0.649426  0.622762  0.602257  0.729314   \n",
       "5        0.367090  0.648293  0.620839  0.600645  0.728241   \n",
       "6        0.367302  0.649150  0.621631  0.601581  0.728693   \n",
       "7        0.370062  0.644811  0.618836  0.599664  0.727308   \n",
       "8        0.369080  0.648731  0.622302  0.601402  0.728811   \n",
       "9        0.371210  0.651562  0.623069  0.603520  0.729323   \n",
       "\n",
       "   semantic_precision@5  semantic_precision@10  semantic_precision@15  \\\n",
       "0              0.906056               0.841702               0.782821   \n",
       "1              0.906303               0.841896               0.782162   \n",
       "2              0.903372               0.836246               0.778478   \n",
       "3              0.907504               0.842338               0.786064   \n",
       "4              0.907327               0.841517               0.782915   \n",
       "5              0.904944               0.839345               0.782745   \n",
       "6              0.905279               0.842329               0.780985   \n",
       "7              0.902348               0.837394               0.781585   \n",
       "8              0.909128               0.843856               0.784952   \n",
       "9              0.905491               0.840113               0.781332   \n",
       "\n",
       "   semantic_precision_v2@5  semantic_precision_v2@10  semantic_precision_v2@15  \n",
       "0                 0.408810                  0.414239                  0.427048  \n",
       "1                 0.406850                  0.413268                  0.425082  \n",
       "2                 0.409569                  0.414230                  0.427831  \n",
       "3                 0.404396                  0.411670                  0.424317  \n",
       "4                 0.406886                  0.409163                  0.424359  \n",
       "5                 0.406073                  0.411220                  0.422464  \n",
       "6                 0.409110                  0.410576                  0.423282  \n",
       "7                 0.405561                  0.413268                  0.426136  \n",
       "8                 0.404149                  0.413815                  0.425459  \n",
       "9                 0.407027                  0.412403                  0.427101  "
      ]
     },
     "execution_count": 336,
     "metadata": {},
     "output_type": "execute_result"
    }
   ],
   "source": [
    "dir_f = 'experiment'\n",
    "s1 = '20news_mpnet_tf-idf-gensim'\n",
    "\n",
    "s = s1 + '_ListNet_sigmoid_L1'\n",
    "r = get_results(f'{dir_f}/{s}/default')\n",
    "df2 = r[1]\n",
    "df2"
   ]
  },
  {
   "cell_type": "code",
   "execution_count": 337,
   "id": "817a9350",
   "metadata": {},
   "outputs": [],
   "source": [
    "cols=df.columns#['precision@10', 'precisionv2@10', 'semantic_precision_v2@10', 'ndcg@10']\n",
    "cols=['precision@10', 'precisionv2@10', 'semantic_precision_v2@10', 'ndcg@10']\n",
    "cols=['precision@15', 'precisionv2@15', 'semantic_precision_v2@15', 'ndcg@15']\n"
   ]
  },
  {
   "cell_type": "code",
   "execution_count": 338,
   "id": "626b9cea",
   "metadata": {},
   "outputs": [
    {
     "data": {
      "text/plain": [
       "precision@15                0.67759\n",
       "precisionv2@15              0.39791\n",
       "semantic_precision_v2@15    0.44259\n",
       "ndcg@15                     0.61967\n",
       "dtype: float64"
      ]
     },
     "execution_count": 338,
     "metadata": {},
     "output_type": "execute_result"
    }
   ],
   "source": [
    "df[cols].mean()"
   ]
  },
  {
   "cell_type": "code",
   "execution_count": 339,
   "id": "c679f3fc",
   "metadata": {},
   "outputs": [
    {
     "data": {
      "text/plain": [
       "precision@15                0.692830\n",
       "precisionv2@15              0.369625\n",
       "semantic_precision_v2@15    0.425308\n",
       "ndcg@15                     0.601911\n",
       "dtype: float64"
      ]
     },
     "execution_count": 339,
     "metadata": {},
     "output_type": "execute_result"
    }
   ],
   "source": [
    "df2[cols].mean()"
   ]
  },
  {
   "cell_type": "code",
   "execution_count": 340,
   "id": "bafeb3f8",
   "metadata": {},
   "outputs": [
    {
     "name": "stdout",
     "output_type": "stream",
     "text": [
      "precision@15\n",
      "0.67759 0.004821813858797217\n",
      "0.6928301912243083 0.0019831059973930702\n",
      "Ttest_indResult(statistic=-9.243680643459701, pvalue=0.9999995731670152)\n",
      "\n",
      "precisionv2@15\n",
      "0.39790999999999993 0.001540887190333334\n",
      "0.3696245481907311 0.001785131456415604\n",
      "Ttest_indResult(statistic=37.9302402023585, pvalue=1.2027509998467361e-18)\n",
      "\n",
      "semantic_precision_v2@15\n",
      "0.44259000000000004 0.0013016655996581105\n",
      "0.4253077919020716 0.0017463076487198065\n",
      "Ttest_indResult(statistic=25.09171701254404, pvalue=5.8257297788349e-15)\n",
      "\n",
      "ndcg@15\n",
      "0.6196699999999999 0.0015755422347031175\n",
      "0.6019113056740518 0.0016459803917757438\n",
      "Ttest_indResult(statistic=24.6468292592715, pvalue=1.330964029890698e-15)\n",
      "\n"
     ]
    }
   ],
   "source": [
    "for col in cols:\n",
    "    print(col)\n",
    "    print(df[col].mean(), df[col].std())\n",
    "    print(df2[col].mean(), df2[col].std())\n",
    "    \n",
    "    test_result = stats.ttest_ind(df[col], r[1][col], alternative='greater', equal_var=False)\n",
    "    print(test_result)\n",
    "    print()"
   ]
  },
  {
   "cell_type": "code",
   "execution_count": 311,
   "id": "b53c48e9",
   "metadata": {},
   "outputs": [],
   "source": [
    "# from scipy import stats\n",
    "# import numpy as np\n",
    "# rng = np.random.default_rng()\n",
    "# stats.ttest_ind(rvs1, rvs2, alternative='greater', equal_var=False)"
   ]
  },
  {
   "cell_type": "code",
   "execution_count": null,
   "id": "45574923",
   "metadata": {},
   "outputs": [],
   "source": []
  },
  {
   "cell_type": "code",
   "execution_count": null,
   "id": "125c4f38",
   "metadata": {},
   "outputs": [],
   "source": []
  },
  {
   "cell_type": "code",
   "execution_count": null,
   "id": "0211d872",
   "metadata": {},
   "outputs": [],
   "source": []
  },
  {
   "cell_type": "code",
   "execution_count": 3,
   "id": "1fbee6be",
   "metadata": {},
   "outputs": [
    {
     "data": {
      "text/plain": [
       "['experiment/20news_bert_tf-idf_MSE',\n",
       " 'experiment/20news_bert_tf-idf_BCE',\n",
       " 'experiment/20news_mpnet_tf-idf_MSE',\n",
       " 'experiment/20news_average_tf-idf_ListNet_sigmoid_L1',\n",
       " 'experiment/IMDB_mpnet_tf-idf_MSE',\n",
       " 'experiment/20news_average_tf-idf_BCE',\n",
       " 'experiment/20news_bert_tf-idf_ListNet_sigmoid_L1',\n",
       " 'experiment/agnews_mpnet_tf-idf_BCE',\n",
       " 'experiment/20news_doc2vec_tf-idf_ListNet_sigmoid_L1',\n",
       " 'experiment/20news_mpnet_tf-idf-gensim_MSE',\n",
       " 'experiment/IMDB_mpnet_tf-idf_ListNet_sigmoid_L1',\n",
       " 'experiment/wiki_mpnet_tf-idf_ListNet_sigmoid_L1',\n",
       " 'experiment/20news_mpnet_tf-idf_BCE',\n",
       " 'experiment/IMDB_mpnet_tf-idf_BCE',\n",
       " 'experiment/20news_average_tf-idf_MSE',\n",
       " 'experiment/20news_mpnet_yake_ListNet_sigmoid_L1',\n",
       " 'experiment/agnews_mpnet_tf-idf_ListNet_sigmoid_L1',\n",
       " 'experiment/20news_mpnet_yake_MSE',\n",
       " 'experiment/agnews_mpnet_tf-idf_MSE',\n",
       " 'experiment/20news_mpnet_tf-idf_ListNet_sigmoid_L1',\n",
       " 'experiment/wiki_mpnet_tf-idf_MSE',\n",
       " 'experiment/20news_mpnet_keybert_MSE',\n",
       " 'experiment/20news_doc2vec_tf-idf_BCE',\n",
       " 'experiment/20news_mpnet_tf-idf-gensim_ListNet_sigmoid_L1',\n",
       " 'experiment/20news_mpnet_tf-idf-gensim_BCE',\n",
       " 'experiment/20news_mpnet_yake_BCE',\n",
       " 'experiment/20news_mpnet_keybert_ListNet_sigmoid_L1',\n",
       " 'experiment/20news_mpnet_keybert_BCE',\n",
       " 'experiment/20news_doc2vec_tf-idf_MSE',\n",
       " 'experiment/wiki_mpnet_tf-idf_BCE']"
      ]
     },
     "execution_count": 3,
     "metadata": {},
     "output_type": "execute_result"
    }
   ],
   "source": [
    "exp_dir = 'experiment'\n",
    "keyword = ''\n",
    "keyword2 = ''\n",
    "\n",
    "x = [os.path.join(exp_dir, s) for s in os.listdir(exp_dir) if keyword in s and keyword2 in s]\n",
    "x"
   ]
  },
  {
   "cell_type": "code",
   "execution_count": 4,
   "id": "9bca7b20",
   "metadata": {},
   "outputs": [
    {
     "name": "stdout",
     "output_type": "stream",
     "text": [
      "empty folder:\n",
      "experiment/wiki_mpnet_tf-idf_BCE/default\n"
     ]
    }
   ],
   "source": [
    "# check empty folder\n",
    "import shutil\n",
    "cnt = 0\n",
    "\n",
    "print('empty folder:')\n",
    "for s in x:\n",
    "    s = os.path.join(s, 'default')\n",
    "    if 'result.json' not in os.listdir(s):\n",
    "        cnt += 1\n",
    "        print(s)"
   ]
  },
  {
   "cell_type": "code",
   "execution_count": 5,
   "id": "17311e9a",
   "metadata": {},
   "outputs": [],
   "source": [
    "s1 = '20news_mpnet_tf-idf'\n",
    "dir_f = 'experiment'"
   ]
  },
  {
   "cell_type": "code",
   "execution_count": 6,
   "id": "d8ea1b78",
   "metadata": {
    "scrolled": true
   },
   "outputs": [
    {
     "data": {
      "text/plain": [
       "precision@10                0.795590\n",
       "precisionv2@10              0.354520\n",
       "semantic_precision_v2@10    0.397500\n",
       "ndcg@10                     0.619206\n",
       "Name: 30, dtype: float64"
      ]
     },
     "execution_count": 6,
     "metadata": {},
     "output_type": "execute_result"
    },
    {
     "data": {
      "image/png": "[encoded data removed]",
      "text/plain": [
       "<Figure size 432x288 with 1 Axes>"
      ]
     },
     "metadata": {
      "needs_background": "light"
     },
     "output_type": "display_data"
    }
   ],
   "source": [
    "s = s1 + '_ListNet_sigmoid_L1'\n",
    "r = plot_single_result(f'{dir_f}/{s}/default')\n",
    "r[1][['precision@10', 'precisionv2@10', 'semantic_precision_v2@10', 'ndcg@10']].plot()\n",
    "r[1][['precision@10', 'precisionv2@10', 'semantic_precision_v2@10', 'ndcg@10']].iloc[-1]"
   ]
  },
  {
   "cell_type": "code",
   "execution_count": 7,
   "id": "30c1753a",
   "metadata": {},
   "outputs": [
    {
     "data": {
      "text/plain": [
       "precision@10                0.807238\n",
       "precisionv2@10              0.344873\n",
       "semantic_precision_v2@10    0.388074\n",
       "ndcg@10                     0.612718\n",
       "Name: 30, dtype: float64"
      ]
     },
     "execution_count": 7,
     "metadata": {},
     "output_type": "execute_result"
    },
    {
     "data": {
      "image/png": "[encoded data removed]",
      "text/plain": [
       "<Figure size 432x288 with 1 Axes>"
      ]
     },
     "metadata": {
      "needs_background": "light"
     },
     "output_type": "display_data"
    }
   ],
   "source": [
    "s = s1 + '_BCE'\n",
    "r = plot_single_result(f'{dir_f}/{s}/default')\n",
    "r[1][['precision@10', 'precisionv2@10', 'semantic_precision_v2@10', 'ndcg@10']].plot()\n",
    "r[1][['precision@10', 'precisionv2@10', 'semantic_precision_v2@10', 'ndcg@10']].iloc[-1]"
   ]
  },
  {
   "cell_type": "code",
   "execution_count": 8,
   "id": "8568538c",
   "metadata": {},
   "outputs": [
    {
     "data": {
      "text/plain": [
       "precision@10                0.741254\n",
       "precisionv2@10              0.289095\n",
       "semantic_precision_v2@10    0.342323\n",
       "ndcg@10                     0.524411\n",
       "Name: 30, dtype: float64"
      ]
     },
     "execution_count": 8,
     "metadata": {},
     "output_type": "execute_result"
    },
    {
     "data": {
      "image/png": "[encoded data removed]",
      "text/plain": [
       "<Figure size 432x288 with 1 Axes>"
      ]
     },
     "metadata": {
      "needs_background": "light"
     },
     "output_type": "display_data"
    }
   ],
   "source": [
    "s = s1 + '_MSE'\n",
    "r = plot_single_result(f'{dir_f}/{s}/default')\n",
    "r[1][['precision@10', 'precisionv2@10', 'semantic_precision_v2@10', 'ndcg@10']].plot()\n",
    "r[1][['precision@10', 'precisionv2@10', 'semantic_precision_v2@10', 'ndcg@10']].iloc[-1]"
   ]
  },
  {
   "cell_type": "markdown",
   "id": "1dcb11cb",
   "metadata": {},
   "source": [
    "## Cross Domain"
   ]
  },
  {
   "cell_type": "code",
   "execution_count": 488,
   "id": "ab21ede4",
   "metadata": {},
   "outputs": [
    {
     "data": {
      "text/plain": [
       "['experiment_cross_0510/cross_wiki_20news_mpnet_tf-idf_BCE',\n",
       " 'experiment_cross_0510/cross_wiki_20news_mpnet_tf-idf_ListNet2',\n",
       " 'experiment_cross_0510/cross_wiki_20news_mpnet_tf-idf_ListNet3',\n",
       " 'experiment_cross_0510/cross_wiki_20news_mpnet_tf-idf_ListNet_sigmoid_L1',\n",
       " 'experiment_cross_0510/cross_wiki_20news_mpnet_tf-idf_MSE',\n",
       " 'experiment_cross_0510/cross_wiki_IMDB_mpnet_tf-idf_BCE',\n",
       " 'experiment_cross_0510/cross_wiki_IMDB_mpnet_tf-idf_ListNet2',\n",
       " 'experiment_cross_0510/cross_wiki_IMDB_mpnet_tf-idf_ListNet3',\n",
       " 'experiment_cross_0510/cross_wiki_IMDB_mpnet_tf-idf_ListNet_sigmoid_L1',\n",
       " 'experiment_cross_0510/cross_wiki_IMDB_mpnet_tf-idf_MSE',\n",
       " 'experiment_cross_0510/cross_wiki_agnews_mpnet_tf-idf_BCE',\n",
       " 'experiment_cross_0510/cross_wiki_agnews_mpnet_tf-idf_ListNet2',\n",
       " 'experiment_cross_0510/cross_wiki_agnews_mpnet_tf-idf_ListNet3',\n",
       " 'experiment_cross_0510/cross_wiki_agnews_mpnet_tf-idf_ListNet_sigmoid_L1',\n",
       " 'experiment_cross_0510/cross_wiki_agnews_mpnet_tf-idf_MSE']"
      ]
     },
     "execution_count": 488,
     "metadata": {},
     "output_type": "execute_result"
    }
   ],
   "source": [
    "exp_dir = 'experiment_cross_0510'\n",
    "x = [os.path.join(exp_dir, s) for s in sorted(os.listdir(exp_dir)) if keyword in s and keyword2 in s]\n",
    "x"
   ]
  },
  {
   "cell_type": "code",
   "execution_count": 507,
   "id": "82253450",
   "metadata": {},
   "outputs": [],
   "source": [
    "dir_f = 'experiment_cross_0510'\n",
    "dir_f2 = 'parameters_baseline'\n",
    "s1 = 'cross_wiki_20news_mpnet_tf-idf_'"
   ]
  },
  {
   "cell_type": "code",
   "execution_count": 508,
   "id": "8213b614",
   "metadata": {},
   "outputs": [
    {
     "data": {
      "text/plain": [
       "precision@10                0.329158\n",
       "precisionv2@10              0.116146\n",
       "semantic_precision_v2@10    0.227469\n",
       "ndcg@10                     0.231020\n",
       "Name: 4, dtype: float64"
      ]
     },
     "execution_count": 508,
     "metadata": {},
     "output_type": "execute_result"
    },
    {
     "data": {
      "image/png": "[encoded data removed]",
      "text/plain": [
       "<Figure size 432x288 with 1 Axes>"
      ]
     },
     "metadata": {
      "needs_background": "light"
     },
     "output_type": "display_data"
    }
   ],
   "source": [
    "s = s1 + 'BCE'\n",
    "r = plot_single_result(f'{dir_f}/{s}/{dir_f2}')\n",
    "r[1][['precision@10', 'precisionv2@10', 'semantic_precision_v2@10', 'ndcg@10']].plot()\n",
    "r[1][['precision@10', 'precisionv2@10', 'semantic_precision_v2@10', 'ndcg@10']].iloc[-1]"
   ]
  },
  {
   "cell_type": "code",
   "execution_count": 509,
   "id": "a1f942d9",
   "metadata": {},
   "outputs": [
    {
     "data": {
      "text/plain": [
       "precision@10                0.296354\n",
       "precisionv2@10              0.112024\n",
       "semantic_precision_v2@10    0.216730\n",
       "ndcg@10                     0.212829\n",
       "Name: 4, dtype: float64"
      ]
     },
     "execution_count": 509,
     "metadata": {},
     "output_type": "execute_result"
    },
    {
     "data": {
      "image/png": "[encoded data removed]",
      "text/plain": [
       "<Figure size 432x288 with 1 Axes>"
      ]
     },
     "metadata": {
      "needs_background": "light"
     },
     "output_type": "display_data"
    }
   ],
   "source": [
    "s = s1 + 'MSE'\n",
    "r = plot_single_result(f'{dir_f}/{s}/{dir_f2}')\n",
    "r[1][['precision@10', 'precisionv2@10', 'semantic_precision_v2@10', 'ndcg@10']].plot()\n",
    "r[1][['precision@10', 'precisionv2@10', 'semantic_precision_v2@10', 'ndcg@10']].iloc[-1]"
   ]
  },
  {
   "cell_type": "code",
   "execution_count": 510,
   "id": "1ad12664",
   "metadata": {},
   "outputs": [
    {
     "data": {
      "text/plain": [
       "precision@10                0.313290\n",
       "precisionv2@10              0.113057\n",
       "semantic_precision_v2@10    0.223895\n",
       "ndcg@10                     0.226814\n",
       "Name: 4, dtype: float64"
      ]
     },
     "execution_count": 510,
     "metadata": {},
     "output_type": "execute_result"
    },
    {
     "data": {
      "image/png": "[encoded data removed]",
      "text/plain": [
       "<Figure size 432x288 with 1 Axes>"
      ]
     },
     "metadata": {
      "needs_background": "light"
     },
     "output_type": "display_data"
    }
   ],
   "source": [
    "s = s1 + 'ListNet2'\n",
    "r = plot_single_result(f'{dir_f}/{s}/{dir_f2}')\n",
    "r[1][['precision@10', 'precisionv2@10', 'semantic_precision_v2@10', 'ndcg@10']].plot()\n",
    "r[1][['precision@10', 'precisionv2@10', 'semantic_precision_v2@10', 'ndcg@10']].iloc[-1]"
   ]
  },
  {
   "cell_type": "code",
   "execution_count": 511,
   "id": "bfccdf27",
   "metadata": {},
   "outputs": [
    {
     "data": {
      "text/plain": [
       "precision@10                0.309995\n",
       "precisionv2@10              0.113165\n",
       "semantic_precision_v2@10    0.219720\n",
       "ndcg@10                     0.227216\n",
       "Name: 4, dtype: float64"
      ]
     },
     "execution_count": 511,
     "metadata": {},
     "output_type": "execute_result"
    },
    {
     "data": {
      "image/png": "[encoded data removed]",
      "text/plain": [
       "<Figure size 432x288 with 1 Axes>"
      ]
     },
     "metadata": {
      "needs_background": "light"
     },
     "output_type": "display_data"
    }
   ],
   "source": [
    "s = s1 + 'ListNet3'\n",
    "r = plot_single_result(f'{dir_f}/{s}/{dir_f2}')\n",
    "r[1][['precision@10', 'precisionv2@10', 'semantic_precision_v2@10', 'ndcg@10']].plot()\n",
    "r[1][['precision@10', 'precisionv2@10', 'semantic_precision_v2@10', 'ndcg@10']].iloc[-1]"
   ]
  },
  {
   "cell_type": "code",
   "execution_count": 512,
   "id": "e0d7910c",
   "metadata": {},
   "outputs": [
    {
     "data": {
      "text/plain": [
       "precision@10                0.315401\n",
       "precisionv2@10              0.113111\n",
       "semantic_precision_v2@10    0.226446\n",
       "ndcg@10                     0.226671\n",
       "Name: 4, dtype: float64"
      ]
     },
     "execution_count": 512,
     "metadata": {},
     "output_type": "execute_result"
    },
    {
     "data": {
      "image/png": "[encoded data removed]",
      "text/plain": [
       "<Figure size 432x288 with 1 Axes>"
      ]
     },
     "metadata": {
      "needs_background": "light"
     },
     "output_type": "display_data"
    }
   ],
   "source": [
    "s = s1 + 'ListNet_sigmoid_L1'\n",
    "r = plot_single_result(f'{dir_f}/{s}/{dir_f2}')\n",
    "r[1][['precision@10', 'precisionv2@10', 'semantic_precision_v2@10', 'ndcg@10']].plot()\n",
    "r[1][['precision@10', 'precisionv2@10', 'semantic_precision_v2@10', 'ndcg@10']].iloc[-1]"
   ]
  }
 ],
 "metadata": {
  "kernelspec": {
   "display_name": "Python 3",
   "language": "python",
   "name": "python3"
  },
  "language_info": {
   "codemirror_mode": {
    "name": "ipython",
    "version": 3
   },
   "file_extension": ".py",
   "mimetype": "text/x-python",
   "name": "python",
   "nbconvert_exporter": "python",
   "pygments_lexer": "ipython3",
   "version": "3.7.0"
  }
 },
 "nbformat": 4,
 "nbformat_minor": 5
}
