{
 "cells": [
  {
   "cell_type": "markdown",
   "metadata": {
    "id": "qmZ1uZecv7qW"
   },
   "source": [
    "# Tutorial: Combined Topic Modeling\n",
    "\n",
    "(last updated 10-05-2021)\n",
    "\n",
    "In this tutorial, we are going to use our **Combined Topic Model** to get the topics out of a collections of articles.\n",
    "\n",
    "## Topic Models \n",
    "\n",
    "Topic models allow you to discover latent topics in your documents in a completely unsupervised way. Just use your documents and get topics out.\n",
    "\n",
    "## Contextualized Topic Models\n",
    "\n",
    "![](https://raw.githubusercontent.com/MilaNLProc/contextualized-topic-models/master/img/logo.png)\n",
    "\n",
    "What are Contextualized Topic Models? **CTMs** are a family of topic models that combine the expressive power of BERT embeddings with the unsupervised capabilities of topic models to get topics out of documents. \n",
    "\n",
    "## Python Package\n",
    "\n",
    "You can find our package [here](https://github.com/MilaNLProc/contextualized-topic-models).\n",
    "\n",
    "![https://github.com/MilaNLProc/contextualized-topic-models/actions](https://github.com/MilaNLProc/contextualized-topic-models/workflows/Python%20package/badge.svg) ![https://pypi.python.org/pypi/contextualized_topic_models](https://img.shields.io/pypi/v/contextualized_topic_models.svg) ![https://pepy.tech/badge/contextualized-topic-models](https://pepy.tech/badge/contextualized-topic-models)\n",
    "\n",
    "# **Before you start...**\n",
    "\n",
    "If you have additional questions about these topics, follow the links:\n",
    "\n",
    "- you need to work with languages different than English: [click here!](https://contextualized-topic-models.readthedocs.io/en/latest/language.html#language-specific)\n",
    "- you can't get good results with topic models: [click here!](https://contextualized-topic-models.readthedocs.io/en/latest/faq.html#i-am-getting-very-poor-results-what-can-i-do)\n",
    "- you want to load your own embeddings: [click here!](https://contextualized-topic-models.readthedocs.io/en/latest/faq.html#can-i-load-my-own-embeddings)\n"
   ]
  },
  {
   "cell_type": "markdown",
   "metadata": {
    "id": "ln23-soXeQk3"
   },
   "source": [
    "# Enabling the GPU\n",
    "\n",
    "First, you'll need to enable GPUs for the notebook:\n",
    "\n",
    "- Navigate to Edit→Notebook Settings\n",
    "- select GPU from the Hardware Accelerator drop-down\n",
    "\n",
    "[Reference](https://colab.research.google.com/notebooks/gpu.ipynb)"
   ]
  },
  {
   "cell_type": "markdown",
   "metadata": {
    "id": "QsNRo8I8Yem2"
   },
   "source": [
    "# Installing Contextualized Topic Models\n",
    "\n",
    "First, we install the contextualized topic model library"
   ]
  },
  {
   "cell_type": "code",
   "execution_count": 1,
   "metadata": {
    "id": "BUw5EQi8v9r1"
   },
   "outputs": [],
   "source": [
    "%%capture\n",
    "!pip install contextualized-topic-models==2.2.0"
   ]
  },
  {
   "cell_type": "code",
   "execution_count": 2,
   "metadata": {
    "id": "Jv9EL0V5-Xnp"
   },
   "outputs": [],
   "source": [
    "%%capture\n",
    "!pip install pyldavis"
   ]
  },
  {
   "cell_type": "markdown",
   "metadata": {
    "id": "9AzfVSJfZE2f"
   },
   "source": [
    "## Restart the Notebook\n",
    "\n",
    "For the changes to take effect, we now need to restart the notebook.\n",
    "\n",
    "From the Menu:\n",
    "\n",
    "Runtime → Restart Runtime"
   ]
  },
  {
   "cell_type": "markdown",
   "metadata": {
    "id": "sgxRbgSZ9MsB"
   },
   "source": [
    "# Data\n",
    "\n",
    "We are going to need some data. You should upload a file with one document per line. We assume you haven't run any preprocessing script.\n",
    "\n",
    "However, if you want to first test the model without uploading your data, you can simply use the test file I'm putting here"
   ]
  },
  {
   "cell_type": "code",
   "execution_count": 3,
   "metadata": {
    "id": "iZEPr_QFJdBz"
   },
   "outputs": [],
   "source": [
    "%%capture\n",
    "!wget https://raw.githubusercontent.com/vinid/data/master/dbpedia_sample_abstract_20k_unprep.txt"
   ]
  },
  {
   "cell_type": "code",
   "execution_count": 4,
   "metadata": {
    "colab": {
     "base_uri": "https://localhost:8080/"
    },
    "id": "pKZ9Yk0qJvxd",
    "outputId": "232cf827-8cda-4ede-fa10-140a337e2e5d"
   },
   "outputs": [
    {
     "name": "stdout",
     "output_type": "stream",
     "text": [
      "The Mid-Peninsula Highway is a proposed freeway across the Niagara Peninsula in the Canadian province of Ontario. Although plans for a highway connecting Hamilton to Fort Erie south of the Niagara Escarpment have surfaced for decades,it was not until The Niagara Frontier International Gateway Study was published by the Ministry\r\n"
     ]
    }
   ],
   "source": [
    "!head -n 1 dbpedia_sample_abstract_20k_unprep.txt"
   ]
  },
  {
   "cell_type": "code",
   "execution_count": 5,
   "metadata": {
    "id": "WXZ8fOdYwdWO"
   },
   "outputs": [],
   "source": [
    "text_file = \"dbpedia_sample_abstract_20k_unprep.txt\" # EDIT THIS WITH THE FILE YOU UPLOAD"
   ]
  },
  {
   "cell_type": "markdown",
   "metadata": {
    "id": "M0c_ftxjxY_H"
   },
   "source": [
    "# Importing what we need"
   ]
  },
  {
   "cell_type": "code",
   "execution_count": 6,
   "metadata": {
    "id": "SZmTpQUov8y8"
   },
   "outputs": [],
   "source": [
    "from contextualized_topic_models.models.ctm import CombinedTM\n",
    "from contextualized_topic_models.utils.data_preparation import TopicModelDataPreparation\n",
    "from contextualized_topic_models.utils.preprocessing import WhiteSpacePreprocessing\n",
    "import nltk"
   ]
  },
  {
   "cell_type": "markdown",
   "metadata": {
    "id": "CQkeIrdWLU2m"
   },
   "source": [
    "## Preprocessing"
   ]
  },
  {
   "cell_type": "markdown",
   "metadata": {
    "id": "V-AM070Ez6lW"
   },
   "source": [
    "Why do we use the **preprocessed text** here? We need text without punctuation to build the bag of word. Also, we might want only to have the most frequent words inside the BoW. Too many words might not help."
   ]
  },
  {
   "cell_type": "code",
   "execution_count": 7,
   "metadata": {
    "colab": {
     "base_uri": "https://localhost:8080/"
    },
    "id": "HoKrSIkxaNBt",
    "outputId": "4c46197c-34eb-4199-81ff-a3c6f23c8fa7"
   },
   "outputs": [
    {
     "name": "stderr",
     "output_type": "stream",
     "text": [
      "[nltk_data] Downloading package stopwords to\n",
      "[nltk_data]     /home/chrisliu/nltk_data...\n",
      "[nltk_data]   Package stopwords is already up-to-date!\n"
     ]
    }
   ],
   "source": [
    "nltk.download('stopwords')\n",
    "\n",
    "documents = [line.strip() for line in open(text_file, encoding=\"utf-8\").readlines()]\n",
    "sp = WhiteSpacePreprocessing(documents, stopwords_language='english')\n",
    "preprocessed_documents, unpreprocessed_corpus, vocab = sp.preprocess()"
   ]
  },
  {
   "cell_type": "code",
   "execution_count": 8,
   "metadata": {},
   "outputs": [],
   "source": [
    "# load 20news\n",
    "import sys \n",
    "sys.path.append(\"../\")\n",
    "from utils.data_loader import load_document\n",
    "dataset = \"20news\"\n",
    "raw_documents = load_document(dataset)[\"documents\"]\n",
    "\n",
    "sp = WhiteSpacePreprocessing(raw_documents, stopwords_language='english')\n",
    "preprocessed_documents, unpreprocessed_corpus, vocab = sp.preprocess()"
   ]
  },
  {
   "cell_type": "code",
   "execution_count": 9,
   "metadata": {
    "colab": {
     "base_uri": "https://localhost:8080/"
    },
    "id": "IDxo_ERVonRE",
    "outputId": "cd831aac-0eb9-4a3c-f8ef-efd6432d3308"
   },
   "outputs": [
    {
     "data": {
      "text/plain": [
       "['berkeley edu subject behind article organization university california berkeley lines nntp posting host berkeley edu net writes run higher last year much good think season far lead top even better atlanta braves know early season fans short still',\n",
       " 'rutgers edu subject thanks apple free article apr organization rutgers univ new lines well got yesterday took two weeks order dealer rutgers computer store apple made order one without one wanted know would must shipping anyway happy decided open first time scsi cable hard drive connected must come shipping big deal would tried come hard drive also high heard apple might try get also lack power mentioned saw also keyboard control functions much oh screen seems way power seen mentioned others must anyway fast great machine great price physics rutgers edu']"
      ]
     },
     "execution_count": 9,
     "metadata": {},
     "output_type": "execute_result"
    }
   ],
   "source": [
    "preprocessed_documents[:2]"
   ]
  },
  {
   "cell_type": "code",
   "execution_count": 10,
   "metadata": {},
   "outputs": [
    {
     "data": {
      "text/plain": [
       "18846"
      ]
     },
     "execution_count": 10,
     "metadata": {},
     "output_type": "execute_result"
    }
   ],
   "source": [
    "len(preprocessed_documents)"
   ]
  },
  {
   "cell_type": "markdown",
   "metadata": {
    "id": "stAb2Q4eBB3W"
   },
   "source": [
    "We don't discard the non-preprocessed texts, because we are going to use them as input for obtaining the contextualized document representations. \n",
    "\n",
    "Let's pass our files with preprocess and unpreprocessed data to our `TopicModelDataPreparation` object. This object takes care of creating the bag of words for you and of obtaining the contextualized BERT representations of documents. This operation allows us to create our training dataset.\n",
    "\n",
    "Note: Here we use the contextualized model \"paraphrase-distilroberta-base-v1\".\n"
   ]
  },
  {
   "cell_type": "code",
   "execution_count": 11,
   "metadata": {
    "colab": {
     "base_uri": "https://localhost:8080/",
     "height": 81,
     "referenced_widgets": [
      "9a104fba32e4458293bc59c0cf0ae516",
      "c97cca45dff241019ccbe54ae8849eda",
      "f2b51fe892df4ea79015e1c1ec2750e5",
      "c943462d183f4c199487a73a1d5384da",
      "a4b39f79f8dd4616a1a656443ca7d8d6",
      "c0b81ba3298642dc9182d14605187faa",
      "a5e9a52c048a48829f33369988962434",
      "dc8cf011110941f5990c040098262105",
      "a88c1f8bdd154a8ebf0da92744eec2da",
      "b9859fdef4f94727bf5f441101e46336",
      "aa26f2b6b38841d59d5e7d5c5e39fcbe",
      "fcbe1de1a4e94ed7ae4bcad633975a60",
      "3c9495c104364d34a882500a7322be0d",
      "d5a3986e6a43443a85f7e86167152321",
      "b771eb6308de4a4d9a83427cb3ada7a0",
      "2a8463d07d654ffd86a3c77c5df414fa",
      "dfc7dc989af1449387b4ba9a41ca6c9e",
      "b314c321e2c0438399df422fc7c59426",
      "d125f7e7522e46eb8d039ba325f6dc47",
      "54c61fae70154d5d9161e6abbf228a07",
      "cabdec3fec4540cb88d6e35e23aa29de",
      "0f13296f1d2a4748bafd32bab2143b1e"
     ]
    },
    "id": "KhLt6VA3wvCB",
    "outputId": "b05ad1a5-e833-468c-f33e-5cc0f83fd691"
   },
   "outputs": [
    {
     "data": {
      "application/vnd.jupyter.widget-view+json": {
       "model_id": "d0aa3def463f44fb9a93eb30571e0b00",
       "version_major": 2,
       "version_minor": 0
      },
      "text/plain": [
       "Batches:   0%|          | 0/95 [00:00<?, ?it/s]"
      ]
     },
     "metadata": {},
     "output_type": "display_data"
    }
   ],
   "source": [
    "tp = TopicModelDataPreparation(\"paraphrase-distilroberta-base-v1\")\n",
    "\n",
    "training_dataset = tp.fit(text_for_contextual=unpreprocessed_corpus, text_for_bow=preprocessed_documents)"
   ]
  },
  {
   "cell_type": "markdown",
   "metadata": {
    "id": "-aevSxSBbYZG"
   },
   "source": [
    "Let's check the first ten words of the vocabulary "
   ]
  },
  {
   "cell_type": "code",
   "execution_count": 12,
   "metadata": {
    "colab": {
     "base_uri": "https://localhost:8080/"
    },
    "id": "evwSKgdyyhWq",
    "outputId": "0469319e-7962-47a1-a7ec-d71c7b3c6028"
   },
   "outputs": [
    {
     "data": {
      "text/plain": [
       "['ab',\n",
       " 'ability',\n",
       " 'able',\n",
       " 'absolute',\n",
       " 'absolutely',\n",
       " 'ac',\n",
       " 'accept',\n",
       " 'accepted',\n",
       " 'access',\n",
       " 'according']"
      ]
     },
     "execution_count": 12,
     "metadata": {},
     "output_type": "execute_result"
    }
   ],
   "source": [
    "tp.vocab[:10]"
   ]
  },
  {
   "cell_type": "markdown",
   "metadata": {
    "id": "4x-esnySk7uO"
   },
   "source": [
    "## Training our Combined TM\n",
    "\n",
    "Finally, we can fit our new topic model. We will ask the model to find 50 topics in our collection."
   ]
  },
  {
   "cell_type": "code",
   "execution_count": 17,
   "metadata": {},
   "outputs": [],
   "source": [
    "from contextualized_topic_models.evaluation.measures import CoherenceNPMI, InvertedRBO\n",
    "\n",
    "texts = [text.split() for text in preprocessed_documents]\n",
    "# npmi = CoherenceNPMI(texts=texts, topics=ctm.get_topic_lists(10))\n",
    "# npmi.score()"
   ]
  },
  {
   "cell_type": "code",
   "execution_count": 18,
   "metadata": {},
   "outputs": [],
   "source": [
    "import datetime\n",
    "import multiprocessing as mp\n",
    "import os\n",
    "import warnings\n",
    "from collections import defaultdict\n",
    "import matplotlib.pyplot as plt\n",
    "import numpy as np\n",
    "import torch\n",
    "import wordcloud\n",
    "from scipy.special import softmax\n",
    "from torch import optim\n",
    "from torch.optim.lr_scheduler import ReduceLROnPlateau\n",
    "from torch.utils.data import DataLoader\n",
    "from tqdm.auto import tqdm\n",
    "from contextualized_topic_models.utils.early_stopping.early_stopping import EarlyStopping\n",
    "from contextualized_topic_models.networks.decoding_network import DecoderNetwork\n",
    "\n",
    "\n",
    "class CTM:\n",
    "    \"\"\"Class to train the contextualized topic model. This is the more general class that we are keeping to\n",
    "    avoid braking code, users should use the two subclasses ZeroShotTM and CombinedTm to do topic modeling.\n",
    "    :param bow_size: int, dimension of input\n",
    "    :param contextual_size: int, dimension of input that comes from BERT embeddings\n",
    "    :param inference_type: string, you can choose between the contextual model and the combined model\n",
    "    :param n_components: int, number of topic components, (default 10)\n",
    "    :param model_type: string, 'prodLDA' or 'LDA' (default 'prodLDA')\n",
    "    :param hidden_sizes: tuple, length = n_layers, (default (100, 100))\n",
    "    :param activation: string, 'softplus', 'relu', (default 'softplus')\n",
    "    :param dropout: float, dropout to use (default 0.2)\n",
    "    :param learn_priors: bool, make priors a learnable parameter (default True)\n",
    "    :param batch_size: int, size of batch to use for training (default 64)\n",
    "    :param lr: float, learning rate to use for training (default 2e-3)\n",
    "    :param momentum: float, momentum to use for training (default 0.99)\n",
    "    :param solver: string, optimizer 'adam' or 'sgd' (default 'adam')\n",
    "    :param num_epochs: int, number of epochs to train for, (default 100)\n",
    "    :param reduce_on_plateau: bool, reduce learning rate by 10x on plateau of 10 epochs (default False)\n",
    "    :param num_data_loader_workers: int, number of data loader workers (default cpu_count). set it to 0 if you are using Windows\n",
    "    :param label_size: int, number of total labels (default: 0)\n",
    "    :param loss_weights: dict, it contains the name of the weight parameter (key) and the weight (value) for each loss.\n",
    "    It supports only the weight parameter beta for now. If None, then the weights are set to 1 (default: None).\n",
    "    \"\"\"\n",
    "\n",
    "    def __init__(self, bow_size, contextual_size, inference_type=\"combined\", n_components=10, model_type='prodLDA',\n",
    "                 hidden_sizes=(100, 100), activation='softplus', dropout=0.2, learn_priors=True, batch_size=64,\n",
    "                 lr=2e-3, momentum=0.99, solver='adam', num_epochs=100, reduce_on_plateau=False,\n",
    "                 num_data_loader_workers=mp.cpu_count(), label_size=0, loss_weights=None):\n",
    "\n",
    "        self.device = (\n",
    "                torch.device(\"cuda\")\n",
    "                if torch.cuda.is_available()\n",
    "                else torch.device(\"cpu\")\n",
    "            )\n",
    "\n",
    "        if self.__class__.__name__ == \"CTM\":\n",
    "            raise Exception(\"You cannot call this class. Use ZeroShotTM or CombinedTM\")\n",
    "\n",
    "        assert isinstance(bow_size, int) and bow_size > 0, \\\n",
    "            \"input_size must by type int > 0.\"\n",
    "        assert isinstance(n_components, int) and bow_size > 0, \\\n",
    "            \"n_components must by type int > 0.\"\n",
    "        assert model_type in ['LDA', 'prodLDA'], \\\n",
    "            \"model must be 'LDA' or 'prodLDA'.\"\n",
    "        assert isinstance(hidden_sizes, tuple), \\\n",
    "            \"hidden_sizes must be type tuple.\"\n",
    "        assert activation in ['softplus', 'relu'], \\\n",
    "            \"activation must be 'softplus' or 'relu'.\"\n",
    "        assert dropout >= 0, \"dropout must be >= 0.\"\n",
    "        assert isinstance(learn_priors, bool), \"learn_priors must be boolean.\"\n",
    "        assert isinstance(batch_size, int) and batch_size > 0, \\\n",
    "            \"batch_size must be int > 0.\"\n",
    "        assert lr > 0, \"lr must be > 0.\"\n",
    "        assert isinstance(momentum, float) and 0 < momentum <= 1, \\\n",
    "            \"momentum must be 0 < float <= 1.\"\n",
    "        assert solver in ['adam', 'sgd'], \"solver must be 'adam' or 'sgd'.\"\n",
    "        assert isinstance(reduce_on_plateau, bool), \\\n",
    "            \"reduce_on_plateau must be type bool.\"\n",
    "        assert isinstance(num_data_loader_workers, int) and num_data_loader_workers >= 0, \\\n",
    "            \"num_data_loader_workers must by type int >= 0. set 0 if you are using windows\"\n",
    "\n",
    "        self.bow_size = bow_size\n",
    "        self.n_components = n_components\n",
    "        self.model_type = model_type\n",
    "        self.hidden_sizes = hidden_sizes\n",
    "        self.activation = activation\n",
    "        self.dropout = dropout\n",
    "        self.learn_priors = learn_priors\n",
    "        self.batch_size = batch_size\n",
    "        self.lr = lr\n",
    "        self.contextual_size = contextual_size\n",
    "        self.momentum = momentum\n",
    "        self.solver = solver\n",
    "        self.num_epochs = num_epochs\n",
    "        self.reduce_on_plateau = reduce_on_plateau\n",
    "        self.num_data_loader_workers = num_data_loader_workers\n",
    "        self.training_doc_topic_distributions = None\n",
    "\n",
    "        if loss_weights:\n",
    "            self.weights = loss_weights\n",
    "        else:\n",
    "            self.weights = {\"beta\": 1}\n",
    "\n",
    "        self.model = DecoderNetwork(\n",
    "            bow_size, self.contextual_size, inference_type, n_components, model_type, hidden_sizes, activation,\n",
    "            dropout, learn_priors, label_size=label_size)\n",
    "\n",
    "        self.early_stopping = None\n",
    "\n",
    "        # init optimizer\n",
    "        if self.solver == 'adam':\n",
    "            self.optimizer = optim.Adam(\n",
    "                self.model.parameters(), lr=lr, betas=(self.momentum, 0.99))\n",
    "        elif self.solver == 'sgd':\n",
    "            self.optimizer = optim.SGD(\n",
    "                self.model.parameters(), lr=lr, momentum=self.momentum)\n",
    "\n",
    "        # init lr scheduler\n",
    "        if self.reduce_on_plateau:\n",
    "            self.scheduler = ReduceLROnPlateau(self.optimizer, patience=10)\n",
    "\n",
    "        # performance attributes\n",
    "        self.best_loss_train = float('inf')\n",
    "\n",
    "        # training attributes\n",
    "        self.model_dir = None\n",
    "        self.train_data = None\n",
    "        self.nn_epoch = None\n",
    "\n",
    "        # validation attributes\n",
    "        self.validation_data = None\n",
    "\n",
    "        # learned topics\n",
    "        self.best_components = None\n",
    "\n",
    "        # Use cuda if available\n",
    "        if torch.cuda.is_available():\n",
    "            self.USE_CUDA = True\n",
    "        else:\n",
    "            self.USE_CUDA = False\n",
    "\n",
    "        self.model = self.model.to(self.device)\n",
    "\n",
    "    def _loss(self, inputs, word_dists, prior_mean, prior_variance,\n",
    "              posterior_mean, posterior_variance, posterior_log_variance):\n",
    "\n",
    "        # KL term\n",
    "        # var division term\n",
    "        var_division = torch.sum(posterior_variance / prior_variance, dim=1)\n",
    "        # diff means term\n",
    "        diff_means = prior_mean - posterior_mean\n",
    "        diff_term = torch.sum(\n",
    "            (diff_means * diff_means) / prior_variance, dim=1)\n",
    "        # logvar det division term\n",
    "        logvar_det_division = \\\n",
    "            prior_variance.log().sum() - posterior_log_variance.sum(dim=1)\n",
    "        # combine terms\n",
    "        KL = 0.5 * (\n",
    "            var_division + diff_term - self.n_components + logvar_det_division)\n",
    "        \n",
    "        # print('unique',torch.unique(inputs[0]))\n",
    "#         inputs[inputs > 1] = 1\n",
    "        # Reconstruction term\n",
    "\n",
    "        inputs = torch.nn.functional.normalize(inputs, p=1)\n",
    "        \n",
    "#         word_dists = torch.sigmoid(word_dists)\n",
    "#         word_dists = torch.nn.functional.normalize(word_dists, p=1)\n",
    "        \n",
    "#         word_dists = word_dists + 1e-10\n",
    "#         word_dists = torch.log(word_dists)\n",
    "    \n",
    "#         RL = torch.sum(-inputs * word_dists, dim=1)\n",
    "        \n",
    "#         RL = -torch.sum(inputs * torch.log(word_dists + 1e-10), dim=1)\n",
    "        RL = torch.nn.MSELoss()(word_dists, inputs)\n",
    "        #loss = self.weights[\"beta\"]*KL + RL\n",
    "\n",
    "        return KL, RL\n",
    "\n",
    "    def _train_epoch(self, loader):\n",
    "        \"\"\"Train epoch.\"\"\"\n",
    "        self.model.train()\n",
    "        train_loss = 0\n",
    "        samples_processed = 0\n",
    "\n",
    "        for batch_samples in loader:\n",
    "            # batch_size x vocab_size\n",
    "            X_bow = batch_samples['X_bow']\n",
    "            X_bow = X_bow.reshape(X_bow.shape[0], -1)\n",
    "            X_contextual = batch_samples['X_contextual']\n",
    "\n",
    "            if \"labels\" in batch_samples.keys():\n",
    "                labels = batch_samples[\"labels\"]\n",
    "                labels = labels.reshape(labels.shape[0], -1)\n",
    "                labels = labels.to(self.device)\n",
    "            else:\n",
    "                labels = None\n",
    "\n",
    "            if self.USE_CUDA:\n",
    "                X_bow = X_bow.cuda()\n",
    "                X_contextual = X_contextual.cuda()\n",
    "\n",
    "            # forward pass\n",
    "            self.model.zero_grad()\n",
    "            prior_mean, prior_variance, posterior_mean, posterior_variance,\\\n",
    "            posterior_log_variance, word_dists, estimated_labels = self.model(X_bow, X_contextual, labels)\n",
    "\n",
    "            # backward pass\n",
    "            kl_loss, rl_loss = self._loss(\n",
    "                X_bow, word_dists, prior_mean, prior_variance,\n",
    "                posterior_mean, posterior_variance, posterior_log_variance)\n",
    "\n",
    "            loss = self.weights[\"beta\"]*kl_loss + rl_loss\n",
    "            loss = loss.sum()\n",
    "\n",
    "            if labels is not None:\n",
    "                target_labels = torch.argmax(labels, 1)\n",
    "\n",
    "                label_loss = torch.nn.CrossEntropyLoss()(estimated_labels, target_labels)\n",
    "                loss += label_loss\n",
    "\n",
    "            loss.backward()\n",
    "            self.optimizer.step()\n",
    "\n",
    "            # compute train loss\n",
    "            samples_processed += X_bow.size()[0]\n",
    "            train_loss += loss.item()\n",
    "\n",
    "        train_loss /= samples_processed\n",
    "\n",
    "        return samples_processed, train_loss\n",
    "\n",
    "    def fit(self, train_dataset, validation_dataset=None, save_dir=None, verbose=False, patience=5, delta=0,\n",
    "            n_samples=20):\n",
    "        \"\"\"\n",
    "        Train the CTM model.\n",
    "        :param train_dataset: PyTorch Dataset class for training data.\n",
    "        :param validation_dataset: PyTorch Dataset class for validation data. If not None, the training stops if validation loss doesn't improve after a given patience\n",
    "        :param save_dir: directory to save checkpoint models to.\n",
    "        :param verbose: verbose\n",
    "        :param patience: How long to wait after last time validation loss improved. Default: 5\n",
    "        :param delta: Minimum change in the monitored quantity to qualify as an improvement. Default: 0\n",
    "        :param n_samples: int, number of samples of the document topic distribution (default: 20)\n",
    "        \"\"\"\n",
    "        # Print settings to output file\n",
    "        if verbose:\n",
    "            print(\"Settings: \\n\\\n",
    "                   N Components: {}\\n\\\n",
    "                   Topic Prior Mean: {}\\n\\\n",
    "                   Topic Prior Variance: {}\\n\\\n",
    "                   Model Type: {}\\n\\\n",
    "                   Hidden Sizes: {}\\n\\\n",
    "                   Activation: {}\\n\\\n",
    "                   Dropout: {}\\n\\\n",
    "                   Learn Priors: {}\\n\\\n",
    "                   Learning Rate: {}\\n\\\n",
    "                   Momentum: {}\\n\\\n",
    "                   Reduce On Plateau: {}\\n\\\n",
    "                   Save Dir: {}\".format(\n",
    "                self.n_components, 0.0,\n",
    "                1. - (1. / self.n_components), self.model_type,\n",
    "                self.hidden_sizes, self.activation, self.dropout, self.learn_priors,\n",
    "                self.lr, self.momentum, self.reduce_on_plateau, save_dir))\n",
    "\n",
    "        self.model_dir = save_dir\n",
    "        self.train_data = train_dataset\n",
    "        self.validation_data = validation_dataset\n",
    "        if self.validation_data is not None:\n",
    "            self.early_stopping = EarlyStopping(patience=patience, verbose=verbose, path=save_dir, delta=delta)\n",
    "        train_loader = DataLoader(\n",
    "            self.train_data, batch_size=self.batch_size, shuffle=True,\n",
    "            num_workers=self.num_data_loader_workers)\n",
    "\n",
    "        # init training variables\n",
    "        train_loss = 0\n",
    "        samples_processed = 0\n",
    "\n",
    "        # train loop\n",
    "        pbar = tqdm(range(self.num_epochs), position=0, leave=True)\n",
    "        for epoch in range(self.num_epochs):\n",
    "            self.nn_epoch = epoch\n",
    "            # train epoch\n",
    "            s = datetime.datetime.now()\n",
    "            sp, train_loss = self._train_epoch(train_loader)\n",
    "            samples_processed += sp\n",
    "            e = datetime.datetime.now()\n",
    "            pbar.update(1)\n",
    "\n",
    "            if self.validation_data is not None:\n",
    "                validation_loader = DataLoader(self.validation_data, batch_size=self.batch_size, shuffle=True,\n",
    "                                               num_workers=self.num_data_loader_workers)\n",
    "                # train epoch\n",
    "                s = datetime.datetime.now()\n",
    "                val_samples_processed, val_loss = self._validation(validation_loader)\n",
    "                e = datetime.datetime.now()\n",
    "\n",
    "                # report\n",
    "                if verbose:\n",
    "                    print(\"Epoch: [{}/{}]\\tSamples: [{}/{}]\\tValidation Loss: {}\\tTime: {}\".format(\n",
    "                        epoch + 1, self.num_epochs, val_samples_processed,\n",
    "                        len(self.validation_data) * self.num_epochs, val_loss, e - s))\n",
    "\n",
    "                pbar.set_description(\"Epoch: [{}/{}]\\t Seen Samples: [{}/{}]\\tTrain Loss: {}\\tValid Loss: {}\\tTime: {}\".format(\n",
    "                    epoch + 1, self.num_epochs, samples_processed,\n",
    "                    len(self.train_data) * self.num_epochs, train_loss, val_loss, e - s))\n",
    "\n",
    "                self.early_stopping(val_loss, self)\n",
    "                if self.early_stopping.early_stop:\n",
    "                    print(\"Early stopping\")\n",
    "\n",
    "                    break\n",
    "            else:\n",
    "                # save last epoch\n",
    "                self.best_components = self.model.beta\n",
    "                if save_dir is not None:\n",
    "                    self.save(save_dir)\n",
    "            pbar.set_description(\"Epoch: [{}/{}]\\t Seen Samples: [{}/{}]\\tTrain Loss: {}\\tTime: {}\".format(\n",
    "                epoch + 1, self.num_epochs, samples_processed,\n",
    "                len(self.train_data) * self.num_epochs, train_loss, e - s))\n",
    "            if epoch % 10 == 0:\n",
    "                npmi = CoherenceNPMI(texts=texts, topics=ctm.get_topic_lists(10))\n",
    "                print('epoch', epoch)\n",
    "                print('npmi', npmi.score())\n",
    "                irbo = InvertedRBO(topics=ctm.get_topic_lists(10))\n",
    "                print('irbo', irbo.score())\n",
    "\n",
    "        pbar.close()\n",
    "        self.training_doc_topic_distributions = self.get_doc_topic_distribution(train_dataset, n_samples)\n",
    "\n",
    "    def _validation(self, loader):\n",
    "        \"\"\"Validation epoch.\"\"\"\n",
    "        self.model.eval()\n",
    "        val_loss = 0\n",
    "        samples_processed = 0\n",
    "        for batch_samples in loader:\n",
    "            # batch_size x vocab_size\n",
    "            X_bow = batch_samples['X_bow']\n",
    "            X_bow = X_bow.reshape(X_bow.shape[0], -1)\n",
    "            X_contextual = batch_samples['X_contextual']\n",
    "\n",
    "            if \"labels\" in batch_samples.keys():\n",
    "                labels = batch_samples[\"labels\"]\n",
    "                labels = labels.to(self.device)\n",
    "                labels = labels.reshape(labels.shape[0], -1)\n",
    "            else:\n",
    "                labels = None\n",
    "\n",
    "            if self.USE_CUDA:\n",
    "                X_bow = X_bow.cuda()\n",
    "                X_contextual = X_contextual.cuda()\n",
    "\n",
    "            # forward pass\n",
    "            self.model.zero_grad()\n",
    "            prior_mean, prior_variance, posterior_mean, posterior_variance, posterior_log_variance, word_dists, \\\n",
    "            estimated_labels =\\\n",
    "                self.model(X_bow, X_contextual, labels)\n",
    "\n",
    "            kl_loss, rl_loss = self._loss(X_bow, word_dists, prior_mean, prior_variance,\n",
    "                              posterior_mean, posterior_variance, posterior_log_variance)\n",
    "\n",
    "            loss = self.weights[\"beta\"]*kl_loss + rl_loss\n",
    "            loss = loss.sum()\n",
    "\n",
    "            if labels is not None:\n",
    "                target_labels = torch.argmax(labels, 1)\n",
    "                label_loss = torch.nn.CrossEntropyLoss()(estimated_labels, target_labels)\n",
    "                loss += label_loss\n",
    "\n",
    "            # compute train loss\n",
    "            samples_processed += X_bow.size()[0]\n",
    "            val_loss += loss.item()\n",
    "\n",
    "        val_loss /= samples_processed\n",
    "\n",
    "        return samples_processed, val_loss\n",
    "\n",
    "    def get_thetas(self, dataset, n_samples=20):\n",
    "        \"\"\"\n",
    "        Get the document-topic distribution for a dataset of topics. Includes multiple sampling to reduce variation via\n",
    "        the parameter n_sample.\n",
    "        :param dataset: a PyTorch Dataset containing the documents\n",
    "        :param n_samples: the number of sample to collect to estimate the final distribution (the more the better).\n",
    "        \"\"\"\n",
    "        return self.get_doc_topic_distribution(dataset, n_samples=n_samples)\n",
    "\n",
    "    def get_doc_topic_distribution(self, dataset, n_samples=20):\n",
    "        \"\"\"\n",
    "        Get the document-topic distribution for a dataset of topics. Includes multiple sampling to reduce variation via\n",
    "        the parameter n_sample.\n",
    "        :param dataset: a PyTorch Dataset containing the documents\n",
    "        :param n_samples: the number of sample to collect to estimate the final distribution (the more the better).\n",
    "        \"\"\"\n",
    "        self.model.eval()\n",
    "\n",
    "        loader = DataLoader(\n",
    "            dataset, batch_size=self.batch_size, shuffle=False,\n",
    "            num_workers=self.num_data_loader_workers)\n",
    "        pbar = tqdm(range(n_samples), position=0, leave=True)\n",
    "        final_thetas = []\n",
    "        for sample_index in range(n_samples):\n",
    "            with torch.no_grad():\n",
    "                collect_theta = []\n",
    "\n",
    "                for batch_samples in loader:\n",
    "                    # batch_size x vocab_size\n",
    "                    X_bow = batch_samples['X_bow']\n",
    "                    X_bow = X_bow.reshape(X_bow.shape[0], -1)\n",
    "                    X_contextual = batch_samples['X_contextual']\n",
    "\n",
    "                    if \"labels\" in batch_samples.keys():\n",
    "                        labels = batch_samples[\"labels\"]\n",
    "                        labels = labels.to(self.device)\n",
    "                        labels = labels.reshape(labels.shape[0], -1)\n",
    "                    else:\n",
    "                        labels = None\n",
    "\n",
    "                    if self.USE_CUDA:\n",
    "                        X_bow = X_bow.cuda()\n",
    "                        X_contextual = X_contextual.cuda()\n",
    "\n",
    "                    # forward pass\n",
    "                    self.model.zero_grad()\n",
    "                    collect_theta.extend(self.model.get_theta(X_bow, X_contextual, labels).cpu().numpy().tolist())\n",
    "\n",
    "                pbar.update(1)\n",
    "                pbar.set_description(\"Sampling: [{}/{}]\".format(sample_index + 1, n_samples))\n",
    "\n",
    "                final_thetas.append(np.array(collect_theta))\n",
    "        pbar.close()\n",
    "        return np.sum(final_thetas, axis=0) / n_samples\n",
    "\n",
    "    def get_most_likely_topic(self, doc_topic_distribution):\n",
    "        \"\"\" get the most likely topic for each document\n",
    "        :param doc_topic_distribution: ndarray representing the topic distribution of each document\n",
    "        \"\"\"\n",
    "        return np.argmax(doc_topic_distribution, axis=0)\n",
    "\n",
    "    def get_topics(self, k=10):\n",
    "        \"\"\"\n",
    "        Retrieve topic words.\n",
    "        :param k: int, number of words to return per topic, default 10.\n",
    "        \"\"\"\n",
    "        assert k <= self.bow_size, \"k must be <= input size.\"\n",
    "        component_dists = self.best_components\n",
    "        topics = defaultdict(list)\n",
    "        for i in range(self.n_components):\n",
    "            _, idxs = torch.topk(component_dists[i], k)\n",
    "            component_words = [self.train_data.idx2token[idx]\n",
    "                               for idx in idxs.cpu().numpy()]\n",
    "            topics[i] = component_words\n",
    "        return topics\n",
    "\n",
    "    def get_topic_lists(self, k=10):\n",
    "        \"\"\"\n",
    "        Retrieve the lists of topic words.\n",
    "        :param k: (int) number of words to return per topic, default 10.\n",
    "        \"\"\"\n",
    "        assert k <= self.bow_size, \"k must be <= input size.\"\n",
    "        # TODO: collapse this method with the one that just returns the topics\n",
    "        component_dists = self.best_components\n",
    "        topics = []\n",
    "        for i in range(self.n_components):\n",
    "            _, idxs = torch.topk(component_dists[i], k)\n",
    "            component_words = [self.train_data.idx2token[idx]\n",
    "                               for idx in idxs.cpu().numpy()]\n",
    "            topics.append(component_words)\n",
    "        return topics\n",
    "\n",
    "    def _format_file(self):\n",
    "        model_dir = \"contextualized_topic_model_nc_{}_tpm_{}_tpv_{}_hs_{}_ac_{}_do_{}_lr_{}_mo_{}_rp_{}\". \\\n",
    "            format(self.n_components, 0.0, 1 - (1. / self.n_components),\n",
    "                   self.model_type, self.hidden_sizes, self.activation,\n",
    "                   self.dropout, self.lr, self.momentum,\n",
    "                   self.reduce_on_plateau)\n",
    "        return model_dir\n",
    "\n",
    "    def save(self, models_dir=None):\n",
    "        \"\"\"\n",
    "        Save model. (Experimental Feature, not tested)\n",
    "        :param models_dir: path to directory for saving NN models.\n",
    "        \"\"\"\n",
    "        warnings.simplefilter('always', Warning)\n",
    "        warnings.warn(\"This is an experimental feature that we has not been fully tested. Refer to the following issue:\"\n",
    "                      \"https://github.com/MilaNLProc/contextualized-topic-models/issues/38\",\n",
    "                      Warning)\n",
    "\n",
    "        if (self.model is not None) and (models_dir is not None):\n",
    "\n",
    "            model_dir = self._format_file()\n",
    "            if not os.path.isdir(os.path.join(models_dir, model_dir)):\n",
    "                os.makedirs(os.path.join(models_dir, model_dir))\n",
    "\n",
    "            filename = \"epoch_{}\".format(self.nn_epoch) + '.pth'\n",
    "            fileloc = os.path.join(models_dir, model_dir, filename)\n",
    "            with open(fileloc, 'wb') as file:\n",
    "                torch.save({'state_dict': self.model.state_dict(),\n",
    "                            'dcue_dict': self.__dict__}, file)\n",
    "\n",
    "    def load(self, model_dir, epoch):\n",
    "        \"\"\"\n",
    "        Load a previously trained model. (Experimental Feature, not tested)\n",
    "        :param model_dir: directory where models are saved.\n",
    "        :param epoch: epoch of model to load.\n",
    "        \"\"\"\n",
    "\n",
    "        warnings.simplefilter('always', Warning)\n",
    "        warnings.warn(\"This is an experimental feature that we has not been fully tested. Refer to the following issue:\"\n",
    "                      \"https://github.com/MilaNLProc/contextualized-topic-models/issues/38\",\n",
    "                      Warning)\n",
    "\n",
    "        epoch_file = \"epoch_\" + str(epoch) + \".pth\"\n",
    "        model_file = os.path.join(model_dir, epoch_file)\n",
    "        with open(model_file, 'rb') as model_dict:\n",
    "            checkpoint = torch.load(model_dict, map_location=torch.device(self.device))\n",
    "\n",
    "        for (k, v) in checkpoint['dcue_dict'].items():\n",
    "            setattr(self, k, v)\n",
    "\n",
    "        self.model.load_state_dict(checkpoint['state_dict'])\n",
    "\n",
    "    def get_topic_word_matrix(self):\n",
    "        \"\"\"\n",
    "        Return the topic-word matrix (dimensions: number of topics x length of the vocabulary).\n",
    "        If model_type is LDA, the matrix is normalized; otherwise the matrix is unnormalized.\n",
    "        \"\"\"\n",
    "        return self.model.topic_word_matrix.cpu().detach().numpy()\n",
    "\n",
    "    def get_topic_word_distribution(self):\n",
    "        \"\"\"\n",
    "        Return the topic-word distribution (dimensions: number of topics x length of the vocabulary).\n",
    "        \"\"\"\n",
    "        mat = self.get_topic_word_matrix()\n",
    "        return softmax(mat, axis=1)\n",
    "\n",
    "    def get_word_distribution_by_topic_id(self, topic):\n",
    "        \"\"\"\n",
    "        Return the word probability distribution of a topic sorted by probability.\n",
    "        :param topic: id of the topic (int)\n",
    "        :returns list of tuples (word, probability) sorted by the probability in descending order\n",
    "        \"\"\"\n",
    "        if topic >= self.n_components:\n",
    "            raise Exception('Topic id must be lower than the number of topics')\n",
    "        else:\n",
    "            wd = self.get_topic_word_distribution()\n",
    "            t = [(word, wd[topic][idx]) for idx, word in self.train_data.idx2token.items()]\n",
    "            t = sorted(t, key=lambda x: -x[1])\n",
    "        return t\n",
    "\n",
    "    def get_wordcloud(self, topic_id, n_words=5, background_color=\"black\", width=1000, height=400):\n",
    "        \"\"\"\n",
    "        Plotting the wordcloud. It is an adapted version of the code found here:\n",
    "        http://amueller.github.io/word_cloud/auto_examples/simple.html#sphx-glr-auto-examples-simple-py and\n",
    "        here https://github.com/ddangelov/Top2Vec/blob/master/top2vec/Top2Vec.py\n",
    "        :param topic_id: id of the topic\n",
    "        :param n_words: number of words to show in word cloud\n",
    "        :param background_color: color of the background\n",
    "        :param width: width of the produced image\n",
    "        :param height: height of the produced image\n",
    "        \"\"\"\n",
    "        word_score_list = self.get_word_distribution_by_topic_id(topic_id)[:n_words]\n",
    "        word_score_dict = {tup[0]: tup[1] for tup in word_score_list}\n",
    "        plt.figure(figsize=(10, 4), dpi=200)\n",
    "        plt.axis(\"off\")\n",
    "        plt.imshow(wordcloud.WordCloud(width=width, height=height, background_color=background_color\n",
    "                                       ).generate_from_frequencies(word_score_dict))\n",
    "        plt.title(\"Displaying Topic \" + str(topic_id), loc='center', fontsize=24)\n",
    "        plt.show()\n",
    "\n",
    "    def get_predicted_topics(self, dataset, n_samples):\n",
    "        \"\"\"\n",
    "        Return the a list containing the predicted topic for each document (length: number of documents).\n",
    "        :param dataset: CTMDataset to infer topics\n",
    "        :param n_samples: number of sampling of theta\n",
    "        :return: the predicted topics\n",
    "        \"\"\"\n",
    "        predicted_topics = []\n",
    "        thetas = self.get_doc_topic_distribution(dataset, n_samples)\n",
    "\n",
    "        for idd in range(len(dataset)):\n",
    "            predicted_topic = np.argmax(thetas[idd] / np.sum(thetas[idd]))\n",
    "            predicted_topics.append(predicted_topic)\n",
    "        return predicted_topics\n",
    "\n",
    "    def get_ldavis_data_format(self, vocab, dataset, n_samples):\n",
    "        \"\"\"\n",
    "        Returns the data that can be used in input to pyldavis to plot\n",
    "        the topics\n",
    "        \"\"\"\n",
    "        term_frequency = np.ravel(dataset.X_bow.sum(axis=0))\n",
    "        doc_lengths = np.ravel(dataset.X_bow.sum(axis=1))\n",
    "        term_topic = self.get_topic_word_distribution()\n",
    "        doc_topic_distribution = self.get_doc_topic_distribution(dataset, n_samples=n_samples)\n",
    "\n",
    "        data = {'topic_term_dists': term_topic,\n",
    "                'doc_topic_dists': doc_topic_distribution,\n",
    "                'doc_lengths': doc_lengths,\n",
    "                'vocab': vocab,\n",
    "                'term_frequency': term_frequency}\n",
    "\n",
    "        return data\n",
    "\n",
    "    def get_top_documents_per_topic_id(self, unpreprocessed_corpus, document_topic_distributions, topic_id, k=5):\n",
    "        probability_list = document_topic_distributions.T[topic_id]\n",
    "        ind = probability_list.argsort()[-k:][::-1]\n",
    "        res = []\n",
    "        for i in ind:\n",
    "            res.append((unpreprocessed_corpus[i], document_topic_distributions[i][topic_id]))\n",
    "        return res\n",
    "\n",
    "class ZeroShotTM(CTM):\n",
    "    \"\"\"ZeroShotTM, as described in https://arxiv.org/pdf/2004.07737v1.pdf\n",
    "    \"\"\"\n",
    "\n",
    "    def __init__(self, **kwargs):\n",
    "        inference_type = \"zeroshot\"\n",
    "        super().__init__(**kwargs, inference_type=inference_type)\n",
    "\n",
    "\n",
    "class CombinedTM(CTM):\n",
    "    \"\"\"CombinedTM, as described in https://arxiv.org/pdf/2004.03974.pdf\n",
    "    \"\"\"\n",
    "\n",
    "    def __init__(self, **kwargs):\n",
    "        inference_type = \"combined\"\n",
    "        super().__init__(**kwargs, inference_type=inference_type)"
   ]
  },
  {
   "cell_type": "code",
   "execution_count": 19,
   "metadata": {},
   "outputs": [],
   "source": [
    "# from contextualized_topic_models.models.ctm import CombinedTM\n"
   ]
  },
  {
   "cell_type": "code",
   "execution_count": null,
   "metadata": {
    "colab": {
     "base_uri": "https://localhost:8080/"
    },
    "id": "9I3ThmBf0BcK",
    "outputId": "5ab3e9ab-7c01-4a3b-caf7-f8f343df106c",
    "scrolled": false
   },
   "outputs": [
    {
     "data": {
      "application/vnd.jupyter.widget-view+json": {
       "model_id": "1afd10d5d0e140cfa3f9c5a56a5f442a",
       "version_major": 2,
       "version_minor": 0
      },
      "text/plain": [
       "  0%|          | 0/1000 [00:00<?, ?it/s]"
      ]
     },
     "metadata": {},
     "output_type": "display_data"
    },
    {
     "name": "stdout",
     "output_type": "stream",
     "text": [
      "epoch 0\n",
      "npmi -0.039181290351690594\n",
      "irbo 0.9373431315095102\n",
      "epoch 10\n",
      "npmi 0.10662404604483595\n",
      "irbo 0.7092458661688454\n",
      "epoch 20\n",
      "npmi 0.14640579174440968\n",
      "irbo 0.6268535387045948\n",
      "epoch 30\n",
      "npmi 0.13168365372588262\n",
      "irbo 0.5699859262637319\n",
      "epoch 40\n",
      "npmi 0.14352927494781428\n",
      "irbo 0.5492041419103499\n",
      "epoch 50\n",
      "npmi 0.17606439966535284\n",
      "irbo 0.5359769235426823\n",
      "epoch 60\n",
      "npmi 0.15503749841796122\n",
      "irbo 0.5165839836835276\n",
      "epoch 70\n",
      "npmi 0.1594058874249364\n",
      "irbo 0.49820149028983685\n",
      "epoch 80\n",
      "npmi 0.14716291392813474\n",
      "irbo 0.48307576381105544\n",
      "epoch 90\n",
      "npmi 0.16111820080533357\n",
      "irbo 0.45753165040412824\n",
      "epoch 100\n",
      "npmi 0.1644114259123244\n",
      "irbo 0.4466299102661516\n",
      "epoch 110\n",
      "npmi 0.19632231710988457\n",
      "irbo 0.43689641294615167\n",
      "epoch 120\n",
      "npmi 0.19936765464095862\n",
      "irbo 0.4397290023442507\n",
      "epoch 130\n",
      "npmi 0.20272788420229965\n",
      "irbo 0.44137679237684546\n",
      "epoch 140\n",
      "npmi 0.20352278046351308\n",
      "irbo 0.4434466720919301\n",
      "epoch 150\n",
      "npmi 0.1922343206698619\n",
      "irbo 0.44605946349772596\n",
      "epoch 160\n",
      "npmi 0.18085060499807237\n",
      "irbo 0.43532793586793006\n",
      "epoch 170\n",
      "npmi 0.18687588638599922\n",
      "irbo 0.4278044767299358\n",
      "epoch 180\n",
      "npmi 0.19233801341770307\n",
      "irbo 0.42583600600616334\n",
      "epoch 190\n",
      "npmi 0.1849200382509583\n",
      "irbo 0.42928645455850145\n",
      "epoch 200\n",
      "npmi 0.18952282336118248\n",
      "irbo 0.42907979122116036\n",
      "epoch 210\n",
      "npmi 0.18518875573053187\n",
      "irbo 0.4210621769732653\n",
      "epoch 220\n",
      "npmi 0.18001436733430295\n",
      "irbo 0.4198240139627639\n",
      "epoch 230\n",
      "npmi 0.18692065299921673\n",
      "irbo 0.41915444210980757\n",
      "epoch 240\n",
      "npmi 0.19835461667718146\n",
      "irbo 0.4199430680345364\n",
      "epoch 250\n",
      "npmi 0.1963154536319136\n",
      "irbo 0.4150304327773645\n",
      "epoch 260\n",
      "npmi 0.17985050956772983\n",
      "irbo 0.4114763062475335\n",
      "epoch 270\n",
      "npmi 0.19050678889305583\n",
      "irbo 0.4144798823693411\n"
     ]
    }
   ],
   "source": [
    "ctm = CombinedTM(bow_size=len(tp.vocab), contextual_size=768, n_components=50, num_epochs=1000)\n",
    "ctm.fit(training_dataset) # run the model"
   ]
  },
  {
   "cell_type": "markdown",
   "metadata": {
    "id": "-SEBG6wj9Zdu"
   },
   "source": [
    "# Topics\n",
    "\n",
    "After training, now it is the time to look at our topics: we can use the \n",
    "\n",
    "```\n",
    "get_topic_lists\n",
    "```\n",
    "\n",
    "function to get the topics. It also accepts a parameter that allows you to select how many words you want to see for each topic.\n",
    "\n",
    "If you look at the topics, you will see that they all make sense and are representative of a collection of documents that comes from Wikipedia (general knowledge). Notice that the topics are in English, because we trained the model on English documents."
   ]
  },
  {
   "cell_type": "code",
   "execution_count": null,
   "metadata": {
    "colab": {
     "base_uri": "https://localhost:8080/"
    },
    "id": "lxcKgjbx3V2o",
    "outputId": "a905d83d-55f2-4500-c508-bfba61d596e8"
   },
   "outputs": [],
   "source": [
    "ctm.get_topic_lists(5)"
   ]
  },
  {
   "cell_type": "markdown",
   "metadata": {
    "id": "UIxPpLs4sn-Q"
   },
   "source": [
    "# Let's Draw!\n",
    "\n",
    "We can use PyLDAvis to plot our topic in a nice and friendly manner :)"
   ]
  },
  {
   "cell_type": "code",
   "execution_count": null,
   "metadata": {
    "colab": {
     "base_uri": "https://localhost:8080/"
    },
    "id": "mnN3vcyQstZE",
    "outputId": "16d9c88d-c79a-45e8-a386-d0fe7f59530b"
   },
   "outputs": [],
   "source": [
    " lda_vis_data = ctm.get_ldavis_data_format(tp.vocab, training_dataset, n_samples=10)"
   ]
  },
  {
   "cell_type": "code",
   "execution_count": null,
   "metadata": {
    "id": "mFhhsliMtDXJ"
   },
   "outputs": [],
   "source": [
    "import pyLDAvis as vis\n",
    "\n",
    "lda_vis_data = ctm.get_ldavis_data_format(tp.vocab, training_dataset, n_samples=10)\n",
    "\n",
    "ctm_pd = vis.prepare(**lda_vis_data)\n",
    "vis.display(ctm_pd)"
   ]
  },
  {
   "cell_type": "markdown",
   "metadata": {
    "id": "jeNJfHvzjD2R"
   },
   "source": [
    "# Topic Predictions\n",
    "\n",
    "Ok now we can take a document and see which topic has been assigned to it. Results will obviously change with respect to the documents you are using. For example, let's predict the topic of the first preprocessed document that is talking about a peninsula."
   ]
  },
  {
   "cell_type": "code",
   "execution_count": null,
   "metadata": {
    "colab": {
     "base_uri": "https://localhost:8080/"
    },
    "id": "Zl5O1HExjI0e",
    "outputId": "3de02710-fa97-4f9d-9a7e-51b64d0cc8a5"
   },
   "outputs": [],
   "source": [
    "# topics_predictions = ctm.get_thetas(training_dataset, n_samples=5) # get all the topic predictions"
   ]
  },
  {
   "cell_type": "code",
   "execution_count": null,
   "metadata": {
    "colab": {
     "base_uri": "https://localhost:8080/",
     "height": 35
    },
    "id": "fFWsIxDYj0pC",
    "outputId": "fe9ec120-1777-42cc-f1fa-0899dd2dee16"
   },
   "outputs": [],
   "source": [
    "# preprocessed_documents[0] # see the text of our preprocessed document"
   ]
  },
  {
   "cell_type": "code",
   "execution_count": null,
   "metadata": {
    "id": "kJf1bP5PjqOQ"
   },
   "outputs": [],
   "source": [
    "# import numpy as np\n",
    "# topic_number = np.argmax(topics_predictions[0]) # get the topic id of the first document"
   ]
  },
  {
   "cell_type": "code",
   "execution_count": null,
   "metadata": {
    "colab": {
     "base_uri": "https://localhost:8080/"
    },
    "id": "yMA9vUsgjwOi",
    "outputId": "de056c09-cd2b-41d6-df29-a9e7507d4f97"
   },
   "outputs": [],
   "source": [
    "# ctm.get_topic_lists(5)[topic_number] #and the topic should be about natural location related things"
   ]
  },
  {
   "cell_type": "markdown",
   "metadata": {
    "id": "pB9i2zyKxQ0X"
   },
   "source": [
    "# Save Our Model for Later Use"
   ]
  },
  {
   "cell_type": "code",
   "execution_count": null,
   "metadata": {},
   "outputs": [],
   "source": [
    "from contextualized_topic_models.evaluation.measures import CoherenceNPMI, InvertedRBO\n",
    "\n",
    "texts = [text.split() for text in preprocessed_documents]\n",
    "npmi = CoherenceNPMI(texts=texts, topics=ctm.get_topic_lists(10))\n",
    "npmi.score()"
   ]
  },
  {
   "cell_type": "code",
   "execution_count": null,
   "metadata": {},
   "outputs": [],
   "source": [
    "irbo = InvertedRBO(ctm.get_topic_lists(10))\n",
    "irbo.score()"
   ]
  },
  {
   "cell_type": "code",
   "execution_count": null,
   "metadata": {},
   "outputs": [],
   "source": []
  },
  {
   "cell_type": "code",
   "execution_count": null,
   "metadata": {},
   "outputs": [],
   "source": []
  }
 ],
 "metadata": {
  "accelerator": "GPU",
  "colab": {
   "collapsed_sections": [],
   "name": "Combined TM on Wikipedia Data (Preproc+Saving+Viz) (stable v2.2.0)",
   "provenance": []
  },
  "kernelspec": {
   "display_name": "Python 3",
   "language": "python",
   "name": "python3"
  },
  "language_info": {
   "codemirror_mode": {
    "name": "ipython",
    "version": 3
   },
   "file_extension": ".py",
   "mimetype": "text/x-python",
   "name": "python",
   "nbconvert_exporter": "python",
   "pygments_lexer": "ipython3",
   "version": "3.7.0"
  },
  "widgets": {
   "application/vnd.jupyter.widget-state+json": {
    "0f13296f1d2a4748bafd32bab2143b1e": {
     "model_module": "@jupyter-widgets/base",
     "model_module_version": "1.2.0",
     "model_name": "LayoutModel",
     "state": {
      "_model_module": "@jupyter-widgets/base",
      "_model_module_version": "1.2.0",
      "_model_name": "LayoutModel",
      "_view_count": null,
      "_view_module": "@jupyter-widgets/base",
      "_view_module_version": "1.2.0",
      "_view_name": "LayoutView",
      "align_content": null,
      "align_items": null,
      "align_self": null,
      "border": null,
      "bottom": null,
      "display": null,
      "flex": null,
      "flex_flow": null,
      "grid_area": null,
      "grid_auto_columns": null,
      "grid_auto_flow": null,
      "grid_auto_rows": null,
      "grid_column": null,
      "grid_gap": null,
      "grid_row": null,
      "grid_template_areas": null,
      "grid_template_columns": null,
      "grid_template_rows": null,
      "height": null,
      "justify_content": null,
      "justify_items": null,
      "left": null,
      "margin": null,
      "max_height": null,
      "max_width": null,
      "min_height": null,
      "min_width": null,
      "object_fit": null,
      "object_position": null,
      "order": null,
      "overflow": null,
      "overflow_x": null,
      "overflow_y": null,
      "padding": null,
      "right": null,
      "top": null,
      "visibility": null,
      "width": null
     }
    },
    "2a8463d07d654ffd86a3c77c5df414fa": {
     "model_module": "@jupyter-widgets/controls",
     "model_module_version": "1.5.0",
     "model_name": "HTMLModel",
     "state": {
      "_dom_classes": [],
      "_model_module": "@jupyter-widgets/controls",
      "_model_module_version": "1.5.0",
      "_model_name": "HTMLModel",
      "_view_count": null,
      "_view_module": "@jupyter-widgets/controls",
      "_view_module_version": "1.5.0",
      "_view_name": "HTMLView",
      "description": "",
      "description_tooltip": null,
      "layout": "IPY_MODEL_0f13296f1d2a4748bafd32bab2143b1e",
      "placeholder": "​",
      "style": "IPY_MODEL_cabdec3fec4540cb88d6e35e23aa29de",
      "value": " 100/100 [00:38&lt;00:00,  2.85it/s]"
     }
    },
    "3c9495c104364d34a882500a7322be0d": {
     "model_module": "@jupyter-widgets/base",
     "model_module_version": "1.2.0",
     "model_name": "LayoutModel",
     "state": {
      "_model_module": "@jupyter-widgets/base",
      "_model_module_version": "1.2.0",
      "_model_name": "LayoutModel",
      "_view_count": null,
      "_view_module": "@jupyter-widgets/base",
      "_view_module_version": "1.2.0",
      "_view_name": "LayoutView",
      "align_content": null,
      "align_items": null,
      "align_self": null,
      "border": null,
      "bottom": null,
      "display": null,
      "flex": null,
      "flex_flow": null,
      "grid_area": null,
      "grid_auto_columns": null,
      "grid_auto_flow": null,
      "grid_auto_rows": null,
      "grid_column": null,
      "grid_gap": null,
      "grid_row": null,
      "grid_template_areas": null,
      "grid_template_columns": null,
      "grid_template_rows": null,
      "height": null,
      "justify_content": null,
      "justify_items": null,
      "left": null,
      "margin": null,
      "max_height": null,
      "max_width": null,
      "min_height": null,
      "min_width": null,
      "object_fit": null,
      "object_position": null,
      "order": null,
      "overflow": null,
      "overflow_x": null,
      "overflow_y": null,
      "padding": null,
      "right": null,
      "top": null,
      "visibility": null,
      "width": null
     }
    },
    "54c61fae70154d5d9161e6abbf228a07": {
     "model_module": "@jupyter-widgets/base",
     "model_module_version": "1.2.0",
     "model_name": "LayoutModel",
     "state": {
      "_model_module": "@jupyter-widgets/base",
      "_model_module_version": "1.2.0",
      "_model_name": "LayoutModel",
      "_view_count": null,
      "_view_module": "@jupyter-widgets/base",
      "_view_module_version": "1.2.0",
      "_view_name": "LayoutView",
      "align_content": null,
      "align_items": null,
      "align_self": null,
      "border": null,
      "bottom": null,
      "display": null,
      "flex": null,
      "flex_flow": null,
      "grid_area": null,
      "grid_auto_columns": null,
      "grid_auto_flow": null,
      "grid_auto_rows": null,
      "grid_column": null,
      "grid_gap": null,
      "grid_row": null,
      "grid_template_areas": null,
      "grid_template_columns": null,
      "grid_template_rows": null,
      "height": null,
      "justify_content": null,
      "justify_items": null,
      "left": null,
      "margin": null,
      "max_height": null,
      "max_width": null,
      "min_height": null,
      "min_width": null,
      "object_fit": null,
      "object_position": null,
      "order": null,
      "overflow": null,
      "overflow_x": null,
      "overflow_y": null,
      "padding": null,
      "right": null,
      "top": null,
      "visibility": null,
      "width": null
     }
    },
    "9a104fba32e4458293bc59c0cf0ae516": {
     "model_module": "@jupyter-widgets/controls",
     "model_module_version": "1.5.0",
     "model_name": "HBoxModel",
     "state": {
      "_dom_classes": [],
      "_model_module": "@jupyter-widgets/controls",
      "_model_module_version": "1.5.0",
      "_model_name": "HBoxModel",
      "_view_count": null,
      "_view_module": "@jupyter-widgets/controls",
      "_view_module_version": "1.5.0",
      "_view_name": "HBoxView",
      "box_style": "",
      "children": [
       "IPY_MODEL_f2b51fe892df4ea79015e1c1ec2750e5",
       "IPY_MODEL_c943462d183f4c199487a73a1d5384da",
       "IPY_MODEL_a4b39f79f8dd4616a1a656443ca7d8d6"
      ],
      "layout": "IPY_MODEL_c97cca45dff241019ccbe54ae8849eda"
     }
    },
    "a4b39f79f8dd4616a1a656443ca7d8d6": {
     "model_module": "@jupyter-widgets/controls",
     "model_module_version": "1.5.0",
     "model_name": "HTMLModel",
     "state": {
      "_dom_classes": [],
      "_model_module": "@jupyter-widgets/controls",
      "_model_module_version": "1.5.0",
      "_model_name": "HTMLModel",
      "_view_count": null,
      "_view_module": "@jupyter-widgets/controls",
      "_view_module_version": "1.5.0",
      "_view_name": "HTMLView",
      "description": "",
      "description_tooltip": null,
      "layout": "IPY_MODEL_aa26f2b6b38841d59d5e7d5c5e39fcbe",
      "placeholder": "​",
      "style": "IPY_MODEL_b9859fdef4f94727bf5f441101e46336",
      "value": " 306M/306M [01:09&lt;00:00, 9.62MB/s]"
     }
    },
    "a5e9a52c048a48829f33369988962434": {
     "model_module": "@jupyter-widgets/base",
     "model_module_version": "1.2.0",
     "model_name": "LayoutModel",
     "state": {
      "_model_module": "@jupyter-widgets/base",
      "_model_module_version": "1.2.0",
      "_model_name": "LayoutModel",
      "_view_count": null,
      "_view_module": "@jupyter-widgets/base",
      "_view_module_version": "1.2.0",
      "_view_name": "LayoutView",
      "align_content": null,
      "align_items": null,
      "align_self": null,
      "border": null,
      "bottom": null,
      "display": null,
      "flex": null,
      "flex_flow": null,
      "grid_area": null,
      "grid_auto_columns": null,
      "grid_auto_flow": null,
      "grid_auto_rows": null,
      "grid_column": null,
      "grid_gap": null,
      "grid_row": null,
      "grid_template_areas": null,
      "grid_template_columns": null,
      "grid_template_rows": null,
      "height": null,
      "justify_content": null,
      "justify_items": null,
      "left": null,
      "margin": null,
      "max_height": null,
      "max_width": null,
      "min_height": null,
      "min_width": null,
      "object_fit": null,
      "object_position": null,
      "order": null,
      "overflow": null,
      "overflow_x": null,
      "overflow_y": null,
      "padding": null,
      "right": null,
      "top": null,
      "visibility": null,
      "width": null
     }
    },
    "a88c1f8bdd154a8ebf0da92744eec2da": {
     "model_module": "@jupyter-widgets/base",
     "model_module_version": "1.2.0",
     "model_name": "LayoutModel",
     "state": {
      "_model_module": "@jupyter-widgets/base",
      "_model_module_version": "1.2.0",
      "_model_name": "LayoutModel",
      "_view_count": null,
      "_view_module": "@jupyter-widgets/base",
      "_view_module_version": "1.2.0",
      "_view_name": "LayoutView",
      "align_content": null,
      "align_items": null,
      "align_self": null,
      "border": null,
      "bottom": null,
      "display": null,
      "flex": null,
      "flex_flow": null,
      "grid_area": null,
      "grid_auto_columns": null,
      "grid_auto_flow": null,
      "grid_auto_rows": null,
      "grid_column": null,
      "grid_gap": null,
      "grid_row": null,
      "grid_template_areas": null,
      "grid_template_columns": null,
      "grid_template_rows": null,
      "height": null,
      "justify_content": null,
      "justify_items": null,
      "left": null,
      "margin": null,
      "max_height": null,
      "max_width": null,
      "min_height": null,
      "min_width": null,
      "object_fit": null,
      "object_position": null,
      "order": null,
      "overflow": null,
      "overflow_x": null,
      "overflow_y": null,
      "padding": null,
      "right": null,
      "top": null,
      "visibility": null,
      "width": null
     }
    },
    "aa26f2b6b38841d59d5e7d5c5e39fcbe": {
     "model_module": "@jupyter-widgets/base",
     "model_module_version": "1.2.0",
     "model_name": "LayoutModel",
     "state": {
      "_model_module": "@jupyter-widgets/base",
      "_model_module_version": "1.2.0",
      "_model_name": "LayoutModel",
      "_view_count": null,
      "_view_module": "@jupyter-widgets/base",
      "_view_module_version": "1.2.0",
      "_view_name": "LayoutView",
      "align_content": null,
      "align_items": null,
      "align_self": null,
      "border": null,
      "bottom": null,
      "display": null,
      "flex": null,
      "flex_flow": null,
      "grid_area": null,
      "grid_auto_columns": null,
      "grid_auto_flow": null,
      "grid_auto_rows": null,
      "grid_column": null,
      "grid_gap": null,
      "grid_row": null,
      "grid_template_areas": null,
      "grid_template_columns": null,
      "grid_template_rows": null,
      "height": null,
      "justify_content": null,
      "justify_items": null,
      "left": null,
      "margin": null,
      "max_height": null,
      "max_width": null,
      "min_height": null,
      "min_width": null,
      "object_fit": null,
      "object_position": null,
      "order": null,
      "overflow": null,
      "overflow_x": null,
      "overflow_y": null,
      "padding": null,
      "right": null,
      "top": null,
      "visibility": null,
      "width": null
     }
    },
    "b314c321e2c0438399df422fc7c59426": {
     "model_module": "@jupyter-widgets/base",
     "model_module_version": "1.2.0",
     "model_name": "LayoutModel",
     "state": {
      "_model_module": "@jupyter-widgets/base",
      "_model_module_version": "1.2.0",
      "_model_name": "LayoutModel",
      "_view_count": null,
      "_view_module": "@jupyter-widgets/base",
      "_view_module_version": "1.2.0",
      "_view_name": "LayoutView",
      "align_content": null,
      "align_items": null,
      "align_self": null,
      "border": null,
      "bottom": null,
      "display": null,
      "flex": null,
      "flex_flow": null,
      "grid_area": null,
      "grid_auto_columns": null,
      "grid_auto_flow": null,
      "grid_auto_rows": null,
      "grid_column": null,
      "grid_gap": null,
      "grid_row": null,
      "grid_template_areas": null,
      "grid_template_columns": null,
      "grid_template_rows": null,
      "height": null,
      "justify_content": null,
      "justify_items": null,
      "left": null,
      "margin": null,
      "max_height": null,
      "max_width": null,
      "min_height": null,
      "min_width": null,
      "object_fit": null,
      "object_position": null,
      "order": null,
      "overflow": null,
      "overflow_x": null,
      "overflow_y": null,
      "padding": null,
      "right": null,
      "top": null,
      "visibility": null,
      "width": null
     }
    },
    "b771eb6308de4a4d9a83427cb3ada7a0": {
     "model_module": "@jupyter-widgets/controls",
     "model_module_version": "1.5.0",
     "model_name": "FloatProgressModel",
     "state": {
      "_dom_classes": [],
      "_model_module": "@jupyter-widgets/controls",
      "_model_module_version": "1.5.0",
      "_model_name": "FloatProgressModel",
      "_view_count": null,
      "_view_module": "@jupyter-widgets/controls",
      "_view_module_version": "1.5.0",
      "_view_name": "ProgressView",
      "bar_style": "success",
      "description": "",
      "description_tooltip": null,
      "layout": "IPY_MODEL_54c61fae70154d5d9161e6abbf228a07",
      "max": 100,
      "min": 0,
      "orientation": "horizontal",
      "style": "IPY_MODEL_d125f7e7522e46eb8d039ba325f6dc47",
      "value": 100
     }
    },
    "b9859fdef4f94727bf5f441101e46336": {
     "model_module": "@jupyter-widgets/controls",
     "model_module_version": "1.5.0",
     "model_name": "DescriptionStyleModel",
     "state": {
      "_model_module": "@jupyter-widgets/controls",
      "_model_module_version": "1.5.0",
      "_model_name": "DescriptionStyleModel",
      "_view_count": null,
      "_view_module": "@jupyter-widgets/base",
      "_view_module_version": "1.2.0",
      "_view_name": "StyleView",
      "description_width": ""
     }
    },
    "c0b81ba3298642dc9182d14605187faa": {
     "model_module": "@jupyter-widgets/controls",
     "model_module_version": "1.5.0",
     "model_name": "DescriptionStyleModel",
     "state": {
      "_model_module": "@jupyter-widgets/controls",
      "_model_module_version": "1.5.0",
      "_model_name": "DescriptionStyleModel",
      "_view_count": null,
      "_view_module": "@jupyter-widgets/base",
      "_view_module_version": "1.2.0",
      "_view_name": "StyleView",
      "description_width": ""
     }
    },
    "c943462d183f4c199487a73a1d5384da": {
     "model_module": "@jupyter-widgets/controls",
     "model_module_version": "1.5.0",
     "model_name": "FloatProgressModel",
     "state": {
      "_dom_classes": [],
      "_model_module": "@jupyter-widgets/controls",
      "_model_module_version": "1.5.0",
      "_model_name": "FloatProgressModel",
      "_view_count": null,
      "_view_module": "@jupyter-widgets/controls",
      "_view_module_version": "1.5.0",
      "_view_name": "ProgressView",
      "bar_style": "success",
      "description": "",
      "description_tooltip": null,
      "layout": "IPY_MODEL_a88c1f8bdd154a8ebf0da92744eec2da",
      "max": 305584576,
      "min": 0,
      "orientation": "horizontal",
      "style": "IPY_MODEL_dc8cf011110941f5990c040098262105",
      "value": 305584576
     }
    },
    "c97cca45dff241019ccbe54ae8849eda": {
     "model_module": "@jupyter-widgets/base",
     "model_module_version": "1.2.0",
     "model_name": "LayoutModel",
     "state": {
      "_model_module": "@jupyter-widgets/base",
      "_model_module_version": "1.2.0",
      "_model_name": "LayoutModel",
      "_view_count": null,
      "_view_module": "@jupyter-widgets/base",
      "_view_module_version": "1.2.0",
      "_view_name": "LayoutView",
      "align_content": null,
      "align_items": null,
      "align_self": null,
      "border": null,
      "bottom": null,
      "display": null,
      "flex": null,
      "flex_flow": null,
      "grid_area": null,
      "grid_auto_columns": null,
      "grid_auto_flow": null,
      "grid_auto_rows": null,
      "grid_column": null,
      "grid_gap": null,
      "grid_row": null,
      "grid_template_areas": null,
      "grid_template_columns": null,
      "grid_template_rows": null,
      "height": null,
      "justify_content": null,
      "justify_items": null,
      "left": null,
      "margin": null,
      "max_height": null,
      "max_width": null,
      "min_height": null,
      "min_width": null,
      "object_fit": null,
      "object_position": null,
      "order": null,
      "overflow": null,
      "overflow_x": null,
      "overflow_y": null,
      "padding": null,
      "right": null,
      "top": null,
      "visibility": null,
      "width": null
     }
    },
    "cabdec3fec4540cb88d6e35e23aa29de": {
     "model_module": "@jupyter-widgets/controls",
     "model_module_version": "1.5.0",
     "model_name": "DescriptionStyleModel",
     "state": {
      "_model_module": "@jupyter-widgets/controls",
      "_model_module_version": "1.5.0",
      "_model_name": "DescriptionStyleModel",
      "_view_count": null,
      "_view_module": "@jupyter-widgets/base",
      "_view_module_version": "1.2.0",
      "_view_name": "StyleView",
      "description_width": ""
     }
    },
    "d125f7e7522e46eb8d039ba325f6dc47": {
     "model_module": "@jupyter-widgets/controls",
     "model_module_version": "1.5.0",
     "model_name": "ProgressStyleModel",
     "state": {
      "_model_module": "@jupyter-widgets/controls",
      "_model_module_version": "1.5.0",
      "_model_name": "ProgressStyleModel",
      "_view_count": null,
      "_view_module": "@jupyter-widgets/base",
      "_view_module_version": "1.2.0",
      "_view_name": "StyleView",
      "bar_color": null,
      "description_width": ""
     }
    },
    "d5a3986e6a43443a85f7e86167152321": {
     "model_module": "@jupyter-widgets/controls",
     "model_module_version": "1.5.0",
     "model_name": "HTMLModel",
     "state": {
      "_dom_classes": [],
      "_model_module": "@jupyter-widgets/controls",
      "_model_module_version": "1.5.0",
      "_model_name": "HTMLModel",
      "_view_count": null,
      "_view_module": "@jupyter-widgets/controls",
      "_view_module_version": "1.5.0",
      "_view_name": "HTMLView",
      "description": "",
      "description_tooltip": null,
      "layout": "IPY_MODEL_b314c321e2c0438399df422fc7c59426",
      "placeholder": "​",
      "style": "IPY_MODEL_dfc7dc989af1449387b4ba9a41ca6c9e",
      "value": "Batches: 100%"
     }
    },
    "dc8cf011110941f5990c040098262105": {
     "model_module": "@jupyter-widgets/controls",
     "model_module_version": "1.5.0",
     "model_name": "ProgressStyleModel",
     "state": {
      "_model_module": "@jupyter-widgets/controls",
      "_model_module_version": "1.5.0",
      "_model_name": "ProgressStyleModel",
      "_view_count": null,
      "_view_module": "@jupyter-widgets/base",
      "_view_module_version": "1.2.0",
      "_view_name": "StyleView",
      "bar_color": null,
      "description_width": ""
     }
    },
    "dfc7dc989af1449387b4ba9a41ca6c9e": {
     "model_module": "@jupyter-widgets/controls",
     "model_module_version": "1.5.0",
     "model_name": "DescriptionStyleModel",
     "state": {
      "_model_module": "@jupyter-widgets/controls",
      "_model_module_version": "1.5.0",
      "_model_name": "DescriptionStyleModel",
      "_view_count": null,
      "_view_module": "@jupyter-widgets/base",
      "_view_module_version": "1.2.0",
      "_view_name": "StyleView",
      "description_width": ""
     }
    },
    "f2b51fe892df4ea79015e1c1ec2750e5": {
     "model_module": "@jupyter-widgets/controls",
     "model_module_version": "1.5.0",
     "model_name": "HTMLModel",
     "state": {
      "_dom_classes": [],
      "_model_module": "@jupyter-widgets/controls",
      "_model_module_version": "1.5.0",
      "_model_name": "HTMLModel",
      "_view_count": null,
      "_view_module": "@jupyter-widgets/controls",
      "_view_module_version": "1.5.0",
      "_view_name": "HTMLView",
      "description": "",
      "description_tooltip": null,
      "layout": "IPY_MODEL_a5e9a52c048a48829f33369988962434",
      "placeholder": "​",
      "style": "IPY_MODEL_c0b81ba3298642dc9182d14605187faa",
      "value": "100%"
     }
    },
    "fcbe1de1a4e94ed7ae4bcad633975a60": {
     "model_module": "@jupyter-widgets/controls",
     "model_module_version": "1.5.0",
     "model_name": "HBoxModel",
     "state": {
      "_dom_classes": [],
      "_model_module": "@jupyter-widgets/controls",
      "_model_module_version": "1.5.0",
      "_model_name": "HBoxModel",
      "_view_count": null,
      "_view_module": "@jupyter-widgets/controls",
      "_view_module_version": "1.5.0",
      "_view_name": "HBoxView",
      "box_style": "",
      "children": [
       "IPY_MODEL_d5a3986e6a43443a85f7e86167152321",
       "IPY_MODEL_b771eb6308de4a4d9a83427cb3ada7a0",
       "IPY_MODEL_2a8463d07d654ffd86a3c77c5df414fa"
      ],
      "layout": "IPY_MODEL_3c9495c104364d34a882500a7322be0d"
     }
    }
   }
  }
 },
 "nbformat": 4,
 "nbformat_minor": 1
}
