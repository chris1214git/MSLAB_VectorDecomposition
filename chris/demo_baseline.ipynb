{
 "cells": [
  {
   "cell_type": "markdown",
   "id": "16096b03",
   "metadata": {},
   "source": [
    "# Demo baseline\n",
    "\n",
    "### document embedding decoder\n",
    "1. demo utils\n",
    "2. demo loss\n",
    "3. demo evaluation"
   ]
  },
  {
   "cell_type": "code",
   "execution_count": 1,
   "id": "815ade9b",
   "metadata": {},
   "outputs": [],
   "source": [
    "import os\n",
    "import sys\n",
    "from collections import defaultdict\n",
    "\n",
    "import numpy as np \n",
    "import pandas as pd\n",
    "import random\n",
    "\n",
    "import torch\n",
    "import torch.nn as nn\n",
    "from torch.nn.utils.rnn import pad_sequence\n",
    "from torch.utils.data import DataLoader, Dataset\n",
    "import torch.nn.functional as F\n",
    "import torch.optim as optim\n",
    "from tqdm.auto import tqdm\n",
    "import matplotlib.pyplot as plt\n",
    "\n",
    "sys.path.append('../')\n",
    "from utils.eval import retrieval_normalized_dcg_all, retrieval_precision_all, semantic_precision_all\n",
    "from utils.loss import *\n",
    "from utils.data_loader import load_document\n",
    "from utils.toolbox import preprocess_document, get_preprocess_document, get_preprocess_document_embs,\\\n",
    "                          get_preprocess_document_labels, get_word_embs"
   ]
  },
  {
   "cell_type": "code",
   "execution_count": 2,
   "id": "30b50ed0",
   "metadata": {},
   "outputs": [],
   "source": [
    "config = {}\n",
    "config['label_type'] = 'tf-idf'"
   ]
  },
  {
   "cell_type": "markdown",
   "id": "584e415b",
   "metadata": {},
   "source": [
    "## Data preprocess\n",
    "1. filter special characters, punctuation (remain english & number character)\n",
    "2. filter stopwords\n",
    "3. filter by term frequency\n",
    "4. pos tagging"
   ]
  },
  {
   "cell_type": "markdown",
   "id": "2dd3ba70",
   "metadata": {},
   "source": [
    "## Parameters\n",
    "\n",
    "### preprocess parameters:\n",
    "1. min word frequency\n",
    "2. max word frequency(max_df)\n",
    "3. min word per doc(min_words)\n",
    "4. pos tagging select\n",
    "\n",
    "### training parameters:\n",
    "1. decoder label\n",
    "2. model parameters"
   ]
  },
  {
   "cell_type": "markdown",
   "id": "61da837f",
   "metadata": {},
   "source": [
    "## Load Data, Label\n",
    "label -> bow, tf-idf, keybert, classification"
   ]
  },
  {
   "cell_type": "code",
   "execution_count": 3,
   "id": "2fb24549",
   "metadata": {
    "scrolled": false
   },
   "outputs": [
    {
     "name": "stdout",
     "output_type": "stream",
     "text": [
      "Getting preprocess documents: agnews\n",
      "min_df: 1 max_df: 1.0 vocabulary_size: 2000 min_doc_word: 15\n"
     ]
    },
    {
     "name": "stderr",
     "output_type": "stream",
     "text": [
      "Using custom data configuration default\n",
      "Reusing dataset ag_news (/home/chrisliu/.cache/huggingface/datasets/ag_news/default/0.0.0/bc2bcb40336ace1a0374767fc29bb0296cdaf8a6da7298436239c54d79180548)\n"
     ]
    }
   ],
   "source": [
    "dataset_name='agnews'\n",
    "min_df=1\n",
    "max_df=1.0\n",
    "vocabulary_size=2000\n",
    "min_doc_word=15\n",
    "model_name = 'average'\n",
    "seed = 33\n",
    "\n",
    "preprocess_config = {}\n",
    "preprocess_config['dataset_name'] = dataset_name\n",
    "preprocess_config['min_df'] = min_df\n",
    "preprocess_config['max_df'] = max_df\n",
    "preprocess_config['vocabulary_size'] = vocabulary_size\n",
    "preprocess_config['min_doc_word'] = min_doc_word\n",
    "\n",
    "unpreprocessed_docs ,preprocessed_docs = get_preprocess_document(**preprocess_config)"
   ]
  },
  {
   "cell_type": "code",
   "execution_count": 4,
   "id": "e0f90c6b",
   "metadata": {},
   "outputs": [
    {
     "name": "stdout",
     "output_type": "stream",
     "text": [
      "Getting preprocess documents embeddings\n",
      "Using cuda 0 for training...\n"
     ]
    },
    {
     "data": {
      "application/vnd.jupyter.widget-view+json": {
       "model_id": "645be0a0302e4d9595e5a287d31b1c52",
       "version_major": 2,
       "version_minor": 0
      },
      "text/plain": [
       "Batches:   0%|          | 0/635 [00:00<?, ?it/s]"
      ]
     },
     "metadata": {},
     "output_type": "display_data"
    }
   ],
   "source": [
    "doc_embs, doc_model = get_preprocess_document_embs(preprocessed_docs, model_name)"
   ]
  },
  {
   "cell_type": "code",
   "execution_count": 5,
   "id": "4126285c",
   "metadata": {},
   "outputs": [
    {
     "name": "stdout",
     "output_type": "stream",
     "text": [
      "Getting preprocess documents labels\n"
     ]
    }
   ],
   "source": [
    "labels, vocabularys = get_preprocess_document_labels(preprocessed_docs)"
   ]
  },
  {
   "cell_type": "code",
   "execution_count": 6,
   "id": "7fb108fc",
   "metadata": {},
   "outputs": [
    {
     "name": "stdout",
     "output_type": "stream",
     "text": [
      "Getting word embeddings\n"
     ]
    },
    {
     "data": {
      "application/vnd.jupyter.widget-view+json": {
       "model_id": "4b6a4601b4dc443a8b8026ea3fb645cc",
       "version_major": 2,
       "version_minor": 0
      },
      "text/plain": [
       "0it [00:00, ?it/s]"
      ]
     },
     "metadata": {},
     "output_type": "display_data"
    },
    {
     "name": "stdout",
     "output_type": "stream",
     "text": [
      "Number of words:400001\n"
     ]
    },
    {
     "data": {
      "text/plain": [
       "(1811, 300)"
      ]
     },
     "execution_count": 6,
     "metadata": {},
     "output_type": "execute_result"
    }
   ],
   "source": [
    "targets = labels[config['label_type']] \n",
    "word_embs = get_word_embs(vocabularys['tf-idf'])\n",
    "word_embs.shape"
   ]
  },
  {
   "cell_type": "code",
   "execution_count": 7,
   "id": "cb8d992c",
   "metadata": {},
   "outputs": [],
   "source": [
    "word_embs_tensor = torch.FloatTensor(word_embs)"
   ]
  },
  {
   "cell_type": "code",
   "execution_count": 8,
   "id": "22a5adfd",
   "metadata": {},
   "outputs": [],
   "source": [
    "training_config = {}\n",
    "training_config[\"topk\"] = [5, 10, 15]"
   ]
  },
  {
   "cell_type": "markdown",
   "id": "c04a4563",
   "metadata": {},
   "source": [
    "## MLP Decoder"
   ]
  },
  {
   "cell_type": "code",
   "execution_count": 9,
   "id": "9f3b320c",
   "metadata": {},
   "outputs": [],
   "source": [
    "device = 'cuda:0' if torch.cuda.is_available() else 'cpu'\n",
    "# device = 'cpu'"
   ]
  },
  {
   "cell_type": "code",
   "execution_count": 10,
   "id": "da651ee5",
   "metadata": {},
   "outputs": [],
   "source": [
    "class DNNDecoderDataset(Dataset):\n",
    "    def __init__(self, doc_embs, targets):\n",
    "        \n",
    "        assert len(doc_embs) == len(targets)\n",
    "\n",
    "        self.doc_embs = torch.FloatTensor(doc_embs)\n",
    "        self.targets = torch.FloatTensor(targets)        \n",
    "        self.targets_rank = torch.argsort(self.targets, dim=1, descending=True)\n",
    "        self.topk = torch.sum(self.targets > 0, dim=1)\n",
    "        \n",
    "    def __getitem__(self, idx):\n",
    "        return self.doc_embs[idx], self.targets[idx], self.targets_rank[idx], self.topk[idx]\n",
    "\n",
    "    def __len__(self):\n",
    "        return len(self.doc_embs)"
   ]
  },
  {
   "cell_type": "code",
   "execution_count": 11,
   "id": "47717a7d",
   "metadata": {},
   "outputs": [],
   "source": [
    "def prepare_dataloader(doc_embs, targets, batch_size=100, train_valid_test_ratio=[0.7, 0.1, 0.2],\\\n",
    "                       target_normalize=False, seed=123):\n",
    "    train_size = int(len(doc_embs) * train_valid_test_ratio[0])\n",
    "    valid_size = int(len(doc_embs) * (train_valid_test_ratio[0] + train_valid_test_ratio[1])) - train_size\n",
    "    test_size = len(doc_embs) - train_size - valid_size\n",
    "    \n",
    "    print('Preparing dataloader')\n",
    "    print('train size', train_size)\n",
    "    print('valid size', valid_size)\n",
    "    print('test size', test_size)\n",
    "\n",
    "    if target_normalize:\n",
    "        # normalize target summation of each document to 1 \n",
    "        norm = targets.sum(axis=1).reshape(-1, 1)\n",
    "        targets = (targets / norm)\n",
    "        # normalize target L2 norm of each document to 1\n",
    "        # norm = np.linalg.norm(targets, axis=1).reshape(-1, 1)\n",
    "        # targets = (targets / norm)\n",
    "\n",
    "    # shuffle\n",
    "    randomize = np.arange(len(doc_embs))\n",
    "    np.random.seed(seed)\n",
    "    np.random.shuffle(randomize)\n",
    "    doc_embs = doc_embs[randomize]\n",
    "    targets = targets[randomize]\n",
    "    \n",
    "    # dataloader\n",
    "    train_dataset = DNNDecoderDataset(doc_embs[:train_size], targets[:train_size])\n",
    "    train_loader  = torch.utils.data.DataLoader(train_dataset, batch_size=batch_size, shuffle=True, pin_memory=True)\n",
    "\n",
    "    valid_dataset = DNNDecoderDataset(doc_embs[train_size:train_size+valid_size], targets[train_size:train_size+valid_size])\n",
    "    valid_loader  = torch.utils.data.DataLoader(valid_dataset, batch_size=batch_size, shuffle=True, pin_memory=True)\n",
    "\n",
    "    test_dataset = DNNDecoderDataset(doc_embs[train_size+valid_size:], targets[train_size+valid_size:])\n",
    "    test_loader  = torch.utils.data.DataLoader(train_dataset, batch_size=batch_size, shuffle=True, pin_memory=True)\n",
    "    \n",
    "    return train_loader, valid_loader, test_loader\n"
   ]
  },
  {
   "cell_type": "code",
   "execution_count": 12,
   "id": "def50778",
   "metadata": {},
   "outputs": [
    {
     "name": "stdout",
     "output_type": "stream",
     "text": [
      "Preparing dataloader\n",
      "train size 88892\n",
      "valid size 12699\n",
      "test size 25398\n"
     ]
    }
   ],
   "source": [
    "# prepare dataloader\n",
    "train_loader, valid_loader, test_loader = prepare_dataloader(doc_embs, labels['tf-idf'], batch_size=100,\\\n",
    "                                                             train_valid_test_ratio=[0.7, 0.1, 0.2],target_normalize=False,\\\n",
    "                                                             seed=seed)"
   ]
  },
  {
   "cell_type": "code",
   "execution_count": 18,
   "id": "39e0e98e",
   "metadata": {},
   "outputs": [],
   "source": [
    "class DNNDecoder(nn.Module):\n",
    "    def __init__(self, doc_emb_dim, num_words, h_dim=300):\n",
    "        super().__init__()\n",
    "        self.decoder = nn.Sequential(\n",
    "            nn.Linear(doc_emb_dim, h_dim),\n",
    "            # nn.Dropout(p=0.5),\n",
    "            nn.Tanh(),\n",
    "            nn.Linear(h_dim, h_dim),\n",
    "            # nn.Dropout(p=0.5),\n",
    "            nn.Tanh(),\n",
    "            nn.Linear(h_dim, num_words),\n",
    "            # nn.Dropout(p=0.5),\n",
    "            # nn.Sigmoid(),\n",
    "        )\n",
    "    def forward(self, x):\n",
    "        return self.decoder(x)"
   ]
  },
  {
   "cell_type": "code",
   "execution_count": 27,
   "id": "6b51e739",
   "metadata": {},
   "outputs": [],
   "source": [
    "def evaluate_DNNDecoder(model, data_loader, config):\n",
    "    results = defaultdict(list)\n",
    "    model.eval()\n",
    "    \n",
    "    # predict all data\n",
    "    for data in data_loader:\n",
    "        doc_embs, target, _, _ = data\n",
    "        \n",
    "        doc_embs = doc_embs.to(device)\n",
    "        target = target.to(device)\n",
    "                \n",
    "        pred = model(doc_embs)\n",
    "    \n",
    "        # Precision\n",
    "        precision_scores = retrieval_precision_all(pred, target, k=config[\"topk\"])\n",
    "        for k, v in precision_scores.items():\n",
    "            results['precision@{}'.format(k)].append(v)\n",
    "        \n",
    "        # Semantic Precision\n",
    "#         semantic_precision_scores, word_result = semantic_precision_all(pred, target, word_embs_tensor, vocabularys['tf-idf'],\\\n",
    "#                                                                         k=config[\"topk\"], th=0.7, display_word_result=False)\n",
    "#         for k, v in semantic_precision_scores.items():\n",
    "#             results['semantic_precision@{}'.format(k)].append(v)\n",
    "            \n",
    "        # NDCG\n",
    "        ndcg_scores = retrieval_normalized_dcg_all(pred, target, k=config[\"topk\"])\n",
    "        for k, v in ndcg_scores.items():\n",
    "            results['ndcg@{}'.format(k)].append(v)\n",
    "        \n",
    "    for k in results:\n",
    "        results[k] = np.mean(results[k])\n",
    "\n",
    "    return results"
   ]
  },
  {
   "cell_type": "code",
   "execution_count": 28,
   "id": "a5472d12",
   "metadata": {},
   "outputs": [],
   "source": [
    "def calculate_loss(config, criterion, pred, target, target_rank, target_topk):\n",
    "    if config[\"criterion\"] == \"MultiLabelMarginLoss\":\n",
    "        target_rank[:, config[\"topk\"]] = -1\n",
    "        loss = criterion(pred, target_rank)\n",
    "    elif config[\"criterion\"].startswith(\"MultiLabelMarginLossCustomV\"):\n",
    "        loss = criterion(pred, target_rank, target_topk)\n",
    "    elif config[\"criterion\"].startswith(\"MultiLabelMarginLossCustom\"):\n",
    "        loss = criterion(pred, target_rank, config[\"topk\"])\n",
    "    else:\n",
    "        loss = criterion(pred, target)\n",
    "        \n",
    "    return loss\n",
    "\n",
    "def train_decoder(doc_embs, targets, config):\n",
    "    model = DNNDecoder(doc_emb_dim=doc_embs.shape[1], num_words=targets.shape[1],\\\n",
    "                       h_dim=config[\"h_dim\"]).to(device)\n",
    "    model.train()\n",
    "\n",
    "    opt = torch.optim.SGD(model.parameters(), lr=config[\"lr\"], momentum=config[\"momentum\"],\n",
    "                          weight_decay=config[\"weight_decay\"])\n",
    "    # prepare loss\n",
    "    if config[\"criterion\"] == \"MultiLabelMarginLoss\":\n",
    "        criterion = nn.MultiLabelMarginLoss(reduction='mean')\n",
    "    elif config[\"criterion\"] == \"MultiLabel\":\n",
    "        criterion = nn.BCEWithLogitsLoss(reduction='mean')\n",
    "    elif config[\"criterion\"].startswith(\"MultiLabelMarginLossCustomV\"):\n",
    "        def criterion(a, b, c): return MultiLabelMarginLossCustomV(\n",
    "            a, b, c, float(config[\"criterion\"].split(':')[-1]))\n",
    "    elif config[\"criterion\"].startswith(\"MultiLabelMarginLossCustom\"):\n",
    "        def criterion(a, b, c): return MultiLabelMarginLossCustom(\n",
    "            a, b, c, float(config[\"criterion\"].split(':')[-1]))\n",
    "    else:\n",
    "        criterion = eval(config[\"criterion\"])\n",
    "\n",
    "    results = []\n",
    "    n_epoch = config[\"n_epoch\"]\n",
    "    valid_epoch = config[\"valid_epoch\"]\n",
    "    verbose = config[\"verbose\"]\n",
    "\n",
    "    for epoch in tqdm(range(n_epoch)):\n",
    "        train_loss_his = []\n",
    "        valid_loss_his = []\n",
    "\n",
    "        model.train()\n",
    "\n",
    "        for data in train_loader:\n",
    "            doc_embs, target, target_rank, target_topk = data\n",
    "            doc_embs = doc_embs.to(device)\n",
    "            target = target.to(device)\n",
    "            target_rank = target_rank.to(device)\n",
    "            target_topk = target_topk.to(device)\n",
    "\n",
    "            # loss\n",
    "            pred = model(doc_embs)\n",
    "            loss = calculate_loss(config, criterion, pred, target, target_rank, target_topk)\n",
    "            train_loss_his.append(loss.item())\n",
    "\n",
    "            # Model backwarding\n",
    "            model.zero_grad()\n",
    "            loss.backward()\n",
    "            opt.step()\n",
    "\n",
    "        model.eval()\n",
    "        for data in valid_loader:\n",
    "            doc_embs, target, target_rank, target_topk = data\n",
    "            doc_embs = doc_embs.to(device)\n",
    "            target = target.to(device)\n",
    "            target_rank = target_rank.to(device)\n",
    "            target_topk = target_topk.to(device)\n",
    "\n",
    "            # loss\n",
    "            pred = model(doc_embs)\n",
    "            loss = calculate_loss(config, criterion, pred, target, target_rank, target_topk)\n",
    "            valid_loss_his.append(loss.item())\n",
    "\n",
    "        print(\"Epoch\", epoch, np.mean(train_loss_his), np.mean(valid_loss_his))\n",
    "\n",
    "        # show decoder result\n",
    "        if valid_epoch > 0 and epoch % valid_epoch == 0:\n",
    "            res = {}\n",
    "            res['epoch'] = epoch\n",
    "\n",
    "            train_res_ndcg = evaluate_DNNDecoder(model, train_loader, config)\n",
    "            valid_res_ndcg = evaluate_DNNDecoder(model, valid_loader, config)\n",
    "\n",
    "            res.update(valid_res_ndcg)\n",
    "            results.append(res)\n",
    "\n",
    "            if verbose:\n",
    "                print()\n",
    "                print('train', train_res_ndcg)\n",
    "                print('valid', valid_res_ndcg)"
   ]
  },
  {
   "cell_type": "code",
   "execution_count": null,
   "id": "af5d3cc0",
   "metadata": {},
   "outputs": [],
   "source": [
    "def ListNet_sigmoid_L1(y_pred, y_true, eps=1e-10):\n",
    "    # ListNet switch softmax to L2 norm\n",
    "    # (1) y_pred: the decoded vector. \n",
    "    #     ex: tfidf score of each word in certain document.\n",
    "    # (2) y_true: the vector before encoded. \n",
    "    #     ex: same as above.\n",
    "    # (3) eps: a small number to avoid error when computing log operation. \n",
    "    #     ex: log0 will cause error while log(0+eps) will not.\n",
    "\n",
    "    y_pred = torch.sigmoid(y_pred) \n",
    "    y_pred = torch.nn.functional.normalize(y_pred, dim=1, p=1)\n",
    "    y_true = torch.sigmoid(y_true) \n",
    "    y_true = torch.nn.functional.normalize(y_true, dim=1, p=1)\n",
    "    pred = y_pred + eps\n",
    "    pred_log = torch.log(pred)\n",
    "\n",
    "    return torch.mean(torch.sum(-y_true * pred_log, dim=1))"
   ]
  },
  {
   "cell_type": "code",
   "execution_count": null,
   "id": "346a54c3",
   "metadata": {
    "scrolled": true
   },
   "outputs": [
    {
     "data": {
      "application/vnd.jupyter.widget-view+json": {
       "model_id": "6f971fdd5ada41f6af2bcd951c0a40b1",
       "version_major": 2,
       "version_minor": 0
      },
      "text/plain": [
       "  0%|          | 0/200 [00:00<?, ?it/s]"
      ]
     },
     "metadata": {},
     "output_type": "display_data"
    },
    {
     "name": "stdout",
     "output_type": "stream",
     "text": [
      "Epoch 0 7.501767903532837 7.501728005296602\n",
      "\n",
      "train defaultdict(<class 'list'>, {'precision@5': 0.006756688158590393, 'precision@10': 0.006621607157890973, 'precision@15': 0.0065966974488167246, 'ndcg@5': 0.004793891958086736, 'ndcg@10': 0.00574605351323639, 'ndcg@15': 0.007053534532056469, 'ndcg@all': 0.2186133117657008})\n",
      "valid defaultdict(<class 'list'>, {'precision@5': 0.006960948194032462, 'precision@10': 0.006913942620378193, 'precision@15': 0.006667250219189863, 'ndcg@5': 0.0050865688107313775, 'ndcg@10': 0.006069583674401456, 'ndcg@15': 0.007187034040102808, 'ndcg@all': 0.21909274888320232})\n",
      "Epoch 1 7.501719417400381 7.501713737728089\n",
      "Epoch 2 7.501710791957928 7.501708199658732\n",
      "Epoch 3 7.5017062789007305 7.501704384961466\n",
      "Epoch 4 7.501702877748402 7.501701339961976\n",
      "Epoch 5 7.501699967378975 7.501698632878582\n",
      "Epoch 6 7.5016974319355025 7.501696229919674\n",
      "Epoch 7 7.501695173261404 7.501694052238164\n",
      "Epoch 8 7.501693130209958 7.501692114852545\n",
      "Epoch 9 7.501691263625807 7.5016903802165835\n",
      "Epoch 10 7.501689572972576 7.5016887544646975\n",
      "\n",
      "train defaultdict(<class 'list'>, {'precision@5': 0.029957548880696096, 'precision@10': 0.02484159038535186, 'precision@15': 0.02222480997757481, 'ndcg@5': 0.024539496068956897, 'ndcg@10': 0.02508217561466219, 'ndcg@15': 0.02744606063419406, 'ndcg@all': 0.24360621880626787})\n",
      "valid defaultdict(<class 'list'>, {'precision@5': 0.030836554647489325, 'precision@10': 0.0253637953419385, 'precision@15': 0.022442483665846932, 'ndcg@5': 0.02520251980300729, 'ndcg@10': 0.025581105810216092, 'ndcg@15': 0.02771819388039234, 'ndcg@all': 0.2440336732648489})\n",
      "Epoch 11 7.501688020167657 7.501687241351511\n",
      "Epoch 12 7.501686550500825 7.5016857883122965\n",
      "Epoch 13 7.501685182745197 7.50168447043952\n",
      "Epoch 14 7.501683921728145 7.501683302751676\n",
      "Epoch 15 7.501682729367062 7.501682142573078\n",
      "Epoch 16 7.501681615316693 7.501681046223077\n",
      "Epoch 17 7.50168058869541 7.501680077530268\n",
      "Epoch 18 7.501679576556246 7.501679060027355\n",
      "Epoch 19 7.5016786529189154 7.501678181445505\n",
      "Epoch 20 7.501677767900568 7.501677347919133\n",
      "\n",
      "train defaultdict(<class 'list'>, {'precision@5': 0.07582755409457687, 'precision@10': 0.0533615197542179, 'precision@15': 0.04368905185672577, 'ndcg@5': 0.06767635753103798, 'ndcg@10': 0.061744746681893635, 'ndcg@15': 0.06327598076418495, 'ndcg@all': 0.2777925611749141})\n",
      "valid defaultdict(<class 'list'>, {'precision@5': 0.07702966688538161, 'precision@10': 0.054058855648819855, 'precision@15': 0.04435992685300628, 'ndcg@5': 0.06944848817047172, 'ndcg@10': 0.06320609680310947, 'ndcg@15': 0.06463155584541831, 'ndcg@all': 0.2787119755594749})\n",
      "Epoch 21 7.501676930619573 7.501676458073414\n",
      "Epoch 22 7.501676093874954 7.501675658338652\n",
      "Epoch 23 7.501675305940437 7.50167490365937\n",
      "Epoch 24 7.501674561452275 7.501674201544814\n",
      "Epoch 25 7.5016738089184924 7.501673428092416\n",
      "Epoch 26 7.501673120749681 7.5016727485056\n",
      "Epoch 27 7.501672440090115 7.501672132747379\n",
      "Epoch 28 7.501671799122281 7.50167149446142\n",
      "Epoch 29 7.501671186045935 7.501670841156967\n",
      "Epoch 30 7.501670615879569 7.50167030800046\n",
      "\n",
      "train defaultdict(<class 'list'>, {'precision@5': 0.11883953559821046, 'precision@10': 0.08051254405850634, 'precision@15': 0.06416468878346836, 'ndcg@5': 0.1063033971302756, 'ndcg@10': 0.09553088652990398, 'ndcg@15': 0.09709079216650286, 'ndcg@all': 0.30938104867801086})\n",
      "valid defaultdict(<class 'list'>, {'precision@5': 0.11950369812841491, 'precision@10': 0.08120225842191478, 'precision@15': 0.06462875771240925, 'ndcg@5': 0.10837161640717288, 'ndcg@10': 0.09716001915650105, 'ndcg@15': 0.09833269666029712, 'ndcg@all': 0.3102188239416738})\n",
      "Epoch 31 7.501670014067093 7.501669748561588\n",
      "Epoch 32 7.501669453555473 7.501669185368095\n",
      "Epoch 33 7.5016689123533435 7.501668637193094\n",
      "Epoch 34 7.501668386706083 7.501668126564327\n",
      "Epoch 35 7.501667861595196 7.501667612180935\n",
      "Epoch 36 7.501667367594046 7.5016671503622705\n",
      "Epoch 37 7.5016668741292705 7.5016666472427485\n",
      "Epoch 38 7.5016664090923575 7.501666196687954\n",
      "Epoch 39 7.5016659118729585 7.501665689813809\n",
      "Epoch 40 7.50166547901853 7.501665243013638\n",
      "\n",
      "train defaultdict(<class 'list'>, {'precision@5': 0.1595598364456298, 'precision@10': 0.10670259659449885, 'precision@15': 0.08405993057936598, 'ndcg@5': 0.14324622480586355, 'ndcg@10': 0.12842314094472657, 'ndcg@15': 0.13008535149663317, 'ndcg@all': 0.3391937893743054})\n",
      "valid defaultdict(<class 'list'>, {'precision@5': 0.15873617772746274, 'precision@10': 0.1067403155400997, 'precision@15': 0.08362809597976564, 'ndcg@5': 0.14418216477932894, 'ndcg@10': 0.1290357158643993, 'ndcg@15': 0.13026615326094815, 'ndcg@all': 0.33952414426277944})\n",
      "Epoch 41 7.50166504026398 7.501664871305931\n",
      "Epoch 42 7.501664627791792 7.501664432015006\n",
      "Epoch 43 7.501664211028606 7.501664011497197\n",
      "Epoch 44 7.501663813038538 7.501663658562608\n",
      "Epoch 45 7.501663413439344 7.501663290609525\n",
      "Epoch 46 7.501663044413512 7.50166281752699\n",
      "Epoch 47 7.501662671096682 7.5016624908747636\n",
      "Epoch 48 7.501662319771216 7.5016621792410305\n",
      "Epoch 49 7.501661953963633 7.501661833815687\n",
      "Epoch 50 7.501661625702282 7.501661462107982\n",
      "\n",
      "train defaultdict(<class 'list'>, {'precision@5': 0.19750369077860572, 'precision@10': 0.13092688316033044, 'precision@15': 0.10208542841089589, 'ndcg@5': 0.17736898062601936, 'ndcg@10': 0.1586652326034078, 'ndcg@15': 0.1602449849147362, 'ndcg@all': 0.3662960850481778})\n",
      "valid defaultdict(<class 'list'>, {'precision@5': 0.19621951655140074, 'precision@10': 0.1305453742700299, 'precision@15': 0.10226507068384351, 'ndcg@5': 0.17673379916140414, 'ndcg@10': 0.1582127820671074, 'ndcg@15': 0.1598176993722991, 'ndcg@all': 0.36563817652191705})\n",
      "Epoch 51 7.501661252385452 7.501661101664145\n",
      "Epoch 52 7.501660928415099 7.501660748729556\n",
      "Epoch 53 7.501660618926865 7.501660470887432\n",
      "Epoch 54 7.501660270283273 7.501660170517568\n",
      "Epoch 55 7.501659973131658 7.501659851374589\n",
      "Epoch 56 7.501659659888801 7.501659498439999\n",
      "Epoch 57 7.501659364882685 7.501659216843252\n",
      "Epoch 58 7.501659062367322 7.501658946510375\n",
      "Epoch 59 7.501658765752082 7.501658612348902\n",
      "Epoch 60 7.501658466991343 7.501658368298388\n",
      "\n",
      "train defaultdict(<class 'list'>, {'precision@5': 0.2313643059660801, 'precision@10': 0.15303110372363113, 'precision@15': 0.1187278379437894, 'ndcg@5': 0.20763778624505105, 'ndcg@10': 0.18590907236253182, 'ndcg@15': 0.18766131490904783, 'ndcg@all': 0.3906083515645146})\n",
      "valid defaultdict(<class 'list'>, {'precision@5': 0.22946886178546064, 'precision@10': 0.15273816777965216, 'precision@15': 0.11910751068920601, 'ndcg@5': 0.20700065345745386, 'ndcg@10': 0.18538233567410567, 'ndcg@15': 0.1874404632904398, 'ndcg@all': 0.38990477548809505})\n",
      "Epoch 61 7.501658197731215 7.501658082947018\n",
      "Epoch 62 7.501657927934713 7.501657846405751\n",
      "Epoch 63 7.50165765921096 7.501657542281263\n",
      "Epoch 64 7.501657380296087 7.501657279457633\n",
      "Epoch 65 7.501657118545206 7.501657039161742\n",
      "Epoch 66 7.501656848212329 7.501656783847358\n",
      "Epoch 67 7.501656595043444 7.5016564759682485\n",
      "Epoch 68 7.501656342947308 7.501656246936228\n",
      "Epoch 69 7.501656097824045 7.501656006640337\n",
      "Epoch 70 7.501655840900537 7.501655781362939\n",
      "\n",
      "train defaultdict(<class 'list'>, {'precision@5': 0.26216941190248666, 'precision@10': 0.173311291767454, 'precision@15': 0.13421659800145436, 'ndcg@5': 0.23485154183361473, 'ndcg@10': 0.21066019591048812, 'ndcg@15': 0.2128123426799431, 'ndcg@all': 0.4126713587677251})\n",
      "valid defaultdict(<class 'list'>, {'precision@5': 0.2608419608647429, 'precision@10': 0.17303069991858924, 'precision@15': 0.13452578764262163, 'ndcg@5': 0.23401508157647502, 'ndcg@10': 0.2099077497410962, 'ndcg@15': 0.21211545896811748, 'ndcg@all': 0.41160032317394346})\n",
      "Epoch 71 7.50165560328652 7.501655492256946\n",
      "Epoch 72 7.501655357090507 7.50165534958126\n",
      "Epoch 73 7.5016551023124975 7.50165508675763\n",
      "Epoch 74 7.501654885617096 7.501654797651637\n",
      "Epoch 75 7.501654658730574 7.501654561110369\n",
      "Epoch 76 7.501654421652932 7.501654410925437\n",
      "Epoch 77 7.501654190475413 7.501654095537081\n",
      "Epoch 78 7.501653990407628 7.501653945352149\n",
      "Epoch 79 7.501653774784977 7.5016537125655045\n",
      "Epoch 80 7.5016535784718155 7.501653483533484\n",
      "\n",
      "train defaultdict(<class 'list'>, {'precision@5': 0.2907247014335358, 'precision@10': 0.19224653868224678, 'precision@15': 0.1485233750986302, 'ndcg@5': 0.2596041863392389, 'ndcg@10': 0.2334198897078013, 'ndcg@15': 0.23579823174613398, 'ndcg@all': 0.43275211052497675})\n",
      "valid defaultdict(<class 'list'>, {'precision@5': 0.28928433863196784, 'precision@10': 0.1918815695864009, 'precision@15': 0.1483902595643922, 'ndcg@5': 0.2589821597253244, 'ndcg@10': 0.2329370602378695, 'ndcg@15': 0.23520604573835538, 'ndcg@all': 0.43185291703291767})\n"
     ]
    },
    {
     "name": "stdout",
     "output_type": "stream",
     "text": [
      "Epoch 81 7.501653353730793 7.501653299556942\n",
      "Epoch 82 7.501653136499017 7.501653111825778\n",
      "Epoch 83 7.501652941258605 7.501652924094613\n",
      "Epoch 84 7.501652735827074 7.501652665025606\n",
      "Epoch 85 7.501652543268536 7.501652499822181\n",
      "Epoch 86 7.501652362510243 7.5016523308641325\n",
      "Epoch 87 7.501652176388203 7.501652116850605\n",
      "Epoch 88 7.50165199777541 7.501651955401804\n",
      "Epoch 89 7.501651811653369 7.501651778934509\n",
      "Epoch 90 7.501651612658335 7.501651553657111\n",
      "\n",
      "train defaultdict(<class 'list'>, {'precision@5': 0.316838555985012, 'precision@10': 0.21001075883684062, 'precision@15': 0.16182547412955184, 'ndcg@5': 0.28214632822839697, 'ndcg@10': 0.2544231286567832, 'ndcg@15': 0.256947159700104, 'ndcg@all': 0.4511785108943892})\n",
      "valid defaultdict(<class 'list'>, {'precision@5': 0.3160599653176435, 'precision@10': 0.2091517528211038, 'precision@15': 0.16176702011757949, 'ndcg@5': 0.28177890263673827, 'ndcg@10': 0.253564078155465, 'ndcg@15': 0.2562863826751709, 'ndcg@all': 0.4499996330325059})\n",
      "Epoch 91 7.501651432972791 7.501651441018413\n",
      "Epoch 92 7.501651250605374 7.501651230759508\n",
      "Epoch 93 7.501651083792825 7.501651076819953\n",
      "Epoch 94 7.501650912689278 7.501650866561048\n",
      "Epoch 95 7.501650725494488 7.501650648792897\n",
      "Epoch 96 7.501650562436562 7.501650536154199\n",
      "Epoch 97 7.501650406351508 7.50165040098776\n",
      "Epoch 98 7.5016502229113415 7.501650254557452\n",
      "Epoch 99 7.501650050735044 7.501650070580911\n",
      "Epoch 100 7.501649911277608 7.501649845303513\n",
      "\n",
      "train defaultdict(<class 'list'>, {'precision@5': 0.34064664434394365, 'precision@10': 0.22636631184809655, 'precision@15': 0.1744864025856164, 'ndcg@5': 0.30231525409543475, 'ndcg@10': 0.2734381876659608, 'ndcg@15': 0.2765397387729587, 'ndcg@all': 0.4679461067251199})\n",
      "valid defaultdict(<class 'list'>, {'precision@5': 0.338640097792693, 'precision@10': 0.22533333289810992, 'precision@15': 0.17396644356213217, 'ndcg@5': 0.3015475038468368, 'ndcg@10': 0.2725009290486809, 'ndcg@15': 0.2754436693792268, 'ndcg@all': 0.46667153511460374})\n",
      "Epoch 101 7.501649756801678 7.501649792738787\n",
      "Epoch 102 7.501649578188885 7.501649571216013\n",
      "Epoch 103 7.50164945589544 7.50164947735043\n",
      "Epoch 104 7.501649283182768 7.501649282110019\n",
      "Epoch 105 7.501649135679711 7.501649083114985\n",
      "Epoch 106 7.501648977985532 7.501649000513272\n",
      "Epoch 107 7.501648848719216 7.501648816536731\n",
      "Epoch 108 7.501648694243286 7.501648711407278\n",
      "Epoch 109 7.501648572486217 7.50164856497697\n",
      "Epoch 110 7.5016484035281685 7.501648437319778\n",
      "\n",
      "train defaultdict(<class 'list'>, {'precision@5': 0.36266718531620384, 'precision@10': 0.24189382132783918, 'precision@15': 0.1864749266272589, 'ndcg@5': 0.3207182506742574, 'ndcg@10': 0.29101131204410935, 'ndcg@15': 0.29467469970072346, 'ndcg@all': 0.48327364277249646})\n",
      "valid defaultdict(<class 'list'>, {'precision@5': 0.3608443462473201, 'precision@10': 0.24033261941173883, 'precision@15': 0.18574114531043948, 'ndcg@5': 0.3204038926935571, 'ndcg@10': 0.2898652187482579, 'ndcg@15': 0.29340149192359505, 'ndcg@all': 0.4820036073838632})\n",
      "Epoch 111 7.501648275334602 7.501648279625599\n",
      "Epoch 112 7.501648138559039 7.5016481594776545\n",
      "Epoch 113 7.501647998028853 7.501648020556592\n",
      "Epoch 114 7.501647867153412 7.5016478478439215\n",
      "Epoch 115 7.501647706240986 7.501647708922859\n",
      "Epoch 116 7.501647592529538 7.50164758502029\n",
      "Epoch 117 7.501647461117722 7.501647416062243\n",
      "Epoch 118 7.501647320587536 7.501647340969776\n",
      "Epoch 119 7.501647197221342 7.501647175766352\n",
      "Epoch 120 7.501647077073397 7.501647093164639\n",
      "\n",
      "train defaultdict(<class 'list'>, {'precision@5': 0.38335374242409276, 'precision@10': 0.2564317486317005, 'precision@15': 0.1977476477790603, 'ndcg@5': 0.3378171243938472, 'ndcg@10': 0.30749276595523306, 'ndcg@15': 0.311645298458728, 'ndcg@all': 0.4975108985691693})\n",
      "valid defaultdict(<class 'list'>, {'precision@5': 0.38069418518562015, 'precision@10': 0.255234627507803, 'precision@15': 0.19682548036725503, 'ndcg@5': 0.33730999597414274, 'ndcg@10': 0.30664165799073345, 'ndcg@15': 0.3104666769504547, 'ndcg@all': 0.4962576188909726})\n",
      "Epoch 121 7.501646953707203 7.501646957998201\n",
      "Epoch 122 7.501646818540764 7.501646834095632\n",
      "Epoch 123 7.501646697320069 7.501646755248543\n",
      "Epoch 124 7.501646573953876 7.501646586290494\n",
      "Epoch 125 7.501646460778802 7.501646473651796\n",
      "Epoch 126 7.50164632185774 7.501646327221487\n",
      "Epoch 127 7.501646211900915 7.501646237110529\n",
      "Epoch 128 7.5016461040895885 7.5016461132079595\n",
      "Epoch 129 7.50164600378751 7.501646015587754\n",
      "Epoch 130 7.501645861111824 7.501645857893576\n",
      "\n",
      "train defaultdict(<class 'list'>, {'precision@5': 0.4021257859381299, 'precision@10': 0.2701998812275341, 'precision@15': 0.2083798195198765, 'ndcg@5': 0.3533697014651497, 'ndcg@10': 0.32286906001001964, 'ndcg@15': 0.32746615935498335, 'ndcg@all': 0.5107022806482454})\n",
      "valid defaultdict(<class 'list'>, {'precision@5': 0.3999053500299379, 'precision@10': 0.26850091308120666, 'precision@15': 0.20713020685150868, 'ndcg@5': 0.35288403681882724, 'ndcg@10': 0.321619190803663, 'ndcg@15': 0.32595338173738614, 'ndcg@all': 0.5092901592179546})\n",
      "Epoch 131 7.501645746327626 7.501645756518747\n",
      "Epoch 132 7.501645626716056 7.501645658898541\n",
      "Epoch 133 7.5016455301686 7.501645602579192\n",
      "Epoch 134 7.501645408947905 7.5016453960749105\n",
      "Epoch 135 7.501645275926966 7.501645298454705\n",
      "Epoch 136 7.501645162215517 7.501645245889979\n",
      "Epoch 137 7.501645056013316 7.501645061913438\n",
      "Epoch 138 7.501644939619993 7.5016450168579585\n",
      "Epoch 139 7.501644820008423 7.501644889200766\n",
      "Epoch 140 7.501644702005977 7.501644697714978\n",
      "\n",
      "train defaultdict(<class 'list'>, {'precision@5': 0.4198621776294386, 'precision@10': 0.2831627117266671, 'precision@15': 0.21817597572527264, 'ndcg@5': 0.3679510809573333, 'ndcg@10': 0.3371004135053525, 'ndcg@15': 0.34202987914412575, 'ndcg@all': 0.5229555379150957})\n",
      "valid defaultdict(<class 'list'>, {'precision@5': 0.41706990914081965, 'precision@10': 0.2813436710459041, 'precision@15': 0.21697156096067954, 'ndcg@5': 0.3670090239817702, 'ndcg@10': 0.3356900029764401, 'ndcg@15': 0.34035383951006914, 'ndcg@all': 0.521362565164491})\n",
      "Epoch 141 7.501644590440027 7.501644652659499\n",
      "Epoch 142 7.501644500329068 7.501644532511554\n",
      "Epoch 143 7.50164437535375 7.501644416118231\n",
      "Epoch 144 7.501644293824787 7.5016442997249095\n",
      "Epoch 145 7.50164414524898 7.501644247160183\n",
      "Epoch 146 7.501644057819894 7.501644066938265\n",
      "Epoch 147 7.501643960199688 7.501644003109669\n",
      "Epoch 148 7.501643860970359 7.501643875452477\n",
      "Epoch 149 7.501643752622658 7.501643807869258\n",
      "Epoch 150 7.501643646956831 7.501643698985182\n",
      "\n",
      "train defaultdict(<class 'list'>, {'precision@5': 0.43628796187509167, 'precision@10': 0.29524727152289637, 'precision@15': 0.2275186014792246, 'ndcg@5': 0.38147140665585333, 'ndcg@10': 0.35045736163217656, 'ndcg@15': 0.35583998448937226, 'ndcg@all': 0.5344335969843398})\n",
      "valid defaultdict(<class 'list'>, {'precision@5': 0.4329657197937252, 'precision@10': 0.29332386602566934, 'precision@15': 0.22659111750407482, 'ndcg@5': 0.3802211685912816, 'ndcg@10': 0.34872423382255974, 'ndcg@15': 0.35413733922590424, 'ndcg@all': 0.5325543256256524})\n",
      "Epoch 151 7.501643543436503 7.501643548800251\n",
      "Epoch 152 7.501643449034546 7.501643507499394\n",
      "Epoch 153 7.501643348196092 7.5016433648237095\n",
      "Epoch 154 7.501643239848391 7.501643259694257\n",
      "Epoch 155 7.5016431379371875 7.501643169583298\n",
      "Epoch 156 7.501643048898978 7.501643109509326\n",
      "Epoch 157 7.501642964688141 7.501642963079017\n",
      "Epoch 158 7.501642863313313 7.501642891741175\n",
      "Epoch 159 7.501642787148097 7.501642824157956\n",
      "Epoch 160 7.501642678264021 7.501642696500763\n",
      "\n",
      "train defaultdict(<class 'list'>, {'precision@5': 0.45141820182145914, 'precision@10': 0.30659832417361516, 'precision@15': 0.23654975531742195, 'ndcg@5': 0.3937987409305787, 'ndcg@10': 0.3628892659202335, 'ndcg@15': 0.36885094454907996, 'ndcg@all': 0.545088901696779})\n",
      "valid defaultdict(<class 'list'>, {'precision@5': 0.44764336075369765, 'precision@10': 0.30451331856682545, 'precision@15': 0.23545317645148028, 'ndcg@5': 0.3924338852796029, 'ndcg@10': 0.3610657167246961, 'ndcg@15': 0.36700377595706246, 'ndcg@all': 0.5431464694616362})\n",
      "Epoch 161 7.501642584934814 7.501642640181414\n",
      "Epoch 162 7.501642486241859 7.501642568843571\n",
      "Epoch 163 7.501642397740024 7.501642467468742\n",
      "Epoch 164 7.501642318892935 7.501642381112407\n",
      "Epoch 165 7.501642236827597 7.5016422797375775\n"
     ]
    },
    {
     "name": "stdout",
     "output_type": "stream",
     "text": [
      "Epoch 166 7.501642147789387 7.501642178362749\n",
      "Epoch 167 7.501642064651301 7.5016421220434\n",
      "Epoch 168 7.501641984195087 7.50164202066857\n",
      "Epoch 169 7.501641920902866 7.501641975613091\n",
      "Epoch 170 7.501641819528037 7.501641919293742\n",
      "\n",
      "train defaultdict(<class 'list'>, {'precision@5': 0.4651457890281527, 'precision@10': 0.3173273308674047, 'precision@15': 0.24496611630956824, 'ndcg@5': 0.40520619330309643, 'ndcg@10': 0.37460058957707093, 'ndcg@15': 0.38100304089997833, 'ndcg@all': 0.555061140800622})\n",
      "valid defaultdict(<class 'list'>, {'precision@5': 0.4616263431357586, 'precision@10': 0.3150881207364751, 'precision@15': 0.2437947026387913, 'ndcg@5': 0.4038074349793862, 'ndcg@10': 0.372575097900676, 'ndcg@15': 0.37901224958615043, 'ndcg@all': 0.5529456870762381})\n",
      "Epoch 171 7.501641739608198 7.501641825428159\n",
      "Epoch 172 7.501641650569988 7.5016417353172\n",
      "Epoch 173 7.501641572259274 7.501641637696995\n",
      "Epoch 174 7.501641485366564 7.501641585132268\n",
      "Epoch 175 7.501641397937479 7.501641491266686\n",
      "Epoch 176 7.501641340009005 7.50164143870196\n",
      "Epoch 177 7.501641269207537 7.501641356100247\n",
      "Epoch 178 7.501641190360448 7.501641239706926\n",
      "Epoch 179 7.5016410825491215 7.501641145841343\n",
      "Epoch 180 7.501641003165658 7.5016410745035005\n",
      "\n",
      "train defaultdict(<class 'list'>, {'precision@5': 0.47818995252905333, 'precision@10': 0.32740724505804253, 'precision@15': 0.25292653438747265, 'ndcg@5': 0.4159598142679684, 'ndcg@10': 0.38559454676136795, 'ndcg@15': 0.3924883212160876, 'ndcg@all': 0.5644302493541662})\n",
      "valid defaultdict(<class 'list'>, {'precision@5': 0.47417911159710624, 'precision@10': 0.3248288338109264, 'precision@15': 0.2516049826004374, 'ndcg@5': 0.41425718191101796, 'ndcg@10': 0.38309426969430577, 'ndcg@15': 0.3902638667211758, 'ndcg@all': 0.5620857186204805})\n",
      "Epoch 181 7.5016409302186915 7.501641018184151\n",
      "Epoch 182 7.501640846007854 7.501640913054699\n",
      "Epoch 183 7.501640785933882 7.501640849226103\n",
      "Epoch 184 7.501640709768666 7.501640751605898\n",
      "Epoch 185 7.501640634139826 7.501640669004185\n",
      "Epoch 186 7.501640548319865 7.501640680268055\n",
      "Epoch 187 7.501640480200271 7.501640608930212\n",
      "Epoch 188 7.501640408862428 7.501640507555384\n",
      "Epoch 189 7.501640323578842 7.501640398671308\n",
      "Epoch 190 7.501640258677496 7.501640372388945\n",
      "\n",
      "train defaultdict(<class 'list'>, {'precision@5': 0.4900949759947302, 'precision@10': 0.3367528703872479, 'precision@15': 0.26049696871145506, 'ndcg@5': 0.42573918568135916, 'ndcg@10': 0.39565559329949024, 'ndcg@15': 0.40318244833109484, 'ndcg@all': 0.5731008847331035})\n",
      "valid defaultdict(<class 'list'>, {'precision@5': 0.48565926936667736, 'precision@10': 0.334908451855652, 'precision@15': 0.25901774557556695, 'ndcg@5': 0.4237301910486747, 'ndcg@10': 0.3934825407707785, 'ndcg@15': 0.4008362863476821, 'ndcg@all': 0.5705688445586857})\n",
      "Epoch 191 7.5016401969943995 7.501640237222507\n",
      "Epoch 192 7.501640117610935 7.501640158375417\n",
      "Epoch 193 7.501640047345843 7.501640094546821\n",
      "Epoch 194 7.501639956698509 7.501640057000588\n",
      "Epoch 195 7.501639893942662 7.501640026963602\n",
      "Epoch 196 7.501639830650441 7.501639914324903\n",
      "Epoch 197 7.501639753412476 7.501639880533293\n",
      "Epoch 198 7.501639687438381 7.501639764139972\n"
     ]
    }
   ],
   "source": [
    "train_config = {\n",
    "    \"lr\": 0.5,\n",
    "    \"momentum\": 0.0,\n",
    "    \"weight_decay\": 0.0,\n",
    "    \n",
    "    \"n_epoch\": 200,\n",
    "    \"verbose\": True,\n",
    "    \"valid_epoch\": 10,\n",
    "    \n",
    "    \"topk\": [5, 10, 15],\n",
    "    \n",
    "    \"h_dim\": 3000,\n",
    "    \"criterion\": \"ListNet_sigmoid_L1\"\n",
    "}\n",
    "\n",
    "train_decoder(doc_embs, targets, train_config)"
   ]
  },
  {
   "cell_type": "code",
   "execution_count": null,
   "id": "cf393259",
   "metadata": {},
   "outputs": [],
   "source": [
    "train_config = {\n",
    "    \"lr\": 1,\n",
    "    \"momentum\": 0.0,\n",
    "    \"weight_decay\": 0.0,\n",
    "    \n",
    "    \"n_epoch\": 500,\n",
    "    \"verbose\": True,\n",
    "    \"valid_epoch\": 10,\n",
    "    \n",
    "    \"topk\": [5, 10, 15],\n",
    "    \n",
    "    \"h_dim\": 3000,\n",
    "    \"criterion\": \"ListNet_sigmoid_L1\"\n",
    "}\n",
    "\n",
    "train_decoder(doc_embs, targets, train_config)"
   ]
  },
  {
   "cell_type": "code",
   "execution_count": null,
   "id": "bb5f70a4",
   "metadata": {},
   "outputs": [],
   "source": [
    "train_config = {\n",
    "    \"lr\": 0.05,\n",
    "    \"momentum\": 0.0,\n",
    "    \"weight_decay\": 0.0,\n",
    "    \n",
    "    \"n_epoch\": 500,\n",
    "    \"verbose\": True,\n",
    "    \"valid_epoch\": 10,\n",
    "    \n",
    "    \"topk\": [5, 10, 15],\n",
    "    \n",
    "    \"h_dim\": 3000,\n",
    "    \"criterion\": \"ListNet_sigmoid_L1\"\n",
    "}\n",
    "\n",
    "train_decoder(doc_embs, targets, train_config)"
   ]
  },
  {
   "cell_type": "code",
   "execution_count": null,
   "id": "f5085a27",
   "metadata": {},
   "outputs": [],
   "source": []
  },
  {
   "cell_type": "code",
   "execution_count": null,
   "id": "1e982de7",
   "metadata": {},
   "outputs": [],
   "source": [
    "# train_config[\"lr\"] = 0.05\n",
    "# train_config[\"criterion\"] = \"MultiLabelMarginLossCustomV:1\"\n",
    "# train_decoder(doc_embs, targets, train_config)"
   ]
  },
  {
   "cell_type": "code",
   "execution_count": null,
   "id": "323e24d2",
   "metadata": {},
   "outputs": [],
   "source": [
    "# train_config[\"lr\"] = 0.1\n",
    "# train_config[\"criterion\"] = \"MultiLabelMarginLossCustom:1\"\n",
    "# train_decoder(doc_embs, targets, train_config)"
   ]
  },
  {
   "cell_type": "code",
   "execution_count": null,
   "id": "f0d734a2",
   "metadata": {},
   "outputs": [],
   "source": []
  }
 ],
 "metadata": {
  "kernelspec": {
   "display_name": "Python 3",
   "language": "python",
   "name": "python3"
  },
  "language_info": {
   "codemirror_mode": {
    "name": "ipython",
    "version": 3
   },
   "file_extension": ".py",
   "mimetype": "text/x-python",
   "name": "python",
   "nbconvert_exporter": "python",
   "pygments_lexer": "ipython3",
   "version": "3.7.0"
  }
 },
 "nbformat": 4,
 "nbformat_minor": 5
}
