{
 "cells": [
  {
   "cell_type": "code",
   "execution_count": 2,
   "id": "1dcf1df1",
   "metadata": {},
   "outputs": [],
   "source": [
    "import sys\n",
    "sys.path.append('../')\n",
    "from utils.data_loader import load_document"
   ]
  },
  {
   "cell_type": "code",
   "execution_count": 3,
   "id": "91612b1c",
   "metadata": {},
   "outputs": [
    {
     "name": "stdout",
     "output_type": "stream",
     "text": [
      "18846\n"
     ]
    }
   ],
   "source": [
    "r = load_document('20news')\n",
    "print(len(r['documents']))"
   ]
  },
  {
   "cell_type": "code",
   "execution_count": 4,
   "id": "3cba3e7e",
   "metadata": {},
   "outputs": [
    {
     "name": "stderr",
     "output_type": "stream",
     "text": [
      "Using custom data configuration default\n",
      "Reusing dataset ag_news (/home/chrisliu/.cache/huggingface/datasets/ag_news/default/0.0.0/bc2bcb40336ace1a0374767fc29bb0296cdaf8a6da7298436239c54d79180548)\n"
     ]
    },
    {
     "name": "stdout",
     "output_type": "stream",
     "text": [
      "127600\n"
     ]
    }
   ],
   "source": [
    "r = load_document('agnews')\n",
    "print(len(r['documents']))"
   ]
  },
  {
   "cell_type": "code",
   "execution_count": 5,
   "id": "acff19ce",
   "metadata": {},
   "outputs": [
    {
     "name": "stderr",
     "output_type": "stream",
     "text": [
      "Reusing dataset wikitext (/home/chrisliu/.cache/huggingface/datasets/wikitext/wikitext-103-v1/1.0.0/a241db52902eaf2c6aa732210bead40c090019a499ceb13bcbfa3f8ab646a126)\n"
     ]
    },
    {
     "name": "stdout",
     "output_type": "stream",
     "text": [
      "861715\n"
     ]
    }
   ],
   "source": [
    "r = load_document('wiki')\n",
    "print(len(r['documents']))"
   ]
  },
  {
   "cell_type": "code",
   "execution_count": 6,
   "id": "525a1253",
   "metadata": {},
   "outputs": [
    {
     "name": "stderr",
     "output_type": "stream",
     "text": [
      "Reusing dataset imdb (/home/chrisliu/.cache/huggingface/datasets/imdb/plain_text/1.0.0/2fdd8b9bcadd6e7055e742a706876ba43f19faee861df134affd7a3f60fc38a1)\n"
     ]
    },
    {
     "name": "stdout",
     "output_type": "stream",
     "text": [
      "50000\n"
     ]
    }
   ],
   "source": [
    "r = load_document('IMDB')\n",
    "print(len(r['documents']))"
   ]
  },
  {
   "cell_type": "code",
   "execution_count": null,
   "id": "1e30c24f",
   "metadata": {},
   "outputs": [],
   "source": []
  }
 ],
 "metadata": {
  "kernelspec": {
   "display_name": "Python 3",
   "language": "python",
   "name": "python3"
  },
  "language_info": {
   "codemirror_mode": {
    "name": "ipython",
    "version": 3
   },
   "file_extension": ".py",
   "mimetype": "text/x-python",
   "name": "python",
   "nbconvert_exporter": "python",
   "pygments_lexer": "ipython3",
   "version": "3.7.0"
  }
 },
 "nbformat": 4,
 "nbformat_minor": 5
}
