{
 "cells": [
  {
   "cell_type": "code",
   "execution_count": 1,
   "id": "1dcf1df1",
   "metadata": {},
   "outputs": [],
   "source": [
    "import json\n",
    "import os\n",
    "import sys\n",
    "sys.path.append('../')\n",
    "from utils.data_loader import load_document\n",
    "from utils.toolbox import preprocess_document, get_preprocess_document, get_preprocess_document_embs,\\\n",
    "                          get_preprocess_document_labels, get_preprocess_document_labels_v2, get_word_embs,\\\n",
    "                          get_free_gpu, merge_targets\n",
    "import numpy as np"
   ]
  },
  {
   "cell_type": "code",
   "execution_count": 2,
   "id": "d29c4520",
   "metadata": {},
   "outputs": [],
   "source": [
    "def load_training_data(config, dataset):\n",
    "    preprocess_config_dir = config['preprocess_config_dir']\n",
    "    with open(os.path.join(f'../chris/{preprocess_config_dir}', f'preprocess_config_{dataset}.json'), 'r') as f:\n",
    "        preprocess_config = json.load(f)\n",
    "        \n",
    "    # load preprocess dataset\n",
    "    unpreprocessed_docs, preprocessed_docs = get_preprocess_document(**preprocess_config)\n",
    "    print('doc num', len(preprocessed_docs))\n",
    "    \n",
    "    # load labels\n",
    "    labels, vocabularys = get_preprocess_document_labels_v2(preprocessed_docs, preprocess_config, preprocess_config_dir, config['n_gram'])    \n",
    "    # check nonzero numbers\n",
    "    for k in labels:\n",
    "        print(k, np.sum(labels[k]!=0), labels[k].shape)\n",
    "    print(len(vocabularys))\n",
    "    # select label type\n",
    "    targets = labels[config['label_type']].toarray()\n",
    "    vocabularys = vocabularys\n",
    "    \n",
    "    return unpreprocessed_docs ,preprocessed_docs, targets, vocabularys"
   ]
  },
  {
   "cell_type": "code",
   "execution_count": 3,
   "id": "5cc153fc",
   "metadata": {},
   "outputs": [],
   "source": [
    "dataset ='20news'\n",
    "label_type = 'tf-idf'\n",
    "preprocess_config_dir = 'parameters_baseline2'\n",
    "n_gram = 1\n",
    "\n",
    "config = {}\n",
    "config['preprocess_config_dir'] = preprocess_config_dir\n",
    "config['dataset'] = dataset\n",
    "config['label_type'] = label_type\n",
    "config['n_gram'] = n_gram"
   ]
  },
  {
   "cell_type": "code",
   "execution_count": null,
   "id": "91612b1c",
   "metadata": {
    "scrolled": true
   },
   "outputs": [],
   "source": [
    "config['dataset'] ='20news'\n",
    "unpreprocessed_docs ,preprocessed_docs, targets, vocabularys = load_training_data(config, config['dataset'])\n",
    "np.mean([len(preprocessed_docs[i].split()) for i in range(len(preprocessed_docs))])"
   ]
  },
  {
   "cell_type": "code",
   "execution_count": null,
   "id": "3cba3e7e",
   "metadata": {},
   "outputs": [],
   "source": [
    "config['dataset'] ='agnews'\n",
    "unpreprocessed_docs ,preprocessed_docs, targets, vocabularys = load_training_data(config, config['dataset'])\n",
    "np.mean([len(preprocessed_docs[i].split()) for i in range(len(preprocessed_docs))])"
   ]
  },
  {
   "cell_type": "code",
   "execution_count": 4,
   "id": "acff19ce",
   "metadata": {},
   "outputs": [
    {
     "name": "stdout",
     "output_type": "stream",
     "text": [
      "Getting preprocess documents: wiki\n",
      "min_df: 2872 max_df: 1.0 vocabulary_size: None min_doc_word: 15\n"
     ]
    },
    {
     "name": "stderr",
     "output_type": "stream",
     "text": [
      "Reusing dataset wikitext (/home/chrisliu/.cache/huggingface/datasets/wikitext/wikitext-103-v1/1.0.0/a241db52902eaf2c6aa732210bead40c090019a499ceb13bcbfa3f8ab646a126)\n"
     ]
    },
    {
     "name": "stdout",
     "output_type": "stream",
     "text": [
      "doc num 557856\n",
      "Getting preprocess documents labels\n",
      "Finding precompute_keyword by preprocess_config {'dataset': 'wiki', 'min_df': 2872, 'max_df': 1.0, 'vocabulary_size': None, 'min_doc_word': 15}\n",
      "tf-idf 13915361 (557856, 2384)\n",
      "bow 13915361 (557856, 2384)\n",
      "keybert 13306816 (557856, 2384)\n",
      "yake 12663203 (557856, 2384)\n",
      "2384\n"
     ]
    },
    {
     "data": {
      "text/plain": [
       "30.867177192680547"
      ]
     },
     "execution_count": 4,
     "metadata": {},
     "output_type": "execute_result"
    }
   ],
   "source": [
    "config['dataset'] ='wiki'\n",
    "unpreprocessed_docs ,preprocessed_docs, targets, vocabularys = load_training_data(config, config['dataset'])\n",
    "np.mean([len(preprocessed_docs[i].split()) for i in range(len(preprocessed_docs))])"
   ]
  },
  {
   "cell_type": "code",
   "execution_count": null,
   "id": "525a1253",
   "metadata": {
    "scrolled": true
   },
   "outputs": [],
   "source": [
    "config['dataset'] ='IMDB'\n",
    "unpreprocessed_docs ,preprocessed_docs, targets, vocabularys = load_training_data(config, config['dataset'])\n",
    "np.mean([len(preprocessed_docs[i].split()) for i in range(len(preprocessed_docs))])"
   ]
  },
  {
   "cell_type": "code",
   "execution_count": null,
   "id": "1e30c24f",
   "metadata": {},
   "outputs": [],
   "source": []
  }
 ],
 "metadata": {
  "kernelspec": {
   "display_name": "Python 3",
   "language": "python",
   "name": "python3"
  },
  "language_info": {
   "codemirror_mode": {
    "name": "ipython",
    "version": 3
   },
   "file_extension": ".py",
   "mimetype": "text/x-python",
   "name": "python",
   "nbconvert_exporter": "python",
   "pygments_lexer": "ipython3",
   "version": "3.7.0"
  }
 },
 "nbformat": 4,
 "nbformat_minor": 5
}
