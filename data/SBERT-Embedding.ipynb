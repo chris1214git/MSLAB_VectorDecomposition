{
 "cells": [
  {
   "cell_type": "code",
   "execution_count": 3,
   "id": "44d2982f",
   "metadata": {},
   "outputs": [],
   "source": [
    "from octis.dataset.dataset import Dataset\n",
    "dataset = Dataset()\n",
    "dataset.fetch_dataset(\"20NewsGroup\")"
   ]
  },
  {
   "cell_type": "code",
   "execution_count": 4,
   "id": "3c1d450b",
   "metadata": {},
   "outputs": [],
   "source": [
    "corpus = dataset.get_corpus()\n",
    "documents = [\" \".join(i) for i in corpus]"
   ]
  },
  {
   "cell_type": "code",
   "execution_count": 6,
   "id": "9d48417b",
   "metadata": {},
   "outputs": [],
   "source": [
    "from sentence_transformers import SentenceTransformer\n",
    "model = SentenceTransformer('all-mpnet-base-v2',device=\"cuda:0\")"
   ]
  },
  {
   "cell_type": "code",
   "execution_count": 7,
   "id": "3c452bd1",
   "metadata": {
    "scrolled": true
   },
   "outputs": [
    {
     "data": {
      "application/vnd.jupyter.widget-view+json": {
       "model_id": "1b69874bc92142e89de4aad302d9259d",
       "version_major": 2,
       "version_minor": 0
      },
      "text/plain": [
       "Batches:   0%|          | 0/510 [00:00<?, ?it/s]"
      ]
     },
     "metadata": {},
     "output_type": "display_data"
    }
   ],
   "source": [
    "embeddings = model.encode(documents,show_progress_bar=True)"
   ]
  },
  {
   "cell_type": "code",
   "execution_count": 8,
   "id": "db9228ae",
   "metadata": {},
   "outputs": [],
   "source": [
    "import numpy as np "
   ]
  },
  {
   "cell_type": "code",
   "execution_count": 9,
   "id": "fb5233db",
   "metadata": {},
   "outputs": [
    {
     "data": {
      "text/plain": [
       "(16309, 768)"
      ]
     },
     "execution_count": 9,
     "metadata": {},
     "output_type": "execute_result"
    }
   ],
   "source": [
    "embeddings.shape"
   ]
  },
  {
   "cell_type": "code",
   "execution_count": 10,
   "id": "fd752cda",
   "metadata": {},
   "outputs": [],
   "source": [
    "np.save(\"docvec_20NG_SBERT_768d\",embeddings)"
   ]
  }
 ],
 "metadata": {
  "kernelspec": {
   "display_name": "Python 3",
   "language": "python",
   "name": "python3"
  },
  "language_info": {
   "codemirror_mode": {
    "name": "ipython",
    "version": 3
   },
   "file_extension": ".py",
   "mimetype": "text/x-python",
   "name": "python",
   "nbconvert_exporter": "python",
   "pygments_lexer": "ipython3",
   "version": "3.8.10"
  }
 },
 "nbformat": 4,
 "nbformat_minor": 5
}
