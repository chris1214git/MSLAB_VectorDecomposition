{
 "cells": [
  {
   "cell_type": "code",
   "execution_count": 1,
   "id": "0e17c774",
   "metadata": {},
   "outputs": [],
   "source": [
    "%config Completer.use_jedi = False"
   ]
  },
  {
   "cell_type": "code",
   "execution_count": 2,
   "id": "2535e46c",
   "metadata": {},
   "outputs": [],
   "source": [
    "import os\n",
    "import argparse\n",
    "import sys\n",
    "from gensim.models import Word2Vec\n",
    "import re\n",
    "\n",
    "import numpy as np\n",
    "import torch\n",
    "import torch.nn as nn\n",
    "import torch.nn.functional as F\n",
    "from pytorch_lightning import seed_everything\n",
    "from torch.utils.data import DataLoader, TensorDataset, random_split, Dataset\n",
    "from tqdm.auto import tqdm\n",
    "from sklearn.feature_extraction.text import TfidfVectorizer\n",
    "from collections import defaultdict\n",
    "\n",
    "sys.path.append(\"../\")\n",
    "\n",
    "from utils.data_processing import get_process_data\n",
    "from utils.data_loader import load_document\n",
    "from utils.loss import ListNet\n",
    "from utils.eval import retrieval_normalized_dcg_all, retrieval_precision_all\n",
    "\n",
    "# fix random seed\n",
    "def same_seeds(seed):\n",
    "    torch.manual_seed(seed)\n",
    "    if torch.cuda.is_available():\n",
    "        torch.cuda.manual_seed(seed)\n",
    "        torch.cuda.manual_seed_all(seed)\n",
    "    np.random.seed(seed)\n",
    "    torch.backends.cudnn.benchmark = False\n",
    "    torch.backends.cudnn.deterministic = True\n",
    "\n",
    "def get_freer_gpu():\n",
    "    os.system('nvidia-smi -q -d Memory |grep -A4 GPU|grep Free > tmp')\n",
    "    memory_available = [int(x.split()[2]) for x in open('tmp', 'r').readlines()]\n",
    "    return int(np.argmax(memory_available))"
   ]
  },
  {
   "cell_type": "code",
   "execution_count": 3,
   "id": "d59e08fa",
   "metadata": {},
   "outputs": [],
   "source": [
    "device = f\"cuda:{get_freer_gpu()}\"\n",
    "config = {\n",
    "    \"topk\":[10,30,50]\n",
    "}"
   ]
  },
  {
   "cell_type": "code",
   "execution_count": 4,
   "id": "21f5be75",
   "metadata": {},
   "outputs": [
    {
     "name": "stderr",
     "output_type": "stream",
     "text": [
      "Global seed set to 123\n"
     ]
    },
    {
     "data": {
      "text/plain": [
       "123"
      ]
     },
     "execution_count": 4,
     "metadata": {},
     "output_type": "execute_result"
    }
   ],
   "source": [
    "seed = 123\n",
    "seed_everything(123)"
   ]
  },
  {
   "cell_type": "code",
   "execution_count": 5,
   "id": "8b9b6bd6",
   "metadata": {},
   "outputs": [],
   "source": [
    "from octis.dataset.dataset import Dataset\n",
    "raw_dataset = Dataset()\n",
    "raw_dataset.fetch_dataset(\"20NewsGroup\")"
   ]
  },
  {
   "cell_type": "code",
   "execution_count": 6,
   "id": "df2847a4",
   "metadata": {},
   "outputs": [],
   "source": [
    "corpus = raw_dataset.get_corpus()\n",
    "raw_documents = [\" \".join(i) for i in corpus]"
   ]
  },
  {
   "cell_type": "code",
   "execution_count": 7,
   "id": "4872bd03",
   "metadata": {
    "scrolled": true
   },
   "outputs": [],
   "source": [
    "docvec = np.load(\"../data/docvec_20NG_SBERT_768d.npy\")\n",
    "dim = 768"
   ]
  },
  {
   "cell_type": "code",
   "execution_count": 8,
   "id": "25cdc4be",
   "metadata": {},
   "outputs": [],
   "source": [
    "# get TF-IDF score\n",
    "vectorizer = TfidfVectorizer(min_df=10,stop_words=\"english\")\n",
    "importance_score = vectorizer.fit_transform(raw_documents).todense()"
   ]
  },
  {
   "cell_type": "code",
   "execution_count": 9,
   "id": "a9a16aeb",
   "metadata": {},
   "outputs": [
    {
     "name": "stdout",
     "output_type": "stream",
     "text": [
      "Vocab size:1588\n"
     ]
    }
   ],
   "source": [
    "vocab_size = len(vectorizer.vocabulary_)\n",
    "print(f\"Vocab size:{vocab_size}\")"
   ]
  },
  {
   "cell_type": "code",
   "execution_count": 10,
   "id": "c18d8189",
   "metadata": {},
   "outputs": [],
   "source": [
    "class IDEDataset(Dataset):\n",
    "    def __init__(self, \n",
    "                 doc_vectors,\n",
    "                 weight_ans):\n",
    "        \n",
    "        assert len(doc_vectors) == len(weight_ans)\n",
    "\n",
    "        self.doc_vectors = torch.FloatTensor(doc_vectors)\n",
    "        self.weight_ans = torch.FloatTensor(weight_ans)        \n",
    "        self.weight_ans_s = torch.argsort(self.weight_ans, dim=1, descending=True)\n",
    "        self.topk = torch.sum(self.weight_ans > 0, dim=1)\n",
    "        \n",
    "    def __getitem__(self, idx):\n",
    "        return self.doc_vectors[idx], self.weight_ans[idx], self.weight_ans_s[idx], self.topk[idx]\n",
    "\n",
    "    def __len__(self):\n",
    "        return len(self.doc_vectors)"
   ]
  },
  {
   "cell_type": "code",
   "execution_count": 11,
   "id": "9ac519a1",
   "metadata": {},
   "outputs": [],
   "source": [
    "dataset = IDEDataset(docvec, importance_score)\n",
    "train_length = int(len(dataset)*0.6)\n",
    "valid_length = int(len(dataset)*0.2)\n",
    "test_length = len(dataset) - train_length - valid_length\n",
    "\n",
    "full_loader = DataLoader(dataset, batch_size=128)\n",
    "train_dataset, valid_dataset, test_dataset = random_split(\n",
    "    dataset, lengths=[train_length, valid_length,test_length],\n",
    "    generator=torch.Generator().manual_seed(42)\n",
    "    )"
   ]
  },
  {
   "cell_type": "code",
   "execution_count": 12,
   "id": "004022ee",
   "metadata": {},
   "outputs": [],
   "source": [
    "train_loader = DataLoader(\n",
    "    train_dataset, batch_size=128, \n",
    "    shuffle=True, pin_memory=True,\n",
    ")\n",
    "valid_loader = DataLoader(\n",
    "    valid_dataset, batch_size=128, shuffle=False, pin_memory=True,drop_last=True)\n",
    "test_loader = DataLoader(\n",
    "    test_dataset, batch_size=128, shuffle=False)"
   ]
  },
  {
   "cell_type": "code",
   "execution_count": 13,
   "id": "f1e866b3",
   "metadata": {},
   "outputs": [],
   "source": [
    "class Decoder(nn.Module):\n",
    "    def __init__(self, input_dim, hidden_dim, output_dim):\n",
    "        super().__init__()\n",
    "        self.word_embedding = nn.Parameter(torch.randn(hidden_dim, output_dim))\n",
    "        self.transform = nn.Sequential(\n",
    "            nn.Linear(input_dim,hidden_dim),\n",
    "            nn.BatchNorm1d(hidden_dim),\n",
    "            nn.Sigmoid(),\n",
    "            nn.Linear(hidden_dim,hidden_dim),\n",
    "            nn.BatchNorm1d(hidden_dim),\n",
    "            nn.Sigmoid(),\n",
    "        )\n",
    "    def forward(self, x):\n",
    "        docvec = self.transform(x)\n",
    "        decoded = torch.sigmoid(torch.matmul(docvec,self.word_embedding))\n",
    "        return decoded\n",
    "    \n",
    "    def load_pretrianed(self,word_embedding):\n",
    "        self.word_embedding = nn.Parameter(torch.FloatTensor(word_embedding))"
   ]
  },
  {
   "cell_type": "code",
   "execution_count": 14,
   "id": "7265d75a",
   "metadata": {},
   "outputs": [],
   "source": [
    "def evaluate_Decoder(model, data_loader):\n",
    "    results = defaultdict(list)\n",
    "    model.eval()\n",
    "        \n",
    "    # predict all data\n",
    "    for data in data_loader:\n",
    "        doc_embs, target, _, _ = data\n",
    "        \n",
    "        doc_embs = doc_embs.to(device)\n",
    "        target = target.to(device)\n",
    "                \n",
    "        pred = model(doc_embs)\n",
    "    \n",
    "        # Precision\n",
    "        precision_scores = retrieval_precision_all(pred, target, k=config[\"topk\"])\n",
    "        for k, v in precision_scores.items():\n",
    "            results['precision@{}'.format(k)].append(v)\n",
    "        \n",
    "        # NDCG\n",
    "        ndcg_scores = retrieval_normalized_dcg_all(pred, target, k=config[\"topk\"])\n",
    "        for k, v in ndcg_scores.items():\n",
    "            results['ndcg@{}'.format(k)].append(v)\n",
    "        \n",
    "    for k in results:\n",
    "        results[k] = np.mean(results[k])\n",
    "\n",
    "    return results"
   ]
  },
  {
   "cell_type": "code",
   "execution_count": 15,
   "id": "ed2689c3",
   "metadata": {},
   "outputs": [],
   "source": [
    "decoder = Decoder(input_dim=dim,hidden_dim=1024,output_dim=vocab_size)\n",
    "optimizer = torch.optim.Adam(decoder.parameters(), lr = 1e-4)\n",
    "# initialize parameters\n",
    "for p in decoder.parameters():\n",
    "    if p.dim() > 1:\n",
    "        nn.init.xavier_uniform_(p)\n",
    "# decoder.load_pretrianed(pretrain_wordembedding)\n",
    "decoder = decoder.to(device)"
   ]
  },
  {
   "cell_type": "code",
   "execution_count": 16,
   "id": "69387b28",
   "metadata": {
    "scrolled": true
   },
   "outputs": [
    {
     "data": {
      "application/vnd.jupyter.widget-view+json": {
       "model_id": "75a79e4ae4204191965df60f019a7025",
       "version_major": 2,
       "version_minor": 0
      },
      "text/plain": [
       "Training:   0%|          | 0/77 [00:00<?, ?it/s]"
      ]
     },
     "metadata": {},
     "output_type": "display_data"
    },
    {
     "name": "stdout",
     "output_type": "stream",
     "text": [
      "[Epoch 01]\n",
      "precision@10:0.1843\n",
      "precision@30:0.1287\n",
      "precision@50:0.1082\n",
      "ndcg@10:0.0938\n",
      "ndcg@30:0.1157\n",
      "ndcg@50:0.1360\n",
      "ndcg@all:0.3672\n"
     ]
    },
    {
     "data": {
      "application/vnd.jupyter.widget-view+json": {
       "model_id": "4d1c817688f640728d6f2fe6320b02b1",
       "version_major": 2,
       "version_minor": 0
      },
      "text/plain": [
       "Training:   0%|          | 0/77 [00:00<?, ?it/s]"
      ]
     },
     "metadata": {},
     "output_type": "display_data"
    },
    {
     "name": "stdout",
     "output_type": "stream",
     "text": [
      "[Epoch 02]\n",
      "precision@10:0.1971\n",
      "precision@30:0.1657\n",
      "precision@50:0.1385\n",
      "ndcg@10:0.0925\n",
      "ndcg@30:0.1511\n",
      "ndcg@50:0.1805\n",
      "ndcg@all:0.3903\n"
     ]
    },
    {
     "data": {
      "application/vnd.jupyter.widget-view+json": {
       "model_id": "39fa8a70fb594c08afaf8d063a9c2706",
       "version_major": 2,
       "version_minor": 0
      },
      "text/plain": [
       "Training:   0%|          | 0/77 [00:00<?, ?it/s]"
      ]
     },
     "metadata": {},
     "output_type": "display_data"
    },
    {
     "name": "stdout",
     "output_type": "stream",
     "text": [
      "[Epoch 03]\n",
      "precision@10:0.3149\n",
      "precision@30:0.2076\n",
      "precision@50:0.1642\n",
      "ndcg@10:0.2159\n",
      "ndcg@30:0.2541\n",
      "ndcg@50:0.2800\n",
      "ndcg@all:0.4662\n"
     ]
    },
    {
     "data": {
      "application/vnd.jupyter.widget-view+json": {
       "model_id": "f12c8bd8d3244b2d90e7ca2cc3bf8a49",
       "version_major": 2,
       "version_minor": 0
      },
      "text/plain": [
       "Training:   0%|          | 0/77 [00:00<?, ?it/s]"
      ]
     },
     "metadata": {},
     "output_type": "display_data"
    },
    {
     "name": "stdout",
     "output_type": "stream",
     "text": [
      "[Epoch 04]\n",
      "precision@10:0.3778\n",
      "precision@30:0.2348\n",
      "precision@50:0.1816\n",
      "ndcg@10:0.3463\n",
      "ndcg@30:0.3668\n",
      "ndcg@50:0.3907\n",
      "ndcg@all:0.5602\n"
     ]
    },
    {
     "data": {
      "application/vnd.jupyter.widget-view+json": {
       "model_id": "42d4ceede5b440979da47f94de2b4f00",
       "version_major": 2,
       "version_minor": 0
      },
      "text/plain": [
       "Training:   0%|          | 0/77 [00:00<?, ?it/s]"
      ]
     },
     "metadata": {},
     "output_type": "display_data"
    },
    {
     "name": "stdout",
     "output_type": "stream",
     "text": [
      "[Epoch 05]\n",
      "precision@10:0.4224\n",
      "precision@30:0.2534\n",
      "precision@50:0.1938\n",
      "ndcg@10:0.4019\n",
      "ndcg@30:0.4169\n",
      "ndcg@50:0.4397\n",
      "ndcg@all:0.5987\n"
     ]
    },
    {
     "data": {
      "application/vnd.jupyter.widget-view+json": {
       "model_id": "5d88a934e556476f9b5a0fffc65b7799",
       "version_major": 2,
       "version_minor": 0
      },
      "text/plain": [
       "Training:   0%|          | 0/77 [00:00<?, ?it/s]"
      ]
     },
     "metadata": {},
     "output_type": "display_data"
    },
    {
     "name": "stdout",
     "output_type": "stream",
     "text": [
      "[Epoch 06]\n",
      "precision@10:0.4496\n",
      "precision@30:0.2677\n",
      "precision@50:0.2030\n",
      "ndcg@10:0.4422\n",
      "ndcg@30:0.4546\n",
      "ndcg@50:0.4765\n",
      "ndcg@all:0.6277\n"
     ]
    },
    {
     "data": {
      "application/vnd.jupyter.widget-view+json": {
       "model_id": "2933301ac63345dbb6125014b2d38bcd",
       "version_major": 2,
       "version_minor": 0
      },
      "text/plain": [
       "Training:   0%|          | 0/77 [00:00<?, ?it/s]"
      ]
     },
     "metadata": {},
     "output_type": "display_data"
    },
    {
     "name": "stdout",
     "output_type": "stream",
     "text": [
      "[Epoch 07]\n",
      "precision@10:0.4733\n",
      "precision@30:0.2785\n",
      "precision@50:0.2097\n",
      "ndcg@10:0.4728\n",
      "ndcg@30:0.4823\n",
      "ndcg@50:0.5036\n",
      "ndcg@all:0.6487\n"
     ]
    },
    {
     "data": {
      "application/vnd.jupyter.widget-view+json": {
       "model_id": "7328fe7f9a2b4eedba2342e3e9e6c08c",
       "version_major": 2,
       "version_minor": 0
      },
      "text/plain": [
       "Training:   0%|          | 0/77 [00:00<?, ?it/s]"
      ]
     },
     "metadata": {},
     "output_type": "display_data"
    },
    {
     "name": "stdout",
     "output_type": "stream",
     "text": [
      "[Epoch 08]\n",
      "precision@10:0.4926\n",
      "precision@30:0.2869\n",
      "precision@50:0.2152\n",
      "ndcg@10:0.4925\n",
      "ndcg@30:0.5000\n",
      "ndcg@50:0.5210\n",
      "ndcg@all:0.6622\n"
     ]
    },
    {
     "data": {
      "application/vnd.jupyter.widget-view+json": {
       "model_id": "bdb057c69f99490287725c7626132e23",
       "version_major": 2,
       "version_minor": 0
      },
      "text/plain": [
       "Training:   0%|          | 0/77 [00:00<?, ?it/s]"
      ]
     },
     "metadata": {},
     "output_type": "display_data"
    },
    {
     "name": "stdout",
     "output_type": "stream",
     "text": [
      "[Epoch 09]\n",
      "precision@10:0.5105\n",
      "precision@30:0.2950\n",
      "precision@50:0.2202\n",
      "ndcg@10:0.5191\n",
      "ndcg@30:0.5240\n",
      "ndcg@50:0.5446\n",
      "ndcg@all:0.6804\n"
     ]
    },
    {
     "data": {
      "application/vnd.jupyter.widget-view+json": {
       "model_id": "27d7314a6d934bf28f4ce23900d58b67",
       "version_major": 2,
       "version_minor": 0
      },
      "text/plain": [
       "Training:   0%|          | 0/77 [00:00<?, ?it/s]"
      ]
     },
     "metadata": {},
     "output_type": "display_data"
    },
    {
     "name": "stdout",
     "output_type": "stream",
     "text": [
      "[Epoch 10]\n",
      "precision@10:0.5200\n",
      "precision@30:0.2997\n",
      "precision@50:0.2230\n",
      "ndcg@10:0.5268\n",
      "ndcg@30:0.5319\n",
      "ndcg@50:0.5519\n",
      "ndcg@all:0.6860\n"
     ]
    },
    {
     "data": {
      "application/vnd.jupyter.widget-view+json": {
       "model_id": "b4d96190a9b94ba0ac740eeec85c8359",
       "version_major": 2,
       "version_minor": 0
      },
      "text/plain": [
       "Training:   0%|          | 0/77 [00:00<?, ?it/s]"
      ]
     },
     "metadata": {},
     "output_type": "display_data"
    },
    {
     "name": "stdout",
     "output_type": "stream",
     "text": [
      "[Epoch 11]\n",
      "precision@10:0.5319\n",
      "precision@30:0.3057\n",
      "precision@50:0.2271\n",
      "ndcg@10:0.5431\n",
      "ndcg@30:0.5465\n",
      "ndcg@50:0.5665\n",
      "ndcg@all:0.6972\n"
     ]
    },
    {
     "data": {
      "application/vnd.jupyter.widget-view+json": {
       "model_id": "523145a24fac4f29a0331ffc11f72b9b",
       "version_major": 2,
       "version_minor": 0
      },
      "text/plain": [
       "Training:   0%|          | 0/77 [00:00<?, ?it/s]"
      ]
     },
     "metadata": {},
     "output_type": "display_data"
    },
    {
     "name": "stdout",
     "output_type": "stream",
     "text": [
      "[Epoch 12]\n",
      "precision@10:0.5418\n",
      "precision@30:0.3103\n",
      "precision@50:0.2301\n",
      "ndcg@10:0.5540\n",
      "ndcg@30:0.5567\n",
      "ndcg@50:0.5768\n",
      "ndcg@all:0.7046\n"
     ]
    },
    {
     "data": {
      "application/vnd.jupyter.widget-view+json": {
       "model_id": "68e8daa969d6441286db8289a18d6d2c",
       "version_major": 2,
       "version_minor": 0
      },
      "text/plain": [
       "Training:   0%|          | 0/77 [00:00<?, ?it/s]"
      ]
     },
     "metadata": {},
     "output_type": "display_data"
    },
    {
     "name": "stdout",
     "output_type": "stream",
     "text": [
      "[Epoch 13]\n",
      "precision@10:0.5483\n",
      "precision@30:0.3142\n",
      "precision@50:0.2318\n",
      "ndcg@10:0.5641\n",
      "ndcg@30:0.5663\n",
      "ndcg@50:0.5855\n",
      "ndcg@all:0.7119\n"
     ]
    },
    {
     "data": {
      "application/vnd.jupyter.widget-view+json": {
       "model_id": "ca991465fa654ecf843d8a63aa1fcacd",
       "version_major": 2,
       "version_minor": 0
      },
      "text/plain": [
       "Training:   0%|          | 0/77 [00:00<?, ?it/s]"
      ]
     },
     "metadata": {},
     "output_type": "display_data"
    },
    {
     "name": "stdout",
     "output_type": "stream",
     "text": [
      "[Epoch 14]\n",
      "precision@10:0.5551\n",
      "precision@30:0.3174\n",
      "precision@50:0.2346\n",
      "ndcg@10:0.5727\n",
      "ndcg@30:0.5744\n",
      "ndcg@50:0.5938\n",
      "ndcg@all:0.7179\n"
     ]
    },
    {
     "data": {
      "application/vnd.jupyter.widget-view+json": {
       "model_id": "664c333d8cb04fe8848d7d8a6d951efe",
       "version_major": 2,
       "version_minor": 0
      },
      "text/plain": [
       "Training:   0%|          | 0/77 [00:00<?, ?it/s]"
      ]
     },
     "metadata": {},
     "output_type": "display_data"
    },
    {
     "name": "stdout",
     "output_type": "stream",
     "text": [
      "[Epoch 15]\n",
      "precision@10:0.5605\n",
      "precision@30:0.3191\n",
      "precision@50:0.2358\n",
      "ndcg@10:0.5798\n",
      "ndcg@30:0.5808\n",
      "ndcg@50:0.6000\n",
      "ndcg@all:0.7229\n"
     ]
    },
    {
     "data": {
      "application/vnd.jupyter.widget-view+json": {
       "model_id": "be09bc74e9e2470ea855dbb2ca5094f2",
       "version_major": 2,
       "version_minor": 0
      },
      "text/plain": [
       "Training:   0%|          | 0/77 [00:00<?, ?it/s]"
      ]
     },
     "metadata": {},
     "output_type": "display_data"
    },
    {
     "name": "stdout",
     "output_type": "stream",
     "text": [
      "[Epoch 16]\n",
      "precision@10:0.5668\n",
      "precision@30:0.3221\n",
      "precision@50:0.2375\n",
      "ndcg@10:0.5873\n",
      "ndcg@30:0.5873\n",
      "ndcg@50:0.6063\n",
      "ndcg@all:0.7277\n"
     ]
    },
    {
     "data": {
      "application/vnd.jupyter.widget-view+json": {
       "model_id": "e8a8d97dc62443198bf2a243d8fad090",
       "version_major": 2,
       "version_minor": 0
      },
      "text/plain": [
       "Training:   0%|          | 0/77 [00:00<?, ?it/s]"
      ]
     },
     "metadata": {},
     "output_type": "display_data"
    },
    {
     "name": "stdout",
     "output_type": "stream",
     "text": [
      "[Epoch 17]\n",
      "precision@10:0.5716\n",
      "precision@30:0.3245\n",
      "precision@50:0.2388\n",
      "ndcg@10:0.5902\n",
      "ndcg@30:0.5905\n",
      "ndcg@50:0.6093\n",
      "ndcg@all:0.7298\n"
     ]
    },
    {
     "data": {
      "application/vnd.jupyter.widget-view+json": {
       "model_id": "1a6f98f48938453a890ae695de51f56a",
       "version_major": 2,
       "version_minor": 0
      },
      "text/plain": [
       "Training:   0%|          | 0/77 [00:00<?, ?it/s]"
      ]
     },
     "metadata": {},
     "output_type": "display_data"
    },
    {
     "name": "stdout",
     "output_type": "stream",
     "text": [
      "[Epoch 18]\n",
      "precision@10:0.5759\n",
      "precision@30:0.3274\n",
      "precision@50:0.2409\n",
      "ndcg@10:0.5946\n",
      "ndcg@30:0.5954\n",
      "ndcg@50:0.6140\n",
      "ndcg@all:0.7332\n"
     ]
    },
    {
     "data": {
      "application/vnd.jupyter.widget-view+json": {
       "model_id": "1ef9295803e541d8866c84fbd3b443e4",
       "version_major": 2,
       "version_minor": 0
      },
      "text/plain": [
       "Training:   0%|          | 0/77 [00:00<?, ?it/s]"
      ]
     },
     "metadata": {},
     "output_type": "display_data"
    },
    {
     "name": "stdout",
     "output_type": "stream",
     "text": [
      "[Epoch 19]\n",
      "precision@10:0.5810\n",
      "precision@30:0.3293\n",
      "precision@50:0.2420\n",
      "ndcg@10:0.6016\n",
      "ndcg@30:0.6010\n",
      "ndcg@50:0.6197\n",
      "ndcg@all:0.7376\n"
     ]
    },
    {
     "data": {
      "application/vnd.jupyter.widget-view+json": {
       "model_id": "a8a7a4036bef44df893d05e27790b3c9",
       "version_major": 2,
       "version_minor": 0
      },
      "text/plain": [
       "Training:   0%|          | 0/77 [00:00<?, ?it/s]"
      ]
     },
     "metadata": {},
     "output_type": "display_data"
    },
    {
     "name": "stdout",
     "output_type": "stream",
     "text": [
      "[Epoch 20]\n",
      "precision@10:0.5827\n",
      "precision@30:0.3305\n",
      "precision@50:0.2433\n",
      "ndcg@10:0.6039\n",
      "ndcg@30:0.6042\n",
      "ndcg@50:0.6230\n",
      "ndcg@all:0.7397\n"
     ]
    },
    {
     "data": {
      "application/vnd.jupyter.widget-view+json": {
       "model_id": "44ded4be7d6c44f7b2b8ca4079fb3085",
       "version_major": 2,
       "version_minor": 0
      },
      "text/plain": [
       "Training:   0%|          | 0/77 [00:00<?, ?it/s]"
      ]
     },
     "metadata": {},
     "output_type": "display_data"
    },
    {
     "name": "stdout",
     "output_type": "stream",
     "text": [
      "[Epoch 21]\n",
      "precision@10:0.5890\n",
      "precision@30:0.3327\n",
      "precision@50:0.2441\n",
      "ndcg@10:0.6111\n",
      "ndcg@30:0.6091\n",
      "ndcg@50:0.6276\n",
      "ndcg@all:0.7436\n"
     ]
    },
    {
     "data": {
      "application/vnd.jupyter.widget-view+json": {
       "model_id": "726ef9240ccf44fcbeaee1ae62979762",
       "version_major": 2,
       "version_minor": 0
      },
      "text/plain": [
       "Training:   0%|          | 0/77 [00:00<?, ?it/s]"
      ]
     },
     "metadata": {},
     "output_type": "display_data"
    },
    {
     "name": "stdout",
     "output_type": "stream",
     "text": [
      "[Epoch 22]\n",
      "precision@10:0.5908\n",
      "precision@30:0.3342\n",
      "precision@50:0.2451\n",
      "ndcg@10:0.6125\n",
      "ndcg@30:0.6116\n",
      "ndcg@50:0.6300\n",
      "ndcg@all:0.7452\n"
     ]
    },
    {
     "data": {
      "application/vnd.jupyter.widget-view+json": {
       "model_id": "8e6d68165526416b810a75393ba76c83",
       "version_major": 2,
       "version_minor": 0
      },
      "text/plain": [
       "Training:   0%|          | 0/77 [00:00<?, ?it/s]"
      ]
     },
     "metadata": {},
     "output_type": "display_data"
    },
    {
     "name": "stdout",
     "output_type": "stream",
     "text": [
      "[Epoch 23]\n",
      "precision@10:0.5947\n",
      "precision@30:0.3355\n",
      "precision@50:0.2457\n",
      "ndcg@10:0.6191\n",
      "ndcg@30:0.6168\n",
      "ndcg@50:0.6351\n",
      "ndcg@all:0.7494\n"
     ]
    },
    {
     "data": {
      "application/vnd.jupyter.widget-view+json": {
       "model_id": "82b55a26c2684622b5b6723e236578f7",
       "version_major": 2,
       "version_minor": 0
      },
      "text/plain": [
       "Training:   0%|          | 0/77 [00:00<?, ?it/s]"
      ]
     },
     "metadata": {},
     "output_type": "display_data"
    },
    {
     "name": "stdout",
     "output_type": "stream",
     "text": [
      "[Epoch 24]\n",
      "precision@10:0.5954\n",
      "precision@30:0.3368\n",
      "precision@50:0.2466\n",
      "ndcg@10:0.6187\n",
      "ndcg@30:0.6177\n",
      "ndcg@50:0.6360\n",
      "ndcg@all:0.7499\n"
     ]
    },
    {
     "data": {
      "application/vnd.jupyter.widget-view+json": {
       "model_id": "fae3891a3c134679b2ce0ab1fc7ff2de",
       "version_major": 2,
       "version_minor": 0
      },
      "text/plain": [
       "Training:   0%|          | 0/77 [00:00<?, ?it/s]"
      ]
     },
     "metadata": {},
     "output_type": "display_data"
    },
    {
     "name": "stdout",
     "output_type": "stream",
     "text": [
      "[Epoch 25]\n",
      "precision@10:0.5997\n",
      "precision@30:0.3380\n",
      "precision@50:0.2477\n",
      "ndcg@10:0.6221\n",
      "ndcg@30:0.6199\n",
      "ndcg@50:0.6384\n",
      "ndcg@all:0.7513\n"
     ]
    },
    {
     "data": {
      "application/vnd.jupyter.widget-view+json": {
       "model_id": "4c065b16126844d893db170b995f502c",
       "version_major": 2,
       "version_minor": 0
      },
      "text/plain": [
       "Training:   0%|          | 0/77 [00:00<?, ?it/s]"
      ]
     },
     "metadata": {},
     "output_type": "display_data"
    },
    {
     "name": "stdout",
     "output_type": "stream",
     "text": [
      "[Epoch 26]\n",
      "precision@10:0.6014\n",
      "precision@30:0.3391\n",
      "precision@50:0.2483\n",
      "ndcg@10:0.6262\n",
      "ndcg@30:0.6242\n",
      "ndcg@50:0.6423\n",
      "ndcg@all:0.7546\n"
     ]
    },
    {
     "data": {
      "application/vnd.jupyter.widget-view+json": {
       "model_id": "03ab5d5667554432b7dec8d5fec6c505",
       "version_major": 2,
       "version_minor": 0
      },
      "text/plain": [
       "Training:   0%|          | 0/77 [00:00<?, ?it/s]"
      ]
     },
     "metadata": {},
     "output_type": "display_data"
    },
    {
     "name": "stdout",
     "output_type": "stream",
     "text": [
      "[Epoch 27]\n",
      "precision@10:0.6037\n",
      "precision@30:0.3399\n",
      "precision@50:0.2498\n",
      "ndcg@10:0.6275\n",
      "ndcg@30:0.6251\n",
      "ndcg@50:0.6441\n",
      "ndcg@all:0.7553\n"
     ]
    },
    {
     "data": {
      "application/vnd.jupyter.widget-view+json": {
       "model_id": "67ca056ee03544aebfaa05ffa3152945",
       "version_major": 2,
       "version_minor": 0
      },
      "text/plain": [
       "Training:   0%|          | 0/77 [00:00<?, ?it/s]"
      ]
     },
     "metadata": {},
     "output_type": "display_data"
    },
    {
     "name": "stdout",
     "output_type": "stream",
     "text": [
      "[Epoch 28]\n",
      "precision@10:0.6058\n",
      "precision@30:0.3404\n",
      "precision@50:0.2489\n",
      "ndcg@10:0.6301\n",
      "ndcg@30:0.6268\n",
      "ndcg@50:0.6451\n",
      "ndcg@all:0.7565\n"
     ]
    },
    {
     "data": {
      "application/vnd.jupyter.widget-view+json": {
       "model_id": "22e83767e7a9483a8aee85ac7f94d139",
       "version_major": 2,
       "version_minor": 0
      },
      "text/plain": [
       "Training:   0%|          | 0/77 [00:00<?, ?it/s]"
      ]
     },
     "metadata": {},
     "output_type": "display_data"
    },
    {
     "name": "stdout",
     "output_type": "stream",
     "text": [
      "[Epoch 29]\n",
      "precision@10:0.6070\n",
      "precision@30:0.3419\n",
      "precision@50:0.2502\n",
      "ndcg@10:0.6319\n",
      "ndcg@30:0.6295\n",
      "ndcg@50:0.6478\n",
      "ndcg@all:0.7582\n"
     ]
    },
    {
     "data": {
      "application/vnd.jupyter.widget-view+json": {
       "model_id": "cd57044fad83449eb4f8057b010b26be",
       "version_major": 2,
       "version_minor": 0
      },
      "text/plain": [
       "Training:   0%|          | 0/77 [00:00<?, ?it/s]"
      ]
     },
     "metadata": {},
     "output_type": "display_data"
    },
    {
     "name": "stdout",
     "output_type": "stream",
     "text": [
      "[Epoch 30]\n",
      "precision@10:0.6096\n",
      "precision@30:0.3419\n",
      "precision@50:0.2509\n",
      "ndcg@10:0.6344\n",
      "ndcg@30:0.6312\n",
      "ndcg@50:0.6498\n",
      "ndcg@all:0.7598\n"
     ]
    },
    {
     "data": {
      "application/vnd.jupyter.widget-view+json": {
       "model_id": "4de6394c800842aeaaa0568cfc3ec9f3",
       "version_major": 2,
       "version_minor": 0
      },
      "text/plain": [
       "Training:   0%|          | 0/77 [00:00<?, ?it/s]"
      ]
     },
     "metadata": {},
     "output_type": "display_data"
    },
    {
     "name": "stdout",
     "output_type": "stream",
     "text": [
      "[Epoch 31]\n",
      "precision@10:0.6123\n",
      "precision@30:0.3428\n",
      "precision@50:0.2511\n",
      "ndcg@10:0.6376\n",
      "ndcg@30:0.6336\n",
      "ndcg@50:0.6518\n",
      "ndcg@all:0.7615\n"
     ]
    },
    {
     "data": {
      "application/vnd.jupyter.widget-view+json": {
       "model_id": "f5ec49ac14494342b1e8fbf8638ed9ab",
       "version_major": 2,
       "version_minor": 0
      },
      "text/plain": [
       "Training:   0%|          | 0/77 [00:00<?, ?it/s]"
      ]
     },
     "metadata": {},
     "output_type": "display_data"
    },
    {
     "name": "stdout",
     "output_type": "stream",
     "text": [
      "[Epoch 32]\n",
      "precision@10:0.6116\n",
      "precision@30:0.3441\n",
      "precision@50:0.2517\n",
      "ndcg@10:0.6396\n",
      "ndcg@30:0.6365\n",
      "ndcg@50:0.6544\n",
      "ndcg@all:0.7633\n"
     ]
    },
    {
     "data": {
      "application/vnd.jupyter.widget-view+json": {
       "model_id": "64301330f6a144d3b37a898c32432d25",
       "version_major": 2,
       "version_minor": 0
      },
      "text/plain": [
       "Training:   0%|          | 0/77 [00:00<?, ?it/s]"
      ]
     },
     "metadata": {},
     "output_type": "display_data"
    },
    {
     "name": "stdout",
     "output_type": "stream",
     "text": [
      "[Epoch 33]\n",
      "precision@10:0.6116\n",
      "precision@30:0.3449\n",
      "precision@50:0.2517\n",
      "ndcg@10:0.6373\n",
      "ndcg@30:0.6350\n",
      "ndcg@50:0.6528\n",
      "ndcg@all:0.7619\n"
     ]
    },
    {
     "data": {
      "application/vnd.jupyter.widget-view+json": {
       "model_id": "6e6835455a764f60a5950d3bf45a0033",
       "version_major": 2,
       "version_minor": 0
      },
      "text/plain": [
       "Training:   0%|          | 0/77 [00:00<?, ?it/s]"
      ]
     },
     "metadata": {},
     "output_type": "display_data"
    },
    {
     "name": "stdout",
     "output_type": "stream",
     "text": [
      "[Epoch 34]\n",
      "precision@10:0.6147\n",
      "precision@30:0.3447\n",
      "precision@50:0.2524\n",
      "ndcg@10:0.6417\n",
      "ndcg@30:0.6378\n",
      "ndcg@50:0.6558\n",
      "ndcg@all:0.7643\n"
     ]
    },
    {
     "data": {
      "application/vnd.jupyter.widget-view+json": {
       "model_id": "3d0e277ec18144abbfb790cdd29baabb",
       "version_major": 2,
       "version_minor": 0
      },
      "text/plain": [
       "Training:   0%|          | 0/77 [00:00<?, ?it/s]"
      ]
     },
     "metadata": {},
     "output_type": "display_data"
    },
    {
     "name": "stdout",
     "output_type": "stream",
     "text": [
      "[Epoch 35]\n",
      "precision@10:0.6140\n",
      "precision@30:0.3453\n",
      "precision@50:0.2530\n",
      "ndcg@10:0.6413\n",
      "ndcg@30:0.6379\n",
      "ndcg@50:0.6563\n",
      "ndcg@all:0.7643\n"
     ]
    },
    {
     "data": {
      "application/vnd.jupyter.widget-view+json": {
       "model_id": "2b70f74eb9f944f6b08c0d543825e6fe",
       "version_major": 2,
       "version_minor": 0
      },
      "text/plain": [
       "Training:   0%|          | 0/77 [00:00<?, ?it/s]"
      ]
     },
     "metadata": {},
     "output_type": "display_data"
    },
    {
     "name": "stdout",
     "output_type": "stream",
     "text": [
      "[Epoch 36]\n",
      "precision@10:0.6143\n",
      "precision@30:0.3469\n",
      "precision@50:0.2533\n",
      "ndcg@10:0.6416\n",
      "ndcg@30:0.6394\n",
      "ndcg@50:0.6572\n",
      "ndcg@all:0.7649\n"
     ]
    },
    {
     "data": {
      "application/vnd.jupyter.widget-view+json": {
       "model_id": "601e5852525e46df9455dc75efdf5994",
       "version_major": 2,
       "version_minor": 0
      },
      "text/plain": [
       "Training:   0%|          | 0/77 [00:00<?, ?it/s]"
      ]
     },
     "metadata": {},
     "output_type": "display_data"
    },
    {
     "name": "stdout",
     "output_type": "stream",
     "text": [
      "[Epoch 37]\n",
      "precision@10:0.6155\n",
      "precision@30:0.3457\n",
      "precision@50:0.2530\n",
      "ndcg@10:0.6440\n",
      "ndcg@30:0.6406\n",
      "ndcg@50:0.6588\n",
      "ndcg@all:0.7661\n"
     ]
    },
    {
     "data": {
      "application/vnd.jupyter.widget-view+json": {
       "model_id": "59ba5c3e906d4e92b1d31a7ada91053a",
       "version_major": 2,
       "version_minor": 0
      },
      "text/plain": [
       "Training:   0%|          | 0/77 [00:00<?, ?it/s]"
      ]
     },
     "metadata": {},
     "output_type": "display_data"
    },
    {
     "name": "stdout",
     "output_type": "stream",
     "text": [
      "[Epoch 38]\n",
      "precision@10:0.6162\n",
      "precision@30:0.3464\n",
      "precision@50:0.2531\n",
      "ndcg@10:0.6440\n",
      "ndcg@30:0.6414\n",
      "ndcg@50:0.6590\n",
      "ndcg@all:0.7668\n"
     ]
    },
    {
     "data": {
      "application/vnd.jupyter.widget-view+json": {
       "model_id": "174ab8f10dc24e2ea532a670eeb45059",
       "version_major": 2,
       "version_minor": 0
      },
      "text/plain": [
       "Training:   0%|          | 0/77 [00:00<?, ?it/s]"
      ]
     },
     "metadata": {},
     "output_type": "display_data"
    },
    {
     "name": "stdout",
     "output_type": "stream",
     "text": [
      "[Epoch 39]\n",
      "precision@10:0.6178\n",
      "precision@30:0.3471\n",
      "precision@50:0.2538\n",
      "ndcg@10:0.6453\n",
      "ndcg@30:0.6418\n",
      "ndcg@50:0.6597\n",
      "ndcg@all:0.7672\n"
     ]
    },
    {
     "data": {
      "application/vnd.jupyter.widget-view+json": {
       "model_id": "658021eba9674922a76c0386508d3356",
       "version_major": 2,
       "version_minor": 0
      },
      "text/plain": [
       "Training:   0%|          | 0/77 [00:00<?, ?it/s]"
      ]
     },
     "metadata": {},
     "output_type": "display_data"
    },
    {
     "name": "stdout",
     "output_type": "stream",
     "text": [
      "[Epoch 40]\n",
      "precision@10:0.6171\n",
      "precision@30:0.3477\n",
      "precision@50:0.2539\n",
      "ndcg@10:0.6436\n",
      "ndcg@30:0.6411\n",
      "ndcg@50:0.6592\n",
      "ndcg@all:0.7665\n"
     ]
    },
    {
     "data": {
      "application/vnd.jupyter.widget-view+json": {
       "model_id": "5d87bad9fedd4fb2bdb2a4ae5a94e0b6",
       "version_major": 2,
       "version_minor": 0
      },
      "text/plain": [
       "Training:   0%|          | 0/77 [00:00<?, ?it/s]"
      ]
     },
     "metadata": {},
     "output_type": "display_data"
    },
    {
     "name": "stdout",
     "output_type": "stream",
     "text": [
      "[Epoch 41]\n",
      "precision@10:0.6181\n",
      "precision@30:0.3480\n",
      "precision@50:0.2541\n",
      "ndcg@10:0.6457\n",
      "ndcg@30:0.6429\n",
      "ndcg@50:0.6606\n",
      "ndcg@all:0.7676\n"
     ]
    },
    {
     "data": {
      "application/vnd.jupyter.widget-view+json": {
       "model_id": "004556ad6b154c1aba6f717367d2c49d",
       "version_major": 2,
       "version_minor": 0
      },
      "text/plain": [
       "Training:   0%|          | 0/77 [00:00<?, ?it/s]"
      ]
     },
     "metadata": {},
     "output_type": "display_data"
    },
    {
     "name": "stdout",
     "output_type": "stream",
     "text": [
      "[Epoch 42]\n",
      "precision@10:0.6200\n",
      "precision@30:0.3488\n",
      "precision@50:0.2542\n",
      "ndcg@10:0.6462\n",
      "ndcg@30:0.6437\n",
      "ndcg@50:0.6612\n",
      "ndcg@all:0.7678\n"
     ]
    },
    {
     "data": {
      "application/vnd.jupyter.widget-view+json": {
       "model_id": "c068f166a7fb470e9ceb138d6bae6e94",
       "version_major": 2,
       "version_minor": 0
      },
      "text/plain": [
       "Training:   0%|          | 0/77 [00:00<?, ?it/s]"
      ]
     },
     "metadata": {},
     "output_type": "display_data"
    },
    {
     "name": "stdout",
     "output_type": "stream",
     "text": [
      "[Epoch 43]\n",
      "precision@10:0.6170\n",
      "precision@30:0.3480\n",
      "precision@50:0.2543\n",
      "ndcg@10:0.6452\n",
      "ndcg@30:0.6430\n",
      "ndcg@50:0.6613\n",
      "ndcg@all:0.7676\n"
     ]
    },
    {
     "data": {
      "application/vnd.jupyter.widget-view+json": {
       "model_id": "556e9e770bb64dd7b9fde14d2275a263",
       "version_major": 2,
       "version_minor": 0
      },
      "text/plain": [
       "Training:   0%|          | 0/77 [00:00<?, ?it/s]"
      ]
     },
     "metadata": {},
     "output_type": "display_data"
    },
    {
     "name": "stdout",
     "output_type": "stream",
     "text": [
      "[Epoch 44]\n",
      "precision@10:0.6213\n",
      "precision@30:0.3500\n",
      "precision@50:0.2551\n",
      "ndcg@10:0.6472\n",
      "ndcg@30:0.6452\n",
      "ndcg@50:0.6628\n",
      "ndcg@all:0.7690\n"
     ]
    },
    {
     "data": {
      "application/vnd.jupyter.widget-view+json": {
       "model_id": "13182d78d335487c93ef123543f83c49",
       "version_major": 2,
       "version_minor": 0
      },
      "text/plain": [
       "Training:   0%|          | 0/77 [00:00<?, ?it/s]"
      ]
     },
     "metadata": {},
     "output_type": "display_data"
    },
    {
     "name": "stdout",
     "output_type": "stream",
     "text": [
      "[Epoch 45]\n",
      "precision@10:0.6212\n",
      "precision@30:0.3490\n",
      "precision@50:0.2546\n",
      "ndcg@10:0.6479\n",
      "ndcg@30:0.6452\n",
      "ndcg@50:0.6629\n",
      "ndcg@all:0.7691\n"
     ]
    },
    {
     "data": {
      "application/vnd.jupyter.widget-view+json": {
       "model_id": "1d6ab84ce74144e6a46972128f856593",
       "version_major": 2,
       "version_minor": 0
      },
      "text/plain": [
       "Training:   0%|          | 0/77 [00:00<?, ?it/s]"
      ]
     },
     "metadata": {},
     "output_type": "display_data"
    },
    {
     "name": "stdout",
     "output_type": "stream",
     "text": [
      "[Epoch 46]\n",
      "precision@10:0.6181\n",
      "precision@30:0.3500\n",
      "precision@50:0.2550\n",
      "ndcg@10:0.6458\n",
      "ndcg@30:0.6447\n",
      "ndcg@50:0.6622\n",
      "ndcg@all:0.7685\n"
     ]
    },
    {
     "data": {
      "application/vnd.jupyter.widget-view+json": {
       "model_id": "7e05041e64d54063a7f0757dddfc5650",
       "version_major": 2,
       "version_minor": 0
      },
      "text/plain": [
       "Training:   0%|          | 0/77 [00:00<?, ?it/s]"
      ]
     },
     "metadata": {},
     "output_type": "display_data"
    },
    {
     "name": "stdout",
     "output_type": "stream",
     "text": [
      "[Epoch 47]\n",
      "precision@10:0.6195\n",
      "precision@30:0.3494\n",
      "precision@50:0.2551\n",
      "ndcg@10:0.6494\n",
      "ndcg@30:0.6472\n",
      "ndcg@50:0.6648\n",
      "ndcg@all:0.7703\n",
      "Early stopping...\n"
     ]
    }
   ],
   "source": [
    "# early stop settings \n",
    "stop_rounds = 3\n",
    "no_improvement = 0\n",
    "best_score = None \n",
    "\n",
    "\n",
    "for epoch in range(100):\n",
    "    # Training\n",
    "    decoder.train()\n",
    "    train_loss = []\n",
    "    for batch in tqdm(train_loader, desc=\"Training\"):\n",
    "        batch = [i.to(device) for i in batch]\n",
    "        doc_embs, target, _, _ = batch\n",
    "        target = torch.nn.functional.normalize(target.to(device), dim=1)\n",
    "        decoded = torch.nn.functional.normalize(decoder(doc_embs), dim=1)\n",
    "        loss = ListNet(decoded, target)\n",
    "        loss.backward()\n",
    "        optimizer.step()\n",
    "        optimizer.zero_grad()\n",
    "        train_loss.append(loss.item())\n",
    "\n",
    "    print(f\"[Epoch {epoch+1:02d}]\")\n",
    "    res = evaluate_Decoder(decoder, valid_loader)\n",
    "    for key,val in res.items():\n",
    "        print(f\"{key}:{val:.4f}\")\n",
    "        \n",
    "     # early stopping \n",
    "    current_score = res[\"precision@10\"]\n",
    "    if best_score == None:\n",
    "        best_score = current_score\n",
    "        continue\n",
    "    if current_score < best_score:\n",
    "        no_improvement += 1\n",
    "    if no_improvement >= stop_rounds:\n",
    "        print(\"Early stopping...\")\n",
    "        break \n",
    "    if current_score > best_score:\n",
    "        no_improvement = 0\n",
    "        best_score = current_score"
   ]
  },
  {
   "cell_type": "code",
   "execution_count": 17,
   "id": "af8cdcaf",
   "metadata": {},
   "outputs": [
    {
     "name": "stdout",
     "output_type": "stream",
     "text": [
      "Testing...\n",
      "precision@10:0.6097\n",
      "precision@30:0.3402\n",
      "precision@50:0.2491\n",
      "ndcg@10:0.6482\n",
      "ndcg@30:0.6449\n",
      "ndcg@50:0.6634\n",
      "ndcg@all:0.7690\n"
     ]
    }
   ],
   "source": [
    "print(\"Testing...\")\n",
    "res = evaluate_Decoder(decoder, test_loader)\n",
    "for key,val in res.items():\n",
    "    print(f\"{key}:{val:.4f}\")"
   ]
  },
  {
   "cell_type": "markdown",
   "id": "b2630fbf",
   "metadata": {},
   "source": [
    "## Empirical evaluation"
   ]
  },
  {
   "cell_type": "code",
   "execution_count": 18,
   "id": "44e266d0",
   "metadata": {},
   "outputs": [],
   "source": [
    "import colored\n",
    "from colored import stylize\n",
    "from colored import fore, back, style\n",
    "import os\n",
    "os.environ[\"TOKENIZERS_PARALLELISM\"] = \"false\""
   ]
  },
  {
   "cell_type": "code",
   "execution_count": 23,
   "id": "cdb530b2",
   "metadata": {},
   "outputs": [],
   "source": [
    "labels = raw_dataset.get_labels()\n",
    "test_indices = test_dataset.indices\n",
    "test_documents = [raw_documents[i] for i in test_indices]\n",
    "test_labels = [labels[i] for i in test_indices]\n",
    "test_embedding = torch.FloatTensor(docvec[test_indices])\n",
    "test_importance = torch.FloatTensor(np.array(importance_score)[test_indices])\n",
    "itos = vectorizer.get_feature_names()"
   ]
  },
  {
   "cell_type": "markdown",
   "id": "631b8803",
   "metadata": {},
   "source": [
    "### Train topic model for comparision"
   ]
  },
  {
   "cell_type": "code",
   "execution_count": 19,
   "id": "3c434338",
   "metadata": {},
   "outputs": [],
   "source": [
    "from contextualized_topic_models.utils.preprocessing import WhiteSpacePreprocessingStopwords\n",
    "\n",
    "train_documents = [raw_documents[i] for i in train_dataset.indices]\n",
    "sp = WhiteSpacePreprocessingStopwords(train_documents, \"english\")\n",
    "preprocessed_documents, unpreprocessed_documents, vocab = sp.preprocess()"
   ]
  },
  {
   "cell_type": "code",
   "execution_count": 20,
   "id": "edac0811",
   "metadata": {},
   "outputs": [
    {
     "data": {
      "application/vnd.jupyter.widget-view+json": {
       "model_id": "e97d087f2aa846e49416f124ab5d21a7",
       "version_major": 2,
       "version_minor": 0
      },
      "text/plain": [
       "Batches:   0%|          | 0/49 [00:00<?, ?it/s]"
      ]
     },
     "metadata": {},
     "output_type": "display_data"
    },
    {
     "name": "stderr",
     "output_type": "stream",
     "text": [
      "Epoch: [100/100]\t Seen Samples: [978500/978500]\tTrain Loss: 341.2394142022228\tTime: 0:00:05.163202: : 100it [08:30,  5.10s/it]\n",
      "Sampling: [20/20]: : 20it [01:26,  4.33s/it]\n"
     ]
    }
   ],
   "source": [
    "from contextualized_topic_models.models.ctm import CombinedTM, ZeroShotTM\n",
    "from contextualized_topic_models.utils.data_preparation import TopicModelDataPreparation\n",
    "from contextualized_topic_models.utils.data_preparation import bert_embeddings_from_file\n",
    "\n",
    "qt = TopicModelDataPreparation(\"all-mpnet-base-v2\")\n",
    "\n",
    "training_dataset = qt.fit(text_for_contextual=unpreprocessed_documents, text_for_bow=preprocessed_documents)\n",
    "\n",
    "ctm = CombinedTM(bow_size=len(qt.vocab), contextual_size=768, n_components=50) # 50 topics\n",
    "\n",
    "ctm.fit(training_dataset) # run the model"
   ]
  },
  {
   "cell_type": "code",
   "execution_count": 21,
   "id": "610aa7a2",
   "metadata": {},
   "outputs": [],
   "source": [
    "topic_words = ctm.get_topics(10)"
   ]
  },
  {
   "cell_type": "code",
   "execution_count": 24,
   "id": "2c570df2",
   "metadata": {},
   "outputs": [
    {
     "data": {
      "application/vnd.jupyter.widget-view+json": {
       "model_id": "29324ba0112c4cc0b82b0fa34caa8b1c",
       "version_major": 2,
       "version_minor": 0
      },
      "text/plain": [
       "Batches:   0%|          | 0/17 [00:00<?, ?it/s]"
      ]
     },
     "metadata": {},
     "output_type": "display_data"
    }
   ],
   "source": [
    "sp = WhiteSpacePreprocessingStopwords(test_documents, \"english\")\n",
    "preprocessed_documents, unpreprocessed_documents, vocab = sp.preprocess()\n",
    "test_dataset = qt.transform(text_for_contextual=unpreprocessed_documents, text_for_bow=preprocessed_documents)"
   ]
  },
  {
   "cell_type": "code",
   "execution_count": 25,
   "id": "3ec1a0aa",
   "metadata": {},
   "outputs": [
    {
     "name": "stderr",
     "output_type": "stream",
     "text": [
      "Sampling: [20/20]: : 20it [01:20,  4.05s/it]\n"
     ]
    }
   ],
   "source": [
    "test_topics = ctm.get_doc_topic_distribution(test_dataset, n_samples=20) # returns a (n_documents, n_topics) matrix with the topic distribution of each document"
   ]
  },
  {
   "cell_type": "markdown",
   "id": "ac11c580",
   "metadata": {},
   "source": [
    "### Decoder output and analysis"
   ]
  },
  {
   "cell_type": "code",
   "execution_count": 26,
   "id": "1542b16f",
   "metadata": {},
   "outputs": [
    {
     "name": "stdout",
     "output_type": "stream",
     "text": [
      "sci.crypt\n",
      "{10: 0.6000000238418579, 30: 0.36666667461395264, 50: 0.3199999928474426}\n",
      "{10: 0.3357486426830292, 30: 0.3524261713027954, 50: 0.3837764859199524, 'all': 0.5948744416236877}\n"
     ]
    }
   ],
   "source": [
    "check_id = 2 #1200\n",
    "K = 10\n",
    "raw_doc = test_documents[check_id]\n",
    "category = test_labels[check_id]\n",
    "embedding = test_embedding[check_id].unsqueeze(0).to(device)\n",
    "prediction = torch.topk(decoder(embedding)[0],k=K).indices.detach().cpu().numpy()\n",
    "important_words = torch.topk(test_importance[check_id],k=K).indices\n",
    "print(category)\n",
    "\n",
    "# calculate score\n",
    "precision_scores = retrieval_precision_all(decoder(embedding).detach().cpu(), test_importance[check_id].unsqueeze(0), k=config[\"topk\"])\n",
    "ndcg_scores = retrieval_normalized_dcg_all(decoder(embedding).detach().cpu(), test_importance[check_id].unsqueeze(0), k=config[\"topk\"])\n",
    "print(precision_scores)\n",
    "print(ndcg_scores)\n",
    "\n",
    "# transform to word\n",
    "prediction = [itos[i] for i in prediction]\n",
    "important_words = [itos[i] for i in important_words]"
   ]
  },
  {
   "cell_type": "code",
   "execution_count": 27,
   "id": "e0516790",
   "metadata": {},
   "outputs": [
    {
     "name": "stdout",
     "output_type": "stream",
     "text": [
      "\u001b[1m\u001b[48;5;153mGround truth\u001b[0m\n",
      "suggest common distribution private \u001b[38;5;12m\u001b[1mkey\u001b[0m public \u001b[38;5;12m\u001b[1mkey\u001b[0m system encrypt posting theory work fine long \u001b[38;5;12m\u001b[1mkey\u001b[0m remain secure \u001b[38;5;12m\u001b[1mpractice\u001b[0m \u001b[38;5;12m\u001b[1mgood\u001b[0m \u001b[38;5;12m\u001b[1midea\u001b[0m \u001b[38;5;12m\u001b[1mcheck\u001b[0m \u001b[38;5;12m\u001b[1mviolation\u001b[0m net rule \u001b[38;5;12m\u001b[1mpractice\u001b[0m \u001b[38;5;12m\u001b[1mgood\u001b[0m \u001b[38;5;12m\u001b[1midea\u001b[0m \u001b[38;5;12m\u001b[1mcheck\u001b[0m \u001b[38;5;12m\u001b[1mkey\u001b[0m \u001b[38;5;12m\u001b[1mgood\u001b[0m \u001b[38;5;12m\u001b[1midea\u001b[0m \u001b[38;5;12m\u001b[1mcheck\u001b[0m post forward site make \u001b[38;5;12m\u001b[1mchain\u001b[0m work \u001b[38;5;12m\u001b[1mproblem\u001b[0m discussion group travel \u001b[38;5;12m\u001b[1mfacility\u001b[0m control member \u001b[38;5;12m\u001b[1mproblem\u001b[0m \u001b[38;5;12m\u001b[1mmailing\u001b[0m list approach fun "
     ]
    }
   ],
   "source": [
    "print(style.BOLD + back.LIGHT_SKY_BLUE_1 + 'Ground truth'+ style.RESET)\n",
    "for word in raw_doc.split():\n",
    "    if word in important_words:\n",
    "        print (fore.LIGHT_BLUE + style.BOLD + word + style.RESET,end = \" \")\n",
    "    else:\n",
    "        print(word, end=' ')"
   ]
  },
  {
   "cell_type": "code",
   "execution_count": 28,
   "id": "0c051810",
   "metadata": {},
   "outputs": [
    {
     "name": "stdout",
     "output_type": "stream",
     "text": [
      "\u001b[1m\u001b[48;5;217mPrediction\u001b[0m\n",
      "suggest common distribution private key public key system encrypt \u001b[38;5;9m\u001b[1mposting\u001b[0m theory \u001b[38;5;9m\u001b[1mwork\u001b[0m fine long key remain secure practice good \u001b[38;5;9m\u001b[1midea\u001b[0m check violation net rule practice good \u001b[38;5;9m\u001b[1midea\u001b[0m check key good \u001b[38;5;9m\u001b[1midea\u001b[0m check \u001b[38;5;9m\u001b[1mpost\u001b[0m forward site make chain \u001b[38;5;9m\u001b[1mwork\u001b[0m \u001b[38;5;9m\u001b[1mproblem\u001b[0m \u001b[38;5;9m\u001b[1mdiscussion\u001b[0m group travel facility control member \u001b[38;5;9m\u001b[1mproblem\u001b[0m mailing list approach fun "
     ]
    }
   ],
   "source": [
    "print(style.BOLD + back.LIGHT_PINK_1 + 'Prediction'+ style.RESET)\n",
    "for word in raw_doc.split():\n",
    "    if word in prediction:\n",
    "        print (fore.LIGHT_RED + style.BOLD + word + style.RESET,end = \" \")\n",
    "    else:\n",
    "        print(word, end=' ')"
   ]
  },
  {
   "cell_type": "code",
   "execution_count": 29,
   "id": "18479810",
   "metadata": {},
   "outputs": [
    {
     "name": "stdout",
     "output_type": "stream",
     "text": [
      "Topic id: 42, Probability: 0.14\n",
      "privacy internet protect technology encryption ensure policy law security network\n",
      "Topic id: 46, Probability: 0.13\n",
      "key block bit chip encrypt number attack serial session message\n"
     ]
    }
   ],
   "source": [
    "pred_topic = np.argsort(test_topics[check_id])[-2:][::-1]\n",
    "for topicID in pred_topic:\n",
    "    print(\"Topic id: %s, Probability: %.2f\" %(topicID, test_topics[check_id][topicID]))\n",
    "    print(\" \".join(topic_words[topicID]))"
   ]
  }
 ],
 "metadata": {
  "kernelspec": {
   "display_name": "Python 3",
   "language": "python",
   "name": "python3"
  },
  "language_info": {
   "codemirror_mode": {
    "name": "ipython",
    "version": 3
   },
   "file_extension": ".py",
   "mimetype": "text/x-python",
   "name": "python",
   "nbconvert_exporter": "python",
   "pygments_lexer": "ipython3",
   "version": "3.8.10"
  }
 },
 "nbformat": 4,
 "nbformat_minor": 5
}
