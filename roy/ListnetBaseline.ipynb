{
 "cells": [
  {
   "cell_type": "code",
   "execution_count": 1,
   "id": "2535e46c",
   "metadata": {},
   "outputs": [],
   "source": [
    "import os\n",
    "import argparse\n",
    "import sys\n",
    "\n",
    "import numpy as np\n",
    "import torch\n",
    "import torch.nn as nn\n",
    "import torch.nn.functional as F\n",
    "from pytorch_lightning import seed_everything\n",
    "from torch.utils.data import DataLoader, TensorDataset, random_split, Dataset\n",
    "from tqdm.auto import tqdm\n",
    "from sklearn.feature_extraction.text import TfidfVectorizer\n",
    "from collections import defaultdict\n",
    "\n",
    "sys.path.append(\"../\")\n",
    "\n",
    "from utils.data_processing import get_process_data\n",
    "from utils.data_loader import load_document\n",
    "from utils.loss import ListNet\n",
    "from utils.eval import retrieval_normalized_dcg_all, retrieval_precision_all\n",
    "\n",
    "# fix random seed\n",
    "def same_seeds(seed):\n",
    "    torch.manual_seed(seed)\n",
    "    if torch.cuda.is_available():\n",
    "        torch.cuda.manual_seed(seed)\n",
    "        torch.cuda.manual_seed_all(seed)\n",
    "    np.random.seed(seed)\n",
    "    torch.backends.cudnn.benchmark = False\n",
    "    torch.backends.cudnn.deterministic = True\n",
    "\n",
    "def get_freer_gpu():\n",
    "    os.system('nvidia-smi -q -d Memory |grep -A4 GPU|grep Free > tmp')\n",
    "    memory_available = [int(x.split()[2]) for x in open('tmp', 'r').readlines()]\n",
    "    return int(np.argmax(memory_available))"
   ]
  },
  {
   "cell_type": "code",
   "execution_count": 2,
   "id": "d59e08fa",
   "metadata": {},
   "outputs": [],
   "source": [
    "device = f\"cuda:{get_freer_gpu()}\"\n",
    "config = {\n",
    "    \"topk\":[10,30,50]\n",
    "}"
   ]
  },
  {
   "cell_type": "code",
   "execution_count": 3,
   "id": "21f5be75",
   "metadata": {},
   "outputs": [
    {
     "name": "stderr",
     "output_type": "stream",
     "text": [
      "Global seed set to 123\n"
     ]
    },
    {
     "data": {
      "text/plain": [
       "123"
      ]
     },
     "execution_count": 3,
     "metadata": {},
     "output_type": "execute_result"
    }
   ],
   "source": [
    "seed = 123\n",
    "seed_everything(123)"
   ]
  },
  {
   "cell_type": "code",
   "execution_count": 4,
   "id": "4872bd03",
   "metadata": {},
   "outputs": [
    {
     "name": "stderr",
     "output_type": "stream",
     "text": [
      "Reusing dataset imdb (/dhome/roytsai/.cache/huggingface/datasets/imdb/plain_text/1.0.0/e3c66f1788a67a89c7058d97ff62b6c30531e05b549de56d3ab91891f0561f9a)\n"
     ]
    }
   ],
   "source": [
    "dataset = \"IMDB\"\n",
    "docvec = np.load(\"../data/docvec_IMDB_SBERT_768d.npy\")\n",
    "dim = 768\n",
    "raw_documents = load_document(dataset)[\"documents\"]"
   ]
  },
  {
   "cell_type": "code",
   "execution_count": 5,
   "id": "25cdc4be",
   "metadata": {},
   "outputs": [],
   "source": [
    "# get TF-IDF score\n",
    "vectorizer = TfidfVectorizer(min_df=10,stop_words=\"english\")\n",
    "importance_score = vectorizer.fit_transform(raw_documents).todense()"
   ]
  },
  {
   "cell_type": "code",
   "execution_count": 6,
   "id": "a9a16aeb",
   "metadata": {},
   "outputs": [],
   "source": [
    "vocab_size = len(vectorizer.vocabulary_)"
   ]
  },
  {
   "cell_type": "code",
   "execution_count": 7,
   "id": "c18d8189",
   "metadata": {},
   "outputs": [],
   "source": [
    "class IDEDataset(Dataset):\n",
    "    def __init__(self, \n",
    "                 doc_vectors,\n",
    "                 weight_ans):\n",
    "        \n",
    "        assert len(doc_vectors) == len(weight_ans)\n",
    "\n",
    "        self.doc_vectors = torch.FloatTensor(doc_vectors)\n",
    "        self.weight_ans = torch.FloatTensor(weight_ans)        \n",
    "        self.weight_ans_s = torch.argsort(self.weight_ans, dim=1, descending=True)\n",
    "        self.topk = torch.sum(self.weight_ans > 0, dim=1)\n",
    "        \n",
    "    def __getitem__(self, idx):\n",
    "        return self.doc_vectors[idx], self.weight_ans[idx], self.weight_ans_s[idx], self.topk[idx]\n",
    "\n",
    "    def __len__(self):\n",
    "        return len(self.doc_vectors)"
   ]
  },
  {
   "cell_type": "code",
   "execution_count": 8,
   "id": "9ac519a1",
   "metadata": {},
   "outputs": [],
   "source": [
    "dataset = IDEDataset(docvec, importance_score)\n",
    "train_length = int(len(dataset)*0.6)\n",
    "valid_length = int(len(dataset)*0.2)\n",
    "test_length = len(dataset) - train_length - valid_length\n",
    "\n",
    "full_loader = DataLoader(dataset, batch_size=128)\n",
    "train_dataset, valid_dataset, test_dataset = random_split(\n",
    "    dataset, lengths=[train_length, valid_length,test_length],\n",
    "    generator=torch.Generator().manual_seed(42)\n",
    "    )"
   ]
  },
  {
   "cell_type": "code",
   "execution_count": 9,
   "id": "004022ee",
   "metadata": {},
   "outputs": [],
   "source": [
    "train_loader = DataLoader(\n",
    "    train_dataset, batch_size=128, \n",
    "    shuffle=True, pin_memory=True,\n",
    ")\n",
    "valid_loader = DataLoader(\n",
    "    valid_dataset, batch_size=128, shuffle=False, pin_memory=True)\n",
    "test_loader = DataLoader(\n",
    "    test_dataset, batch_size=128, shuffle=False)"
   ]
  },
  {
   "cell_type": "code",
   "execution_count": 15,
   "id": "f1e866b3",
   "metadata": {},
   "outputs": [],
   "source": [
    "class Decoder(nn.Module):\n",
    "    def __init__(self, input_dim, output_dim):\n",
    "        super().__init__()\n",
    "        self.input_dim = input_dim\n",
    "        self.output_dim = output_dim\n",
    "        self.decoder = nn.Sequential(\n",
    "            nn.Linear(input_dim, 1024),\n",
    "            nn.Tanh(),  \n",
    "            nn.Linear(1024, 4096),\n",
    "            nn.Tanh(),\n",
    "            nn.Linear(4096, output_dim),\n",
    "            nn.Sigmoid(),\n",
    "        )\n",
    "    def forward(self, x):\n",
    "        return self.decoder(x)"
   ]
  },
  {
   "cell_type": "code",
   "execution_count": 16,
   "id": "7265d75a",
   "metadata": {},
   "outputs": [],
   "source": [
    "def evaluate_Decoder(model, data_loader):\n",
    "    results = defaultdict(list)\n",
    "    model.eval()\n",
    "        \n",
    "    # predict all data\n",
    "    for data in data_loader:\n",
    "        doc_embs, target, _, _ = data\n",
    "        \n",
    "        doc_embs = doc_embs.to(device)\n",
    "        target = target.to(device)\n",
    "                \n",
    "        pred = model(doc_embs)\n",
    "    \n",
    "        # Precision\n",
    "        precision_scores = retrieval_precision_all(pred, target, k=config[\"topk\"])\n",
    "        for k, v in precision_scores.items():\n",
    "            results['precision@{}'.format(k)].append(v)\n",
    "        \n",
    "        # NDCG\n",
    "        ndcg_scores = retrieval_normalized_dcg_all(pred, target, k=config[\"topk\"])\n",
    "        for k, v in ndcg_scores.items():\n",
    "            results['ndcg@{}'.format(k)].append(v)\n",
    "        \n",
    "    for k in results:\n",
    "        results[k] = np.mean(results[k])\n",
    "\n",
    "    return results"
   ]
  },
  {
   "cell_type": "code",
   "execution_count": 17,
   "id": "ed2689c3",
   "metadata": {},
   "outputs": [],
   "source": [
    "decoder = Decoder(input_dim=dim,output_dim=vocab_size).to(device)\n",
    "optimizer = torch.optim.Adam(decoder.parameters(), lr = 1e-4)"
   ]
  },
  {
   "cell_type": "code",
   "execution_count": 18,
   "id": "69387b28",
   "metadata": {
    "scrolled": true
   },
   "outputs": [
    {
     "data": {
      "application/vnd.jupyter.widget-view+json": {
       "model_id": "1ce405497a404ac4bd80539279ac08df",
       "version_major": 2,
       "version_minor": 0
      },
      "text/plain": [
       "Training:   0%|          | 0/235 [00:00<?, ?it/s]"
      ]
     },
     "metadata": {},
     "output_type": "display_data"
    },
    {
     "name": "stdout",
     "output_type": "stream",
     "text": [
      "[Epoch 01]\n",
      "precision@10:0.4172\n",
      "precision@30:0.2762\n",
      "precision@50:0.2260\n",
      "ndcg@10:0.1803\n",
      "ndcg@30:0.1539\n",
      "ndcg@50:0.1491\n",
      "ndcg@all:0.4379\n"
     ]
    },
    {
     "data": {
      "application/vnd.jupyter.widget-view+json": {
       "model_id": "6d4d310cab964d82b743df5f0699532f",
       "version_major": 2,
       "version_minor": 0
      },
      "text/plain": [
       "Training:   0%|          | 0/235 [00:00<?, ?it/s]"
      ]
     },
     "metadata": {},
     "output_type": "display_data"
    },
    {
     "name": "stdout",
     "output_type": "stream",
     "text": [
      "[Epoch 02]\n",
      "precision@10:0.4208\n",
      "precision@30:0.2789\n",
      "precision@50:0.2285\n",
      "ndcg@10:0.1832\n",
      "ndcg@30:0.1563\n",
      "ndcg@50:0.1516\n",
      "ndcg@all:0.4444\n"
     ]
    },
    {
     "data": {
      "application/vnd.jupyter.widget-view+json": {
       "model_id": "369d766117d443fc95aa782de4cb62d7",
       "version_major": 2,
       "version_minor": 0
      },
      "text/plain": [
       "Training:   0%|          | 0/235 [00:00<?, ?it/s]"
      ]
     },
     "metadata": {},
     "output_type": "display_data"
    },
    {
     "name": "stdout",
     "output_type": "stream",
     "text": [
      "[Epoch 03]\n",
      "precision@10:0.4260\n",
      "precision@30:0.2840\n",
      "precision@50:0.2413\n",
      "ndcg@10:0.1843\n",
      "ndcg@30:0.1591\n",
      "ndcg@50:0.1623\n",
      "ndcg@all:0.4542\n"
     ]
    },
    {
     "data": {
      "application/vnd.jupyter.widget-view+json": {
       "model_id": "87c86869fcce434b81b852c8956d3f89",
       "version_major": 2,
       "version_minor": 0
      },
      "text/plain": [
       "Training:   0%|          | 0/235 [00:00<?, ?it/s]"
      ]
     },
     "metadata": {},
     "output_type": "display_data"
    },
    {
     "name": "stdout",
     "output_type": "stream",
     "text": [
      "[Epoch 04]\n",
      "precision@10:0.4345\n",
      "precision@30:0.3044\n",
      "precision@50:0.2469\n",
      "ndcg@10:0.1884\n",
      "ndcg@30:0.1774\n",
      "ndcg@50:0.1752\n",
      "ndcg@all:0.4634\n"
     ]
    },
    {
     "data": {
      "application/vnd.jupyter.widget-view+json": {
       "model_id": "35c1b517c5594f7fa9426e7b09c221b5",
       "version_major": 2,
       "version_minor": 0
      },
      "text/plain": [
       "Training:   0%|          | 0/235 [00:00<?, ?it/s]"
      ]
     },
     "metadata": {},
     "output_type": "display_data"
    },
    {
     "name": "stdout",
     "output_type": "stream",
     "text": [
      "[Epoch 05]\n",
      "precision@10:0.4514\n",
      "precision@30:0.3081\n",
      "precision@50:0.2507\n",
      "ndcg@10:0.2031\n",
      "ndcg@30:0.1881\n",
      "ndcg@50:0.1855\n",
      "ndcg@all:0.4711\n"
     ]
    },
    {
     "data": {
      "application/vnd.jupyter.widget-view+json": {
       "model_id": "be381477c36c45729efc9d4128f8aa7d",
       "version_major": 2,
       "version_minor": 0
      },
      "text/plain": [
       "Training:   0%|          | 0/235 [00:00<?, ?it/s]"
      ]
     },
     "metadata": {},
     "output_type": "display_data"
    },
    {
     "name": "stdout",
     "output_type": "stream",
     "text": [
      "[Epoch 06]\n",
      "precision@10:0.4543\n",
      "precision@30:0.3132\n",
      "precision@50:0.2551\n",
      "ndcg@10:0.2169\n",
      "ndcg@30:0.1995\n",
      "ndcg@50:0.1964\n",
      "ndcg@all:0.4791\n"
     ]
    },
    {
     "data": {
      "application/vnd.jupyter.widget-view+json": {
       "model_id": "5a5fa4592fff45b69e465fce7ad45e80",
       "version_major": 2,
       "version_minor": 0
      },
      "text/plain": [
       "Training:   0%|          | 0/235 [00:00<?, ?it/s]"
      ]
     },
     "metadata": {},
     "output_type": "display_data"
    },
    {
     "name": "stdout",
     "output_type": "stream",
     "text": [
      "[Epoch 07]\n",
      "precision@10:0.4574\n",
      "precision@30:0.3167\n",
      "precision@50:0.2582\n",
      "ndcg@10:0.2296\n",
      "ndcg@30:0.2107\n",
      "ndcg@50:0.2068\n",
      "ndcg@all:0.4861\n"
     ]
    },
    {
     "data": {
      "application/vnd.jupyter.widget-view+json": {
       "model_id": "84e27b3403b74c009e62f32d2adecbad",
       "version_major": 2,
       "version_minor": 0
      },
      "text/plain": [
       "Training:   0%|          | 0/235 [00:00<?, ?it/s]"
      ]
     },
     "metadata": {},
     "output_type": "display_data"
    },
    {
     "name": "stdout",
     "output_type": "stream",
     "text": [
      "[Epoch 08]\n",
      "precision@10:0.4654\n",
      "precision@30:0.3213\n",
      "precision@50:0.2614\n",
      "ndcg@10:0.2441\n",
      "ndcg@30:0.2228\n",
      "ndcg@50:0.2176\n",
      "ndcg@all:0.4934\n"
     ]
    },
    {
     "data": {
      "application/vnd.jupyter.widget-view+json": {
       "model_id": "2bc24332feba47fa8e2519da17130395",
       "version_major": 2,
       "version_minor": 0
      },
      "text/plain": [
       "Training:   0%|          | 0/235 [00:00<?, ?it/s]"
      ]
     },
     "metadata": {},
     "output_type": "display_data"
    },
    {
     "name": "stdout",
     "output_type": "stream",
     "text": [
      "[Epoch 09]\n",
      "precision@10:0.4713\n",
      "precision@30:0.3253\n",
      "precision@50:0.2641\n",
      "ndcg@10:0.2680\n",
      "ndcg@30:0.2403\n",
      "ndcg@50:0.2332\n",
      "ndcg@all:0.5049\n"
     ]
    },
    {
     "data": {
      "application/vnd.jupyter.widget-view+json": {
       "model_id": "42b6afe1f18d46af91e02d2b8a202d66",
       "version_major": 2,
       "version_minor": 0
      },
      "text/plain": [
       "Training:   0%|          | 0/235 [00:00<?, ?it/s]"
      ]
     },
     "metadata": {},
     "output_type": "display_data"
    },
    {
     "name": "stdout",
     "output_type": "stream",
     "text": [
      "[Epoch 10]\n",
      "precision@10:0.4764\n",
      "precision@30:0.3277\n",
      "precision@50:0.2661\n",
      "ndcg@10:0.2827\n",
      "ndcg@30:0.2516\n",
      "ndcg@50:0.2431\n",
      "ndcg@all:0.5116\n"
     ]
    },
    {
     "data": {
      "application/vnd.jupyter.widget-view+json": {
       "model_id": "0c995cd00e58402091c6df9592d7c5a6",
       "version_major": 2,
       "version_minor": 0
      },
      "text/plain": [
       "Training:   0%|          | 0/235 [00:00<?, ?it/s]"
      ]
     },
     "metadata": {},
     "output_type": "display_data"
    },
    {
     "name": "stdout",
     "output_type": "stream",
     "text": [
      "[Epoch 11]\n",
      "precision@10:0.4831\n",
      "precision@30:0.3305\n",
      "precision@50:0.2691\n",
      "ndcg@10:0.2955\n",
      "ndcg@30:0.2610\n",
      "ndcg@50:0.2517\n",
      "ndcg@all:0.5175\n"
     ]
    },
    {
     "data": {
      "application/vnd.jupyter.widget-view+json": {
       "model_id": "735a6a62b27c494f8b9f27ca5c44dd4e",
       "version_major": 2,
       "version_minor": 0
      },
      "text/plain": [
       "Training:   0%|          | 0/235 [00:00<?, ?it/s]"
      ]
     },
     "metadata": {},
     "output_type": "display_data"
    },
    {
     "name": "stdout",
     "output_type": "stream",
     "text": [
      "[Epoch 12]\n",
      "precision@10:0.4906\n",
      "precision@30:0.3360\n",
      "precision@50:0.2719\n",
      "ndcg@10:0.3061\n",
      "ndcg@30:0.2695\n",
      "ndcg@50:0.2589\n",
      "ndcg@all:0.5224\n"
     ]
    },
    {
     "data": {
      "application/vnd.jupyter.widget-view+json": {
       "model_id": "596f3319034f49afa020aba807867f48",
       "version_major": 2,
       "version_minor": 0
      },
      "text/plain": [
       "Training:   0%|          | 0/235 [00:00<?, ?it/s]"
      ]
     },
     "metadata": {},
     "output_type": "display_data"
    },
    {
     "name": "stdout",
     "output_type": "stream",
     "text": [
      "[Epoch 13]\n",
      "precision@10:0.4944\n",
      "precision@30:0.3387\n",
      "precision@50:0.2738\n",
      "ndcg@10:0.3166\n",
      "ndcg@30:0.2779\n",
      "ndcg@50:0.2663\n",
      "ndcg@all:0.5273\n"
     ]
    },
    {
     "data": {
      "application/vnd.jupyter.widget-view+json": {
       "model_id": "6801edbf3d2d468a9ecfd3501abd9b38",
       "version_major": 2,
       "version_minor": 0
      },
      "text/plain": [
       "Training:   0%|          | 0/235 [00:00<?, ?it/s]"
      ]
     },
     "metadata": {},
     "output_type": "display_data"
    },
    {
     "name": "stdout",
     "output_type": "stream",
     "text": [
      "[Epoch 14]\n",
      "precision@10:0.5034\n",
      "precision@30:0.3420\n",
      "precision@50:0.2757\n",
      "ndcg@10:0.3258\n",
      "ndcg@30:0.2846\n",
      "ndcg@50:0.2721\n",
      "ndcg@all:0.5312\n"
     ]
    },
    {
     "data": {
      "application/vnd.jupyter.widget-view+json": {
       "model_id": "64a9f6fae906406b872109134123d5d3",
       "version_major": 2,
       "version_minor": 0
      },
      "text/plain": [
       "Training:   0%|          | 0/235 [00:00<?, ?it/s]"
      ]
     },
     "metadata": {},
     "output_type": "display_data"
    },
    {
     "name": "stdout",
     "output_type": "stream",
     "text": [
      "[Epoch 15]\n",
      "precision@10:0.5029\n",
      "precision@30:0.3395\n",
      "precision@50:0.2741\n",
      "ndcg@10:0.3342\n",
      "ndcg@30:0.2908\n",
      "ndcg@50:0.2776\n",
      "ndcg@all:0.5347\n"
     ]
    },
    {
     "data": {
      "application/vnd.jupyter.widget-view+json": {
       "model_id": "7188c8da03c84579b7043d1bb97e9036",
       "version_major": 2,
       "version_minor": 0
      },
      "text/plain": [
       "Training:   0%|          | 0/235 [00:00<?, ?it/s]"
      ]
     },
     "metadata": {},
     "output_type": "display_data"
    },
    {
     "name": "stdout",
     "output_type": "stream",
     "text": [
      "[Epoch 16]\n",
      "precision@10:0.5051\n",
      "precision@30:0.3405\n",
      "precision@50:0.2737\n",
      "ndcg@10:0.3696\n",
      "ndcg@30:0.3153\n",
      "ndcg@50:0.2986\n",
      "ndcg@all:0.5528\n"
     ]
    },
    {
     "data": {
      "application/vnd.jupyter.widget-view+json": {
       "model_id": "76be2dc6ee504b099300dc64585a8af3",
       "version_major": 2,
       "version_minor": 0
      },
      "text/plain": [
       "Training:   0%|          | 0/235 [00:00<?, ?it/s]"
      ]
     },
     "metadata": {},
     "output_type": "display_data"
    },
    {
     "name": "stdout",
     "output_type": "stream",
     "text": [
      "[Epoch 17]\n",
      "precision@10:0.5074\n",
      "precision@30:0.3416\n",
      "precision@50:0.2751\n",
      "ndcg@10:0.3801\n",
      "ndcg@30:0.3224\n",
      "ndcg@50:0.3049\n",
      "ndcg@all:0.5576\n"
     ]
    },
    {
     "data": {
      "application/vnd.jupyter.widget-view+json": {
       "model_id": "d28255c3aee842e983dd1ed3315b88bc",
       "version_major": 2,
       "version_minor": 0
      },
      "text/plain": [
       "Training:   0%|          | 0/235 [00:00<?, ?it/s]"
      ]
     },
     "metadata": {},
     "output_type": "display_data"
    },
    {
     "name": "stdout",
     "output_type": "stream",
     "text": [
      "[Epoch 18]\n",
      "precision@10:0.5097\n",
      "precision@30:0.3446\n",
      "precision@50:0.2781\n",
      "ndcg@10:0.3871\n",
      "ndcg@30:0.3276\n",
      "ndcg@50:0.3096\n",
      "ndcg@all:0.5611\n"
     ]
    },
    {
     "data": {
      "application/vnd.jupyter.widget-view+json": {
       "model_id": "2d05888da24348828b73f0ed5f5c1ea4",
       "version_major": 2,
       "version_minor": 0
      },
      "text/plain": [
       "Training:   0%|          | 0/235 [00:00<?, ?it/s]"
      ]
     },
     "metadata": {},
     "output_type": "display_data"
    },
    {
     "name": "stdout",
     "output_type": "stream",
     "text": [
      "[Epoch 19]\n",
      "precision@10:0.5125\n",
      "precision@30:0.3434\n",
      "precision@50:0.2762\n",
      "ndcg@10:0.3956\n",
      "ndcg@30:0.3331\n",
      "ndcg@50:0.3142\n",
      "ndcg@all:0.5644\n"
     ]
    },
    {
     "data": {
      "application/vnd.jupyter.widget-view+json": {
       "model_id": "626d77ad05734fa1bac488c1476d23cc",
       "version_major": 2,
       "version_minor": 0
      },
      "text/plain": [
       "Training:   0%|          | 0/235 [00:00<?, ?it/s]"
      ]
     },
     "metadata": {},
     "output_type": "display_data"
    },
    {
     "name": "stdout",
     "output_type": "stream",
     "text": [
      "[Epoch 20]\n",
      "precision@10:0.5080\n",
      "precision@30:0.3408\n",
      "precision@50:0.2740\n",
      "ndcg@10:0.4008\n",
      "ndcg@30:0.3371\n",
      "ndcg@50:0.3173\n",
      "ndcg@all:0.5669\n"
     ]
    },
    {
     "data": {
      "application/vnd.jupyter.widget-view+json": {
       "model_id": "088ef322effa4843b798474a8d300016",
       "version_major": 2,
       "version_minor": 0
      },
      "text/plain": [
       "Training:   0%|          | 0/235 [00:00<?, ?it/s]"
      ]
     },
     "metadata": {},
     "output_type": "display_data"
    },
    {
     "name": "stdout",
     "output_type": "stream",
     "text": [
      "[Epoch 21]\n",
      "precision@10:0.5128\n",
      "precision@30:0.3417\n",
      "precision@50:0.2747\n",
      "ndcg@10:0.4055\n",
      "ndcg@30:0.3397\n",
      "ndcg@50:0.3200\n",
      "ndcg@all:0.5688\n"
     ]
    },
    {
     "data": {
      "application/vnd.jupyter.widget-view+json": {
       "model_id": "e56bfc09a2a64280af8dd4a2d8d31659",
       "version_major": 2,
       "version_minor": 0
      },
      "text/plain": [
       "Training:   0%|          | 0/235 [00:00<?, ?it/s]"
      ]
     },
     "metadata": {},
     "output_type": "display_data"
    },
    {
     "name": "stdout",
     "output_type": "stream",
     "text": [
      "[Epoch 22]\n",
      "precision@10:0.5128\n",
      "precision@30:0.3432\n",
      "precision@50:0.2755\n",
      "ndcg@10:0.4073\n",
      "ndcg@30:0.3414\n",
      "ndcg@50:0.3212\n",
      "ndcg@all:0.5698\n"
     ]
    },
    {
     "data": {
      "application/vnd.jupyter.widget-view+json": {
       "model_id": "30777aa365474062a11e5920f04a20aa",
       "version_major": 2,
       "version_minor": 0
      },
      "text/plain": [
       "Training:   0%|          | 0/235 [00:00<?, ?it/s]"
      ]
     },
     "metadata": {},
     "output_type": "display_data"
    },
    {
     "name": "stdout",
     "output_type": "stream",
     "text": [
      "[Epoch 23]\n",
      "precision@10:0.5146\n",
      "precision@30:0.3431\n",
      "precision@50:0.2753\n",
      "ndcg@10:0.4109\n",
      "ndcg@30:0.3438\n",
      "ndcg@50:0.3235\n",
      "ndcg@all:0.5713\n"
     ]
    },
    {
     "data": {
      "application/vnd.jupyter.widget-view+json": {
       "model_id": "58705b6a716e4968a3c3c2c241b3c2d2",
       "version_major": 2,
       "version_minor": 0
      },
      "text/plain": [
       "Training:   0%|          | 0/235 [00:00<?, ?it/s]"
      ]
     },
     "metadata": {},
     "output_type": "display_data"
    },
    {
     "name": "stdout",
     "output_type": "stream",
     "text": [
      "[Epoch 24]\n",
      "precision@10:0.5188\n",
      "precision@30:0.3440\n",
      "precision@50:0.2760\n",
      "ndcg@10:0.4131\n",
      "ndcg@30:0.3449\n",
      "ndcg@50:0.3244\n",
      "ndcg@all:0.5723\n"
     ]
    },
    {
     "data": {
      "application/vnd.jupyter.widget-view+json": {
       "model_id": "6bafdbd4767349fabd08d91655e93136",
       "version_major": 2,
       "version_minor": 0
      },
      "text/plain": [
       "Training:   0%|          | 0/235 [00:00<?, ?it/s]"
      ]
     },
     "metadata": {},
     "output_type": "display_data"
    },
    {
     "name": "stdout",
     "output_type": "stream",
     "text": [
      "[Epoch 25]\n",
      "precision@10:0.5130\n",
      "precision@30:0.3430\n",
      "precision@50:0.2758\n",
      "ndcg@10:0.4139\n",
      "ndcg@30:0.3456\n",
      "ndcg@50:0.3252\n",
      "ndcg@all:0.5726\n"
     ]
    },
    {
     "data": {
      "application/vnd.jupyter.widget-view+json": {
       "model_id": "091cc4cc6ede487f963d6a4e353656a5",
       "version_major": 2,
       "version_minor": 0
      },
      "text/plain": [
       "Training:   0%|          | 0/235 [00:00<?, ?it/s]"
      ]
     },
     "metadata": {},
     "output_type": "display_data"
    },
    {
     "name": "stdout",
     "output_type": "stream",
     "text": [
      "[Epoch 26]\n",
      "precision@10:0.5149\n",
      "precision@30:0.3432\n",
      "precision@50:0.2762\n",
      "ndcg@10:0.4156\n",
      "ndcg@30:0.3471\n",
      "ndcg@50:0.3267\n",
      "ndcg@all:0.5737\n"
     ]
    },
    {
     "data": {
      "application/vnd.jupyter.widget-view+json": {
       "model_id": "dac506913a2a42a2ac7ddc6a0d349b71",
       "version_major": 2,
       "version_minor": 0
      },
      "text/plain": [
       "Training:   0%|          | 0/235 [00:00<?, ?it/s]"
      ]
     },
     "metadata": {},
     "output_type": "display_data"
    },
    {
     "name": "stdout",
     "output_type": "stream",
     "text": [
      "[Epoch 27]\n",
      "precision@10:0.5153\n",
      "precision@30:0.3456\n",
      "precision@50:0.2772\n",
      "ndcg@10:0.4156\n",
      "ndcg@30:0.3474\n",
      "ndcg@50:0.3267\n",
      "ndcg@all:0.5739\n",
      "Early stopping...\n"
     ]
    }
   ],
   "source": [
    "# early stop settings \n",
    "stop_rounds = 3\n",
    "no_improvement = 0\n",
    "best_score = None \n",
    "\n",
    "\n",
    "for epoch in range(100):\n",
    "    # Training\n",
    "    decoder.train()\n",
    "    train_loss = []\n",
    "    for batch in tqdm(train_loader, desc=\"Training\"):\n",
    "        batch = [i.to(device) for i in batch]\n",
    "        doc_embs, target, _, _ = batch\n",
    "        target = torch.nn.functional.normalize(target.to(device), dim=1)\n",
    "        decoded = torch.nn.functional.normalize(decoder(doc_embs), dim=1)\n",
    "        loss = ListNet(decoded, target)\n",
    "        loss.backward()\n",
    "        optimizer.step()\n",
    "        optimizer.zero_grad()\n",
    "        train_loss.append(loss.item())\n",
    "\n",
    "    print(f\"[Epoch {epoch+1:02d}]\")\n",
    "    res = evaluate_Decoder(decoder, valid_loader)\n",
    "    for key,val in res.items():\n",
    "        print(f\"{key}:{val:.4f}\")\n",
    "        \n",
    "     # early stopping \n",
    "    current_score = res[\"precision@10\"]\n",
    "    if best_score == None:\n",
    "        best_score = current_score\n",
    "        continue\n",
    "    if current_score < best_score:\n",
    "        no_improvement += 1\n",
    "    if no_improvement >= stop_rounds:\n",
    "        print(\"Early stopping...\")\n",
    "        break \n",
    "    if current_score > best_score:\n",
    "        no_improvement = 0\n",
    "        best_score = current_score"
   ]
  },
  {
   "cell_type": "code",
   "execution_count": 19,
   "id": "7dd0655d",
   "metadata": {},
   "outputs": [
    {
     "name": "stdout",
     "output_type": "stream",
     "text": [
      "Testing...\n",
      "precision@10:0.5181\n",
      "precision@30:0.3473\n",
      "precision@50:0.2792\n",
      "ndcg@10:0.4156\n",
      "ndcg@30:0.3470\n",
      "ndcg@50:0.3266\n",
      "ndcg@all:0.5746\n"
     ]
    }
   ],
   "source": [
    "print(\"Testing...\")\n",
    "res = evaluate_Decoder(decoder, test_loader)\n",
    "for key,val in res.items():\n",
    "    print(f\"{key}:{val:.4f}\")"
   ]
  }
 ],
 "metadata": {
  "kernelspec": {
   "display_name": "gnn",
   "language": "python",
   "name": "gnn"
  },
  "language_info": {
   "codemirror_mode": {
    "name": "ipython",
    "version": 3
   },
   "file_extension": ".py",
   "mimetype": "text/x-python",
   "name": "python",
   "nbconvert_exporter": "python",
   "pygments_lexer": "ipython3",
   "version": "3.8.10"
  }
 },
 "nbformat": 4,
 "nbformat_minor": 5
}
