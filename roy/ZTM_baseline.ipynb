{
 "cells": [
  {
   "cell_type": "code",
   "execution_count": 10,
   "id": "2535e46c",
   "metadata": {},
   "outputs": [],
   "source": [
    "import os\n",
    "import argparse\n",
    "import sys\n",
    "from gensim.models import Word2Vec\n",
    "import re\n",
    "\n",
    "import numpy as np\n",
    "import torch\n",
    "import torch.nn as nn\n",
    "import torch.nn.functional as F\n",
    "from pytorch_lightning import seed_everything\n",
    "from torch.utils.data import DataLoader, TensorDataset, random_split, Dataset\n",
    "from tqdm.auto import tqdm\n",
    "from sklearn.feature_extraction.text import TfidfVectorizer\n",
    "from collections import defaultdict,OrderedDict\n",
    "from contextualized_topic_models.models.ctm import ZeroShotTM\n",
    "\n",
    "sys.path.append(\"../\")\n",
    "\n",
    "from utils.data_processing import get_process_data\n",
    "from utils.data_loader import load_document\n",
    "from utils.loss import ListNet\n",
    "from utils.eval import retrieval_normalized_dcg_all, retrieval_precision_all\n",
    "from utils.toolbox import same_seeds, get_freer_gpu"
   ]
  },
  {
   "cell_type": "code",
   "execution_count": 2,
   "id": "d59e08fa",
   "metadata": {},
   "outputs": [],
   "source": [
    "device = f\"cuda:{get_freer_gpu()}\"\n",
    "config = {\n",
    "    \"topk\":[10,30,50]\n",
    "}"
   ]
  },
  {
   "cell_type": "code",
   "execution_count": 3,
   "id": "21f5be75",
   "metadata": {},
   "outputs": [
    {
     "name": "stderr",
     "output_type": "stream",
     "text": [
      "Global seed set to 123\n"
     ]
    },
    {
     "data": {
      "text/plain": [
       "123"
      ]
     },
     "execution_count": 3,
     "metadata": {},
     "output_type": "execute_result"
    }
   ],
   "source": [
    "seed = 123\n",
    "seed_everything(123)"
   ]
  },
  {
   "cell_type": "code",
   "execution_count": 4,
   "id": "4872bd03",
   "metadata": {},
   "outputs": [
    {
     "name": "stderr",
     "output_type": "stream",
     "text": [
      "Reusing dataset imdb (/dhome/roytsai/.cache/huggingface/datasets/imdb/plain_text/1.0.0/e3c66f1788a67a89c7058d97ff62b6c30531e05b549de56d3ab91891f0561f9a)\n"
     ]
    }
   ],
   "source": [
    "dataset = \"IMDB\"\n",
    "docvec = np.load(\"../data/docvec_IMDB_SBERT_768d.npy\")\n",
    "dim = 768\n",
    "raw_documents = load_document(dataset)[\"documents\"]"
   ]
  },
  {
   "cell_type": "code",
   "execution_count": 5,
   "id": "25cdc4be",
   "metadata": {},
   "outputs": [],
   "source": [
    "# get TF-IDF score\n",
    "vectorizer = TfidfVectorizer(min_df=10,stop_words=\"english\")\n",
    "importance_score = vectorizer.fit_transform(raw_documents).todense()"
   ]
  },
  {
   "cell_type": "code",
   "execution_count": 6,
   "id": "a9a16aeb",
   "metadata": {},
   "outputs": [
    {
     "name": "stdout",
     "output_type": "stream",
     "text": [
      "Vocab size:25768\n"
     ]
    }
   ],
   "source": [
    "vocab_size = len(vectorizer.vocabulary_)\n",
    "print(f\"Vocab size:{vocab_size}\")"
   ]
  },
  {
   "cell_type": "code",
   "execution_count": 7,
   "id": "c18d8189",
   "metadata": {},
   "outputs": [],
   "source": [
    "class IDEDataset(Dataset):\n",
    "    def __init__(self, \n",
    "                 doc_vectors,\n",
    "                 weight_ans):\n",
    "        \n",
    "        assert len(doc_vectors) == len(weight_ans)\n",
    "\n",
    "        self.doc_vectors = torch.FloatTensor(doc_vectors)\n",
    "        self.weight_ans = torch.FloatTensor(weight_ans)        \n",
    "        self.weight_ans_s = torch.argsort(self.weight_ans, dim=1, descending=True)\n",
    "        self.topk = torch.sum(self.weight_ans > 0, dim=1)\n",
    "        \n",
    "    def __getitem__(self, idx):\n",
    "        return self.doc_vectors[idx], self.weight_ans[idx], self.weight_ans_s[idx], self.topk[idx]\n",
    "\n",
    "    def __len__(self):\n",
    "        return len(self.doc_vectors)"
   ]
  },
  {
   "cell_type": "code",
   "execution_count": 8,
   "id": "9ac519a1",
   "metadata": {},
   "outputs": [],
   "source": [
    "dataset = IDEDataset(docvec, importance_score)\n",
    "train_length = int(len(dataset)*0.6)\n",
    "valid_length = int(len(dataset)*0.2)\n",
    "test_length = len(dataset) - train_length - valid_length\n",
    "\n",
    "full_loader = DataLoader(dataset, batch_size=128)\n",
    "train_dataset, valid_dataset, test_dataset = random_split(\n",
    "    dataset, lengths=[train_length, valid_length,test_length],\n",
    "    generator=torch.Generator().manual_seed(42)\n",
    "    )"
   ]
  },
  {
   "cell_type": "code",
   "execution_count": 9,
   "id": "004022ee",
   "metadata": {},
   "outputs": [],
   "source": [
    "train_loader = DataLoader(\n",
    "    train_dataset, batch_size=128, \n",
    "    shuffle=True, pin_memory=True,\n",
    ")\n",
    "valid_loader = DataLoader(\n",
    "    valid_dataset, batch_size=128, shuffle=False, pin_memory=True,drop_last=True)\n",
    "test_loader = DataLoader(\n",
    "    test_dataset, batch_size=128, shuffle=False)"
   ]
  },
  {
   "cell_type": "code",
   "execution_count": 24,
   "id": "7265d75a",
   "metadata": {},
   "outputs": [],
   "source": [
    "def evaluate_Decoder(model, data_loader):\n",
    "    results = defaultdict(list)\n",
    "    model.eval()\n",
    "        \n",
    "    # predict all data\n",
    "    for data in data_loader:\n",
    "        doc_embs, target, _, _ = data\n",
    "        \n",
    "        doc_embs = doc_embs.to(device)\n",
    "        target = target.to(device)\n",
    "                \n",
    "        pred = model(target,doc_embs)\n",
    "        pred = pred[-2]\n",
    "    \n",
    "        # Precision\n",
    "        precision_scores = retrieval_precision_all(pred, target, k=config[\"topk\"])\n",
    "        for k, v in precision_scores.items():\n",
    "            results['precision@{}'.format(k)].append(v)\n",
    "        \n",
    "        # NDCG\n",
    "        ndcg_scores = retrieval_normalized_dcg_all(pred, target, k=config[\"topk\"])\n",
    "        for k, v in ndcg_scores.items():\n",
    "            results['ndcg@{}'.format(k)].append(v)\n",
    "        \n",
    "    for k in results:\n",
    "        results[k] = np.mean(results[k])\n",
    "\n",
    "    return results"
   ]
  },
  {
   "cell_type": "code",
   "execution_count": 54,
   "id": "ed2689c3",
   "metadata": {},
   "outputs": [],
   "source": [
    "# decoder = Decoder(input_dim=dim,hidden_dim=1024,output_dim=vocab_size)\n",
    "model = ZeroShotTM(bow_size=vocab_size, contextual_size=768,n_components=1024,hidden_sizes=(1024,1024),activation=\"relu\")\n",
    "decodernet = model.model\n",
    "# optimizer = torch.optim.Adam(decodernet.parameters(), lr = 1e-3)\n",
    "optimizer = model.optimizer\n",
    "# initialize parameters\n",
    "for p in decodernet.parameters():\n",
    "    if p.dim() > 1:\n",
    "        nn.init.xavier_uniform_(p)\n",
    "# decoder.load_pretrianed(pretrain_wordembedding)\n",
    "decodernet = decodernet.to(device)"
   ]
  },
  {
   "cell_type": "code",
   "execution_count": 55,
   "id": "69387b28",
   "metadata": {
    "scrolled": true
   },
   "outputs": [
    {
     "data": {
      "application/vnd.jupyter.widget-view+json": {
       "model_id": "e0acc19a1acb4c78a71eccff7484bb2f",
       "version_major": 2,
       "version_minor": 0
      },
      "text/plain": [
       "Training:   0%|          | 0/235 [00:00<?, ?it/s]"
      ]
     },
     "metadata": {},
     "output_type": "display_data"
    },
    {
     "name": "stdout",
     "output_type": "stream",
     "text": [
      "[Epoch 01]\n",
      "precision@10:0.0550\n",
      "precision@30:0.0475\n",
      "precision@50:0.0437\n",
      "ndcg@10:0.0234\n",
      "ndcg@30:0.0262\n",
      "ndcg@50:0.0286\n",
      "ndcg@all:0.3180\n"
     ]
    },
    {
     "data": {
      "application/vnd.jupyter.widget-view+json": {
       "model_id": "68a70cb5fab0438195214c06e59d31c5",
       "version_major": 2,
       "version_minor": 0
      },
      "text/plain": [
       "Training:   0%|          | 0/235 [00:00<?, ?it/s]"
      ]
     },
     "metadata": {},
     "output_type": "display_data"
    },
    {
     "name": "stdout",
     "output_type": "stream",
     "text": [
      "[Epoch 02]\n",
      "precision@10:0.0845\n",
      "precision@30:0.0661\n",
      "precision@50:0.0588\n",
      "ndcg@10:0.0383\n",
      "ndcg@30:0.0393\n",
      "ndcg@50:0.0411\n",
      "ndcg@all:0.3310\n"
     ]
    },
    {
     "data": {
      "application/vnd.jupyter.widget-view+json": {
       "model_id": "8deaa22b4fb84596aa2eb04e795eff5b",
       "version_major": 2,
       "version_minor": 0
      },
      "text/plain": [
       "Training:   0%|          | 0/235 [00:00<?, ?it/s]"
      ]
     },
     "metadata": {},
     "output_type": "display_data"
    },
    {
     "name": "stdout",
     "output_type": "stream",
     "text": [
      "[Epoch 03]\n",
      "precision@10:0.1058\n",
      "precision@30:0.0807\n",
      "precision@50:0.0711\n",
      "ndcg@10:0.0494\n",
      "ndcg@30:0.0501\n",
      "ndcg@50:0.0519\n",
      "ndcg@all:0.3415\n"
     ]
    },
    {
     "data": {
      "application/vnd.jupyter.widget-view+json": {
       "model_id": "60d09075e9a54fbbb7280f98d6496514",
       "version_major": 2,
       "version_minor": 0
      },
      "text/plain": [
       "Training:   0%|          | 0/235 [00:00<?, ?it/s]"
      ]
     },
     "metadata": {},
     "output_type": "display_data"
    },
    {
     "name": "stdout",
     "output_type": "stream",
     "text": [
      "[Epoch 04]\n",
      "precision@10:0.1219\n",
      "precision@30:0.0914\n",
      "precision@50:0.0796\n",
      "ndcg@10:0.0606\n",
      "ndcg@30:0.0602\n",
      "ndcg@50:0.0619\n",
      "ndcg@all:0.3531\n"
     ]
    },
    {
     "data": {
      "application/vnd.jupyter.widget-view+json": {
       "model_id": "0c691f4338c647a7b9ae55db5237a6a8",
       "version_major": 2,
       "version_minor": 0
      },
      "text/plain": [
       "Training:   0%|          | 0/235 [00:00<?, ?it/s]"
      ]
     },
     "metadata": {},
     "output_type": "display_data"
    },
    {
     "name": "stdout",
     "output_type": "stream",
     "text": [
      "[Epoch 05]\n",
      "precision@10:0.1440\n",
      "precision@30:0.1053\n",
      "precision@50:0.0908\n",
      "ndcg@10:0.0748\n",
      "ndcg@30:0.0728\n",
      "ndcg@50:0.0740\n",
      "ndcg@all:0.3660\n"
     ]
    },
    {
     "data": {
      "application/vnd.jupyter.widget-view+json": {
       "model_id": "aef5cfa346f94db2892134f183577887",
       "version_major": 2,
       "version_minor": 0
      },
      "text/plain": [
       "Training:   0%|          | 0/235 [00:00<?, ?it/s]"
      ]
     },
     "metadata": {},
     "output_type": "display_data"
    },
    {
     "name": "stdout",
     "output_type": "stream",
     "text": [
      "[Epoch 06]\n",
      "precision@10:0.1498\n",
      "precision@30:0.1094\n",
      "precision@50:0.0939\n",
      "ndcg@10:0.0832\n",
      "ndcg@30:0.0800\n",
      "ndcg@50:0.0810\n",
      "ndcg@all:0.3718\n"
     ]
    },
    {
     "data": {
      "application/vnd.jupyter.widget-view+json": {
       "model_id": "8d34bf74d9804ff4b1eacb459b9b9ab8",
       "version_major": 2,
       "version_minor": 0
      },
      "text/plain": [
       "Training:   0%|          | 0/235 [00:00<?, ?it/s]"
      ]
     },
     "metadata": {},
     "output_type": "display_data"
    },
    {
     "name": "stdout",
     "output_type": "stream",
     "text": [
      "[Epoch 07]\n",
      "precision@10:0.1453\n",
      "precision@30:0.1052\n",
      "precision@50:0.0896\n",
      "ndcg@10:0.0865\n",
      "ndcg@30:0.0828\n",
      "ndcg@50:0.0833\n",
      "ndcg@all:0.3717\n"
     ]
    },
    {
     "data": {
      "application/vnd.jupyter.widget-view+json": {
       "model_id": "0b505993d7074b56b9c3db488da206ad",
       "version_major": 2,
       "version_minor": 0
      },
      "text/plain": [
       "Training:   0%|          | 0/235 [00:00<?, ?it/s]"
      ]
     },
     "metadata": {},
     "output_type": "display_data"
    },
    {
     "name": "stdout",
     "output_type": "stream",
     "text": [
      "[Epoch 08]\n",
      "precision@10:0.1456\n",
      "precision@30:0.1043\n",
      "precision@50:0.0884\n",
      "ndcg@10:0.0929\n",
      "ndcg@30:0.0877\n",
      "ndcg@50:0.0873\n",
      "ndcg@all:0.3754\n"
     ]
    },
    {
     "data": {
      "application/vnd.jupyter.widget-view+json": {
       "model_id": "65ada9710ffd408bbe2adaad3050a113",
       "version_major": 2,
       "version_minor": 0
      },
      "text/plain": [
       "Training:   0%|          | 0/235 [00:00<?, ?it/s]"
      ]
     },
     "metadata": {},
     "output_type": "display_data"
    },
    {
     "name": "stdout",
     "output_type": "stream",
     "text": [
      "[Epoch 09]\n",
      "precision@10:0.1512\n",
      "precision@30:0.1067\n",
      "precision@50:0.0897\n",
      "ndcg@10:0.0999\n",
      "ndcg@30:0.0935\n",
      "ndcg@50:0.0926\n",
      "ndcg@all:0.3780\n"
     ]
    },
    {
     "data": {
      "application/vnd.jupyter.widget-view+json": {
       "model_id": "f816312ef75c49f19ba04ac11555cee9",
       "version_major": 2,
       "version_minor": 0
      },
      "text/plain": [
       "Training:   0%|          | 0/235 [00:00<?, ?it/s]"
      ]
     },
     "metadata": {},
     "output_type": "display_data"
    },
    {
     "name": "stdout",
     "output_type": "stream",
     "text": [
      "[Epoch 10]\n",
      "precision@10:0.1553\n",
      "precision@30:0.1094\n",
      "precision@50:0.0915\n",
      "ndcg@10:0.1076\n",
      "ndcg@30:0.0999\n",
      "ndcg@50:0.0983\n",
      "ndcg@all:0.3800\n"
     ]
    },
    {
     "data": {
      "application/vnd.jupyter.widget-view+json": {
       "model_id": "b87c4d128f74466a9b5c63e1e9d8c898",
       "version_major": 2,
       "version_minor": 0
      },
      "text/plain": [
       "Training:   0%|          | 0/235 [00:00<?, ?it/s]"
      ]
     },
     "metadata": {},
     "output_type": "display_data"
    },
    {
     "name": "stdout",
     "output_type": "stream",
     "text": [
      "[Epoch 11]\n",
      "precision@10:0.1707\n",
      "precision@30:0.1197\n",
      "precision@50:0.1003\n",
      "ndcg@10:0.1189\n",
      "ndcg@30:0.1100\n",
      "ndcg@50:0.1086\n",
      "ndcg@all:0.3928\n"
     ]
    },
    {
     "data": {
      "application/vnd.jupyter.widget-view+json": {
       "model_id": "66ce9cacb7c5422897ed5911690e74cc",
       "version_major": 2,
       "version_minor": 0
      },
      "text/plain": [
       "Training:   0%|          | 0/235 [00:00<?, ?it/s]"
      ]
     },
     "metadata": {},
     "output_type": "display_data"
    },
    {
     "name": "stdout",
     "output_type": "stream",
     "text": [
      "[Epoch 12]\n",
      "precision@10:0.1663\n",
      "precision@30:0.1147\n",
      "precision@50:0.0948\n",
      "ndcg@10:0.1215\n",
      "ndcg@30:0.1111\n",
      "ndcg@50:0.1083\n",
      "ndcg@all:0.3859\n"
     ]
    },
    {
     "data": {
      "application/vnd.jupyter.widget-view+json": {
       "model_id": "04dfb4f03e78487488dcd078760659c9",
       "version_major": 2,
       "version_minor": 0
      },
      "text/plain": [
       "Training:   0%|          | 0/235 [00:00<?, ?it/s]"
      ]
     },
     "metadata": {},
     "output_type": "display_data"
    },
    {
     "name": "stdout",
     "output_type": "stream",
     "text": [
      "[Epoch 13]\n",
      "precision@10:0.1797\n",
      "precision@30:0.1239\n",
      "precision@50:0.1024\n",
      "ndcg@10:0.1326\n",
      "ndcg@30:0.1210\n",
      "ndcg@50:0.1181\n",
      "ndcg@all:0.3975\n"
     ]
    },
    {
     "data": {
      "application/vnd.jupyter.widget-view+json": {
       "model_id": "3d74d877a64d473ab777046b1093788e",
       "version_major": 2,
       "version_minor": 0
      },
      "text/plain": [
       "Training:   0%|          | 0/235 [00:00<?, ?it/s]"
      ]
     },
     "metadata": {},
     "output_type": "display_data"
    },
    {
     "name": "stdout",
     "output_type": "stream",
     "text": [
      "[Epoch 14]\n",
      "precision@10:0.1798\n",
      "precision@30:0.1225\n",
      "precision@50:0.1010\n",
      "ndcg@10:0.1365\n",
      "ndcg@30:0.1233\n",
      "ndcg@50:0.1199\n",
      "ndcg@all:0.3955\n"
     ]
    },
    {
     "data": {
      "application/vnd.jupyter.widget-view+json": {
       "model_id": "eb8bd80ba2284c32b23585548af6ed2a",
       "version_major": 2,
       "version_minor": 0
      },
      "text/plain": [
       "Training:   0%|          | 0/235 [00:00<?, ?it/s]"
      ]
     },
     "metadata": {},
     "output_type": "display_data"
    },
    {
     "name": "stdout",
     "output_type": "stream",
     "text": [
      "[Epoch 15]\n",
      "precision@10:0.1855\n",
      "precision@30:0.1257\n",
      "precision@50:0.1038\n",
      "ndcg@10:0.1416\n",
      "ndcg@30:0.1274\n",
      "ndcg@50:0.1237\n",
      "ndcg@all:0.3989\n"
     ]
    },
    {
     "data": {
      "application/vnd.jupyter.widget-view+json": {
       "model_id": "6de1e1c72897437aa7fc27d58f209941",
       "version_major": 2,
       "version_minor": 0
      },
      "text/plain": [
       "Training:   0%|          | 0/235 [00:00<?, ?it/s]"
      ]
     },
     "metadata": {},
     "output_type": "display_data"
    },
    {
     "name": "stdout",
     "output_type": "stream",
     "text": [
      "[Epoch 16]\n",
      "precision@10:0.1918\n",
      "precision@30:0.1312\n",
      "precision@50:0.1086\n",
      "ndcg@10:0.1469\n",
      "ndcg@30:0.1328\n",
      "ndcg@50:0.1293\n",
      "ndcg@all:0.4056\n"
     ]
    },
    {
     "data": {
      "application/vnd.jupyter.widget-view+json": {
       "model_id": "82ccdc7a6f36486dab98811d18546ff8",
       "version_major": 2,
       "version_minor": 0
      },
      "text/plain": [
       "Training:   0%|          | 0/235 [00:00<?, ?it/s]"
      ]
     },
     "metadata": {},
     "output_type": "display_data"
    },
    {
     "name": "stdout",
     "output_type": "stream",
     "text": [
      "[Epoch 17]\n",
      "precision@10:0.1905\n",
      "precision@30:0.1274\n",
      "precision@50:0.1044\n",
      "ndcg@10:0.1511\n",
      "ndcg@30:0.1349\n",
      "ndcg@50:0.1300\n",
      "ndcg@all:0.4014\n"
     ]
    },
    {
     "data": {
      "application/vnd.jupyter.widget-view+json": {
       "model_id": "1d6bf40eb93c4c6db6fcb13e4046bce7",
       "version_major": 2,
       "version_minor": 0
      },
      "text/plain": [
       "Training:   0%|          | 0/235 [00:00<?, ?it/s]"
      ]
     },
     "metadata": {},
     "output_type": "display_data"
    },
    {
     "name": "stdout",
     "output_type": "stream",
     "text": [
      "[Epoch 18]\n",
      "precision@10:0.1926\n",
      "precision@30:0.1290\n",
      "precision@50:0.1052\n",
      "ndcg@10:0.1557\n",
      "ndcg@30:0.1386\n",
      "ndcg@50:0.1335\n",
      "ndcg@all:0.4054\n"
     ]
    },
    {
     "data": {
      "application/vnd.jupyter.widget-view+json": {
       "model_id": "9ffe9bd223fe4a959b20e5c80776eb3f",
       "version_major": 2,
       "version_minor": 0
      },
      "text/plain": [
       "Training:   0%|          | 0/235 [00:00<?, ?it/s]"
      ]
     },
     "metadata": {},
     "output_type": "display_data"
    },
    {
     "name": "stdout",
     "output_type": "stream",
     "text": [
      "[Epoch 19]\n",
      "precision@10:0.1922\n",
      "precision@30:0.1280\n",
      "precision@50:0.1036\n",
      "ndcg@10:0.1580\n",
      "ndcg@30:0.1401\n",
      "ndcg@50:0.1344\n",
      "ndcg@all:0.4034\n"
     ]
    },
    {
     "data": {
      "application/vnd.jupyter.widget-view+json": {
       "model_id": "cb15cf9de8264264aaae5ca5b25c0d6f",
       "version_major": 2,
       "version_minor": 0
      },
      "text/plain": [
       "Training:   0%|          | 0/235 [00:00<?, ?it/s]"
      ]
     },
     "metadata": {},
     "output_type": "display_data"
    },
    {
     "name": "stdout",
     "output_type": "stream",
     "text": [
      "[Epoch 20]\n",
      "precision@10:0.1986\n",
      "precision@30:0.1323\n",
      "precision@50:0.1075\n",
      "ndcg@10:0.1622\n",
      "ndcg@30:0.1439\n",
      "ndcg@50:0.1382\n",
      "ndcg@all:0.4084\n"
     ]
    },
    {
     "data": {
      "application/vnd.jupyter.widget-view+json": {
       "model_id": "7c3c4f0bc4f74916ae8ac22366434e62",
       "version_major": 2,
       "version_minor": 0
      },
      "text/plain": [
       "Training:   0%|          | 0/235 [00:00<?, ?it/s]"
      ]
     },
     "metadata": {},
     "output_type": "display_data"
    },
    {
     "name": "stdout",
     "output_type": "stream",
     "text": [
      "[Epoch 21]\n",
      "precision@10:0.1973\n",
      "precision@30:0.1301\n",
      "precision@50:0.1052\n",
      "ndcg@10:0.1642\n",
      "ndcg@30:0.1451\n",
      "ndcg@50:0.1389\n",
      "ndcg@all:0.4068\n"
     ]
    },
    {
     "data": {
      "application/vnd.jupyter.widget-view+json": {
       "model_id": "6a7dc03258d543ecbc680430de23fa31",
       "version_major": 2,
       "version_minor": 0
      },
      "text/plain": [
       "Training:   0%|          | 0/235 [00:00<?, ?it/s]"
      ]
     },
     "metadata": {},
     "output_type": "display_data"
    },
    {
     "name": "stdout",
     "output_type": "stream",
     "text": [
      "[Epoch 22]\n",
      "precision@10:0.1997\n",
      "precision@30:0.1316\n",
      "precision@50:0.1063\n",
      "ndcg@10:0.1665\n",
      "ndcg@30:0.1466\n",
      "ndcg@50:0.1400\n",
      "ndcg@all:0.4082\n"
     ]
    },
    {
     "data": {
      "application/vnd.jupyter.widget-view+json": {
       "model_id": "4daba915c647478493cb97abb234b5b1",
       "version_major": 2,
       "version_minor": 0
      },
      "text/plain": [
       "Training:   0%|          | 0/235 [00:00<?, ?it/s]"
      ]
     },
     "metadata": {},
     "output_type": "display_data"
    },
    {
     "name": "stdout",
     "output_type": "stream",
     "text": [
      "[Epoch 23]\n",
      "precision@10:0.2072\n",
      "precision@30:0.1366\n",
      "precision@50:0.1110\n",
      "ndcg@10:0.1728\n",
      "ndcg@30:0.1519\n",
      "ndcg@50:0.1453\n",
      "ndcg@all:0.4146\n"
     ]
    },
    {
     "data": {
      "application/vnd.jupyter.widget-view+json": {
       "model_id": "1cc95524ac834df58bef1e4032e24231",
       "version_major": 2,
       "version_minor": 0
      },
      "text/plain": [
       "Training:   0%|          | 0/235 [00:00<?, ?it/s]"
      ]
     },
     "metadata": {},
     "output_type": "display_data"
    },
    {
     "name": "stdout",
     "output_type": "stream",
     "text": [
      "[Epoch 24]\n",
      "precision@10:0.2064\n",
      "precision@30:0.1354\n",
      "precision@50:0.1095\n",
      "ndcg@10:0.1729\n",
      "ndcg@30:0.1520\n",
      "ndcg@50:0.1452\n",
      "ndcg@all:0.4129\n"
     ]
    },
    {
     "data": {
      "application/vnd.jupyter.widget-view+json": {
       "model_id": "a43832fbc3fd4bea983250969e87fa45",
       "version_major": 2,
       "version_minor": 0
      },
      "text/plain": [
       "Training:   0%|          | 0/235 [00:00<?, ?it/s]"
      ]
     },
     "metadata": {},
     "output_type": "display_data"
    },
    {
     "name": "stdout",
     "output_type": "stream",
     "text": [
      "[Epoch 25]\n",
      "precision@10:0.2065\n",
      "precision@30:0.1369\n",
      "precision@50:0.1109\n",
      "ndcg@10:0.1735\n",
      "ndcg@30:0.1526\n",
      "ndcg@50:0.1458\n",
      "ndcg@all:0.4133\n"
     ]
    },
    {
     "data": {
      "application/vnd.jupyter.widget-view+json": {
       "model_id": "993c84a0f33e4f8b9eae5fcb12355fc9",
       "version_major": 2,
       "version_minor": 0
      },
      "text/plain": [
       "Training:   0%|          | 0/235 [00:00<?, ?it/s]"
      ]
     },
     "metadata": {},
     "output_type": "display_data"
    },
    {
     "name": "stdout",
     "output_type": "stream",
     "text": [
      "[Epoch 26]\n",
      "precision@10:0.2110\n",
      "precision@30:0.1387\n",
      "precision@50:0.1115\n",
      "ndcg@10:0.1777\n",
      "ndcg@30:0.1558\n",
      "ndcg@50:0.1485\n",
      "ndcg@all:0.4146\n"
     ]
    },
    {
     "data": {
      "application/vnd.jupyter.widget-view+json": {
       "model_id": "a1cb0ac876104827b3ae18a52e44e60a",
       "version_major": 2,
       "version_minor": 0
      },
      "text/plain": [
       "Training:   0%|          | 0/235 [00:00<?, ?it/s]"
      ]
     },
     "metadata": {},
     "output_type": "display_data"
    },
    {
     "name": "stdout",
     "output_type": "stream",
     "text": [
      "[Epoch 27]\n",
      "precision@10:0.2099\n",
      "precision@30:0.1378\n",
      "precision@50:0.1111\n",
      "ndcg@10:0.1787\n",
      "ndcg@30:0.1566\n",
      "ndcg@50:0.1495\n",
      "ndcg@all:0.4157\n"
     ]
    },
    {
     "data": {
      "application/vnd.jupyter.widget-view+json": {
       "model_id": "99c14d704c3543109483a201409810d3",
       "version_major": 2,
       "version_minor": 0
      },
      "text/plain": [
       "Training:   0%|          | 0/235 [00:00<?, ?it/s]"
      ]
     },
     "metadata": {},
     "output_type": "display_data"
    },
    {
     "name": "stdout",
     "output_type": "stream",
     "text": [
      "[Epoch 28]\n",
      "precision@10:0.2101\n",
      "precision@30:0.1371\n",
      "precision@50:0.1104\n",
      "ndcg@10:0.1793\n",
      "ndcg@30:0.1567\n",
      "ndcg@50:0.1494\n",
      "ndcg@all:0.4147\n"
     ]
    },
    {
     "data": {
      "application/vnd.jupyter.widget-view+json": {
       "model_id": "3b155f73f0b141408e2b0785ab2b60ad",
       "version_major": 2,
       "version_minor": 0
      },
      "text/plain": [
       "Training:   0%|          | 0/235 [00:00<?, ?it/s]"
      ]
     },
     "metadata": {},
     "output_type": "display_data"
    },
    {
     "name": "stdout",
     "output_type": "stream",
     "text": [
      "[Epoch 29]\n",
      "precision@10:0.2098\n",
      "precision@30:0.1374\n",
      "precision@50:0.1104\n",
      "ndcg@10:0.1809\n",
      "ndcg@30:0.1583\n",
      "ndcg@50:0.1506\n",
      "ndcg@all:0.4146\n"
     ]
    },
    {
     "data": {
      "application/vnd.jupyter.widget-view+json": {
       "model_id": "d2c389f9c19d4c4eb6a661902b7ddc7c",
       "version_major": 2,
       "version_minor": 0
      },
      "text/plain": [
       "Training:   0%|          | 0/235 [00:00<?, ?it/s]"
      ]
     },
     "metadata": {},
     "output_type": "display_data"
    },
    {
     "name": "stdout",
     "output_type": "stream",
     "text": [
      "[Epoch 30]\n",
      "precision@10:0.2123\n",
      "precision@30:0.1383\n",
      "precision@50:0.1112\n",
      "ndcg@10:0.1825\n",
      "ndcg@30:0.1593\n",
      "ndcg@50:0.1516\n",
      "ndcg@all:0.4163\n"
     ]
    },
    {
     "data": {
      "application/vnd.jupyter.widget-view+json": {
       "model_id": "d4acbe799e804e769c77c5cc3edc65cb",
       "version_major": 2,
       "version_minor": 0
      },
      "text/plain": [
       "Training:   0%|          | 0/235 [00:00<?, ?it/s]"
      ]
     },
     "metadata": {},
     "output_type": "display_data"
    },
    {
     "name": "stdout",
     "output_type": "stream",
     "text": [
      "[Epoch 31]\n",
      "precision@10:0.2183\n",
      "precision@30:0.1424\n",
      "precision@50:0.1145\n",
      "ndcg@10:0.1861\n",
      "ndcg@30:0.1626\n",
      "ndcg@50:0.1550\n",
      "ndcg@all:0.4197\n"
     ]
    },
    {
     "data": {
      "application/vnd.jupyter.widget-view+json": {
       "model_id": "57aa9c1d5b114193b6fee2e47ca29675",
       "version_major": 2,
       "version_minor": 0
      },
      "text/plain": [
       "Training:   0%|          | 0/235 [00:00<?, ?it/s]"
      ]
     },
     "metadata": {},
     "output_type": "display_data"
    },
    {
     "name": "stdout",
     "output_type": "stream",
     "text": [
      "[Epoch 32]\n",
      "precision@10:0.2190\n",
      "precision@30:0.1431\n",
      "precision@50:0.1149\n",
      "ndcg@10:0.1872\n",
      "ndcg@30:0.1636\n",
      "ndcg@50:0.1556\n",
      "ndcg@all:0.4199\n"
     ]
    },
    {
     "data": {
      "application/vnd.jupyter.widget-view+json": {
       "model_id": "16d8731100ce423d8d67b88991b9934f",
       "version_major": 2,
       "version_minor": 0
      },
      "text/plain": [
       "Training:   0%|          | 0/235 [00:00<?, ?it/s]"
      ]
     },
     "metadata": {},
     "output_type": "display_data"
    },
    {
     "name": "stdout",
     "output_type": "stream",
     "text": [
      "[Epoch 33]\n",
      "precision@10:0.2171\n",
      "precision@30:0.1401\n",
      "precision@50:0.1124\n",
      "ndcg@10:0.1879\n",
      "ndcg@30:0.1633\n",
      "ndcg@50:0.1551\n",
      "ndcg@all:0.4195\n"
     ]
    },
    {
     "data": {
      "application/vnd.jupyter.widget-view+json": {
       "model_id": "ebfd55692f6d418295f709d8fdf40683",
       "version_major": 2,
       "version_minor": 0
      },
      "text/plain": [
       "Training:   0%|          | 0/235 [00:00<?, ?it/s]"
      ]
     },
     "metadata": {},
     "output_type": "display_data"
    },
    {
     "name": "stdout",
     "output_type": "stream",
     "text": [
      "[Epoch 34]\n",
      "precision@10:0.2167\n",
      "precision@30:0.1403\n",
      "precision@50:0.1127\n",
      "ndcg@10:0.1878\n",
      "ndcg@30:0.1630\n",
      "ndcg@50:0.1551\n",
      "ndcg@all:0.4175\n"
     ]
    },
    {
     "data": {
      "application/vnd.jupyter.widget-view+json": {
       "model_id": "2a4f42319a304e13995d24825d4977b8",
       "version_major": 2,
       "version_minor": 0
      },
      "text/plain": [
       "Training:   0%|          | 0/235 [00:00<?, ?it/s]"
      ]
     },
     "metadata": {},
     "output_type": "display_data"
    },
    {
     "name": "stdout",
     "output_type": "stream",
     "text": [
      "[Epoch 35]\n",
      "precision@10:0.2164\n",
      "precision@30:0.1386\n",
      "precision@50:0.1104\n",
      "ndcg@10:0.1899\n",
      "ndcg@30:0.1642\n",
      "ndcg@50:0.1555\n",
      "ndcg@all:0.4164\n"
     ]
    },
    {
     "data": {
      "application/vnd.jupyter.widget-view+json": {
       "model_id": "79133184205c4112acd89194d6631101",
       "version_major": 2,
       "version_minor": 0
      },
      "text/plain": [
       "Training:   0%|          | 0/235 [00:00<?, ?it/s]"
      ]
     },
     "metadata": {},
     "output_type": "display_data"
    },
    {
     "name": "stdout",
     "output_type": "stream",
     "text": [
      "[Epoch 36]\n",
      "precision@10:0.2186\n",
      "precision@30:0.1417\n",
      "precision@50:0.1130\n",
      "ndcg@10:0.1895\n",
      "ndcg@30:0.1648\n",
      "ndcg@50:0.1561\n",
      "ndcg@all:0.4185\n"
     ]
    },
    {
     "data": {
      "application/vnd.jupyter.widget-view+json": {
       "model_id": "87694603398544ac88c25480e5f35785",
       "version_major": 2,
       "version_minor": 0
      },
      "text/plain": [
       "Training:   0%|          | 0/235 [00:00<?, ?it/s]"
      ]
     },
     "metadata": {},
     "output_type": "display_data"
    },
    {
     "name": "stdout",
     "output_type": "stream",
     "text": [
      "[Epoch 37]\n",
      "precision@10:0.2219\n",
      "precision@30:0.1424\n",
      "precision@50:0.1140\n",
      "ndcg@10:0.1935\n",
      "ndcg@30:0.1674\n",
      "ndcg@50:0.1591\n",
      "ndcg@all:0.4210\n"
     ]
    },
    {
     "data": {
      "application/vnd.jupyter.widget-view+json": {
       "model_id": "286ff0b40c7b4771811b4ff5c8e702e0",
       "version_major": 2,
       "version_minor": 0
      },
      "text/plain": [
       "Training:   0%|          | 0/235 [00:00<?, ?it/s]"
      ]
     },
     "metadata": {},
     "output_type": "display_data"
    },
    {
     "name": "stdout",
     "output_type": "stream",
     "text": [
      "[Epoch 38]\n",
      "precision@10:0.2212\n",
      "precision@30:0.1432\n",
      "precision@50:0.1143\n",
      "ndcg@10:0.1914\n",
      "ndcg@30:0.1663\n",
      "ndcg@50:0.1576\n",
      "ndcg@all:0.4207\n"
     ]
    },
    {
     "data": {
      "application/vnd.jupyter.widget-view+json": {
       "model_id": "e3acd857ce9d42679cc4f34287d0c34a",
       "version_major": 2,
       "version_minor": 0
      },
      "text/plain": [
       "Training:   0%|          | 0/235 [00:00<?, ?it/s]"
      ]
     },
     "metadata": {},
     "output_type": "display_data"
    },
    {
     "name": "stdout",
     "output_type": "stream",
     "text": [
      "[Epoch 39]\n",
      "precision@10:0.2219\n",
      "precision@30:0.1427\n",
      "precision@50:0.1137\n",
      "ndcg@10:0.1940\n",
      "ndcg@30:0.1681\n",
      "ndcg@50:0.1591\n",
      "ndcg@all:0.4210\n"
     ]
    },
    {
     "data": {
      "application/vnd.jupyter.widget-view+json": {
       "model_id": "060d7044609f439f967cabe790a14763",
       "version_major": 2,
       "version_minor": 0
      },
      "text/plain": [
       "Training:   0%|          | 0/235 [00:00<?, ?it/s]"
      ]
     },
     "metadata": {},
     "output_type": "display_data"
    },
    {
     "name": "stdout",
     "output_type": "stream",
     "text": [
      "[Epoch 40]\n",
      "precision@10:0.2247\n",
      "precision@30:0.1439\n",
      "precision@50:0.1150\n",
      "ndcg@10:0.1947\n",
      "ndcg@30:0.1686\n",
      "ndcg@50:0.1599\n",
      "ndcg@all:0.4218\n"
     ]
    },
    {
     "data": {
      "application/vnd.jupyter.widget-view+json": {
       "model_id": "75c1787637024140be404959ab5b3675",
       "version_major": 2,
       "version_minor": 0
      },
      "text/plain": [
       "Training:   0%|          | 0/235 [00:00<?, ?it/s]"
      ]
     },
     "metadata": {},
     "output_type": "display_data"
    },
    {
     "name": "stdout",
     "output_type": "stream",
     "text": [
      "[Epoch 41]\n",
      "precision@10:0.2250\n",
      "precision@30:0.1445\n",
      "precision@50:0.1151\n",
      "ndcg@10:0.1975\n",
      "ndcg@30:0.1709\n",
      "ndcg@50:0.1618\n",
      "ndcg@all:0.4228\n"
     ]
    },
    {
     "data": {
      "application/vnd.jupyter.widget-view+json": {
       "model_id": "8391d33dfe424533825da4f178f21f8b",
       "version_major": 2,
       "version_minor": 0
      },
      "text/plain": [
       "Training:   0%|          | 0/235 [00:00<?, ?it/s]"
      ]
     },
     "metadata": {},
     "output_type": "display_data"
    },
    {
     "name": "stdout",
     "output_type": "stream",
     "text": [
      "[Epoch 42]\n",
      "precision@10:0.2217\n",
      "precision@30:0.1424\n",
      "precision@50:0.1128\n",
      "ndcg@10:0.1952\n",
      "ndcg@30:0.1688\n",
      "ndcg@50:0.1594\n",
      "ndcg@all:0.4200\n"
     ]
    },
    {
     "data": {
      "application/vnd.jupyter.widget-view+json": {
       "model_id": "c0ac9c42e66e40a58141b863c50ce691",
       "version_major": 2,
       "version_minor": 0
      },
      "text/plain": [
       "Training:   0%|          | 0/235 [00:00<?, ?it/s]"
      ]
     },
     "metadata": {},
     "output_type": "display_data"
    },
    {
     "name": "stdout",
     "output_type": "stream",
     "text": [
      "[Epoch 43]\n",
      "precision@10:0.2276\n",
      "precision@30:0.1459\n",
      "precision@50:0.1163\n",
      "ndcg@10:0.1981\n",
      "ndcg@30:0.1713\n",
      "ndcg@50:0.1622\n",
      "ndcg@all:0.4240\n"
     ]
    },
    {
     "data": {
      "application/vnd.jupyter.widget-view+json": {
       "model_id": "c6e692fd93da41e5abf1c588f1a43e85",
       "version_major": 2,
       "version_minor": 0
      },
      "text/plain": [
       "Training:   0%|          | 0/235 [00:00<?, ?it/s]"
      ]
     },
     "metadata": {},
     "output_type": "display_data"
    },
    {
     "name": "stdout",
     "output_type": "stream",
     "text": [
      "[Epoch 44]\n",
      "precision@10:0.2243\n",
      "precision@30:0.1445\n",
      "precision@50:0.1150\n",
      "ndcg@10:0.1963\n",
      "ndcg@30:0.1700\n",
      "ndcg@50:0.1611\n",
      "ndcg@all:0.4214\n"
     ]
    },
    {
     "data": {
      "application/vnd.jupyter.widget-view+json": {
       "model_id": "0cdd27316bf349eb8658c18aa653f469",
       "version_major": 2,
       "version_minor": 0
      },
      "text/plain": [
       "Training:   0%|          | 0/235 [00:00<?, ?it/s]"
      ]
     },
     "metadata": {},
     "output_type": "display_data"
    },
    {
     "name": "stdout",
     "output_type": "stream",
     "text": [
      "[Epoch 45]\n",
      "precision@10:0.2248\n",
      "precision@30:0.1440\n",
      "precision@50:0.1141\n",
      "ndcg@10:0.1970\n",
      "ndcg@30:0.1703\n",
      "ndcg@50:0.1609\n",
      "ndcg@all:0.4208\n"
     ]
    },
    {
     "data": {
      "application/vnd.jupyter.widget-view+json": {
       "model_id": "163df9906e7f46b99aa654f9b015d6b2",
       "version_major": 2,
       "version_minor": 0
      },
      "text/plain": [
       "Training:   0%|          | 0/235 [00:00<?, ?it/s]"
      ]
     },
     "metadata": {},
     "output_type": "display_data"
    },
    {
     "name": "stdout",
     "output_type": "stream",
     "text": [
      "[Epoch 46]\n",
      "precision@10:0.2256\n",
      "precision@30:0.1449\n",
      "precision@50:0.1151\n",
      "ndcg@10:0.1983\n",
      "ndcg@30:0.1717\n",
      "ndcg@50:0.1622\n",
      "ndcg@all:0.4228\n"
     ]
    },
    {
     "data": {
      "application/vnd.jupyter.widget-view+json": {
       "model_id": "52afe055f6864b57a945798cb123cf12",
       "version_major": 2,
       "version_minor": 0
      },
      "text/plain": [
       "Training:   0%|          | 0/235 [00:00<?, ?it/s]"
      ]
     },
     "metadata": {},
     "output_type": "display_data"
    },
    {
     "name": "stdout",
     "output_type": "stream",
     "text": [
      "[Epoch 47]\n",
      "precision@10:0.2256\n",
      "precision@30:0.1447\n",
      "precision@50:0.1150\n",
      "ndcg@10:0.1984\n",
      "ndcg@30:0.1715\n",
      "ndcg@50:0.1621\n",
      "ndcg@all:0.4232\n"
     ]
    },
    {
     "data": {
      "application/vnd.jupyter.widget-view+json": {
       "model_id": "26dbd59f753142e5953680a458de4324",
       "version_major": 2,
       "version_minor": 0
      },
      "text/plain": [
       "Training:   0%|          | 0/235 [00:00<?, ?it/s]"
      ]
     },
     "metadata": {},
     "output_type": "display_data"
    },
    {
     "name": "stdout",
     "output_type": "stream",
     "text": [
      "[Epoch 48]\n",
      "precision@10:0.2202\n",
      "precision@30:0.1407\n",
      "precision@50:0.1112\n",
      "ndcg@10:0.1962\n",
      "ndcg@30:0.1693\n",
      "ndcg@50:0.1598\n",
      "ndcg@all:0.4191\n"
     ]
    },
    {
     "data": {
      "application/vnd.jupyter.widget-view+json": {
       "model_id": "0aa858be1e01460ba6a118ee8333833d",
       "version_major": 2,
       "version_minor": 0
      },
      "text/plain": [
       "Training:   0%|          | 0/235 [00:00<?, ?it/s]"
      ]
     },
     "metadata": {},
     "output_type": "display_data"
    },
    {
     "name": "stdout",
     "output_type": "stream",
     "text": [
      "[Epoch 49]\n",
      "precision@10:0.2278\n",
      "precision@30:0.1464\n",
      "precision@50:0.1160\n",
      "ndcg@10:0.2008\n",
      "ndcg@30:0.1735\n",
      "ndcg@50:0.1638\n",
      "ndcg@all:0.4232\n"
     ]
    },
    {
     "data": {
      "application/vnd.jupyter.widget-view+json": {
       "model_id": "56d0f5cd589c45f894ebe7affa19f60f",
       "version_major": 2,
       "version_minor": 0
      },
      "text/plain": [
       "Training:   0%|          | 0/235 [00:00<?, ?it/s]"
      ]
     },
     "metadata": {},
     "output_type": "display_data"
    },
    {
     "name": "stdout",
     "output_type": "stream",
     "text": [
      "[Epoch 50]\n",
      "precision@10:0.2271\n",
      "precision@30:0.1449\n",
      "precision@50:0.1147\n",
      "ndcg@10:0.2010\n",
      "ndcg@30:0.1733\n",
      "ndcg@50:0.1635\n",
      "ndcg@all:0.4233\n"
     ]
    },
    {
     "data": {
      "application/vnd.jupyter.widget-view+json": {
       "model_id": "22f12c82fcf64268a63bfdefb0184c37",
       "version_major": 2,
       "version_minor": 0
      },
      "text/plain": [
       "Training:   0%|          | 0/235 [00:00<?, ?it/s]"
      ]
     },
     "metadata": {},
     "output_type": "display_data"
    },
    {
     "name": "stdout",
     "output_type": "stream",
     "text": [
      "[Epoch 51]\n",
      "precision@10:0.2291\n",
      "precision@30:0.1466\n",
      "precision@50:0.1167\n",
      "ndcg@10:0.2023\n",
      "ndcg@30:0.1745\n",
      "ndcg@50:0.1651\n",
      "ndcg@all:0.4255\n"
     ]
    },
    {
     "data": {
      "application/vnd.jupyter.widget-view+json": {
       "model_id": "dd1fa90917f84f8196c1fcc76653315e",
       "version_major": 2,
       "version_minor": 0
      },
      "text/plain": [
       "Training:   0%|          | 0/235 [00:00<?, ?it/s]"
      ]
     },
     "metadata": {},
     "output_type": "display_data"
    },
    {
     "name": "stdout",
     "output_type": "stream",
     "text": [
      "[Epoch 52]\n",
      "precision@10:0.2297\n",
      "precision@30:0.1459\n",
      "precision@50:0.1158\n",
      "ndcg@10:0.2012\n",
      "ndcg@30:0.1733\n",
      "ndcg@50:0.1639\n",
      "ndcg@all:0.4228\n"
     ]
    },
    {
     "data": {
      "application/vnd.jupyter.widget-view+json": {
       "model_id": "9c540508155941fd90ab2853aeb78681",
       "version_major": 2,
       "version_minor": 0
      },
      "text/plain": [
       "Training:   0%|          | 0/235 [00:00<?, ?it/s]"
      ]
     },
     "metadata": {},
     "output_type": "display_data"
    },
    {
     "name": "stdout",
     "output_type": "stream",
     "text": [
      "[Epoch 53]\n",
      "precision@10:0.2265\n",
      "precision@30:0.1444\n",
      "precision@50:0.1147\n",
      "ndcg@10:0.2011\n",
      "ndcg@30:0.1734\n",
      "ndcg@50:0.1639\n",
      "ndcg@all:0.4238\n"
     ]
    },
    {
     "data": {
      "application/vnd.jupyter.widget-view+json": {
       "model_id": "641310ce90bc41759390d4c8012591d7",
       "version_major": 2,
       "version_minor": 0
      },
      "text/plain": [
       "Training:   0%|          | 0/235 [00:00<?, ?it/s]"
      ]
     },
     "metadata": {},
     "output_type": "display_data"
    },
    {
     "name": "stdout",
     "output_type": "stream",
     "text": [
      "[Epoch 54]\n",
      "precision@10:0.2249\n",
      "precision@30:0.1431\n",
      "precision@50:0.1129\n",
      "ndcg@10:0.2003\n",
      "ndcg@30:0.1727\n",
      "ndcg@50:0.1629\n",
      "ndcg@all:0.4208\n"
     ]
    },
    {
     "data": {
      "application/vnd.jupyter.widget-view+json": {
       "model_id": "9bf134ddf2f84743b09ccc9c1efcd72a",
       "version_major": 2,
       "version_minor": 0
      },
      "text/plain": [
       "Training:   0%|          | 0/235 [00:00<?, ?it/s]"
      ]
     },
     "metadata": {},
     "output_type": "display_data"
    },
    {
     "name": "stdout",
     "output_type": "stream",
     "text": [
      "[Epoch 55]\n",
      "precision@10:0.2299\n",
      "precision@30:0.1464\n",
      "precision@50:0.1154\n",
      "ndcg@10:0.2043\n",
      "ndcg@30:0.1761\n",
      "ndcg@50:0.1658\n",
      "ndcg@all:0.4240\n"
     ]
    },
    {
     "data": {
      "application/vnd.jupyter.widget-view+json": {
       "model_id": "31868d35652448388bdc19886a8a999a",
       "version_major": 2,
       "version_minor": 0
      },
      "text/plain": [
       "Training:   0%|          | 0/235 [00:00<?, ?it/s]"
      ]
     },
     "metadata": {},
     "output_type": "display_data"
    },
    {
     "name": "stdout",
     "output_type": "stream",
     "text": [
      "[Epoch 56]\n",
      "precision@10:0.2343\n",
      "precision@30:0.1502\n",
      "precision@50:0.1187\n",
      "ndcg@10:0.2043\n",
      "ndcg@30:0.1771\n",
      "ndcg@50:0.1672\n",
      "ndcg@all:0.4259\n"
     ]
    },
    {
     "data": {
      "application/vnd.jupyter.widget-view+json": {
       "model_id": "9c93b5c28024403097d91da4e0498bad",
       "version_major": 2,
       "version_minor": 0
      },
      "text/plain": [
       "Training:   0%|          | 0/235 [00:00<?, ?it/s]"
      ]
     },
     "metadata": {},
     "output_type": "display_data"
    },
    {
     "name": "stdout",
     "output_type": "stream",
     "text": [
      "[Epoch 57]\n",
      "precision@10:0.2275\n",
      "precision@30:0.1443\n",
      "precision@50:0.1140\n",
      "ndcg@10:0.2042\n",
      "ndcg@30:0.1756\n",
      "ndcg@50:0.1654\n",
      "ndcg@all:0.4242\n"
     ]
    },
    {
     "data": {
      "application/vnd.jupyter.widget-view+json": {
       "model_id": "f4edbdf2043d4fc99343efd5eaac112b",
       "version_major": 2,
       "version_minor": 0
      },
      "text/plain": [
       "Training:   0%|          | 0/235 [00:00<?, ?it/s]"
      ]
     },
     "metadata": {},
     "output_type": "display_data"
    },
    {
     "name": "stdout",
     "output_type": "stream",
     "text": [
      "[Epoch 58]\n",
      "precision@10:0.2316\n",
      "precision@30:0.1470\n",
      "precision@50:0.1163\n",
      "ndcg@10:0.2055\n",
      "ndcg@30:0.1767\n",
      "ndcg@50:0.1668\n",
      "ndcg@all:0.4257\n"
     ]
    },
    {
     "data": {
      "application/vnd.jupyter.widget-view+json": {
       "model_id": "7cb50febbfa54767b9586bb3fe165a33",
       "version_major": 2,
       "version_minor": 0
      },
      "text/plain": [
       "Training:   0%|          | 0/235 [00:00<?, ?it/s]"
      ]
     },
     "metadata": {},
     "output_type": "display_data"
    },
    {
     "name": "stdout",
     "output_type": "stream",
     "text": [
      "[Epoch 59]\n",
      "precision@10:0.2300\n",
      "precision@30:0.1458\n",
      "precision@50:0.1158\n",
      "ndcg@10:0.2055\n",
      "ndcg@30:0.1767\n",
      "ndcg@50:0.1668\n",
      "ndcg@all:0.4254\n"
     ]
    },
    {
     "data": {
      "application/vnd.jupyter.widget-view+json": {
       "model_id": "26b2615d3a79457b8879407b5761b092",
       "version_major": 2,
       "version_minor": 0
      },
      "text/plain": [
       "Training:   0%|          | 0/235 [00:00<?, ?it/s]"
      ]
     },
     "metadata": {},
     "output_type": "display_data"
    },
    {
     "name": "stdout",
     "output_type": "stream",
     "text": [
      "[Epoch 60]\n",
      "precision@10:0.2288\n",
      "precision@30:0.1448\n",
      "precision@50:0.1147\n",
      "ndcg@10:0.2056\n",
      "ndcg@30:0.1766\n",
      "ndcg@50:0.1667\n",
      "ndcg@all:0.4250\n"
     ]
    },
    {
     "data": {
      "application/vnd.jupyter.widget-view+json": {
       "model_id": "c8d4aa2dfcc3494581ff5ea8ce1abb7f",
       "version_major": 2,
       "version_minor": 0
      },
      "text/plain": [
       "Training:   0%|          | 0/235 [00:00<?, ?it/s]"
      ]
     },
     "metadata": {},
     "output_type": "display_data"
    },
    {
     "name": "stdout",
     "output_type": "stream",
     "text": [
      "[Epoch 61]\n",
      "precision@10:0.2338\n",
      "precision@30:0.1482\n",
      "precision@50:0.1170\n",
      "ndcg@10:0.2067\n",
      "ndcg@30:0.1777\n",
      "ndcg@50:0.1675\n",
      "ndcg@all:0.4239\n"
     ]
    },
    {
     "data": {
      "application/vnd.jupyter.widget-view+json": {
       "model_id": "855ac0afa8d74017a64644249a1183e8",
       "version_major": 2,
       "version_minor": 0
      },
      "text/plain": [
       "Training:   0%|          | 0/235 [00:00<?, ?it/s]"
      ]
     },
     "metadata": {},
     "output_type": "display_data"
    },
    {
     "name": "stdout",
     "output_type": "stream",
     "text": [
      "[Epoch 62]\n",
      "precision@10:0.2349\n",
      "precision@30:0.1493\n",
      "precision@50:0.1180\n",
      "ndcg@10:0.2078\n",
      "ndcg@30:0.1788\n",
      "ndcg@50:0.1686\n",
      "ndcg@all:0.4259\n"
     ]
    },
    {
     "data": {
      "application/vnd.jupyter.widget-view+json": {
       "model_id": "536f3e0d183640dcae47577d4838cdd2",
       "version_major": 2,
       "version_minor": 0
      },
      "text/plain": [
       "Training:   0%|          | 0/235 [00:00<?, ?it/s]"
      ]
     },
     "metadata": {},
     "output_type": "display_data"
    },
    {
     "name": "stdout",
     "output_type": "stream",
     "text": [
      "[Epoch 63]\n",
      "precision@10:0.2338\n",
      "precision@30:0.1492\n",
      "precision@50:0.1184\n",
      "ndcg@10:0.2071\n",
      "ndcg@30:0.1784\n",
      "ndcg@50:0.1685\n",
      "ndcg@all:0.4269\n"
     ]
    },
    {
     "data": {
      "application/vnd.jupyter.widget-view+json": {
       "model_id": "3d560f068a244a2dbfe0a0fe92b14234",
       "version_major": 2,
       "version_minor": 0
      },
      "text/plain": [
       "Training:   0%|          | 0/235 [00:00<?, ?it/s]"
      ]
     },
     "metadata": {},
     "output_type": "display_data"
    },
    {
     "name": "stdout",
     "output_type": "stream",
     "text": [
      "[Epoch 64]\n",
      "precision@10:0.2342\n",
      "precision@30:0.1494\n",
      "precision@50:0.1182\n",
      "ndcg@10:0.2074\n",
      "ndcg@30:0.1787\n",
      "ndcg@50:0.1686\n",
      "ndcg@all:0.4269\n"
     ]
    },
    {
     "data": {
      "application/vnd.jupyter.widget-view+json": {
       "model_id": "898a70259eb34ff3bcfff2474fefac0d",
       "version_major": 2,
       "version_minor": 0
      },
      "text/plain": [
       "Training:   0%|          | 0/235 [00:00<?, ?it/s]"
      ]
     },
     "metadata": {},
     "output_type": "display_data"
    },
    {
     "name": "stdout",
     "output_type": "stream",
     "text": [
      "[Epoch 65]\n",
      "precision@10:0.2337\n",
      "precision@30:0.1486\n",
      "precision@50:0.1178\n",
      "ndcg@10:0.2077\n",
      "ndcg@30:0.1786\n",
      "ndcg@50:0.1685\n",
      "ndcg@all:0.4259\n"
     ]
    },
    {
     "data": {
      "application/vnd.jupyter.widget-view+json": {
       "model_id": "a154028580114c10a0733310eda633ba",
       "version_major": 2,
       "version_minor": 0
      },
      "text/plain": [
       "Training:   0%|          | 0/235 [00:00<?, ?it/s]"
      ]
     },
     "metadata": {},
     "output_type": "display_data"
    },
    {
     "name": "stdout",
     "output_type": "stream",
     "text": [
      "[Epoch 66]\n",
      "precision@10:0.2344\n",
      "precision@30:0.1485\n",
      "precision@50:0.1173\n",
      "ndcg@10:0.2077\n",
      "ndcg@30:0.1786\n",
      "ndcg@50:0.1684\n",
      "ndcg@all:0.4257\n"
     ]
    },
    {
     "data": {
      "application/vnd.jupyter.widget-view+json": {
       "model_id": "5a82ab1a810d428ea08cfc7d4c7b4cd9",
       "version_major": 2,
       "version_minor": 0
      },
      "text/plain": [
       "Training:   0%|          | 0/235 [00:00<?, ?it/s]"
      ]
     },
     "metadata": {},
     "output_type": "display_data"
    },
    {
     "name": "stdout",
     "output_type": "stream",
     "text": [
      "[Epoch 67]\n",
      "precision@10:0.2274\n",
      "precision@30:0.1434\n",
      "precision@50:0.1127\n",
      "ndcg@10:0.2068\n",
      "ndcg@30:0.1770\n",
      "ndcg@50:0.1662\n",
      "ndcg@all:0.4229\n"
     ]
    },
    {
     "data": {
      "application/vnd.jupyter.widget-view+json": {
       "model_id": "fe04c7f570f147418261a470dca9557a",
       "version_major": 2,
       "version_minor": 0
      },
      "text/plain": [
       "Training:   0%|          | 0/235 [00:00<?, ?it/s]"
      ]
     },
     "metadata": {},
     "output_type": "display_data"
    },
    {
     "name": "stdout",
     "output_type": "stream",
     "text": [
      "[Epoch 68]\n",
      "precision@10:0.2334\n",
      "precision@30:0.1475\n",
      "precision@50:0.1165\n",
      "ndcg@10:0.2087\n",
      "ndcg@30:0.1790\n",
      "ndcg@50:0.1686\n",
      "ndcg@all:0.4260\n"
     ]
    },
    {
     "data": {
      "application/vnd.jupyter.widget-view+json": {
       "model_id": "79ea43f65a8b47aea77391bf000af8d2",
       "version_major": 2,
       "version_minor": 0
      },
      "text/plain": [
       "Training:   0%|          | 0/235 [00:00<?, ?it/s]"
      ]
     },
     "metadata": {},
     "output_type": "display_data"
    },
    {
     "name": "stdout",
     "output_type": "stream",
     "text": [
      "[Epoch 69]\n",
      "precision@10:0.2366\n",
      "precision@30:0.1501\n",
      "precision@50:0.1184\n",
      "ndcg@10:0.2111\n",
      "ndcg@30:0.1812\n",
      "ndcg@50:0.1704\n",
      "ndcg@all:0.4286\n"
     ]
    },
    {
     "data": {
      "application/vnd.jupyter.widget-view+json": {
       "model_id": "30365f4849234e8280475490a4b9f70b",
       "version_major": 2,
       "version_minor": 0
      },
      "text/plain": [
       "Training:   0%|          | 0/235 [00:00<?, ?it/s]"
      ]
     },
     "metadata": {},
     "output_type": "display_data"
    },
    {
     "name": "stdout",
     "output_type": "stream",
     "text": [
      "[Epoch 70]\n",
      "precision@10:0.2371\n",
      "precision@30:0.1501\n",
      "precision@50:0.1190\n",
      "ndcg@10:0.2093\n",
      "ndcg@30:0.1798\n",
      "ndcg@50:0.1697\n",
      "ndcg@all:0.4291\n"
     ]
    },
    {
     "data": {
      "application/vnd.jupyter.widget-view+json": {
       "model_id": "bd59a6a46fa14b3b9c93a2d474dd70d4",
       "version_major": 2,
       "version_minor": 0
      },
      "text/plain": [
       "Training:   0%|          | 0/235 [00:00<?, ?it/s]"
      ]
     },
     "metadata": {},
     "output_type": "display_data"
    },
    {
     "name": "stdout",
     "output_type": "stream",
     "text": [
      "[Epoch 71]\n",
      "precision@10:0.2327\n",
      "precision@30:0.1461\n",
      "precision@50:0.1152\n",
      "ndcg@10:0.2087\n",
      "ndcg@30:0.1786\n",
      "ndcg@50:0.1681\n",
      "ndcg@all:0.4241\n"
     ]
    },
    {
     "data": {
      "application/vnd.jupyter.widget-view+json": {
       "model_id": "9dea5e97445f499f8d28caa9372f5121",
       "version_major": 2,
       "version_minor": 0
      },
      "text/plain": [
       "Training:   0%|          | 0/235 [00:00<?, ?it/s]"
      ]
     },
     "metadata": {},
     "output_type": "display_data"
    },
    {
     "name": "stdout",
     "output_type": "stream",
     "text": [
      "[Epoch 72]\n",
      "precision@10:0.2364\n",
      "precision@30:0.1498\n",
      "precision@50:0.1180\n",
      "ndcg@10:0.2110\n",
      "ndcg@30:0.1810\n",
      "ndcg@50:0.1704\n",
      "ndcg@all:0.4280\n"
     ]
    },
    {
     "data": {
      "application/vnd.jupyter.widget-view+json": {
       "model_id": "3b868f8225314237a573216e936b3fd2",
       "version_major": 2,
       "version_minor": 0
      },
      "text/plain": [
       "Training:   0%|          | 0/235 [00:00<?, ?it/s]"
      ]
     },
     "metadata": {},
     "output_type": "display_data"
    },
    {
     "name": "stdout",
     "output_type": "stream",
     "text": [
      "[Epoch 73]\n",
      "precision@10:0.2325\n",
      "precision@30:0.1471\n",
      "precision@50:0.1160\n",
      "ndcg@10:0.2086\n",
      "ndcg@30:0.1793\n",
      "ndcg@50:0.1687\n",
      "ndcg@all:0.4253\n"
     ]
    },
    {
     "data": {
      "application/vnd.jupyter.widget-view+json": {
       "model_id": "e603353526c344008bc6cae3c5c8a901",
       "version_major": 2,
       "version_minor": 0
      },
      "text/plain": [
       "Training:   0%|          | 0/235 [00:00<?, ?it/s]"
      ]
     },
     "metadata": {},
     "output_type": "display_data"
    },
    {
     "name": "stdout",
     "output_type": "stream",
     "text": [
      "[Epoch 74]\n",
      "precision@10:0.2361\n",
      "precision@30:0.1494\n",
      "precision@50:0.1175\n",
      "ndcg@10:0.2117\n",
      "ndcg@30:0.1815\n",
      "ndcg@50:0.1706\n",
      "ndcg@all:0.4279\n"
     ]
    },
    {
     "data": {
      "application/vnd.jupyter.widget-view+json": {
       "model_id": "fb3a28712ad7436ab3fbc77d2226453e",
       "version_major": 2,
       "version_minor": 0
      },
      "text/plain": [
       "Training:   0%|          | 0/235 [00:00<?, ?it/s]"
      ]
     },
     "metadata": {},
     "output_type": "display_data"
    },
    {
     "name": "stdout",
     "output_type": "stream",
     "text": [
      "[Epoch 75]\n",
      "precision@10:0.2373\n",
      "precision@30:0.1494\n",
      "precision@50:0.1180\n",
      "ndcg@10:0.2118\n",
      "ndcg@30:0.1814\n",
      "ndcg@50:0.1708\n",
      "ndcg@all:0.4285\n"
     ]
    },
    {
     "data": {
      "application/vnd.jupyter.widget-view+json": {
       "model_id": "fae381a2f3904693a8a2e4ada8726970",
       "version_major": 2,
       "version_minor": 0
      },
      "text/plain": [
       "Training:   0%|          | 0/235 [00:00<?, ?it/s]"
      ]
     },
     "metadata": {},
     "output_type": "display_data"
    },
    {
     "name": "stdout",
     "output_type": "stream",
     "text": [
      "[Epoch 76]\n",
      "precision@10:0.2379\n",
      "precision@30:0.1507\n",
      "precision@50:0.1187\n",
      "ndcg@10:0.2107\n",
      "ndcg@30:0.1812\n",
      "ndcg@50:0.1707\n",
      "ndcg@all:0.4281\n"
     ]
    },
    {
     "data": {
      "application/vnd.jupyter.widget-view+json": {
       "model_id": "33bdd941f67c49029954ab9c97a8e5b5",
       "version_major": 2,
       "version_minor": 0
      },
      "text/plain": [
       "Training:   0%|          | 0/235 [00:00<?, ?it/s]"
      ]
     },
     "metadata": {},
     "output_type": "display_data"
    },
    {
     "name": "stdout",
     "output_type": "stream",
     "text": [
      "[Epoch 77]\n",
      "precision@10:0.2340\n",
      "precision@30:0.1483\n",
      "precision@50:0.1165\n",
      "ndcg@10:0.2104\n",
      "ndcg@30:0.1804\n",
      "ndcg@50:0.1697\n",
      "ndcg@all:0.4267\n"
     ]
    },
    {
     "data": {
      "application/vnd.jupyter.widget-view+json": {
       "model_id": "2d1af26f53f84c4d8f08ef7e768168d6",
       "version_major": 2,
       "version_minor": 0
      },
      "text/plain": [
       "Training:   0%|          | 0/235 [00:00<?, ?it/s]"
      ]
     },
     "metadata": {},
     "output_type": "display_data"
    },
    {
     "name": "stdout",
     "output_type": "stream",
     "text": [
      "[Epoch 78]\n",
      "precision@10:0.2341\n",
      "precision@30:0.1487\n",
      "precision@50:0.1175\n",
      "ndcg@10:0.2109\n",
      "ndcg@30:0.1810\n",
      "ndcg@50:0.1706\n",
      "ndcg@all:0.4271\n"
     ]
    },
    {
     "data": {
      "application/vnd.jupyter.widget-view+json": {
       "model_id": "4732094543c2444b95fe9ccb1543a826",
       "version_major": 2,
       "version_minor": 0
      },
      "text/plain": [
       "Training:   0%|          | 0/235 [00:00<?, ?it/s]"
      ]
     },
     "metadata": {},
     "output_type": "display_data"
    },
    {
     "name": "stdout",
     "output_type": "stream",
     "text": [
      "[Epoch 79]\n",
      "precision@10:0.2363\n",
      "precision@30:0.1497\n",
      "precision@50:0.1176\n",
      "ndcg@10:0.2115\n",
      "ndcg@30:0.1816\n",
      "ndcg@50:0.1706\n",
      "ndcg@all:0.4278\n"
     ]
    },
    {
     "data": {
      "application/vnd.jupyter.widget-view+json": {
       "model_id": "3bce737db3974239b42e7dec095443d7",
       "version_major": 2,
       "version_minor": 0
      },
      "text/plain": [
       "Training:   0%|          | 0/235 [00:00<?, ?it/s]"
      ]
     },
     "metadata": {},
     "output_type": "display_data"
    },
    {
     "name": "stdout",
     "output_type": "stream",
     "text": [
      "[Epoch 80]\n",
      "precision@10:0.2380\n",
      "precision@30:0.1500\n",
      "precision@50:0.1185\n",
      "ndcg@10:0.2119\n",
      "ndcg@30:0.1820\n",
      "ndcg@50:0.1714\n",
      "ndcg@all:0.4280\n"
     ]
    },
    {
     "data": {
      "application/vnd.jupyter.widget-view+json": {
       "model_id": "9acee6230c504984969bd420cb9b6ff4",
       "version_major": 2,
       "version_minor": 0
      },
      "text/plain": [
       "Training:   0%|          | 0/235 [00:00<?, ?it/s]"
      ]
     },
     "metadata": {},
     "output_type": "display_data"
    },
    {
     "name": "stdout",
     "output_type": "stream",
     "text": [
      "[Epoch 81]\n",
      "precision@10:0.2353\n",
      "precision@30:0.1485\n",
      "precision@50:0.1169\n",
      "ndcg@10:0.2125\n",
      "ndcg@30:0.1819\n",
      "ndcg@50:0.1711\n",
      "ndcg@all:0.4272\n"
     ]
    },
    {
     "data": {
      "application/vnd.jupyter.widget-view+json": {
       "model_id": "e1bc14299d1444fc8b1cf263db655604",
       "version_major": 2,
       "version_minor": 0
      },
      "text/plain": [
       "Training:   0%|          | 0/235 [00:00<?, ?it/s]"
      ]
     },
     "metadata": {},
     "output_type": "display_data"
    },
    {
     "name": "stdout",
     "output_type": "stream",
     "text": [
      "[Epoch 82]\n",
      "precision@10:0.2352\n",
      "precision@30:0.1477\n",
      "precision@50:0.1163\n",
      "ndcg@10:0.2124\n",
      "ndcg@30:0.1813\n",
      "ndcg@50:0.1704\n",
      "ndcg@all:0.4265\n"
     ]
    },
    {
     "data": {
      "application/vnd.jupyter.widget-view+json": {
       "model_id": "1c0dac72f9e54e079765f2ebc31aa02b",
       "version_major": 2,
       "version_minor": 0
      },
      "text/plain": [
       "Training:   0%|          | 0/235 [00:00<?, ?it/s]"
      ]
     },
     "metadata": {},
     "output_type": "display_data"
    },
    {
     "name": "stdout",
     "output_type": "stream",
     "text": [
      "[Epoch 83]\n",
      "precision@10:0.2380\n",
      "precision@30:0.1495\n",
      "precision@50:0.1178\n",
      "ndcg@10:0.2139\n",
      "ndcg@30:0.1829\n",
      "ndcg@50:0.1720\n",
      "ndcg@all:0.4281\n"
     ]
    },
    {
     "data": {
      "application/vnd.jupyter.widget-view+json": {
       "model_id": "6203bd34f7044fc4bbf69e0d859d1856",
       "version_major": 2,
       "version_minor": 0
      },
      "text/plain": [
       "Training:   0%|          | 0/235 [00:00<?, ?it/s]"
      ]
     },
     "metadata": {},
     "output_type": "display_data"
    },
    {
     "name": "stdout",
     "output_type": "stream",
     "text": [
      "[Epoch 84]\n",
      "precision@10:0.2347\n",
      "precision@30:0.1482\n",
      "precision@50:0.1168\n",
      "ndcg@10:0.2121\n",
      "ndcg@30:0.1815\n",
      "ndcg@50:0.1707\n",
      "ndcg@all:0.4273\n"
     ]
    },
    {
     "data": {
      "application/vnd.jupyter.widget-view+json": {
       "model_id": "61d79c61cc804ff79cd677d726fe267f",
       "version_major": 2,
       "version_minor": 0
      },
      "text/plain": [
       "Training:   0%|          | 0/235 [00:00<?, ?it/s]"
      ]
     },
     "metadata": {},
     "output_type": "display_data"
    },
    {
     "name": "stdout",
     "output_type": "stream",
     "text": [
      "[Epoch 85]\n",
      "precision@10:0.2356\n",
      "precision@30:0.1474\n",
      "precision@50:0.1162\n",
      "ndcg@10:0.2137\n",
      "ndcg@30:0.1823\n",
      "ndcg@50:0.1714\n",
      "ndcg@all:0.4267\n"
     ]
    },
    {
     "data": {
      "application/vnd.jupyter.widget-view+json": {
       "model_id": "c57377e57e4b48049ab5741eb589cf12",
       "version_major": 2,
       "version_minor": 0
      },
      "text/plain": [
       "Training:   0%|          | 0/235 [00:00<?, ?it/s]"
      ]
     },
     "metadata": {},
     "output_type": "display_data"
    },
    {
     "name": "stdout",
     "output_type": "stream",
     "text": [
      "[Epoch 86]\n",
      "precision@10:0.2372\n",
      "precision@30:0.1490\n",
      "precision@50:0.1172\n",
      "ndcg@10:0.2127\n",
      "ndcg@30:0.1818\n",
      "ndcg@50:0.1709\n",
      "ndcg@all:0.4266\n"
     ]
    },
    {
     "data": {
      "application/vnd.jupyter.widget-view+json": {
       "model_id": "edb21633015648c4a45d489848bfa914",
       "version_major": 2,
       "version_minor": 0
      },
      "text/plain": [
       "Training:   0%|          | 0/235 [00:00<?, ?it/s]"
      ]
     },
     "metadata": {},
     "output_type": "display_data"
    },
    {
     "name": "stdout",
     "output_type": "stream",
     "text": [
      "[Epoch 87]\n",
      "precision@10:0.2358\n",
      "precision@30:0.1478\n",
      "precision@50:0.1160\n",
      "ndcg@10:0.2135\n",
      "ndcg@30:0.1822\n",
      "ndcg@50:0.1711\n",
      "ndcg@all:0.4273\n"
     ]
    },
    {
     "data": {
      "application/vnd.jupyter.widget-view+json": {
       "model_id": "d433dea7ec8d47e69053400129336849",
       "version_major": 2,
       "version_minor": 0
      },
      "text/plain": [
       "Training:   0%|          | 0/235 [00:00<?, ?it/s]"
      ]
     },
     "metadata": {},
     "output_type": "display_data"
    },
    {
     "name": "stdout",
     "output_type": "stream",
     "text": [
      "[Epoch 88]\n",
      "precision@10:0.2380\n",
      "precision@30:0.1503\n",
      "precision@50:0.1179\n",
      "ndcg@10:0.2144\n",
      "ndcg@30:0.1836\n",
      "ndcg@50:0.1723\n",
      "ndcg@all:0.4286\n"
     ]
    },
    {
     "data": {
      "application/vnd.jupyter.widget-view+json": {
       "model_id": "9bfc49013f51474fada7189e0c915d47",
       "version_major": 2,
       "version_minor": 0
      },
      "text/plain": [
       "Training:   0%|          | 0/235 [00:00<?, ?it/s]"
      ]
     },
     "metadata": {},
     "output_type": "display_data"
    },
    {
     "name": "stdout",
     "output_type": "stream",
     "text": [
      "[Epoch 89]\n",
      "precision@10:0.2407\n",
      "precision@30:0.1513\n",
      "precision@50:0.1196\n",
      "ndcg@10:0.2158\n",
      "ndcg@30:0.1844\n",
      "ndcg@50:0.1736\n",
      "ndcg@all:0.4307\n"
     ]
    },
    {
     "data": {
      "application/vnd.jupyter.widget-view+json": {
       "model_id": "f167ff4399f14daabb6a1f4f0bd2b13b",
       "version_major": 2,
       "version_minor": 0
      },
      "text/plain": [
       "Training:   0%|          | 0/235 [00:00<?, ?it/s]"
      ]
     },
     "metadata": {},
     "output_type": "display_data"
    },
    {
     "name": "stdout",
     "output_type": "stream",
     "text": [
      "[Epoch 90]\n",
      "precision@10:0.2348\n",
      "precision@30:0.1477\n",
      "precision@50:0.1164\n",
      "ndcg@10:0.2136\n",
      "ndcg@30:0.1824\n",
      "ndcg@50:0.1716\n",
      "ndcg@all:0.4266\n"
     ]
    },
    {
     "data": {
      "application/vnd.jupyter.widget-view+json": {
       "model_id": "33d22e23dc2f443ca250cb90d8710358",
       "version_major": 2,
       "version_minor": 0
      },
      "text/plain": [
       "Training:   0%|          | 0/235 [00:00<?, ?it/s]"
      ]
     },
     "metadata": {},
     "output_type": "display_data"
    },
    {
     "name": "stdout",
     "output_type": "stream",
     "text": [
      "[Epoch 91]\n",
      "precision@10:0.2371\n",
      "precision@30:0.1498\n",
      "precision@50:0.1181\n",
      "ndcg@10:0.2142\n",
      "ndcg@30:0.1835\n",
      "ndcg@50:0.1728\n",
      "ndcg@all:0.4295\n"
     ]
    },
    {
     "data": {
      "application/vnd.jupyter.widget-view+json": {
       "model_id": "ac2fd013fdec4627b1cd0fdd9302317c",
       "version_major": 2,
       "version_minor": 0
      },
      "text/plain": [
       "Training:   0%|          | 0/235 [00:00<?, ?it/s]"
      ]
     },
     "metadata": {},
     "output_type": "display_data"
    },
    {
     "name": "stdout",
     "output_type": "stream",
     "text": [
      "[Epoch 92]\n",
      "precision@10:0.2360\n",
      "precision@30:0.1481\n",
      "precision@50:0.1159\n",
      "ndcg@10:0.2135\n",
      "ndcg@30:0.1823\n",
      "ndcg@50:0.1710\n",
      "ndcg@all:0.4251\n"
     ]
    },
    {
     "data": {
      "application/vnd.jupyter.widget-view+json": {
       "model_id": "d1d07a92c16a4fd29e0583a6fe7ca79d",
       "version_major": 2,
       "version_minor": 0
      },
      "text/plain": [
       "Training:   0%|          | 0/235 [00:00<?, ?it/s]"
      ]
     },
     "metadata": {},
     "output_type": "display_data"
    },
    {
     "name": "stdout",
     "output_type": "stream",
     "text": [
      "[Epoch 93]\n",
      "precision@10:0.2403\n",
      "precision@30:0.1514\n",
      "precision@50:0.1195\n",
      "ndcg@10:0.2161\n",
      "ndcg@30:0.1850\n",
      "ndcg@50:0.1743\n",
      "ndcg@all:0.4306\n"
     ]
    },
    {
     "data": {
      "application/vnd.jupyter.widget-view+json": {
       "model_id": "501f901ca6a740f7b80f31ee557bd6c2",
       "version_major": 2,
       "version_minor": 0
      },
      "text/plain": [
       "Training:   0%|          | 0/235 [00:00<?, ?it/s]"
      ]
     },
     "metadata": {},
     "output_type": "display_data"
    },
    {
     "name": "stdout",
     "output_type": "stream",
     "text": [
      "[Epoch 94]\n",
      "precision@10:0.2383\n",
      "precision@30:0.1499\n",
      "precision@50:0.1182\n",
      "ndcg@10:0.2151\n",
      "ndcg@30:0.1837\n",
      "ndcg@50:0.1728\n",
      "ndcg@all:0.4290\n"
     ]
    },
    {
     "data": {
      "application/vnd.jupyter.widget-view+json": {
       "model_id": "355297606e6f4f7d9889e4c3b82dfde7",
       "version_major": 2,
       "version_minor": 0
      },
      "text/plain": [
       "Training:   0%|          | 0/235 [00:00<?, ?it/s]"
      ]
     },
     "metadata": {},
     "output_type": "display_data"
    },
    {
     "name": "stdout",
     "output_type": "stream",
     "text": [
      "[Epoch 95]\n",
      "precision@10:0.2399\n",
      "precision@30:0.1509\n",
      "precision@50:0.1192\n",
      "ndcg@10:0.2164\n",
      "ndcg@30:0.1849\n",
      "ndcg@50:0.1740\n",
      "ndcg@all:0.4309\n"
     ]
    },
    {
     "data": {
      "application/vnd.jupyter.widget-view+json": {
       "model_id": "246d4a04f5e445f9a8bc93c1213171f6",
       "version_major": 2,
       "version_minor": 0
      },
      "text/plain": [
       "Training:   0%|          | 0/235 [00:00<?, ?it/s]"
      ]
     },
     "metadata": {},
     "output_type": "display_data"
    },
    {
     "name": "stdout",
     "output_type": "stream",
     "text": [
      "[Epoch 96]\n",
      "precision@10:0.2402\n",
      "precision@30:0.1517\n",
      "precision@50:0.1193\n",
      "ndcg@10:0.2167\n",
      "ndcg@30:0.1856\n",
      "ndcg@50:0.1743\n",
      "ndcg@all:0.4301\n"
     ]
    },
    {
     "data": {
      "application/vnd.jupyter.widget-view+json": {
       "model_id": "60a2957592724054b29cb1a5f604d7b8",
       "version_major": 2,
       "version_minor": 0
      },
      "text/plain": [
       "Training:   0%|          | 0/235 [00:00<?, ?it/s]"
      ]
     },
     "metadata": {},
     "output_type": "display_data"
    },
    {
     "name": "stdout",
     "output_type": "stream",
     "text": [
      "[Epoch 97]\n",
      "precision@10:0.2418\n",
      "precision@30:0.1523\n",
      "precision@50:0.1201\n",
      "ndcg@10:0.2172\n",
      "ndcg@30:0.1855\n",
      "ndcg@50:0.1746\n",
      "ndcg@all:0.4302\n"
     ]
    },
    {
     "data": {
      "application/vnd.jupyter.widget-view+json": {
       "model_id": "ef2ec7d69c124c0d969b3b489112ec62",
       "version_major": 2,
       "version_minor": 0
      },
      "text/plain": [
       "Training:   0%|          | 0/235 [00:00<?, ?it/s]"
      ]
     },
     "metadata": {},
     "output_type": "display_data"
    },
    {
     "name": "stdout",
     "output_type": "stream",
     "text": [
      "[Epoch 98]\n",
      "precision@10:0.2393\n",
      "precision@30:0.1513\n",
      "precision@50:0.1185\n",
      "ndcg@10:0.2164\n",
      "ndcg@30:0.1854\n",
      "ndcg@50:0.1741\n",
      "ndcg@all:0.4289\n"
     ]
    },
    {
     "data": {
      "application/vnd.jupyter.widget-view+json": {
       "model_id": "55b45fbd6d104cce85c132e9bf01042b",
       "version_major": 2,
       "version_minor": 0
      },
      "text/plain": [
       "Training:   0%|          | 0/235 [00:00<?, ?it/s]"
      ]
     },
     "metadata": {},
     "output_type": "display_data"
    },
    {
     "name": "stdout",
     "output_type": "stream",
     "text": [
      "[Epoch 99]\n",
      "precision@10:0.2383\n",
      "precision@30:0.1498\n",
      "precision@50:0.1178\n",
      "ndcg@10:0.2156\n",
      "ndcg@30:0.1843\n",
      "ndcg@50:0.1732\n",
      "ndcg@all:0.4286\n"
     ]
    },
    {
     "data": {
      "application/vnd.jupyter.widget-view+json": {
       "model_id": "d528864c1c1847ba941aa56aeff839a6",
       "version_major": 2,
       "version_minor": 0
      },
      "text/plain": [
       "Training:   0%|          | 0/235 [00:00<?, ?it/s]"
      ]
     },
     "metadata": {},
     "output_type": "display_data"
    },
    {
     "name": "stdout",
     "output_type": "stream",
     "text": [
      "[Epoch 100]\n",
      "precision@10:0.2422\n",
      "precision@30:0.1530\n",
      "precision@50:0.1208\n",
      "ndcg@10:0.2178\n",
      "ndcg@30:0.1863\n",
      "ndcg@50:0.1755\n",
      "ndcg@all:0.4320\n"
     ]
    }
   ],
   "source": [
    "# early stop settings \n",
    "stop_rounds = 300\n",
    "no_improvement = 0\n",
    "best_score = None \n",
    "\n",
    "\n",
    "for epoch in range(100):\n",
    "    # Training\n",
    "    decodernet.train()\n",
    "    train_loss = []\n",
    "    for batch in tqdm(train_loader, desc=\"Training\"):\n",
    "        batch = [i.to(device) for i in batch]\n",
    "        doc_embs, target, _, _ = batch\n",
    "        prior_mean, prior_variance, posterior_mean, posterior_variance,\\\n",
    "            posterior_log_variance, word_dists,_ = decodernet(target,doc_embs)\n",
    "        kl_loss, rl_loss = model._loss(target,word_dists, prior_mean, prior_variance,\n",
    "                        posterior_mean, posterior_variance, posterior_log_variance)\n",
    "        loss = 1e-3*kl_loss + rl_loss\n",
    "        loss = loss.sum()\n",
    "        loss.backward()\n",
    "        optimizer.step()\n",
    "        optimizer.zero_grad()\n",
    "        train_loss.append(loss.item())\n",
    "\n",
    "    print(f\"[Epoch {epoch+1:02d}]\")\n",
    "    res = evaluate_Decoder(decodernet, valid_loader)\n",
    "    for key,val in res.items():\n",
    "        print(f\"{key}:{val:.4f}\")\n",
    "        \n",
    "     # early stopping \n",
    "    current_score = res[\"precision@10\"]\n",
    "    if best_score == None:\n",
    "        best_score = current_score\n",
    "        continue\n",
    "    if current_score < best_score:\n",
    "        no_improvement += 1\n",
    "    if no_improvement >= stop_rounds:\n",
    "        print(\"Early stopping...\")\n",
    "        break \n",
    "    if current_score > best_score:\n",
    "        no_improvement = 0\n",
    "        best_score = current_score"
   ]
  },
  {
   "cell_type": "code",
   "execution_count": null,
   "id": "af8cdcaf",
   "metadata": {},
   "outputs": [],
   "source": [
    "print(\"Testing...\")\n",
    "res = evaluate_Decoder(decoder, test_loader)\n",
    "for key,val in res.items():\n",
    "    print(f\"{key}:{val:.4f}\")"
   ]
  },
  {
   "cell_type": "code",
   "execution_count": null,
   "id": "e36774b9",
   "metadata": {},
   "outputs": [],
   "source": []
  }
 ],
 "metadata": {
  "kernelspec": {
   "display_name": "gnn",
   "language": "python",
   "name": "gnn"
  },
  "language_info": {
   "codemirror_mode": {
    "name": "ipython",
    "version": 3
   },
   "file_extension": ".py",
   "mimetype": "text/x-python",
   "name": "python",
   "nbconvert_exporter": "python",
   "pygments_lexer": "ipython3",
   "version": "3.8.10"
  }
 },
 "nbformat": 4,
 "nbformat_minor": 5
}
