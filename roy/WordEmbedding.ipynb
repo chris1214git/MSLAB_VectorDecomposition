{
 "cells": [
  {
   "cell_type": "code",
   "execution_count": 1,
   "id": "2535e46c",
   "metadata": {},
   "outputs": [],
   "source": [
    "import os\n",
    "import argparse\n",
    "import sys\n",
    "from gensim.models import Word2Vec\n",
    "import re\n",
    "\n",
    "import numpy as np\n",
    "import torch\n",
    "import torch.nn as nn\n",
    "import torch.nn.functional as F\n",
    "from pytorch_lightning import seed_everything\n",
    "from torch.utils.data import DataLoader, TensorDataset, random_split, Dataset\n",
    "from tqdm.auto import tqdm\n",
    "from sklearn.feature_extraction.text import TfidfVectorizer\n",
    "from collections import defaultdict\n",
    "\n",
    "sys.path.append(\"../\")\n",
    "\n",
    "from utils.data_processing import get_process_data\n",
    "from utils.data_loader import load_document\n",
    "from utils.loss import ListNet\n",
    "from utils.eval import retrieval_normalized_dcg_all, retrieval_precision_all\n",
    "\n",
    "# fix random seed\n",
    "def same_seeds(seed):\n",
    "    torch.manual_seed(seed)\n",
    "    if torch.cuda.is_available():\n",
    "        torch.cuda.manual_seed(seed)\n",
    "        torch.cuda.manual_seed_all(seed)\n",
    "    np.random.seed(seed)\n",
    "    torch.backends.cudnn.benchmark = False\n",
    "    torch.backends.cudnn.deterministic = True\n",
    "\n",
    "def get_freer_gpu():\n",
    "    os.system('nvidia-smi -q -d Memory |grep -A4 GPU|grep Free > tmp')\n",
    "    memory_available = [int(x.split()[2]) for x in open('tmp', 'r').readlines()]\n",
    "    return int(np.argmax(memory_available))"
   ]
  },
  {
   "cell_type": "code",
   "execution_count": 2,
   "id": "d59e08fa",
   "metadata": {},
   "outputs": [],
   "source": [
    "device = f\"cuda:{get_freer_gpu()}\"\n",
    "config = {\n",
    "    \"topk\":[10,30,50]\n",
    "}"
   ]
  },
  {
   "cell_type": "code",
   "execution_count": 3,
   "id": "21f5be75",
   "metadata": {},
   "outputs": [
    {
     "name": "stderr",
     "output_type": "stream",
     "text": [
      "Global seed set to 123\n"
     ]
    },
    {
     "data": {
      "text/plain": [
       "123"
      ]
     },
     "execution_count": 3,
     "metadata": {},
     "output_type": "execute_result"
    }
   ],
   "source": [
    "seed = 123\n",
    "seed_everything(123)"
   ]
  },
  {
   "cell_type": "code",
   "execution_count": 4,
   "id": "4872bd03",
   "metadata": {},
   "outputs": [
    {
     "name": "stderr",
     "output_type": "stream",
     "text": [
      "Reusing dataset imdb (/dhome/roytsai/.cache/huggingface/datasets/imdb/plain_text/1.0.0/e3c66f1788a67a89c7058d97ff62b6c30531e05b549de56d3ab91891f0561f9a)\n"
     ]
    }
   ],
   "source": [
    "dataset = \"IMDB\"\n",
    "docvec = np.load(\"../data/docvec_IMDB_SBERT_768d.npy\")\n",
    "dim = 768\n",
    "raw_documents = load_document(dataset)[\"documents\"]"
   ]
  },
  {
   "cell_type": "code",
   "execution_count": 5,
   "id": "25cdc4be",
   "metadata": {},
   "outputs": [],
   "source": [
    "# get TF-IDF score\n",
    "vectorizer = TfidfVectorizer(min_df=10,stop_words=\"english\")\n",
    "importance_score = vectorizer.fit_transform(raw_documents).todense()"
   ]
  },
  {
   "cell_type": "code",
   "execution_count": 6,
   "id": "a9a16aeb",
   "metadata": {},
   "outputs": [
    {
     "name": "stdout",
     "output_type": "stream",
     "text": [
      "Vocab size:25768\n"
     ]
    }
   ],
   "source": [
    "vocab_size = len(vectorizer.vocabulary_)\n",
    "print(f\"Vocab size:{vocab_size}\")"
   ]
  },
  {
   "cell_type": "code",
   "execution_count": 8,
   "id": "c80140c5",
   "metadata": {},
   "outputs": [],
   "source": [
    "# # using word2vec as pretrained word embedding\n",
    "# PATTERN = r\"(?u)\\b\\w\\w+\\b\"\n",
    "# documents = [re.findall(PATTERN, i.lower()) for i in raw_documents]\n",
    "# model = Word2Vec(sentences=documents, vector_size=512, window=5, min_count=10, workers=4,epochs=10)\n",
    "\n",
    "# # get embedding\n",
    "# valid_words = set(vocabulary) & set(model.wv.index_to_key)\n",
    "# assert len(valid_words) == len(vocabulary)\n",
    "# pretrain_wordembedding = np.array([model.wv[w] for w in valid_words]).T"
   ]
  },
  {
   "cell_type": "code",
   "execution_count": 9,
   "id": "c18d8189",
   "metadata": {},
   "outputs": [],
   "source": [
    "class IDEDataset(Dataset):\n",
    "    def __init__(self, \n",
    "                 doc_vectors,\n",
    "                 weight_ans):\n",
    "        \n",
    "        assert len(doc_vectors) == len(weight_ans)\n",
    "\n",
    "        self.doc_vectors = torch.FloatTensor(doc_vectors)\n",
    "        self.weight_ans = torch.FloatTensor(weight_ans)        \n",
    "        self.weight_ans_s = torch.argsort(self.weight_ans, dim=1, descending=True)\n",
    "        self.topk = torch.sum(self.weight_ans > 0, dim=1)\n",
    "        \n",
    "    def __getitem__(self, idx):\n",
    "        return self.doc_vectors[idx], self.weight_ans[idx], self.weight_ans_s[idx], self.topk[idx]\n",
    "\n",
    "    def __len__(self):\n",
    "        return len(self.doc_vectors)"
   ]
  },
  {
   "cell_type": "code",
   "execution_count": 10,
   "id": "9ac519a1",
   "metadata": {},
   "outputs": [],
   "source": [
    "dataset = IDEDataset(docvec, importance_score)\n",
    "train_length = int(len(dataset)*0.6)\n",
    "valid_length = int(len(dataset)*0.2)\n",
    "test_length = len(dataset) - train_length - valid_length\n",
    "\n",
    "full_loader = DataLoader(dataset, batch_size=128)\n",
    "train_dataset, valid_dataset, test_dataset = random_split(\n",
    "    dataset, lengths=[train_length, valid_length,test_length],\n",
    "    generator=torch.Generator().manual_seed(42)\n",
    "    )"
   ]
  },
  {
   "cell_type": "code",
   "execution_count": 12,
   "id": "004022ee",
   "metadata": {},
   "outputs": [],
   "source": [
    "train_loader = DataLoader(\n",
    "    train_dataset, batch_size=128, \n",
    "    shuffle=True, pin_memory=True,\n",
    ")\n",
    "valid_loader = DataLoader(\n",
    "    valid_dataset, batch_size=128, shuffle=False, pin_memory=True,drop_last=True)\n",
    "test_loader = DataLoader(\n",
    "    test_dataset, batch_size=128, shuffle=False)"
   ]
  },
  {
   "cell_type": "code",
   "execution_count": 13,
   "id": "f1e866b3",
   "metadata": {},
   "outputs": [],
   "source": [
    "class Decoder(nn.Module):\n",
    "    def __init__(self, input_dim, hidden_dim, output_dim):\n",
    "        super().__init__()\n",
    "        self.word_embedding = nn.Parameter(torch.randn(hidden_dim, output_dim))\n",
    "        self.transform = nn.Sequential(\n",
    "            nn.Linear(input_dim,hidden_dim),\n",
    "            nn.BatchNorm1d(hidden_dim),\n",
    "            nn.Sigmoid(),\n",
    "            nn.Linear(hidden_dim,hidden_dim),\n",
    "            nn.BatchNorm1d(hidden_dim),\n",
    "            nn.Sigmoid(),\n",
    "        )\n",
    "    def forward(self, x):\n",
    "        docvec = self.transform(x)\n",
    "        decoded = torch.sigmoid(torch.matmul(docvec,self.word_embedding))\n",
    "        return decoded\n",
    "    \n",
    "    def load_pretrianed(self,word_embedding):\n",
    "        self.word_embedding = nn.Parameter(torch.FloatTensor(word_embedding))"
   ]
  },
  {
   "cell_type": "code",
   "execution_count": 14,
   "id": "7265d75a",
   "metadata": {},
   "outputs": [],
   "source": [
    "def evaluate_Decoder(model, data_loader):\n",
    "    results = defaultdict(list)\n",
    "    model.eval()\n",
    "        \n",
    "    # predict all data\n",
    "    for data in data_loader:\n",
    "        doc_embs, target, _, _ = data\n",
    "        \n",
    "        doc_embs = doc_embs.to(device)\n",
    "        target = target.to(device)\n",
    "                \n",
    "        pred = model(doc_embs)\n",
    "    \n",
    "        # Precision\n",
    "        precision_scores = retrieval_precision_all(pred, target, k=config[\"topk\"])\n",
    "        for k, v in precision_scores.items():\n",
    "            results['precision@{}'.format(k)].append(v)\n",
    "        \n",
    "        # NDCG\n",
    "        ndcg_scores = retrieval_normalized_dcg_all(pred, target, k=config[\"topk\"])\n",
    "        for k, v in ndcg_scores.items():\n",
    "            results['ndcg@{}'.format(k)].append(v)\n",
    "        \n",
    "    for k in results:\n",
    "        results[k] = np.mean(results[k])\n",
    "\n",
    "    return results"
   ]
  },
  {
   "cell_type": "code",
   "execution_count": 15,
   "id": "ed2689c3",
   "metadata": {},
   "outputs": [],
   "source": [
    "decoder = Decoder(input_dim=dim,hidden_dim=1024,output_dim=vocab_size)\n",
    "optimizer = torch.optim.Adam(decoder.parameters(), lr = 1e-4)\n",
    "# initialize parameters\n",
    "for p in decoder.parameters():\n",
    "    if p.dim() > 1:\n",
    "        nn.init.xavier_uniform_(p)\n",
    "# decoder.load_pretrianed(pretrain_wordembedding)\n",
    "decoder = decoder.to(device)"
   ]
  },
  {
   "cell_type": "code",
   "execution_count": 16,
   "id": "c50ed74e",
   "metadata": {},
   "outputs": [],
   "source": [
    "def Mse_loss(pred,target):\n",
    "    mse_loss = F.mse_loss(decoded,target,reduction=\"none\")\n",
    "    mask = target > 0\n",
    "    loss = (mse_loss * mask).sum()\n",
    "    return loss"
   ]
  },
  {
   "cell_type": "code",
   "execution_count": 17,
   "id": "69387b28",
   "metadata": {
    "scrolled": true
   },
   "outputs": [
    {
     "data": {
      "application/vnd.jupyter.widget-view+json": {
       "model_id": "88a05af41a66411b8076f9177989ee92",
       "version_major": 2,
       "version_minor": 0
      },
      "text/plain": [
       "Training:   0%|          | 0/235 [00:00<?, ?it/s]"
      ]
     },
     "metadata": {},
     "output_type": "display_data"
    },
    {
     "name": "stdout",
     "output_type": "stream",
     "text": [
      "[Epoch 01]\n",
      "precision@10:0.3936\n",
      "precision@30:0.2754\n",
      "precision@50:0.2267\n",
      "ndcg@10:0.1663\n",
      "ndcg@30:0.1459\n",
      "ndcg@50:0.1431\n",
      "ndcg@all:0.4361\n"
     ]
    },
    {
     "data": {
      "application/vnd.jupyter.widget-view+json": {
       "model_id": "c3c7b84fabb240dc9904fa629a871305",
       "version_major": 2,
       "version_minor": 0
      },
      "text/plain": [
       "Training:   0%|          | 0/235 [00:00<?, ?it/s]"
      ]
     },
     "metadata": {},
     "output_type": "display_data"
    },
    {
     "name": "stdout",
     "output_type": "stream",
     "text": [
      "[Epoch 02]\n",
      "precision@10:0.4227\n",
      "precision@30:0.2800\n",
      "precision@50:0.2285\n",
      "ndcg@10:0.1777\n",
      "ndcg@30:0.1527\n",
      "ndcg@50:0.1484\n",
      "ndcg@all:0.4475\n"
     ]
    },
    {
     "data": {
      "application/vnd.jupyter.widget-view+json": {
       "model_id": "90f03921493e4e1bb64b36e046493bc6",
       "version_major": 2,
       "version_minor": 0
      },
      "text/plain": [
       "Training:   0%|          | 0/235 [00:00<?, ?it/s]"
      ]
     },
     "metadata": {},
     "output_type": "display_data"
    },
    {
     "name": "stdout",
     "output_type": "stream",
     "text": [
      "[Epoch 03]\n",
      "precision@10:0.4189\n",
      "precision@30:0.3037\n",
      "precision@50:0.2524\n",
      "ndcg@10:0.1801\n",
      "ndcg@30:0.1683\n",
      "ndcg@50:0.1682\n",
      "ndcg@all:0.4590\n"
     ]
    },
    {
     "data": {
      "application/vnd.jupyter.widget-view+json": {
       "model_id": "86fc2fc459dc49e08b95920055d31bca",
       "version_major": 2,
       "version_minor": 0
      },
      "text/plain": [
       "Training:   0%|          | 0/235 [00:00<?, ?it/s]"
      ]
     },
     "metadata": {},
     "output_type": "display_data"
    },
    {
     "name": "stdout",
     "output_type": "stream",
     "text": [
      "[Epoch 04]\n",
      "precision@10:0.4643\n",
      "precision@30:0.3240\n",
      "precision@50:0.2642\n",
      "ndcg@10:0.2071\n",
      "ndcg@30:0.1893\n",
      "ndcg@50:0.1861\n",
      "ndcg@all:0.4714\n"
     ]
    },
    {
     "data": {
      "application/vnd.jupyter.widget-view+json": {
       "model_id": "a2fa504e9d084b829898185edf606691",
       "version_major": 2,
       "version_minor": 0
      },
      "text/plain": [
       "Training:   0%|          | 0/235 [00:00<?, ?it/s]"
      ]
     },
     "metadata": {},
     "output_type": "display_data"
    },
    {
     "name": "stdout",
     "output_type": "stream",
     "text": [
      "[Epoch 05]\n",
      "precision@10:0.4753\n",
      "precision@30:0.3329\n",
      "precision@50:0.2704\n",
      "ndcg@10:0.2238\n",
      "ndcg@30:0.2040\n",
      "ndcg@50:0.2001\n",
      "ndcg@all:0.4814\n"
     ]
    },
    {
     "data": {
      "application/vnd.jupyter.widget-view+json": {
       "model_id": "6c58d073e57d47939f115efbc9187489",
       "version_major": 2,
       "version_minor": 0
      },
      "text/plain": [
       "Training:   0%|          | 0/235 [00:00<?, ?it/s]"
      ]
     },
     "metadata": {},
     "output_type": "display_data"
    },
    {
     "name": "stdout",
     "output_type": "stream",
     "text": [
      "[Epoch 06]\n",
      "precision@10:0.4832\n",
      "precision@30:0.3391\n",
      "precision@50:0.2757\n",
      "ndcg@10:0.2462\n",
      "ndcg@30:0.2222\n",
      "ndcg@50:0.2166\n",
      "ndcg@all:0.4939\n"
     ]
    },
    {
     "data": {
      "application/vnd.jupyter.widget-view+json": {
       "model_id": "91cf98b1e6ae4c20a403f5eb0a28714d",
       "version_major": 2,
       "version_minor": 0
      },
      "text/plain": [
       "Training:   0%|          | 0/235 [00:00<?, ?it/s]"
      ]
     },
     "metadata": {},
     "output_type": "display_data"
    },
    {
     "name": "stdout",
     "output_type": "stream",
     "text": [
      "[Epoch 07]\n",
      "precision@10:0.4969\n",
      "precision@30:0.3448\n",
      "precision@50:0.2802\n",
      "ndcg@10:0.2628\n",
      "ndcg@30:0.2349\n",
      "ndcg@50:0.2283\n",
      "ndcg@all:0.5023\n"
     ]
    },
    {
     "data": {
      "application/vnd.jupyter.widget-view+json": {
       "model_id": "ee733f26a3e84fe59c4d30ed9d66dee1",
       "version_major": 2,
       "version_minor": 0
      },
      "text/plain": [
       "Training:   0%|          | 0/235 [00:00<?, ?it/s]"
      ]
     },
     "metadata": {},
     "output_type": "display_data"
    },
    {
     "name": "stdout",
     "output_type": "stream",
     "text": [
      "[Epoch 08]\n",
      "precision@10:0.5065\n",
      "precision@30:0.3502\n",
      "precision@50:0.2847\n",
      "ndcg@10:0.2768\n",
      "ndcg@30:0.2462\n",
      "ndcg@50:0.2387\n",
      "ndcg@all:0.5097\n"
     ]
    },
    {
     "data": {
      "application/vnd.jupyter.widget-view+json": {
       "model_id": "cac30d0964fd401199d77490db8b46c6",
       "version_major": 2,
       "version_minor": 0
      },
      "text/plain": [
       "Training:   0%|          | 0/235 [00:00<?, ?it/s]"
      ]
     },
     "metadata": {},
     "output_type": "display_data"
    },
    {
     "name": "stdout",
     "output_type": "stream",
     "text": [
      "[Epoch 09]\n",
      "precision@10:0.5148\n",
      "precision@30:0.3576\n",
      "precision@50:0.2894\n",
      "ndcg@10:0.3004\n",
      "ndcg@30:0.2644\n",
      "ndcg@50:0.2548\n",
      "ndcg@all:0.5225\n"
     ]
    },
    {
     "data": {
      "application/vnd.jupyter.widget-view+json": {
       "model_id": "3e9a91ef06394e48a8d10da65b960eb2",
       "version_major": 2,
       "version_minor": 0
      },
      "text/plain": [
       "Training:   0%|          | 0/235 [00:00<?, ?it/s]"
      ]
     },
     "metadata": {},
     "output_type": "display_data"
    },
    {
     "name": "stdout",
     "output_type": "stream",
     "text": [
      "[Epoch 10]\n",
      "precision@10:0.5231\n",
      "precision@30:0.3616\n",
      "precision@50:0.2926\n",
      "ndcg@10:0.3198\n",
      "ndcg@30:0.2790\n",
      "ndcg@50:0.2679\n",
      "ndcg@all:0.5320\n"
     ]
    },
    {
     "data": {
      "application/vnd.jupyter.widget-view+json": {
       "model_id": "dab445b7ddba4302983e90169f5f58af",
       "version_major": 2,
       "version_minor": 0
      },
      "text/plain": [
       "Training:   0%|          | 0/235 [00:00<?, ?it/s]"
      ]
     },
     "metadata": {},
     "output_type": "display_data"
    },
    {
     "name": "stdout",
     "output_type": "stream",
     "text": [
      "[Epoch 11]\n",
      "precision@10:0.5318\n",
      "precision@30:0.3669\n",
      "precision@50:0.2970\n",
      "ndcg@10:0.3359\n",
      "ndcg@30:0.2911\n",
      "ndcg@50:0.2789\n",
      "ndcg@all:0.5401\n"
     ]
    },
    {
     "data": {
      "application/vnd.jupyter.widget-view+json": {
       "model_id": "dd47c5ad49bc44c68a7662a25ac47918",
       "version_major": 2,
       "version_minor": 0
      },
      "text/plain": [
       "Training:   0%|          | 0/235 [00:00<?, ?it/s]"
      ]
     },
     "metadata": {},
     "output_type": "display_data"
    },
    {
     "name": "stdout",
     "output_type": "stream",
     "text": [
      "[Epoch 12]\n",
      "precision@10:0.5391\n",
      "precision@30:0.3696\n",
      "precision@50:0.2983\n",
      "ndcg@10:0.3505\n",
      "ndcg@30:0.3027\n",
      "ndcg@50:0.2892\n",
      "ndcg@all:0.5474\n"
     ]
    },
    {
     "data": {
      "application/vnd.jupyter.widget-view+json": {
       "model_id": "4835f9294121467aa27ad5622b9b7a5b",
       "version_major": 2,
       "version_minor": 0
      },
      "text/plain": [
       "Training:   0%|          | 0/235 [00:00<?, ?it/s]"
      ]
     },
     "metadata": {},
     "output_type": "display_data"
    },
    {
     "name": "stdout",
     "output_type": "stream",
     "text": [
      "[Epoch 13]\n",
      "precision@10:0.5446\n",
      "precision@30:0.3737\n",
      "precision@50:0.3015\n",
      "ndcg@10:0.3672\n",
      "ndcg@30:0.3150\n",
      "ndcg@50:0.3001\n",
      "ndcg@all:0.5554\n"
     ]
    },
    {
     "data": {
      "application/vnd.jupyter.widget-view+json": {
       "model_id": "92b54a8e97b646998689fa72d70fb689",
       "version_major": 2,
       "version_minor": 0
      },
      "text/plain": [
       "Training:   0%|          | 0/235 [00:00<?, ?it/s]"
      ]
     },
     "metadata": {},
     "output_type": "display_data"
    },
    {
     "name": "stdout",
     "output_type": "stream",
     "text": [
      "[Epoch 14]\n",
      "precision@10:0.5540\n",
      "precision@30:0.3766\n",
      "precision@50:0.3030\n",
      "ndcg@10:0.3759\n",
      "ndcg@30:0.3219\n",
      "ndcg@50:0.3058\n",
      "ndcg@all:0.5599\n"
     ]
    },
    {
     "data": {
      "application/vnd.jupyter.widget-view+json": {
       "model_id": "0d011b8366944628a6364aaa236a7480",
       "version_major": 2,
       "version_minor": 0
      },
      "text/plain": [
       "Training:   0%|          | 0/235 [00:00<?, ?it/s]"
      ]
     },
     "metadata": {},
     "output_type": "display_data"
    },
    {
     "name": "stdout",
     "output_type": "stream",
     "text": [
      "[Epoch 15]\n",
      "precision@10:0.5594\n",
      "precision@30:0.3789\n",
      "precision@50:0.3051\n",
      "ndcg@10:0.3894\n",
      "ndcg@30:0.3313\n",
      "ndcg@50:0.3141\n",
      "ndcg@all:0.5660\n"
     ]
    },
    {
     "data": {
      "application/vnd.jupyter.widget-view+json": {
       "model_id": "d70dfa5e60ea4bef86c42494ae53fc79",
       "version_major": 2,
       "version_minor": 0
      },
      "text/plain": [
       "Training:   0%|          | 0/235 [00:00<?, ?it/s]"
      ]
     },
     "metadata": {},
     "output_type": "display_data"
    },
    {
     "name": "stdout",
     "output_type": "stream",
     "text": [
      "[Epoch 16]\n",
      "precision@10:0.5618\n",
      "precision@30:0.3810\n",
      "precision@50:0.3068\n",
      "ndcg@10:0.3974\n",
      "ndcg@30:0.3374\n",
      "ndcg@50:0.3195\n",
      "ndcg@all:0.5700\n"
     ]
    },
    {
     "data": {
      "application/vnd.jupyter.widget-view+json": {
       "model_id": "ae6bc942548a40cd8743466e7a837806",
       "version_major": 2,
       "version_minor": 0
      },
      "text/plain": [
       "Training:   0%|          | 0/235 [00:00<?, ?it/s]"
      ]
     },
     "metadata": {},
     "output_type": "display_data"
    },
    {
     "name": "stdout",
     "output_type": "stream",
     "text": [
      "[Epoch 17]\n",
      "precision@10:0.5653\n",
      "precision@30:0.3834\n",
      "precision@50:0.3078\n",
      "ndcg@10:0.4059\n",
      "ndcg@30:0.3438\n",
      "ndcg@50:0.3250\n",
      "ndcg@all:0.5740\n"
     ]
    },
    {
     "data": {
      "application/vnd.jupyter.widget-view+json": {
       "model_id": "5baa862c2a0a4dfcaa919e3f56646a0f",
       "version_major": 2,
       "version_minor": 0
      },
      "text/plain": [
       "Training:   0%|          | 0/235 [00:00<?, ?it/s]"
      ]
     },
     "metadata": {},
     "output_type": "display_data"
    },
    {
     "name": "stdout",
     "output_type": "stream",
     "text": [
      "[Epoch 18]\n",
      "precision@10:0.5680\n",
      "precision@30:0.3853\n",
      "precision@50:0.3098\n",
      "ndcg@10:0.4115\n",
      "ndcg@30:0.3478\n",
      "ndcg@50:0.3288\n",
      "ndcg@all:0.5769\n"
     ]
    },
    {
     "data": {
      "application/vnd.jupyter.widget-view+json": {
       "model_id": "31b2185ab83944f7bd3a1f7b578c8e90",
       "version_major": 2,
       "version_minor": 0
      },
      "text/plain": [
       "Training:   0%|          | 0/235 [00:00<?, ?it/s]"
      ]
     },
     "metadata": {},
     "output_type": "display_data"
    },
    {
     "name": "stdout",
     "output_type": "stream",
     "text": [
      "[Epoch 19]\n",
      "precision@10:0.5763\n",
      "precision@30:0.3889\n",
      "precision@50:0.3121\n",
      "ndcg@10:0.4176\n",
      "ndcg@30:0.3525\n",
      "ndcg@50:0.3330\n",
      "ndcg@all:0.5799\n"
     ]
    },
    {
     "data": {
      "application/vnd.jupyter.widget-view+json": {
       "model_id": "f485ee754eed42f0a5cff05d530e2e7b",
       "version_major": 2,
       "version_minor": 0
      },
      "text/plain": [
       "Training:   0%|          | 0/235 [00:00<?, ?it/s]"
      ]
     },
     "metadata": {},
     "output_type": "display_data"
    },
    {
     "name": "stdout",
     "output_type": "stream",
     "text": [
      "[Epoch 20]\n",
      "precision@10:0.5776\n",
      "precision@30:0.3904\n",
      "precision@50:0.3127\n",
      "ndcg@10:0.4230\n",
      "ndcg@30:0.3569\n",
      "ndcg@50:0.3368\n",
      "ndcg@all:0.5827\n"
     ]
    },
    {
     "data": {
      "application/vnd.jupyter.widget-view+json": {
       "model_id": "f377a8aa27b346f5852da7af33db44fe",
       "version_major": 2,
       "version_minor": 0
      },
      "text/plain": [
       "Training:   0%|          | 0/235 [00:00<?, ?it/s]"
      ]
     },
     "metadata": {},
     "output_type": "display_data"
    },
    {
     "name": "stdout",
     "output_type": "stream",
     "text": [
      "[Epoch 21]\n",
      "precision@10:0.5832\n",
      "precision@30:0.3915\n",
      "precision@50:0.3126\n",
      "ndcg@10:0.4288\n",
      "ndcg@30:0.3611\n",
      "ndcg@50:0.3402\n",
      "ndcg@all:0.5852\n"
     ]
    },
    {
     "data": {
      "application/vnd.jupyter.widget-view+json": {
       "model_id": "2549e08f30804301a53a5fb161304c98",
       "version_major": 2,
       "version_minor": 0
      },
      "text/plain": [
       "Training:   0%|          | 0/235 [00:00<?, ?it/s]"
      ]
     },
     "metadata": {},
     "output_type": "display_data"
    },
    {
     "name": "stdout",
     "output_type": "stream",
     "text": [
      "[Epoch 22]\n",
      "precision@10:0.5820\n",
      "precision@30:0.3936\n",
      "precision@50:0.3152\n",
      "ndcg@10:0.4302\n",
      "ndcg@30:0.3627\n",
      "ndcg@50:0.3419\n",
      "ndcg@all:0.5862\n"
     ]
    },
    {
     "data": {
      "application/vnd.jupyter.widget-view+json": {
       "model_id": "f29e78b1e02c4fbcaf35ee7917189c00",
       "version_major": 2,
       "version_minor": 0
      },
      "text/plain": [
       "Training:   0%|          | 0/235 [00:00<?, ?it/s]"
      ]
     },
     "metadata": {},
     "output_type": "display_data"
    },
    {
     "name": "stdout",
     "output_type": "stream",
     "text": [
      "[Epoch 23]\n",
      "precision@10:0.5840\n",
      "precision@30:0.3933\n",
      "precision@50:0.3151\n",
      "ndcg@10:0.4361\n",
      "ndcg@30:0.3666\n",
      "ndcg@50:0.3456\n",
      "ndcg@all:0.5889\n"
     ]
    },
    {
     "data": {
      "application/vnd.jupyter.widget-view+json": {
       "model_id": "492341cd923648c5933eea039c280465",
       "version_major": 2,
       "version_minor": 0
      },
      "text/plain": [
       "Training:   0%|          | 0/235 [00:00<?, ?it/s]"
      ]
     },
     "metadata": {},
     "output_type": "display_data"
    },
    {
     "name": "stdout",
     "output_type": "stream",
     "text": [
      "[Epoch 24]\n",
      "precision@10:0.5861\n",
      "precision@30:0.3940\n",
      "precision@50:0.3153\n",
      "ndcg@10:0.4374\n",
      "ndcg@30:0.3678\n",
      "ndcg@50:0.3466\n",
      "ndcg@all:0.5896\n"
     ]
    },
    {
     "data": {
      "application/vnd.jupyter.widget-view+json": {
       "model_id": "00c6046313164d848e2fdf50e1c6e80e",
       "version_major": 2,
       "version_minor": 0
      },
      "text/plain": [
       "Training:   0%|          | 0/235 [00:00<?, ?it/s]"
      ]
     },
     "metadata": {},
     "output_type": "display_data"
    },
    {
     "name": "stdout",
     "output_type": "stream",
     "text": [
      "[Epoch 25]\n",
      "precision@10:0.5876\n",
      "precision@30:0.3929\n",
      "precision@50:0.3140\n",
      "ndcg@10:0.4419\n",
      "ndcg@30:0.3709\n",
      "ndcg@50:0.3491\n",
      "ndcg@all:0.5918\n"
     ]
    },
    {
     "data": {
      "application/vnd.jupyter.widget-view+json": {
       "model_id": "a17992b90a634d328be9890f0810f5e3",
       "version_major": 2,
       "version_minor": 0
      },
      "text/plain": [
       "Training:   0%|          | 0/235 [00:00<?, ?it/s]"
      ]
     },
     "metadata": {},
     "output_type": "display_data"
    },
    {
     "name": "stdout",
     "output_type": "stream",
     "text": [
      "[Epoch 26]\n",
      "precision@10:0.5904\n",
      "precision@30:0.3959\n",
      "precision@50:0.3169\n",
      "ndcg@10:0.4422\n",
      "ndcg@30:0.3711\n",
      "ndcg@50:0.3496\n",
      "ndcg@all:0.5920\n"
     ]
    },
    {
     "data": {
      "application/vnd.jupyter.widget-view+json": {
       "model_id": "30efa53aa4144070a6bbd1c66e08f414",
       "version_major": 2,
       "version_minor": 0
      },
      "text/plain": [
       "Training:   0%|          | 0/235 [00:00<?, ?it/s]"
      ]
     },
     "metadata": {},
     "output_type": "display_data"
    },
    {
     "name": "stdout",
     "output_type": "stream",
     "text": [
      "[Epoch 27]\n",
      "precision@10:0.5898\n",
      "precision@30:0.3959\n",
      "precision@50:0.3168\n",
      "ndcg@10:0.4456\n",
      "ndcg@30:0.3738\n",
      "ndcg@50:0.3520\n",
      "ndcg@all:0.5936\n"
     ]
    },
    {
     "data": {
      "application/vnd.jupyter.widget-view+json": {
       "model_id": "b4656302fcbc44e7bc01ab5e1160656a",
       "version_major": 2,
       "version_minor": 0
      },
      "text/plain": [
       "Training:   0%|          | 0/235 [00:00<?, ?it/s]"
      ]
     },
     "metadata": {},
     "output_type": "display_data"
    },
    {
     "name": "stdout",
     "output_type": "stream",
     "text": [
      "[Epoch 28]\n",
      "precision@10:0.5925\n",
      "precision@30:0.3972\n",
      "precision@50:0.3167\n",
      "ndcg@10:0.4473\n",
      "ndcg@30:0.3755\n",
      "ndcg@50:0.3533\n",
      "ndcg@all:0.5946\n"
     ]
    },
    {
     "data": {
      "application/vnd.jupyter.widget-view+json": {
       "model_id": "c1e453ff97714f219e43d6363c62e033",
       "version_major": 2,
       "version_minor": 0
      },
      "text/plain": [
       "Training:   0%|          | 0/235 [00:00<?, ?it/s]"
      ]
     },
     "metadata": {},
     "output_type": "display_data"
    },
    {
     "name": "stdout",
     "output_type": "stream",
     "text": [
      "[Epoch 29]\n",
      "precision@10:0.5904\n",
      "precision@30:0.3957\n",
      "precision@50:0.3164\n",
      "ndcg@10:0.4500\n",
      "ndcg@30:0.3772\n",
      "ndcg@50:0.3549\n",
      "ndcg@all:0.5957\n"
     ]
    },
    {
     "data": {
      "application/vnd.jupyter.widget-view+json": {
       "model_id": "a53fcfc247834ab4a8bd75546f046ac9",
       "version_major": 2,
       "version_minor": 0
      },
      "text/plain": [
       "Training:   0%|          | 0/235 [00:00<?, ?it/s]"
      ]
     },
     "metadata": {},
     "output_type": "display_data"
    },
    {
     "name": "stdout",
     "output_type": "stream",
     "text": [
      "[Epoch 30]\n",
      "precision@10:0.5926\n",
      "precision@30:0.3962\n",
      "precision@50:0.3166\n",
      "ndcg@10:0.4504\n",
      "ndcg@30:0.3773\n",
      "ndcg@50:0.3549\n",
      "ndcg@all:0.5959\n"
     ]
    },
    {
     "data": {
      "application/vnd.jupyter.widget-view+json": {
       "model_id": "e232342bb4144448b9afde01e27d8f87",
       "version_major": 2,
       "version_minor": 0
      },
      "text/plain": [
       "Training:   0%|          | 0/235 [00:00<?, ?it/s]"
      ]
     },
     "metadata": {},
     "output_type": "display_data"
    },
    {
     "name": "stdout",
     "output_type": "stream",
     "text": [
      "[Epoch 31]\n",
      "precision@10:0.5945\n",
      "precision@30:0.3978\n",
      "precision@50:0.3179\n",
      "ndcg@10:0.4522\n",
      "ndcg@30:0.3790\n",
      "ndcg@50:0.3569\n",
      "ndcg@all:0.5968\n"
     ]
    },
    {
     "data": {
      "application/vnd.jupyter.widget-view+json": {
       "model_id": "6b87f7aacc5840138c40fe9091c4ebff",
       "version_major": 2,
       "version_minor": 0
      },
      "text/plain": [
       "Training:   0%|          | 0/235 [00:00<?, ?it/s]"
      ]
     },
     "metadata": {},
     "output_type": "display_data"
    },
    {
     "name": "stdout",
     "output_type": "stream",
     "text": [
      "[Epoch 32]\n",
      "precision@10:0.5988\n",
      "precision@30:0.3999\n",
      "precision@50:0.3180\n",
      "ndcg@10:0.4522\n",
      "ndcg@30:0.3794\n",
      "ndcg@50:0.3567\n",
      "ndcg@all:0.5969\n"
     ]
    },
    {
     "data": {
      "application/vnd.jupyter.widget-view+json": {
       "model_id": "20d7d67270b441f291f3bbe92c3a4e15",
       "version_major": 2,
       "version_minor": 0
      },
      "text/plain": [
       "Training:   0%|          | 0/235 [00:00<?, ?it/s]"
      ]
     },
     "metadata": {},
     "output_type": "display_data"
    },
    {
     "name": "stdout",
     "output_type": "stream",
     "text": [
      "[Epoch 33]\n",
      "precision@10:0.5946\n",
      "precision@30:0.3979\n",
      "precision@50:0.3179\n",
      "ndcg@10:0.4533\n",
      "ndcg@30:0.3802\n",
      "ndcg@50:0.3576\n",
      "ndcg@all:0.5975\n"
     ]
    },
    {
     "data": {
      "application/vnd.jupyter.widget-view+json": {
       "model_id": "aa764bb21c4f484fbd9daf379fe94493",
       "version_major": 2,
       "version_minor": 0
      },
      "text/plain": [
       "Training:   0%|          | 0/235 [00:00<?, ?it/s]"
      ]
     },
     "metadata": {},
     "output_type": "display_data"
    },
    {
     "name": "stdout",
     "output_type": "stream",
     "text": [
      "[Epoch 34]\n",
      "precision@10:0.5958\n",
      "precision@30:0.3984\n",
      "precision@50:0.3178\n",
      "ndcg@10:0.4516\n",
      "ndcg@30:0.3785\n",
      "ndcg@50:0.3560\n",
      "ndcg@all:0.5966\n"
     ]
    },
    {
     "data": {
      "application/vnd.jupyter.widget-view+json": {
       "model_id": "34d09ad2447c4a2caea2ba2be8f9f881",
       "version_major": 2,
       "version_minor": 0
      },
      "text/plain": [
       "Training:   0%|          | 0/235 [00:00<?, ?it/s]"
      ]
     },
     "metadata": {},
     "output_type": "display_data"
    },
    {
     "name": "stdout",
     "output_type": "stream",
     "text": [
      "[Epoch 35]\n",
      "precision@10:0.5972\n",
      "precision@30:0.3974\n",
      "precision@50:0.3168\n",
      "ndcg@10:0.4546\n",
      "ndcg@30:0.3812\n",
      "ndcg@50:0.3585\n",
      "ndcg@all:0.5980\n",
      "Early stopping...\n"
     ]
    }
   ],
   "source": [
    "# early stop settings \n",
    "stop_rounds = 3\n",
    "no_improvement = 0\n",
    "best_score = None \n",
    "\n",
    "\n",
    "for epoch in range(100):\n",
    "    # Training\n",
    "    decoder.train()\n",
    "    train_loss = []\n",
    "    for batch in tqdm(train_loader, desc=\"Training\"):\n",
    "        batch = [i.to(device) for i in batch]\n",
    "        doc_embs, target, _, _ = batch\n",
    "        target = torch.nn.functional.normalize(target.to(device), dim=1)\n",
    "        decoded = torch.nn.functional.normalize(decoder(doc_embs), dim=1)\n",
    "        loss = ListNet(decoded, target)\n",
    "        loss.backward()\n",
    "        optimizer.step()\n",
    "        optimizer.zero_grad()\n",
    "        train_loss.append(loss.item())\n",
    "\n",
    "    print(f\"[Epoch {epoch+1:02d}]\")\n",
    "    res = evaluate_Decoder(decoder, valid_loader)\n",
    "    for key,val in res.items():\n",
    "        print(f\"{key}:{val:.4f}\")\n",
    "        \n",
    "     # early stopping \n",
    "    current_score = res[\"precision@10\"]\n",
    "    if best_score == None:\n",
    "        best_score = current_score\n",
    "        continue\n",
    "    if current_score < best_score:\n",
    "        no_improvement += 1\n",
    "    if no_improvement >= stop_rounds:\n",
    "        print(\"Early stopping...\")\n",
    "        break \n",
    "    if current_score > best_score:\n",
    "        no_improvement = 0\n",
    "        best_score = current_score"
   ]
  },
  {
   "cell_type": "code",
   "execution_count": 18,
   "id": "af8cdcaf",
   "metadata": {},
   "outputs": [
    {
     "name": "stdout",
     "output_type": "stream",
     "text": [
      "Testing...\n",
      "precision@10:0.5960\n",
      "precision@30:0.3988\n",
      "precision@50:0.3179\n",
      "ndcg@10:0.4521\n",
      "ndcg@30:0.3801\n",
      "ndcg@50:0.3576\n",
      "ndcg@all:0.5981\n"
     ]
    }
   ],
   "source": [
    "print(\"Testing...\")\n",
    "res = evaluate_Decoder(decoder, test_loader)\n",
    "for key,val in res.items():\n",
    "    print(f\"{key}:{val:.4f}\")"
   ]
  }
 ],
 "metadata": {
  "kernelspec": {
   "display_name": "gnn",
   "language": "python",
   "name": "gnn"
  },
  "language_info": {
   "codemirror_mode": {
    "name": "ipython",
    "version": 3
   },
   "file_extension": ".py",
   "mimetype": "text/x-python",
   "name": "python",
   "nbconvert_exporter": "python",
   "pygments_lexer": "ipython3",
   "version": "3.8.10"
  }
 },
 "nbformat": 4,
 "nbformat_minor": 5
}
