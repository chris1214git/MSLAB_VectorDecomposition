{
 "cells": [
  {
   "cell_type": "code",
   "execution_count": 1,
   "id": "0e00f1cc",
   "metadata": {},
   "outputs": [],
   "source": [
    "import os\n",
    "import sys\n",
    "import numpy as np\n",
    "import argparse\n",
    "from collections import defaultdict\n",
    "\n",
    "sys.path.append(\"../\")\n",
    "\n",
    "import torch\n",
    "from torch.utils.data import random_split\n",
    "from sklearn.neighbors import KNeighborsRegressor\n",
    "from sklearn.model_selection import train_test_split\n",
    "from utils.eval import retrieval_normalized_dcg_all, retrieval_precision_all, semantic_precision_all, retrieval_precision_all_v2, semantic_precision_all_v2\n",
    "from utils.toolbox import same_seeds, show_settings, record_settings, get_preprocess_document, get_preprocess_document_embs, get_preprocess_document_labels, get_word_embs, merge_targets\n",
    "from load_pretrain_label import load_preprocess_document_labels\n",
    "torch.set_num_threads(8)"
   ]
  },
  {
   "cell_type": "code",
   "execution_count": 2,
   "id": "ab164275",
   "metadata": {},
   "outputs": [],
   "source": [
    "def knn_evaluate(config, model, vocabulary, word_embeddings, X_test, y_test):\n",
    "    results = defaultdict(list)\n",
    "        \n",
    "    # predict all data\n",
    "    if config['target'] == 'yake':\n",
    "        pred = torch.abs(torch.Tensor(model.predict(X_test)))\n",
    "        y = torch.abs(torch.Tensor(y_test))\n",
    "    else:\n",
    "        pred = torch.Tensor(model.predict(X_test))\n",
    "        y = torch.Tensor(y_test)\n",
    "    # Semantic Prcision\n",
    "    precision_scores, word_result = semantic_precision_all(pred, y, word_embeddings, vocabulary, k=config['topk'], th=config['threshold'])\n",
    "    for k, v in precision_scores.items():\n",
    "        results['Semantic Precision v1@{}'.format(k)].append(v)\n",
    "    precision_scores, word_result = semantic_precision_all_v2(pred, y, word_embeddings, vocabulary, k=config['topk'], th=config['threshold'])\n",
    "    for k, v in precision_scores.items():\n",
    "        results['Semantic Precision_v2@{}'.format(k)].append(v)\n",
    "\n",
    "    # Precision\n",
    "    precision_scores = retrieval_precision_all(pred, y, k=config[\"topk\"])\n",
    "    for k, v in precision_scores.items():\n",
    "        results['precision v1@{}'.format(k)].append(v)\n",
    "    precision_scores = retrieval_precision_all_v2(pred, y, k=config[\"topk\"])\n",
    "    for k, v in precision_scores.items():\n",
    "        results['precision v2@{}'.format(k)].append(v)\n",
    "    \n",
    "    # NDCG\n",
    "    ndcg_scores = retrieval_normalized_dcg_all(pred, y, k=config[\"topk\"])\n",
    "    for k, v in ndcg_scores.items():\n",
    "        results['ndcg@{}'.format(k)].append(v)\n",
    "        \n",
    "    for k in results:\n",
    "        results[k] = np.mean(results[k])\n",
    "\n",
    "    return results\n",
    "\n",
    "def mean_evaluate(config, preds, labels, vocabulary, word_embeddings):\n",
    "    results = defaultdict(list)\n",
    "        \n",
    "    # predict all data\n",
    "    if config['target'] == 'yake':\n",
    "        pred = torch.abs(torch.Tensor(preds))\n",
    "        y = torch.abs(torch.Tensor(labels))\n",
    "    else:\n",
    "        pred = torch.Tensor(preds)\n",
    "        y = torch.Tensor(labels)\n",
    "    # Semantic Prcision\n",
    "    precision_scores, word_result = semantic_precision_all(pred, y, word_embeddings, vocabulary, k=config['topk'], th=config['threshold'])\n",
    "    for k, v in precision_scores.items():\n",
    "        results['Semantic Precision v1@{}'.format(k)].append(v)\n",
    "    precision_scores, word_result = semantic_precision_all_v2(pred, y, word_embeddings, vocabulary, k=config['topk'], th=config['threshold'])\n",
    "    for k, v in precision_scores.items():\n",
    "        results['Semantic Precision_v2@{}'.format(k)].append(v)\n",
    "\n",
    "    # Precision\n",
    "    precision_scores = retrieval_precision_all(pred, y, k=config[\"topk\"])\n",
    "    for k, v in precision_scores.items():\n",
    "        results['precision v1@{}'.format(k)].append(v)\n",
    "    precision_scores = retrieval_precision_all_v2(pred, y, k=config[\"topk\"])\n",
    "    for k, v in precision_scores.items():\n",
    "        results['precision v2@{}'.format(k)].append(v)\n",
    "    \n",
    "    # NDCG\n",
    "    ndcg_scores = retrieval_normalized_dcg_all(pred, y, k=config[\"topk\"])\n",
    "    for k, v in ndcg_scores.items():\n",
    "        results['ndcg@{}'.format(k)].append(v)\n",
    "        \n",
    "    for k in results:\n",
    "        results[k] = np.mean(results[k])\n",
    "\n",
    "    return results"
   ]
  },
  {
   "cell_type": "markdown",
   "id": "3f46cbb2",
   "metadata": {},
   "source": [
    "# Single Dataset"
   ]
  },
  {
   "cell_type": "code",
   "execution_count": 3,
   "id": "e56dc46d",
   "metadata": {},
   "outputs": [],
   "source": [
    "config = {\n",
    "    'model': 'mean',\n",
    "    'dataset': '20news',\n",
    "    'use_pos': True,\n",
    "    'min_df': 1,\n",
    "    'max_df:': 1.0,\n",
    "    'vocab_size': 0,\n",
    "    'min_doc_word': 15,\n",
    "    'encoder': 'mpnet',\n",
    "    'target': 'yake',\n",
    "    'seed': 123,\n",
    "    'ratio': 0.8,\n",
    "    'topk': [5, 10, 15],\n",
    "    'threshold': 0.5,\n",
    "    'n_neighbors': 20\n",
    "}\n",
    "same_seeds(config[\"seed\"])"
   ]
  },
  {
   "cell_type": "code",
   "execution_count": 4,
   "id": "ac9a1af1",
   "metadata": {},
   "outputs": [],
   "source": [
    "# Parameter\n",
    "if config['dataset'] == '20news':\n",
    "    config['min_df'], config['max_df'], config['min_doc_word'] = 62, 1.0, 15\n",
    "elif config['dataset'] == 'agnews':\n",
    "    config['min_df'], config['max_df'], config['min_doc_word'] = 425, 1.0, 15\n",
    "elif config['dataset'] == 'IMDB':\n",
    "    config['min_df'], config['max_df'], config['min_doc_word'] = 166, 1.0, 15\n",
    "elif config['dataset'] == 'wiki':\n",
    "    config['min_df'], config['max_df'], config['min_doc_word'] = 2872, 1.0, 15\n",
    "elif config['dataset'] == 'tweet':\n",
    "    config['min_df'], config['max_df'], config['min_doc_word'] = 5, 1.0, 15"
   ]
  },
  {
   "cell_type": "code",
   "execution_count": 5,
   "id": "d9d55494",
   "metadata": {},
   "outputs": [
    {
     "name": "stdout",
     "output_type": "stream",
     "text": [
      "Getting preprocess documents: 20news\n",
      "min_df: 62 max_df: 1.0 vocabulary_size: None min_doc_word: 15\n"
     ]
    },
    {
     "name": "stderr",
     "output_type": "stream",
     "text": [
      "/dhome/casimir0304/miniconda3/envs/ML/lib/python3.9/site-packages/sklearn/utils/deprecation.py:87: FutureWarning: Function get_feature_names is deprecated; get_feature_names is deprecated in 1.0 and will be removed in 1.2. Please use get_feature_names_out instead.\n",
      "  warnings.warn(msg, category=FutureWarning)\n"
     ]
    }
   ],
   "source": [
    "# data preprocessing\n",
    "unpreprocessed_corpus ,preprocessed_corpus = get_preprocess_document(**config)\n",
    "texts = [text.split() for text in preprocessed_corpus]"
   ]
  },
  {
   "cell_type": "code",
   "execution_count": 5,
   "id": "d8e171eb",
   "metadata": {},
   "outputs": [
    {
     "name": "stdout",
     "output_type": "stream",
     "text": [
      "Load preprocess documents labels\n"
     ]
    }
   ],
   "source": [
    "# Decode target & Vocabulary\n",
    "if config['target'] == 'keybert' or config['target'] == 'yake':\n",
    "    labels, vocabularys= load_preprocess_document_labels(config)\n",
    "    label = labels[config['target']].toarray()\n",
    "else:\n",
    "    labels, vocabularys= get_preprocess_document_labels(preprocessed_corpus)\n",
    "    label = labels[config['target']]\n",
    "    vocabularys = vocabularys[config['target']]"
   ]
  },
  {
   "cell_type": "code",
   "execution_count": 13,
   "id": "629ffca1",
   "metadata": {},
   "outputs": [
    {
     "name": "stdout",
     "output_type": "stream",
     "text": [
      "(18589, 4823)\n"
     ]
    }
   ],
   "source": [
    "print(label.shape)"
   ]
  },
  {
   "cell_type": "code",
   "execution_count": 17,
   "id": "1b92a870",
   "metadata": {},
   "outputs": [],
   "source": [
    "for id in range(label.shape[0]):\n",
    "    for wid in range(label.shape[1]):\n",
    "        if label[id][wid] < 0:\n",
    "            print(label[id][wid])"
   ]
  },
  {
   "cell_type": "code",
   "execution_count": 7,
   "id": "519c2d7a",
   "metadata": {},
   "outputs": [
    {
     "name": "stdout",
     "output_type": "stream",
     "text": [
      "Getting preprocess documents embeddings\n",
      "Using cuda 0 for training...\n"
     ]
    },
    {
     "data": {
      "application/vnd.jupyter.widget-view+json": {
       "model_id": "fa1d66a53bd940e7be015d5e7df882a5",
       "version_major": 2,
       "version_minor": 0
      },
      "text/plain": [
       "Batches:   0%|          | 0/1162 [00:00<?, ?it/s]"
      ]
     },
     "metadata": {},
     "output_type": "display_data"
    }
   ],
   "source": [
    "# generating document embedding\n",
    "doc_embs, doc_model, device = get_preprocess_document_embs(preprocessed_corpus, config['encoder'])"
   ]
  },
  {
   "cell_type": "code",
   "execution_count": 8,
   "id": "a22759dd",
   "metadata": {},
   "outputs": [
    {
     "data": {
      "application/vnd.jupyter.widget-view+json": {
       "model_id": "99b1542b47d240c0839fc365f2aefe7e",
       "version_major": 2,
       "version_minor": 0
      },
      "text/plain": [
       "0it [00:00, ?it/s]"
      ]
     },
     "metadata": {},
     "output_type": "display_data"
    },
    {
     "name": "stdout",
     "output_type": "stream",
     "text": [
      "Number of words:400000\n",
      "Getting [tensor] word embeddings\n"
     ]
    },
    {
     "name": "stderr",
     "output_type": "stream",
     "text": [
      "/data1/IDE/casimir0304/MSLAB_VectorDecomposition/casimir/../utils/toolbox.py:430: UserWarning: Creating a tensor from a list of numpy.ndarrays is extremely slow. Please consider converting the list to a single numpy.ndarray with numpy.array() before converting to a tensor. (Triggered internally at  /opt/conda/conda-bld/pytorch_1640811803361/work/torch/csrc/utils/tensor_new.cpp:201.)\n",
      "  word_embs = torch.Tensor(word_embs)\n"
     ]
    }
   ],
   "source": [
    "# word embedding preparation\n",
    "word_embeddings = get_word_embs(vocabularys, data_type='tensor')"
   ]
  },
  {
   "cell_type": "code",
   "execution_count": 9,
   "id": "a6c721b9",
   "metadata": {},
   "outputs": [
    {
     "name": "stdout",
     "output_type": "stream",
     "text": [
      "-------- Info ---------\n",
      "model: mean\n",
      "dataset: 20news\n",
      "use_pos: True\n",
      "min_df: 62\n",
      "max_df:: 1.0\n",
      "vocab_size: 4823\n",
      "min_doc_word: 15\n",
      "encoder: mpnet\n",
      "target: yake\n",
      "seed: 123\n",
      "ratio: 0.8\n",
      "topk: [5, 10, 15]\n",
      "threshold: 0.5\n",
      "n_neighbors: 20\n",
      "max_df: 1.0\n",
      "\n",
      "-----------------------\n"
     ]
    }
   ],
   "source": [
    "# show setting\n",
    "config['vocab_size'] = len(vocabularys)\n",
    "show_settings(config)"
   ]
  },
  {
   "cell_type": "markdown",
   "id": "e4b3749e",
   "metadata": {},
   "source": [
    "## KNN baseline"
   ]
  },
  {
   "cell_type": "code",
   "execution_count": 10,
   "id": "c5fe416f",
   "metadata": {},
   "outputs": [],
   "source": [
    "import pandas as pd"
   ]
  },
  {
   "cell_type": "code",
   "execution_count": 11,
   "id": "e9a050b6",
   "metadata": {},
   "outputs": [
    {
     "data": {
      "text/plain": [
       "KNeighborsRegressor(n_neighbors=20)"
      ]
     },
     "execution_count": 11,
     "metadata": {},
     "output_type": "execute_result"
    }
   ],
   "source": [
    "X_train, X_test, y_train, y_test = train_test_split(doc_embs, label, test_size=0.2, random_state=config[\"seed\"])\n",
    "model = KNeighborsRegressor(n_neighbors=config[\"n_neighbors\"])\n",
    "model.fit(X_train, y_train)"
   ]
  },
  {
   "cell_type": "code",
   "execution_count": 12,
   "id": "e4319963",
   "metadata": {},
   "outputs": [
    {
     "name": "stdout",
     "output_type": "stream",
     "text": [
      "Semantic Precision v1@5:0.8704\n",
      "Semantic Precision v1@10:0.7486\n",
      "Semantic Precision v1@15:0.6640\n",
      "Semantic Precision_v2@5:0.1666\n",
      "Semantic Precision_v2@10:0.2750\n",
      "Semantic Precision_v2@15:0.3328\n",
      "precision v1@5:0.8257\n",
      "precision v1@10:0.6710\n",
      "precision v1@15:0.5726\n",
      "precision v2@5:0.1377\n",
      "precision v2@10:0.2241\n",
      "precision v2@15:0.2683\n",
      "ndcg@5:0.8247\n",
      "ndcg@10:0.7192\n",
      "ndcg@15:0.6476\n",
      "ndcg@all:0.7439\n"
     ]
    }
   ],
   "source": [
    "res = knn_evaluate(config, model, vocabularys, word_embeddings, X_test, y_test)\n",
    "for key,val in res.items():\n",
    "    print(f\"{key}:{val:.4f}\")"
   ]
  },
  {
   "cell_type": "code",
   "execution_count": 19,
   "id": "8b6a77d8",
   "metadata": {},
   "outputs": [
    {
     "name": "stdout",
     "output_type": "stream",
     "text": [
      "0.8704142011834319\n"
     ]
    }
   ],
   "source": [
    "print(res['Semantic Precision v1@5'])"
   ]
  },
  {
   "cell_type": "code",
   "execution_count": 32,
   "id": "6bb65442",
   "metadata": {},
   "outputs": [
    {
     "name": "stdout",
     "output_type": "stream",
     "text": [
      "   Semantic Precision v1@5  Semantic Precision v1@10  \\\n",
      "0                 0.870414                  0.748628   \n",
      "\n",
      "   Semantic Precision v1@15  Semantic Precision_v2@5  \\\n",
      "0                  0.663995                 0.166595   \n",
      "\n",
      "   Semantic Precision_v2@10  Semantic Precision_v2@15  precision v1@5  \\\n",
      "0                   0.27504                  0.332795        0.825713   \n",
      "\n",
      "   precision v1@10  precision v1@15  precision v2@5  precision v2@10  \\\n",
      "0         0.671033         0.572566        0.137708         0.224072   \n",
      "\n",
      "   precision v2@15    ndcg@5   ndcg@10   ndcg@15  ndcg@all  \n",
      "0         0.268316  0.824674  0.719165  0.647621  0.743946  \n"
     ]
    }
   ],
   "source": [
    "df = pd.DataFrame.from_dict(res, orient='index').T\n",
    "print(df)"
   ]
  },
  {
   "cell_type": "code",
   "execution_count": 38,
   "id": "5957b258",
   "metadata": {},
   "outputs": [],
   "source": [
    "df = pd.concat([df, pd.DataFrame.from_dict(res, orient='index').T], axis=0)"
   ]
  },
  {
   "cell_type": "code",
   "execution_count": 39,
   "id": "7c470569",
   "metadata": {},
   "outputs": [
    {
     "data": {
      "text/html": [
       "<div>\n",
       "<style scoped>\n",
       "    .dataframe tbody tr th:only-of-type {\n",
       "        vertical-align: middle;\n",
       "    }\n",
       "\n",
       "    .dataframe tbody tr th {\n",
       "        vertical-align: top;\n",
       "    }\n",
       "\n",
       "    .dataframe thead th {\n",
       "        text-align: right;\n",
       "    }\n",
       "</style>\n",
       "<table border=\"1\" class=\"dataframe\">\n",
       "  <thead>\n",
       "    <tr style=\"text-align: right;\">\n",
       "      <th></th>\n",
       "      <th>Semantic Precision v1@5</th>\n",
       "      <th>Semantic Precision v1@10</th>\n",
       "      <th>Semantic Precision v1@15</th>\n",
       "      <th>Semantic Precision_v2@5</th>\n",
       "      <th>Semantic Precision_v2@10</th>\n",
       "      <th>Semantic Precision_v2@15</th>\n",
       "      <th>precision v1@5</th>\n",
       "      <th>precision v1@10</th>\n",
       "      <th>precision v1@15</th>\n",
       "      <th>precision v2@5</th>\n",
       "      <th>precision v2@10</th>\n",
       "      <th>precision v2@15</th>\n",
       "      <th>ndcg@5</th>\n",
       "      <th>ndcg@10</th>\n",
       "      <th>ndcg@15</th>\n",
       "      <th>ndcg@all</th>\n",
       "    </tr>\n",
       "  </thead>\n",
       "  <tbody>\n",
       "    <tr>\n",
       "      <th>0</th>\n",
       "      <td>0.870414</td>\n",
       "      <td>0.748628</td>\n",
       "      <td>0.663995</td>\n",
       "      <td>0.166595</td>\n",
       "      <td>0.27504</td>\n",
       "      <td>0.332795</td>\n",
       "      <td>0.825713</td>\n",
       "      <td>0.671033</td>\n",
       "      <td>0.572566</td>\n",
       "      <td>0.137708</td>\n",
       "      <td>0.224072</td>\n",
       "      <td>0.268316</td>\n",
       "      <td>0.824674</td>\n",
       "      <td>0.719165</td>\n",
       "      <td>0.647621</td>\n",
       "      <td>0.743946</td>\n",
       "    </tr>\n",
       "    <tr>\n",
       "      <th>0</th>\n",
       "      <td>0.870414</td>\n",
       "      <td>0.748628</td>\n",
       "      <td>0.663995</td>\n",
       "      <td>0.166595</td>\n",
       "      <td>0.27504</td>\n",
       "      <td>0.332795</td>\n",
       "      <td>0.825713</td>\n",
       "      <td>0.671033</td>\n",
       "      <td>0.572566</td>\n",
       "      <td>0.137708</td>\n",
       "      <td>0.224072</td>\n",
       "      <td>0.268316</td>\n",
       "      <td>0.824674</td>\n",
       "      <td>0.719165</td>\n",
       "      <td>0.647621</td>\n",
       "      <td>0.743946</td>\n",
       "    </tr>\n",
       "    <tr>\n",
       "      <th>0</th>\n",
       "      <td>0.870414</td>\n",
       "      <td>0.748628</td>\n",
       "      <td>0.663995</td>\n",
       "      <td>0.166595</td>\n",
       "      <td>0.27504</td>\n",
       "      <td>0.332795</td>\n",
       "      <td>0.825713</td>\n",
       "      <td>0.671033</td>\n",
       "      <td>0.572566</td>\n",
       "      <td>0.137708</td>\n",
       "      <td>0.224072</td>\n",
       "      <td>0.268316</td>\n",
       "      <td>0.824674</td>\n",
       "      <td>0.719165</td>\n",
       "      <td>0.647621</td>\n",
       "      <td>0.743946</td>\n",
       "    </tr>\n",
       "  </tbody>\n",
       "</table>\n",
       "</div>"
      ],
      "text/plain": [
       "   Semantic Precision v1@5  Semantic Precision v1@10  \\\n",
       "0                 0.870414                  0.748628   \n",
       "0                 0.870414                  0.748628   \n",
       "0                 0.870414                  0.748628   \n",
       "\n",
       "   Semantic Precision v1@15  Semantic Precision_v2@5  \\\n",
       "0                  0.663995                 0.166595   \n",
       "0                  0.663995                 0.166595   \n",
       "0                  0.663995                 0.166595   \n",
       "\n",
       "   Semantic Precision_v2@10  Semantic Precision_v2@15  precision v1@5  \\\n",
       "0                   0.27504                  0.332795        0.825713   \n",
       "0                   0.27504                  0.332795        0.825713   \n",
       "0                   0.27504                  0.332795        0.825713   \n",
       "\n",
       "   precision v1@10  precision v1@15  precision v2@5  precision v2@10  \\\n",
       "0         0.671033         0.572566        0.137708         0.224072   \n",
       "0         0.671033         0.572566        0.137708         0.224072   \n",
       "0         0.671033         0.572566        0.137708         0.224072   \n",
       "\n",
       "   precision v2@15    ndcg@5   ndcg@10   ndcg@15  ndcg@all  \n",
       "0         0.268316  0.824674  0.719165  0.647621  0.743946  \n",
       "0         0.268316  0.824674  0.719165  0.647621  0.743946  \n",
       "0         0.268316  0.824674  0.719165  0.647621  0.743946  "
      ]
     },
     "execution_count": 39,
     "metadata": {},
     "output_type": "execute_result"
    }
   ],
   "source": [
    "df"
   ]
  },
  {
   "cell_type": "code",
   "execution_count": 40,
   "id": "1367c397",
   "metadata": {},
   "outputs": [],
   "source": [
    "df.to_csv('./test_dataframe.csv', index=False)"
   ]
  },
  {
   "cell_type": "markdown",
   "id": "3c685797",
   "metadata": {},
   "source": [
    "## Mean baseline"
   ]
  },
  {
   "cell_type": "code",
   "execution_count": 42,
   "id": "7288b5b5",
   "metadata": {},
   "outputs": [],
   "source": [
    "# predic\n",
    "predict = label.mean(axis=0)\n",
    "predict = np.tile(predict, (label.shape[0], 1))"
   ]
  },
  {
   "cell_type": "code",
   "execution_count": 43,
   "id": "8e9acb90",
   "metadata": {},
   "outputs": [
    {
     "name": "stdout",
     "output_type": "stream",
     "text": [
      "Semantic Precision v1@5:0.7103\n",
      "Semantic Precision v1@10:0.6211\n",
      "Semantic Precision v1@15:0.4953\n",
      "Semantic Precision_v2@5:0.0420\n",
      "Semantic Precision_v2@10:0.1556\n",
      "Semantic Precision_v2@15:0.1937\n",
      "precision v1@5:0.6821\n",
      "precision v1@10:0.4914\n",
      "precision v1@15:0.3846\n",
      "precision v2@5:0.0349\n",
      "precision v2@10:0.0937\n",
      "precision v2@15:0.1253\n",
      "ndcg@5:0.7152\n",
      "ndcg@10:0.5735\n",
      "ndcg@15:0.4876\n",
      "ndcg@all:0.6373\n"
     ]
    }
   ],
   "source": [
    "res = mean_evaluate(config, predict, label, vocabularys, word_embeddings)\n",
    "df = pd.DataFrame(res)\n",
    "print(df)\n",
    "#for key,val in res.items():\n",
    "#    print(f\"{key}:{val:.4f}\")"
   ]
  },
  {
   "cell_type": "markdown",
   "id": "c9d15846",
   "metadata": {},
   "source": [
    "# Cross Domain"
   ]
  },
  {
   "cell_type": "code",
   "execution_count": 3,
   "id": "e70123fd",
   "metadata": {},
   "outputs": [],
   "source": [
    "config = {\n",
    "    'model': 'mean',\n",
    "    'dataset': '20news',\n",
    "    'dataset2': 'wiki',\n",
    "    'use_pos': True,\n",
    "    'min_df': 1,\n",
    "    'max_df:': 1.0,\n",
    "    'vocab_size': 0,\n",
    "    'min_doc_word': 15,\n",
    "    'encoder': 'mpnet',\n",
    "    'target': 'tf-idf',\n",
    "    'seed': 123,\n",
    "    'ratio': 0.8,\n",
    "    'topk': [5, 10, 15],\n",
    "    'threshold': 0.5,\n",
    "    'n_neighbors': 20\n",
    "}\n",
    "same_seeds(config[\"seed\"])"
   ]
  },
  {
   "cell_type": "code",
   "execution_count": 4,
   "id": "af538652",
   "metadata": {},
   "outputs": [
    {
     "name": "stdout",
     "output_type": "stream",
     "text": [
      "Getting preprocess documents: 20news\n",
      "min_df: 62 max_df: 1.0 vocabulary_size: None min_doc_word: 15\n"
     ]
    },
    {
     "name": "stderr",
     "output_type": "stream",
     "text": [
      "/dhome/casimir0304/miniconda3/envs/ML/lib/python3.9/site-packages/sklearn/utils/deprecation.py:87: FutureWarning: Function get_feature_names is deprecated; get_feature_names is deprecated in 1.0 and will be removed in 1.2. Please use get_feature_names_out instead.\n",
      "  warnings.warn(msg, category=FutureWarning)\n"
     ]
    },
    {
     "name": "stdout",
     "output_type": "stream",
     "text": [
      "Getting preprocess documents labels\n",
      "Getting preprocess documents embeddings\n",
      "Using cuda 3 for training...\n"
     ]
    },
    {
     "data": {
      "application/vnd.jupyter.widget-view+json": {
       "model_id": "6369b1dffe634a07925fd805cf19546e",
       "version_major": 2,
       "version_minor": 0
      },
      "text/plain": [
       "Batches:   0%|          | 0/1162 [00:00<?, ?it/s]"
      ]
     },
     "metadata": {},
     "output_type": "display_data"
    }
   ],
   "source": [
    "### Dataset\n",
    "# Parameter\n",
    "if config['dataset'] == '20news':\n",
    "    config['min_df'], config['max_df'], config['min_doc_word'] = 62, 1.0, 15\n",
    "elif config['dataset'] == 'agnews':\n",
    "    config['min_df'], config['max_df'], config['min_doc_word'] = 425, 1.0, 15\n",
    "elif config['dataset'] == 'IMDB':\n",
    "    config['min_df'], config['max_df'], config['min_doc_word'] = 166, 1.0, 15\n",
    "elif config['dataset'] == 'wiki':\n",
    "    config['min_df'], config['max_df'], config['min_doc_word'] = 2872, 1.0, 15\n",
    "elif config['dataset'] == 'tweet':\n",
    "    config['min_df'], config['max_df'], config['min_doc_word'] = 5, 1.0, 15\n",
    "\n",
    "# data preprocessing\n",
    "unpreprocessed_corpus ,preprocessed_corpus = get_preprocess_document(**config)\n",
    "\n",
    "# Decode target & Vocabulary\n",
    "if config['target'] == 'keybert' or config['target'] == 'yake':\n",
    "    labels, vocabularys= load_preprocess_document_labels(config)\n",
    "    label = labels[config['target']].toarray()\n",
    "else:\n",
    "    labels, vocabularys= get_preprocess_document_labels(preprocessed_corpus)\n",
    "    label = labels[config['target']]\n",
    "    vocabularys = vocabularys[config['target']]\n",
    "\n",
    "# generating document embedding\n",
    "doc_embs, doc_model, device = get_preprocess_document_embs(preprocessed_corpus, config['encoder'])"
   ]
  },
  {
   "cell_type": "code",
   "execution_count": null,
   "id": "6f16a40a",
   "metadata": {},
   "outputs": [
    {
     "name": "stdout",
     "output_type": "stream",
     "text": [
      "Getting preprocess documents: wiki\n",
      "min_df: 2872 max_df: 1.0 vocabulary_size: None min_doc_word: 15\n"
     ]
    },
    {
     "name": "stderr",
     "output_type": "stream",
     "text": [
      "Reusing dataset wikitext (/dhome/casimir0304/.cache/huggingface/datasets/wikitext/wikitext-103-v1/1.0.0/a241db52902eaf2c6aa732210bead40c090019a499ceb13bcbfa3f8ab646a126)\n"
     ]
    }
   ],
   "source": [
    "### Dataset2\n",
    "# Parameter\n",
    "config['dataset'] = config['dataset2']\n",
    "if config['dataset'] == '20news':\n",
    "    config['min_df'], config['max_df'], config['min_doc_word'] = 62, 1.0, 15\n",
    "elif config['dataset'] == 'agnews':\n",
    "    config['min_df'], config['max_df'], config['min_doc_word'] = 425, 1.0, 15\n",
    "elif config['dataset'] == 'IMDB':\n",
    "    config['min_df'], config['max_df'], config['min_doc_word'] = 166, 1.0, 15\n",
    "elif config['dataset'] == 'wiki':\n",
    "    config['min_df'], config['max_df'], config['min_doc_word'] = 2872, 1.0, 15\n",
    "elif config['dataset'] == 'tweet':\n",
    "    config['min_df'], config['max_df'], config['min_doc_word'] = 5, 1.0, 15\n",
    "\n",
    "# data preprocessing\n",
    "unpreprocessed_corpus2 ,preprocessed_corpus2 = get_preprocess_document(**config)\n",
    "\n",
    "# Decode target & Vocabulary\n",
    "if config['target'] == 'keybert' or config['target'] == 'yake':\n",
    "    labels2, vocabularys2= load_preprocess_document_labels(config)\n",
    "    label2 = labels2[config['target']].toarray()\n",
    "else:\n",
    "    labels2, vocabularys2= get_preprocess_document_labels(preprocessed_corpus2)\n",
    "    label2 = labels2[config['target']]\n",
    "    vocabularys2 = vocabularys2[config['target']]\n",
    "\n",
    "# generating document embedding\n",
    "doc_embs2, doc_model2, device2 = get_preprocess_document_embs(preprocessed_corpus2, config['encoder'])"
   ]
  },
  {
   "cell_type": "code",
   "execution_count": null,
   "id": "2947f427",
   "metadata": {},
   "outputs": [],
   "source": [
    "# merge two dataset\n",
    "targets1, targets2, new_vocabularys = merge_targets(label, label2, vocabularys, vocabularys2)"
   ]
  },
  {
   "cell_type": "code",
   "execution_count": null,
   "id": "3d83730d",
   "metadata": {},
   "outputs": [],
   "source": [
    "# word embedding preparation\n",
    "word_embeddings = get_word_embs(new_vocabularys, data_type='tensor')"
   ]
  },
  {
   "cell_type": "markdown",
   "id": "579447b4",
   "metadata": {},
   "source": [
    "## KNN baseline"
   ]
  },
  {
   "cell_type": "code",
   "execution_count": null,
   "id": "cf65f42a",
   "metadata": {},
   "outputs": [],
   "source": [
    "model = KNeighborsRegressor(n_neighbors=config[\"n_neighbors\"])\n",
    "model.fit(doc_embs, targets1)"
   ]
  },
  {
   "cell_type": "code",
   "execution_count": null,
   "id": "2060c5fc",
   "metadata": {},
   "outputs": [],
   "source": [
    "res = knn_evaluate(config, model, new_vocabularys, word_embeddings, doc_embs2, targets2)\n",
    "for key,val in res.items():\n",
    "    print(f\"{key}:{val:.4f}\")"
   ]
  },
  {
   "cell_type": "markdown",
   "id": "4a34044b",
   "metadata": {},
   "source": [
    "## Mean baseline"
   ]
  },
  {
   "cell_type": "code",
   "execution_count": null,
   "id": "2da92b12",
   "metadata": {},
   "outputs": [],
   "source": [
    "# predic\n",
    "predict = targets1.mean(axis=0)\n",
    "predict = np.tile(predict, (targets2.shape[0], 1))"
   ]
  },
  {
   "cell_type": "code",
   "execution_count": null,
   "id": "66b21439",
   "metadata": {},
   "outputs": [],
   "source": [
    "res = mean_evaluate(config, predict, targets2, new_vocabularys, word_embeddings)\n",
    "for key,val in res.items():\n",
    "    print(f\"{key}:{val:.4f}\")"
   ]
  },
  {
   "cell_type": "code",
   "execution_count": null,
   "id": "14b1b726",
   "metadata": {},
   "outputs": [],
   "source": []
  }
 ],
 "metadata": {
  "kernelspec": {
   "display_name": "Python 3 (ipykernel)",
   "language": "python",
   "name": "python3"
  },
  "language_info": {
   "codemirror_mode": {
    "name": "ipython",
    "version": 3
   },
   "file_extension": ".py",
   "mimetype": "text/x-python",
   "name": "python",
   "nbconvert_exporter": "python",
   "pygments_lexer": "ipython3",
   "version": "3.9.12"
  }
 },
 "nbformat": 4,
 "nbformat_minor": 5
}
