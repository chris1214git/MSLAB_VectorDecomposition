{
 "cells": [
  {
   "cell_type": "code",
   "execution_count": 1,
   "id": "1ba03452",
   "metadata": {},
   "outputs": [
    {
     "name": "stderr",
     "output_type": "stream",
     "text": [
      "/dhome/casimir0304/miniconda3/envs/ML/lib/python3.9/site-packages/gensim/similarities/__init__.py:15: UserWarning: The gensim.similarities.levenshtein submodule is disabled, because the optional Levenshtein package <https://pypi.org/project/python-Levenshtein/> is unavailable. Install Levenhstein (e.g. `pip install python-Levenshtein`) to suppress this warning.\n",
      "  warnings.warn(msg)\n"
     ]
    }
   ],
   "source": [
    "import os\n",
    "import re\n",
    "import sys\n",
    "import argparse\n",
    "import random\n",
    "import numpy as np\n",
    "import torch\n",
    "import torch.nn as nn\n",
    "import torch.nn.functional as F\n",
    "import torch_geometric.transforms as T\n",
    "from torch_cluster import random_walk\n",
    "from torch.utils.data import Dataset, DataLoader, random_split\n",
    "from tqdm.auto import tqdm\n",
    "#from collections import defaultdict\n",
    "\n",
    "sys.path.append(\"../\")\n",
    "from model.graph_sage import GraphSAGE, GraphSAGE_Dataset\n",
    "from utils.loss import ListNet, MythNet\n",
    "from utils.data_processing import get_process_data\n",
    "from utils.data_loader import load_document\n",
    "from utils.eval import retrieval_normalized_dcg_all, retrieval_precision_all\n",
    "from utils.toolbox import get_free_gpu, same_seeds, show_settings, record_settings, get_preprocess_document, get_preprocess_document_embs, get_preprocess_document_labels, get_word_embs, split_data, doc_filter, generate_graph"
   ]
  },
  {
   "cell_type": "code",
   "execution_count": 2,
   "id": "27848792",
   "metadata": {},
   "outputs": [
    {
     "name": "stdout",
     "output_type": "stream",
     "text": [
      "-------- Info ---------\n",
      "model: ZTM\n",
      "dataset: tweet\n",
      "dataset_name: tweet\n",
      "vocabulary_size: 100\n",
      "encoder: roberta\n",
      "target: tf-idf\n",
      "lr: 0.0001\n",
      "optimizer: adam\n",
      "momentum: 0.99\n",
      "seed: 123\n",
      "epochs: 10\n",
      "batch_size: 16\n",
      "ratio: 0.8\n",
      "topk: [5, 10, 15]\n",
      "visualize: True\n",
      "threshold: 0.7\n",
      "\n",
      "-----------------------\n"
     ]
    }
   ],
   "source": [
    "config = {\n",
    "    'model': 'ZTM',\n",
    "    'dataset': 'tweet',\n",
    "    'dataset_name': 'tweet',\n",
    "    'vocabulary_size':100,\n",
    "    'encoder': 'roberta',\n",
    "    'target': 'tf-idf',\n",
    "    'lr': 1e-4,\n",
    "    'optimizer': 'adam',\n",
    "    'momentum': 0.99, \n",
    "    'seed': 123,\n",
    "    'epochs': 10,\n",
    "    'batch_size': 16,\n",
    "    'ratio': 0.8,\n",
    "    'topk': [5, 10, 15],\n",
    "    'visualize': True,\n",
    "    'threshold': 0.7,\n",
    "}\n",
    "\n",
    "show_settings(config)\n",
    "same_seeds(config['seed'])"
   ]
  },
  {
   "cell_type": "code",
   "execution_count": 3,
   "id": "878a1813",
   "metadata": {},
   "outputs": [
    {
     "name": "stdout",
     "output_type": "stream",
     "text": [
      "Getting preprocess documents: tweet\n",
      "min_df: 1 max_df: 1.0 vocabulary_size: 100 min_doc_word: 15\n"
     ]
    },
    {
     "name": "stderr",
     "output_type": "stream",
     "text": [
      "Reusing dataset tweet_eval (/dhome/casimir0304/.cache/huggingface/datasets/tweet_eval/emotion/1.1.0/12aee5282b8784f3e95459466db4cdf45c6bf49719c25cdb0743d71ed0410343)\n",
      "/dhome/casimir0304/miniconda3/envs/ML/lib/python3.9/site-packages/sklearn/utils/deprecation.py:87: FutureWarning: Function get_feature_names is deprecated; get_feature_names is deprecated in 1.0 and will be removed in 1.2. Please use get_feature_names_out instead.\n",
      "  warnings.warn(msg, category=FutureWarning)\n"
     ]
    }
   ],
   "source": [
    "# data preprocessing\n",
    "unpreprocessed_corpus ,preprocessed_corpus = get_preprocess_document(**config)"
   ]
  },
  {
   "cell_type": "code",
   "execution_count": 4,
   "id": "c8ae7b42",
   "metadata": {},
   "outputs": [
    {
     "name": "stdout",
     "output_type": "stream",
     "text": [
      "Getting preprocess documents embeddings\n",
      "Using cuda 0 for training...\n"
     ]
    },
    {
     "data": {
      "application/vnd.jupyter.widget-view+json": {
       "model_id": "0ea11d0bfbc0401fb84ba4eedaaa43ed",
       "version_major": 2,
       "version_minor": 0
      },
      "text/plain": [
       "Batches:   0%|          | 0/4 [00:00<?, ?it/s]"
      ]
     },
     "metadata": {},
     "output_type": "display_data"
    }
   ],
   "source": [
    "# generating document embedding\n",
    "doc_embs, doc_model = get_preprocess_document_embs(preprocessed_corpus, config['encoder'])"
   ]
  },
  {
   "cell_type": "code",
   "execution_count": 5,
   "id": "15295fbf",
   "metadata": {},
   "outputs": [
    {
     "name": "stdout",
     "output_type": "stream",
     "text": [
      "Getting preprocess documents labels\n"
     ]
    }
   ],
   "source": [
    "# Decode target & Vocabulary\n",
    "labels, vocabularys= get_preprocess_document_labels(preprocessed_corpus)\n",
    "id2token = {k: v for k, v in zip(range(0, len(vocabularys[config['target']])), vocabularys[config['target']])}\n",
    "token2id = {v: k for k, v in id2token.items()}"
   ]
  },
  {
   "cell_type": "code",
   "execution_count": null,
   "id": "19364d42",
   "metadata": {},
   "outputs": [
    {
     "data": {
      "application/vnd.jupyter.widget-view+json": {
       "model_id": "81c7c3f876694679afb56c750c69d72c",
       "version_major": 2,
       "version_minor": 0
      },
      "text/plain": [
       "0it [00:00, ?it/s]"
      ]
     },
     "metadata": {},
     "output_type": "display_data"
    }
   ],
   "source": [
    "# word embedding preparation\n",
    "word_embeddings = get_word_embs(vocabularys[config['target']], id2token=id2token, data_type='tensor')"
   ]
  },
  {
   "cell_type": "code",
   "execution_count": null,
   "id": "552a4830",
   "metadata": {},
   "outputs": [],
   "source": [
    "vocab_set = set(token2id)\n",
    "doc_list = [doc_filter(doc, vocab_set) for doc in tqdm(preprocessed_corpus, desc=\"Delete word from raw document:\")]"
   ]
  },
  {
   "cell_type": "code",
   "execution_count": null,
   "id": "0b2dd8f7",
   "metadata": {},
   "outputs": [],
   "source": [
    "# Build Graph\n",
    "vocab_set = set(token2id)\n",
    "doc_list = [doc_filter(doc, vocab_set) for doc in tqdm(preprocessed_corpus, desc=\"Delete word from raw document:\")]\n",
    "edge_index = torch.tensor(generate_graph(doc_list, token2id, id2token), dtype=torch.long).t().contiguous()"
   ]
  },
  {
   "cell_type": "code",
   "execution_count": null,
   "id": "b89f0b89",
   "metadata": {},
   "outputs": [],
   "source": [
    "# prepare dataset\n",
    "dataset = GraphSAGE_Dataset(unpreprocessed_corpus, doc_embs, labels[config['target']])\n",
    "training_length = int(len(dataset) * config['ratio'])\n",
    "validation_length = len(dataset) - training_length\n",
    "training_set, validation_set = random_split(dataset, lengths=[training_length, validation_length],generator=torch.Generator().manual_seed(42))"
   ]
  },
  {
   "cell_type": "code",
   "execution_count": null,
   "id": "10970f2d",
   "metadata": {},
   "outputs": [],
   "source": [
    "# Define document embeddings dimension\n",
    "if config['encoder'] == 'doc2vec':\n",
    "    contextual_size = 200\n",
    "elif config['encoder'] == 'average':\n",
    "    contextual_size = 300\n",
    "else:\n",
    "    contextual_size = 768"
   ]
  },
  {
   "cell_type": "code",
   "execution_count": null,
   "id": "14019465",
   "metadata": {},
   "outputs": [],
   "source": [
    "model = GraphSAGE(config=config, edge_index=edge_index, vocabulary=vocabularys[config['target']], id2token=id2token, contextual_size=contextual_size, vocab_size=len(vocabularys[config['target']]), word_embeddings=word_embeddings)"
   ]
  },
  {
   "cell_type": "code",
   "execution_count": null,
   "id": "6d31dacd",
   "metadata": {},
   "outputs": [],
   "source": [
    "model.fit(training_set, validation_set)"
   ]
  },
  {
   "cell_type": "code",
   "execution_count": null,
   "id": "3316bb3c",
   "metadata": {},
   "outputs": [],
   "source": []
  }
 ],
 "metadata": {
  "kernelspec": {
   "display_name": "Python 3 (ipykernel)",
   "language": "python",
   "name": "python3"
  },
  "language_info": {
   "codemirror_mode": {
    "name": "ipython",
    "version": 3
   },
   "file_extension": ".py",
   "mimetype": "text/x-python",
   "name": "python",
   "nbconvert_exporter": "python",
   "pygments_lexer": "ipython3",
   "version": "3.9.7"
  }
 },
 "nbformat": 4,
 "nbformat_minor": 5
}
