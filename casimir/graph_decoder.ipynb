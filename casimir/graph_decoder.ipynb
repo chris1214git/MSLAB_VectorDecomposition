{
 "cells": [
  {
   "cell_type": "code",
   "execution_count": 1,
   "id": "1ba03452",
   "metadata": {},
   "outputs": [],
   "source": [
    "import os\n",
    "import re\n",
    "import sys\n",
    "import argparse\n",
    "import random\n",
    "import numpy as np\n",
    "import torch\n",
    "import torch.nn as nn\n",
    "import torch.nn.functional as F\n",
    "import torch_geometric.transforms as T\n",
    "from torch_cluster import random_walk\n",
    "from torch.utils.data import Dataset, DataLoader, random_split\n",
    "from tqdm.auto import tqdm\n",
    "#from collections import defaultdict\n",
    "\n",
    "sys.path.append(\"../\")\n",
    "from model.graph_sage import GraphSAGE, GraphSAGE_Dataset\n",
    "from utils.loss import ListNet, MythNet\n",
    "from utils.data_processing import get_process_data\n",
    "from utils.data_loader import load_document\n",
    "from utils.eval import retrieval_normalized_dcg_all, retrieval_precision_all\n",
    "from utils.toolbox import get_free_gpu, same_seeds, show_settings, record_settings, get_preprocess_document, get_preprocess_document_embs, get_preprocess_document_labels, get_word_embs, split_data, doc_filter, generate_graph"
   ]
  },
  {
   "cell_type": "code",
   "execution_count": 2,
   "id": "27848792",
   "metadata": {},
   "outputs": [
    {
     "name": "stdout",
     "output_type": "stream",
     "text": [
      "-------- Info ---------\n",
      "model: ZTM\n",
      "dataset: tweet\n",
      "dataset_name: tweet\n",
      "vocabulary_size: 100\n",
      "encoder: roberta\n",
      "target: tf-idf\n",
      "lr: 0.0001\n",
      "optimizer: adam\n",
      "momentum: 0.99\n",
      "seed: 123\n",
      "epochs: 1\n",
      "batch_size: 16\n",
      "ratio: 0.8\n",
      "topk: [5, 10, 15]\n",
      "visualize: True\n",
      "threshold: 0.7\n",
      "\n",
      "-----------------------\n"
     ]
    }
   ],
   "source": [
    "config = {\n",
    "    'model': 'ZTM',\n",
    "    'dataset': 'tweet',\n",
    "    'dataset_name': 'tweet',\n",
    "    'vocabulary_size':100,\n",
    "    'encoder': 'roberta',\n",
    "    'target': 'tf-idf',\n",
    "    'lr': 1e-4,\n",
    "    'optimizer': 'adam',\n",
    "    'momentum': 0.99, \n",
    "    'seed': 123,\n",
    "    'epochs': 1,\n",
    "    'batch_size': 16,\n",
    "    'ratio': 0.8,\n",
    "    'topk': [5, 10, 15],\n",
    "    'visualize': True,\n",
    "    'threshold': 0.7,\n",
    "}\n",
    "\n",
    "show_settings(config)\n",
    "same_seeds(config['seed'])"
   ]
  },
  {
   "cell_type": "code",
   "execution_count": 3,
   "id": "878a1813",
   "metadata": {},
   "outputs": [
    {
     "name": "stdout",
     "output_type": "stream",
     "text": [
      "Getting preprocess documents: tweet\n",
      "min_df: 1 max_df: 1.0 vocabulary_size: 100 min_doc_word: 15\n"
     ]
    },
    {
     "name": "stderr",
     "output_type": "stream",
     "text": [
      "Reusing dataset tweet_eval (/home/casimir0304/.cache/huggingface/datasets/tweet_eval/emotion/1.1.0/12aee5282b8784f3e95459466db4cdf45c6bf49719c25cdb0743d71ed0410343)\n",
      "/home/casimir0304/miniconda3/envs/ml/lib/python3.9/site-packages/sklearn/utils/deprecation.py:87: FutureWarning: Function get_feature_names is deprecated; get_feature_names is deprecated in 1.0 and will be removed in 1.2. Please use get_feature_names_out instead.\n",
      "  warnings.warn(msg, category=FutureWarning)\n"
     ]
    }
   ],
   "source": [
    "# data preprocessing\n",
    "unpreprocessed_corpus ,preprocessed_corpus = get_preprocess_document(**config)"
   ]
  },
  {
   "cell_type": "code",
   "execution_count": 4,
   "id": "c8ae7b42",
   "metadata": {},
   "outputs": [
    {
     "name": "stdout",
     "output_type": "stream",
     "text": [
      "Getting preprocess documents embeddings\n",
      "Using cuda 1 for training...\n"
     ]
    },
    {
     "data": {
      "application/vnd.jupyter.widget-view+json": {
       "model_id": "c5de7ac36d644438a805575d12c1ac64",
       "version_major": 2,
       "version_minor": 0
      },
      "text/plain": [
       "Batches:   0%|          | 0/4 [00:00<?, ?it/s]"
      ]
     },
     "metadata": {},
     "output_type": "display_data"
    },
    {
     "name": "stdout",
     "output_type": "stream",
     "text": [
      "Ignored unknown kwarg option direction\n",
      "Ignored unknown kwarg option direction\n",
      "Ignored unknown kwarg option direction\n",
      "Ignored unknown kwarg option direction\n"
     ]
    }
   ],
   "source": [
    "# generating document embedding\n",
    "doc_embs, doc_model = get_preprocess_document_embs(preprocessed_corpus, config['encoder'])"
   ]
  },
  {
   "cell_type": "code",
   "execution_count": 5,
   "id": "15295fbf",
   "metadata": {},
   "outputs": [
    {
     "name": "stdout",
     "output_type": "stream",
     "text": [
      "Getting preprocess documents labels\n"
     ]
    }
   ],
   "source": [
    "# Decode target & Vocabulary\n",
    "labels, vocabularys= get_preprocess_document_labels(preprocessed_corpus)\n",
    "id2token = {k: v for k, v in zip(range(0, len(vocabularys[config['target']])), vocabularys[config['target']])}\n",
    "token2id = {v: k for k, v in id2token.items()}"
   ]
  },
  {
   "cell_type": "code",
   "execution_count": 6,
   "id": "19364d42",
   "metadata": {},
   "outputs": [
    {
     "name": "stdout",
     "output_type": "stream",
     "text": [
      "Getting word embeddings\n"
     ]
    },
    {
     "data": {
      "application/vnd.jupyter.widget-view+json": {
       "model_id": "46bab4e8c5d44ccfb6dd3e91c479fc2a",
       "version_major": 2,
       "version_minor": 0
      },
      "text/plain": [
       "0it [00:00, ?it/s]"
      ]
     },
     "metadata": {},
     "output_type": "display_data"
    },
    {
     "name": "stdout",
     "output_type": "stream",
     "text": [
      "Number of words:400000\n"
     ]
    }
   ],
   "source": [
    "# word embedding preparation\n",
    "word_embeddings = get_word_embs(vocabularys[config['target']])"
   ]
  },
  {
   "cell_type": "code",
   "execution_count": 7,
   "id": "552a4830",
   "metadata": {},
   "outputs": [
    {
     "data": {
      "application/vnd.jupyter.widget-view+json": {
       "model_id": "f680d215750c45e8bf14d3fe2ebe6039",
       "version_major": 2,
       "version_minor": 0
      },
      "text/plain": [
       "Delete word from raw document::   0%|          | 0/603 [00:00<?, ?it/s]"
      ]
     },
     "metadata": {},
     "output_type": "display_data"
    }
   ],
   "source": [
    "vocab_set = set(token2id)\n",
    "doc_list = [doc_filter(doc, vocab_set) for doc in tqdm(preprocessed_corpus, desc=\"Delete word from raw document:\")]"
   ]
  },
  {
   "cell_type": "code",
   "execution_count": 8,
   "id": "0b2dd8f7",
   "metadata": {},
   "outputs": [
    {
     "data": {
      "application/vnd.jupyter.widget-view+json": {
       "model_id": "cbfb8bdb9be54ef698f4fb54172e321b",
       "version_major": 2,
       "version_minor": 0
      },
      "text/plain": [
       "Delete word from raw document::   0%|          | 0/603 [00:00<?, ?it/s]"
      ]
     },
     "metadata": {},
     "output_type": "display_data"
    },
    {
     "data": {
      "application/vnd.jupyter.widget-view+json": {
       "model_id": "d1fba536eb664527b7b3f2b92ce0c00a",
       "version_major": 2,
       "version_minor": 0
      },
      "text/plain": [
       "Calculate word pair:   0%|          | 0/603 [00:00<?, ?it/s]"
      ]
     },
     "metadata": {},
     "output_type": "display_data"
    },
    {
     "data": {
      "application/vnd.jupyter.widget-view+json": {
       "model_id": "0ff4984d128e4b9ca62e628d272e6778",
       "version_major": 2,
       "version_minor": 0
      },
      "text/plain": [
       "Construct Edge:   0%|          | 0/1952 [00:00<?, ?it/s]"
      ]
     },
     "metadata": {},
     "output_type": "display_data"
    },
    {
     "name": "stdout",
     "output_type": "stream",
     "text": [
      "# of Node: 74\n",
      "# of Edge: 52\n"
     ]
    }
   ],
   "source": [
    "# Build Graph\n",
    "vocab_set = set(token2id)\n",
    "doc_list = [doc_filter(doc, vocab_set) for doc in tqdm(preprocessed_corpus, desc=\"Delete word from raw document:\")]\n",
    "edge_index = torch.tensor(generate_graph(doc_list, token2id, id2token), dtype=torch.long).t().contiguous()"
   ]
  },
  {
   "cell_type": "code",
   "execution_count": 9,
   "id": "b89f0b89",
   "metadata": {},
   "outputs": [],
   "source": [
    "# prepare dataset\n",
    "dataset = GraphSAGE_Dataset(unpreprocessed_corpus, doc_embs, labels[config['target']])\n",
    "training_length = int(len(dataset) * config['ratio'])\n",
    "validation_length = len(dataset) - training_length\n",
    "training_set, validation_set = random_split(dataset, lengths=[training_length, validation_length],generator=torch.Generator().manual_seed(42))"
   ]
  },
  {
   "cell_type": "code",
   "execution_count": 10,
   "id": "10970f2d",
   "metadata": {},
   "outputs": [],
   "source": [
    "# Define document embeddings dimension\n",
    "if config['encoder'] == 'doc2vec':\n",
    "    contextual_size = 200\n",
    "elif config['encoder'] == 'average':\n",
    "    contextual_size = 300\n",
    "else:\n",
    "    contextual_size = 768"
   ]
  },
  {
   "cell_type": "code",
   "execution_count": 11,
   "id": "14019465",
   "metadata": {},
   "outputs": [
    {
     "name": "stdout",
     "output_type": "stream",
     "text": [
      "Using cuda 1 for training...\n"
     ]
    }
   ],
   "source": [
    "model = GraphSAGE(config=config, edge_index=edge_index, vocabulary=vocabularys[config['target']], id2token=id2token, contextual_size=contextual_size, vocab_size=len(vocabularys[config['target']]), word_embeddings=word_embeddings)"
   ]
  },
  {
   "cell_type": "code",
   "execution_count": 12,
   "id": "6d31dacd",
   "metadata": {},
   "outputs": [
    {
     "data": {
      "application/vnd.jupyter.widget-view+json": {
       "model_id": "0f44bffa56d748cda0ffc127681f7564",
       "version_major": 2,
       "version_minor": 0
      },
      "text/plain": [
       "Training:   0%|          | 0/31 [00:00<?, ?it/s]"
      ]
     },
     "metadata": {},
     "output_type": "display_data"
    },
    {
     "ename": "TypeError",
     "evalue": "can't convert cuda:1 device type tensor to numpy. Use Tensor.cpu() to copy the tensor to host memory first.",
     "output_type": "error",
     "traceback": [
      "\u001b[0;31m---------------------------------------------------------------------------\u001b[0m",
      "\u001b[0;31mTypeError\u001b[0m                                 Traceback (most recent call last)",
      "Input \u001b[0;32mIn [12]\u001b[0m, in \u001b[0;36m<cell line: 1>\u001b[0;34m()\u001b[0m\n\u001b[0;32m----> 1\u001b[0m \u001b[43mmodel\u001b[49m\u001b[38;5;241;43m.\u001b[39;49m\u001b[43mfit\u001b[49m\u001b[43m(\u001b[49m\u001b[43mtraining_set\u001b[49m\u001b[43m,\u001b[49m\u001b[43m \u001b[49m\u001b[43mvalidation_set\u001b[49m\u001b[43m)\u001b[49m\n",
      "File \u001b[0;32m/data1/casimir0304/MSLAB_VectorDecomposition/casimir/../model/graph_sage.py:153\u001b[0m, in \u001b[0;36mGraphSAGE.fit\u001b[0;34m(self, training_set, validation_set)\u001b[0m\n\u001b[1;32m    151\u001b[0m     \u001b[38;5;28mself\u001b[39m\u001b[38;5;241m.\u001b[39moptimizer\u001b[38;5;241m.\u001b[39mzero_grad()\n\u001b[1;32m    152\u001b[0m \u001b[38;5;28;01mif\u001b[39;00m (epoch) \u001b[38;5;241m%\u001b[39m \u001b[38;5;241m10\u001b[39m \u001b[38;5;241m==\u001b[39m \u001b[38;5;241m0\u001b[39m:\n\u001b[0;32m--> 153\u001b[0m     validation_result \u001b[38;5;241m=\u001b[39m \u001b[38;5;28;43mself\u001b[39;49m\u001b[38;5;241;43m.\u001b[39;49m\u001b[43mvalidation\u001b[49m\u001b[43m(\u001b[49m\u001b[43mvalidation_loader\u001b[49m\u001b[43m)\u001b[49m\n\u001b[1;32m    154\u001b[0m     record \u001b[38;5;241m=\u001b[39m \u001b[38;5;28mopen\u001b[39m(\u001b[38;5;124m'\u001b[39m\u001b[38;5;124m./\u001b[39m\u001b[38;5;124m'\u001b[39m\u001b[38;5;241m+\u001b[39m\u001b[38;5;28mself\u001b[39m\u001b[38;5;241m.\u001b[39mconfig[\u001b[38;5;124m'\u001b[39m\u001b[38;5;124mdataset\u001b[39m\u001b[38;5;124m'\u001b[39m]\u001b[38;5;241m+\u001b[39m\u001b[38;5;124m'\u001b[39m\u001b[38;5;124m_\u001b[39m\u001b[38;5;124m'\u001b[39m\u001b[38;5;241m+\u001b[39m\u001b[38;5;28mself\u001b[39m\u001b[38;5;241m.\u001b[39mconfig[\u001b[38;5;124m'\u001b[39m\u001b[38;5;124mmodel\u001b[39m\u001b[38;5;124m'\u001b[39m]\u001b[38;5;241m+\u001b[39m\u001b[38;5;124m'\u001b[39m\u001b[38;5;124m_\u001b[39m\u001b[38;5;124m'\u001b[39m\u001b[38;5;241m+\u001b[39m\u001b[38;5;28mself\u001b[39m\u001b[38;5;241m.\u001b[39mconfig[\u001b[38;5;124m'\u001b[39m\u001b[38;5;124mencoder\u001b[39m\u001b[38;5;124m'\u001b[39m]\u001b[38;5;241m+\u001b[39m\u001b[38;5;124m'\u001b[39m\u001b[38;5;124m_\u001b[39m\u001b[38;5;124m'\u001b[39m\u001b[38;5;241m+\u001b[39m\u001b[38;5;28mself\u001b[39m\u001b[38;5;241m.\u001b[39mconfig[\u001b[38;5;124m'\u001b[39m\u001b[38;5;124mtarget\u001b[39m\u001b[38;5;124m'\u001b[39m]\u001b[38;5;241m+\u001b[39m\u001b[38;5;124m'\u001b[39m\u001b[38;5;124m_document.txt\u001b[39m\u001b[38;5;124m'\u001b[39m, \u001b[38;5;124m'\u001b[39m\u001b[38;5;124ma\u001b[39m\u001b[38;5;124m'\u001b[39m)\n\u001b[1;32m    155\u001b[0m     \u001b[38;5;28mprint\u001b[39m(\u001b[38;5;124m'\u001b[39m\u001b[38;5;124m---------------------------------------\u001b[39m\u001b[38;5;124m'\u001b[39m)\n",
      "File \u001b[0;32m/data1/casimir0304/MSLAB_VectorDecomposition/casimir/../model/graph_sage.py:174\u001b[0m, in \u001b[0;36mGraphSAGE.validation\u001b[0;34m(self, loader)\u001b[0m\n\u001b[1;32m    172\u001b[0m recon_dists \u001b[38;5;241m=\u001b[39m \u001b[38;5;28mself\u001b[39m\u001b[38;5;241m.\u001b[39mdecoder(emb)\n\u001b[1;32m    173\u001b[0m \u001b[38;5;66;03m# Semantic Prcision for reconstruct\u001b[39;00m\n\u001b[0;32m--> 174\u001b[0m precision_scores, word_result \u001b[38;5;241m=\u001b[39m \u001b[43msemantic_precision_all\u001b[49m\u001b[43m(\u001b[49m\u001b[43mrecon_dists\u001b[49m\u001b[43m,\u001b[49m\u001b[43m \u001b[49m\u001b[43mtarget\u001b[49m\u001b[43m,\u001b[49m\u001b[43m \u001b[49m\u001b[38;5;28;43mself\u001b[39;49m\u001b[38;5;241;43m.\u001b[39;49m\u001b[43mword_embeddings\u001b[49m\u001b[43m,\u001b[49m\u001b[43m \u001b[49m\u001b[38;5;28;43mself\u001b[39;49m\u001b[38;5;241;43m.\u001b[39;49m\u001b[43mvocabulary\u001b[49m\u001b[43m,\u001b[49m\u001b[43m \u001b[49m\u001b[43mk\u001b[49m\u001b[38;5;241;43m=\u001b[39;49m\u001b[38;5;28;43mself\u001b[39;49m\u001b[38;5;241;43m.\u001b[39;49m\u001b[43mconfig\u001b[49m\u001b[43m[\u001b[49m\u001b[38;5;124;43m'\u001b[39;49m\u001b[38;5;124;43mtopk\u001b[39;49m\u001b[38;5;124;43m'\u001b[39;49m\u001b[43m]\u001b[49m\u001b[43m,\u001b[49m\u001b[43m \u001b[49m\u001b[43mth\u001b[49m\u001b[43m \u001b[49m\u001b[38;5;241;43m=\u001b[39;49m\u001b[43m \u001b[49m\u001b[38;5;28;43mself\u001b[39;49m\u001b[38;5;241;43m.\u001b[39;49m\u001b[43mconfig\u001b[49m\u001b[43m[\u001b[49m\u001b[38;5;124;43m'\u001b[39;49m\u001b[38;5;124;43mthreshold\u001b[39;49m\u001b[38;5;124;43m'\u001b[39;49m\u001b[43m]\u001b[49m\u001b[43m)\u001b[49m\n\u001b[1;32m    175\u001b[0m \u001b[38;5;28;01mfor\u001b[39;00m k, v \u001b[38;5;129;01min\u001b[39;00m precision_scores\u001b[38;5;241m.\u001b[39mitems():\n\u001b[1;32m    176\u001b[0m     results[\u001b[38;5;124m'\u001b[39m\u001b[38;5;124m[Recon] Semantic Precision@\u001b[39m\u001b[38;5;132;01m{}\u001b[39;00m\u001b[38;5;124m'\u001b[39m\u001b[38;5;241m.\u001b[39mformat(k)]\u001b[38;5;241m.\u001b[39mappend(v)\n",
      "File \u001b[0;32m/data1/casimir0304/MSLAB_VectorDecomposition/casimir/../utils/eval.py:114\u001b[0m, in \u001b[0;36msemantic_precision_all\u001b[0;34m(preds, target, word_embeddings, tp_vocab, k, th, display_word_result)\u001b[0m\n\u001b[1;32m    112\u001b[0m relevants \u001b[38;5;241m=\u001b[39m []\n\u001b[1;32m    113\u001b[0m \u001b[38;5;28;01mfor\u001b[39;00m i \u001b[38;5;129;01min\u001b[39;00m \u001b[38;5;28mrange\u001b[39m(preds\u001b[38;5;241m.\u001b[39mshape[\u001b[38;5;241m0\u001b[39m]):\n\u001b[0;32m--> 114\u001b[0m     preds_word_emb \u001b[38;5;241m=\u001b[39m \u001b[43mword_embeddings\u001b[49m\u001b[43m[\u001b[49m\u001b[43mpreds\u001b[49m\u001b[43m[\u001b[49m\u001b[43mi\u001b[49m\u001b[43m]\u001b[49m\u001b[38;5;241;43m.\u001b[39;49m\u001b[43mtopk\u001b[49m\u001b[43m(\u001b[49m\u001b[43mtopk\u001b[49m\u001b[43m)\u001b[49m\u001b[43m[\u001b[49m\u001b[38;5;241;43m1\u001b[39;49m\u001b[43m]\u001b[49m\u001b[43m]\u001b[49m\n\u001b[1;32m    115\u001b[0m     target_word_emb \u001b[38;5;241m=\u001b[39m word_embeddings[target_onehot[i]]\n\u001b[1;32m    117\u001b[0m     similarity_matrix \u001b[38;5;241m=\u001b[39m torch\u001b[38;5;241m.\u001b[39mzeros(preds_word_emb\u001b[38;5;241m.\u001b[39mshape[\u001b[38;5;241m0\u001b[39m], target_word_emb\u001b[38;5;241m.\u001b[39mshape[\u001b[38;5;241m0\u001b[39m])\n",
      "File \u001b[0;32m~/miniconda3/envs/ml/lib/python3.9/site-packages/torch/_tensor.py:732\u001b[0m, in \u001b[0;36mTensor.__array__\u001b[0;34m(self, dtype)\u001b[0m\n\u001b[1;32m    730\u001b[0m     \u001b[38;5;28;01mreturn\u001b[39;00m handle_torch_function(Tensor\u001b[38;5;241m.\u001b[39m__array__, (\u001b[38;5;28mself\u001b[39m,), \u001b[38;5;28mself\u001b[39m, dtype\u001b[38;5;241m=\u001b[39mdtype)\n\u001b[1;32m    731\u001b[0m \u001b[38;5;28;01mif\u001b[39;00m dtype \u001b[38;5;129;01mis\u001b[39;00m \u001b[38;5;28;01mNone\u001b[39;00m:\n\u001b[0;32m--> 732\u001b[0m     \u001b[38;5;28;01mreturn\u001b[39;00m \u001b[38;5;28;43mself\u001b[39;49m\u001b[38;5;241;43m.\u001b[39;49m\u001b[43mnumpy\u001b[49m\u001b[43m(\u001b[49m\u001b[43m)\u001b[49m\n\u001b[1;32m    733\u001b[0m \u001b[38;5;28;01melse\u001b[39;00m:\n\u001b[1;32m    734\u001b[0m     \u001b[38;5;28;01mreturn\u001b[39;00m \u001b[38;5;28mself\u001b[39m\u001b[38;5;241m.\u001b[39mnumpy()\u001b[38;5;241m.\u001b[39mastype(dtype, copy\u001b[38;5;241m=\u001b[39m\u001b[38;5;28;01mFalse\u001b[39;00m)\n",
      "\u001b[0;31mTypeError\u001b[0m: can't convert cuda:1 device type tensor to numpy. Use Tensor.cpu() to copy the tensor to host memory first."
     ]
    }
   ],
   "source": [
    "model.fit(training_set, validation_set)"
   ]
  },
  {
   "cell_type": "code",
   "execution_count": 17,
   "id": "25d4e945",
   "metadata": {},
   "outputs": [
    {
     "data": {
      "application/vnd.jupyter.widget-view+json": {
       "model_id": "373810a85b2940dfa950c3cfba0a320a",
       "version_major": 2,
       "version_minor": 0
      },
      "text/plain": [
       "Training:   0%|          | 0/181 [00:00<?, ?it/s]"
      ]
     },
     "metadata": {},
     "output_type": "display_data"
    }
   ],
   "source": [
    "# Training\n",
    "for epoch in range(config['epochs']):\n",
    "    decoder.train()\n",
    "    total_train_loss = 0\n",
    "    for batch, (corpus, doc_emb, doc_tfidf) in enumerate(tqdm(train_loader, desc=\"Training\")):\n",
    "        # ListNet Decoder\n",
    "        doc_emb, doc_tfidf = doc_emb.to(device), torch.nn.functional.normalize(doc_tfidf.to(device), dim=1)\n",
    "        decoded = torch.nn.functional.normalize(decoder(doc_emb), dim=1)\n",
    "        de_loss = MythNet(decoded, doc_tfidf)\n",
    "        \n",
    "        # SAGE\n",
    "        batch_size, n_id, adjs = next(graph_iterloader)\n",
    "        adjs = [adj.to(device) for adj in adjs]\n",
    "        ae_output = decoder.graph_out(n_id, adjs)\n",
    "        out, pos_out, neg_out = ae_output.split(ae_output.size(0) // 3, dim=0)  \n",
    "        pos_loss = F.logsigmoid((out * pos_out).sum(-1)).mean()\n",
    "        neg_loss = F.logsigmoid(-(out * neg_out).sum(-1)).mean()\n",
    "        ae_loss = -pos_loss - neg_loss\n",
    "        \n",
    "        # loss\n",
    "        loss = de_loss + ae_loss\n",
    "        loss.backward()\n",
    "        optimizer.step()\n",
    "        #graph_optimizer.step()\n",
    "        optimizer.zero_grad()\n",
    "        #graph_optimizer.zero_grad()\n",
    "        \n",
    "        total_train_loss += loss.item()"
   ]
  },
  {
   "cell_type": "code",
   "execution_count": null,
   "id": "433d986f",
   "metadata": {},
   "outputs": [],
   "source": []
  }
 ],
 "metadata": {
  "kernelspec": {
   "display_name": "Python 3 (ipykernel)",
   "language": "python",
   "name": "python3"
  },
  "language_info": {
   "codemirror_mode": {
    "name": "ipython",
    "version": 3
   },
   "file_extension": ".py",
   "mimetype": "text/x-python",
   "name": "python",
   "nbconvert_exporter": "python",
   "pygments_lexer": "ipython3",
   "version": "3.9.7"
  }
 },
 "nbformat": 4,
 "nbformat_minor": 5
}
