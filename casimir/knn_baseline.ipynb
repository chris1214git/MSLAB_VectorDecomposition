{
 "cells": [
  {
   "cell_type": "code",
   "execution_count": 1,
   "id": "0e00f1cc",
   "metadata": {},
   "outputs": [
    {
     "name": "stderr",
     "output_type": "stream",
     "text": [
      "/dhome/casimir0304/miniconda3/envs/ML/lib/python3.9/site-packages/gensim/similarities/__init__.py:15: UserWarning: The gensim.similarities.levenshtein submodule is disabled, because the optional Levenshtein package <https://pypi.org/project/python-Levenshtein/> is unavailable. Install Levenhstein (e.g. `pip install python-Levenshtein`) to suppress this warning.\n",
      "  warnings.warn(msg)\n"
     ]
    }
   ],
   "source": [
    "import os\n",
    "import sys\n",
    "import numpy as np\n",
    "import argparse\n",
    "from collections import defaultdict\n",
    "\n",
    "sys.path.append(\"../\")\n",
    "\n",
    "import torch\n",
    "from torch.utils.data import random_split\n",
    "from sklearn.neighbors import KNeighborsRegressor\n",
    "from sklearn.model_selection import train_test_split\n",
    "from utils.eval import retrieval_normalized_dcg_all, retrieval_precision_all, semantic_precision_all\n",
    "from utils.toolbox import same_seeds, show_settings, record_settings, get_preprocess_document, get_preprocess_document_embs, get_preprocess_document_labels_v3, get_word_embs\n",
    "\n",
    "torch.set_num_threads(8)"
   ]
  },
  {
   "cell_type": "code",
   "execution_count": 15,
   "id": "ab164275",
   "metadata": {},
   "outputs": [],
   "source": [
    "def evaluate_Decoder(config, model, vocabulary, word_embeddings, X_test, y_test):\n",
    "    results = defaultdict(list)\n",
    "        \n",
    "    # predict all data\n",
    "    pred = torch.abs(torch.tensor(model.predict(X_test)))\n",
    "    y = torch.abs(torch.tensor(y_test))\n",
    "\n",
    "    # Semantic Prcision\n",
    "    precision_scores, word_result = semantic_precision_all(pred, y, word_embeddings, vocabulary, k=config['topk'], th=config['threshold'])\n",
    "    for k, v in precision_scores.items():\n",
    "        results['Semantic Precision@{}'.format(k)].append(v)\n",
    "\n",
    "    # Precision\n",
    "    precision_scores = retrieval_precision_all(pred, y, k=config[\"topk\"])\n",
    "    for k, v in precision_scores.items():\n",
    "        results['precision@{}'.format(k)].append(v)\n",
    "    \n",
    "    # NDCG\n",
    "    ndcg_scores = retrieval_normalized_dcg_all(pred, y, k=config[\"topk\"])\n",
    "    for k, v in ndcg_scores.items():\n",
    "        results['ndcg@{}'.format(k)].append(v)\n",
    "        \n",
    "    for k in results:\n",
    "        results[k] = np.mean(results[k])\n",
    "\n",
    "    return results"
   ]
  },
  {
   "cell_type": "code",
   "execution_count": 3,
   "id": "e56dc46d",
   "metadata": {},
   "outputs": [],
   "source": [
    "config = {\n",
    "    'model': 'KNN',\n",
    "    'dataset': '20news',\n",
    "    'use_pos': True,\n",
    "    'min_df': 1,\n",
    "    'max_df:': 1.0,\n",
    "    'vocab_size': 0,\n",
    "    'min_doc_word': 15,\n",
    "    'encoder': 'mpnet',\n",
    "    'target': 'yake',\n",
    "    'seed': 123,\n",
    "    'ratio': 0.8,\n",
    "    'topk': [5, 10, 15],\n",
    "    'threshold': 0.5,\n",
    "    'n_neighbors': 20\n",
    "}\n",
    "same_seeds(config[\"seed\"])"
   ]
  },
  {
   "cell_type": "code",
   "execution_count": 4,
   "id": "ac9a1af1",
   "metadata": {},
   "outputs": [],
   "source": [
    "# Parameter\n",
    "if config['dataset'] == '20news':\n",
    "    config['min_df'], config['max_df'], config['min_doc_word'] = 50, 1.0, 15\n",
    "elif config['dataset'] == 'agnews':\n",
    "    config['min_df'], config['max_df'], config['min_doc_word'] = 100, 1.0, 15\n",
    "elif config['dataset'] == 'tweet':\n",
    "    config['min_df'], config['max_df'], config['min_doc_word'] = 5, 1.0, 15"
   ]
  },
  {
   "cell_type": "code",
   "execution_count": 5,
   "id": "115f84e5",
   "metadata": {},
   "outputs": [
    {
     "name": "stdout",
     "output_type": "stream",
     "text": [
      "Getting preprocess documents labels\n"
     ]
    }
   ],
   "source": [
    "# Decode target & Vocabulary\n",
    "labels, vocabularys= get_preprocess_document_labels_v3(config)\n",
    "id2token = {k: v for k, v in zip(range(0, len(vocabularys[config['target']])), vocabularys[config['target']])}"
   ]
  },
  {
   "cell_type": "code",
   "execution_count": 6,
   "id": "d9d55494",
   "metadata": {},
   "outputs": [
    {
     "name": "stdout",
     "output_type": "stream",
     "text": [
      "Getting preprocess documents: 20news\n",
      "min_df: 50 max_df: 1.0 vocabulary_size: None min_doc_word: 15\n"
     ]
    },
    {
     "name": "stderr",
     "output_type": "stream",
     "text": [
      "/dhome/casimir0304/miniconda3/envs/ML/lib/python3.9/site-packages/sklearn/utils/deprecation.py:87: FutureWarning: Function get_feature_names is deprecated; get_feature_names is deprecated in 1.0 and will be removed in 1.2. Please use get_feature_names_out instead.\n",
      "  warnings.warn(msg, category=FutureWarning)\n"
     ]
    }
   ],
   "source": [
    "# data preprocessing\n",
    "unpreprocessed_corpus ,preprocessed_corpus = get_preprocess_document(**config)\n",
    "texts = [text.split() for text in preprocessed_corpus]"
   ]
  },
  {
   "cell_type": "code",
   "execution_count": 7,
   "id": "426d01d3",
   "metadata": {},
   "outputs": [
    {
     "name": "stdout",
     "output_type": "stream",
     "text": [
      "5680\n",
      "5680\n"
     ]
    }
   ],
   "source": [
    "print(len(labels[config['target']][1]))\n",
    "print(len(vocabularys[config['target']]))"
   ]
  },
  {
   "cell_type": "code",
   "execution_count": 8,
   "id": "519c2d7a",
   "metadata": {},
   "outputs": [
    {
     "name": "stdout",
     "output_type": "stream",
     "text": [
      "Getting preprocess documents embeddings\n",
      "Using cuda 1 for training...\n"
     ]
    },
    {
     "data": {
      "application/vnd.jupyter.widget-view+json": {
       "model_id": "b27cb945346f4dbaaf65863a78d2292f",
       "version_major": 2,
       "version_minor": 0
      },
      "text/plain": [
       "Batches:   0%|          | 0/95 [00:00<?, ?it/s]"
      ]
     },
     "metadata": {},
     "output_type": "display_data"
    }
   ],
   "source": [
    "# generating document embedding\n",
    "doc_embs, doc_model = get_preprocess_document_embs(preprocessed_corpus, config['encoder'])"
   ]
  },
  {
   "cell_type": "code",
   "execution_count": 9,
   "id": "a22759dd",
   "metadata": {},
   "outputs": [
    {
     "data": {
      "application/vnd.jupyter.widget-view+json": {
       "model_id": "d061b30c05654deea8ed424e74018d48",
       "version_major": 2,
       "version_minor": 0
      },
      "text/plain": [
       "0it [00:00, ?it/s]"
      ]
     },
     "metadata": {},
     "output_type": "display_data"
    },
    {
     "name": "stdout",
     "output_type": "stream",
     "text": [
      "Number of words:400000\n",
      "Getting [tensor] word embeddings\n"
     ]
    }
   ],
   "source": [
    "# word embedding preparation\n",
    "word_embeddings = get_word_embs(vocabularys[config['target']], id2token=id2token, data_type='tensor')"
   ]
  },
  {
   "cell_type": "code",
   "execution_count": 10,
   "id": "a6c721b9",
   "metadata": {},
   "outputs": [
    {
     "name": "stdout",
     "output_type": "stream",
     "text": [
      "-------- Info ---------\n",
      "model: KNN\n",
      "dataset: 20news\n",
      "use_pos: True\n",
      "min_df: 50\n",
      "max_df:: 1.0\n",
      "vocab_size: 5680\n",
      "min_doc_word: 15\n",
      "encoder: mpnet\n",
      "target: yake\n",
      "seed: 123\n",
      "ratio: 0.8\n",
      "topk: [5, 10, 15]\n",
      "threshold: 0.5\n",
      "n_neighbors: 20\n",
      "max_df: 1.0\n",
      "\n",
      "-----------------------\n"
     ]
    }
   ],
   "source": [
    "# show setting\n",
    "config['vocab_size'] = len(vocabularys[config['target']])\n",
    "show_settings(config)"
   ]
  },
  {
   "cell_type": "code",
   "execution_count": 11,
   "id": "8e964bb9",
   "metadata": {},
   "outputs": [
    {
     "data": {
      "text/plain": [
       "KNeighborsRegressor(n_neighbors=20)"
      ]
     },
     "execution_count": 11,
     "metadata": {},
     "output_type": "execute_result"
    }
   ],
   "source": [
    "X_train, X_test, y_train, y_test = train_test_split(doc_embs, labels[config[\"target\"]], test_size=0.2, random_state=config[\"seed\"])\n",
    "X_train, X_test, y_train, y_test = train_test_split(doc_embs, labels[config[\"target\"]], test_size=0.2, random_state=config[\"seed\"])\n",
    "model = KNeighborsRegressor(n_neighbors=config[\"n_neighbors\"])\n",
    "model.fit(X_train, y_train)"
   ]
  },
  {
   "cell_type": "code",
   "execution_count": 16,
   "id": "e4319963",
   "metadata": {},
   "outputs": [
    {
     "name": "stdout",
     "output_type": "stream",
     "text": [
      "Semantic Precision@5:0.8307\n",
      "Semantic Precision@10:0.7179\n",
      "Semantic Precision@15:0.6391\n",
      "precision@5:0.7856\n",
      "precision@10:0.6360\n",
      "precision@15:0.5442\n",
      "ndcg@5:0.7451\n",
      "ndcg@10:0.6369\n",
      "ndcg@15:0.5711\n",
      "ndcg@all:0.7122\n"
     ]
    }
   ],
   "source": [
    "res = evaluate_Decoder(config, model, vocabularys[config['target']], word_embeddings, X_test, y_test)\n",
    "for key,val in res.items():\n",
    "    print(f\"{key}:{val:.4f}\")"
   ]
  },
  {
   "cell_type": "code",
   "execution_count": 12,
   "id": "36264696",
   "metadata": {},
   "outputs": [],
   "source": [
    "pred = torch.abs(torch.tensor(model.predict(X_test)))\n",
    "y = torch.abs(torch.tensor(y_test))"
   ]
  },
  {
   "cell_type": "code",
   "execution_count": 13,
   "id": "e219599d",
   "metadata": {},
   "outputs": [
    {
     "name": "stdout",
     "output_type": "stream",
     "text": [
      "tensor([0.0000, 0.0000, 0.0113,  ..., 0.0000, 0.0000, 0.0000],\n",
      "       dtype=torch.float64)\n"
     ]
    }
   ],
   "source": [
    "idx = 50\n",
    "print(pred[0])"
   ]
  },
  {
   "cell_type": "code",
   "execution_count": 14,
   "id": "78d19e77",
   "metadata": {},
   "outputs": [
    {
     "name": "stdout",
     "output_type": "stream",
     "text": [
      "tensor([0., 0., 0.,  ..., 0., 0., 0.], dtype=torch.float64)\n"
     ]
    }
   ],
   "source": [
    "print(y[50])"
   ]
  },
  {
   "cell_type": "code",
   "execution_count": null,
   "id": "7288b5b5",
   "metadata": {},
   "outputs": [],
   "source": []
  }
 ],
 "metadata": {
  "kernelspec": {
   "display_name": "Python 3 (ipykernel)",
   "language": "python",
   "name": "python3"
  },
  "language_info": {
   "codemirror_mode": {
    "name": "ipython",
    "version": 3
   },
   "file_extension": ".py",
   "mimetype": "text/x-python",
   "name": "python",
   "nbconvert_exporter": "python",
   "pygments_lexer": "ipython3",
   "version": "3.9.7"
  }
 },
 "nbformat": 4,
 "nbformat_minor": 5
}
