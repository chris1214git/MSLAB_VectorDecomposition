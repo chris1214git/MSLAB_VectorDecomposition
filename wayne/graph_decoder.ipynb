{
 "cells": [
  {
   "cell_type": "code",
   "execution_count": 31,
   "id": "a66930ef",
   "metadata": {},
   "outputs": [],
   "source": [
    "import os\n",
    "import re\n",
    "import sys\n",
    "import random\n",
    "import argparse\n",
    "import numpy as np\n",
    "import torch\n",
    "import torch.nn as nn\n",
    "import torch_geometric.transforms as T\n",
    "from torch.utils.data import Dataset, DataLoader, random_split\n",
    "from torch_geometric.datasets import Planetoid\n",
    "from torch_geometric.nn import GCNConv, GAE, VGAE\n",
    "from torch_geometric.data import Data\n",
    "from tqdm.auto import tqdm\n",
    "from collections import defaultdict\n",
    "from sklearn.feature_extraction.text import TfidfVectorizer\n",
    "\n",
    "\n",
    "sys.path.append(\"../..\")\n",
    "\n",
    "from utils.loss import ListNet\n",
    "from utils.data_processing import get_process_data\n",
    "from utils.eval import retrieval_normalized_dcg_all, retrieval_precision_all\n",
    "from utils.toolbox import same_seeds, get_freer_gpu, show_settings, split_data"
   ]
  },
  {
   "cell_type": "code",
   "execution_count": 2,
   "id": "c65d94c3",
   "metadata": {},
   "outputs": [
    {
     "name": "stderr",
     "output_type": "stream",
     "text": [
      "Reusing dataset imdb (/dhome/casimir0304/.cache/huggingface/datasets/imdb/plain_text/1.0.0/2fdd8b9bcadd6e7055e742a706876ba43f19faee861df134affd7a3f60fc38a1)\n"
     ]
    },
    {
     "name": "stdout",
     "output_type": "stream",
     "text": [
      "Generating document tfidf representation...\n",
      "Document TFIDF dim:(50000, 25768)\n"
     ]
    }
   ],
   "source": [
    "data_dict = get_process_data('IMDB')\n",
    "doc_raw = data_dict['dataset']['documents']\n",
    "\n",
    "vectorizer = TfidfVectorizer(max_df=1.0, min_df=10, stop_words=\"english\")\n",
    "doc_tfidf = vectorizer.fit_transform(doc_raw).todense()\n",
    "doc_embedding = np.load('./docvec_IMDB_SBERT_768d.npy')\n",
    "\n",
    "# Build word to index and index to word maps\n",
    "word2index = vectorizer.vocabulary_\n",
    "index2word = {}\n",
    "for i in word2index:\n",
    "    index2word[word2index[i]] = i"
   ]
  },
  {
   "cell_type": "code",
   "execution_count": 3,
   "id": "689f9b39",
   "metadata": {},
   "outputs": [
    {
     "data": {
      "application/vnd.jupyter.widget-view+json": {
       "model_id": "3a416aa324ff46e5ba3742c9660c91c4",
       "version_major": 2,
       "version_minor": 0
      },
      "text/plain": [
       "Delete word from raw document::   0%|          | 0/50000 [00:00<?, ?it/s]"
      ]
     },
     "metadata": {},
     "output_type": "display_data"
    }
   ],
   "source": [
    "# Delete word based on vocabulary\n",
    "PATTERN = r\"(?u)\\b\\w\\w+\\b\"\n",
    "vocab_set = set(word2index)\n",
    "def doc_filter(doc_raw, vocab):\n",
    "    doc = re.findall(PATTERN, doc_raw.lower())\n",
    "    return [x for x in doc if x in vocab]\n",
    "doc_list = [doc_filter(doc, vocab_set) for doc in tqdm(doc_raw, desc=\"Delete word from raw document:\")]"
   ]
  },
  {
   "cell_type": "code",
   "execution_count": 4,
   "id": "26e09023",
   "metadata": {},
   "outputs": [],
   "source": [
    "window_size = 5\n",
    "windows = []\n",
    "\n",
    "# Traverse Each Document & Move window on each of them\n",
    "for doc in doc_list:\n",
    "    length = len(doc)\n",
    "    if length <= window_size:\n",
    "        windows.append(doc)\n",
    "    else:\n",
    "        for i in range(length-window_size+1):\n",
    "            window = doc[i: i+window_size]\n",
    "            windows.append(window)"
   ]
  },
  {
   "cell_type": "code",
   "execution_count": 5,
   "id": "4adc8d4c",
   "metadata": {},
   "outputs": [
    {
     "data": {
      "application/vnd.jupyter.widget-view+json": {
       "model_id": "fa0aca554b3d4b60a968be1299ecc488",
       "version_major": 2,
       "version_minor": 0
      },
      "text/plain": [
       "Calculate word pair:   0%|          | 0/5137347 [00:00<?, ?it/s]"
      ]
     },
     "metadata": {},
     "output_type": "display_data"
    }
   ],
   "source": [
    "word_freq = {}\n",
    "word_pair_count = {}\n",
    "for window in tqdm(windows, desc='Calculate word pair: '):\n",
    "    appeared = set()\n",
    "    for i in range(len(window)):\n",
    "        if window[i] not in appeared:\n",
    "            if window[i] in word_freq:\n",
    "                word_freq[window[i]] += 1\n",
    "            else:\n",
    "                word_freq[window[i]] = 1\n",
    "            appeared.add(window[i])\n",
    "        if i != 0:\n",
    "            for j in range(0, i):\n",
    "                word_i = window[i]\n",
    "                word_i_id = word2index[word_i]\n",
    "                word_j = window[j]\n",
    "                word_j_id = word2index[word_j]\n",
    "                if word_i_id == word_j_id:\n",
    "                    continue\n",
    "                word_pair_str = str(word_i_id) + ',' + str(word_j_id)\n",
    "                if word_pair_str in word_pair_count:\n",
    "                    word_pair_count[word_pair_str] += 1\n",
    "                else:\n",
    "                    word_pair_count[word_pair_str] = 1\n",
    "                word_pair_str = str(word_j_id) + ',' + str(word_i_id)\n",
    "                if word_pair_str in word_pair_count:\n",
    "                    word_pair_count[word_pair_str] += 1\n",
    "                else:\n",
    "                    word_pair_count[word_pair_str] = 1\n"
   ]
  },
  {
   "cell_type": "code",
   "execution_count": 6,
   "id": "a6f0c699",
   "metadata": {},
   "outputs": [
    {
     "data": {
      "application/vnd.jupyter.widget-view+json": {
       "model_id": "ded2dc47f8d04a1785e5e0ad8af5c4d8",
       "version_major": 2,
       "version_minor": 0
      },
      "text/plain": [
       "Construct Edge:   0%|          | 0/16114622 [00:00<?, ?it/s]"
      ]
     },
     "metadata": {},
     "output_type": "display_data"
    },
    {
     "name": "stdout",
     "output_type": "stream",
     "text": [
      "# of Node: 25768\n",
      "# of Edge: 1947480\n"
     ]
    }
   ],
   "source": [
    "from math import log\n",
    "row = []\n",
    "col = []\n",
    "edge = []\n",
    "weight = []\n",
    "\n",
    "# pmi as weights\n",
    "\n",
    "num_window = len(windows)\n",
    "\n",
    "for key in tqdm(word_pair_count, desc='Construct Edge: '):\n",
    "    temp = key.split(',')\n",
    "    i = int(temp[0])\n",
    "    j = int(temp[1])\n",
    "    count = word_pair_count[key]\n",
    "    word_freq_i = word_freq[index2word[i]]\n",
    "    word_freq_j = word_freq[index2word[j]]\n",
    "    pmi = log((1.0 * count / num_window) /\n",
    "              (1.0 * word_freq_i * word_freq_j/(num_window * num_window)))\n",
    "    if pmi <= 0:\n",
    "        continue\n",
    "    row.append(i)\n",
    "    col.append(j)\n",
    "    if count >= 10:\n",
    "        edge.append([i, j])\n",
    "        edge.append([j, i])\n",
    "    weight.append(pmi)\n",
    "\n",
    "print('# of Node: {}\\n# of Edge: {}'.format(len(word2index), len(edge)))"
   ]
  },
  {
   "cell_type": "code",
   "execution_count": 7,
   "id": "3bac466b",
   "metadata": {},
   "outputs": [],
   "source": [
    "def MythNet(y_pred, y_true, eps=1e-10):\n",
    "    # (1) y_pred: the decoded vector. \n",
    "    #     ex: tfidf score of each word in certain document.\n",
    "    # (2) y_true: the vector before encoded. \n",
    "    #     ex: same as above.\n",
    "    # (3) eps: a small number to avoid error when computing log operation. \n",
    "    #     ex: log0 will cause error while log(0+eps) will not.\n",
    "\n",
    "    y_pred = y_pred.clone()\n",
    "    y_true = y_true.clone()\n",
    "\n",
    "    y_pred = torch.sigmoid(y_pred) \n",
    "    y_pred = torch.nn.functional.normalize(y_pred, dim=1)\n",
    "    # y_true = torch.nn.functional.softmax(y_true, dim=1) \n",
    "    y_true = torch.nn.functional.normalize(y_true, dim=1)\n",
    "    pred = y_pred + eps\n",
    "    pred_log = torch.log(pred)\n",
    "\n",
    "    return torch.mean(torch.sum(-y_true * pred_log, dim=1))\n",
    "    \n",
    "class IDEDataset(Dataset):\n",
    "    def __init__(self, doc_embedding, doc_tfidf):\n",
    "        assert len(doc_embedding) == len(doc_tfidf)\n",
    "        \n",
    "        self.doc_embedding = torch.FloatTensor(doc_embedding)\n",
    "        self.doc_tfidf = torch.FloatTensor(doc_tfidf)\n",
    "    \n",
    "    def __getitem__(self, idx):\n",
    "        return self.doc_embedding[idx], self.doc_tfidf[idx]\n",
    "    \n",
    "    def __len__(self):\n",
    "        return len(doc_embedding)"
   ]
  },
  {
   "cell_type": "code",
   "execution_count": 8,
   "id": "30fe897a",
   "metadata": {},
   "outputs": [],
   "source": [
    "# Pytorch Geometric Package\n",
    "class LinearEncoder(nn.Module):\n",
    "    def __init__(self, input_dim, output_dim):\n",
    "        super().__init__()\n",
    "        self.conv = GCNConv(input_dim, output_dim)\n",
    "    def forward(self, x, edge_index):\n",
    "        return self.conv(x, edge_index)\n",
    "\n",
    "class VariationalGCNEncoder(torch.nn.Module):\n",
    "    def __init__(self, in_channels, out_channels):\n",
    "        super().__init__()\n",
    "        self.conv1 = GCNConv(in_channels, 2 * out_channels)\n",
    "        self.conv_mu = GCNConv(2 * out_channels, out_channels)\n",
    "        self.conv_logstd = GCNConv(2 * out_channels, out_channels)\n",
    "\n",
    "    def forward(self, x, edge_index):\n",
    "        x = self.conv1(x, edge_index).relu()\n",
    "        return self.conv_mu(x, edge_index), self.conv_logstd(x, edge_index)"
   ]
  },
  {
   "cell_type": "code",
   "execution_count": 9,
   "id": "b12f6eab",
   "metadata": {},
   "outputs": [],
   "source": [
    "class GNN(nn.Module):\n",
    "    def __init__(self, vocab_size, output_dim):\n",
    "        super().__init__()\n",
    "        self.word_embedding = nn.Parameter(torch.randn(vocab_size, output_dim))\n",
    "        self.ae = VGAE(VariationalGCNEncoder(output_dim, output_dim))\n",
    "        \n",
    "    def forward(self,edge_index):\n",
    "        encoded = self.ae.encode(self.word_embedding, edge_index)\n",
    "        loss = self.ae.recon_loss(encoded, edge_index)\n",
    "        return loss\n",
    "    \n",
    "    def get_word_embedding(self):\n",
    "        return self.word_embedding"
   ]
  },
  {
   "cell_type": "code",
   "execution_count": 10,
   "id": "b5a4817e",
   "metadata": {},
   "outputs": [],
   "source": [
    "class Decoder(nn.Module):\n",
    "    def __init__(self, input_dim, output_dim):\n",
    "        super().__init__()\n",
    "        self.decode = nn.Sequential(\n",
    "            nn.Linear(input_dim, input_dim*2),\n",
    "            nn.BatchNorm1d(input_dim*2),\n",
    "            nn.Tanh(),\n",
    "            nn.Linear(input_dim*2, input_dim*4),\n",
    "            nn.BatchNorm1d(input_dim*4),\n",
    "            nn.Tanh(),\n",
    "            nn.Linear(input_dim*4, output_dim),\n",
    "            nn.BatchNorm1d(output_dim),\n",
    "            nn.Sigmoid(),\n",
    "        )\n",
    "    def forward(self, x):\n",
    "        return self.decode(x)       "
   ]
  },
  {
   "cell_type": "code",
   "execution_count": 48,
   "id": "87329613",
   "metadata": {},
   "outputs": [
    {
     "name": "stdout",
     "output_type": "stream",
     "text": [
      "Using cuda 0 for training...\n"
     ]
    }
   ],
   "source": [
    "device = f\"{get_freer_gpu()}\"\n",
    "EPOCH = 500\n",
    "batch_size = 128\n",
    "lr= 1e-4\n",
    "vocab_size = len(word2index)\n",
    "feature_dim = 128\n",
    "doc_embed_dim = 768\n",
    "config = {\n",
    "    \"topk\":[10,30,50]\n",
    "}"
   ]
  },
  {
   "cell_type": "code",
   "execution_count": 49,
   "id": "320888dd",
   "metadata": {},
   "outputs": [],
   "source": [
    "dataset = IDEDataset(doc_embedding, doc_tfidf)\n",
    "train_length = int(len(dataset)*0.8)\n",
    "valid_length = int(len(dataset)*0.2)\n",
    "\n",
    "full_loader = DataLoader(dataset, batch_size=128)\n",
    "train_dataset, valid_dataset = random_split(dataset, lengths=[train_length, valid_length],generator=torch.Generator().manual_seed(42))\n",
    "train_loader = DataLoader(train_dataset, batch_size=batch_size, shuffle=True, pin_memory=True)\n",
    "valid_loader = DataLoader(valid_dataset, batch_size=batch_size, shuffle=False, pin_memory=True)"
   ]
  },
  {
   "cell_type": "code",
   "execution_count": 50,
   "id": "7412b45a",
   "metadata": {},
   "outputs": [],
   "source": [
    "autoencoder = GNN(vocab_size, feature_dim).to(device)\n",
    "decoder = Decoder(doc_embed_dim, feature_dim).to(device)\n",
    "optimizer_ae = torch.optim.Adam(autoencoder.parameters(), lr = lr)\n",
    "optimizer_de = torch.optim.Adam(decoder.parameters(), lr = lr)\n",
    "\n",
    "edge_index = torch.tensor(edge, dtype=torch.long).to(device)\n",
    "# node = torch.nn.Parameter(torch.tensor(torch.randn(25768, 8), dtype=torch.float)).to(device)\n",
    "# graph = Data(x=node, edge_index=edge_index.t().contiguous()).to(device)"
   ]
  },
  {
   "cell_type": "code",
   "execution_count": 51,
   "id": "709ab126",
   "metadata": {},
   "outputs": [],
   "source": [
    "def evaluate_Decoder(decoder, autoencoder, data_loader):\n",
    "    results = defaultdict(list)\n",
    "    decoder.eval()\n",
    "    autoencoder.eval()\n",
    "    \n",
    "    with torch.no_grad():\n",
    "        # predict all data\n",
    "        for batch, (doc_emb, doc_label) in enumerate(data_loader):\n",
    "            doc_emb, doc_label= doc_emb.to(device), doc_label.to(device)  \n",
    "            doc_label = torch.nn.functional.normalize(doc_label, dim=1)\n",
    "            # pred = torch.nn.functional.normalize(decoder(doc_emb), dim=1)\n",
    "            pred = torch.nn.functional.normalize(torch.sigmoid(torch.matmul(decoder(doc_emb), torch.transpose(autoencoder.get_word_embedding(), 0, 1))), dim=1)\n",
    "\n",
    "            # Precision\n",
    "            precision_scores = retrieval_precision_all(pred, doc_label, k=config[\"topk\"])\n",
    "            for k, v in precision_scores.items():\n",
    "                results['precision@{}'.format(k)].append(v)\n",
    "\n",
    "            # NDCG\n",
    "            ndcg_scores = retrieval_normalized_dcg_all(pred, doc_label, k=config[\"topk\"])\n",
    "            for k, v in ndcg_scores.items():\n",
    "                results['ndcg@{}'.format(k)].append(v)\n",
    "\n",
    "        for k in results:\n",
    "            results[k] = np.mean(results[k])\n",
    "\n",
    "    return results"
   ]
  },
  {
   "cell_type": "code",
   "execution_count": 52,
   "id": "8812695f",
   "metadata": {
    "scrolled": true
   },
   "outputs": [
    {
     "name": "stdout",
     "output_type": "stream",
     "text": [
      "Parameter containing:\n",
      "tensor([[-0.2307, -1.4462,  0.9185,  ...,  0.9183,  0.4511, -0.5038],\n",
      "        [ 1.2987, -0.4412, -0.8500,  ..., -0.9998, -0.0060,  0.2104],\n",
      "        [-1.2789,  0.2494, -0.5027,  ..., -1.1729,  1.0544,  0.1979],\n",
      "        ...,\n",
      "        [ 1.5124, -1.5924, -1.1022,  ..., -0.1607,  0.4827,  1.1926],\n",
      "        [ 0.7896, -1.4215, -0.3270,  ..., -0.8665, -0.5517,  0.1632],\n",
      "        [-0.2240,  1.8189, -1.2375,  ...,  0.3407, -0.1206,  1.2510]],\n",
      "       device='cuda:0', requires_grad=True)\n"
     ]
    },
    {
     "data": {
      "application/vnd.jupyter.widget-view+json": {
       "model_id": "8b35e6d1b41d4f16b62ab58baeb7990d",
       "version_major": 2,
       "version_minor": 0
      },
      "text/plain": [
       "Training:   0%|          | 0/313 [00:00<?, ?it/s]"
      ]
     },
     "metadata": {},
     "output_type": "display_data"
    },
    {
     "name": "stdout",
     "output_type": "stream",
     "text": [
      "[Epoch 01]\n",
      "precision@10:0.0035\n",
      "precision@30:0.0044\n",
      "precision@50:0.0050\n",
      "ndcg@10:0.0014\n",
      "ndcg@30:0.0021\n",
      "ndcg@50:0.0027\n",
      "ndcg@all:0.2765\n"
     ]
    },
    {
     "data": {
      "application/vnd.jupyter.widget-view+json": {
       "model_id": "0b4bd96d5b0f4ed0b43f443817e7feb8",
       "version_major": 2,
       "version_minor": 0
      },
      "text/plain": [
       "Training:   0%|          | 0/313 [00:00<?, ?it/s]"
      ]
     },
     "metadata": {},
     "output_type": "display_data"
    },
    {
     "name": "stdout",
     "output_type": "stream",
     "text": [
      "[Epoch 02]\n",
      "precision@10:0.0054\n",
      "precision@30:0.0088\n",
      "precision@50:0.0103\n",
      "ndcg@10:0.0019\n",
      "ndcg@30:0.0035\n",
      "ndcg@50:0.0047\n",
      "ndcg@all:0.2896\n"
     ]
    },
    {
     "data": {
      "application/vnd.jupyter.widget-view+json": {
       "model_id": "d69181f36cfe459c81743e0292996d78",
       "version_major": 2,
       "version_minor": 0
      },
      "text/plain": [
       "Training:   0%|          | 0/313 [00:00<?, ?it/s]"
      ]
     },
     "metadata": {},
     "output_type": "display_data"
    },
    {
     "name": "stdout",
     "output_type": "stream",
     "text": [
      "[Epoch 03]\n",
      "precision@10:0.0096\n",
      "precision@30:0.0183\n",
      "precision@50:0.0213\n",
      "ndcg@10:0.0030\n",
      "ndcg@30:0.0065\n",
      "ndcg@50:0.0089\n",
      "ndcg@all:0.3069\n"
     ]
    },
    {
     "data": {
      "application/vnd.jupyter.widget-view+json": {
       "model_id": "e06cc060d7f94367a181d9818fb67edf",
       "version_major": 2,
       "version_minor": 0
      },
      "text/plain": [
       "Training:   0%|          | 0/313 [00:00<?, ?it/s]"
      ]
     },
     "metadata": {},
     "output_type": "display_data"
    },
    {
     "name": "stdout",
     "output_type": "stream",
     "text": [
      "[Epoch 04]\n",
      "precision@10:0.0166\n",
      "precision@30:0.0348\n",
      "precision@50:0.0352\n",
      "ndcg@10:0.0049\n",
      "ndcg@30:0.0114\n",
      "ndcg@50:0.0143\n",
      "ndcg@all:0.3233\n"
     ]
    },
    {
     "data": {
      "application/vnd.jupyter.widget-view+json": {
       "model_id": "23709073347d4fbc8408012579b8db73",
       "version_major": 2,
       "version_minor": 0
      },
      "text/plain": [
       "Training:   0%|          | 0/313 [00:00<?, ?it/s]"
      ]
     },
     "metadata": {},
     "output_type": "display_data"
    },
    {
     "name": "stdout",
     "output_type": "stream",
     "text": [
      "[Epoch 05]\n",
      "precision@10:0.0281\n",
      "precision@30:0.0487\n",
      "precision@50:0.0435\n",
      "ndcg@10:0.0074\n",
      "ndcg@30:0.0156\n",
      "ndcg@50:0.0182\n",
      "ndcg@all:0.3359\n"
     ]
    },
    {
     "data": {
      "application/vnd.jupyter.widget-view+json": {
       "model_id": "6a5871beb3544a6ca2038a624adbe6cb",
       "version_major": 2,
       "version_minor": 0
      },
      "text/plain": [
       "Training:   0%|          | 0/313 [00:00<?, ?it/s]"
      ]
     },
     "metadata": {},
     "output_type": "display_data"
    },
    {
     "name": "stdout",
     "output_type": "stream",
     "text": [
      "[Epoch 06]\n",
      "precision@10:0.0424\n",
      "precision@30:0.0564\n",
      "precision@50:0.0528\n",
      "ndcg@10:0.0108\n",
      "ndcg@30:0.0188\n",
      "ndcg@50:0.0225\n",
      "ndcg@all:0.3452\n"
     ]
    },
    {
     "data": {
      "application/vnd.jupyter.widget-view+json": {
       "model_id": "2a08fc985ade430fa9a90ca444cd82ec",
       "version_major": 2,
       "version_minor": 0
      },
      "text/plain": [
       "Training:   0%|          | 0/313 [00:00<?, ?it/s]"
      ]
     },
     "metadata": {},
     "output_type": "display_data"
    },
    {
     "name": "stdout",
     "output_type": "stream",
     "text": [
      "[Epoch 07]\n",
      "precision@10:0.0482\n",
      "precision@30:0.0632\n",
      "precision@50:0.0624\n",
      "ndcg@10:0.0125\n",
      "ndcg@30:0.0214\n",
      "ndcg@50:0.0262\n",
      "ndcg@all:0.3517\n"
     ]
    },
    {
     "data": {
      "application/vnd.jupyter.widget-view+json": {
       "model_id": "f88289946a704b67a57c2be0bff368a5",
       "version_major": 2,
       "version_minor": 0
      },
      "text/plain": [
       "Training:   0%|          | 0/313 [00:00<?, ?it/s]"
      ]
     },
     "metadata": {},
     "output_type": "display_data"
    },
    {
     "name": "stdout",
     "output_type": "stream",
     "text": [
      "[Epoch 08]\n",
      "precision@10:0.0570\n",
      "precision@30:0.0676\n",
      "precision@50:0.0680\n",
      "ndcg@10:0.0145\n",
      "ndcg@30:0.0230\n",
      "ndcg@50:0.0286\n",
      "ndcg@all:0.3563\n"
     ]
    },
    {
     "data": {
      "application/vnd.jupyter.widget-view+json": {
       "model_id": "92ecf98dcfdf4c1fa2f9d33a0f54187b",
       "version_major": 2,
       "version_minor": 0
      },
      "text/plain": [
       "Training:   0%|          | 0/313 [00:00<?, ?it/s]"
      ]
     },
     "metadata": {},
     "output_type": "display_data"
    },
    {
     "name": "stdout",
     "output_type": "stream",
     "text": [
      "[Epoch 09]\n",
      "precision@10:0.0630\n",
      "precision@30:0.0698\n",
      "precision@50:0.0698\n",
      "ndcg@10:0.0160\n",
      "ndcg@30:0.0240\n",
      "ndcg@50:0.0296\n",
      "ndcg@all:0.3590\n"
     ]
    },
    {
     "data": {
      "application/vnd.jupyter.widget-view+json": {
       "model_id": "c0b7461bb67247d08a5476b03ffb4e61",
       "version_major": 2,
       "version_minor": 0
      },
      "text/plain": [
       "Training:   0%|          | 0/313 [00:00<?, ?it/s]"
      ]
     },
     "metadata": {},
     "output_type": "display_data"
    },
    {
     "name": "stdout",
     "output_type": "stream",
     "text": [
      "[Epoch 10]\n",
      "precision@10:0.0677\n",
      "precision@30:0.0735\n",
      "precision@50:0.0728\n",
      "ndcg@10:0.0165\n",
      "ndcg@30:0.0250\n",
      "ndcg@50:0.0307\n",
      "ndcg@all:0.3609\n"
     ]
    },
    {
     "data": {
      "application/vnd.jupyter.widget-view+json": {
       "model_id": "c0b60f46cf504b82907882ccd4d52e54",
       "version_major": 2,
       "version_minor": 0
      },
      "text/plain": [
       "Training:   0%|          | 0/313 [00:00<?, ?it/s]"
      ]
     },
     "metadata": {},
     "output_type": "display_data"
    },
    {
     "name": "stdout",
     "output_type": "stream",
     "text": [
      "[Epoch 11]\n",
      "precision@10:0.0735\n",
      "precision@30:0.0764\n",
      "precision@50:0.0745\n",
      "ndcg@10:0.0180\n",
      "ndcg@30:0.0262\n",
      "ndcg@50:0.0317\n",
      "ndcg@all:0.3625\n"
     ]
    },
    {
     "data": {
      "application/vnd.jupyter.widget-view+json": {
       "model_id": "82668c776a7b4b469d7b8879fd7005ff",
       "version_major": 2,
       "version_minor": 0
      },
      "text/plain": [
       "Training:   0%|          | 0/313 [00:00<?, ?it/s]"
      ]
     },
     "metadata": {},
     "output_type": "display_data"
    },
    {
     "name": "stdout",
     "output_type": "stream",
     "text": [
      "[Epoch 12]\n",
      "precision@10:0.0769\n",
      "precision@30:0.0784\n",
      "precision@50:0.0760\n",
      "ndcg@10:0.0184\n",
      "ndcg@30:0.0267\n",
      "ndcg@50:0.0322\n",
      "ndcg@all:0.3639\n"
     ]
    },
    {
     "data": {
      "application/vnd.jupyter.widget-view+json": {
       "model_id": "70f21ff7d5544427bafb37d6a3642d38",
       "version_major": 2,
       "version_minor": 0
      },
      "text/plain": [
       "Training:   0%|          | 0/313 [00:00<?, ?it/s]"
      ]
     },
     "metadata": {},
     "output_type": "display_data"
    },
    {
     "name": "stdout",
     "output_type": "stream",
     "text": [
      "[Epoch 13]\n",
      "precision@10:0.0830\n",
      "precision@30:0.0809\n",
      "precision@50:0.0780\n",
      "ndcg@10:0.0199\n",
      "ndcg@30:0.0277\n",
      "ndcg@50:0.0333\n",
      "ndcg@all:0.3650\n"
     ]
    },
    {
     "data": {
      "application/vnd.jupyter.widget-view+json": {
       "model_id": "eb54c6c9442d4c30bada7606932ea204",
       "version_major": 2,
       "version_minor": 0
      },
      "text/plain": [
       "Training:   0%|          | 0/313 [00:00<?, ?it/s]"
      ]
     },
     "metadata": {},
     "output_type": "display_data"
    },
    {
     "name": "stdout",
     "output_type": "stream",
     "text": [
      "[Epoch 14]\n",
      "precision@10:0.0855\n",
      "precision@30:0.0827\n",
      "precision@50:0.0796\n",
      "ndcg@10:0.0204\n",
      "ndcg@30:0.0284\n",
      "ndcg@50:0.0341\n",
      "ndcg@all:0.3658\n"
     ]
    },
    {
     "data": {
      "application/vnd.jupyter.widget-view+json": {
       "model_id": "5d39d9a12292480686a7e1bcbb6a1f2e",
       "version_major": 2,
       "version_minor": 0
      },
      "text/plain": [
       "Training:   0%|          | 0/313 [00:00<?, ?it/s]"
      ]
     },
     "metadata": {},
     "output_type": "display_data"
    },
    {
     "name": "stdout",
     "output_type": "stream",
     "text": [
      "[Epoch 15]\n",
      "precision@10:0.0890\n",
      "precision@30:0.0840\n",
      "precision@50:0.0813\n",
      "ndcg@10:0.0213\n",
      "ndcg@30:0.0291\n",
      "ndcg@50:0.0348\n",
      "ndcg@all:0.3664\n"
     ]
    },
    {
     "data": {
      "application/vnd.jupyter.widget-view+json": {
       "model_id": "d523ced50f5d4c869a28d541ac5af137",
       "version_major": 2,
       "version_minor": 0
      },
      "text/plain": [
       "Training:   0%|          | 0/313 [00:00<?, ?it/s]"
      ]
     },
     "metadata": {},
     "output_type": "display_data"
    },
    {
     "name": "stdout",
     "output_type": "stream",
     "text": [
      "[Epoch 16]\n",
      "precision@10:0.0911\n",
      "precision@30:0.0850\n",
      "precision@50:0.0826\n",
      "ndcg@10:0.0225\n",
      "ndcg@30:0.0299\n",
      "ndcg@50:0.0357\n",
      "ndcg@all:0.3676\n"
     ]
    },
    {
     "data": {
      "application/vnd.jupyter.widget-view+json": {
       "model_id": "5692801cbe83408db2b253ba284aff45",
       "version_major": 2,
       "version_minor": 0
      },
      "text/plain": [
       "Training:   0%|          | 0/313 [00:00<?, ?it/s]"
      ]
     },
     "metadata": {},
     "output_type": "display_data"
    },
    {
     "name": "stdout",
     "output_type": "stream",
     "text": [
      "[Epoch 17]\n",
      "precision@10:0.0946\n",
      "precision@30:0.0858\n",
      "precision@50:0.0838\n",
      "ndcg@10:0.0229\n",
      "ndcg@30:0.0302\n",
      "ndcg@50:0.0361\n",
      "ndcg@all:0.3682\n"
     ]
    },
    {
     "data": {
      "application/vnd.jupyter.widget-view+json": {
       "model_id": "be4b915e4a1d469bb015be79650415a9",
       "version_major": 2,
       "version_minor": 0
      },
      "text/plain": [
       "Training:   0%|          | 0/313 [00:00<?, ?it/s]"
      ]
     },
     "metadata": {},
     "output_type": "display_data"
    },
    {
     "name": "stdout",
     "output_type": "stream",
     "text": [
      "[Epoch 18]\n",
      "precision@10:0.0976\n",
      "precision@30:0.0886\n",
      "precision@50:0.0854\n",
      "ndcg@10:0.0236\n",
      "ndcg@30:0.0313\n",
      "ndcg@50:0.0370\n",
      "ndcg@all:0.3681\n"
     ]
    },
    {
     "data": {
      "application/vnd.jupyter.widget-view+json": {
       "model_id": "062417af4fca49cc81019f9cf0978c1e",
       "version_major": 2,
       "version_minor": 0
      },
      "text/plain": [
       "Training:   0%|          | 0/313 [00:00<?, ?it/s]"
      ]
     },
     "metadata": {},
     "output_type": "display_data"
    },
    {
     "name": "stdout",
     "output_type": "stream",
     "text": [
      "[Epoch 19]\n",
      "precision@10:0.0966\n",
      "precision@30:0.0885\n",
      "precision@50:0.0865\n",
      "ndcg@10:0.0244\n",
      "ndcg@30:0.0316\n",
      "ndcg@50:0.0377\n",
      "ndcg@all:0.3700\n"
     ]
    },
    {
     "data": {
      "application/vnd.jupyter.widget-view+json": {
       "model_id": "e0f2e4ba67d54d0294c2a860e77c885d",
       "version_major": 2,
       "version_minor": 0
      },
      "text/plain": [
       "Training:   0%|          | 0/313 [00:00<?, ?it/s]"
      ]
     },
     "metadata": {},
     "output_type": "display_data"
    },
    {
     "name": "stdout",
     "output_type": "stream",
     "text": [
      "[Epoch 20]\n",
      "precision@10:0.0989\n",
      "precision@30:0.0914\n",
      "precision@50:0.0879\n",
      "ndcg@10:0.0248\n",
      "ndcg@30:0.0324\n",
      "ndcg@50:0.0383\n",
      "ndcg@all:0.3701\n"
     ]
    },
    {
     "data": {
      "application/vnd.jupyter.widget-view+json": {
       "model_id": "a382c2a7f30d4a4faa814799a55347d3",
       "version_major": 2,
       "version_minor": 0
      },
      "text/plain": [
       "Training:   0%|          | 0/313 [00:00<?, ?it/s]"
      ]
     },
     "metadata": {},
     "output_type": "display_data"
    },
    {
     "name": "stdout",
     "output_type": "stream",
     "text": [
      "[Epoch 21]\n",
      "precision@10:0.0993\n",
      "precision@30:0.0930\n",
      "precision@50:0.0896\n",
      "ndcg@10:0.0247\n",
      "ndcg@30:0.0327\n",
      "ndcg@50:0.0388\n",
      "ndcg@all:0.3706\n"
     ]
    },
    {
     "data": {
      "application/vnd.jupyter.widget-view+json": {
       "model_id": "14ea748742854e179aad66954aa13f83",
       "version_major": 2,
       "version_minor": 0
      },
      "text/plain": [
       "Training:   0%|          | 0/313 [00:00<?, ?it/s]"
      ]
     },
     "metadata": {},
     "output_type": "display_data"
    },
    {
     "name": "stdout",
     "output_type": "stream",
     "text": [
      "[Epoch 22]\n",
      "precision@10:0.0992\n",
      "precision@30:0.0934\n",
      "precision@50:0.0913\n",
      "ndcg@10:0.0251\n",
      "ndcg@30:0.0331\n",
      "ndcg@50:0.0396\n",
      "ndcg@all:0.3713\n"
     ]
    },
    {
     "data": {
      "application/vnd.jupyter.widget-view+json": {
       "model_id": "4cb7d8a1e9f04d6d9e1ed291b1beae22",
       "version_major": 2,
       "version_minor": 0
      },
      "text/plain": [
       "Training:   0%|          | 0/313 [00:00<?, ?it/s]"
      ]
     },
     "metadata": {},
     "output_type": "display_data"
    },
    {
     "name": "stdout",
     "output_type": "stream",
     "text": [
      "[Epoch 23]\n",
      "precision@10:0.1060\n",
      "precision@30:0.0957\n",
      "precision@50:0.0931\n",
      "ndcg@10:0.0264\n",
      "ndcg@30:0.0340\n",
      "ndcg@50:0.0404\n",
      "ndcg@all:0.3713\n"
     ]
    },
    {
     "data": {
      "application/vnd.jupyter.widget-view+json": {
       "model_id": "359626dedfea48e88f0cfb09cac92921",
       "version_major": 2,
       "version_minor": 0
      },
      "text/plain": [
       "Training:   0%|          | 0/313 [00:00<?, ?it/s]"
      ]
     },
     "metadata": {},
     "output_type": "display_data"
    },
    {
     "name": "stdout",
     "output_type": "stream",
     "text": [
      "[Epoch 24]\n",
      "precision@10:0.1047\n",
      "precision@30:0.0969\n",
      "precision@50:0.0949\n",
      "ndcg@10:0.0267\n",
      "ndcg@30:0.0346\n",
      "ndcg@50:0.0413\n",
      "ndcg@all:0.3711\n"
     ]
    },
    {
     "data": {
      "application/vnd.jupyter.widget-view+json": {
       "model_id": "f122d0a8936848478cd55306a3e602ed",
       "version_major": 2,
       "version_minor": 0
      },
      "text/plain": [
       "Training:   0%|          | 0/313 [00:00<?, ?it/s]"
      ]
     },
     "metadata": {},
     "output_type": "display_data"
    },
    {
     "name": "stdout",
     "output_type": "stream",
     "text": [
      "[Epoch 25]\n",
      "precision@10:0.1062\n",
      "precision@30:0.0986\n",
      "precision@50:0.0964\n",
      "ndcg@10:0.0273\n",
      "ndcg@30:0.0353\n",
      "ndcg@50:0.0421\n",
      "ndcg@all:0.3723\n"
     ]
    },
    {
     "data": {
      "application/vnd.jupyter.widget-view+json": {
       "model_id": "7aa7b1ffff3a4da5a028d964559574e0",
       "version_major": 2,
       "version_minor": 0
      },
      "text/plain": [
       "Training:   0%|          | 0/313 [00:00<?, ?it/s]"
      ]
     },
     "metadata": {},
     "output_type": "display_data"
    },
    {
     "name": "stdout",
     "output_type": "stream",
     "text": [
      "[Epoch 26]\n",
      "precision@10:0.1076\n",
      "precision@30:0.1007\n",
      "precision@50:0.0981\n",
      "ndcg@10:0.0277\n",
      "ndcg@30:0.0359\n",
      "ndcg@50:0.0427\n",
      "ndcg@all:0.3718\n"
     ]
    },
    {
     "data": {
      "application/vnd.jupyter.widget-view+json": {
       "model_id": "f1079d075eda412fb1080ddf2108ecb3",
       "version_major": 2,
       "version_minor": 0
      },
      "text/plain": [
       "Training:   0%|          | 0/313 [00:00<?, ?it/s]"
      ]
     },
     "metadata": {},
     "output_type": "display_data"
    },
    {
     "name": "stdout",
     "output_type": "stream",
     "text": [
      "[Epoch 27]\n",
      "precision@10:0.1104\n",
      "precision@30:0.1030\n",
      "precision@50:0.1003\n",
      "ndcg@10:0.0287\n",
      "ndcg@30:0.0370\n",
      "ndcg@50:0.0438\n",
      "ndcg@all:0.3730\n"
     ]
    },
    {
     "data": {
      "application/vnd.jupyter.widget-view+json": {
       "model_id": "ba28989e33454d45a2a0296b7309e6c6",
       "version_major": 2,
       "version_minor": 0
      },
      "text/plain": [
       "Training:   0%|          | 0/313 [00:00<?, ?it/s]"
      ]
     },
     "metadata": {},
     "output_type": "display_data"
    },
    {
     "name": "stdout",
     "output_type": "stream",
     "text": [
      "[Epoch 28]\n",
      "precision@10:0.1129\n",
      "precision@30:0.1045\n",
      "precision@50:0.1021\n",
      "ndcg@10:0.0293\n",
      "ndcg@30:0.0375\n",
      "ndcg@50:0.0444\n",
      "ndcg@all:0.3734\n"
     ]
    },
    {
     "data": {
      "application/vnd.jupyter.widget-view+json": {
       "model_id": "794b6deb8c2049308e0c71d2b59a3e58",
       "version_major": 2,
       "version_minor": 0
      },
      "text/plain": [
       "Training:   0%|          | 0/313 [00:00<?, ?it/s]"
      ]
     },
     "metadata": {},
     "output_type": "display_data"
    },
    {
     "name": "stdout",
     "output_type": "stream",
     "text": [
      "[Epoch 29]\n",
      "precision@10:0.1165\n",
      "precision@30:0.1061\n",
      "precision@50:0.1053\n",
      "ndcg@10:0.0295\n",
      "ndcg@30:0.0378\n",
      "ndcg@50:0.0454\n",
      "ndcg@all:0.3737\n"
     ]
    },
    {
     "data": {
      "application/vnd.jupyter.widget-view+json": {
       "model_id": "6ed7fefc427f4d68b6b50473af8ec695",
       "version_major": 2,
       "version_minor": 0
      },
      "text/plain": [
       "Training:   0%|          | 0/313 [00:00<?, ?it/s]"
      ]
     },
     "metadata": {},
     "output_type": "display_data"
    },
    {
     "name": "stdout",
     "output_type": "stream",
     "text": [
      "[Epoch 30]\n",
      "precision@10:0.1170\n",
      "precision@30:0.1079\n",
      "precision@50:0.1078\n",
      "ndcg@10:0.0305\n",
      "ndcg@30:0.0389\n",
      "ndcg@50:0.0468\n",
      "ndcg@all:0.3742\n"
     ]
    },
    {
     "data": {
      "application/vnd.jupyter.widget-view+json": {
       "model_id": "89f0bb7488204d389e58ebd6ccb0510b",
       "version_major": 2,
       "version_minor": 0
      },
      "text/plain": [
       "Training:   0%|          | 0/313 [00:00<?, ?it/s]"
      ]
     },
     "metadata": {},
     "output_type": "display_data"
    },
    {
     "name": "stdout",
     "output_type": "stream",
     "text": [
      "[Epoch 31]\n",
      "precision@10:0.1206\n",
      "precision@30:0.1093\n",
      "precision@50:0.1099\n",
      "ndcg@10:0.0310\n",
      "ndcg@30:0.0393\n",
      "ndcg@50:0.0476\n",
      "ndcg@all:0.3735\n"
     ]
    },
    {
     "data": {
      "application/vnd.jupyter.widget-view+json": {
       "model_id": "460ffc4338cb4e4e80ce7846fecb1f0a",
       "version_major": 2,
       "version_minor": 0
      },
      "text/plain": [
       "Training:   0%|          | 0/313 [00:00<?, ?it/s]"
      ]
     },
     "metadata": {},
     "output_type": "display_data"
    },
    {
     "name": "stdout",
     "output_type": "stream",
     "text": [
      "[Epoch 32]\n",
      "precision@10:0.1221\n",
      "precision@30:0.1117\n",
      "precision@50:0.1133\n",
      "ndcg@10:0.0315\n",
      "ndcg@30:0.0401\n",
      "ndcg@50:0.0490\n",
      "ndcg@all:0.3749\n"
     ]
    },
    {
     "data": {
      "application/vnd.jupyter.widget-view+json": {
       "model_id": "af17d45bc5334e0d9a640e62d0ca5848",
       "version_major": 2,
       "version_minor": 0
      },
      "text/plain": [
       "Training:   0%|          | 0/313 [00:00<?, ?it/s]"
      ]
     },
     "metadata": {},
     "output_type": "display_data"
    },
    {
     "name": "stdout",
     "output_type": "stream",
     "text": [
      "[Epoch 33]\n",
      "precision@10:0.1215\n",
      "precision@30:0.1126\n",
      "precision@50:0.1174\n",
      "ndcg@10:0.0315\n",
      "ndcg@30:0.0403\n",
      "ndcg@50:0.0505\n",
      "ndcg@all:0.3744\n"
     ]
    },
    {
     "data": {
      "application/vnd.jupyter.widget-view+json": {
       "model_id": "07691479023c4588bec8572f78fa9c68",
       "version_major": 2,
       "version_minor": 0
      },
      "text/plain": [
       "Training:   0%|          | 0/313 [00:00<?, ?it/s]"
      ]
     },
     "metadata": {},
     "output_type": "display_data"
    },
    {
     "name": "stdout",
     "output_type": "stream",
     "text": [
      "[Epoch 34]\n",
      "precision@10:0.1245\n",
      "precision@30:0.1144\n",
      "precision@50:0.1197\n",
      "ndcg@10:0.0323\n",
      "ndcg@30:0.0411\n",
      "ndcg@50:0.0519\n",
      "ndcg@all:0.3752\n"
     ]
    },
    {
     "data": {
      "application/vnd.jupyter.widget-view+json": {
       "model_id": "f1456530c6704373bf2664f53a9787b4",
       "version_major": 2,
       "version_minor": 0
      },
      "text/plain": [
       "Training:   0%|          | 0/313 [00:00<?, ?it/s]"
      ]
     },
     "metadata": {},
     "output_type": "display_data"
    },
    {
     "name": "stdout",
     "output_type": "stream",
     "text": [
      "[Epoch 35]\n",
      "precision@10:0.1251\n",
      "precision@30:0.1173\n",
      "precision@50:0.1232\n",
      "ndcg@10:0.0332\n",
      "ndcg@30:0.0425\n",
      "ndcg@50:0.0538\n",
      "ndcg@all:0.3760\n"
     ]
    },
    {
     "data": {
      "application/vnd.jupyter.widget-view+json": {
       "model_id": "79e66728a3c749658be489451cf5fc42",
       "version_major": 2,
       "version_minor": 0
      },
      "text/plain": [
       "Training:   0%|          | 0/313 [00:00<?, ?it/s]"
      ]
     },
     "metadata": {},
     "output_type": "display_data"
    },
    {
     "name": "stdout",
     "output_type": "stream",
     "text": [
      "[Epoch 36]\n",
      "precision@10:0.1272\n",
      "precision@30:0.1199\n",
      "precision@50:0.1269\n",
      "ndcg@10:0.0334\n",
      "ndcg@30:0.0432\n",
      "ndcg@50:0.0556\n",
      "ndcg@all:0.3761\n"
     ]
    },
    {
     "data": {
      "application/vnd.jupyter.widget-view+json": {
       "model_id": "bd43f9bbd4e74de58946743ad40141cc",
       "version_major": 2,
       "version_minor": 0
      },
      "text/plain": [
       "Training:   0%|          | 0/313 [00:00<?, ?it/s]"
      ]
     },
     "metadata": {},
     "output_type": "display_data"
    },
    {
     "name": "stdout",
     "output_type": "stream",
     "text": [
      "[Epoch 37]\n",
      "precision@10:0.1272\n",
      "precision@30:0.1230\n",
      "precision@50:0.1306\n",
      "ndcg@10:0.0342\n",
      "ndcg@30:0.0446\n",
      "ndcg@50:0.0576\n",
      "ndcg@all:0.3769\n"
     ]
    },
    {
     "data": {
      "application/vnd.jupyter.widget-view+json": {
       "model_id": "29f0cce2f1a0464bb2278e791e7a372a",
       "version_major": 2,
       "version_minor": 0
      },
      "text/plain": [
       "Training:   0%|          | 0/313 [00:00<?, ?it/s]"
      ]
     },
     "metadata": {},
     "output_type": "display_data"
    },
    {
     "name": "stdout",
     "output_type": "stream",
     "text": [
      "[Epoch 38]\n",
      "precision@10:0.1301\n",
      "precision@30:0.1252\n",
      "precision@50:0.1352\n",
      "ndcg@10:0.0345\n",
      "ndcg@30:0.0452\n",
      "ndcg@50:0.0594\n",
      "ndcg@all:0.3766\n"
     ]
    },
    {
     "data": {
      "application/vnd.jupyter.widget-view+json": {
       "model_id": "97c89496bbea48de8b979f7478c02066",
       "version_major": 2,
       "version_minor": 0
      },
      "text/plain": [
       "Training:   0%|          | 0/313 [00:00<?, ?it/s]"
      ]
     },
     "metadata": {},
     "output_type": "display_data"
    },
    {
     "name": "stdout",
     "output_type": "stream",
     "text": [
      "[Epoch 39]\n",
      "precision@10:0.1317\n",
      "precision@30:0.1295\n",
      "precision@50:0.1407\n",
      "ndcg@10:0.0357\n",
      "ndcg@30:0.0472\n",
      "ndcg@50:0.0626\n",
      "ndcg@all:0.3775\n"
     ]
    },
    {
     "data": {
      "application/vnd.jupyter.widget-view+json": {
       "model_id": "8bfa8875bc77484db60eccff948b812a",
       "version_major": 2,
       "version_minor": 0
      },
      "text/plain": [
       "Training:   0%|          | 0/313 [00:00<?, ?it/s]"
      ]
     },
     "metadata": {},
     "output_type": "display_data"
    },
    {
     "name": "stdout",
     "output_type": "stream",
     "text": [
      "[Epoch 40]\n",
      "precision@10:0.1330\n",
      "precision@30:0.1316\n",
      "precision@50:0.1438\n",
      "ndcg@10:0.0358\n",
      "ndcg@30:0.0479\n",
      "ndcg@50:0.0639\n",
      "ndcg@all:0.3782\n"
     ]
    },
    {
     "data": {
      "application/vnd.jupyter.widget-view+json": {
       "model_id": "b1514c2deb0d4d369f1ce997142d59b7",
       "version_major": 2,
       "version_minor": 0
      },
      "text/plain": [
       "Training:   0%|          | 0/313 [00:00<?, ?it/s]"
      ]
     },
     "metadata": {},
     "output_type": "display_data"
    },
    {
     "name": "stdout",
     "output_type": "stream",
     "text": [
      "[Epoch 41]\n",
      "precision@10:0.1344\n",
      "precision@30:0.1328\n",
      "precision@50:0.1465\n",
      "ndcg@10:0.0356\n",
      "ndcg@30:0.0482\n",
      "ndcg@50:0.0649\n",
      "ndcg@all:0.3776\n"
     ]
    },
    {
     "data": {
      "application/vnd.jupyter.widget-view+json": {
       "model_id": "ffac4a940bc243998b73408d88b020a5",
       "version_major": 2,
       "version_minor": 0
      },
      "text/plain": [
       "Training:   0%|          | 0/313 [00:00<?, ?it/s]"
      ]
     },
     "metadata": {},
     "output_type": "display_data"
    },
    {
     "name": "stdout",
     "output_type": "stream",
     "text": [
      "[Epoch 42]\n",
      "precision@10:0.1368\n",
      "precision@30:0.1376\n",
      "precision@50:0.1501\n",
      "ndcg@10:0.0392\n",
      "ndcg@30:0.0519\n",
      "ndcg@50:0.0681\n",
      "ndcg@all:0.3796\n"
     ]
    },
    {
     "data": {
      "application/vnd.jupyter.widget-view+json": {
       "model_id": "d825282c299840b4ab19d877252bae5d",
       "version_major": 2,
       "version_minor": 0
      },
      "text/plain": [
       "Training:   0%|          | 0/313 [00:00<?, ?it/s]"
      ]
     },
     "metadata": {},
     "output_type": "display_data"
    },
    {
     "name": "stdout",
     "output_type": "stream",
     "text": [
      "[Epoch 43]\n",
      "precision@10:0.1393\n",
      "precision@30:0.1407\n",
      "precision@50:0.1533\n",
      "ndcg@10:0.0382\n",
      "ndcg@30:0.0526\n",
      "ndcg@50:0.0690\n",
      "ndcg@all:0.3787\n"
     ]
    },
    {
     "data": {
      "application/vnd.jupyter.widget-view+json": {
       "model_id": "0baafde6977a4950af912074a4e26fd6",
       "version_major": 2,
       "version_minor": 0
      },
      "text/plain": [
       "Training:   0%|          | 0/313 [00:00<?, ?it/s]"
      ]
     },
     "metadata": {},
     "output_type": "display_data"
    },
    {
     "name": "stdout",
     "output_type": "stream",
     "text": [
      "[Epoch 44]\n",
      "precision@10:0.1428\n",
      "precision@30:0.1446\n",
      "precision@50:0.1562\n",
      "ndcg@10:0.0405\n",
      "ndcg@30:0.0548\n",
      "ndcg@50:0.0710\n",
      "ndcg@all:0.3802\n"
     ]
    },
    {
     "data": {
      "application/vnd.jupyter.widget-view+json": {
       "model_id": "2c3e04fee21c4ef18ad93f8f45e61d16",
       "version_major": 2,
       "version_minor": 0
      },
      "text/plain": [
       "Training:   0%|          | 0/313 [00:00<?, ?it/s]"
      ]
     },
     "metadata": {},
     "output_type": "display_data"
    },
    {
     "name": "stdout",
     "output_type": "stream",
     "text": [
      "[Epoch 45]\n",
      "precision@10:0.1462\n",
      "precision@30:0.1504\n",
      "precision@50:0.1594\n",
      "ndcg@10:0.0426\n",
      "ndcg@30:0.0582\n",
      "ndcg@50:0.0734\n",
      "ndcg@all:0.3812\n"
     ]
    },
    {
     "data": {
      "application/vnd.jupyter.widget-view+json": {
       "model_id": "845bab71733c4b359cfe3aa165c4c3dd",
       "version_major": 2,
       "version_minor": 0
      },
      "text/plain": [
       "Training:   0%|          | 0/313 [00:00<?, ?it/s]"
      ]
     },
     "metadata": {},
     "output_type": "display_data"
    },
    {
     "name": "stdout",
     "output_type": "stream",
     "text": [
      "[Epoch 46]\n",
      "precision@10:0.1458\n",
      "precision@30:0.1530\n",
      "precision@50:0.1623\n",
      "ndcg@10:0.0423\n",
      "ndcg@30:0.0587\n",
      "ndcg@50:0.0743\n",
      "ndcg@all:0.3815\n"
     ]
    },
    {
     "data": {
      "application/vnd.jupyter.widget-view+json": {
       "model_id": "74191cbe4a854d589464182aa3b93dd6",
       "version_major": 2,
       "version_minor": 0
      },
      "text/plain": [
       "Training:   0%|          | 0/313 [00:00<?, ?it/s]"
      ]
     },
     "metadata": {},
     "output_type": "display_data"
    },
    {
     "name": "stdout",
     "output_type": "stream",
     "text": [
      "[Epoch 47]\n",
      "precision@10:0.1474\n",
      "precision@30:0.1554\n",
      "precision@50:0.1670\n",
      "ndcg@10:0.0429\n",
      "ndcg@30:0.0600\n",
      "ndcg@50:0.0763\n",
      "ndcg@all:0.3816\n"
     ]
    },
    {
     "data": {
      "application/vnd.jupyter.widget-view+json": {
       "model_id": "50bc8b561fcd45ed8cbd499d83897d88",
       "version_major": 2,
       "version_minor": 0
      },
      "text/plain": [
       "Training:   0%|          | 0/313 [00:00<?, ?it/s]"
      ]
     },
     "metadata": {},
     "output_type": "display_data"
    },
    {
     "name": "stdout",
     "output_type": "stream",
     "text": [
      "[Epoch 48]\n",
      "precision@10:0.1522\n",
      "precision@30:0.1594\n",
      "precision@50:0.1705\n",
      "ndcg@10:0.0456\n",
      "ndcg@30:0.0629\n",
      "ndcg@50:0.0788\n",
      "ndcg@all:0.3833\n"
     ]
    },
    {
     "data": {
      "application/vnd.jupyter.widget-view+json": {
       "model_id": "3d26b531afad410bb02e2268852e10e2",
       "version_major": 2,
       "version_minor": 0
      },
      "text/plain": [
       "Training:   0%|          | 0/313 [00:00<?, ?it/s]"
      ]
     },
     "metadata": {},
     "output_type": "display_data"
    },
    {
     "name": "stdout",
     "output_type": "stream",
     "text": [
      "[Epoch 49]\n",
      "precision@10:0.1551\n",
      "precision@30:0.1628\n",
      "precision@50:0.1728\n",
      "ndcg@10:0.0467\n",
      "ndcg@30:0.0646\n",
      "ndcg@50:0.0801\n",
      "ndcg@all:0.3832\n"
     ]
    },
    {
     "data": {
      "application/vnd.jupyter.widget-view+json": {
       "model_id": "7552ba5e46a24a50ae3d474da4881137",
       "version_major": 2,
       "version_minor": 0
      },
      "text/plain": [
       "Training:   0%|          | 0/313 [00:00<?, ?it/s]"
      ]
     },
     "metadata": {},
     "output_type": "display_data"
    },
    {
     "name": "stdout",
     "output_type": "stream",
     "text": [
      "[Epoch 50]\n",
      "precision@10:0.1578\n",
      "precision@30:0.1653\n",
      "precision@50:0.1759\n",
      "ndcg@10:0.0499\n",
      "ndcg@30:0.0674\n",
      "ndcg@50:0.0825\n",
      "ndcg@all:0.3846\n"
     ]
    },
    {
     "data": {
      "application/vnd.jupyter.widget-view+json": {
       "model_id": "a332ba275a3c48d683b52e13a24964c0",
       "version_major": 2,
       "version_minor": 0
      },
      "text/plain": [
       "Training:   0%|          | 0/313 [00:00<?, ?it/s]"
      ]
     },
     "metadata": {},
     "output_type": "display_data"
    },
    {
     "name": "stdout",
     "output_type": "stream",
     "text": [
      "[Epoch 51]\n",
      "precision@10:0.1601\n",
      "precision@30:0.1677\n",
      "precision@50:0.1779\n",
      "ndcg@10:0.0504\n",
      "ndcg@30:0.0685\n",
      "ndcg@50:0.0833\n",
      "ndcg@all:0.3845\n"
     ]
    },
    {
     "data": {
      "application/vnd.jupyter.widget-view+json": {
       "model_id": "9921ab5a2e0e42a8bc108aa16de6afc1",
       "version_major": 2,
       "version_minor": 0
      },
      "text/plain": [
       "Training:   0%|          | 0/313 [00:00<?, ?it/s]"
      ]
     },
     "metadata": {},
     "output_type": "display_data"
    },
    {
     "name": "stdout",
     "output_type": "stream",
     "text": [
      "[Epoch 52]\n",
      "precision@10:0.1646\n",
      "precision@30:0.1713\n",
      "precision@50:0.1797\n",
      "ndcg@10:0.0536\n",
      "ndcg@30:0.0711\n",
      "ndcg@50:0.0852\n",
      "ndcg@all:0.3861\n"
     ]
    },
    {
     "data": {
      "application/vnd.jupyter.widget-view+json": {
       "model_id": "ca546b2822eb41b19178e243a8377148",
       "version_major": 2,
       "version_minor": 0
      },
      "text/plain": [
       "Training:   0%|          | 0/313 [00:00<?, ?it/s]"
      ]
     },
     "metadata": {},
     "output_type": "display_data"
    },
    {
     "name": "stdout",
     "output_type": "stream",
     "text": [
      "[Epoch 53]\n",
      "precision@10:0.1683\n",
      "precision@30:0.1722\n",
      "precision@50:0.1815\n",
      "ndcg@10:0.0549\n",
      "ndcg@30:0.0721\n",
      "ndcg@50:0.0862\n",
      "ndcg@all:0.3861\n"
     ]
    },
    {
     "data": {
      "application/vnd.jupyter.widget-view+json": {
       "model_id": "6cac73f5a2704907bf053e3de4325df1",
       "version_major": 2,
       "version_minor": 0
      },
      "text/plain": [
       "Training:   0%|          | 0/313 [00:00<?, ?it/s]"
      ]
     },
     "metadata": {},
     "output_type": "display_data"
    },
    {
     "name": "stdout",
     "output_type": "stream",
     "text": [
      "[Epoch 54]\n",
      "precision@10:0.1694\n",
      "precision@30:0.1743\n",
      "precision@50:0.1835\n",
      "ndcg@10:0.0568\n",
      "ndcg@30:0.0740\n",
      "ndcg@50:0.0878\n",
      "ndcg@all:0.3873\n"
     ]
    },
    {
     "data": {
      "application/vnd.jupyter.widget-view+json": {
       "model_id": "247bc5a798c54984bd5b9d795fc2c3a4",
       "version_major": 2,
       "version_minor": 0
      },
      "text/plain": [
       "Training:   0%|          | 0/313 [00:00<?, ?it/s]"
      ]
     },
     "metadata": {},
     "output_type": "display_data"
    },
    {
     "name": "stdout",
     "output_type": "stream",
     "text": [
      "[Epoch 55]\n",
      "precision@10:0.1740\n",
      "precision@30:0.1764\n",
      "precision@50:0.1850\n",
      "ndcg@10:0.0592\n",
      "ndcg@30:0.0754\n",
      "ndcg@50:0.0890\n",
      "ndcg@all:0.3875\n"
     ]
    },
    {
     "data": {
      "application/vnd.jupyter.widget-view+json": {
       "model_id": "ba8e6bddc5724602a9ed9de45bbc4392",
       "version_major": 2,
       "version_minor": 0
      },
      "text/plain": [
       "Training:   0%|          | 0/313 [00:00<?, ?it/s]"
      ]
     },
     "metadata": {},
     "output_type": "display_data"
    },
    {
     "name": "stdout",
     "output_type": "stream",
     "text": [
      "[Epoch 56]\n",
      "precision@10:0.1779\n",
      "precision@30:0.1781\n",
      "precision@50:0.1867\n",
      "ndcg@10:0.0594\n",
      "ndcg@30:0.0759\n",
      "ndcg@50:0.0893\n",
      "ndcg@all:0.3871\n"
     ]
    },
    {
     "data": {
      "application/vnd.jupyter.widget-view+json": {
       "model_id": "36d11d190e114b57a583c2b20a4d9b97",
       "version_major": 2,
       "version_minor": 0
      },
      "text/plain": [
       "Training:   0%|          | 0/313 [00:00<?, ?it/s]"
      ]
     },
     "metadata": {},
     "output_type": "display_data"
    },
    {
     "name": "stdout",
     "output_type": "stream",
     "text": [
      "[Epoch 57]\n",
      "precision@10:0.1832\n",
      "precision@30:0.1804\n",
      "precision@50:0.1875\n",
      "ndcg@10:0.0621\n",
      "ndcg@30:0.0778\n",
      "ndcg@50:0.0906\n",
      "ndcg@all:0.3883\n"
     ]
    },
    {
     "data": {
      "application/vnd.jupyter.widget-view+json": {
       "model_id": "074de666d6f64671beb272b6cd7aaa17",
       "version_major": 2,
       "version_minor": 0
      },
      "text/plain": [
       "Training:   0%|          | 0/313 [00:00<?, ?it/s]"
      ]
     },
     "metadata": {},
     "output_type": "display_data"
    },
    {
     "name": "stdout",
     "output_type": "stream",
     "text": [
      "[Epoch 58]\n",
      "precision@10:0.1871\n",
      "precision@30:0.1826\n",
      "precision@50:0.1889\n",
      "ndcg@10:0.0639\n",
      "ndcg@30:0.0790\n",
      "ndcg@50:0.0916\n",
      "ndcg@all:0.3885\n"
     ]
    },
    {
     "data": {
      "application/vnd.jupyter.widget-view+json": {
       "model_id": "0aca2fa495b74f43a9b02619a8ec1a20",
       "version_major": 2,
       "version_minor": 0
      },
      "text/plain": [
       "Training:   0%|          | 0/313 [00:00<?, ?it/s]"
      ]
     },
     "metadata": {},
     "output_type": "display_data"
    },
    {
     "name": "stdout",
     "output_type": "stream",
     "text": [
      "[Epoch 59]\n",
      "precision@10:0.1931\n",
      "precision@30:0.1855\n",
      "precision@50:0.1895\n",
      "ndcg@10:0.0694\n",
      "ndcg@30:0.0825\n",
      "ndcg@50:0.0939\n",
      "ndcg@all:0.3907\n"
     ]
    },
    {
     "data": {
      "application/vnd.jupyter.widget-view+json": {
       "model_id": "e8af34d8df7d41a6a74e8ed9a38141ad",
       "version_major": 2,
       "version_minor": 0
      },
      "text/plain": [
       "Training:   0%|          | 0/313 [00:00<?, ?it/s]"
      ]
     },
     "metadata": {},
     "output_type": "display_data"
    },
    {
     "name": "stdout",
     "output_type": "stream",
     "text": [
      "[Epoch 60]\n",
      "precision@10:0.1989\n",
      "precision@30:0.1884\n",
      "precision@50:0.1900\n",
      "ndcg@10:0.0759\n",
      "ndcg@30:0.0864\n",
      "ndcg@50:0.0967\n",
      "ndcg@all:0.3932\n"
     ]
    },
    {
     "data": {
      "application/vnd.jupyter.widget-view+json": {
       "model_id": "9bceba61ef114e3880f1c8bd2fee9f1d",
       "version_major": 2,
       "version_minor": 0
      },
      "text/plain": [
       "Training:   0%|          | 0/313 [00:00<?, ?it/s]"
      ]
     },
     "metadata": {},
     "output_type": "display_data"
    },
    {
     "name": "stdout",
     "output_type": "stream",
     "text": [
      "[Epoch 61]\n",
      "precision@10:0.1972\n",
      "precision@30:0.1888\n",
      "precision@50:0.1902\n",
      "ndcg@10:0.0705\n",
      "ndcg@30:0.0838\n",
      "ndcg@50:0.0946\n",
      "ndcg@all:0.3904\n"
     ]
    },
    {
     "data": {
      "application/vnd.jupyter.widget-view+json": {
       "model_id": "6e9cb307bf98444aa28cb0f1ea834106",
       "version_major": 2,
       "version_minor": 0
      },
      "text/plain": [
       "Training:   0%|          | 0/313 [00:00<?, ?it/s]"
      ]
     },
     "metadata": {},
     "output_type": "display_data"
    },
    {
     "name": "stdout",
     "output_type": "stream",
     "text": [
      "[Epoch 62]\n",
      "precision@10:0.2046\n",
      "precision@30:0.1930\n",
      "precision@50:0.1912\n",
      "ndcg@10:0.0762\n",
      "ndcg@30:0.0875\n",
      "ndcg@50:0.0971\n",
      "ndcg@all:0.3924\n"
     ]
    },
    {
     "data": {
      "application/vnd.jupyter.widget-view+json": {
       "model_id": "ca959e09fa194ba191e06bf9b9ecfc19",
       "version_major": 2,
       "version_minor": 0
      },
      "text/plain": [
       "Training:   0%|          | 0/313 [00:00<?, ?it/s]"
      ]
     },
     "metadata": {},
     "output_type": "display_data"
    },
    {
     "name": "stdout",
     "output_type": "stream",
     "text": [
      "[Epoch 63]\n",
      "precision@10:0.2136\n",
      "precision@30:0.1951\n",
      "precision@50:0.1917\n",
      "ndcg@10:0.0831\n",
      "ndcg@30:0.0911\n",
      "ndcg@50:0.0998\n",
      "ndcg@all:0.3949\n"
     ]
    },
    {
     "data": {
      "application/vnd.jupyter.widget-view+json": {
       "model_id": "511ff0cd68f449e38e6a5eb6c4401429",
       "version_major": 2,
       "version_minor": 0
      },
      "text/plain": [
       "Training:   0%|          | 0/313 [00:00<?, ?it/s]"
      ]
     },
     "metadata": {},
     "output_type": "display_data"
    },
    {
     "name": "stdout",
     "output_type": "stream",
     "text": [
      "[Epoch 64]\n",
      "precision@10:0.2198\n",
      "precision@30:0.1986\n",
      "precision@50:0.1930\n",
      "ndcg@10:0.0868\n",
      "ndcg@30:0.0937\n",
      "ndcg@50:0.1017\n",
      "ndcg@all:0.3962\n"
     ]
    },
    {
     "data": {
      "application/vnd.jupyter.widget-view+json": {
       "model_id": "7b8b750a36b7464087769b91720dabaf",
       "version_major": 2,
       "version_minor": 0
      },
      "text/plain": [
       "Training:   0%|          | 0/313 [00:00<?, ?it/s]"
      ]
     },
     "metadata": {},
     "output_type": "display_data"
    },
    {
     "name": "stdout",
     "output_type": "stream",
     "text": [
      "[Epoch 65]\n",
      "precision@10:0.2208\n",
      "precision@30:0.2007\n",
      "precision@50:0.1943\n",
      "ndcg@10:0.0869\n",
      "ndcg@30:0.0943\n",
      "ndcg@50:0.1022\n",
      "ndcg@all:0.3956\n"
     ]
    },
    {
     "data": {
      "application/vnd.jupyter.widget-view+json": {
       "model_id": "59ffa4414e6942f7b162edfa2aad0fa3",
       "version_major": 2,
       "version_minor": 0
      },
      "text/plain": [
       "Training:   0%|          | 0/313 [00:00<?, ?it/s]"
      ]
     },
     "metadata": {},
     "output_type": "display_data"
    },
    {
     "name": "stdout",
     "output_type": "stream",
     "text": [
      "[Epoch 66]\n",
      "precision@10:0.2287\n",
      "precision@30:0.2034\n",
      "precision@50:0.1963\n",
      "ndcg@10:0.0921\n",
      "ndcg@30:0.0974\n",
      "ndcg@50:0.1047\n",
      "ndcg@all:0.3977\n"
     ]
    },
    {
     "data": {
      "application/vnd.jupyter.widget-view+json": {
       "model_id": "29f9e0f51db948d48816e963b2ca5a44",
       "version_major": 2,
       "version_minor": 0
      },
      "text/plain": [
       "Training:   0%|          | 0/313 [00:00<?, ?it/s]"
      ]
     },
     "metadata": {},
     "output_type": "display_data"
    },
    {
     "name": "stdout",
     "output_type": "stream",
     "text": [
      "[Epoch 67]\n",
      "precision@10:0.2328\n",
      "precision@30:0.2048\n",
      "precision@50:0.1969\n",
      "ndcg@10:0.0945\n",
      "ndcg@30:0.0986\n",
      "ndcg@50:0.1057\n",
      "ndcg@all:0.3980\n"
     ]
    },
    {
     "data": {
      "application/vnd.jupyter.widget-view+json": {
       "model_id": "14322f44f48545baa97a3bb251150004",
       "version_major": 2,
       "version_minor": 0
      },
      "text/plain": [
       "Training:   0%|          | 0/313 [00:00<?, ?it/s]"
      ]
     },
     "metadata": {},
     "output_type": "display_data"
    },
    {
     "name": "stdout",
     "output_type": "stream",
     "text": [
      "[Epoch 68]\n",
      "precision@10:0.2365\n",
      "precision@30:0.2075\n",
      "precision@50:0.1986\n",
      "ndcg@10:0.0950\n",
      "ndcg@30:0.0994\n",
      "ndcg@50:0.1065\n",
      "ndcg@all:0.3981\n"
     ]
    },
    {
     "data": {
      "application/vnd.jupyter.widget-view+json": {
       "model_id": "e338cb348396432b88d09915c249a3e1",
       "version_major": 2,
       "version_minor": 0
      },
      "text/plain": [
       "Training:   0%|          | 0/313 [00:00<?, ?it/s]"
      ]
     },
     "metadata": {},
     "output_type": "display_data"
    },
    {
     "name": "stdout",
     "output_type": "stream",
     "text": [
      "[Epoch 69]\n",
      "precision@10:0.2425\n",
      "precision@30:0.2101\n",
      "precision@50:0.2000\n",
      "ndcg@10:0.0992\n",
      "ndcg@30:0.1021\n",
      "ndcg@50:0.1086\n",
      "ndcg@all:0.4000\n"
     ]
    },
    {
     "data": {
      "application/vnd.jupyter.widget-view+json": {
       "model_id": "4be7183a4aa74b7099bf6082352be01d",
       "version_major": 2,
       "version_minor": 0
      },
      "text/plain": [
       "Training:   0%|          | 0/313 [00:00<?, ?it/s]"
      ]
     },
     "metadata": {},
     "output_type": "display_data"
    },
    {
     "name": "stdout",
     "output_type": "stream",
     "text": [
      "[Epoch 70]\n",
      "precision@10:0.2483\n",
      "precision@30:0.2125\n",
      "precision@50:0.2029\n",
      "ndcg@10:0.1026\n",
      "ndcg@30:0.1039\n",
      "ndcg@50:0.1107\n",
      "ndcg@all:0.4009\n"
     ]
    },
    {
     "data": {
      "application/vnd.jupyter.widget-view+json": {
       "model_id": "c82c8aed51234e76ae0b28bc4ff9ecd8",
       "version_major": 2,
       "version_minor": 0
      },
      "text/plain": [
       "Training:   0%|          | 0/313 [00:00<?, ?it/s]"
      ]
     },
     "metadata": {},
     "output_type": "display_data"
    },
    {
     "name": "stdout",
     "output_type": "stream",
     "text": [
      "[Epoch 71]\n",
      "precision@10:0.2502\n",
      "precision@30:0.2148\n",
      "precision@50:0.2042\n",
      "ndcg@10:0.1034\n",
      "ndcg@30:0.1049\n",
      "ndcg@50:0.1116\n",
      "ndcg@all:0.4010\n"
     ]
    },
    {
     "data": {
      "application/vnd.jupyter.widget-view+json": {
       "model_id": "46521bc47ae846f58d21c55ea13c47fe",
       "version_major": 2,
       "version_minor": 0
      },
      "text/plain": [
       "Training:   0%|          | 0/313 [00:00<?, ?it/s]"
      ]
     },
     "metadata": {},
     "output_type": "display_data"
    },
    {
     "name": "stdout",
     "output_type": "stream",
     "text": [
      "[Epoch 72]\n",
      "precision@10:0.2564\n",
      "precision@30:0.2168\n",
      "precision@50:0.2074\n",
      "ndcg@10:0.1068\n",
      "ndcg@30:0.1069\n",
      "ndcg@50:0.1138\n",
      "ndcg@all:0.4023\n"
     ]
    },
    {
     "data": {
      "application/vnd.jupyter.widget-view+json": {
       "model_id": "1d3129c592cd4e5f863a26bfebcfc669",
       "version_major": 2,
       "version_minor": 0
      },
      "text/plain": [
       "Training:   0%|          | 0/313 [00:00<?, ?it/s]"
      ]
     },
     "metadata": {},
     "output_type": "display_data"
    },
    {
     "name": "stdout",
     "output_type": "stream",
     "text": [
      "[Epoch 73]\n",
      "precision@10:0.2580\n",
      "precision@30:0.2181\n",
      "precision@50:0.2092\n",
      "ndcg@10:0.1078\n",
      "ndcg@30:0.1078\n",
      "ndcg@50:0.1148\n",
      "ndcg@all:0.4025\n"
     ]
    },
    {
     "data": {
      "application/vnd.jupyter.widget-view+json": {
       "model_id": "445923f63e7c460387719d753b0a03cb",
       "version_major": 2,
       "version_minor": 0
      },
      "text/plain": [
       "Training:   0%|          | 0/313 [00:00<?, ?it/s]"
      ]
     },
     "metadata": {},
     "output_type": "display_data"
    },
    {
     "name": "stdout",
     "output_type": "stream",
     "text": [
      "[Epoch 74]\n",
      "precision@10:0.2620\n",
      "precision@30:0.2195\n",
      "precision@50:0.2093\n",
      "ndcg@10:0.1110\n",
      "ndcg@30:0.1094\n",
      "ndcg@50:0.1161\n",
      "ndcg@all:0.4033\n"
     ]
    },
    {
     "data": {
      "application/vnd.jupyter.widget-view+json": {
       "model_id": "634e4825dc054daf954a547ef3306743",
       "version_major": 2,
       "version_minor": 0
      },
      "text/plain": [
       "Training:   0%|          | 0/313 [00:00<?, ?it/s]"
      ]
     },
     "metadata": {},
     "output_type": "display_data"
    },
    {
     "name": "stdout",
     "output_type": "stream",
     "text": [
      "[Epoch 75]\n",
      "precision@10:0.2627\n",
      "precision@30:0.2208\n",
      "precision@50:0.2093\n",
      "ndcg@10:0.1119\n",
      "ndcg@30:0.1103\n",
      "ndcg@50:0.1166\n",
      "ndcg@all:0.4034\n"
     ]
    },
    {
     "data": {
      "application/vnd.jupyter.widget-view+json": {
       "model_id": "c3406338f26c45b0b279f188cbb62401",
       "version_major": 2,
       "version_minor": 0
      },
      "text/plain": [
       "Training:   0%|          | 0/313 [00:00<?, ?it/s]"
      ]
     },
     "metadata": {},
     "output_type": "display_data"
    },
    {
     "name": "stdout",
     "output_type": "stream",
     "text": [
      "[Epoch 76]\n",
      "precision@10:0.2665\n",
      "precision@30:0.2229\n",
      "precision@50:0.2091\n",
      "ndcg@10:0.1141\n",
      "ndcg@30:0.1117\n",
      "ndcg@50:0.1174\n",
      "ndcg@all:0.4041\n"
     ]
    },
    {
     "data": {
      "application/vnd.jupyter.widget-view+json": {
       "model_id": "548102f54ff443eba1ec1486f6a266eb",
       "version_major": 2,
       "version_minor": 0
      },
      "text/plain": [
       "Training:   0%|          | 0/313 [00:00<?, ?it/s]"
      ]
     },
     "metadata": {},
     "output_type": "display_data"
    },
    {
     "name": "stdout",
     "output_type": "stream",
     "text": [
      "[Epoch 77]\n",
      "precision@10:0.2681\n",
      "precision@30:0.2245\n",
      "precision@50:0.2091\n",
      "ndcg@10:0.1164\n",
      "ndcg@30:0.1133\n",
      "ndcg@50:0.1185\n",
      "ndcg@all:0.4046\n"
     ]
    },
    {
     "data": {
      "application/vnd.jupyter.widget-view+json": {
       "model_id": "331bdffe46794e138fd259554b3a8d71",
       "version_major": 2,
       "version_minor": 0
      },
      "text/plain": [
       "Training:   0%|          | 0/313 [00:00<?, ?it/s]"
      ]
     },
     "metadata": {},
     "output_type": "display_data"
    },
    {
     "name": "stdout",
     "output_type": "stream",
     "text": [
      "[Epoch 78]\n",
      "precision@10:0.2723\n",
      "precision@30:0.2265\n",
      "precision@50:0.2093\n",
      "ndcg@10:0.1179\n",
      "ndcg@30:0.1143\n",
      "ndcg@50:0.1191\n",
      "ndcg@all:0.4054\n"
     ]
    },
    {
     "data": {
      "application/vnd.jupyter.widget-view+json": {
       "model_id": "0de23aa81f7345e68b7c43301110792f",
       "version_major": 2,
       "version_minor": 0
      },
      "text/plain": [
       "Training:   0%|          | 0/313 [00:00<?, ?it/s]"
      ]
     },
     "metadata": {},
     "output_type": "display_data"
    },
    {
     "name": "stdout",
     "output_type": "stream",
     "text": [
      "[Epoch 79]\n",
      "precision@10:0.2720\n",
      "precision@30:0.2273\n",
      "precision@50:0.2105\n",
      "ndcg@10:0.1190\n",
      "ndcg@30:0.1153\n",
      "ndcg@50:0.1202\n",
      "ndcg@all:0.4056\n"
     ]
    },
    {
     "data": {
      "application/vnd.jupyter.widget-view+json": {
       "model_id": "78716c472f30431796c5b37e889fbc61",
       "version_major": 2,
       "version_minor": 0
      },
      "text/plain": [
       "Training:   0%|          | 0/313 [00:00<?, ?it/s]"
      ]
     },
     "metadata": {},
     "output_type": "display_data"
    },
    {
     "name": "stdout",
     "output_type": "stream",
     "text": [
      "[Epoch 80]\n",
      "precision@10:0.2760\n",
      "precision@30:0.2283\n",
      "precision@50:0.2132\n",
      "ndcg@10:0.1205\n",
      "ndcg@30:0.1161\n",
      "ndcg@50:0.1217\n",
      "ndcg@all:0.4062\n"
     ]
    },
    {
     "data": {
      "application/vnd.jupyter.widget-view+json": {
       "model_id": "51f1bb87aafd494b8a2be298369468d3",
       "version_major": 2,
       "version_minor": 0
      },
      "text/plain": [
       "Training:   0%|          | 0/313 [00:00<?, ?it/s]"
      ]
     },
     "metadata": {},
     "output_type": "display_data"
    },
    {
     "name": "stdout",
     "output_type": "stream",
     "text": [
      "[Epoch 81]\n",
      "precision@10:0.2772\n",
      "precision@30:0.2298\n",
      "precision@50:0.2131\n",
      "ndcg@10:0.1219\n",
      "ndcg@30:0.1170\n",
      "ndcg@50:0.1224\n",
      "ndcg@all:0.4065\n"
     ]
    },
    {
     "data": {
      "application/vnd.jupyter.widget-view+json": {
       "model_id": "d7790060ad5540eb99cedf38e72655e6",
       "version_major": 2,
       "version_minor": 0
      },
      "text/plain": [
       "Training:   0%|          | 0/313 [00:00<?, ?it/s]"
      ]
     },
     "metadata": {},
     "output_type": "display_data"
    },
    {
     "name": "stdout",
     "output_type": "stream",
     "text": [
      "[Epoch 82]\n",
      "precision@10:0.2808\n",
      "precision@30:0.2306\n",
      "precision@50:0.2132\n",
      "ndcg@10:0.1245\n",
      "ndcg@30:0.1187\n",
      "ndcg@50:0.1237\n",
      "ndcg@all:0.4074\n"
     ]
    },
    {
     "data": {
      "application/vnd.jupyter.widget-view+json": {
       "model_id": "efe25017933b4d218f1b1433a1c6c5d5",
       "version_major": 2,
       "version_minor": 0
      },
      "text/plain": [
       "Training:   0%|          | 0/313 [00:00<?, ?it/s]"
      ]
     },
     "metadata": {},
     "output_type": "display_data"
    },
    {
     "name": "stdout",
     "output_type": "stream",
     "text": [
      "[Epoch 83]\n",
      "precision@10:0.2822\n",
      "precision@30:0.2313\n",
      "precision@50:0.2131\n",
      "ndcg@10:0.1250\n",
      "ndcg@30:0.1189\n",
      "ndcg@50:0.1238\n",
      "ndcg@all:0.4076\n"
     ]
    },
    {
     "data": {
      "application/vnd.jupyter.widget-view+json": {
       "model_id": "69bed349e0434a108cc67a8ef1636c68",
       "version_major": 2,
       "version_minor": 0
      },
      "text/plain": [
       "Training:   0%|          | 0/313 [00:00<?, ?it/s]"
      ]
     },
     "metadata": {},
     "output_type": "display_data"
    },
    {
     "name": "stdout",
     "output_type": "stream",
     "text": [
      "[Epoch 84]\n",
      "precision@10:0.2852\n",
      "precision@30:0.2330\n",
      "precision@50:0.2130\n",
      "ndcg@10:0.1251\n",
      "ndcg@30:0.1192\n",
      "ndcg@50:0.1238\n",
      "ndcg@all:0.4075\n"
     ]
    },
    {
     "data": {
      "application/vnd.jupyter.widget-view+json": {
       "model_id": "92d22d75bbf84d83a864f335e17914fe",
       "version_major": 2,
       "version_minor": 0
      },
      "text/plain": [
       "Training:   0%|          | 0/313 [00:00<?, ?it/s]"
      ]
     },
     "metadata": {},
     "output_type": "display_data"
    },
    {
     "name": "stdout",
     "output_type": "stream",
     "text": [
      "[Epoch 85]\n",
      "precision@10:0.2861\n",
      "precision@30:0.2342\n",
      "precision@50:0.2127\n",
      "ndcg@10:0.1272\n",
      "ndcg@30:0.1207\n",
      "ndcg@50:0.1247\n",
      "ndcg@all:0.4081\n"
     ]
    },
    {
     "data": {
      "application/vnd.jupyter.widget-view+json": {
       "model_id": "8f529540e1dc4064824c367dd42a31f3",
       "version_major": 2,
       "version_minor": 0
      },
      "text/plain": [
       "Training:   0%|          | 0/313 [00:00<?, ?it/s]"
      ]
     },
     "metadata": {},
     "output_type": "display_data"
    },
    {
     "name": "stdout",
     "output_type": "stream",
     "text": [
      "[Epoch 86]\n",
      "precision@10:0.2876\n",
      "precision@30:0.2352\n",
      "precision@50:0.2131\n",
      "ndcg@10:0.1273\n",
      "ndcg@30:0.1208\n",
      "ndcg@50:0.1249\n",
      "ndcg@all:0.4082\n"
     ]
    },
    {
     "data": {
      "application/vnd.jupyter.widget-view+json": {
       "model_id": "d318122540bf407890f597521f0dad21",
       "version_major": 2,
       "version_minor": 0
      },
      "text/plain": [
       "Training:   0%|          | 0/313 [00:00<?, ?it/s]"
      ]
     },
     "metadata": {},
     "output_type": "display_data"
    },
    {
     "name": "stdout",
     "output_type": "stream",
     "text": [
      "[Epoch 87]\n",
      "precision@10:0.2885\n",
      "precision@30:0.2356\n",
      "precision@50:0.2141\n",
      "ndcg@10:0.1285\n",
      "ndcg@30:0.1216\n",
      "ndcg@50:0.1260\n",
      "ndcg@all:0.4085\n"
     ]
    },
    {
     "data": {
      "application/vnd.jupyter.widget-view+json": {
       "model_id": "191c00961c764fa38453de42284cc772",
       "version_major": 2,
       "version_minor": 0
      },
      "text/plain": [
       "Training:   0%|          | 0/313 [00:00<?, ?it/s]"
      ]
     },
     "metadata": {},
     "output_type": "display_data"
    },
    {
     "name": "stdout",
     "output_type": "stream",
     "text": [
      "[Epoch 88]\n",
      "precision@10:0.2928\n",
      "precision@30:0.2359\n",
      "precision@50:0.2156\n",
      "ndcg@10:0.1314\n",
      "ndcg@30:0.1230\n",
      "ndcg@50:0.1276\n",
      "ndcg@all:0.4095\n"
     ]
    },
    {
     "data": {
      "application/vnd.jupyter.widget-view+json": {
       "model_id": "2ddedc475b864f9cbae5f923887688d3",
       "version_major": 2,
       "version_minor": 0
      },
      "text/plain": [
       "Training:   0%|          | 0/313 [00:00<?, ?it/s]"
      ]
     },
     "metadata": {},
     "output_type": "display_data"
    },
    {
     "name": "stdout",
     "output_type": "stream",
     "text": [
      "[Epoch 89]\n",
      "precision@10:0.2946\n",
      "precision@30:0.2359\n",
      "precision@50:0.2154\n",
      "ndcg@10:0.1326\n",
      "ndcg@30:0.1236\n",
      "ndcg@50:0.1280\n",
      "ndcg@all:0.4099\n"
     ]
    },
    {
     "data": {
      "application/vnd.jupyter.widget-view+json": {
       "model_id": "4edbeb19a5424bf4928bf4c1383dda79",
       "version_major": 2,
       "version_minor": 0
      },
      "text/plain": [
       "Training:   0%|          | 0/313 [00:00<?, ?it/s]"
      ]
     },
     "metadata": {},
     "output_type": "display_data"
    },
    {
     "name": "stdout",
     "output_type": "stream",
     "text": [
      "[Epoch 90]\n",
      "precision@10:0.2941\n",
      "precision@30:0.2363\n",
      "precision@50:0.2151\n",
      "ndcg@10:0.1315\n",
      "ndcg@30:0.1230\n",
      "ndcg@50:0.1275\n",
      "ndcg@all:0.4093\n"
     ]
    },
    {
     "data": {
      "application/vnd.jupyter.widget-view+json": {
       "model_id": "79a0c7ee40e24db1b0f6e97a5af95aa6",
       "version_major": 2,
       "version_minor": 0
      },
      "text/plain": [
       "Training:   0%|          | 0/313 [00:00<?, ?it/s]"
      ]
     },
     "metadata": {},
     "output_type": "display_data"
    },
    {
     "name": "stdout",
     "output_type": "stream",
     "text": [
      "[Epoch 91]\n",
      "precision@10:0.2990\n",
      "precision@30:0.2364\n",
      "precision@50:0.2151\n",
      "ndcg@10:0.1349\n",
      "ndcg@30:0.1247\n",
      "ndcg@50:0.1288\n",
      "ndcg@all:0.4104\n"
     ]
    },
    {
     "data": {
      "application/vnd.jupyter.widget-view+json": {
       "model_id": "2830714371484d77a59997f591cb5162",
       "version_major": 2,
       "version_minor": 0
      },
      "text/plain": [
       "Training:   0%|          | 0/313 [00:00<?, ?it/s]"
      ]
     },
     "metadata": {},
     "output_type": "display_data"
    },
    {
     "name": "stdout",
     "output_type": "stream",
     "text": [
      "[Epoch 92]\n",
      "precision@10:0.3006\n",
      "precision@30:0.2365\n",
      "precision@50:0.2152\n",
      "ndcg@10:0.1344\n",
      "ndcg@30:0.1244\n",
      "ndcg@50:0.1287\n",
      "ndcg@all:0.4103\n"
     ]
    },
    {
     "data": {
      "application/vnd.jupyter.widget-view+json": {
       "model_id": "274df6862e244a24b28041db88fdc206",
       "version_major": 2,
       "version_minor": 0
      },
      "text/plain": [
       "Training:   0%|          | 0/313 [00:00<?, ?it/s]"
      ]
     },
     "metadata": {},
     "output_type": "display_data"
    },
    {
     "name": "stdout",
     "output_type": "stream",
     "text": [
      "[Epoch 93]\n",
      "precision@10:0.3011\n",
      "precision@30:0.2365\n",
      "precision@50:0.2153\n",
      "ndcg@10:0.1375\n",
      "ndcg@30:0.1262\n",
      "ndcg@50:0.1303\n",
      "ndcg@all:0.4115\n"
     ]
    },
    {
     "data": {
      "application/vnd.jupyter.widget-view+json": {
       "model_id": "d126aafeb2784b789185a6b83a9e874d",
       "version_major": 2,
       "version_minor": 0
      },
      "text/plain": [
       "Training:   0%|          | 0/313 [00:00<?, ?it/s]"
      ]
     },
     "metadata": {},
     "output_type": "display_data"
    },
    {
     "name": "stdout",
     "output_type": "stream",
     "text": [
      "[Epoch 94]\n",
      "precision@10:0.3029\n",
      "precision@30:0.2366\n",
      "precision@50:0.2146\n",
      "ndcg@10:0.1367\n",
      "ndcg@30:0.1257\n",
      "ndcg@50:0.1297\n",
      "ndcg@all:0.4108\n"
     ]
    },
    {
     "data": {
      "application/vnd.jupyter.widget-view+json": {
       "model_id": "4c14a9a4d5a44175a072d43f3cdc17f9",
       "version_major": 2,
       "version_minor": 0
      },
      "text/plain": [
       "Training:   0%|          | 0/313 [00:00<?, ?it/s]"
      ]
     },
     "metadata": {},
     "output_type": "display_data"
    },
    {
     "name": "stdout",
     "output_type": "stream",
     "text": [
      "[Epoch 95]\n",
      "precision@10:0.3063\n",
      "precision@30:0.2368\n",
      "precision@50:0.2141\n",
      "ndcg@10:0.1405\n",
      "ndcg@30:0.1278\n",
      "ndcg@50:0.1313\n",
      "ndcg@all:0.4118\n"
     ]
    },
    {
     "data": {
      "application/vnd.jupyter.widget-view+json": {
       "model_id": "e43a8590f29449f483e76708bb33a46c",
       "version_major": 2,
       "version_minor": 0
      },
      "text/plain": [
       "Training:   0%|          | 0/313 [00:00<?, ?it/s]"
      ]
     },
     "metadata": {},
     "output_type": "display_data"
    },
    {
     "name": "stdout",
     "output_type": "stream",
     "text": [
      "[Epoch 96]\n",
      "precision@10:0.3066\n",
      "precision@30:0.2372\n",
      "precision@50:0.2142\n",
      "ndcg@10:0.1389\n",
      "ndcg@30:0.1269\n",
      "ndcg@50:0.1306\n",
      "ndcg@all:0.4113\n"
     ]
    },
    {
     "data": {
      "application/vnd.jupyter.widget-view+json": {
       "model_id": "1509b51f9fd640eb99390cd05ab510fd",
       "version_major": 2,
       "version_minor": 0
      },
      "text/plain": [
       "Training:   0%|          | 0/313 [00:00<?, ?it/s]"
      ]
     },
     "metadata": {},
     "output_type": "display_data"
    },
    {
     "name": "stdout",
     "output_type": "stream",
     "text": [
      "[Epoch 97]\n",
      "precision@10:0.3106\n",
      "precision@30:0.2381\n",
      "precision@50:0.2146\n",
      "ndcg@10:0.1410\n",
      "ndcg@30:0.1281\n",
      "ndcg@50:0.1315\n",
      "ndcg@all:0.4121\n"
     ]
    },
    {
     "data": {
      "application/vnd.jupyter.widget-view+json": {
       "model_id": "f80207566a8344589c072316bd33a40d",
       "version_major": 2,
       "version_minor": 0
      },
      "text/plain": [
       "Training:   0%|          | 0/313 [00:00<?, ?it/s]"
      ]
     },
     "metadata": {},
     "output_type": "display_data"
    },
    {
     "name": "stdout",
     "output_type": "stream",
     "text": [
      "[Epoch 98]\n",
      "precision@10:0.3123\n",
      "precision@30:0.2387\n",
      "precision@50:0.2141\n",
      "ndcg@10:0.1417\n",
      "ndcg@30:0.1285\n",
      "ndcg@50:0.1317\n",
      "ndcg@all:0.4124\n"
     ]
    },
    {
     "data": {
      "application/vnd.jupyter.widget-view+json": {
       "model_id": "2c3b9761ae974dbf83603e00762ebbf5",
       "version_major": 2,
       "version_minor": 0
      },
      "text/plain": [
       "Training:   0%|          | 0/313 [00:00<?, ?it/s]"
      ]
     },
     "metadata": {},
     "output_type": "display_data"
    },
    {
     "name": "stdout",
     "output_type": "stream",
     "text": [
      "[Epoch 99]\n",
      "precision@10:0.3144\n",
      "precision@30:0.2390\n",
      "precision@50:0.2141\n",
      "ndcg@10:0.1427\n",
      "ndcg@30:0.1291\n",
      "ndcg@50:0.1322\n",
      "ndcg@all:0.4126\n"
     ]
    },
    {
     "data": {
      "application/vnd.jupyter.widget-view+json": {
       "model_id": "1d520f29b3a3466e8941719ecff23db0",
       "version_major": 2,
       "version_minor": 0
      },
      "text/plain": [
       "Training:   0%|          | 0/313 [00:00<?, ?it/s]"
      ]
     },
     "metadata": {},
     "output_type": "display_data"
    },
    {
     "name": "stdout",
     "output_type": "stream",
     "text": [
      "[Epoch 100]\n",
      "precision@10:0.3160\n",
      "precision@30:0.2421\n",
      "precision@50:0.2138\n",
      "ndcg@10:0.1444\n",
      "ndcg@30:0.1306\n",
      "ndcg@50:0.1328\n",
      "ndcg@all:0.4132\n"
     ]
    },
    {
     "data": {
      "application/vnd.jupyter.widget-view+json": {
       "model_id": "73b78450f59445a3894d6318aedcc518",
       "version_major": 2,
       "version_minor": 0
      },
      "text/plain": [
       "Training:   0%|          | 0/313 [00:00<?, ?it/s]"
      ]
     },
     "metadata": {},
     "output_type": "display_data"
    },
    {
     "name": "stdout",
     "output_type": "stream",
     "text": [
      "[Epoch 101]\n",
      "precision@10:0.3194\n",
      "precision@30:0.2445\n",
      "precision@50:0.2133\n",
      "ndcg@10:0.1465\n",
      "ndcg@30:0.1321\n",
      "ndcg@50:0.1336\n",
      "ndcg@all:0.4136\n"
     ]
    },
    {
     "data": {
      "application/vnd.jupyter.widget-view+json": {
       "model_id": "94427d56fd5a494f83c5049eb09b2d34",
       "version_major": 2,
       "version_minor": 0
      },
      "text/plain": [
       "Training:   0%|          | 0/313 [00:00<?, ?it/s]"
      ]
     },
     "metadata": {},
     "output_type": "display_data"
    },
    {
     "name": "stdout",
     "output_type": "stream",
     "text": [
      "[Epoch 102]\n",
      "precision@10:0.3198\n",
      "precision@30:0.2457\n",
      "precision@50:0.2134\n",
      "ndcg@10:0.1458\n",
      "ndcg@30:0.1321\n",
      "ndcg@50:0.1334\n",
      "ndcg@all:0.4132\n"
     ]
    },
    {
     "data": {
      "application/vnd.jupyter.widget-view+json": {
       "model_id": "9f8444d9e0cb4d65906723d05a1ba682",
       "version_major": 2,
       "version_minor": 0
      },
      "text/plain": [
       "Training:   0%|          | 0/313 [00:00<?, ?it/s]"
      ]
     },
     "metadata": {},
     "output_type": "display_data"
    },
    {
     "name": "stdout",
     "output_type": "stream",
     "text": [
      "[Epoch 103]\n",
      "precision@10:0.3231\n",
      "precision@30:0.2471\n",
      "precision@50:0.2129\n",
      "ndcg@10:0.1473\n",
      "ndcg@30:0.1331\n",
      "ndcg@50:0.1339\n",
      "ndcg@all:0.4138\n"
     ]
    },
    {
     "data": {
      "application/vnd.jupyter.widget-view+json": {
       "model_id": "dcaa920d7a9944658bd5ce9e864fce15",
       "version_major": 2,
       "version_minor": 0
      },
      "text/plain": [
       "Training:   0%|          | 0/313 [00:00<?, ?it/s]"
      ]
     },
     "metadata": {},
     "output_type": "display_data"
    },
    {
     "name": "stdout",
     "output_type": "stream",
     "text": [
      "[Epoch 104]\n",
      "precision@10:0.3261\n",
      "precision@30:0.2471\n",
      "precision@50:0.2127\n",
      "ndcg@10:0.1491\n",
      "ndcg@30:0.1340\n",
      "ndcg@50:0.1346\n",
      "ndcg@all:0.4146\n"
     ]
    },
    {
     "data": {
      "application/vnd.jupyter.widget-view+json": {
       "model_id": "e537efc06ae141fbba87350038a0026e",
       "version_major": 2,
       "version_minor": 0
      },
      "text/plain": [
       "Training:   0%|          | 0/313 [00:00<?, ?it/s]"
      ]
     },
     "metadata": {},
     "output_type": "display_data"
    },
    {
     "name": "stdout",
     "output_type": "stream",
     "text": [
      "[Epoch 105]\n",
      "precision@10:0.3262\n",
      "precision@30:0.2471\n",
      "precision@50:0.2134\n",
      "ndcg@10:0.1486\n",
      "ndcg@30:0.1339\n",
      "ndcg@50:0.1346\n",
      "ndcg@all:0.4147\n"
     ]
    },
    {
     "data": {
      "application/vnd.jupyter.widget-view+json": {
       "model_id": "6498730ab4eb4673a7fdb2708ce50657",
       "version_major": 2,
       "version_minor": 0
      },
      "text/plain": [
       "Training:   0%|          | 0/313 [00:00<?, ?it/s]"
      ]
     },
     "metadata": {},
     "output_type": "display_data"
    },
    {
     "name": "stdout",
     "output_type": "stream",
     "text": [
      "[Epoch 106]\n",
      "precision@10:0.3281\n",
      "precision@30:0.2469\n",
      "precision@50:0.2120\n",
      "ndcg@10:0.1511\n",
      "ndcg@30:0.1349\n",
      "ndcg@50:0.1354\n",
      "ndcg@all:0.4149\n"
     ]
    },
    {
     "data": {
      "application/vnd.jupyter.widget-view+json": {
       "model_id": "0dd68ee4d9de4b1fa94c93ffb9269c6d",
       "version_major": 2,
       "version_minor": 0
      },
      "text/plain": [
       "Training:   0%|          | 0/313 [00:00<?, ?it/s]"
      ]
     },
     "metadata": {},
     "output_type": "display_data"
    },
    {
     "name": "stdout",
     "output_type": "stream",
     "text": [
      "[Epoch 107]\n",
      "precision@10:0.3324\n",
      "precision@30:0.2469\n",
      "precision@50:0.2125\n",
      "ndcg@10:0.1511\n",
      "ndcg@30:0.1347\n",
      "ndcg@50:0.1353\n",
      "ndcg@all:0.4151\n"
     ]
    },
    {
     "data": {
      "application/vnd.jupyter.widget-view+json": {
       "model_id": "039703fbe2e34871867c6f5556dbe48b",
       "version_major": 2,
       "version_minor": 0
      },
      "text/plain": [
       "Training:   0%|          | 0/313 [00:00<?, ?it/s]"
      ]
     },
     "metadata": {},
     "output_type": "display_data"
    },
    {
     "name": "stdout",
     "output_type": "stream",
     "text": [
      "[Epoch 108]\n",
      "precision@10:0.3350\n",
      "precision@30:0.2488\n",
      "precision@50:0.2117\n",
      "ndcg@10:0.1532\n",
      "ndcg@30:0.1362\n",
      "ndcg@50:0.1361\n",
      "ndcg@all:0.4157\n"
     ]
    },
    {
     "data": {
      "application/vnd.jupyter.widget-view+json": {
       "model_id": "2c13081eb3b94de79f93a8fdff667839",
       "version_major": 2,
       "version_minor": 0
      },
      "text/plain": [
       "Training:   0%|          | 0/313 [00:00<?, ?it/s]"
      ]
     },
     "metadata": {},
     "output_type": "display_data"
    },
    {
     "name": "stdout",
     "output_type": "stream",
     "text": [
      "[Epoch 109]\n",
      "precision@10:0.3384\n",
      "precision@30:0.2486\n",
      "precision@50:0.2113\n",
      "ndcg@10:0.1541\n",
      "ndcg@30:0.1365\n",
      "ndcg@50:0.1362\n",
      "ndcg@all:0.4156\n"
     ]
    },
    {
     "data": {
      "application/vnd.jupyter.widget-view+json": {
       "model_id": "54742938086c40b48e1d6ba7df30fcea",
       "version_major": 2,
       "version_minor": 0
      },
      "text/plain": [
       "Training:   0%|          | 0/313 [00:00<?, ?it/s]"
      ]
     },
     "metadata": {},
     "output_type": "display_data"
    },
    {
     "name": "stdout",
     "output_type": "stream",
     "text": [
      "[Epoch 110]\n",
      "precision@10:0.3430\n",
      "precision@30:0.2488\n",
      "precision@50:0.2116\n",
      "ndcg@10:0.1561\n",
      "ndcg@30:0.1374\n",
      "ndcg@50:0.1370\n",
      "ndcg@all:0.4167\n"
     ]
    },
    {
     "data": {
      "application/vnd.jupyter.widget-view+json": {
       "model_id": "2b32e40178d4458789b40fda80771393",
       "version_major": 2,
       "version_minor": 0
      },
      "text/plain": [
       "Training:   0%|          | 0/313 [00:00<?, ?it/s]"
      ]
     },
     "metadata": {},
     "output_type": "display_data"
    },
    {
     "name": "stdout",
     "output_type": "stream",
     "text": [
      "[Epoch 111]\n",
      "precision@10:0.3439\n",
      "precision@30:0.2488\n",
      "precision@50:0.2116\n",
      "ndcg@10:0.1561\n",
      "ndcg@30:0.1376\n",
      "ndcg@50:0.1372\n",
      "ndcg@all:0.4168\n"
     ]
    },
    {
     "data": {
      "application/vnd.jupyter.widget-view+json": {
       "model_id": "6daa54df48244cb49b4d75406317d0e7",
       "version_major": 2,
       "version_minor": 0
      },
      "text/plain": [
       "Training:   0%|          | 0/313 [00:00<?, ?it/s]"
      ]
     },
     "metadata": {},
     "output_type": "display_data"
    },
    {
     "name": "stdout",
     "output_type": "stream",
     "text": [
      "[Epoch 112]\n",
      "precision@10:0.3476\n",
      "precision@30:0.2485\n",
      "precision@50:0.2110\n",
      "ndcg@10:0.1577\n",
      "ndcg@30:0.1381\n",
      "ndcg@50:0.1375\n",
      "ndcg@all:0.4169\n"
     ]
    },
    {
     "data": {
      "application/vnd.jupyter.widget-view+json": {
       "model_id": "a9ef0cb615ae460c8e15798c31ee9068",
       "version_major": 2,
       "version_minor": 0
      },
      "text/plain": [
       "Training:   0%|          | 0/313 [00:00<?, ?it/s]"
      ]
     },
     "metadata": {},
     "output_type": "display_data"
    },
    {
     "name": "stdout",
     "output_type": "stream",
     "text": [
      "[Epoch 113]\n",
      "precision@10:0.3531\n",
      "precision@30:0.2483\n",
      "precision@50:0.2104\n",
      "ndcg@10:0.1596\n",
      "ndcg@30:0.1387\n",
      "ndcg@50:0.1380\n",
      "ndcg@all:0.4172\n"
     ]
    },
    {
     "data": {
      "application/vnd.jupyter.widget-view+json": {
       "model_id": "87916a0c24434ad39380b596e3566c94",
       "version_major": 2,
       "version_minor": 0
      },
      "text/plain": [
       "Training:   0%|          | 0/313 [00:00<?, ?it/s]"
      ]
     },
     "metadata": {},
     "output_type": "display_data"
    },
    {
     "name": "stdout",
     "output_type": "stream",
     "text": [
      "[Epoch 114]\n",
      "precision@10:0.3571\n",
      "precision@30:0.2492\n",
      "precision@50:0.2112\n",
      "ndcg@10:0.1597\n",
      "ndcg@30:0.1389\n",
      "ndcg@50:0.1382\n",
      "ndcg@all:0.4176\n"
     ]
    },
    {
     "data": {
      "application/vnd.jupyter.widget-view+json": {
       "model_id": "90e7e93be8c94d2795c7b779bc50474a",
       "version_major": 2,
       "version_minor": 0
      },
      "text/plain": [
       "Training:   0%|          | 0/313 [00:00<?, ?it/s]"
      ]
     },
     "metadata": {},
     "output_type": "display_data"
    },
    {
     "name": "stdout",
     "output_type": "stream",
     "text": [
      "[Epoch 115]\n",
      "precision@10:0.3598\n",
      "precision@30:0.2554\n",
      "precision@50:0.2109\n",
      "ndcg@10:0.1605\n",
      "ndcg@30:0.1410\n",
      "ndcg@50:0.1387\n",
      "ndcg@all:0.4183\n"
     ]
    },
    {
     "data": {
      "application/vnd.jupyter.widget-view+json": {
       "model_id": "62de90590a3840879e7956b4259f200b",
       "version_major": 2,
       "version_minor": 0
      },
      "text/plain": [
       "Training:   0%|          | 0/313 [00:00<?, ?it/s]"
      ]
     },
     "metadata": {},
     "output_type": "display_data"
    },
    {
     "name": "stdout",
     "output_type": "stream",
     "text": [
      "[Epoch 116]\n",
      "precision@10:0.3630\n",
      "precision@30:0.2569\n",
      "precision@50:0.2100\n",
      "ndcg@10:0.1619\n",
      "ndcg@30:0.1419\n",
      "ndcg@50:0.1390\n",
      "ndcg@all:0.4181\n"
     ]
    },
    {
     "data": {
      "application/vnd.jupyter.widget-view+json": {
       "model_id": "1fabce1a9ccd40c786fbbf561b536712",
       "version_major": 2,
       "version_minor": 0
      },
      "text/plain": [
       "Training:   0%|          | 0/313 [00:00<?, ?it/s]"
      ]
     },
     "metadata": {},
     "output_type": "display_data"
    },
    {
     "name": "stdout",
     "output_type": "stream",
     "text": [
      "[Epoch 117]\n",
      "precision@10:0.3657\n",
      "precision@30:0.2576\n",
      "precision@50:0.2092\n",
      "ndcg@10:0.1624\n",
      "ndcg@30:0.1423\n",
      "ndcg@50:0.1391\n",
      "ndcg@all:0.4179\n"
     ]
    },
    {
     "data": {
      "application/vnd.jupyter.widget-view+json": {
       "model_id": "a524531c7cbb49ff9dc2764b6c3e5961",
       "version_major": 2,
       "version_minor": 0
      },
      "text/plain": [
       "Training:   0%|          | 0/313 [00:00<?, ?it/s]"
      ]
     },
     "metadata": {},
     "output_type": "display_data"
    },
    {
     "name": "stdout",
     "output_type": "stream",
     "text": [
      "[Epoch 118]\n",
      "precision@10:0.3688\n",
      "precision@30:0.2573\n",
      "precision@50:0.2090\n",
      "ndcg@10:0.1627\n",
      "ndcg@30:0.1423\n",
      "ndcg@50:0.1391\n",
      "ndcg@all:0.4181\n"
     ]
    },
    {
     "data": {
      "application/vnd.jupyter.widget-view+json": {
       "model_id": "df99879eeed04cd88d78022b9ce1bc16",
       "version_major": 2,
       "version_minor": 0
      },
      "text/plain": [
       "Training:   0%|          | 0/313 [00:00<?, ?it/s]"
      ]
     },
     "metadata": {},
     "output_type": "display_data"
    },
    {
     "name": "stdout",
     "output_type": "stream",
     "text": [
      "[Epoch 119]\n",
      "precision@10:0.3707\n",
      "precision@30:0.2580\n",
      "precision@50:0.2088\n",
      "ndcg@10:0.1631\n",
      "ndcg@30:0.1427\n",
      "ndcg@50:0.1393\n",
      "ndcg@all:0.4186\n"
     ]
    },
    {
     "data": {
      "application/vnd.jupyter.widget-view+json": {
       "model_id": "a458e19db5134671ab079a1f4ea72fc9",
       "version_major": 2,
       "version_minor": 0
      },
      "text/plain": [
       "Training:   0%|          | 0/313 [00:00<?, ?it/s]"
      ]
     },
     "metadata": {},
     "output_type": "display_data"
    },
    {
     "name": "stdout",
     "output_type": "stream",
     "text": [
      "[Epoch 120]\n",
      "precision@10:0.3726\n",
      "precision@30:0.2601\n",
      "precision@50:0.2084\n",
      "ndcg@10:0.1641\n",
      "ndcg@30:0.1438\n",
      "ndcg@50:0.1399\n",
      "ndcg@all:0.4184\n"
     ]
    },
    {
     "data": {
      "application/vnd.jupyter.widget-view+json": {
       "model_id": "a41c22a5feee494baf0f3121d3d9ac2e",
       "version_major": 2,
       "version_minor": 0
      },
      "text/plain": [
       "Training:   0%|          | 0/313 [00:00<?, ?it/s]"
      ]
     },
     "metadata": {},
     "output_type": "display_data"
    },
    {
     "name": "stdout",
     "output_type": "stream",
     "text": [
      "[Epoch 121]\n",
      "precision@10:0.3743\n",
      "precision@30:0.2635\n",
      "precision@50:0.2087\n",
      "ndcg@10:0.1646\n",
      "ndcg@30:0.1448\n",
      "ndcg@50:0.1403\n",
      "ndcg@all:0.4188\n"
     ]
    },
    {
     "data": {
      "application/vnd.jupyter.widget-view+json": {
       "model_id": "e20a9f000fa846b1a442816c7d7239de",
       "version_major": 2,
       "version_minor": 0
      },
      "text/plain": [
       "Training:   0%|          | 0/313 [00:00<?, ?it/s]"
      ]
     },
     "metadata": {},
     "output_type": "display_data"
    },
    {
     "name": "stdout",
     "output_type": "stream",
     "text": [
      "[Epoch 122]\n",
      "precision@10:0.3764\n",
      "precision@30:0.2636\n",
      "precision@50:0.2083\n",
      "ndcg@10:0.1653\n",
      "ndcg@30:0.1452\n",
      "ndcg@50:0.1404\n",
      "ndcg@all:0.4190\n"
     ]
    },
    {
     "data": {
      "application/vnd.jupyter.widget-view+json": {
       "model_id": "2263ed4a283146dca37d85d810785016",
       "version_major": 2,
       "version_minor": 0
      },
      "text/plain": [
       "Training:   0%|          | 0/313 [00:00<?, ?it/s]"
      ]
     },
     "metadata": {},
     "output_type": "display_data"
    },
    {
     "name": "stdout",
     "output_type": "stream",
     "text": [
      "[Epoch 123]\n",
      "precision@10:0.3783\n",
      "precision@30:0.2626\n",
      "precision@50:0.2073\n",
      "ndcg@10:0.1657\n",
      "ndcg@30:0.1449\n",
      "ndcg@50:0.1402\n",
      "ndcg@all:0.4186\n"
     ]
    },
    {
     "data": {
      "application/vnd.jupyter.widget-view+json": {
       "model_id": "f56aa848086a456397e2d60763f5a6e0",
       "version_major": 2,
       "version_minor": 0
      },
      "text/plain": [
       "Training:   0%|          | 0/313 [00:00<?, ?it/s]"
      ]
     },
     "metadata": {},
     "output_type": "display_data"
    },
    {
     "name": "stdout",
     "output_type": "stream",
     "text": [
      "[Epoch 124]\n",
      "precision@10:0.3803\n",
      "precision@30:0.2631\n",
      "precision@50:0.2074\n",
      "ndcg@10:0.1670\n",
      "ndcg@30:0.1459\n",
      "ndcg@50:0.1408\n",
      "ndcg@all:0.4194\n"
     ]
    },
    {
     "data": {
      "application/vnd.jupyter.widget-view+json": {
       "model_id": "4b567a031b1b49f196497bce4768bbb5",
       "version_major": 2,
       "version_minor": 0
      },
      "text/plain": [
       "Training:   0%|          | 0/313 [00:00<?, ?it/s]"
      ]
     },
     "metadata": {},
     "output_type": "display_data"
    },
    {
     "name": "stdout",
     "output_type": "stream",
     "text": [
      "[Epoch 125]\n",
      "precision@10:0.3831\n",
      "precision@30:0.2621\n",
      "precision@50:0.2069\n",
      "ndcg@10:0.1670\n",
      "ndcg@30:0.1455\n",
      "ndcg@50:0.1407\n",
      "ndcg@all:0.4194\n"
     ]
    },
    {
     "data": {
      "application/vnd.jupyter.widget-view+json": {
       "model_id": "6d5a281c13be4b289117ea254ac0981f",
       "version_major": 2,
       "version_minor": 0
      },
      "text/plain": [
       "Training:   0%|          | 0/313 [00:00<?, ?it/s]"
      ]
     },
     "metadata": {},
     "output_type": "display_data"
    },
    {
     "name": "stdout",
     "output_type": "stream",
     "text": [
      "[Epoch 126]\n",
      "precision@10:0.3845\n",
      "precision@30:0.2610\n",
      "precision@50:0.2058\n",
      "ndcg@10:0.1674\n",
      "ndcg@30:0.1455\n",
      "ndcg@50:0.1405\n",
      "ndcg@all:0.4191\n"
     ]
    },
    {
     "data": {
      "application/vnd.jupyter.widget-view+json": {
       "model_id": "d3ed68587bae459da4081f2921dcfdb9",
       "version_major": 2,
       "version_minor": 0
      },
      "text/plain": [
       "Training:   0%|          | 0/313 [00:00<?, ?it/s]"
      ]
     },
     "metadata": {},
     "output_type": "display_data"
    },
    {
     "name": "stdout",
     "output_type": "stream",
     "text": [
      "[Epoch 127]\n",
      "precision@10:0.3855\n",
      "precision@30:0.2597\n",
      "precision@50:0.2051\n",
      "ndcg@10:0.1681\n",
      "ndcg@30:0.1457\n",
      "ndcg@50:0.1407\n",
      "ndcg@all:0.4194\n"
     ]
    },
    {
     "data": {
      "application/vnd.jupyter.widget-view+json": {
       "model_id": "2b0a4142e5ec405b8484f12d7c0d201b",
       "version_major": 2,
       "version_minor": 0
      },
      "text/plain": [
       "Training:   0%|          | 0/313 [00:00<?, ?it/s]"
      ]
     },
     "metadata": {},
     "output_type": "display_data"
    },
    {
     "name": "stdout",
     "output_type": "stream",
     "text": [
      "[Epoch 128]\n",
      "precision@10:0.3853\n",
      "precision@30:0.2604\n",
      "precision@50:0.2048\n",
      "ndcg@10:0.1675\n",
      "ndcg@30:0.1459\n",
      "ndcg@50:0.1407\n",
      "ndcg@all:0.4198\n"
     ]
    },
    {
     "data": {
      "application/vnd.jupyter.widget-view+json": {
       "model_id": "3d64c0819b1246deba3657c8eb696f37",
       "version_major": 2,
       "version_minor": 0
      },
      "text/plain": [
       "Training:   0%|          | 0/313 [00:00<?, ?it/s]"
      ]
     },
     "metadata": {},
     "output_type": "display_data"
    },
    {
     "name": "stdout",
     "output_type": "stream",
     "text": [
      "[Epoch 129]\n",
      "precision@10:0.3856\n",
      "precision@30:0.2601\n",
      "precision@50:0.2037\n",
      "ndcg@10:0.1682\n",
      "ndcg@30:0.1465\n",
      "ndcg@50:0.1408\n",
      "ndcg@all:0.4199\n"
     ]
    },
    {
     "data": {
      "application/vnd.jupyter.widget-view+json": {
       "model_id": "6828516c19d3489cb1b1b28aeab348f0",
       "version_major": 2,
       "version_minor": 0
      },
      "text/plain": [
       "Training:   0%|          | 0/313 [00:00<?, ?it/s]"
      ]
     },
     "metadata": {},
     "output_type": "display_data"
    },
    {
     "name": "stdout",
     "output_type": "stream",
     "text": [
      "[Epoch 130]\n",
      "precision@10:0.3858\n",
      "precision@30:0.2584\n",
      "precision@50:0.2021\n",
      "ndcg@10:0.1688\n",
      "ndcg@30:0.1465\n",
      "ndcg@50:0.1407\n",
      "ndcg@all:0.4196\n"
     ]
    },
    {
     "data": {
      "application/vnd.jupyter.widget-view+json": {
       "model_id": "5146186fca354336acaead7f84d52e79",
       "version_major": 2,
       "version_minor": 0
      },
      "text/plain": [
       "Training:   0%|          | 0/313 [00:00<?, ?it/s]"
      ]
     },
     "metadata": {},
     "output_type": "display_data"
    },
    {
     "name": "stdout",
     "output_type": "stream",
     "text": [
      "[Epoch 131]\n",
      "precision@10:0.3864\n",
      "precision@30:0.2587\n",
      "precision@50:0.2023\n",
      "ndcg@10:0.1687\n",
      "ndcg@30:0.1465\n",
      "ndcg@50:0.1406\n",
      "ndcg@all:0.4196\n"
     ]
    },
    {
     "data": {
      "application/vnd.jupyter.widget-view+json": {
       "model_id": "3a5e9fd6732349c48deb759d35c025a1",
       "version_major": 2,
       "version_minor": 0
      },
      "text/plain": [
       "Training:   0%|          | 0/313 [00:00<?, ?it/s]"
      ]
     },
     "metadata": {},
     "output_type": "display_data"
    },
    {
     "name": "stdout",
     "output_type": "stream",
     "text": [
      "[Epoch 132]\n",
      "precision@10:0.3861\n",
      "precision@30:0.2594\n",
      "precision@50:0.2032\n",
      "ndcg@10:0.1692\n",
      "ndcg@30:0.1470\n",
      "ndcg@50:0.1413\n",
      "ndcg@all:0.4205\n"
     ]
    },
    {
     "data": {
      "application/vnd.jupyter.widget-view+json": {
       "model_id": "fe2f69ab176f44248e3fc081938a1885",
       "version_major": 2,
       "version_minor": 0
      },
      "text/plain": [
       "Training:   0%|          | 0/313 [00:00<?, ?it/s]"
      ]
     },
     "metadata": {},
     "output_type": "display_data"
    },
    {
     "name": "stdout",
     "output_type": "stream",
     "text": [
      "[Epoch 133]\n",
      "precision@10:0.3880\n",
      "precision@30:0.2574\n",
      "precision@50:0.2014\n",
      "ndcg@10:0.1694\n",
      "ndcg@30:0.1467\n",
      "ndcg@50:0.1410\n",
      "ndcg@all:0.4199\n"
     ]
    },
    {
     "data": {
      "application/vnd.jupyter.widget-view+json": {
       "model_id": "9b9199587f28406694dd0284a06c9ce8",
       "version_major": 2,
       "version_minor": 0
      },
      "text/plain": [
       "Training:   0%|          | 0/313 [00:00<?, ?it/s]"
      ]
     },
     "metadata": {},
     "output_type": "display_data"
    },
    {
     "name": "stdout",
     "output_type": "stream",
     "text": [
      "[Epoch 134]\n",
      "precision@10:0.3909\n",
      "precision@30:0.2567\n",
      "precision@50:0.2003\n",
      "ndcg@10:0.1702\n",
      "ndcg@30:0.1467\n",
      "ndcg@50:0.1408\n",
      "ndcg@all:0.4197\n"
     ]
    },
    {
     "data": {
      "application/vnd.jupyter.widget-view+json": {
       "model_id": "9eedbdececb0409db9ed2e5217d6e666",
       "version_major": 2,
       "version_minor": 0
      },
      "text/plain": [
       "Training:   0%|          | 0/313 [00:00<?, ?it/s]"
      ]
     },
     "metadata": {},
     "output_type": "display_data"
    },
    {
     "name": "stdout",
     "output_type": "stream",
     "text": [
      "[Epoch 135]\n",
      "precision@10:0.3972\n",
      "precision@30:0.2566\n",
      "precision@50:0.2002\n",
      "ndcg@10:0.1714\n",
      "ndcg@30:0.1468\n",
      "ndcg@50:0.1409\n",
      "ndcg@all:0.4197\n"
     ]
    },
    {
     "data": {
      "application/vnd.jupyter.widget-view+json": {
       "model_id": "9915da7c5c444e4b8a9535ed20869f17",
       "version_major": 2,
       "version_minor": 0
      },
      "text/plain": [
       "Training:   0%|          | 0/313 [00:00<?, ?it/s]"
      ]
     },
     "metadata": {},
     "output_type": "display_data"
    },
    {
     "name": "stdout",
     "output_type": "stream",
     "text": [
      "[Epoch 136]\n",
      "precision@10:0.4000\n",
      "precision@30:0.2567\n",
      "precision@50:0.2004\n",
      "ndcg@10:0.1722\n",
      "ndcg@30:0.1473\n",
      "ndcg@50:0.1412\n",
      "ndcg@all:0.4203\n"
     ]
    },
    {
     "data": {
      "application/vnd.jupyter.widget-view+json": {
       "model_id": "3371b59621b44ade9a4805b560e8f76d",
       "version_major": 2,
       "version_minor": 0
      },
      "text/plain": [
       "Training:   0%|          | 0/313 [00:00<?, ?it/s]"
      ]
     },
     "metadata": {},
     "output_type": "display_data"
    },
    {
     "name": "stdout",
     "output_type": "stream",
     "text": [
      "[Epoch 137]\n",
      "precision@10:0.4001\n",
      "precision@30:0.2554\n",
      "precision@50:0.1996\n",
      "ndcg@10:0.1723\n",
      "ndcg@30:0.1473\n",
      "ndcg@50:0.1414\n",
      "ndcg@all:0.4202\n"
     ]
    },
    {
     "data": {
      "application/vnd.jupyter.widget-view+json": {
       "model_id": "fea4503715cd46b991894497c4526de4",
       "version_major": 2,
       "version_minor": 0
      },
      "text/plain": [
       "Training:   0%|          | 0/313 [00:00<?, ?it/s]"
      ]
     },
     "metadata": {},
     "output_type": "display_data"
    },
    {
     "name": "stdout",
     "output_type": "stream",
     "text": [
      "[Epoch 138]\n",
      "precision@10:0.4000\n",
      "precision@30:0.2555\n",
      "precision@50:0.1994\n",
      "ndcg@10:0.1725\n",
      "ndcg@30:0.1474\n",
      "ndcg@50:0.1414\n",
      "ndcg@all:0.4205\n"
     ]
    },
    {
     "data": {
      "application/vnd.jupyter.widget-view+json": {
       "model_id": "b197cb3526454ca6bec5e00789d87773",
       "version_major": 2,
       "version_minor": 0
      },
      "text/plain": [
       "Training:   0%|          | 0/313 [00:00<?, ?it/s]"
      ]
     },
     "metadata": {},
     "output_type": "display_data"
    },
    {
     "name": "stdout",
     "output_type": "stream",
     "text": [
      "[Epoch 139]\n",
      "precision@10:0.3997\n",
      "precision@30:0.2553\n",
      "precision@50:0.2000\n",
      "ndcg@10:0.1724\n",
      "ndcg@30:0.1473\n",
      "ndcg@50:0.1415\n",
      "ndcg@all:0.4207\n"
     ]
    },
    {
     "data": {
      "application/vnd.jupyter.widget-view+json": {
       "model_id": "460f0eecff354aa9aa43748000bf7826",
       "version_major": 2,
       "version_minor": 0
      },
      "text/plain": [
       "Training:   0%|          | 0/313 [00:00<?, ?it/s]"
      ]
     },
     "metadata": {},
     "output_type": "display_data"
    },
    {
     "name": "stdout",
     "output_type": "stream",
     "text": [
      "[Epoch 140]\n",
      "precision@10:0.3993\n",
      "precision@30:0.2549\n",
      "precision@50:0.1989\n",
      "ndcg@10:0.1724\n",
      "ndcg@30:0.1474\n",
      "ndcg@50:0.1413\n",
      "ndcg@all:0.4205\n"
     ]
    },
    {
     "data": {
      "application/vnd.jupyter.widget-view+json": {
       "model_id": "812760eae3dc4134bb1cdc44b55e9346",
       "version_major": 2,
       "version_minor": 0
      },
      "text/plain": [
       "Training:   0%|          | 0/313 [00:00<?, ?it/s]"
      ]
     },
     "metadata": {},
     "output_type": "display_data"
    },
    {
     "name": "stdout",
     "output_type": "stream",
     "text": [
      "[Epoch 141]\n",
      "precision@10:0.3987\n",
      "precision@30:0.2536\n",
      "precision@50:0.1980\n",
      "ndcg@10:0.1726\n",
      "ndcg@30:0.1473\n",
      "ndcg@50:0.1412\n",
      "ndcg@all:0.4203\n"
     ]
    },
    {
     "data": {
      "application/vnd.jupyter.widget-view+json": {
       "model_id": "cebc41f28435427a9bc8c3b59af4df25",
       "version_major": 2,
       "version_minor": 0
      },
      "text/plain": [
       "Training:   0%|          | 0/313 [00:00<?, ?it/s]"
      ]
     },
     "metadata": {},
     "output_type": "display_data"
    },
    {
     "name": "stdout",
     "output_type": "stream",
     "text": [
      "[Epoch 142]\n",
      "precision@10:0.3988\n",
      "precision@30:0.2543\n",
      "precision@50:0.1984\n",
      "ndcg@10:0.1730\n",
      "ndcg@30:0.1476\n",
      "ndcg@50:0.1414\n",
      "ndcg@all:0.4208\n"
     ]
    },
    {
     "data": {
      "application/vnd.jupyter.widget-view+json": {
       "model_id": "a9423230be98455cadc281851d9b96eb",
       "version_major": 2,
       "version_minor": 0
      },
      "text/plain": [
       "Training:   0%|          | 0/313 [00:00<?, ?it/s]"
      ]
     },
     "metadata": {},
     "output_type": "display_data"
    },
    {
     "name": "stdout",
     "output_type": "stream",
     "text": [
      "[Epoch 143]\n",
      "precision@10:0.3986\n",
      "precision@30:0.2537\n",
      "precision@50:0.1973\n",
      "ndcg@10:0.1729\n",
      "ndcg@30:0.1475\n",
      "ndcg@50:0.1411\n",
      "ndcg@all:0.4206\n"
     ]
    },
    {
     "data": {
      "application/vnd.jupyter.widget-view+json": {
       "model_id": "f8990dd6cbc7421b9bf717840e6dcea8",
       "version_major": 2,
       "version_minor": 0
      },
      "text/plain": [
       "Training:   0%|          | 0/313 [00:00<?, ?it/s]"
      ]
     },
     "metadata": {},
     "output_type": "display_data"
    },
    {
     "name": "stdout",
     "output_type": "stream",
     "text": [
      "[Epoch 144]\n",
      "precision@10:0.3983\n",
      "precision@30:0.2543\n",
      "precision@50:0.1986\n",
      "ndcg@10:0.1732\n",
      "ndcg@30:0.1479\n",
      "ndcg@50:0.1418\n",
      "ndcg@all:0.4211\n"
     ]
    },
    {
     "data": {
      "application/vnd.jupyter.widget-view+json": {
       "model_id": "05fb66a9d80d426fa1ef9d812c181d46",
       "version_major": 2,
       "version_minor": 0
      },
      "text/plain": [
       "Training:   0%|          | 0/313 [00:00<?, ?it/s]"
      ]
     },
     "metadata": {},
     "output_type": "display_data"
    },
    {
     "name": "stdout",
     "output_type": "stream",
     "text": [
      "[Epoch 145]\n",
      "precision@10:0.3978\n",
      "precision@30:0.2537\n",
      "precision@50:0.1974\n",
      "ndcg@10:0.1732\n",
      "ndcg@30:0.1478\n",
      "ndcg@50:0.1415\n",
      "ndcg@all:0.4207\n"
     ]
    },
    {
     "data": {
      "application/vnd.jupyter.widget-view+json": {
       "model_id": "1c64bbf248dd4e6b87d461e16afd7087",
       "version_major": 2,
       "version_minor": 0
      },
      "text/plain": [
       "Training:   0%|          | 0/313 [00:00<?, ?it/s]"
      ]
     },
     "metadata": {},
     "output_type": "display_data"
    },
    {
     "name": "stdout",
     "output_type": "stream",
     "text": [
      "[Epoch 146]\n",
      "precision@10:0.3976\n",
      "precision@30:0.2527\n",
      "precision@50:0.1965\n",
      "ndcg@10:0.1733\n",
      "ndcg@30:0.1477\n",
      "ndcg@50:0.1414\n",
      "ndcg@all:0.4205\n"
     ]
    },
    {
     "data": {
      "application/vnd.jupyter.widget-view+json": {
       "model_id": "bab5a36b833f44b7a19bb1dd7ea8e690",
       "version_major": 2,
       "version_minor": 0
      },
      "text/plain": [
       "Training:   0%|          | 0/313 [00:00<?, ?it/s]"
      ]
     },
     "metadata": {},
     "output_type": "display_data"
    },
    {
     "name": "stdout",
     "output_type": "stream",
     "text": [
      "[Epoch 147]\n",
      "precision@10:0.3977\n",
      "precision@30:0.2524\n",
      "precision@50:0.1969\n",
      "ndcg@10:0.1736\n",
      "ndcg@30:0.1479\n",
      "ndcg@50:0.1417\n",
      "ndcg@all:0.4209\n"
     ]
    },
    {
     "data": {
      "application/vnd.jupyter.widget-view+json": {
       "model_id": "1a3dbc49aca245cba9a2a4dd917de160",
       "version_major": 2,
       "version_minor": 0
      },
      "text/plain": [
       "Training:   0%|          | 0/313 [00:00<?, ?it/s]"
      ]
     },
     "metadata": {},
     "output_type": "display_data"
    },
    {
     "name": "stdout",
     "output_type": "stream",
     "text": [
      "[Epoch 148]\n",
      "precision@10:0.3978\n",
      "precision@30:0.2532\n",
      "precision@50:0.1973\n",
      "ndcg@10:0.1738\n",
      "ndcg@30:0.1482\n",
      "ndcg@50:0.1420\n",
      "ndcg@all:0.4214\n"
     ]
    },
    {
     "data": {
      "application/vnd.jupyter.widget-view+json": {
       "model_id": "d57403531fdc485ead570fe495c08f54",
       "version_major": 2,
       "version_minor": 0
      },
      "text/plain": [
       "Training:   0%|          | 0/313 [00:00<?, ?it/s]"
      ]
     },
     "metadata": {},
     "output_type": "display_data"
    },
    {
     "name": "stdout",
     "output_type": "stream",
     "text": [
      "[Epoch 149]\n",
      "precision@10:0.3994\n",
      "precision@30:0.2525\n",
      "precision@50:0.1965\n",
      "ndcg@10:0.1741\n",
      "ndcg@30:0.1481\n",
      "ndcg@50:0.1417\n",
      "ndcg@all:0.4209\n"
     ]
    },
    {
     "data": {
      "application/vnd.jupyter.widget-view+json": {
       "model_id": "d4a4657cd8ef4256b5ec6c704bfc2319",
       "version_major": 2,
       "version_minor": 0
      },
      "text/plain": [
       "Training:   0%|          | 0/313 [00:00<?, ?it/s]"
      ]
     },
     "metadata": {},
     "output_type": "display_data"
    },
    {
     "name": "stdout",
     "output_type": "stream",
     "text": [
      "[Epoch 150]\n",
      "precision@10:0.4054\n",
      "precision@30:0.2507\n",
      "precision@50:0.1953\n",
      "ndcg@10:0.1749\n",
      "ndcg@30:0.1477\n",
      "ndcg@50:0.1415\n",
      "ndcg@all:0.4206\n"
     ]
    },
    {
     "data": {
      "application/vnd.jupyter.widget-view+json": {
       "model_id": "f6748b95f0cc4b1ea8fa7d7cccb930cc",
       "version_major": 2,
       "version_minor": 0
      },
      "text/plain": [
       "Training:   0%|          | 0/313 [00:00<?, ?it/s]"
      ]
     },
     "metadata": {},
     "output_type": "display_data"
    },
    {
     "name": "stdout",
     "output_type": "stream",
     "text": [
      "[Epoch 151]\n",
      "precision@10:0.4057\n",
      "precision@30:0.2510\n",
      "precision@50:0.1951\n",
      "ndcg@10:0.1752\n",
      "ndcg@30:0.1479\n",
      "ndcg@50:0.1416\n",
      "ndcg@all:0.4208\n"
     ]
    },
    {
     "data": {
      "application/vnd.jupyter.widget-view+json": {
       "model_id": "ded51adf4b884aafa0dcf9707bb59dfd",
       "version_major": 2,
       "version_minor": 0
      },
      "text/plain": [
       "Training:   0%|          | 0/313 [00:00<?, ?it/s]"
      ]
     },
     "metadata": {},
     "output_type": "display_data"
    },
    {
     "name": "stdout",
     "output_type": "stream",
     "text": [
      "[Epoch 152]\n",
      "precision@10:0.4055\n",
      "precision@30:0.2507\n",
      "precision@50:0.1948\n",
      "ndcg@10:0.1753\n",
      "ndcg@30:0.1481\n",
      "ndcg@50:0.1416\n",
      "ndcg@all:0.4210\n"
     ]
    },
    {
     "data": {
      "application/vnd.jupyter.widget-view+json": {
       "model_id": "b6e071c023f5459dbca58772e2ac1f58",
       "version_major": 2,
       "version_minor": 0
      },
      "text/plain": [
       "Training:   0%|          | 0/313 [00:00<?, ?it/s]"
      ]
     },
     "metadata": {},
     "output_type": "display_data"
    },
    {
     "name": "stdout",
     "output_type": "stream",
     "text": [
      "[Epoch 153]\n",
      "precision@10:0.4048\n",
      "precision@30:0.2502\n",
      "precision@50:0.1943\n",
      "ndcg@10:0.1754\n",
      "ndcg@30:0.1480\n",
      "ndcg@50:0.1415\n",
      "ndcg@all:0.4211\n"
     ]
    },
    {
     "data": {
      "application/vnd.jupyter.widget-view+json": {
       "model_id": "8ce2c7cbf27f4722a63b68f41127105b",
       "version_major": 2,
       "version_minor": 0
      },
      "text/plain": [
       "Training:   0%|          | 0/313 [00:00<?, ?it/s]"
      ]
     },
     "metadata": {},
     "output_type": "display_data"
    },
    {
     "name": "stdout",
     "output_type": "stream",
     "text": [
      "[Epoch 154]\n",
      "precision@10:0.4048\n",
      "precision@30:0.2494\n",
      "precision@50:0.1935\n",
      "ndcg@10:0.1753\n",
      "ndcg@30:0.1479\n",
      "ndcg@50:0.1414\n",
      "ndcg@all:0.4205\n"
     ]
    },
    {
     "data": {
      "application/vnd.jupyter.widget-view+json": {
       "model_id": "4095b5171b2546bfa9fe89c9baeb5ec6",
       "version_major": 2,
       "version_minor": 0
      },
      "text/plain": [
       "Training:   0%|          | 0/313 [00:00<?, ?it/s]"
      ]
     },
     "metadata": {},
     "output_type": "display_data"
    },
    {
     "name": "stdout",
     "output_type": "stream",
     "text": [
      "[Epoch 155]\n",
      "precision@10:0.4052\n",
      "precision@30:0.2487\n",
      "precision@50:0.1931\n",
      "ndcg@10:0.1752\n",
      "ndcg@30:0.1475\n",
      "ndcg@50:0.1411\n",
      "ndcg@all:0.4206\n"
     ]
    },
    {
     "data": {
      "application/vnd.jupyter.widget-view+json": {
       "model_id": "de6a0bff3fb64857bb1d6a63a1094460",
       "version_major": 2,
       "version_minor": 0
      },
      "text/plain": [
       "Training:   0%|          | 0/313 [00:00<?, ?it/s]"
      ]
     },
     "metadata": {},
     "output_type": "display_data"
    },
    {
     "name": "stdout",
     "output_type": "stream",
     "text": [
      "[Epoch 156]\n",
      "precision@10:0.4050\n",
      "precision@30:0.2491\n",
      "precision@50:0.1936\n",
      "ndcg@10:0.1753\n",
      "ndcg@30:0.1477\n",
      "ndcg@50:0.1412\n",
      "ndcg@all:0.4208\n"
     ]
    },
    {
     "data": {
      "application/vnd.jupyter.widget-view+json": {
       "model_id": "41c25730f9f54eeba6423e49d4605022",
       "version_major": 2,
       "version_minor": 0
      },
      "text/plain": [
       "Training:   0%|          | 0/313 [00:00<?, ?it/s]"
      ]
     },
     "metadata": {},
     "output_type": "display_data"
    },
    {
     "name": "stdout",
     "output_type": "stream",
     "text": [
      "[Epoch 157]\n",
      "precision@10:0.4051\n",
      "precision@30:0.2495\n",
      "precision@50:0.1939\n",
      "ndcg@10:0.1757\n",
      "ndcg@30:0.1481\n",
      "ndcg@50:0.1416\n",
      "ndcg@all:0.4212\n"
     ]
    },
    {
     "data": {
      "application/vnd.jupyter.widget-view+json": {
       "model_id": "0fc3af0397394cb0b577e2063667e79d",
       "version_major": 2,
       "version_minor": 0
      },
      "text/plain": [
       "Training:   0%|          | 0/313 [00:00<?, ?it/s]"
      ]
     },
     "metadata": {},
     "output_type": "display_data"
    },
    {
     "name": "stdout",
     "output_type": "stream",
     "text": [
      "[Epoch 158]\n",
      "precision@10:0.4047\n",
      "precision@30:0.2488\n",
      "precision@50:0.1936\n",
      "ndcg@10:0.1755\n",
      "ndcg@30:0.1477\n",
      "ndcg@50:0.1414\n",
      "ndcg@all:0.4210\n"
     ]
    },
    {
     "data": {
      "application/vnd.jupyter.widget-view+json": {
       "model_id": "edf66cb02cec46ec9026cd3111abe442",
       "version_major": 2,
       "version_minor": 0
      },
      "text/plain": [
       "Training:   0%|          | 0/313 [00:00<?, ?it/s]"
      ]
     },
     "metadata": {},
     "output_type": "display_data"
    },
    {
     "name": "stdout",
     "output_type": "stream",
     "text": [
      "[Epoch 159]\n",
      "precision@10:0.4048\n",
      "precision@30:0.2483\n",
      "precision@50:0.1927\n",
      "ndcg@10:0.1754\n",
      "ndcg@30:0.1477\n",
      "ndcg@50:0.1412\n",
      "ndcg@all:0.4210\n"
     ]
    },
    {
     "data": {
      "application/vnd.jupyter.widget-view+json": {
       "model_id": "60346b7d9ae948618a9a5a8d7518945d",
       "version_major": 2,
       "version_minor": 0
      },
      "text/plain": [
       "Training:   0%|          | 0/313 [00:00<?, ?it/s]"
      ]
     },
     "metadata": {},
     "output_type": "display_data"
    },
    {
     "name": "stdout",
     "output_type": "stream",
     "text": [
      "[Epoch 160]\n",
      "precision@10:0.4049\n",
      "precision@30:0.2478\n",
      "precision@50:0.1927\n",
      "ndcg@10:0.1757\n",
      "ndcg@30:0.1478\n",
      "ndcg@50:0.1414\n",
      "ndcg@all:0.4207\n"
     ]
    },
    {
     "data": {
      "application/vnd.jupyter.widget-view+json": {
       "model_id": "7e3a5bbd5db9450cbd41c2ea4c975ff6",
       "version_major": 2,
       "version_minor": 0
      },
      "text/plain": [
       "Training:   0%|          | 0/313 [00:00<?, ?it/s]"
      ]
     },
     "metadata": {},
     "output_type": "display_data"
    },
    {
     "name": "stdout",
     "output_type": "stream",
     "text": [
      "[Epoch 161]\n",
      "precision@10:0.4043\n",
      "precision@30:0.2486\n",
      "precision@50:0.1932\n",
      "ndcg@10:0.1756\n",
      "ndcg@30:0.1480\n",
      "ndcg@50:0.1414\n",
      "ndcg@all:0.4210\n"
     ]
    },
    {
     "data": {
      "application/vnd.jupyter.widget-view+json": {
       "model_id": "4e6674bcc26644bf91988b5291cd1546",
       "version_major": 2,
       "version_minor": 0
      },
      "text/plain": [
       "Training:   0%|          | 0/313 [00:00<?, ?it/s]"
      ]
     },
     "metadata": {},
     "output_type": "display_data"
    },
    {
     "name": "stdout",
     "output_type": "stream",
     "text": [
      "[Epoch 162]\n",
      "precision@10:0.4043\n",
      "precision@30:0.2473\n",
      "precision@50:0.1917\n",
      "ndcg@10:0.1760\n",
      "ndcg@30:0.1478\n",
      "ndcg@50:0.1412\n",
      "ndcg@all:0.4208\n"
     ]
    },
    {
     "data": {
      "application/vnd.jupyter.widget-view+json": {
       "model_id": "a6af7cd8d06e4af19745f680a195b296",
       "version_major": 2,
       "version_minor": 0
      },
      "text/plain": [
       "Training:   0%|          | 0/313 [00:00<?, ?it/s]"
      ]
     },
     "metadata": {},
     "output_type": "display_data"
    },
    {
     "name": "stdout",
     "output_type": "stream",
     "text": [
      "[Epoch 163]\n",
      "precision@10:0.4041\n",
      "precision@30:0.2471\n",
      "precision@50:0.1914\n",
      "ndcg@10:0.1755\n",
      "ndcg@30:0.1478\n",
      "ndcg@50:0.1411\n",
      "ndcg@all:0.4206\n"
     ]
    },
    {
     "data": {
      "application/vnd.jupyter.widget-view+json": {
       "model_id": "bf0e71962a9f40768ef82868aa1b7e8e",
       "version_major": 2,
       "version_minor": 0
      },
      "text/plain": [
       "Training:   0%|          | 0/313 [00:00<?, ?it/s]"
      ]
     },
     "metadata": {},
     "output_type": "display_data"
    },
    {
     "name": "stdout",
     "output_type": "stream",
     "text": [
      "[Epoch 164]\n",
      "precision@10:0.4043\n",
      "precision@30:0.2475\n",
      "precision@50:0.1919\n",
      "ndcg@10:0.1757\n",
      "ndcg@30:0.1480\n",
      "ndcg@50:0.1413\n",
      "ndcg@all:0.4208\n"
     ]
    },
    {
     "data": {
      "application/vnd.jupyter.widget-view+json": {
       "model_id": "36ecb3c53c584b33a1f9a9db4a3c61b9",
       "version_major": 2,
       "version_minor": 0
      },
      "text/plain": [
       "Training:   0%|          | 0/313 [00:00<?, ?it/s]"
      ]
     },
     "metadata": {},
     "output_type": "display_data"
    },
    {
     "name": "stdout",
     "output_type": "stream",
     "text": [
      "[Epoch 165]\n",
      "precision@10:0.4039\n",
      "precision@30:0.2467\n",
      "precision@50:0.1915\n",
      "ndcg@10:0.1758\n",
      "ndcg@30:0.1478\n",
      "ndcg@50:0.1412\n",
      "ndcg@all:0.4207\n"
     ]
    },
    {
     "data": {
      "application/vnd.jupyter.widget-view+json": {
       "model_id": "6a680758f291499b91fdae600c9710c1",
       "version_major": 2,
       "version_minor": 0
      },
      "text/plain": [
       "Training:   0%|          | 0/313 [00:00<?, ?it/s]"
      ]
     },
     "metadata": {},
     "output_type": "display_data"
    },
    {
     "name": "stdout",
     "output_type": "stream",
     "text": [
      "[Epoch 166]\n",
      "precision@10:0.4040\n",
      "precision@30:0.2466\n",
      "precision@50:0.1917\n",
      "ndcg@10:0.1759\n",
      "ndcg@30:0.1479\n",
      "ndcg@50:0.1414\n",
      "ndcg@all:0.4210\n"
     ]
    },
    {
     "data": {
      "application/vnd.jupyter.widget-view+json": {
       "model_id": "ddd35d4c7e634c3db1b244600e749a10",
       "version_major": 2,
       "version_minor": 0
      },
      "text/plain": [
       "Training:   0%|          | 0/313 [00:00<?, ?it/s]"
      ]
     },
     "metadata": {},
     "output_type": "display_data"
    },
    {
     "name": "stdout",
     "output_type": "stream",
     "text": [
      "[Epoch 167]\n",
      "precision@10:0.4037\n",
      "precision@30:0.2470\n",
      "precision@50:0.1917\n",
      "ndcg@10:0.1757\n",
      "ndcg@30:0.1479\n",
      "ndcg@50:0.1414\n",
      "ndcg@all:0.4210\n"
     ]
    },
    {
     "data": {
      "application/vnd.jupyter.widget-view+json": {
       "model_id": "4f7843308d2142a1905f7ee111d09b89",
       "version_major": 2,
       "version_minor": 0
      },
      "text/plain": [
       "Training:   0%|          | 0/313 [00:00<?, ?it/s]"
      ]
     },
     "metadata": {},
     "output_type": "display_data"
    },
    {
     "name": "stdout",
     "output_type": "stream",
     "text": [
      "[Epoch 168]\n",
      "precision@10:0.4033\n",
      "precision@30:0.2465\n",
      "precision@50:0.1913\n",
      "ndcg@10:0.1759\n",
      "ndcg@30:0.1481\n",
      "ndcg@50:0.1414\n",
      "ndcg@all:0.4211\n"
     ]
    },
    {
     "data": {
      "application/vnd.jupyter.widget-view+json": {
       "model_id": "b63aed14427c499380841fb15e7532c2",
       "version_major": 2,
       "version_minor": 0
      },
      "text/plain": [
       "Training:   0%|          | 0/313 [00:00<?, ?it/s]"
      ]
     },
     "metadata": {},
     "output_type": "display_data"
    },
    {
     "name": "stdout",
     "output_type": "stream",
     "text": [
      "[Epoch 169]\n",
      "precision@10:0.4039\n",
      "precision@30:0.2469\n",
      "precision@50:0.1917\n",
      "ndcg@10:0.1761\n",
      "ndcg@30:0.1481\n",
      "ndcg@50:0.1414\n",
      "ndcg@all:0.4212\n"
     ]
    },
    {
     "data": {
      "application/vnd.jupyter.widget-view+json": {
       "model_id": "11fee3edc1d14fecaf2e1ac57a1c26d5",
       "version_major": 2,
       "version_minor": 0
      },
      "text/plain": [
       "Training:   0%|          | 0/313 [00:00<?, ?it/s]"
      ]
     },
     "metadata": {},
     "output_type": "display_data"
    },
    {
     "name": "stdout",
     "output_type": "stream",
     "text": [
      "[Epoch 170]\n",
      "precision@10:0.4034\n",
      "precision@30:0.2455\n",
      "precision@50:0.1905\n",
      "ndcg@10:0.1759\n",
      "ndcg@30:0.1478\n",
      "ndcg@50:0.1411\n",
      "ndcg@all:0.4208\n"
     ]
    },
    {
     "data": {
      "application/vnd.jupyter.widget-view+json": {
       "model_id": "0464e6293a3d4b9f94842a90b8ae6599",
       "version_major": 2,
       "version_minor": 0
      },
      "text/plain": [
       "Training:   0%|          | 0/313 [00:00<?, ?it/s]"
      ]
     },
     "metadata": {},
     "output_type": "display_data"
    },
    {
     "name": "stdout",
     "output_type": "stream",
     "text": [
      "[Epoch 171]\n",
      "precision@10:0.4034\n",
      "precision@30:0.2470\n",
      "precision@50:0.1919\n",
      "ndcg@10:0.1760\n",
      "ndcg@30:0.1482\n",
      "ndcg@50:0.1416\n",
      "ndcg@all:0.4215\n"
     ]
    },
    {
     "data": {
      "application/vnd.jupyter.widget-view+json": {
       "model_id": "47b6919072c64abf8268a87fd7fce52d",
       "version_major": 2,
       "version_minor": 0
      },
      "text/plain": [
       "Training:   0%|          | 0/313 [00:00<?, ?it/s]"
      ]
     },
     "metadata": {},
     "output_type": "display_data"
    },
    {
     "name": "stdout",
     "output_type": "stream",
     "text": [
      "[Epoch 172]\n",
      "precision@10:0.4032\n",
      "precision@30:0.2454\n",
      "precision@50:0.1903\n",
      "ndcg@10:0.1758\n",
      "ndcg@30:0.1479\n",
      "ndcg@50:0.1412\n",
      "ndcg@all:0.4207\n"
     ]
    },
    {
     "data": {
      "application/vnd.jupyter.widget-view+json": {
       "model_id": "90e670ab9f3246eb82c919391f7aeb19",
       "version_major": 2,
       "version_minor": 0
      },
      "text/plain": [
       "Training:   0%|          | 0/313 [00:00<?, ?it/s]"
      ]
     },
     "metadata": {},
     "output_type": "display_data"
    },
    {
     "name": "stdout",
     "output_type": "stream",
     "text": [
      "[Epoch 173]\n",
      "precision@10:0.4036\n",
      "precision@30:0.2455\n",
      "precision@50:0.1905\n",
      "ndcg@10:0.1760\n",
      "ndcg@30:0.1479\n",
      "ndcg@50:0.1413\n",
      "ndcg@all:0.4211\n"
     ]
    },
    {
     "data": {
      "application/vnd.jupyter.widget-view+json": {
       "model_id": "f8cc99bfd90b4c90b19262596f25cc34",
       "version_major": 2,
       "version_minor": 0
      },
      "text/plain": [
       "Training:   0%|          | 0/313 [00:00<?, ?it/s]"
      ]
     },
     "metadata": {},
     "output_type": "display_data"
    },
    {
     "name": "stdout",
     "output_type": "stream",
     "text": [
      "[Epoch 174]\n",
      "precision@10:0.4031\n",
      "precision@30:0.2442\n",
      "precision@50:0.1893\n",
      "ndcg@10:0.1760\n",
      "ndcg@30:0.1477\n",
      "ndcg@50:0.1411\n",
      "ndcg@all:0.4205\n"
     ]
    },
    {
     "data": {
      "application/vnd.jupyter.widget-view+json": {
       "model_id": "869a613dcbeb42ddb563ce2d6638e926",
       "version_major": 2,
       "version_minor": 0
      },
      "text/plain": [
       "Training:   0%|          | 0/313 [00:00<?, ?it/s]"
      ]
     },
     "metadata": {},
     "output_type": "display_data"
    },
    {
     "name": "stdout",
     "output_type": "stream",
     "text": [
      "[Epoch 175]\n",
      "precision@10:0.4038\n",
      "precision@30:0.2447\n",
      "precision@50:0.1901\n",
      "ndcg@10:0.1761\n",
      "ndcg@30:0.1478\n",
      "ndcg@50:0.1413\n",
      "ndcg@all:0.4210\n"
     ]
    },
    {
     "data": {
      "application/vnd.jupyter.widget-view+json": {
       "model_id": "deed8f6decb54591a8261e989c287568",
       "version_major": 2,
       "version_minor": 0
      },
      "text/plain": [
       "Training:   0%|          | 0/313 [00:00<?, ?it/s]"
      ]
     },
     "metadata": {},
     "output_type": "display_data"
    },
    {
     "name": "stdout",
     "output_type": "stream",
     "text": [
      "[Epoch 176]\n",
      "precision@10:0.4033\n",
      "precision@30:0.2439\n",
      "precision@50:0.1890\n",
      "ndcg@10:0.1763\n",
      "ndcg@30:0.1478\n",
      "ndcg@50:0.1411\n",
      "ndcg@all:0.4207\n"
     ]
    },
    {
     "data": {
      "application/vnd.jupyter.widget-view+json": {
       "model_id": "00edb5420ebb45d6a628a03f3ce0c2c9",
       "version_major": 2,
       "version_minor": 0
      },
      "text/plain": [
       "Training:   0%|          | 0/313 [00:00<?, ?it/s]"
      ]
     },
     "metadata": {},
     "output_type": "display_data"
    },
    {
     "name": "stdout",
     "output_type": "stream",
     "text": [
      "[Epoch 177]\n",
      "precision@10:0.4029\n",
      "precision@30:0.2434\n",
      "precision@50:0.1889\n",
      "ndcg@10:0.1763\n",
      "ndcg@30:0.1478\n",
      "ndcg@50:0.1413\n",
      "ndcg@all:0.4207\n"
     ]
    },
    {
     "data": {
      "application/vnd.jupyter.widget-view+json": {
       "model_id": "2ffb7aa40a6b4cd99d76addf88fcaa41",
       "version_major": 2,
       "version_minor": 0
      },
      "text/plain": [
       "Training:   0%|          | 0/313 [00:00<?, ?it/s]"
      ]
     },
     "metadata": {},
     "output_type": "display_data"
    },
    {
     "name": "stdout",
     "output_type": "stream",
     "text": [
      "[Epoch 178]\n",
      "precision@10:0.4027\n",
      "precision@30:0.2442\n",
      "precision@50:0.1891\n",
      "ndcg@10:0.1763\n",
      "ndcg@30:0.1480\n",
      "ndcg@50:0.1413\n",
      "ndcg@all:0.4211\n"
     ]
    },
    {
     "data": {
      "application/vnd.jupyter.widget-view+json": {
       "model_id": "bff8e7b4b43f4c9fbe35ee01a3099cfb",
       "version_major": 2,
       "version_minor": 0
      },
      "text/plain": [
       "Training:   0%|          | 0/313 [00:00<?, ?it/s]"
      ]
     },
     "metadata": {},
     "output_type": "display_data"
    },
    {
     "name": "stdout",
     "output_type": "stream",
     "text": [
      "[Epoch 179]\n",
      "precision@10:0.4018\n",
      "precision@30:0.2435\n",
      "precision@50:0.1885\n",
      "ndcg@10:0.1760\n",
      "ndcg@30:0.1479\n",
      "ndcg@50:0.1410\n",
      "ndcg@all:0.4206\n"
     ]
    },
    {
     "data": {
      "application/vnd.jupyter.widget-view+json": {
       "model_id": "3e41f567493b465fb19929048b3a8053",
       "version_major": 2,
       "version_minor": 0
      },
      "text/plain": [
       "Training:   0%|          | 0/313 [00:00<?, ?it/s]"
      ]
     },
     "metadata": {},
     "output_type": "display_data"
    },
    {
     "name": "stdout",
     "output_type": "stream",
     "text": [
      "[Epoch 180]\n",
      "precision@10:0.4029\n",
      "precision@30:0.2437\n",
      "precision@50:0.1892\n",
      "ndcg@10:0.1765\n",
      "ndcg@30:0.1480\n",
      "ndcg@50:0.1414\n",
      "ndcg@all:0.4211\n"
     ]
    },
    {
     "data": {
      "application/vnd.jupyter.widget-view+json": {
       "model_id": "9c93ee5e759a4f998ea752a3bdf26a61",
       "version_major": 2,
       "version_minor": 0
      },
      "text/plain": [
       "Training:   0%|          | 0/313 [00:00<?, ?it/s]"
      ]
     },
     "metadata": {},
     "output_type": "display_data"
    },
    {
     "name": "stdout",
     "output_type": "stream",
     "text": [
      "[Epoch 181]\n",
      "precision@10:0.4035\n",
      "precision@30:0.2440\n",
      "precision@50:0.1888\n",
      "ndcg@10:0.1767\n",
      "ndcg@30:0.1483\n",
      "ndcg@50:0.1414\n",
      "ndcg@all:0.4211\n"
     ]
    },
    {
     "data": {
      "application/vnd.jupyter.widget-view+json": {
       "model_id": "f09a87ddbad341b9ac3833d9381c553a",
       "version_major": 2,
       "version_minor": 0
      },
      "text/plain": [
       "Training:   0%|          | 0/313 [00:00<?, ?it/s]"
      ]
     },
     "metadata": {},
     "output_type": "display_data"
    },
    {
     "name": "stdout",
     "output_type": "stream",
     "text": [
      "[Epoch 182]\n",
      "precision@10:0.4027\n",
      "precision@30:0.2441\n",
      "precision@50:0.1891\n",
      "ndcg@10:0.1767\n",
      "ndcg@30:0.1484\n",
      "ndcg@50:0.1417\n",
      "ndcg@all:0.4211\n"
     ]
    },
    {
     "data": {
      "application/vnd.jupyter.widget-view+json": {
       "model_id": "ed973b05c062485385cb3b9cb769ad97",
       "version_major": 2,
       "version_minor": 0
      },
      "text/plain": [
       "Training:   0%|          | 0/313 [00:00<?, ?it/s]"
      ]
     },
     "metadata": {},
     "output_type": "display_data"
    },
    {
     "name": "stdout",
     "output_type": "stream",
     "text": [
      "[Epoch 183]\n",
      "precision@10:0.4021\n",
      "precision@30:0.2426\n",
      "precision@50:0.1882\n",
      "ndcg@10:0.1765\n",
      "ndcg@30:0.1480\n",
      "ndcg@50:0.1414\n",
      "ndcg@all:0.4209\n"
     ]
    },
    {
     "data": {
      "application/vnd.jupyter.widget-view+json": {
       "model_id": "d5b3c76ba1e14702aa75f8c0afccb974",
       "version_major": 2,
       "version_minor": 0
      },
      "text/plain": [
       "Training:   0%|          | 0/313 [00:00<?, ?it/s]"
      ]
     },
     "metadata": {},
     "output_type": "display_data"
    },
    {
     "name": "stdout",
     "output_type": "stream",
     "text": [
      "[Epoch 184]\n",
      "precision@10:0.4026\n",
      "precision@30:0.2432\n",
      "precision@50:0.1877\n",
      "ndcg@10:0.1765\n",
      "ndcg@30:0.1481\n",
      "ndcg@50:0.1411\n",
      "ndcg@all:0.4209\n"
     ]
    },
    {
     "data": {
      "application/vnd.jupyter.widget-view+json": {
       "model_id": "c99f3edebad741edb77c70840709ec8e",
       "version_major": 2,
       "version_minor": 0
      },
      "text/plain": [
       "Training:   0%|          | 0/313 [00:00<?, ?it/s]"
      ]
     },
     "metadata": {},
     "output_type": "display_data"
    },
    {
     "name": "stdout",
     "output_type": "stream",
     "text": [
      "[Epoch 185]\n",
      "precision@10:0.4021\n",
      "precision@30:0.2436\n",
      "precision@50:0.1887\n",
      "ndcg@10:0.1768\n",
      "ndcg@30:0.1483\n",
      "ndcg@50:0.1416\n",
      "ndcg@all:0.4216\n"
     ]
    },
    {
     "data": {
      "application/vnd.jupyter.widget-view+json": {
       "model_id": "4e9282268a4c4dcea9747615cb98e3bc",
       "version_major": 2,
       "version_minor": 0
      },
      "text/plain": [
       "Training:   0%|          | 0/313 [00:00<?, ?it/s]"
      ]
     },
     "metadata": {},
     "output_type": "display_data"
    },
    {
     "name": "stdout",
     "output_type": "stream",
     "text": [
      "[Epoch 186]\n",
      "precision@10:0.4019\n",
      "precision@30:0.2426\n",
      "precision@50:0.1869\n",
      "ndcg@10:0.1767\n",
      "ndcg@30:0.1482\n",
      "ndcg@50:0.1410\n",
      "ndcg@all:0.4207\n"
     ]
    },
    {
     "data": {
      "application/vnd.jupyter.widget-view+json": {
       "model_id": "717048a8530c4b8c80a969b07b84250d",
       "version_major": 2,
       "version_minor": 0
      },
      "text/plain": [
       "Training:   0%|          | 0/313 [00:00<?, ?it/s]"
      ]
     },
     "metadata": {},
     "output_type": "display_data"
    },
    {
     "name": "stdout",
     "output_type": "stream",
     "text": [
      "[Epoch 187]\n",
      "precision@10:0.4021\n",
      "precision@30:0.2431\n",
      "precision@50:0.1885\n",
      "ndcg@10:0.1769\n",
      "ndcg@30:0.1483\n",
      "ndcg@50:0.1416\n",
      "ndcg@all:0.4214\n"
     ]
    },
    {
     "data": {
      "application/vnd.jupyter.widget-view+json": {
       "model_id": "eb185cfc28d7421c9774bcbfa0df56a1",
       "version_major": 2,
       "version_minor": 0
      },
      "text/plain": [
       "Training:   0%|          | 0/313 [00:00<?, ?it/s]"
      ]
     },
     "metadata": {},
     "output_type": "display_data"
    },
    {
     "name": "stdout",
     "output_type": "stream",
     "text": [
      "[Epoch 188]\n",
      "precision@10:0.4021\n",
      "precision@30:0.2419\n",
      "precision@50:0.1867\n",
      "ndcg@10:0.1767\n",
      "ndcg@30:0.1482\n",
      "ndcg@50:0.1412\n",
      "ndcg@all:0.4208\n"
     ]
    },
    {
     "data": {
      "application/vnd.jupyter.widget-view+json": {
       "model_id": "ba20470e3eb0431e9f14971cfa2863fa",
       "version_major": 2,
       "version_minor": 0
      },
      "text/plain": [
       "Training:   0%|          | 0/313 [00:00<?, ?it/s]"
      ]
     },
     "metadata": {},
     "output_type": "display_data"
    },
    {
     "name": "stdout",
     "output_type": "stream",
     "text": [
      "[Epoch 189]\n",
      "precision@10:0.4014\n",
      "precision@30:0.2418\n",
      "precision@50:0.1869\n",
      "ndcg@10:0.1770\n",
      "ndcg@30:0.1482\n",
      "ndcg@50:0.1413\n",
      "ndcg@all:0.4210\n"
     ]
    },
    {
     "data": {
      "application/vnd.jupyter.widget-view+json": {
       "model_id": "d1372ef4f31449ddaa2629df60971fdb",
       "version_major": 2,
       "version_minor": 0
      },
      "text/plain": [
       "Training:   0%|          | 0/313 [00:00<?, ?it/s]"
      ]
     },
     "metadata": {},
     "output_type": "display_data"
    },
    {
     "name": "stdout",
     "output_type": "stream",
     "text": [
      "[Epoch 190]\n",
      "precision@10:0.4007\n",
      "precision@30:0.2426\n",
      "precision@50:0.1877\n",
      "ndcg@10:0.1769\n",
      "ndcg@30:0.1485\n",
      "ndcg@50:0.1417\n",
      "ndcg@all:0.4214\n"
     ]
    },
    {
     "data": {
      "application/vnd.jupyter.widget-view+json": {
       "model_id": "aa18e0708498498085476d82408f91f2",
       "version_major": 2,
       "version_minor": 0
      },
      "text/plain": [
       "Training:   0%|          | 0/313 [00:00<?, ?it/s]"
      ]
     },
     "metadata": {},
     "output_type": "display_data"
    },
    {
     "name": "stdout",
     "output_type": "stream",
     "text": [
      "[Epoch 191]\n",
      "precision@10:0.3999\n",
      "precision@30:0.2414\n",
      "precision@50:0.1862\n",
      "ndcg@10:0.1768\n",
      "ndcg@30:0.1484\n",
      "ndcg@50:0.1413\n",
      "ndcg@all:0.4208\n"
     ]
    },
    {
     "data": {
      "application/vnd.jupyter.widget-view+json": {
       "model_id": "366f2f9eb09e4c31aa2d24f5ffb81cdc",
       "version_major": 2,
       "version_minor": 0
      },
      "text/plain": [
       "Training:   0%|          | 0/313 [00:00<?, ?it/s]"
      ]
     },
     "metadata": {},
     "output_type": "display_data"
    },
    {
     "name": "stdout",
     "output_type": "stream",
     "text": [
      "[Epoch 192]\n",
      "precision@10:0.3993\n",
      "precision@30:0.2421\n",
      "precision@50:0.1874\n",
      "ndcg@10:0.1771\n",
      "ndcg@30:0.1485\n",
      "ndcg@50:0.1418\n",
      "ndcg@all:0.4215\n"
     ]
    },
    {
     "data": {
      "application/vnd.jupyter.widget-view+json": {
       "model_id": "af440fb405fd458d88bac06e6234ea07",
       "version_major": 2,
       "version_minor": 0
      },
      "text/plain": [
       "Training:   0%|          | 0/313 [00:00<?, ?it/s]"
      ]
     },
     "metadata": {},
     "output_type": "display_data"
    },
    {
     "name": "stdout",
     "output_type": "stream",
     "text": [
      "[Epoch 193]\n",
      "precision@10:0.3991\n",
      "precision@30:0.2411\n",
      "precision@50:0.1863\n",
      "ndcg@10:0.1768\n",
      "ndcg@30:0.1483\n",
      "ndcg@50:0.1414\n",
      "ndcg@all:0.4211\n"
     ]
    },
    {
     "data": {
      "application/vnd.jupyter.widget-view+json": {
       "model_id": "8f7712a2d2314806af3decf8fd658418",
       "version_major": 2,
       "version_minor": 0
      },
      "text/plain": [
       "Training:   0%|          | 0/313 [00:00<?, ?it/s]"
      ]
     },
     "metadata": {},
     "output_type": "display_data"
    },
    {
     "name": "stdout",
     "output_type": "stream",
     "text": [
      "[Epoch 194]\n",
      "precision@10:0.3999\n",
      "precision@30:0.2406\n",
      "precision@50:0.1858\n",
      "ndcg@10:0.1773\n",
      "ndcg@30:0.1484\n",
      "ndcg@50:0.1413\n",
      "ndcg@all:0.4212\n"
     ]
    },
    {
     "data": {
      "application/vnd.jupyter.widget-view+json": {
       "model_id": "e5d318d0eccb4e85891cd4269e2f4fb0",
       "version_major": 2,
       "version_minor": 0
      },
      "text/plain": [
       "Training:   0%|          | 0/313 [00:00<?, ?it/s]"
      ]
     },
     "metadata": {},
     "output_type": "display_data"
    },
    {
     "name": "stdout",
     "output_type": "stream",
     "text": [
      "[Epoch 195]\n",
      "precision@10:0.4000\n",
      "precision@30:0.2408\n",
      "precision@50:0.1865\n",
      "ndcg@10:0.1774\n",
      "ndcg@30:0.1485\n",
      "ndcg@50:0.1417\n",
      "ndcg@all:0.4215\n"
     ]
    },
    {
     "data": {
      "application/vnd.jupyter.widget-view+json": {
       "model_id": "797346ea0c1e47babd6571c21defc740",
       "version_major": 2,
       "version_minor": 0
      },
      "text/plain": [
       "Training:   0%|          | 0/313 [00:00<?, ?it/s]"
      ]
     },
     "metadata": {},
     "output_type": "display_data"
    },
    {
     "name": "stdout",
     "output_type": "stream",
     "text": [
      "[Epoch 196]\n",
      "precision@10:0.4005\n",
      "precision@30:0.2406\n",
      "precision@50:0.1859\n",
      "ndcg@10:0.1777\n",
      "ndcg@30:0.1486\n",
      "ndcg@50:0.1416\n",
      "ndcg@all:0.4213\n"
     ]
    },
    {
     "data": {
      "application/vnd.jupyter.widget-view+json": {
       "model_id": "c476052d87ad4d64bb8f0104e712e390",
       "version_major": 2,
       "version_minor": 0
      },
      "text/plain": [
       "Training:   0%|          | 0/313 [00:00<?, ?it/s]"
      ]
     },
     "metadata": {},
     "output_type": "display_data"
    },
    {
     "name": "stdout",
     "output_type": "stream",
     "text": [
      "[Epoch 197]\n",
      "precision@10:0.4059\n",
      "precision@30:0.2394\n",
      "precision@50:0.1850\n",
      "ndcg@10:0.1791\n",
      "ndcg@30:0.1487\n",
      "ndcg@50:0.1416\n",
      "ndcg@all:0.4216\n"
     ]
    },
    {
     "data": {
      "application/vnd.jupyter.widget-view+json": {
       "model_id": "93d286a54ec3493f949a87653a3d9ecb",
       "version_major": 2,
       "version_minor": 0
      },
      "text/plain": [
       "Training:   0%|          | 0/313 [00:00<?, ?it/s]"
      ]
     },
     "metadata": {},
     "output_type": "display_data"
    },
    {
     "name": "stdout",
     "output_type": "stream",
     "text": [
      "[Epoch 198]\n",
      "precision@10:0.4056\n",
      "precision@30:0.2388\n",
      "precision@50:0.1847\n",
      "ndcg@10:0.1792\n",
      "ndcg@30:0.1486\n",
      "ndcg@50:0.1417\n",
      "ndcg@all:0.4214\n"
     ]
    },
    {
     "data": {
      "application/vnd.jupyter.widget-view+json": {
       "model_id": "eda1eea270c6469d930725cf192762e0",
       "version_major": 2,
       "version_minor": 0
      },
      "text/plain": [
       "Training:   0%|          | 0/313 [00:00<?, ?it/s]"
      ]
     },
     "metadata": {},
     "output_type": "display_data"
    },
    {
     "name": "stdout",
     "output_type": "stream",
     "text": [
      "[Epoch 199]\n",
      "precision@10:0.4056\n",
      "precision@30:0.2399\n",
      "precision@50:0.1859\n",
      "ndcg@10:0.1792\n",
      "ndcg@30:0.1489\n",
      "ndcg@50:0.1421\n",
      "ndcg@all:0.4223\n"
     ]
    },
    {
     "data": {
      "application/vnd.jupyter.widget-view+json": {
       "model_id": "005d1f658ccc4f949b6bb9d3c1eace92",
       "version_major": 2,
       "version_minor": 0
      },
      "text/plain": [
       "Training:   0%|          | 0/313 [00:00<?, ?it/s]"
      ]
     },
     "metadata": {},
     "output_type": "display_data"
    },
    {
     "name": "stdout",
     "output_type": "stream",
     "text": [
      "[Epoch 200]\n",
      "precision@10:0.4051\n",
      "precision@30:0.2390\n",
      "precision@50:0.1850\n",
      "ndcg@10:0.1789\n",
      "ndcg@30:0.1486\n",
      "ndcg@50:0.1417\n",
      "ndcg@all:0.4218\n"
     ]
    },
    {
     "data": {
      "application/vnd.jupyter.widget-view+json": {
       "model_id": "873d7d513f014ff8956ad65bb873a819",
       "version_major": 2,
       "version_minor": 0
      },
      "text/plain": [
       "Training:   0%|          | 0/313 [00:00<?, ?it/s]"
      ]
     },
     "metadata": {},
     "output_type": "display_data"
    },
    {
     "name": "stdout",
     "output_type": "stream",
     "text": [
      "[Epoch 201]\n",
      "precision@10:0.4048\n",
      "precision@30:0.2381\n",
      "precision@50:0.1838\n",
      "ndcg@10:0.1792\n",
      "ndcg@30:0.1486\n",
      "ndcg@50:0.1415\n",
      "ndcg@all:0.4215\n"
     ]
    },
    {
     "data": {
      "application/vnd.jupyter.widget-view+json": {
       "model_id": "abe8c5df66574173992096e95c93f4a2",
       "version_major": 2,
       "version_minor": 0
      },
      "text/plain": [
       "Training:   0%|          | 0/313 [00:00<?, ?it/s]"
      ]
     },
     "metadata": {},
     "output_type": "display_data"
    },
    {
     "name": "stdout",
     "output_type": "stream",
     "text": [
      "[Epoch 202]\n",
      "precision@10:0.4056\n",
      "precision@30:0.2393\n",
      "precision@50:0.1850\n",
      "ndcg@10:0.1793\n",
      "ndcg@30:0.1489\n",
      "ndcg@50:0.1420\n",
      "ndcg@all:0.4220\n"
     ]
    },
    {
     "data": {
      "application/vnd.jupyter.widget-view+json": {
       "model_id": "bdb069acc5b6492a89fe0715bd9c9a29",
       "version_major": 2,
       "version_minor": 0
      },
      "text/plain": [
       "Training:   0%|          | 0/313 [00:00<?, ?it/s]"
      ]
     },
     "metadata": {},
     "output_type": "display_data"
    },
    {
     "name": "stdout",
     "output_type": "stream",
     "text": [
      "[Epoch 203]\n",
      "precision@10:0.4049\n",
      "precision@30:0.2383\n",
      "precision@50:0.1842\n",
      "ndcg@10:0.1791\n",
      "ndcg@30:0.1489\n",
      "ndcg@50:0.1418\n",
      "ndcg@all:0.4218\n"
     ]
    },
    {
     "data": {
      "application/vnd.jupyter.widget-view+json": {
       "model_id": "e8083beec9cd4d3980c9bde87c793cf1",
       "version_major": 2,
       "version_minor": 0
      },
      "text/plain": [
       "Training:   0%|          | 0/313 [00:00<?, ?it/s]"
      ]
     },
     "metadata": {},
     "output_type": "display_data"
    },
    {
     "name": "stdout",
     "output_type": "stream",
     "text": [
      "[Epoch 204]\n",
      "precision@10:0.4050\n",
      "precision@30:0.2378\n",
      "precision@50:0.1843\n",
      "ndcg@10:0.1793\n",
      "ndcg@30:0.1488\n",
      "ndcg@50:0.1419\n",
      "ndcg@all:0.4217\n"
     ]
    },
    {
     "data": {
      "application/vnd.jupyter.widget-view+json": {
       "model_id": "b8b67b24ac014e16a88c6581378f0cdc",
       "version_major": 2,
       "version_minor": 0
      },
      "text/plain": [
       "Training:   0%|          | 0/313 [00:00<?, ?it/s]"
      ]
     },
     "metadata": {},
     "output_type": "display_data"
    },
    {
     "name": "stdout",
     "output_type": "stream",
     "text": [
      "[Epoch 205]\n",
      "precision@10:0.4050\n",
      "precision@30:0.2385\n",
      "precision@50:0.1846\n",
      "ndcg@10:0.1793\n",
      "ndcg@30:0.1490\n",
      "ndcg@50:0.1420\n",
      "ndcg@all:0.4220\n"
     ]
    },
    {
     "data": {
      "application/vnd.jupyter.widget-view+json": {
       "model_id": "8a3dae6261734d3b95db77a1b7b35406",
       "version_major": 2,
       "version_minor": 0
      },
      "text/plain": [
       "Training:   0%|          | 0/313 [00:00<?, ?it/s]"
      ]
     },
     "metadata": {},
     "output_type": "display_data"
    },
    {
     "name": "stdout",
     "output_type": "stream",
     "text": [
      "[Epoch 206]\n",
      "precision@10:0.4052\n",
      "precision@30:0.2388\n",
      "precision@50:0.1847\n",
      "ndcg@10:0.1796\n",
      "ndcg@30:0.1491\n",
      "ndcg@50:0.1420\n",
      "ndcg@all:0.4221\n"
     ]
    },
    {
     "data": {
      "application/vnd.jupyter.widget-view+json": {
       "model_id": "e350d0812fcb47c79ce4ef6ef00ab991",
       "version_major": 2,
       "version_minor": 0
      },
      "text/plain": [
       "Training:   0%|          | 0/313 [00:00<?, ?it/s]"
      ]
     },
     "metadata": {},
     "output_type": "display_data"
    },
    {
     "name": "stdout",
     "output_type": "stream",
     "text": [
      "[Epoch 207]\n",
      "precision@10:0.4040\n",
      "precision@30:0.2375\n",
      "precision@50:0.1831\n",
      "ndcg@10:0.1795\n",
      "ndcg@30:0.1489\n",
      "ndcg@50:0.1416\n",
      "ndcg@all:0.4217\n"
     ]
    },
    {
     "data": {
      "application/vnd.jupyter.widget-view+json": {
       "model_id": "809527651cd147d9a0378dd2f183d55b",
       "version_major": 2,
       "version_minor": 0
      },
      "text/plain": [
       "Training:   0%|          | 0/313 [00:00<?, ?it/s]"
      ]
     },
     "metadata": {},
     "output_type": "display_data"
    },
    {
     "name": "stdout",
     "output_type": "stream",
     "text": [
      "[Epoch 208]\n",
      "precision@10:0.4042\n",
      "precision@30:0.2369\n",
      "precision@50:0.1832\n",
      "ndcg@10:0.1794\n",
      "ndcg@30:0.1488\n",
      "ndcg@50:0.1417\n",
      "ndcg@all:0.4216\n"
     ]
    },
    {
     "data": {
      "application/vnd.jupyter.widget-view+json": {
       "model_id": "46cde3be141d4e0e9e9d7f5ad2529492",
       "version_major": 2,
       "version_minor": 0
      },
      "text/plain": [
       "Training:   0%|          | 0/313 [00:00<?, ?it/s]"
      ]
     },
     "metadata": {},
     "output_type": "display_data"
    },
    {
     "name": "stdout",
     "output_type": "stream",
     "text": [
      "[Epoch 209]\n",
      "precision@10:0.4046\n",
      "precision@30:0.2371\n",
      "precision@50:0.1827\n",
      "ndcg@10:0.1796\n",
      "ndcg@30:0.1488\n",
      "ndcg@50:0.1416\n",
      "ndcg@all:0.4216\n"
     ]
    },
    {
     "data": {
      "application/vnd.jupyter.widget-view+json": {
       "model_id": "81f123df9e9346c3b62119ac01e97847",
       "version_major": 2,
       "version_minor": 0
      },
      "text/plain": [
       "Training:   0%|          | 0/313 [00:00<?, ?it/s]"
      ]
     },
     "metadata": {},
     "output_type": "display_data"
    },
    {
     "name": "stdout",
     "output_type": "stream",
     "text": [
      "[Epoch 210]\n",
      "precision@10:0.4042\n",
      "precision@30:0.2367\n",
      "precision@50:0.1832\n",
      "ndcg@10:0.1793\n",
      "ndcg@30:0.1487\n",
      "ndcg@50:0.1416\n",
      "ndcg@all:0.4219\n"
     ]
    },
    {
     "data": {
      "application/vnd.jupyter.widget-view+json": {
       "model_id": "09bec26853d648b6b3cf354bcc4bd10e",
       "version_major": 2,
       "version_minor": 0
      },
      "text/plain": [
       "Training:   0%|          | 0/313 [00:00<?, ?it/s]"
      ]
     },
     "metadata": {},
     "output_type": "display_data"
    },
    {
     "name": "stdout",
     "output_type": "stream",
     "text": [
      "[Epoch 211]\n",
      "precision@10:0.4008\n",
      "precision@30:0.2362\n",
      "precision@50:0.1823\n",
      "ndcg@10:0.1793\n",
      "ndcg@30:0.1488\n",
      "ndcg@50:0.1416\n",
      "ndcg@all:0.4216\n"
     ]
    },
    {
     "data": {
      "application/vnd.jupyter.widget-view+json": {
       "model_id": "f80baa5baaee48d1bf9b10f1c3cbbf1a",
       "version_major": 2,
       "version_minor": 0
      },
      "text/plain": [
       "Training:   0%|          | 0/313 [00:00<?, ?it/s]"
      ]
     },
     "metadata": {},
     "output_type": "display_data"
    },
    {
     "name": "stdout",
     "output_type": "stream",
     "text": [
      "[Epoch 212]\n",
      "precision@10:0.3988\n",
      "precision@30:0.2360\n",
      "precision@50:0.1830\n",
      "ndcg@10:0.1792\n",
      "ndcg@30:0.1488\n",
      "ndcg@50:0.1418\n",
      "ndcg@all:0.4220\n"
     ]
    },
    {
     "data": {
      "application/vnd.jupyter.widget-view+json": {
       "model_id": "b19de2a18dd9476c86c006c3a501de87",
       "version_major": 2,
       "version_minor": 0
      },
      "text/plain": [
       "Training:   0%|          | 0/313 [00:00<?, ?it/s]"
      ]
     },
     "metadata": {},
     "output_type": "display_data"
    },
    {
     "name": "stdout",
     "output_type": "stream",
     "text": [
      "[Epoch 213]\n",
      "precision@10:0.3969\n",
      "precision@30:0.2357\n",
      "precision@50:0.1822\n",
      "ndcg@10:0.1790\n",
      "ndcg@30:0.1488\n",
      "ndcg@50:0.1417\n",
      "ndcg@all:0.4220\n"
     ]
    },
    {
     "data": {
      "application/vnd.jupyter.widget-view+json": {
       "model_id": "4af1fb35c8cf40fe85df4214a7a382a1",
       "version_major": 2,
       "version_minor": 0
      },
      "text/plain": [
       "Training:   0%|          | 0/313 [00:00<?, ?it/s]"
      ]
     },
     "metadata": {},
     "output_type": "display_data"
    },
    {
     "name": "stdout",
     "output_type": "stream",
     "text": [
      "[Epoch 214]\n",
      "precision@10:0.3977\n",
      "precision@30:0.2347\n",
      "precision@50:0.1818\n",
      "ndcg@10:0.1794\n",
      "ndcg@30:0.1486\n",
      "ndcg@50:0.1416\n",
      "ndcg@all:0.4218\n"
     ]
    },
    {
     "data": {
      "application/vnd.jupyter.widget-view+json": {
       "model_id": "ae87c7b7dd664c62a88a027521e7109a",
       "version_major": 2,
       "version_minor": 0
      },
      "text/plain": [
       "Training:   0%|          | 0/313 [00:00<?, ?it/s]"
      ]
     },
     "metadata": {},
     "output_type": "display_data"
    },
    {
     "name": "stdout",
     "output_type": "stream",
     "text": [
      "[Epoch 215]\n",
      "precision@10:0.3976\n",
      "precision@30:0.2340\n",
      "precision@50:0.1812\n",
      "ndcg@10:0.1794\n",
      "ndcg@30:0.1486\n",
      "ndcg@50:0.1415\n",
      "ndcg@all:0.4217\n"
     ]
    },
    {
     "data": {
      "application/vnd.jupyter.widget-view+json": {
       "model_id": "3a684b113f0948bdb1d52ffd82772cd8",
       "version_major": 2,
       "version_minor": 0
      },
      "text/plain": [
       "Training:   0%|          | 0/313 [00:00<?, ?it/s]"
      ]
     },
     "metadata": {},
     "output_type": "display_data"
    },
    {
     "name": "stdout",
     "output_type": "stream",
     "text": [
      "[Epoch 216]\n",
      "precision@10:0.3980\n",
      "precision@30:0.2367\n",
      "precision@50:0.1829\n",
      "ndcg@10:0.1796\n",
      "ndcg@30:0.1494\n",
      "ndcg@50:0.1422\n",
      "ndcg@all:0.4227\n"
     ]
    },
    {
     "data": {
      "application/vnd.jupyter.widget-view+json": {
       "model_id": "bf77a2cfb71a48f4a51934ebc1df6eb4",
       "version_major": 2,
       "version_minor": 0
      },
      "text/plain": [
       "Training:   0%|          | 0/313 [00:00<?, ?it/s]"
      ]
     },
     "metadata": {},
     "output_type": "display_data"
    },
    {
     "name": "stdout",
     "output_type": "stream",
     "text": [
      "[Epoch 217]\n",
      "precision@10:0.3971\n",
      "precision@30:0.2351\n",
      "precision@50:0.1820\n",
      "ndcg@10:0.1796\n",
      "ndcg@30:0.1490\n",
      "ndcg@50:0.1420\n",
      "ndcg@all:0.4222\n"
     ]
    },
    {
     "data": {
      "application/vnd.jupyter.widget-view+json": {
       "model_id": "015d7c7ce55541fc8d6103e766d59777",
       "version_major": 2,
       "version_minor": 0
      },
      "text/plain": [
       "Training:   0%|          | 0/313 [00:00<?, ?it/s]"
      ]
     },
     "metadata": {},
     "output_type": "display_data"
    },
    {
     "name": "stdout",
     "output_type": "stream",
     "text": [
      "[Epoch 218]\n",
      "precision@10:0.3984\n",
      "precision@30:0.2344\n",
      "precision@50:0.1811\n",
      "ndcg@10:0.1800\n",
      "ndcg@30:0.1490\n",
      "ndcg@50:0.1417\n",
      "ndcg@all:0.4221\n"
     ]
    },
    {
     "data": {
      "application/vnd.jupyter.widget-view+json": {
       "model_id": "61bd70022bd746aebeb23c7b5ae16158",
       "version_major": 2,
       "version_minor": 0
      },
      "text/plain": [
       "Training:   0%|          | 0/313 [00:00<?, ?it/s]"
      ]
     },
     "metadata": {},
     "output_type": "display_data"
    },
    {
     "name": "stdout",
     "output_type": "stream",
     "text": [
      "[Epoch 219]\n",
      "precision@10:0.3969\n",
      "precision@30:0.2344\n",
      "precision@50:0.1814\n",
      "ndcg@10:0.1799\n",
      "ndcg@30:0.1491\n",
      "ndcg@50:0.1419\n",
      "ndcg@all:0.4225\n"
     ]
    },
    {
     "data": {
      "application/vnd.jupyter.widget-view+json": {
       "model_id": "0e3b1b7ceccd47319c847b0c2607d8d6",
       "version_major": 2,
       "version_minor": 0
      },
      "text/plain": [
       "Training:   0%|          | 0/313 [00:00<?, ?it/s]"
      ]
     },
     "metadata": {},
     "output_type": "display_data"
    },
    {
     "name": "stdout",
     "output_type": "stream",
     "text": [
      "[Epoch 220]\n",
      "precision@10:0.3960\n",
      "precision@30:0.2349\n",
      "precision@50:0.1822\n",
      "ndcg@10:0.1795\n",
      "ndcg@30:0.1491\n",
      "ndcg@50:0.1422\n",
      "ndcg@all:0.4225\n"
     ]
    },
    {
     "data": {
      "application/vnd.jupyter.widget-view+json": {
       "model_id": "0cbb77163698421282bb25d53fa8f36e",
       "version_major": 2,
       "version_minor": 0
      },
      "text/plain": [
       "Training:   0%|          | 0/313 [00:00<?, ?it/s]"
      ]
     },
     "metadata": {},
     "output_type": "display_data"
    },
    {
     "name": "stdout",
     "output_type": "stream",
     "text": [
      "[Epoch 221]\n",
      "precision@10:0.3955\n",
      "precision@30:0.2338\n",
      "precision@50:0.1812\n",
      "ndcg@10:0.1798\n",
      "ndcg@30:0.1491\n",
      "ndcg@50:0.1421\n",
      "ndcg@all:0.4222\n"
     ]
    },
    {
     "data": {
      "application/vnd.jupyter.widget-view+json": {
       "model_id": "d6c0a4ee144b457ca13707fa8299c931",
       "version_major": 2,
       "version_minor": 0
      },
      "text/plain": [
       "Training:   0%|          | 0/313 [00:00<?, ?it/s]"
      ]
     },
     "metadata": {},
     "output_type": "display_data"
    },
    {
     "name": "stdout",
     "output_type": "stream",
     "text": [
      "[Epoch 222]\n",
      "precision@10:0.3945\n",
      "precision@30:0.2325\n",
      "precision@50:0.1799\n",
      "ndcg@10:0.1797\n",
      "ndcg@30:0.1486\n",
      "ndcg@50:0.1416\n",
      "ndcg@all:0.4219\n"
     ]
    },
    {
     "data": {
      "application/vnd.jupyter.widget-view+json": {
       "model_id": "423da7e9c8694c2eb00f89dd68996a44",
       "version_major": 2,
       "version_minor": 0
      },
      "text/plain": [
       "Training:   0%|          | 0/313 [00:00<?, ?it/s]"
      ]
     },
     "metadata": {},
     "output_type": "display_data"
    },
    {
     "name": "stdout",
     "output_type": "stream",
     "text": [
      "[Epoch 223]\n",
      "precision@10:0.3953\n",
      "precision@30:0.2333\n",
      "precision@50:0.1805\n",
      "ndcg@10:0.1798\n",
      "ndcg@30:0.1489\n",
      "ndcg@50:0.1418\n",
      "ndcg@all:0.4221\n"
     ]
    },
    {
     "data": {
      "application/vnd.jupyter.widget-view+json": {
       "model_id": "a6afe02d8db44f828e730decb507a609",
       "version_major": 2,
       "version_minor": 0
      },
      "text/plain": [
       "Training:   0%|          | 0/313 [00:00<?, ?it/s]"
      ]
     },
     "metadata": {},
     "output_type": "display_data"
    },
    {
     "name": "stdout",
     "output_type": "stream",
     "text": [
      "[Epoch 224]\n",
      "precision@10:0.3944\n",
      "precision@30:0.2333\n",
      "precision@50:0.1806\n",
      "ndcg@10:0.1797\n",
      "ndcg@30:0.1489\n",
      "ndcg@50:0.1418\n",
      "ndcg@all:0.4221\n"
     ]
    },
    {
     "data": {
      "application/vnd.jupyter.widget-view+json": {
       "model_id": "de6ab099054d48e2bc82cc7bb9b212c1",
       "version_major": 2,
       "version_minor": 0
      },
      "text/plain": [
       "Training:   0%|          | 0/313 [00:00<?, ?it/s]"
      ]
     },
     "metadata": {},
     "output_type": "display_data"
    },
    {
     "name": "stdout",
     "output_type": "stream",
     "text": [
      "[Epoch 225]\n",
      "precision@10:0.3935\n",
      "precision@30:0.2321\n",
      "precision@50:0.1798\n",
      "ndcg@10:0.1795\n",
      "ndcg@30:0.1486\n",
      "ndcg@50:0.1416\n",
      "ndcg@all:0.4218\n"
     ]
    },
    {
     "data": {
      "application/vnd.jupyter.widget-view+json": {
       "model_id": "1746eb9bd5f548188f9600bbe99a7c2d",
       "version_major": 2,
       "version_minor": 0
      },
      "text/plain": [
       "Training:   0%|          | 0/313 [00:00<?, ?it/s]"
      ]
     },
     "metadata": {},
     "output_type": "display_data"
    },
    {
     "name": "stdout",
     "output_type": "stream",
     "text": [
      "[Epoch 226]\n",
      "precision@10:0.3944\n",
      "precision@30:0.2328\n",
      "precision@50:0.1806\n",
      "ndcg@10:0.1799\n",
      "ndcg@30:0.1492\n",
      "ndcg@50:0.1421\n",
      "ndcg@all:0.4224\n"
     ]
    },
    {
     "data": {
      "application/vnd.jupyter.widget-view+json": {
       "model_id": "8196c5c8024442939711cd97001dd536",
       "version_major": 2,
       "version_minor": 0
      },
      "text/plain": [
       "Training:   0%|          | 0/313 [00:00<?, ?it/s]"
      ]
     },
     "metadata": {},
     "output_type": "display_data"
    },
    {
     "name": "stdout",
     "output_type": "stream",
     "text": [
      "[Epoch 227]\n",
      "precision@10:0.3948\n",
      "precision@30:0.2323\n",
      "precision@50:0.1802\n",
      "ndcg@10:0.1797\n",
      "ndcg@30:0.1486\n",
      "ndcg@50:0.1418\n",
      "ndcg@all:0.4222\n"
     ]
    },
    {
     "data": {
      "application/vnd.jupyter.widget-view+json": {
       "model_id": "f77dc697489144ad8ae73cc0a0c7209a",
       "version_major": 2,
       "version_minor": 0
      },
      "text/plain": [
       "Training:   0%|          | 0/313 [00:00<?, ?it/s]"
      ]
     },
     "metadata": {},
     "output_type": "display_data"
    },
    {
     "name": "stdout",
     "output_type": "stream",
     "text": [
      "[Epoch 228]\n",
      "precision@10:0.3923\n",
      "precision@30:0.2305\n",
      "precision@50:0.1790\n",
      "ndcg@10:0.1795\n",
      "ndcg@30:0.1484\n",
      "ndcg@50:0.1414\n",
      "ndcg@all:0.4217\n"
     ]
    },
    {
     "data": {
      "application/vnd.jupyter.widget-view+json": {
       "model_id": "e4b3d7055db742758155c1a8bbc69d63",
       "version_major": 2,
       "version_minor": 0
      },
      "text/plain": [
       "Training:   0%|          | 0/313 [00:00<?, ?it/s]"
      ]
     },
     "metadata": {},
     "output_type": "display_data"
    },
    {
     "name": "stdout",
     "output_type": "stream",
     "text": [
      "[Epoch 229]\n",
      "precision@10:0.3939\n",
      "precision@30:0.2326\n",
      "precision@50:0.1804\n",
      "ndcg@10:0.1797\n",
      "ndcg@30:0.1490\n",
      "ndcg@50:0.1420\n",
      "ndcg@all:0.4225\n"
     ]
    },
    {
     "data": {
      "application/vnd.jupyter.widget-view+json": {
       "model_id": "e94339c151924cf292bd4bf9307b0c27",
       "version_major": 2,
       "version_minor": 0
      },
      "text/plain": [
       "Training:   0%|          | 0/313 [00:00<?, ?it/s]"
      ]
     },
     "metadata": {},
     "output_type": "display_data"
    },
    {
     "name": "stdout",
     "output_type": "stream",
     "text": [
      "[Epoch 230]\n",
      "precision@10:0.3939\n",
      "precision@30:0.2321\n",
      "precision@50:0.1797\n",
      "ndcg@10:0.1798\n",
      "ndcg@30:0.1489\n",
      "ndcg@50:0.1417\n",
      "ndcg@all:0.4224\n"
     ]
    },
    {
     "data": {
      "application/vnd.jupyter.widget-view+json": {
       "model_id": "9f5406dd3b40410898920b4f7731669d",
       "version_major": 2,
       "version_minor": 0
      },
      "text/plain": [
       "Training:   0%|          | 0/313 [00:00<?, ?it/s]"
      ]
     },
     "metadata": {},
     "output_type": "display_data"
    },
    {
     "name": "stdout",
     "output_type": "stream",
     "text": [
      "[Epoch 231]\n",
      "precision@10:0.3921\n",
      "precision@30:0.2317\n",
      "precision@50:0.1789\n",
      "ndcg@10:0.1798\n",
      "ndcg@30:0.1489\n",
      "ndcg@50:0.1416\n",
      "ndcg@all:0.4222\n"
     ]
    },
    {
     "data": {
      "application/vnd.jupyter.widget-view+json": {
       "model_id": "6ed2429bcbc645c2ae0790c9c730d463",
       "version_major": 2,
       "version_minor": 0
      },
      "text/plain": [
       "Training:   0%|          | 0/313 [00:00<?, ?it/s]"
      ]
     },
     "metadata": {},
     "output_type": "display_data"
    },
    {
     "name": "stdout",
     "output_type": "stream",
     "text": [
      "[Epoch 232]\n",
      "precision@10:0.3918\n",
      "precision@30:0.2312\n",
      "precision@50:0.1791\n",
      "ndcg@10:0.1798\n",
      "ndcg@30:0.1488\n",
      "ndcg@50:0.1418\n",
      "ndcg@all:0.4222\n"
     ]
    },
    {
     "data": {
      "application/vnd.jupyter.widget-view+json": {
       "model_id": "7251dec148b9496da1a66a67c579a6a5",
       "version_major": 2,
       "version_minor": 0
      },
      "text/plain": [
       "Training:   0%|          | 0/313 [00:00<?, ?it/s]"
      ]
     },
     "metadata": {},
     "output_type": "display_data"
    },
    {
     "name": "stdout",
     "output_type": "stream",
     "text": [
      "[Epoch 233]\n",
      "precision@10:0.3914\n",
      "precision@30:0.2309\n",
      "precision@50:0.1792\n",
      "ndcg@10:0.1795\n",
      "ndcg@30:0.1487\n",
      "ndcg@50:0.1418\n",
      "ndcg@all:0.4222\n"
     ]
    },
    {
     "data": {
      "application/vnd.jupyter.widget-view+json": {
       "model_id": "5ece3d3dadf74c1d87b0dd50aa79f877",
       "version_major": 2,
       "version_minor": 0
      },
      "text/plain": [
       "Training:   0%|          | 0/313 [00:00<?, ?it/s]"
      ]
     },
     "metadata": {},
     "output_type": "display_data"
    },
    {
     "name": "stdout",
     "output_type": "stream",
     "text": [
      "[Epoch 234]\n",
      "precision@10:0.3909\n",
      "precision@30:0.2303\n",
      "precision@50:0.1785\n",
      "ndcg@10:0.1796\n",
      "ndcg@30:0.1486\n",
      "ndcg@50:0.1416\n",
      "ndcg@all:0.4221\n"
     ]
    },
    {
     "data": {
      "application/vnd.jupyter.widget-view+json": {
       "model_id": "5fbba28871884f6c8225644713c79044",
       "version_major": 2,
       "version_minor": 0
      },
      "text/plain": [
       "Training:   0%|          | 0/313 [00:00<?, ?it/s]"
      ]
     },
     "metadata": {},
     "output_type": "display_data"
    },
    {
     "name": "stdout",
     "output_type": "stream",
     "text": [
      "[Epoch 235]\n",
      "precision@10:0.3900\n",
      "precision@30:0.2287\n",
      "precision@50:0.1773\n",
      "ndcg@10:0.1795\n",
      "ndcg@30:0.1482\n",
      "ndcg@50:0.1412\n",
      "ndcg@all:0.4215\n"
     ]
    },
    {
     "data": {
      "application/vnd.jupyter.widget-view+json": {
       "model_id": "e5d5bdfd091e424080b3fa9d1825e612",
       "version_major": 2,
       "version_minor": 0
      },
      "text/plain": [
       "Training:   0%|          | 0/313 [00:00<?, ?it/s]"
      ]
     },
     "metadata": {},
     "output_type": "display_data"
    },
    {
     "name": "stdout",
     "output_type": "stream",
     "text": [
      "[Epoch 236]\n",
      "precision@10:0.3901\n",
      "precision@30:0.2303\n",
      "precision@50:0.1786\n",
      "ndcg@10:0.1795\n",
      "ndcg@30:0.1487\n",
      "ndcg@50:0.1417\n",
      "ndcg@all:0.4219\n"
     ]
    },
    {
     "data": {
      "application/vnd.jupyter.widget-view+json": {
       "model_id": "af059007efb44976a6898f6e59c3127a",
       "version_major": 2,
       "version_minor": 0
      },
      "text/plain": [
       "Training:   0%|          | 0/313 [00:00<?, ?it/s]"
      ]
     },
     "metadata": {},
     "output_type": "display_data"
    },
    {
     "name": "stdout",
     "output_type": "stream",
     "text": [
      "[Epoch 237]\n",
      "precision@10:0.3909\n",
      "precision@30:0.2305\n",
      "precision@50:0.1788\n",
      "ndcg@10:0.1799\n",
      "ndcg@30:0.1488\n",
      "ndcg@50:0.1419\n",
      "ndcg@all:0.4224\n"
     ]
    },
    {
     "data": {
      "application/vnd.jupyter.widget-view+json": {
       "model_id": "11a1e50affc94febbe686e0fc4bf0e83",
       "version_major": 2,
       "version_minor": 0
      },
      "text/plain": [
       "Training:   0%|          | 0/313 [00:00<?, ?it/s]"
      ]
     },
     "metadata": {},
     "output_type": "display_data"
    },
    {
     "name": "stdout",
     "output_type": "stream",
     "text": [
      "[Epoch 238]\n",
      "precision@10:0.3906\n",
      "precision@30:0.2304\n",
      "precision@50:0.1786\n",
      "ndcg@10:0.1798\n",
      "ndcg@30:0.1488\n",
      "ndcg@50:0.1417\n",
      "ndcg@all:0.4224\n"
     ]
    },
    {
     "data": {
      "application/vnd.jupyter.widget-view+json": {
       "model_id": "f26a542a6c9249e397ac7afb3b3c91ff",
       "version_major": 2,
       "version_minor": 0
      },
      "text/plain": [
       "Training:   0%|          | 0/313 [00:00<?, ?it/s]"
      ]
     },
     "metadata": {},
     "output_type": "display_data"
    },
    {
     "name": "stdout",
     "output_type": "stream",
     "text": [
      "[Epoch 239]\n",
      "precision@10:0.3905\n",
      "precision@30:0.2296\n",
      "precision@50:0.1780\n",
      "ndcg@10:0.1799\n",
      "ndcg@30:0.1487\n",
      "ndcg@50:0.1416\n",
      "ndcg@all:0.4221\n"
     ]
    },
    {
     "data": {
      "application/vnd.jupyter.widget-view+json": {
       "model_id": "fcce6e205afb4ce986abaac9d7943a4a",
       "version_major": 2,
       "version_minor": 0
      },
      "text/plain": [
       "Training:   0%|          | 0/313 [00:00<?, ?it/s]"
      ]
     },
     "metadata": {},
     "output_type": "display_data"
    },
    {
     "name": "stdout",
     "output_type": "stream",
     "text": [
      "[Epoch 240]\n",
      "precision@10:0.3915\n",
      "precision@30:0.2310\n",
      "precision@50:0.1792\n",
      "ndcg@10:0.1800\n",
      "ndcg@30:0.1492\n",
      "ndcg@50:0.1422\n",
      "ndcg@all:0.4228\n"
     ]
    },
    {
     "data": {
      "application/vnd.jupyter.widget-view+json": {
       "model_id": "2030ce863c8e4a7ead5071b16576bfd5",
       "version_major": 2,
       "version_minor": 0
      },
      "text/plain": [
       "Training:   0%|          | 0/313 [00:00<?, ?it/s]"
      ]
     },
     "metadata": {},
     "output_type": "display_data"
    },
    {
     "name": "stdout",
     "output_type": "stream",
     "text": [
      "[Epoch 241]\n",
      "precision@10:0.3900\n",
      "precision@30:0.2298\n",
      "precision@50:0.1783\n",
      "ndcg@10:0.1798\n",
      "ndcg@30:0.1489\n",
      "ndcg@50:0.1419\n",
      "ndcg@all:0.4225\n"
     ]
    },
    {
     "data": {
      "application/vnd.jupyter.widget-view+json": {
       "model_id": "d02bf3b0d83f4fecb0e3d5605778a864",
       "version_major": 2,
       "version_minor": 0
      },
      "text/plain": [
       "Training:   0%|          | 0/313 [00:00<?, ?it/s]"
      ]
     },
     "metadata": {},
     "output_type": "display_data"
    },
    {
     "name": "stdout",
     "output_type": "stream",
     "text": [
      "[Epoch 242]\n",
      "precision@10:0.3905\n",
      "precision@30:0.2309\n",
      "precision@50:0.1791\n",
      "ndcg@10:0.1800\n",
      "ndcg@30:0.1491\n",
      "ndcg@50:0.1420\n",
      "ndcg@all:0.4226\n"
     ]
    },
    {
     "data": {
      "application/vnd.jupyter.widget-view+json": {
       "model_id": "99e88268c7e54130a35d28d9d57349c7",
       "version_major": 2,
       "version_minor": 0
      },
      "text/plain": [
       "Training:   0%|          | 0/313 [00:00<?, ?it/s]"
      ]
     },
     "metadata": {},
     "output_type": "display_data"
    },
    {
     "name": "stdout",
     "output_type": "stream",
     "text": [
      "[Epoch 243]\n",
      "precision@10:0.3878\n",
      "precision@30:0.2295\n",
      "precision@50:0.1781\n",
      "ndcg@10:0.1794\n",
      "ndcg@30:0.1488\n",
      "ndcg@50:0.1417\n",
      "ndcg@all:0.4226\n"
     ]
    },
    {
     "data": {
      "application/vnd.jupyter.widget-view+json": {
       "model_id": "d4cffd34e8044baebb0f886e7f8f09e7",
       "version_major": 2,
       "version_minor": 0
      },
      "text/plain": [
       "Training:   0%|          | 0/313 [00:00<?, ?it/s]"
      ]
     },
     "metadata": {},
     "output_type": "display_data"
    },
    {
     "name": "stdout",
     "output_type": "stream",
     "text": [
      "[Epoch 244]\n",
      "precision@10:0.3891\n",
      "precision@30:0.2291\n",
      "precision@50:0.1775\n",
      "ndcg@10:0.1798\n",
      "ndcg@30:0.1487\n",
      "ndcg@50:0.1416\n",
      "ndcg@all:0.4224\n"
     ]
    },
    {
     "data": {
      "application/vnd.jupyter.widget-view+json": {
       "model_id": "3386bfc45cd749f9a4a586a23399cea0",
       "version_major": 2,
       "version_minor": 0
      },
      "text/plain": [
       "Training:   0%|          | 0/313 [00:00<?, ?it/s]"
      ]
     },
     "metadata": {},
     "output_type": "display_data"
    },
    {
     "name": "stdout",
     "output_type": "stream",
     "text": [
      "[Epoch 245]\n",
      "precision@10:0.3891\n",
      "precision@30:0.2291\n",
      "precision@50:0.1781\n",
      "ndcg@10:0.1799\n",
      "ndcg@30:0.1490\n",
      "ndcg@50:0.1420\n",
      "ndcg@all:0.4227\n"
     ]
    },
    {
     "data": {
      "application/vnd.jupyter.widget-view+json": {
       "model_id": "5be42bd785cf46768e4ef3e421e33951",
       "version_major": 2,
       "version_minor": 0
      },
      "text/plain": [
       "Training:   0%|          | 0/313 [00:00<?, ?it/s]"
      ]
     },
     "metadata": {},
     "output_type": "display_data"
    },
    {
     "name": "stdout",
     "output_type": "stream",
     "text": [
      "[Epoch 246]\n",
      "precision@10:0.3880\n",
      "precision@30:0.2279\n",
      "precision@50:0.1770\n",
      "ndcg@10:0.1799\n",
      "ndcg@30:0.1489\n",
      "ndcg@50:0.1420\n",
      "ndcg@all:0.4221\n"
     ]
    },
    {
     "data": {
      "application/vnd.jupyter.widget-view+json": {
       "model_id": "9ef93bed5cab411da64040695c4d76dc",
       "version_major": 2,
       "version_minor": 0
      },
      "text/plain": [
       "Training:   0%|          | 0/313 [00:00<?, ?it/s]"
      ]
     },
     "metadata": {},
     "output_type": "display_data"
    },
    {
     "name": "stdout",
     "output_type": "stream",
     "text": [
      "[Epoch 247]\n",
      "precision@10:0.3879\n",
      "precision@30:0.2280\n",
      "precision@50:0.1771\n",
      "ndcg@10:0.1798\n",
      "ndcg@30:0.1487\n",
      "ndcg@50:0.1418\n",
      "ndcg@all:0.4222\n"
     ]
    },
    {
     "data": {
      "application/vnd.jupyter.widget-view+json": {
       "model_id": "394970c470c04198b945b90f2336c9dd",
       "version_major": 2,
       "version_minor": 0
      },
      "text/plain": [
       "Training:   0%|          | 0/313 [00:00<?, ?it/s]"
      ]
     },
     "metadata": {},
     "output_type": "display_data"
    },
    {
     "name": "stdout",
     "output_type": "stream",
     "text": [
      "[Epoch 248]\n",
      "precision@10:0.3880\n",
      "precision@30:0.2280\n",
      "precision@50:0.1775\n",
      "ndcg@10:0.1797\n",
      "ndcg@30:0.1488\n",
      "ndcg@50:0.1419\n",
      "ndcg@all:0.4224\n"
     ]
    },
    {
     "data": {
      "application/vnd.jupyter.widget-view+json": {
       "model_id": "bd6dfda1bbb840afab2fd7b64fe840ac",
       "version_major": 2,
       "version_minor": 0
      },
      "text/plain": [
       "Training:   0%|          | 0/313 [00:00<?, ?it/s]"
      ]
     },
     "metadata": {},
     "output_type": "display_data"
    },
    {
     "name": "stdout",
     "output_type": "stream",
     "text": [
      "[Epoch 249]\n",
      "precision@10:0.3871\n",
      "precision@30:0.2288\n",
      "precision@50:0.1775\n",
      "ndcg@10:0.1798\n",
      "ndcg@30:0.1491\n",
      "ndcg@50:0.1419\n",
      "ndcg@all:0.4227\n"
     ]
    },
    {
     "data": {
      "application/vnd.jupyter.widget-view+json": {
       "model_id": "7441f218186440df85e17885ba8a1ccb",
       "version_major": 2,
       "version_minor": 0
      },
      "text/plain": [
       "Training:   0%|          | 0/313 [00:00<?, ?it/s]"
      ]
     },
     "metadata": {},
     "output_type": "display_data"
    },
    {
     "name": "stdout",
     "output_type": "stream",
     "text": [
      "[Epoch 250]\n",
      "precision@10:0.3858\n",
      "precision@30:0.2273\n",
      "precision@50:0.1759\n",
      "ndcg@10:0.1795\n",
      "ndcg@30:0.1488\n",
      "ndcg@50:0.1415\n",
      "ndcg@all:0.4222\n"
     ]
    },
    {
     "data": {
      "application/vnd.jupyter.widget-view+json": {
       "model_id": "7a0406aac0d649419051965a86f7ca52",
       "version_major": 2,
       "version_minor": 0
      },
      "text/plain": [
       "Training:   0%|          | 0/313 [00:00<?, ?it/s]"
      ]
     },
     "metadata": {},
     "output_type": "display_data"
    },
    {
     "name": "stdout",
     "output_type": "stream",
     "text": [
      "[Epoch 251]\n",
      "precision@10:0.3853\n",
      "precision@30:0.2270\n",
      "precision@50:0.1766\n",
      "ndcg@10:0.1795\n",
      "ndcg@30:0.1486\n",
      "ndcg@50:0.1416\n",
      "ndcg@all:0.4224\n"
     ]
    },
    {
     "data": {
      "application/vnd.jupyter.widget-view+json": {
       "model_id": "b829033f83f3471899df1e460bd9a521",
       "version_major": 2,
       "version_minor": 0
      },
      "text/plain": [
       "Training:   0%|          | 0/313 [00:00<?, ?it/s]"
      ]
     },
     "metadata": {},
     "output_type": "display_data"
    },
    {
     "name": "stdout",
     "output_type": "stream",
     "text": [
      "[Epoch 252]\n",
      "precision@10:0.3876\n",
      "precision@30:0.2281\n",
      "precision@50:0.1770\n",
      "ndcg@10:0.1800\n",
      "ndcg@30:0.1490\n",
      "ndcg@50:0.1420\n",
      "ndcg@all:0.4226\n"
     ]
    },
    {
     "data": {
      "application/vnd.jupyter.widget-view+json": {
       "model_id": "7efdf310aee240a1bf76a62123f196b1",
       "version_major": 2,
       "version_minor": 0
      },
      "text/plain": [
       "Training:   0%|          | 0/313 [00:00<?, ?it/s]"
      ]
     },
     "metadata": {},
     "output_type": "display_data"
    },
    {
     "name": "stdout",
     "output_type": "stream",
     "text": [
      "[Epoch 253]\n",
      "precision@10:0.3874\n",
      "precision@30:0.2276\n",
      "precision@50:0.1766\n",
      "ndcg@10:0.1800\n",
      "ndcg@30:0.1488\n",
      "ndcg@50:0.1418\n",
      "ndcg@all:0.4224\n"
     ]
    },
    {
     "data": {
      "application/vnd.jupyter.widget-view+json": {
       "model_id": "e9fefff365e84a6cb1e1311ac441fb6c",
       "version_major": 2,
       "version_minor": 0
      },
      "text/plain": [
       "Training:   0%|          | 0/313 [00:00<?, ?it/s]"
      ]
     },
     "metadata": {},
     "output_type": "display_data"
    },
    {
     "name": "stdout",
     "output_type": "stream",
     "text": [
      "[Epoch 254]\n",
      "precision@10:0.3876\n",
      "precision@30:0.2272\n",
      "precision@50:0.1763\n",
      "ndcg@10:0.1801\n",
      "ndcg@30:0.1490\n",
      "ndcg@50:0.1419\n",
      "ndcg@all:0.4224\n"
     ]
    },
    {
     "data": {
      "application/vnd.jupyter.widget-view+json": {
       "model_id": "f338c7a8210f4361a9eb09febac1cd2a",
       "version_major": 2,
       "version_minor": 0
      },
      "text/plain": [
       "Training:   0%|          | 0/313 [00:00<?, ?it/s]"
      ]
     },
     "metadata": {},
     "output_type": "display_data"
    },
    {
     "name": "stdout",
     "output_type": "stream",
     "text": [
      "[Epoch 255]\n",
      "precision@10:0.3868\n",
      "precision@30:0.2282\n",
      "precision@50:0.1766\n",
      "ndcg@10:0.1800\n",
      "ndcg@30:0.1491\n",
      "ndcg@50:0.1420\n",
      "ndcg@all:0.4227\n"
     ]
    },
    {
     "data": {
      "application/vnd.jupyter.widget-view+json": {
       "model_id": "b80750a28b5c42998e52320412dcb394",
       "version_major": 2,
       "version_minor": 0
      },
      "text/plain": [
       "Training:   0%|          | 0/313 [00:00<?, ?it/s]"
      ]
     },
     "metadata": {},
     "output_type": "display_data"
    },
    {
     "name": "stdout",
     "output_type": "stream",
     "text": [
      "[Epoch 256]\n",
      "precision@10:0.3868\n",
      "precision@30:0.2284\n",
      "precision@50:0.1771\n",
      "ndcg@10:0.1802\n",
      "ndcg@30:0.1494\n",
      "ndcg@50:0.1422\n",
      "ndcg@all:0.4231\n"
     ]
    },
    {
     "data": {
      "application/vnd.jupyter.widget-view+json": {
       "model_id": "3d7b911d6d9049948f46f0c8bceb8511",
       "version_major": 2,
       "version_minor": 0
      },
      "text/plain": [
       "Training:   0%|          | 0/313 [00:00<?, ?it/s]"
      ]
     },
     "metadata": {},
     "output_type": "display_data"
    },
    {
     "name": "stdout",
     "output_type": "stream",
     "text": [
      "[Epoch 257]\n",
      "precision@10:0.3859\n",
      "precision@30:0.2277\n",
      "precision@50:0.1764\n",
      "ndcg@10:0.1800\n",
      "ndcg@30:0.1493\n",
      "ndcg@50:0.1421\n",
      "ndcg@all:0.4227\n"
     ]
    },
    {
     "data": {
      "application/vnd.jupyter.widget-view+json": {
       "model_id": "be8a8a62cfdf41aeb842effd85cf27fb",
       "version_major": 2,
       "version_minor": 0
      },
      "text/plain": [
       "Training:   0%|          | 0/313 [00:00<?, ?it/s]"
      ]
     },
     "metadata": {},
     "output_type": "display_data"
    },
    {
     "name": "stdout",
     "output_type": "stream",
     "text": [
      "[Epoch 258]\n",
      "precision@10:0.3862\n",
      "precision@30:0.2270\n",
      "precision@50:0.1758\n",
      "ndcg@10:0.1801\n",
      "ndcg@30:0.1491\n",
      "ndcg@50:0.1418\n",
      "ndcg@all:0.4225\n"
     ]
    },
    {
     "data": {
      "application/vnd.jupyter.widget-view+json": {
       "model_id": "2d234d49ab6b47a09e0eb9705b3fab02",
       "version_major": 2,
       "version_minor": 0
      },
      "text/plain": [
       "Training:   0%|          | 0/313 [00:00<?, ?it/s]"
      ]
     },
     "metadata": {},
     "output_type": "display_data"
    },
    {
     "name": "stdout",
     "output_type": "stream",
     "text": [
      "[Epoch 259]\n",
      "precision@10:0.3848\n",
      "precision@30:0.2277\n",
      "precision@50:0.1767\n",
      "ndcg@10:0.1802\n",
      "ndcg@30:0.1493\n",
      "ndcg@50:0.1422\n",
      "ndcg@all:0.4230\n"
     ]
    },
    {
     "data": {
      "application/vnd.jupyter.widget-view+json": {
       "model_id": "c34410cb875f4582bc2e90b7d3d68b7b",
       "version_major": 2,
       "version_minor": 0
      },
      "text/plain": [
       "Training:   0%|          | 0/313 [00:00<?, ?it/s]"
      ]
     },
     "metadata": {},
     "output_type": "display_data"
    },
    {
     "name": "stdout",
     "output_type": "stream",
     "text": [
      "[Epoch 260]\n",
      "precision@10:0.3869\n",
      "precision@30:0.2276\n",
      "precision@50:0.1769\n",
      "ndcg@10:0.1802\n",
      "ndcg@30:0.1493\n",
      "ndcg@50:0.1423\n",
      "ndcg@all:0.4231\n"
     ]
    },
    {
     "data": {
      "application/vnd.jupyter.widget-view+json": {
       "model_id": "1783abee112d4c62a4f4cea2ed0431fa",
       "version_major": 2,
       "version_minor": 0
      },
      "text/plain": [
       "Training:   0%|          | 0/313 [00:00<?, ?it/s]"
      ]
     },
     "metadata": {},
     "output_type": "display_data"
    },
    {
     "name": "stdout",
     "output_type": "stream",
     "text": [
      "[Epoch 261]\n",
      "precision@10:0.3866\n",
      "precision@30:0.2280\n",
      "precision@50:0.1772\n",
      "ndcg@10:0.1805\n",
      "ndcg@30:0.1496\n",
      "ndcg@50:0.1426\n",
      "ndcg@all:0.4233\n"
     ]
    },
    {
     "data": {
      "application/vnd.jupyter.widget-view+json": {
       "model_id": "1ddf2af4ad454f5eb0702064a9becfd9",
       "version_major": 2,
       "version_minor": 0
      },
      "text/plain": [
       "Training:   0%|          | 0/313 [00:00<?, ?it/s]"
      ]
     },
     "metadata": {},
     "output_type": "display_data"
    },
    {
     "name": "stdout",
     "output_type": "stream",
     "text": [
      "[Epoch 262]\n",
      "precision@10:0.3848\n",
      "precision@30:0.2264\n",
      "precision@50:0.1759\n",
      "ndcg@10:0.1802\n",
      "ndcg@30:0.1491\n",
      "ndcg@50:0.1420\n",
      "ndcg@all:0.4227\n"
     ]
    },
    {
     "data": {
      "application/vnd.jupyter.widget-view+json": {
       "model_id": "6f449e25b3ca410bbe00b6a4181ae639",
       "version_major": 2,
       "version_minor": 0
      },
      "text/plain": [
       "Training:   0%|          | 0/313 [00:00<?, ?it/s]"
      ]
     },
     "metadata": {},
     "output_type": "display_data"
    },
    {
     "name": "stdout",
     "output_type": "stream",
     "text": [
      "[Epoch 263]\n",
      "precision@10:0.3831\n",
      "precision@30:0.2247\n",
      "precision@50:0.1744\n",
      "ndcg@10:0.1797\n",
      "ndcg@30:0.1485\n",
      "ndcg@50:0.1416\n",
      "ndcg@all:0.4221\n"
     ]
    },
    {
     "data": {
      "application/vnd.jupyter.widget-view+json": {
       "model_id": "4963bff9298547c1b609e80f29b0eeb7",
       "version_major": 2,
       "version_minor": 0
      },
      "text/plain": [
       "Training:   0%|          | 0/313 [00:00<?, ?it/s]"
      ]
     },
     "metadata": {},
     "output_type": "display_data"
    },
    {
     "name": "stdout",
     "output_type": "stream",
     "text": [
      "[Epoch 264]\n",
      "precision@10:0.3845\n",
      "precision@30:0.2269\n",
      "precision@50:0.1761\n",
      "ndcg@10:0.1800\n",
      "ndcg@30:0.1493\n",
      "ndcg@50:0.1421\n",
      "ndcg@all:0.4231\n"
     ]
    },
    {
     "data": {
      "application/vnd.jupyter.widget-view+json": {
       "model_id": "599dc80db04544db8447eee31b8b8587",
       "version_major": 2,
       "version_minor": 0
      },
      "text/plain": [
       "Training:   0%|          | 0/313 [00:00<?, ?it/s]"
      ]
     },
     "metadata": {},
     "output_type": "display_data"
    },
    {
     "name": "stdout",
     "output_type": "stream",
     "text": [
      "[Epoch 265]\n",
      "precision@10:0.3847\n",
      "precision@30:0.2258\n",
      "precision@50:0.1758\n",
      "ndcg@10:0.1801\n",
      "ndcg@30:0.1489\n",
      "ndcg@50:0.1420\n",
      "ndcg@all:0.4229\n"
     ]
    },
    {
     "data": {
      "application/vnd.jupyter.widget-view+json": {
       "model_id": "90e7696834dc41eb845341f528ef2e12",
       "version_major": 2,
       "version_minor": 0
      },
      "text/plain": [
       "Training:   0%|          | 0/313 [00:00<?, ?it/s]"
      ]
     },
     "metadata": {},
     "output_type": "display_data"
    },
    {
     "name": "stdout",
     "output_type": "stream",
     "text": [
      "[Epoch 266]\n",
      "precision@10:0.3841\n",
      "precision@30:0.2251\n",
      "precision@50:0.1751\n",
      "ndcg@10:0.1802\n",
      "ndcg@30:0.1490\n",
      "ndcg@50:0.1421\n",
      "ndcg@all:0.4227\n"
     ]
    },
    {
     "data": {
      "application/vnd.jupyter.widget-view+json": {
       "model_id": "c6daba19deda41838ee1026bfeeb320c",
       "version_major": 2,
       "version_minor": 0
      },
      "text/plain": [
       "Training:   0%|          | 0/313 [00:00<?, ?it/s]"
      ]
     },
     "metadata": {},
     "output_type": "display_data"
    },
    {
     "name": "stdout",
     "output_type": "stream",
     "text": [
      "[Epoch 267]\n",
      "precision@10:0.3849\n",
      "precision@30:0.2259\n",
      "precision@50:0.1754\n",
      "ndcg@10:0.1804\n",
      "ndcg@30:0.1492\n",
      "ndcg@50:0.1421\n",
      "ndcg@all:0.4230\n"
     ]
    },
    {
     "data": {
      "application/vnd.jupyter.widget-view+json": {
       "model_id": "184ce307e6b54e089d0c3a7797300223",
       "version_major": 2,
       "version_minor": 0
      },
      "text/plain": [
       "Training:   0%|          | 0/313 [00:00<?, ?it/s]"
      ]
     },
     "metadata": {},
     "output_type": "display_data"
    },
    {
     "name": "stdout",
     "output_type": "stream",
     "text": [
      "[Epoch 268]\n",
      "precision@10:0.3830\n",
      "precision@30:0.2247\n",
      "precision@50:0.1740\n",
      "ndcg@10:0.1802\n",
      "ndcg@30:0.1490\n",
      "ndcg@50:0.1417\n",
      "ndcg@all:0.4226\n"
     ]
    },
    {
     "data": {
      "application/vnd.jupyter.widget-view+json": {
       "model_id": "e803b24098524558a9819d0ba0e60164",
       "version_major": 2,
       "version_minor": 0
      },
      "text/plain": [
       "Training:   0%|          | 0/313 [00:00<?, ?it/s]"
      ]
     },
     "metadata": {},
     "output_type": "display_data"
    },
    {
     "name": "stdout",
     "output_type": "stream",
     "text": [
      "[Epoch 269]\n",
      "precision@10:0.3843\n",
      "precision@30:0.2256\n",
      "precision@50:0.1753\n",
      "ndcg@10:0.1803\n",
      "ndcg@30:0.1494\n",
      "ndcg@50:0.1422\n",
      "ndcg@all:0.4231\n"
     ]
    },
    {
     "data": {
      "application/vnd.jupyter.widget-view+json": {
       "model_id": "ede446deda3f407da8c9630b3346bc9b",
       "version_major": 2,
       "version_minor": 0
      },
      "text/plain": [
       "Training:   0%|          | 0/313 [00:00<?, ?it/s]"
      ]
     },
     "metadata": {},
     "output_type": "display_data"
    },
    {
     "name": "stdout",
     "output_type": "stream",
     "text": [
      "[Epoch 270]\n",
      "precision@10:0.3827\n",
      "precision@30:0.2256\n",
      "precision@50:0.1752\n",
      "ndcg@10:0.1801\n",
      "ndcg@30:0.1492\n",
      "ndcg@50:0.1422\n",
      "ndcg@all:0.4230\n"
     ]
    },
    {
     "data": {
      "application/vnd.jupyter.widget-view+json": {
       "model_id": "c380c41cc3fb4ab5bcae5fc3c434f410",
       "version_major": 2,
       "version_minor": 0
      },
      "text/plain": [
       "Training:   0%|          | 0/313 [00:00<?, ?it/s]"
      ]
     },
     "metadata": {},
     "output_type": "display_data"
    },
    {
     "name": "stdout",
     "output_type": "stream",
     "text": [
      "[Epoch 271]\n",
      "precision@10:0.3818\n",
      "precision@30:0.2243\n",
      "precision@50:0.1742\n",
      "ndcg@10:0.1800\n",
      "ndcg@30:0.1489\n",
      "ndcg@50:0.1419\n",
      "ndcg@all:0.4226\n"
     ]
    },
    {
     "data": {
      "application/vnd.jupyter.widget-view+json": {
       "model_id": "b1abba740df84416a2c7b20de5440c38",
       "version_major": 2,
       "version_minor": 0
      },
      "text/plain": [
       "Training:   0%|          | 0/313 [00:00<?, ?it/s]"
      ]
     },
     "metadata": {},
     "output_type": "display_data"
    },
    {
     "name": "stdout",
     "output_type": "stream",
     "text": [
      "[Epoch 272]\n",
      "precision@10:0.3838\n",
      "precision@30:0.2251\n",
      "precision@50:0.1750\n",
      "ndcg@10:0.1804\n",
      "ndcg@30:0.1494\n",
      "ndcg@50:0.1423\n",
      "ndcg@all:0.4230\n"
     ]
    },
    {
     "data": {
      "application/vnd.jupyter.widget-view+json": {
       "model_id": "c93e4f15ea844fa0b1f2fe4ead0e63cf",
       "version_major": 2,
       "version_minor": 0
      },
      "text/plain": [
       "Training:   0%|          | 0/313 [00:00<?, ?it/s]"
      ]
     },
     "metadata": {},
     "output_type": "display_data"
    },
    {
     "name": "stdout",
     "output_type": "stream",
     "text": [
      "[Epoch 273]\n",
      "precision@10:0.3832\n",
      "precision@30:0.2253\n",
      "precision@50:0.1751\n",
      "ndcg@10:0.1806\n",
      "ndcg@30:0.1494\n",
      "ndcg@50:0.1423\n",
      "ndcg@all:0.4231\n"
     ]
    },
    {
     "data": {
      "application/vnd.jupyter.widget-view+json": {
       "model_id": "52ad018e47e545d58290218c0a0fcc8f",
       "version_major": 2,
       "version_minor": 0
      },
      "text/plain": [
       "Training:   0%|          | 0/313 [00:00<?, ?it/s]"
      ]
     },
     "metadata": {},
     "output_type": "display_data"
    },
    {
     "name": "stdout",
     "output_type": "stream",
     "text": [
      "[Epoch 274]\n",
      "precision@10:0.3835\n",
      "precision@30:0.2257\n",
      "precision@50:0.1758\n",
      "ndcg@10:0.1805\n",
      "ndcg@30:0.1496\n",
      "ndcg@50:0.1426\n",
      "ndcg@all:0.4235\n"
     ]
    },
    {
     "data": {
      "application/vnd.jupyter.widget-view+json": {
       "model_id": "53803975295c410a9a543c3e7c8edfc5",
       "version_major": 2,
       "version_minor": 0
      },
      "text/plain": [
       "Training:   0%|          | 0/313 [00:00<?, ?it/s]"
      ]
     },
     "metadata": {},
     "output_type": "display_data"
    },
    {
     "name": "stdout",
     "output_type": "stream",
     "text": [
      "[Epoch 275]\n",
      "precision@10:0.3826\n",
      "precision@30:0.2244\n",
      "precision@50:0.1746\n",
      "ndcg@10:0.1804\n",
      "ndcg@30:0.1493\n",
      "ndcg@50:0.1422\n",
      "ndcg@all:0.4231\n"
     ]
    },
    {
     "data": {
      "application/vnd.jupyter.widget-view+json": {
       "model_id": "3d4ec946f16a4fa386f87655aca41758",
       "version_major": 2,
       "version_minor": 0
      },
      "text/plain": [
       "Training:   0%|          | 0/313 [00:00<?, ?it/s]"
      ]
     },
     "metadata": {},
     "output_type": "display_data"
    },
    {
     "name": "stdout",
     "output_type": "stream",
     "text": [
      "[Epoch 276]\n",
      "precision@10:0.3827\n",
      "precision@30:0.2248\n",
      "precision@50:0.1745\n",
      "ndcg@10:0.1806\n",
      "ndcg@30:0.1494\n",
      "ndcg@50:0.1423\n",
      "ndcg@all:0.4232\n"
     ]
    },
    {
     "data": {
      "application/vnd.jupyter.widget-view+json": {
       "model_id": "bc718d3659a141a2b71437af61669d32",
       "version_major": 2,
       "version_minor": 0
      },
      "text/plain": [
       "Training:   0%|          | 0/313 [00:00<?, ?it/s]"
      ]
     },
     "metadata": {},
     "output_type": "display_data"
    },
    {
     "name": "stdout",
     "output_type": "stream",
     "text": [
      "[Epoch 277]\n",
      "precision@10:0.3816\n",
      "precision@30:0.2238\n",
      "precision@50:0.1742\n",
      "ndcg@10:0.1803\n",
      "ndcg@30:0.1490\n",
      "ndcg@50:0.1421\n",
      "ndcg@all:0.4228\n"
     ]
    },
    {
     "data": {
      "application/vnd.jupyter.widget-view+json": {
       "model_id": "817a4c1bd8c048a6ac346a44bd78a69c",
       "version_major": 2,
       "version_minor": 0
      },
      "text/plain": [
       "Training:   0%|          | 0/313 [00:00<?, ?it/s]"
      ]
     },
     "metadata": {},
     "output_type": "display_data"
    },
    {
     "name": "stdout",
     "output_type": "stream",
     "text": [
      "[Epoch 278]\n",
      "precision@10:0.3827\n",
      "precision@30:0.2242\n",
      "precision@50:0.1747\n",
      "ndcg@10:0.1806\n",
      "ndcg@30:0.1493\n",
      "ndcg@50:0.1424\n",
      "ndcg@all:0.4232\n"
     ]
    },
    {
     "data": {
      "application/vnd.jupyter.widget-view+json": {
       "model_id": "ea9252e72a474471b5fe6040595ab74a",
       "version_major": 2,
       "version_minor": 0
      },
      "text/plain": [
       "Training:   0%|          | 0/313 [00:00<?, ?it/s]"
      ]
     },
     "metadata": {},
     "output_type": "display_data"
    },
    {
     "name": "stdout",
     "output_type": "stream",
     "text": [
      "[Epoch 279]\n",
      "precision@10:0.3808\n",
      "precision@30:0.2228\n",
      "precision@50:0.1737\n",
      "ndcg@10:0.1803\n",
      "ndcg@30:0.1491\n",
      "ndcg@50:0.1422\n",
      "ndcg@all:0.4228\n"
     ]
    },
    {
     "data": {
      "application/vnd.jupyter.widget-view+json": {
       "model_id": "174fff1e04b24b61a175954fe6a514fe",
       "version_major": 2,
       "version_minor": 0
      },
      "text/plain": [
       "Training:   0%|          | 0/313 [00:00<?, ?it/s]"
      ]
     },
     "metadata": {},
     "output_type": "display_data"
    },
    {
     "name": "stdout",
     "output_type": "stream",
     "text": [
      "[Epoch 280]\n",
      "precision@10:0.3806\n",
      "precision@30:0.2230\n",
      "precision@50:0.1735\n",
      "ndcg@10:0.1801\n",
      "ndcg@30:0.1492\n",
      "ndcg@50:0.1421\n",
      "ndcg@all:0.4229\n"
     ]
    },
    {
     "data": {
      "application/vnd.jupyter.widget-view+json": {
       "model_id": "dfe44436e5d341d1b9b7f9f6d8e31ca2",
       "version_major": 2,
       "version_minor": 0
      },
      "text/plain": [
       "Training:   0%|          | 0/313 [00:00<?, ?it/s]"
      ]
     },
     "metadata": {},
     "output_type": "display_data"
    },
    {
     "name": "stdout",
     "output_type": "stream",
     "text": [
      "[Epoch 281]\n",
      "precision@10:0.3821\n",
      "precision@30:0.2247\n",
      "precision@50:0.1745\n",
      "ndcg@10:0.1807\n",
      "ndcg@30:0.1496\n",
      "ndcg@50:0.1424\n",
      "ndcg@all:0.4233\n"
     ]
    },
    {
     "data": {
      "application/vnd.jupyter.widget-view+json": {
       "model_id": "26fe77c677a94d71abf85e0a9225b12d",
       "version_major": 2,
       "version_minor": 0
      },
      "text/plain": [
       "Training:   0%|          | 0/313 [00:00<?, ?it/s]"
      ]
     },
     "metadata": {},
     "output_type": "display_data"
    },
    {
     "name": "stdout",
     "output_type": "stream",
     "text": [
      "[Epoch 282]\n",
      "precision@10:0.3817\n",
      "precision@30:0.2246\n",
      "precision@50:0.1741\n",
      "ndcg@10:0.1807\n",
      "ndcg@30:0.1496\n",
      "ndcg@50:0.1423\n",
      "ndcg@all:0.4234\n"
     ]
    },
    {
     "data": {
      "application/vnd.jupyter.widget-view+json": {
       "model_id": "7c781a3c310c47b4ae396a8740bee394",
       "version_major": 2,
       "version_minor": 0
      },
      "text/plain": [
       "Training:   0%|          | 0/313 [00:00<?, ?it/s]"
      ]
     },
     "metadata": {},
     "output_type": "display_data"
    },
    {
     "name": "stdout",
     "output_type": "stream",
     "text": [
      "[Epoch 283]\n",
      "precision@10:0.3794\n",
      "precision@30:0.2231\n",
      "precision@50:0.1734\n",
      "ndcg@10:0.1803\n",
      "ndcg@30:0.1493\n",
      "ndcg@50:0.1422\n",
      "ndcg@all:0.4231\n"
     ]
    },
    {
     "data": {
      "application/vnd.jupyter.widget-view+json": {
       "model_id": "cf8695bb4fda4ad3b82eeb82a7cf2808",
       "version_major": 2,
       "version_minor": 0
      },
      "text/plain": [
       "Training:   0%|          | 0/313 [00:00<?, ?it/s]"
      ]
     },
     "metadata": {},
     "output_type": "display_data"
    },
    {
     "name": "stdout",
     "output_type": "stream",
     "text": [
      "[Epoch 284]\n",
      "precision@10:0.3806\n",
      "precision@30:0.2233\n",
      "precision@50:0.1734\n",
      "ndcg@10:0.1806\n",
      "ndcg@30:0.1494\n",
      "ndcg@50:0.1421\n",
      "ndcg@all:0.4232\n"
     ]
    },
    {
     "data": {
      "application/vnd.jupyter.widget-view+json": {
       "model_id": "2ce59b3a477741d38ee2bc22ede25dfb",
       "version_major": 2,
       "version_minor": 0
      },
      "text/plain": [
       "Training:   0%|          | 0/313 [00:00<?, ?it/s]"
      ]
     },
     "metadata": {},
     "output_type": "display_data"
    },
    {
     "name": "stdout",
     "output_type": "stream",
     "text": [
      "[Epoch 285]\n",
      "precision@10:0.3804\n",
      "precision@30:0.2233\n",
      "precision@50:0.1739\n",
      "ndcg@10:0.1805\n",
      "ndcg@30:0.1494\n",
      "ndcg@50:0.1424\n",
      "ndcg@all:0.4234\n"
     ]
    },
    {
     "data": {
      "application/vnd.jupyter.widget-view+json": {
       "model_id": "af18feb2e3144ffebb46ba36998a20c9",
       "version_major": 2,
       "version_minor": 0
      },
      "text/plain": [
       "Training:   0%|          | 0/313 [00:00<?, ?it/s]"
      ]
     },
     "metadata": {},
     "output_type": "display_data"
    },
    {
     "name": "stdout",
     "output_type": "stream",
     "text": [
      "[Epoch 286]\n",
      "precision@10:0.3806\n",
      "precision@30:0.2230\n",
      "precision@50:0.1738\n",
      "ndcg@10:0.1806\n",
      "ndcg@30:0.1495\n",
      "ndcg@50:0.1424\n",
      "ndcg@all:0.4233\n"
     ]
    },
    {
     "data": {
      "application/vnd.jupyter.widget-view+json": {
       "model_id": "95b8d7b50915474fbd7a9f6d5a28a199",
       "version_major": 2,
       "version_minor": 0
      },
      "text/plain": [
       "Training:   0%|          | 0/313 [00:00<?, ?it/s]"
      ]
     },
     "metadata": {},
     "output_type": "display_data"
    },
    {
     "name": "stdout",
     "output_type": "stream",
     "text": [
      "[Epoch 287]\n",
      "precision@10:0.3801\n",
      "precision@30:0.2226\n",
      "precision@50:0.1731\n",
      "ndcg@10:0.1806\n",
      "ndcg@30:0.1495\n",
      "ndcg@50:0.1422\n",
      "ndcg@all:0.4232\n"
     ]
    },
    {
     "data": {
      "application/vnd.jupyter.widget-view+json": {
       "model_id": "e27f94ba255f4fb79eec7f0280b084a9",
       "version_major": 2,
       "version_minor": 0
      },
      "text/plain": [
       "Training:   0%|          | 0/313 [00:00<?, ?it/s]"
      ]
     },
     "metadata": {},
     "output_type": "display_data"
    },
    {
     "name": "stdout",
     "output_type": "stream",
     "text": [
      "[Epoch 288]\n",
      "precision@10:0.3807\n",
      "precision@30:0.2233\n",
      "precision@50:0.1743\n",
      "ndcg@10:0.1809\n",
      "ndcg@30:0.1496\n",
      "ndcg@50:0.1427\n",
      "ndcg@all:0.4237\n"
     ]
    },
    {
     "data": {
      "application/vnd.jupyter.widget-view+json": {
       "model_id": "e7b208f518f6412aab581b2b91de1c74",
       "version_major": 2,
       "version_minor": 0
      },
      "text/plain": [
       "Training:   0%|          | 0/313 [00:00<?, ?it/s]"
      ]
     },
     "metadata": {},
     "output_type": "display_data"
    },
    {
     "name": "stdout",
     "output_type": "stream",
     "text": [
      "[Epoch 289]\n",
      "precision@10:0.3796\n",
      "precision@30:0.2237\n",
      "precision@50:0.1743\n",
      "ndcg@10:0.1806\n",
      "ndcg@30:0.1498\n",
      "ndcg@50:0.1427\n",
      "ndcg@all:0.4236\n"
     ]
    },
    {
     "data": {
      "application/vnd.jupyter.widget-view+json": {
       "model_id": "d36c376441b1454aa235a275cdb199e1",
       "version_major": 2,
       "version_minor": 0
      },
      "text/plain": [
       "Training:   0%|          | 0/313 [00:00<?, ?it/s]"
      ]
     },
     "metadata": {},
     "output_type": "display_data"
    },
    {
     "name": "stdout",
     "output_type": "stream",
     "text": [
      "[Epoch 290]\n",
      "precision@10:0.3789\n",
      "precision@30:0.2223\n",
      "precision@50:0.1737\n",
      "ndcg@10:0.1806\n",
      "ndcg@30:0.1495\n",
      "ndcg@50:0.1427\n",
      "ndcg@all:0.4236\n"
     ]
    },
    {
     "data": {
      "application/vnd.jupyter.widget-view+json": {
       "model_id": "3342cef650b644a984414e776fc0bd52",
       "version_major": 2,
       "version_minor": 0
      },
      "text/plain": [
       "Training:   0%|          | 0/313 [00:00<?, ?it/s]"
      ]
     },
     "metadata": {},
     "output_type": "display_data"
    },
    {
     "name": "stdout",
     "output_type": "stream",
     "text": [
      "[Epoch 291]\n",
      "precision@10:0.3790\n",
      "precision@30:0.2230\n",
      "precision@50:0.1738\n",
      "ndcg@10:0.1806\n",
      "ndcg@30:0.1497\n",
      "ndcg@50:0.1427\n",
      "ndcg@all:0.4237\n"
     ]
    },
    {
     "data": {
      "application/vnd.jupyter.widget-view+json": {
       "model_id": "2af2f997e6d8461687eedf4997df1c30",
       "version_major": 2,
       "version_minor": 0
      },
      "text/plain": [
       "Training:   0%|          | 0/313 [00:00<?, ?it/s]"
      ]
     },
     "metadata": {},
     "output_type": "display_data"
    },
    {
     "name": "stdout",
     "output_type": "stream",
     "text": [
      "[Epoch 292]\n",
      "precision@10:0.3777\n",
      "precision@30:0.2223\n",
      "precision@50:0.1731\n",
      "ndcg@10:0.1804\n",
      "ndcg@30:0.1494\n",
      "ndcg@50:0.1424\n",
      "ndcg@all:0.4236\n"
     ]
    },
    {
     "data": {
      "application/vnd.jupyter.widget-view+json": {
       "model_id": "fc73de6a32744b06818d6a4ff8ea6609",
       "version_major": 2,
       "version_minor": 0
      },
      "text/plain": [
       "Training:   0%|          | 0/313 [00:00<?, ?it/s]"
      ]
     },
     "metadata": {},
     "output_type": "display_data"
    },
    {
     "name": "stdout",
     "output_type": "stream",
     "text": [
      "[Epoch 293]\n",
      "precision@10:0.3785\n",
      "precision@30:0.2234\n",
      "precision@50:0.1739\n",
      "ndcg@10:0.1808\n",
      "ndcg@30:0.1499\n",
      "ndcg@50:0.1429\n",
      "ndcg@all:0.4239\n"
     ]
    },
    {
     "data": {
      "application/vnd.jupyter.widget-view+json": {
       "model_id": "feddb45cc9ab4bd48cb13504ba506370",
       "version_major": 2,
       "version_minor": 0
      },
      "text/plain": [
       "Training:   0%|          | 0/313 [00:00<?, ?it/s]"
      ]
     },
     "metadata": {},
     "output_type": "display_data"
    },
    {
     "name": "stdout",
     "output_type": "stream",
     "text": [
      "[Epoch 294]\n",
      "precision@10:0.3775\n",
      "precision@30:0.2212\n",
      "precision@50:0.1727\n",
      "ndcg@10:0.1806\n",
      "ndcg@30:0.1494\n",
      "ndcg@50:0.1425\n",
      "ndcg@all:0.4235\n"
     ]
    },
    {
     "data": {
      "application/vnd.jupyter.widget-view+json": {
       "model_id": "dbc2c520a73e4322b49a789e023f8a70",
       "version_major": 2,
       "version_minor": 0
      },
      "text/plain": [
       "Training:   0%|          | 0/313 [00:00<?, ?it/s]"
      ]
     },
     "metadata": {},
     "output_type": "display_data"
    },
    {
     "name": "stdout",
     "output_type": "stream",
     "text": [
      "[Epoch 295]\n",
      "precision@10:0.3780\n",
      "precision@30:0.2217\n",
      "precision@50:0.1730\n",
      "ndcg@10:0.1808\n",
      "ndcg@30:0.1496\n",
      "ndcg@50:0.1426\n",
      "ndcg@all:0.4236\n"
     ]
    },
    {
     "data": {
      "application/vnd.jupyter.widget-view+json": {
       "model_id": "57f306ab34184c528028920afa42e8a4",
       "version_major": 2,
       "version_minor": 0
      },
      "text/plain": [
       "Training:   0%|          | 0/313 [00:00<?, ?it/s]"
      ]
     },
     "metadata": {},
     "output_type": "display_data"
    },
    {
     "name": "stdout",
     "output_type": "stream",
     "text": [
      "[Epoch 296]\n",
      "precision@10:0.3769\n",
      "precision@30:0.2210\n",
      "precision@50:0.1721\n",
      "ndcg@10:0.1808\n",
      "ndcg@30:0.1498\n",
      "ndcg@50:0.1425\n",
      "ndcg@all:0.4234\n"
     ]
    },
    {
     "data": {
      "application/vnd.jupyter.widget-view+json": {
       "model_id": "569b17fa07304c40a98bdd7c26fb01d6",
       "version_major": 2,
       "version_minor": 0
      },
      "text/plain": [
       "Training:   0%|          | 0/313 [00:00<?, ?it/s]"
      ]
     },
     "metadata": {},
     "output_type": "display_data"
    },
    {
     "name": "stdout",
     "output_type": "stream",
     "text": [
      "[Epoch 297]\n",
      "precision@10:0.3780\n",
      "precision@30:0.2225\n",
      "precision@50:0.1736\n",
      "ndcg@10:0.1809\n",
      "ndcg@30:0.1499\n",
      "ndcg@50:0.1430\n",
      "ndcg@all:0.4240\n"
     ]
    },
    {
     "data": {
      "application/vnd.jupyter.widget-view+json": {
       "model_id": "6836e5892d414732b634e5ec04dc5664",
       "version_major": 2,
       "version_minor": 0
      },
      "text/plain": [
       "Training:   0%|          | 0/313 [00:00<?, ?it/s]"
      ]
     },
     "metadata": {},
     "output_type": "display_data"
    },
    {
     "name": "stdout",
     "output_type": "stream",
     "text": [
      "[Epoch 298]\n",
      "precision@10:0.3772\n",
      "precision@30:0.2214\n",
      "precision@50:0.1731\n",
      "ndcg@10:0.1806\n",
      "ndcg@30:0.1496\n",
      "ndcg@50:0.1428\n",
      "ndcg@all:0.4238\n"
     ]
    },
    {
     "data": {
      "application/vnd.jupyter.widget-view+json": {
       "model_id": "9438fc14129941c3b832b169066f430c",
       "version_major": 2,
       "version_minor": 0
      },
      "text/plain": [
       "Training:   0%|          | 0/313 [00:00<?, ?it/s]"
      ]
     },
     "metadata": {},
     "output_type": "display_data"
    },
    {
     "name": "stdout",
     "output_type": "stream",
     "text": [
      "[Epoch 299]\n",
      "precision@10:0.3768\n",
      "precision@30:0.2217\n",
      "precision@50:0.1722\n",
      "ndcg@10:0.1807\n",
      "ndcg@30:0.1497\n",
      "ndcg@50:0.1425\n",
      "ndcg@all:0.4237\n"
     ]
    },
    {
     "data": {
      "application/vnd.jupyter.widget-view+json": {
       "model_id": "717961dd75b042a6b819e9a73f191e1a",
       "version_major": 2,
       "version_minor": 0
      },
      "text/plain": [
       "Training:   0%|          | 0/313 [00:00<?, ?it/s]"
      ]
     },
     "metadata": {},
     "output_type": "display_data"
    },
    {
     "name": "stdout",
     "output_type": "stream",
     "text": [
      "[Epoch 300]\n",
      "precision@10:0.3766\n",
      "precision@30:0.2219\n",
      "precision@50:0.1725\n",
      "ndcg@10:0.1809\n",
      "ndcg@30:0.1501\n",
      "ndcg@50:0.1428\n",
      "ndcg@all:0.4238\n"
     ]
    },
    {
     "data": {
      "application/vnd.jupyter.widget-view+json": {
       "model_id": "b398b762b4394fcaa5efbdb1e6d5b0bb",
       "version_major": 2,
       "version_minor": 0
      },
      "text/plain": [
       "Training:   0%|          | 0/313 [00:00<?, ?it/s]"
      ]
     },
     "metadata": {},
     "output_type": "display_data"
    },
    {
     "name": "stdout",
     "output_type": "stream",
     "text": [
      "[Epoch 301]\n",
      "precision@10:0.3771\n",
      "precision@30:0.2201\n",
      "precision@50:0.1718\n",
      "ndcg@10:0.1808\n",
      "ndcg@30:0.1494\n",
      "ndcg@50:0.1425\n",
      "ndcg@all:0.4235\n"
     ]
    },
    {
     "data": {
      "application/vnd.jupyter.widget-view+json": {
       "model_id": "7f6891cef2264d099b4b3bfa75b52316",
       "version_major": 2,
       "version_minor": 0
      },
      "text/plain": [
       "Training:   0%|          | 0/313 [00:00<?, ?it/s]"
      ]
     },
     "metadata": {},
     "output_type": "display_data"
    },
    {
     "name": "stdout",
     "output_type": "stream",
     "text": [
      "[Epoch 302]\n",
      "precision@10:0.3772\n",
      "precision@30:0.2217\n",
      "precision@50:0.1729\n",
      "ndcg@10:0.1812\n",
      "ndcg@30:0.1500\n",
      "ndcg@50:0.1431\n",
      "ndcg@all:0.4240\n"
     ]
    },
    {
     "data": {
      "application/vnd.jupyter.widget-view+json": {
       "model_id": "a81b95466e0d4958a41c6d66d6301877",
       "version_major": 2,
       "version_minor": 0
      },
      "text/plain": [
       "Training:   0%|          | 0/313 [00:00<?, ?it/s]"
      ]
     },
     "metadata": {},
     "output_type": "display_data"
    },
    {
     "name": "stdout",
     "output_type": "stream",
     "text": [
      "[Epoch 303]\n",
      "precision@10:0.3768\n",
      "precision@30:0.2206\n",
      "precision@50:0.1721\n",
      "ndcg@10:0.1810\n",
      "ndcg@30:0.1498\n",
      "ndcg@50:0.1428\n",
      "ndcg@all:0.4237\n"
     ]
    },
    {
     "data": {
      "application/vnd.jupyter.widget-view+json": {
       "model_id": "b818878265a548909a261de27b2b3909",
       "version_major": 2,
       "version_minor": 0
      },
      "text/plain": [
       "Training:   0%|          | 0/313 [00:00<?, ?it/s]"
      ]
     },
     "metadata": {},
     "output_type": "display_data"
    },
    {
     "name": "stdout",
     "output_type": "stream",
     "text": [
      "[Epoch 304]\n",
      "precision@10:0.3761\n",
      "precision@30:0.2208\n",
      "precision@50:0.1727\n",
      "ndcg@10:0.1810\n",
      "ndcg@30:0.1497\n",
      "ndcg@50:0.1431\n",
      "ndcg@all:0.4240\n"
     ]
    },
    {
     "data": {
      "application/vnd.jupyter.widget-view+json": {
       "model_id": "e512491a79624b8ab5fd995ae8de26fd",
       "version_major": 2,
       "version_minor": 0
      },
      "text/plain": [
       "Training:   0%|          | 0/313 [00:00<?, ?it/s]"
      ]
     },
     "metadata": {},
     "output_type": "display_data"
    },
    {
     "name": "stdout",
     "output_type": "stream",
     "text": [
      "[Epoch 305]\n",
      "precision@10:0.3772\n",
      "precision@30:0.2213\n",
      "precision@50:0.1724\n",
      "ndcg@10:0.1812\n",
      "ndcg@30:0.1501\n",
      "ndcg@50:0.1430\n",
      "ndcg@all:0.4240\n"
     ]
    },
    {
     "data": {
      "application/vnd.jupyter.widget-view+json": {
       "model_id": "6015919ae5ad44018a79e272220984a2",
       "version_major": 2,
       "version_minor": 0
      },
      "text/plain": [
       "Training:   0%|          | 0/313 [00:00<?, ?it/s]"
      ]
     },
     "metadata": {},
     "output_type": "display_data"
    },
    {
     "name": "stdout",
     "output_type": "stream",
     "text": [
      "[Epoch 306]\n",
      "precision@10:0.3752\n",
      "precision@30:0.2206\n",
      "precision@50:0.1725\n",
      "ndcg@10:0.1810\n",
      "ndcg@30:0.1500\n",
      "ndcg@50:0.1431\n",
      "ndcg@all:0.4239\n"
     ]
    },
    {
     "data": {
      "application/vnd.jupyter.widget-view+json": {
       "model_id": "73aaa089abcb48dabc10d56c9335a075",
       "version_major": 2,
       "version_minor": 0
      },
      "text/plain": [
       "Training:   0%|          | 0/313 [00:00<?, ?it/s]"
      ]
     },
     "metadata": {},
     "output_type": "display_data"
    },
    {
     "name": "stdout",
     "output_type": "stream",
     "text": [
      "[Epoch 307]\n",
      "precision@10:0.3765\n",
      "precision@30:0.2210\n",
      "precision@50:0.1724\n",
      "ndcg@10:0.1812\n",
      "ndcg@30:0.1502\n",
      "ndcg@50:0.1431\n",
      "ndcg@all:0.4242\n"
     ]
    },
    {
     "data": {
      "application/vnd.jupyter.widget-view+json": {
       "model_id": "2e2230e50e794b5db56519e988147de5",
       "version_major": 2,
       "version_minor": 0
      },
      "text/plain": [
       "Training:   0%|          | 0/313 [00:00<?, ?it/s]"
      ]
     },
     "metadata": {},
     "output_type": "display_data"
    },
    {
     "name": "stdout",
     "output_type": "stream",
     "text": [
      "[Epoch 308]\n",
      "precision@10:0.3750\n",
      "precision@30:0.2208\n",
      "precision@50:0.1726\n",
      "ndcg@10:0.1808\n",
      "ndcg@30:0.1498\n",
      "ndcg@50:0.1429\n",
      "ndcg@all:0.4241\n"
     ]
    },
    {
     "data": {
      "application/vnd.jupyter.widget-view+json": {
       "model_id": "5b841b562f0843d198c1a8b880d47ff9",
       "version_major": 2,
       "version_minor": 0
      },
      "text/plain": [
       "Training:   0%|          | 0/313 [00:00<?, ?it/s]"
      ]
     },
     "metadata": {},
     "output_type": "display_data"
    },
    {
     "name": "stdout",
     "output_type": "stream",
     "text": [
      "[Epoch 309]\n",
      "precision@10:0.3762\n",
      "precision@30:0.2209\n",
      "precision@50:0.1721\n",
      "ndcg@10:0.1813\n",
      "ndcg@30:0.1501\n",
      "ndcg@50:0.1430\n",
      "ndcg@all:0.4242\n"
     ]
    },
    {
     "data": {
      "application/vnd.jupyter.widget-view+json": {
       "model_id": "acd8080a8c13416c85bcadde21b7d0f0",
       "version_major": 2,
       "version_minor": 0
      },
      "text/plain": [
       "Training:   0%|          | 0/313 [00:00<?, ?it/s]"
      ]
     },
     "metadata": {},
     "output_type": "display_data"
    },
    {
     "name": "stdout",
     "output_type": "stream",
     "text": [
      "[Epoch 310]\n",
      "precision@10:0.3762\n",
      "precision@30:0.2213\n",
      "precision@50:0.1728\n",
      "ndcg@10:0.1813\n",
      "ndcg@30:0.1503\n",
      "ndcg@50:0.1433\n",
      "ndcg@all:0.4244\n"
     ]
    },
    {
     "data": {
      "application/vnd.jupyter.widget-view+json": {
       "model_id": "f520ee4c31e342f38322fd35785eccc5",
       "version_major": 2,
       "version_minor": 0
      },
      "text/plain": [
       "Training:   0%|          | 0/313 [00:00<?, ?it/s]"
      ]
     },
     "metadata": {},
     "output_type": "display_data"
    },
    {
     "name": "stdout",
     "output_type": "stream",
     "text": [
      "[Epoch 311]\n",
      "precision@10:0.3754\n",
      "precision@30:0.2195\n",
      "precision@50:0.1715\n",
      "ndcg@10:0.1811\n",
      "ndcg@30:0.1498\n",
      "ndcg@50:0.1428\n",
      "ndcg@all:0.4240\n"
     ]
    },
    {
     "data": {
      "application/vnd.jupyter.widget-view+json": {
       "model_id": "770c6b39d7d84489bc6d8e7fe2099c46",
       "version_major": 2,
       "version_minor": 0
      },
      "text/plain": [
       "Training:   0%|          | 0/313 [00:00<?, ?it/s]"
      ]
     },
     "metadata": {},
     "output_type": "display_data"
    },
    {
     "name": "stdout",
     "output_type": "stream",
     "text": [
      "[Epoch 312]\n",
      "precision@10:0.3760\n",
      "precision@30:0.2203\n",
      "precision@50:0.1718\n",
      "ndcg@10:0.1814\n",
      "ndcg@30:0.1502\n",
      "ndcg@50:0.1431\n",
      "ndcg@all:0.4242\n"
     ]
    },
    {
     "data": {
      "application/vnd.jupyter.widget-view+json": {
       "model_id": "79a0a704c2d1491897bcc98413a70ed8",
       "version_major": 2,
       "version_minor": 0
      },
      "text/plain": [
       "Training:   0%|          | 0/313 [00:00<?, ?it/s]"
      ]
     },
     "metadata": {},
     "output_type": "display_data"
    },
    {
     "name": "stdout",
     "output_type": "stream",
     "text": [
      "[Epoch 313]\n",
      "precision@10:0.3746\n",
      "precision@30:0.2204\n",
      "precision@50:0.1719\n",
      "ndcg@10:0.1812\n",
      "ndcg@30:0.1501\n",
      "ndcg@50:0.1432\n",
      "ndcg@all:0.4242\n"
     ]
    },
    {
     "data": {
      "application/vnd.jupyter.widget-view+json": {
       "model_id": "3978d2343b0b4d6bb986fae4f20e26d7",
       "version_major": 2,
       "version_minor": 0
      },
      "text/plain": [
       "Training:   0%|          | 0/313 [00:00<?, ?it/s]"
      ]
     },
     "metadata": {},
     "output_type": "display_data"
    },
    {
     "name": "stdout",
     "output_type": "stream",
     "text": [
      "[Epoch 314]\n",
      "precision@10:0.3751\n",
      "precision@30:0.2204\n",
      "precision@50:0.1717\n",
      "ndcg@10:0.1813\n",
      "ndcg@30:0.1502\n",
      "ndcg@50:0.1431\n",
      "ndcg@all:0.4241\n"
     ]
    },
    {
     "data": {
      "application/vnd.jupyter.widget-view+json": {
       "model_id": "c9300cc9b16e492aa04b204bc01c18fa",
       "version_major": 2,
       "version_minor": 0
      },
      "text/plain": [
       "Training:   0%|          | 0/313 [00:00<?, ?it/s]"
      ]
     },
     "metadata": {},
     "output_type": "display_data"
    },
    {
     "name": "stdout",
     "output_type": "stream",
     "text": [
      "[Epoch 315]\n",
      "precision@10:0.3751\n",
      "precision@30:0.2202\n",
      "precision@50:0.1720\n",
      "ndcg@10:0.1812\n",
      "ndcg@30:0.1501\n",
      "ndcg@50:0.1432\n",
      "ndcg@all:0.4245\n"
     ]
    },
    {
     "data": {
      "application/vnd.jupyter.widget-view+json": {
       "model_id": "248a149fbb594b9f994f3fe72d54960a",
       "version_major": 2,
       "version_minor": 0
      },
      "text/plain": [
       "Training:   0%|          | 0/313 [00:00<?, ?it/s]"
      ]
     },
     "metadata": {},
     "output_type": "display_data"
    },
    {
     "name": "stdout",
     "output_type": "stream",
     "text": [
      "[Epoch 316]\n",
      "precision@10:0.3739\n",
      "precision@30:0.2201\n",
      "precision@50:0.1721\n",
      "ndcg@10:0.1811\n",
      "ndcg@30:0.1501\n",
      "ndcg@50:0.1434\n",
      "ndcg@all:0.4244\n"
     ]
    },
    {
     "data": {
      "application/vnd.jupyter.widget-view+json": {
       "model_id": "c4aaa12c58714bde95cb40852c6ba2dc",
       "version_major": 2,
       "version_minor": 0
      },
      "text/plain": [
       "Training:   0%|          | 0/313 [00:00<?, ?it/s]"
      ]
     },
     "metadata": {},
     "output_type": "display_data"
    },
    {
     "name": "stdout",
     "output_type": "stream",
     "text": [
      "[Epoch 317]\n",
      "precision@10:0.3756\n",
      "precision@30:0.2210\n",
      "precision@50:0.1727\n",
      "ndcg@10:0.1815\n",
      "ndcg@30:0.1505\n",
      "ndcg@50:0.1436\n",
      "ndcg@all:0.4248\n"
     ]
    },
    {
     "data": {
      "application/vnd.jupyter.widget-view+json": {
       "model_id": "e8f3c269236247a5882e655d64af1da0",
       "version_major": 2,
       "version_minor": 0
      },
      "text/plain": [
       "Training:   0%|          | 0/313 [00:00<?, ?it/s]"
      ]
     },
     "metadata": {},
     "output_type": "display_data"
    },
    {
     "name": "stdout",
     "output_type": "stream",
     "text": [
      "[Epoch 318]\n",
      "precision@10:0.3738\n",
      "precision@30:0.2194\n",
      "precision@50:0.1715\n",
      "ndcg@10:0.1813\n",
      "ndcg@30:0.1502\n",
      "ndcg@50:0.1432\n",
      "ndcg@all:0.4242\n"
     ]
    },
    {
     "data": {
      "application/vnd.jupyter.widget-view+json": {
       "model_id": "13ffe4683a994529a5c677c257aa6179",
       "version_major": 2,
       "version_minor": 0
      },
      "text/plain": [
       "Training:   0%|          | 0/313 [00:00<?, ?it/s]"
      ]
     },
     "metadata": {},
     "output_type": "display_data"
    },
    {
     "name": "stdout",
     "output_type": "stream",
     "text": [
      "[Epoch 319]\n",
      "precision@10:0.3764\n",
      "precision@30:0.2217\n",
      "precision@50:0.1729\n",
      "ndcg@10:0.1816\n",
      "ndcg@30:0.1506\n",
      "ndcg@50:0.1437\n",
      "ndcg@all:0.4249\n"
     ]
    },
    {
     "data": {
      "application/vnd.jupyter.widget-view+json": {
       "model_id": "5acfd3cf158246c0ace486209b918f8d",
       "version_major": 2,
       "version_minor": 0
      },
      "text/plain": [
       "Training:   0%|          | 0/313 [00:00<?, ?it/s]"
      ]
     },
     "metadata": {},
     "output_type": "display_data"
    },
    {
     "name": "stdout",
     "output_type": "stream",
     "text": [
      "[Epoch 320]\n",
      "precision@10:0.3757\n",
      "precision@30:0.2210\n",
      "precision@50:0.1724\n",
      "ndcg@10:0.1817\n",
      "ndcg@30:0.1507\n",
      "ndcg@50:0.1436\n",
      "ndcg@all:0.4248\n"
     ]
    },
    {
     "data": {
      "application/vnd.jupyter.widget-view+json": {
       "model_id": "34e25bbc04384b6ca1b7846efcb5fe79",
       "version_major": 2,
       "version_minor": 0
      },
      "text/plain": [
       "Training:   0%|          | 0/313 [00:00<?, ?it/s]"
      ]
     },
     "metadata": {},
     "output_type": "display_data"
    },
    {
     "name": "stdout",
     "output_type": "stream",
     "text": [
      "[Epoch 321]\n",
      "precision@10:0.3737\n",
      "precision@30:0.2188\n",
      "precision@50:0.1716\n",
      "ndcg@10:0.1813\n",
      "ndcg@30:0.1501\n",
      "ndcg@50:0.1434\n",
      "ndcg@all:0.4244\n"
     ]
    },
    {
     "data": {
      "application/vnd.jupyter.widget-view+json": {
       "model_id": "61bc88dbcf694403bd35572c061c95c3",
       "version_major": 2,
       "version_minor": 0
      },
      "text/plain": [
       "Training:   0%|          | 0/313 [00:00<?, ?it/s]"
      ]
     },
     "metadata": {},
     "output_type": "display_data"
    },
    {
     "name": "stdout",
     "output_type": "stream",
     "text": [
      "[Epoch 322]\n",
      "precision@10:0.3741\n",
      "precision@30:0.2191\n",
      "precision@50:0.1712\n",
      "ndcg@10:0.1815\n",
      "ndcg@30:0.1504\n",
      "ndcg@50:0.1435\n",
      "ndcg@all:0.4244\n"
     ]
    },
    {
     "data": {
      "application/vnd.jupyter.widget-view+json": {
       "model_id": "290065d32b0c407fa41f7ea87d50694e",
       "version_major": 2,
       "version_minor": 0
      },
      "text/plain": [
       "Training:   0%|          | 0/313 [00:00<?, ?it/s]"
      ]
     },
     "metadata": {},
     "output_type": "display_data"
    },
    {
     "name": "stdout",
     "output_type": "stream",
     "text": [
      "[Epoch 323]\n",
      "precision@10:0.3733\n",
      "precision@30:0.2194\n",
      "precision@50:0.1718\n",
      "ndcg@10:0.1814\n",
      "ndcg@30:0.1505\n",
      "ndcg@50:0.1435\n",
      "ndcg@all:0.4247\n"
     ]
    },
    {
     "data": {
      "application/vnd.jupyter.widget-view+json": {
       "model_id": "92df414857ac4e518ee331b719fa1327",
       "version_major": 2,
       "version_minor": 0
      },
      "text/plain": [
       "Training:   0%|          | 0/313 [00:00<?, ?it/s]"
      ]
     },
     "metadata": {},
     "output_type": "display_data"
    },
    {
     "name": "stdout",
     "output_type": "stream",
     "text": [
      "[Epoch 324]\n",
      "precision@10:0.3740\n",
      "precision@30:0.2192\n",
      "precision@50:0.1717\n",
      "ndcg@10:0.1814\n",
      "ndcg@30:0.1503\n",
      "ndcg@50:0.1435\n",
      "ndcg@all:0.4247\n"
     ]
    },
    {
     "data": {
      "application/vnd.jupyter.widget-view+json": {
       "model_id": "e766474fefc445789cfc695e15754a5a",
       "version_major": 2,
       "version_minor": 0
      },
      "text/plain": [
       "Training:   0%|          | 0/313 [00:00<?, ?it/s]"
      ]
     },
     "metadata": {},
     "output_type": "display_data"
    },
    {
     "name": "stdout",
     "output_type": "stream",
     "text": [
      "[Epoch 325]\n",
      "precision@10:0.3742\n",
      "precision@30:0.2189\n",
      "precision@50:0.1711\n",
      "ndcg@10:0.1816\n",
      "ndcg@30:0.1503\n",
      "ndcg@50:0.1435\n",
      "ndcg@all:0.4244\n"
     ]
    },
    {
     "data": {
      "application/vnd.jupyter.widget-view+json": {
       "model_id": "024619f3be354f89bdd25e2675891ff9",
       "version_major": 2,
       "version_minor": 0
      },
      "text/plain": [
       "Training:   0%|          | 0/313 [00:00<?, ?it/s]"
      ]
     },
     "metadata": {},
     "output_type": "display_data"
    },
    {
     "name": "stdout",
     "output_type": "stream",
     "text": [
      "[Epoch 326]\n",
      "precision@10:0.3737\n",
      "precision@30:0.2201\n",
      "precision@50:0.1722\n",
      "ndcg@10:0.1816\n",
      "ndcg@30:0.1506\n",
      "ndcg@50:0.1438\n",
      "ndcg@all:0.4247\n"
     ]
    },
    {
     "data": {
      "application/vnd.jupyter.widget-view+json": {
       "model_id": "d2644df391be43299a9803d51eb59207",
       "version_major": 2,
       "version_minor": 0
      },
      "text/plain": [
       "Training:   0%|          | 0/313 [00:00<?, ?it/s]"
      ]
     },
     "metadata": {},
     "output_type": "display_data"
    },
    {
     "name": "stdout",
     "output_type": "stream",
     "text": [
      "[Epoch 327]\n",
      "precision@10:0.3740\n",
      "precision@30:0.2200\n",
      "precision@50:0.1719\n",
      "ndcg@10:0.1819\n",
      "ndcg@30:0.1508\n",
      "ndcg@50:0.1439\n",
      "ndcg@all:0.4251\n"
     ]
    },
    {
     "data": {
      "application/vnd.jupyter.widget-view+json": {
       "model_id": "fc3c98ca0f28478ba4bf00f79d3a026b",
       "version_major": 2,
       "version_minor": 0
      },
      "text/plain": [
       "Training:   0%|          | 0/313 [00:00<?, ?it/s]"
      ]
     },
     "metadata": {},
     "output_type": "display_data"
    },
    {
     "name": "stdout",
     "output_type": "stream",
     "text": [
      "[Epoch 328]\n",
      "precision@10:0.3713\n",
      "precision@30:0.2187\n",
      "precision@50:0.1708\n",
      "ndcg@10:0.1815\n",
      "ndcg@30:0.1505\n",
      "ndcg@50:0.1436\n",
      "ndcg@all:0.4246\n"
     ]
    },
    {
     "data": {
      "application/vnd.jupyter.widget-view+json": {
       "model_id": "9e4146f6a3024bfd96d9171652d234af",
       "version_major": 2,
       "version_minor": 0
      },
      "text/plain": [
       "Training:   0%|          | 0/313 [00:00<?, ?it/s]"
      ]
     },
     "metadata": {},
     "output_type": "display_data"
    },
    {
     "name": "stdout",
     "output_type": "stream",
     "text": [
      "[Epoch 329]\n",
      "precision@10:0.3731\n",
      "precision@30:0.2190\n",
      "precision@50:0.1716\n",
      "ndcg@10:0.1818\n",
      "ndcg@30:0.1506\n",
      "ndcg@50:0.1438\n",
      "ndcg@all:0.4249\n"
     ]
    },
    {
     "data": {
      "application/vnd.jupyter.widget-view+json": {
       "model_id": "992d1737cb364e97b673eaf95bcf97eb",
       "version_major": 2,
       "version_minor": 0
      },
      "text/plain": [
       "Training:   0%|          | 0/313 [00:00<?, ?it/s]"
      ]
     },
     "metadata": {},
     "output_type": "display_data"
    },
    {
     "name": "stdout",
     "output_type": "stream",
     "text": [
      "[Epoch 330]\n",
      "precision@10:0.3732\n",
      "precision@30:0.2195\n",
      "precision@50:0.1715\n",
      "ndcg@10:0.1818\n",
      "ndcg@30:0.1508\n",
      "ndcg@50:0.1438\n",
      "ndcg@all:0.4252\n"
     ]
    },
    {
     "data": {
      "application/vnd.jupyter.widget-view+json": {
       "model_id": "6b04b860c5954ad4930f14daa8f95226",
       "version_major": 2,
       "version_minor": 0
      },
      "text/plain": [
       "Training:   0%|          | 0/313 [00:00<?, ?it/s]"
      ]
     },
     "metadata": {},
     "output_type": "display_data"
    },
    {
     "name": "stdout",
     "output_type": "stream",
     "text": [
      "[Epoch 331]\n",
      "precision@10:0.3737\n",
      "precision@30:0.2186\n",
      "precision@50:0.1713\n",
      "ndcg@10:0.1821\n",
      "ndcg@30:0.1507\n",
      "ndcg@50:0.1438\n",
      "ndcg@all:0.4249\n"
     ]
    },
    {
     "data": {
      "application/vnd.jupyter.widget-view+json": {
       "model_id": "3f3b7f55bbe14567804f1c4fafc236a1",
       "version_major": 2,
       "version_minor": 0
      },
      "text/plain": [
       "Training:   0%|          | 0/313 [00:00<?, ?it/s]"
      ]
     },
     "metadata": {},
     "output_type": "display_data"
    },
    {
     "name": "stdout",
     "output_type": "stream",
     "text": [
      "[Epoch 332]\n",
      "precision@10:0.3729\n",
      "precision@30:0.2186\n",
      "precision@50:0.1711\n",
      "ndcg@10:0.1819\n",
      "ndcg@30:0.1507\n",
      "ndcg@50:0.1437\n",
      "ndcg@all:0.4249\n"
     ]
    },
    {
     "data": {
      "application/vnd.jupyter.widget-view+json": {
       "model_id": "826aa3d7b7924c3980f1b640de5ade4a",
       "version_major": 2,
       "version_minor": 0
      },
      "text/plain": [
       "Training:   0%|          | 0/313 [00:00<?, ?it/s]"
      ]
     },
     "metadata": {},
     "output_type": "display_data"
    },
    {
     "name": "stdout",
     "output_type": "stream",
     "text": [
      "[Epoch 333]\n",
      "precision@10:0.3732\n",
      "precision@30:0.2195\n",
      "precision@50:0.1717\n",
      "ndcg@10:0.1819\n",
      "ndcg@30:0.1510\n",
      "ndcg@50:0.1441\n",
      "ndcg@all:0.4252\n"
     ]
    },
    {
     "data": {
      "application/vnd.jupyter.widget-view+json": {
       "model_id": "d0cbdbc7fd6f4a39a9e2e5d22b297a85",
       "version_major": 2,
       "version_minor": 0
      },
      "text/plain": [
       "Training:   0%|          | 0/313 [00:00<?, ?it/s]"
      ]
     },
     "metadata": {},
     "output_type": "display_data"
    },
    {
     "name": "stdout",
     "output_type": "stream",
     "text": [
      "[Epoch 334]\n",
      "precision@10:0.3722\n",
      "precision@30:0.2193\n",
      "precision@50:0.1716\n",
      "ndcg@10:0.1818\n",
      "ndcg@30:0.1508\n",
      "ndcg@50:0.1439\n",
      "ndcg@all:0.4251\n"
     ]
    },
    {
     "data": {
      "application/vnd.jupyter.widget-view+json": {
       "model_id": "3f7046ef4dfa42dbb4a9736dfb96172a",
       "version_major": 2,
       "version_minor": 0
      },
      "text/plain": [
       "Training:   0%|          | 0/313 [00:00<?, ?it/s]"
      ]
     },
     "metadata": {},
     "output_type": "display_data"
    },
    {
     "name": "stdout",
     "output_type": "stream",
     "text": [
      "[Epoch 335]\n",
      "precision@10:0.3714\n",
      "precision@30:0.2183\n",
      "precision@50:0.1706\n",
      "ndcg@10:0.1820\n",
      "ndcg@30:0.1509\n",
      "ndcg@50:0.1438\n",
      "ndcg@all:0.4249\n"
     ]
    },
    {
     "data": {
      "application/vnd.jupyter.widget-view+json": {
       "model_id": "8d6fc17de899417dbef96daf2e22379d",
       "version_major": 2,
       "version_minor": 0
      },
      "text/plain": [
       "Training:   0%|          | 0/313 [00:00<?, ?it/s]"
      ]
     },
     "metadata": {},
     "output_type": "display_data"
    },
    {
     "name": "stdout",
     "output_type": "stream",
     "text": [
      "[Epoch 336]\n",
      "precision@10:0.3712\n",
      "precision@30:0.2171\n",
      "precision@50:0.1700\n",
      "ndcg@10:0.1818\n",
      "ndcg@30:0.1504\n",
      "ndcg@50:0.1436\n",
      "ndcg@all:0.4247\n"
     ]
    },
    {
     "data": {
      "application/vnd.jupyter.widget-view+json": {
       "model_id": "305f938b589f4bcdaf2ac83129d9293f",
       "version_major": 2,
       "version_minor": 0
      },
      "text/plain": [
       "Training:   0%|          | 0/313 [00:00<?, ?it/s]"
      ]
     },
     "metadata": {},
     "output_type": "display_data"
    },
    {
     "name": "stdout",
     "output_type": "stream",
     "text": [
      "[Epoch 337]\n",
      "precision@10:0.3724\n",
      "precision@30:0.2190\n",
      "precision@50:0.1713\n",
      "ndcg@10:0.1820\n",
      "ndcg@30:0.1511\n",
      "ndcg@50:0.1440\n",
      "ndcg@all:0.4253\n"
     ]
    },
    {
     "data": {
      "application/vnd.jupyter.widget-view+json": {
       "model_id": "98c08593298140d2ba19314dd0ef306f",
       "version_major": 2,
       "version_minor": 0
      },
      "text/plain": [
       "Training:   0%|          | 0/313 [00:00<?, ?it/s]"
      ]
     },
     "metadata": {},
     "output_type": "display_data"
    },
    {
     "name": "stdout",
     "output_type": "stream",
     "text": [
      "[Epoch 338]\n",
      "precision@10:0.3719\n",
      "precision@30:0.2177\n",
      "precision@50:0.1703\n",
      "ndcg@10:0.1822\n",
      "ndcg@30:0.1510\n",
      "ndcg@50:0.1439\n",
      "ndcg@all:0.4251\n"
     ]
    },
    {
     "data": {
      "application/vnd.jupyter.widget-view+json": {
       "model_id": "b90463dcbbdf445f9255f942fb49ea30",
       "version_major": 2,
       "version_minor": 0
      },
      "text/plain": [
       "Training:   0%|          | 0/313 [00:00<?, ?it/s]"
      ]
     },
     "metadata": {},
     "output_type": "display_data"
    },
    {
     "name": "stdout",
     "output_type": "stream",
     "text": [
      "[Epoch 339]\n",
      "precision@10:0.3733\n",
      "precision@30:0.2191\n",
      "precision@50:0.1718\n",
      "ndcg@10:0.1825\n",
      "ndcg@30:0.1513\n",
      "ndcg@50:0.1445\n",
      "ndcg@all:0.4257\n"
     ]
    },
    {
     "data": {
      "application/vnd.jupyter.widget-view+json": {
       "model_id": "0b9fccde013a4aefaf8cea89c012b3a1",
       "version_major": 2,
       "version_minor": 0
      },
      "text/plain": [
       "Training:   0%|          | 0/313 [00:00<?, ?it/s]"
      ]
     },
     "metadata": {},
     "output_type": "display_data"
    },
    {
     "name": "stdout",
     "output_type": "stream",
     "text": [
      "[Epoch 340]\n",
      "precision@10:0.3715\n",
      "precision@30:0.2173\n",
      "precision@50:0.1703\n",
      "ndcg@10:0.1822\n",
      "ndcg@30:0.1510\n",
      "ndcg@50:0.1441\n",
      "ndcg@all:0.4251\n"
     ]
    },
    {
     "data": {
      "application/vnd.jupyter.widget-view+json": {
       "model_id": "846280315feb45cebbce3f6adf515eaf",
       "version_major": 2,
       "version_minor": 0
      },
      "text/plain": [
       "Training:   0%|          | 0/313 [00:00<?, ?it/s]"
      ]
     },
     "metadata": {},
     "output_type": "display_data"
    },
    {
     "name": "stdout",
     "output_type": "stream",
     "text": [
      "[Epoch 341]\n",
      "precision@10:0.3712\n",
      "precision@30:0.2190\n",
      "precision@50:0.1716\n",
      "ndcg@10:0.1822\n",
      "ndcg@30:0.1513\n",
      "ndcg@50:0.1444\n",
      "ndcg@all:0.4256\n"
     ]
    },
    {
     "data": {
      "application/vnd.jupyter.widget-view+json": {
       "model_id": "f69064375eb0402387dd006dee07335f",
       "version_major": 2,
       "version_minor": 0
      },
      "text/plain": [
       "Training:   0%|          | 0/313 [00:00<?, ?it/s]"
      ]
     },
     "metadata": {},
     "output_type": "display_data"
    },
    {
     "name": "stdout",
     "output_type": "stream",
     "text": [
      "[Epoch 342]\n",
      "precision@10:0.3716\n",
      "precision@30:0.2186\n",
      "precision@50:0.1715\n",
      "ndcg@10:0.1825\n",
      "ndcg@30:0.1513\n",
      "ndcg@50:0.1446\n",
      "ndcg@all:0.4254\n"
     ]
    },
    {
     "data": {
      "application/vnd.jupyter.widget-view+json": {
       "model_id": "9939bbde20ee47279eb465d516374cd6",
       "version_major": 2,
       "version_minor": 0
      },
      "text/plain": [
       "Training:   0%|          | 0/313 [00:00<?, ?it/s]"
      ]
     },
     "metadata": {},
     "output_type": "display_data"
    },
    {
     "name": "stdout",
     "output_type": "stream",
     "text": [
      "[Epoch 343]\n",
      "precision@10:0.3720\n",
      "precision@30:0.2178\n",
      "precision@50:0.1707\n",
      "ndcg@10:0.1825\n",
      "ndcg@30:0.1511\n",
      "ndcg@50:0.1442\n",
      "ndcg@all:0.4254\n"
     ]
    },
    {
     "data": {
      "application/vnd.jupyter.widget-view+json": {
       "model_id": "336bce3548dc4f388a6a26c22170f9f3",
       "version_major": 2,
       "version_minor": 0
      },
      "text/plain": [
       "Training:   0%|          | 0/313 [00:00<?, ?it/s]"
      ]
     },
     "metadata": {},
     "output_type": "display_data"
    },
    {
     "name": "stdout",
     "output_type": "stream",
     "text": [
      "[Epoch 344]\n",
      "precision@10:0.3712\n",
      "precision@30:0.2176\n",
      "precision@50:0.1703\n",
      "ndcg@10:0.1825\n",
      "ndcg@30:0.1512\n",
      "ndcg@50:0.1442\n",
      "ndcg@all:0.4253\n"
     ]
    },
    {
     "data": {
      "application/vnd.jupyter.widget-view+json": {
       "model_id": "c38d92b222f54b4fb507e727e16cdf50",
       "version_major": 2,
       "version_minor": 0
      },
      "text/plain": [
       "Training:   0%|          | 0/313 [00:00<?, ?it/s]"
      ]
     },
     "metadata": {},
     "output_type": "display_data"
    },
    {
     "name": "stdout",
     "output_type": "stream",
     "text": [
      "[Epoch 345]\n",
      "precision@10:0.3707\n",
      "precision@30:0.2176\n",
      "precision@50:0.1705\n",
      "ndcg@10:0.1823\n",
      "ndcg@30:0.1511\n",
      "ndcg@50:0.1443\n",
      "ndcg@all:0.4254\n"
     ]
    },
    {
     "data": {
      "application/vnd.jupyter.widget-view+json": {
       "model_id": "d35729a8d5764500be39e6aea653453a",
       "version_major": 2,
       "version_minor": 0
      },
      "text/plain": [
       "Training:   0%|          | 0/313 [00:00<?, ?it/s]"
      ]
     },
     "metadata": {},
     "output_type": "display_data"
    },
    {
     "name": "stdout",
     "output_type": "stream",
     "text": [
      "[Epoch 346]\n",
      "precision@10:0.3689\n",
      "precision@30:0.2167\n",
      "precision@50:0.1697\n",
      "ndcg@10:0.1820\n",
      "ndcg@30:0.1510\n",
      "ndcg@50:0.1441\n",
      "ndcg@all:0.4253\n"
     ]
    },
    {
     "data": {
      "application/vnd.jupyter.widget-view+json": {
       "model_id": "3ae1c3ed30ab4e89a4c04877261cca89",
       "version_major": 2,
       "version_minor": 0
      },
      "text/plain": [
       "Training:   0%|          | 0/313 [00:00<?, ?it/s]"
      ]
     },
     "metadata": {},
     "output_type": "display_data"
    },
    {
     "name": "stdout",
     "output_type": "stream",
     "text": [
      "[Epoch 347]\n",
      "precision@10:0.3709\n",
      "precision@30:0.2181\n",
      "precision@50:0.1707\n",
      "ndcg@10:0.1823\n",
      "ndcg@30:0.1514\n",
      "ndcg@50:0.1444\n",
      "ndcg@all:0.4256\n"
     ]
    },
    {
     "data": {
      "application/vnd.jupyter.widget-view+json": {
       "model_id": "6bd3ac60ef3b489f8ffc84221512c79b",
       "version_major": 2,
       "version_minor": 0
      },
      "text/plain": [
       "Training:   0%|          | 0/313 [00:00<?, ?it/s]"
      ]
     },
     "metadata": {},
     "output_type": "display_data"
    },
    {
     "name": "stdout",
     "output_type": "stream",
     "text": [
      "[Epoch 348]\n",
      "precision@10:0.3711\n",
      "precision@30:0.2173\n",
      "precision@50:0.1706\n",
      "ndcg@10:0.1826\n",
      "ndcg@30:0.1512\n",
      "ndcg@50:0.1444\n",
      "ndcg@all:0.4255\n"
     ]
    },
    {
     "data": {
      "application/vnd.jupyter.widget-view+json": {
       "model_id": "977bbe1b7e5841a09c802feec715f280",
       "version_major": 2,
       "version_minor": 0
      },
      "text/plain": [
       "Training:   0%|          | 0/313 [00:00<?, ?it/s]"
      ]
     },
     "metadata": {},
     "output_type": "display_data"
    },
    {
     "name": "stdout",
     "output_type": "stream",
     "text": [
      "[Epoch 349]\n",
      "precision@10:0.3684\n",
      "precision@30:0.2170\n",
      "precision@50:0.1705\n",
      "ndcg@10:0.1820\n",
      "ndcg@30:0.1511\n",
      "ndcg@50:0.1443\n",
      "ndcg@all:0.4253\n"
     ]
    },
    {
     "data": {
      "application/vnd.jupyter.widget-view+json": {
       "model_id": "db4d750c506a4fb0a97ee296ca1c22d0",
       "version_major": 2,
       "version_minor": 0
      },
      "text/plain": [
       "Training:   0%|          | 0/313 [00:00<?, ?it/s]"
      ]
     },
     "metadata": {},
     "output_type": "display_data"
    },
    {
     "name": "stdout",
     "output_type": "stream",
     "text": [
      "[Epoch 350]\n",
      "precision@10:0.3709\n",
      "precision@30:0.2178\n",
      "precision@50:0.1708\n",
      "ndcg@10:0.1826\n",
      "ndcg@30:0.1514\n",
      "ndcg@50:0.1446\n",
      "ndcg@all:0.4257\n"
     ]
    },
    {
     "data": {
      "application/vnd.jupyter.widget-view+json": {
       "model_id": "dbff260f17024741ac6554d142e370e0",
       "version_major": 2,
       "version_minor": 0
      },
      "text/plain": [
       "Training:   0%|          | 0/313 [00:00<?, ?it/s]"
      ]
     },
     "metadata": {},
     "output_type": "display_data"
    },
    {
     "name": "stdout",
     "output_type": "stream",
     "text": [
      "[Epoch 351]\n",
      "precision@10:0.3705\n",
      "precision@30:0.2173\n",
      "precision@50:0.1701\n",
      "ndcg@10:0.1825\n",
      "ndcg@30:0.1512\n",
      "ndcg@50:0.1444\n",
      "ndcg@all:0.4257\n"
     ]
    },
    {
     "data": {
      "application/vnd.jupyter.widget-view+json": {
       "model_id": "8904b4d4438c4906a218c3055afeecca",
       "version_major": 2,
       "version_minor": 0
      },
      "text/plain": [
       "Training:   0%|          | 0/313 [00:00<?, ?it/s]"
      ]
     },
     "metadata": {},
     "output_type": "display_data"
    },
    {
     "name": "stdout",
     "output_type": "stream",
     "text": [
      "[Epoch 352]\n",
      "precision@10:0.3688\n",
      "precision@30:0.2171\n",
      "precision@50:0.1702\n",
      "ndcg@10:0.1823\n",
      "ndcg@30:0.1512\n",
      "ndcg@50:0.1444\n",
      "ndcg@all:0.4256\n"
     ]
    },
    {
     "data": {
      "application/vnd.jupyter.widget-view+json": {
       "model_id": "46777c6ca1b244da81f59abc3a6b1ba4",
       "version_major": 2,
       "version_minor": 0
      },
      "text/plain": [
       "Training:   0%|          | 0/313 [00:00<?, ?it/s]"
      ]
     },
     "metadata": {},
     "output_type": "display_data"
    },
    {
     "name": "stdout",
     "output_type": "stream",
     "text": [
      "[Epoch 353]\n",
      "precision@10:0.3688\n",
      "precision@30:0.2166\n",
      "precision@50:0.1701\n",
      "ndcg@10:0.1822\n",
      "ndcg@30:0.1513\n",
      "ndcg@50:0.1444\n",
      "ndcg@all:0.4255\n"
     ]
    },
    {
     "data": {
      "application/vnd.jupyter.widget-view+json": {
       "model_id": "010a23cdc44745569069454b0e397278",
       "version_major": 2,
       "version_minor": 0
      },
      "text/plain": [
       "Training:   0%|          | 0/313 [00:00<?, ?it/s]"
      ]
     },
     "metadata": {},
     "output_type": "display_data"
    },
    {
     "name": "stdout",
     "output_type": "stream",
     "text": [
      "[Epoch 354]\n",
      "precision@10:0.3692\n",
      "precision@30:0.2155\n",
      "precision@50:0.1691\n",
      "ndcg@10:0.1824\n",
      "ndcg@30:0.1509\n",
      "ndcg@50:0.1440\n",
      "ndcg@all:0.4253\n"
     ]
    },
    {
     "data": {
      "application/vnd.jupyter.widget-view+json": {
       "model_id": "50fd7d08aa3b4709bd3c8f905e011277",
       "version_major": 2,
       "version_minor": 0
      },
      "text/plain": [
       "Training:   0%|          | 0/313 [00:00<?, ?it/s]"
      ]
     },
     "metadata": {},
     "output_type": "display_data"
    },
    {
     "name": "stdout",
     "output_type": "stream",
     "text": [
      "[Epoch 355]\n",
      "precision@10:0.3691\n",
      "precision@30:0.2170\n",
      "precision@50:0.1700\n",
      "ndcg@10:0.1824\n",
      "ndcg@30:0.1513\n",
      "ndcg@50:0.1444\n",
      "ndcg@all:0.4257\n"
     ]
    },
    {
     "data": {
      "application/vnd.jupyter.widget-view+json": {
       "model_id": "19735af865674894af677b837610c364",
       "version_major": 2,
       "version_minor": 0
      },
      "text/plain": [
       "Training:   0%|          | 0/313 [00:00<?, ?it/s]"
      ]
     },
     "metadata": {},
     "output_type": "display_data"
    },
    {
     "name": "stdout",
     "output_type": "stream",
     "text": [
      "[Epoch 356]\n",
      "precision@10:0.3680\n",
      "precision@30:0.2164\n",
      "precision@50:0.1698\n",
      "ndcg@10:0.1824\n",
      "ndcg@30:0.1514\n",
      "ndcg@50:0.1445\n",
      "ndcg@all:0.4258\n"
     ]
    },
    {
     "data": {
      "application/vnd.jupyter.widget-view+json": {
       "model_id": "a0cfa72fecb14394a52efad97795332d",
       "version_major": 2,
       "version_minor": 0
      },
      "text/plain": [
       "Training:   0%|          | 0/313 [00:00<?, ?it/s]"
      ]
     },
     "metadata": {},
     "output_type": "display_data"
    },
    {
     "name": "stdout",
     "output_type": "stream",
     "text": [
      "[Epoch 357]\n",
      "precision@10:0.3698\n",
      "precision@30:0.2172\n",
      "precision@50:0.1706\n",
      "ndcg@10:0.1827\n",
      "ndcg@30:0.1515\n",
      "ndcg@50:0.1447\n",
      "ndcg@all:0.4261\n"
     ]
    },
    {
     "data": {
      "application/vnd.jupyter.widget-view+json": {
       "model_id": "84ffe9d8acf64013afc49938813d209d",
       "version_major": 2,
       "version_minor": 0
      },
      "text/plain": [
       "Training:   0%|          | 0/313 [00:00<?, ?it/s]"
      ]
     },
     "metadata": {},
     "output_type": "display_data"
    },
    {
     "name": "stdout",
     "output_type": "stream",
     "text": [
      "[Epoch 358]\n",
      "precision@10:0.3703\n",
      "precision@30:0.2180\n",
      "precision@50:0.1710\n",
      "ndcg@10:0.1829\n",
      "ndcg@30:0.1519\n",
      "ndcg@50:0.1450\n",
      "ndcg@all:0.4262\n"
     ]
    },
    {
     "data": {
      "application/vnd.jupyter.widget-view+json": {
       "model_id": "6959be71928a4938b26ada177a48db6c",
       "version_major": 2,
       "version_minor": 0
      },
      "text/plain": [
       "Training:   0%|          | 0/313 [00:00<?, ?it/s]"
      ]
     },
     "metadata": {},
     "output_type": "display_data"
    },
    {
     "name": "stdout",
     "output_type": "stream",
     "text": [
      "[Epoch 359]\n",
      "precision@10:0.3696\n",
      "precision@30:0.2171\n",
      "precision@50:0.1702\n",
      "ndcg@10:0.1831\n",
      "ndcg@30:0.1518\n",
      "ndcg@50:0.1449\n",
      "ndcg@all:0.4260\n"
     ]
    },
    {
     "data": {
      "application/vnd.jupyter.widget-view+json": {
       "model_id": "8cabf6a508e549629542494674745bd4",
       "version_major": 2,
       "version_minor": 0
      },
      "text/plain": [
       "Training:   0%|          | 0/313 [00:00<?, ?it/s]"
      ]
     },
     "metadata": {},
     "output_type": "display_data"
    },
    {
     "name": "stdout",
     "output_type": "stream",
     "text": [
      "[Epoch 360]\n",
      "precision@10:0.3692\n",
      "precision@30:0.2174\n",
      "precision@50:0.1701\n",
      "ndcg@10:0.1826\n",
      "ndcg@30:0.1518\n",
      "ndcg@50:0.1447\n",
      "ndcg@all:0.4261\n"
     ]
    },
    {
     "data": {
      "application/vnd.jupyter.widget-view+json": {
       "model_id": "81e12b6e24174b679ad47021517948b3",
       "version_major": 2,
       "version_minor": 0
      },
      "text/plain": [
       "Training:   0%|          | 0/313 [00:00<?, ?it/s]"
      ]
     },
     "metadata": {},
     "output_type": "display_data"
    },
    {
     "name": "stdout",
     "output_type": "stream",
     "text": [
      "[Epoch 361]\n",
      "precision@10:0.3685\n",
      "precision@30:0.2168\n",
      "precision@50:0.1700\n",
      "ndcg@10:0.1828\n",
      "ndcg@30:0.1518\n",
      "ndcg@50:0.1448\n",
      "ndcg@all:0.4259\n"
     ]
    },
    {
     "data": {
      "application/vnd.jupyter.widget-view+json": {
       "model_id": "f974ae628f14477f909c4bfa93bf5f7d",
       "version_major": 2,
       "version_minor": 0
      },
      "text/plain": [
       "Training:   0%|          | 0/313 [00:00<?, ?it/s]"
      ]
     },
     "metadata": {},
     "output_type": "display_data"
    },
    {
     "name": "stdout",
     "output_type": "stream",
     "text": [
      "[Epoch 362]\n",
      "precision@10:0.3676\n",
      "precision@30:0.2165\n",
      "precision@50:0.1695\n",
      "ndcg@10:0.1826\n",
      "ndcg@30:0.1519\n",
      "ndcg@50:0.1448\n",
      "ndcg@all:0.4261\n"
     ]
    },
    {
     "data": {
      "application/vnd.jupyter.widget-view+json": {
       "model_id": "5c716c1d7e64418082200fd4e474479f",
       "version_major": 2,
       "version_minor": 0
      },
      "text/plain": [
       "Training:   0%|          | 0/313 [00:00<?, ?it/s]"
      ]
     },
     "metadata": {},
     "output_type": "display_data"
    },
    {
     "name": "stdout",
     "output_type": "stream",
     "text": [
      "[Epoch 363]\n",
      "precision@10:0.3672\n",
      "precision@30:0.2160\n",
      "precision@50:0.1694\n",
      "ndcg@10:0.1825\n",
      "ndcg@30:0.1516\n",
      "ndcg@50:0.1447\n",
      "ndcg@all:0.4259\n"
     ]
    },
    {
     "data": {
      "application/vnd.jupyter.widget-view+json": {
       "model_id": "d1309ad551f0496182124fda29877f21",
       "version_major": 2,
       "version_minor": 0
      },
      "text/plain": [
       "Training:   0%|          | 0/313 [00:00<?, ?it/s]"
      ]
     },
     "metadata": {},
     "output_type": "display_data"
    },
    {
     "name": "stdout",
     "output_type": "stream",
     "text": [
      "[Epoch 364]\n",
      "precision@10:0.3682\n",
      "precision@30:0.2165\n",
      "precision@50:0.1701\n",
      "ndcg@10:0.1828\n",
      "ndcg@30:0.1519\n",
      "ndcg@50:0.1451\n",
      "ndcg@all:0.4263\n"
     ]
    },
    {
     "data": {
      "application/vnd.jupyter.widget-view+json": {
       "model_id": "641c5112713740d09f0fd108d536bd4d",
       "version_major": 2,
       "version_minor": 0
      },
      "text/plain": [
       "Training:   0%|          | 0/313 [00:00<?, ?it/s]"
      ]
     },
     "metadata": {},
     "output_type": "display_data"
    },
    {
     "name": "stdout",
     "output_type": "stream",
     "text": [
      "[Epoch 365]\n",
      "precision@10:0.3682\n",
      "precision@30:0.2166\n",
      "precision@50:0.1704\n",
      "ndcg@10:0.1830\n",
      "ndcg@30:0.1519\n",
      "ndcg@50:0.1451\n",
      "ndcg@all:0.4265\n"
     ]
    },
    {
     "data": {
      "application/vnd.jupyter.widget-view+json": {
       "model_id": "d8bd041891ab40b380cdf69cd71fef95",
       "version_major": 2,
       "version_minor": 0
      },
      "text/plain": [
       "Training:   0%|          | 0/313 [00:00<?, ?it/s]"
      ]
     },
     "metadata": {},
     "output_type": "display_data"
    },
    {
     "name": "stdout",
     "output_type": "stream",
     "text": [
      "[Epoch 366]\n",
      "precision@10:0.3672\n",
      "precision@30:0.2158\n",
      "precision@50:0.1695\n",
      "ndcg@10:0.1828\n",
      "ndcg@30:0.1516\n",
      "ndcg@50:0.1449\n",
      "ndcg@all:0.4261\n"
     ]
    },
    {
     "data": {
      "application/vnd.jupyter.widget-view+json": {
       "model_id": "0cae5f469bf84776b4ea0ab546a382f5",
       "version_major": 2,
       "version_minor": 0
      },
      "text/plain": [
       "Training:   0%|          | 0/313 [00:00<?, ?it/s]"
      ]
     },
     "metadata": {},
     "output_type": "display_data"
    },
    {
     "name": "stdout",
     "output_type": "stream",
     "text": [
      "[Epoch 367]\n",
      "precision@10:0.3699\n",
      "precision@30:0.2166\n",
      "precision@50:0.1704\n",
      "ndcg@10:0.1831\n",
      "ndcg@30:0.1519\n",
      "ndcg@50:0.1450\n",
      "ndcg@all:0.4265\n"
     ]
    },
    {
     "data": {
      "application/vnd.jupyter.widget-view+json": {
       "model_id": "f9111f71df6c4e2c914b2947b42baa23",
       "version_major": 2,
       "version_minor": 0
      },
      "text/plain": [
       "Training:   0%|          | 0/313 [00:00<?, ?it/s]"
      ]
     },
     "metadata": {},
     "output_type": "display_data"
    },
    {
     "name": "stdout",
     "output_type": "stream",
     "text": [
      "[Epoch 368]\n",
      "precision@10:0.3690\n",
      "precision@30:0.2163\n",
      "precision@50:0.1698\n",
      "ndcg@10:0.1832\n",
      "ndcg@30:0.1519\n",
      "ndcg@50:0.1452\n",
      "ndcg@all:0.4264\n"
     ]
    },
    {
     "data": {
      "application/vnd.jupyter.widget-view+json": {
       "model_id": "18c286fce98641339264c0c5f094fdd1",
       "version_major": 2,
       "version_minor": 0
      },
      "text/plain": [
       "Training:   0%|          | 0/313 [00:00<?, ?it/s]"
      ]
     },
     "metadata": {},
     "output_type": "display_data"
    },
    {
     "name": "stdout",
     "output_type": "stream",
     "text": [
      "[Epoch 369]\n",
      "precision@10:0.3666\n",
      "precision@30:0.2151\n",
      "precision@50:0.1690\n",
      "ndcg@10:0.1829\n",
      "ndcg@30:0.1516\n",
      "ndcg@50:0.1448\n",
      "ndcg@all:0.4261\n"
     ]
    },
    {
     "data": {
      "application/vnd.jupyter.widget-view+json": {
       "model_id": "b104eab3bdc3475e88c5178955b574fa",
       "version_major": 2,
       "version_minor": 0
      },
      "text/plain": [
       "Training:   0%|          | 0/313 [00:00<?, ?it/s]"
      ]
     },
     "metadata": {},
     "output_type": "display_data"
    },
    {
     "name": "stdout",
     "output_type": "stream",
     "text": [
      "[Epoch 370]\n",
      "precision@10:0.3680\n",
      "precision@30:0.2162\n",
      "precision@50:0.1700\n",
      "ndcg@10:0.1831\n",
      "ndcg@30:0.1521\n",
      "ndcg@50:0.1453\n",
      "ndcg@all:0.4265\n"
     ]
    },
    {
     "data": {
      "application/vnd.jupyter.widget-view+json": {
       "model_id": "cb0116fcdb86413db3c7b936d6d4337b",
       "version_major": 2,
       "version_minor": 0
      },
      "text/plain": [
       "Training:   0%|          | 0/313 [00:00<?, ?it/s]"
      ]
     },
     "metadata": {},
     "output_type": "display_data"
    },
    {
     "name": "stdout",
     "output_type": "stream",
     "text": [
      "[Epoch 371]\n",
      "precision@10:0.3669\n",
      "precision@30:0.2144\n",
      "precision@50:0.1689\n",
      "ndcg@10:0.1831\n",
      "ndcg@30:0.1517\n",
      "ndcg@50:0.1450\n",
      "ndcg@all:0.4262\n"
     ]
    },
    {
     "data": {
      "application/vnd.jupyter.widget-view+json": {
       "model_id": "9ce0609db4eb4077a1243160394db42e",
       "version_major": 2,
       "version_minor": 0
      },
      "text/plain": [
       "Training:   0%|          | 0/313 [00:00<?, ?it/s]"
      ]
     },
     "metadata": {},
     "output_type": "display_data"
    },
    {
     "name": "stdout",
     "output_type": "stream",
     "text": [
      "[Epoch 372]\n",
      "precision@10:0.3675\n",
      "precision@30:0.2166\n",
      "precision@50:0.1704\n",
      "ndcg@10:0.1832\n",
      "ndcg@30:0.1521\n",
      "ndcg@50:0.1454\n",
      "ndcg@all:0.4269\n"
     ]
    },
    {
     "data": {
      "application/vnd.jupyter.widget-view+json": {
       "model_id": "cfa6b86c811b4effb3f24bf2d0e036d7",
       "version_major": 2,
       "version_minor": 0
      },
      "text/plain": [
       "Training:   0%|          | 0/313 [00:00<?, ?it/s]"
      ]
     },
     "metadata": {},
     "output_type": "display_data"
    },
    {
     "name": "stdout",
     "output_type": "stream",
     "text": [
      "[Epoch 373]\n",
      "precision@10:0.3681\n",
      "precision@30:0.2156\n",
      "precision@50:0.1692\n",
      "ndcg@10:0.1833\n",
      "ndcg@30:0.1520\n",
      "ndcg@50:0.1450\n",
      "ndcg@all:0.4265\n"
     ]
    },
    {
     "data": {
      "application/vnd.jupyter.widget-view+json": {
       "model_id": "fc1583a93fbb41b98d783eb2325d7eb4",
       "version_major": 2,
       "version_minor": 0
      },
      "text/plain": [
       "Training:   0%|          | 0/313 [00:00<?, ?it/s]"
      ]
     },
     "metadata": {},
     "output_type": "display_data"
    },
    {
     "name": "stdout",
     "output_type": "stream",
     "text": [
      "[Epoch 374]\n",
      "precision@10:0.3668\n",
      "precision@30:0.2160\n",
      "precision@50:0.1699\n",
      "ndcg@10:0.1832\n",
      "ndcg@30:0.1521\n",
      "ndcg@50:0.1453\n",
      "ndcg@all:0.4266\n"
     ]
    },
    {
     "data": {
      "application/vnd.jupyter.widget-view+json": {
       "model_id": "149d3624b7fa4a1cae30a1bd5fed9a30",
       "version_major": 2,
       "version_minor": 0
      },
      "text/plain": [
       "Training:   0%|          | 0/313 [00:00<?, ?it/s]"
      ]
     },
     "metadata": {},
     "output_type": "display_data"
    },
    {
     "name": "stdout",
     "output_type": "stream",
     "text": [
      "[Epoch 375]\n",
      "precision@10:0.3685\n",
      "precision@30:0.2171\n",
      "precision@50:0.1702\n",
      "ndcg@10:0.1836\n",
      "ndcg@30:0.1526\n",
      "ndcg@50:0.1455\n",
      "ndcg@all:0.4268\n"
     ]
    },
    {
     "data": {
      "application/vnd.jupyter.widget-view+json": {
       "model_id": "2073f4a0171f4be181f21aa1b0f02a83",
       "version_major": 2,
       "version_minor": 0
      },
      "text/plain": [
       "Training:   0%|          | 0/313 [00:00<?, ?it/s]"
      ]
     },
     "metadata": {},
     "output_type": "display_data"
    },
    {
     "name": "stdout",
     "output_type": "stream",
     "text": [
      "[Epoch 376]\n",
      "precision@10:0.3673\n",
      "precision@30:0.2160\n",
      "precision@50:0.1695\n",
      "ndcg@10:0.1830\n",
      "ndcg@30:0.1520\n",
      "ndcg@50:0.1452\n",
      "ndcg@all:0.4266\n"
     ]
    },
    {
     "data": {
      "application/vnd.jupyter.widget-view+json": {
       "model_id": "d0d5c287300f4a099e56f74162a61415",
       "version_major": 2,
       "version_minor": 0
      },
      "text/plain": [
       "Training:   0%|          | 0/313 [00:00<?, ?it/s]"
      ]
     },
     "metadata": {},
     "output_type": "display_data"
    },
    {
     "name": "stdout",
     "output_type": "stream",
     "text": [
      "[Epoch 377]\n",
      "precision@10:0.3683\n",
      "precision@30:0.2168\n",
      "precision@50:0.1701\n",
      "ndcg@10:0.1835\n",
      "ndcg@30:0.1524\n",
      "ndcg@50:0.1455\n",
      "ndcg@all:0.4269\n"
     ]
    },
    {
     "data": {
      "application/vnd.jupyter.widget-view+json": {
       "model_id": "503f8735f2bf412e985c0b488ea4dce9",
       "version_major": 2,
       "version_minor": 0
      },
      "text/plain": [
       "Training:   0%|          | 0/313 [00:00<?, ?it/s]"
      ]
     },
     "metadata": {},
     "output_type": "display_data"
    },
    {
     "name": "stdout",
     "output_type": "stream",
     "text": [
      "[Epoch 378]\n",
      "precision@10:0.3680\n",
      "precision@30:0.2158\n",
      "precision@50:0.1695\n",
      "ndcg@10:0.1839\n",
      "ndcg@30:0.1525\n",
      "ndcg@50:0.1456\n",
      "ndcg@all:0.4269\n"
     ]
    },
    {
     "data": {
      "application/vnd.jupyter.widget-view+json": {
       "model_id": "094dc036bc934ccabec1e8c7c3dd02ab",
       "version_major": 2,
       "version_minor": 0
      },
      "text/plain": [
       "Training:   0%|          | 0/313 [00:00<?, ?it/s]"
      ]
     },
     "metadata": {},
     "output_type": "display_data"
    },
    {
     "name": "stdout",
     "output_type": "stream",
     "text": [
      "[Epoch 379]\n",
      "precision@10:0.3678\n",
      "precision@30:0.2164\n",
      "precision@50:0.1701\n",
      "ndcg@10:0.1837\n",
      "ndcg@30:0.1525\n",
      "ndcg@50:0.1456\n",
      "ndcg@all:0.4270\n"
     ]
    },
    {
     "data": {
      "application/vnd.jupyter.widget-view+json": {
       "model_id": "7585094ccd434d849d15be1bd34de170",
       "version_major": 2,
       "version_minor": 0
      },
      "text/plain": [
       "Training:   0%|          | 0/313 [00:00<?, ?it/s]"
      ]
     },
     "metadata": {},
     "output_type": "display_data"
    },
    {
     "name": "stdout",
     "output_type": "stream",
     "text": [
      "[Epoch 380]\n",
      "precision@10:0.3678\n",
      "precision@30:0.2162\n",
      "precision@50:0.1699\n",
      "ndcg@10:0.1838\n",
      "ndcg@30:0.1526\n",
      "ndcg@50:0.1457\n",
      "ndcg@all:0.4269\n"
     ]
    },
    {
     "data": {
      "application/vnd.jupyter.widget-view+json": {
       "model_id": "18eef0a3b8c24a02b825677e76238c46",
       "version_major": 2,
       "version_minor": 0
      },
      "text/plain": [
       "Training:   0%|          | 0/313 [00:00<?, ?it/s]"
      ]
     },
     "metadata": {},
     "output_type": "display_data"
    },
    {
     "name": "stdout",
     "output_type": "stream",
     "text": [
      "[Epoch 381]\n",
      "precision@10:0.3654\n",
      "precision@30:0.2145\n",
      "precision@50:0.1688\n",
      "ndcg@10:0.1830\n",
      "ndcg@30:0.1520\n",
      "ndcg@50:0.1452\n",
      "ndcg@all:0.4265\n"
     ]
    },
    {
     "data": {
      "application/vnd.jupyter.widget-view+json": {
       "model_id": "02736dda1a5a4debb932996e2337c549",
       "version_major": 2,
       "version_minor": 0
      },
      "text/plain": [
       "Training:   0%|          | 0/313 [00:00<?, ?it/s]"
      ]
     },
     "metadata": {},
     "output_type": "display_data"
    },
    {
     "name": "stdout",
     "output_type": "stream",
     "text": [
      "[Epoch 382]\n",
      "precision@10:0.3649\n",
      "precision@30:0.2144\n",
      "precision@50:0.1680\n",
      "ndcg@10:0.1835\n",
      "ndcg@30:0.1523\n",
      "ndcg@50:0.1451\n",
      "ndcg@all:0.4264\n"
     ]
    },
    {
     "data": {
      "application/vnd.jupyter.widget-view+json": {
       "model_id": "fe2b9a176fee45f6a4ef9f6aefe26b51",
       "version_major": 2,
       "version_minor": 0
      },
      "text/plain": [
       "Training:   0%|          | 0/313 [00:00<?, ?it/s]"
      ]
     },
     "metadata": {},
     "output_type": "display_data"
    },
    {
     "name": "stdout",
     "output_type": "stream",
     "text": [
      "[Epoch 383]\n",
      "precision@10:0.3671\n",
      "precision@30:0.2151\n",
      "precision@50:0.1695\n",
      "ndcg@10:0.1839\n",
      "ndcg@30:0.1524\n",
      "ndcg@50:0.1457\n",
      "ndcg@all:0.4272\n"
     ]
    },
    {
     "data": {
      "application/vnd.jupyter.widget-view+json": {
       "model_id": "5ed311fa783043b19274ee3f8f8e8ace",
       "version_major": 2,
       "version_minor": 0
      },
      "text/plain": [
       "Training:   0%|          | 0/313 [00:00<?, ?it/s]"
      ]
     },
     "metadata": {},
     "output_type": "display_data"
    },
    {
     "name": "stdout",
     "output_type": "stream",
     "text": [
      "[Epoch 384]\n",
      "precision@10:0.3672\n",
      "precision@30:0.2160\n",
      "precision@50:0.1699\n",
      "ndcg@10:0.1837\n",
      "ndcg@30:0.1524\n",
      "ndcg@50:0.1458\n",
      "ndcg@all:0.4272\n"
     ]
    },
    {
     "data": {
      "application/vnd.jupyter.widget-view+json": {
       "model_id": "1016f0853d9f46a5bbc7b8c3967d4090",
       "version_major": 2,
       "version_minor": 0
      },
      "text/plain": [
       "Training:   0%|          | 0/313 [00:00<?, ?it/s]"
      ]
     },
     "metadata": {},
     "output_type": "display_data"
    },
    {
     "name": "stdout",
     "output_type": "stream",
     "text": [
      "[Epoch 385]\n",
      "precision@10:0.3671\n",
      "precision@30:0.2159\n",
      "precision@50:0.1695\n",
      "ndcg@10:0.1836\n",
      "ndcg@30:0.1527\n",
      "ndcg@50:0.1458\n",
      "ndcg@all:0.4271\n"
     ]
    },
    {
     "data": {
      "application/vnd.jupyter.widget-view+json": {
       "model_id": "8b58370b1c6a48b9bcc44fbdee9460aa",
       "version_major": 2,
       "version_minor": 0
      },
      "text/plain": [
       "Training:   0%|          | 0/313 [00:00<?, ?it/s]"
      ]
     },
     "metadata": {},
     "output_type": "display_data"
    },
    {
     "name": "stdout",
     "output_type": "stream",
     "text": [
      "[Epoch 386]\n",
      "precision@10:0.3659\n",
      "precision@30:0.2156\n",
      "precision@50:0.1699\n",
      "ndcg@10:0.1834\n",
      "ndcg@30:0.1524\n",
      "ndcg@50:0.1456\n",
      "ndcg@all:0.4272\n"
     ]
    },
    {
     "data": {
      "application/vnd.jupyter.widget-view+json": {
       "model_id": "d837a796fc29487684adcfda2d64b4ce",
       "version_major": 2,
       "version_minor": 0
      },
      "text/plain": [
       "Training:   0%|          | 0/313 [00:00<?, ?it/s]"
      ]
     },
     "metadata": {},
     "output_type": "display_data"
    },
    {
     "name": "stdout",
     "output_type": "stream",
     "text": [
      "[Epoch 387]\n",
      "precision@10:0.3667\n",
      "precision@30:0.2162\n",
      "precision@50:0.1702\n",
      "ndcg@10:0.1838\n",
      "ndcg@30:0.1528\n",
      "ndcg@50:0.1460\n",
      "ndcg@all:0.4276\n"
     ]
    },
    {
     "data": {
      "application/vnd.jupyter.widget-view+json": {
       "model_id": "880668465df04bddb2ec651544977563",
       "version_major": 2,
       "version_minor": 0
      },
      "text/plain": [
       "Training:   0%|          | 0/313 [00:00<?, ?it/s]"
      ]
     },
     "metadata": {},
     "output_type": "display_data"
    },
    {
     "name": "stdout",
     "output_type": "stream",
     "text": [
      "[Epoch 388]\n",
      "precision@10:0.3661\n",
      "precision@30:0.2157\n",
      "precision@50:0.1700\n",
      "ndcg@10:0.1836\n",
      "ndcg@30:0.1527\n",
      "ndcg@50:0.1458\n",
      "ndcg@all:0.4273\n"
     ]
    },
    {
     "data": {
      "application/vnd.jupyter.widget-view+json": {
       "model_id": "099e6355c6584862a95701a209a7d6b8",
       "version_major": 2,
       "version_minor": 0
      },
      "text/plain": [
       "Training:   0%|          | 0/313 [00:00<?, ?it/s]"
      ]
     },
     "metadata": {},
     "output_type": "display_data"
    },
    {
     "name": "stdout",
     "output_type": "stream",
     "text": [
      "[Epoch 389]\n",
      "precision@10:0.3668\n",
      "precision@30:0.2161\n",
      "precision@50:0.1701\n",
      "ndcg@10:0.1838\n",
      "ndcg@30:0.1528\n",
      "ndcg@50:0.1461\n",
      "ndcg@all:0.4274\n"
     ]
    },
    {
     "data": {
      "application/vnd.jupyter.widget-view+json": {
       "model_id": "6cc4292d9a9f4afdbea638f8a839c05d",
       "version_major": 2,
       "version_minor": 0
      },
      "text/plain": [
       "Training:   0%|          | 0/313 [00:00<?, ?it/s]"
      ]
     },
     "metadata": {},
     "output_type": "display_data"
    },
    {
     "name": "stdout",
     "output_type": "stream",
     "text": [
      "[Epoch 390]\n",
      "precision@10:0.3653\n",
      "precision@30:0.2158\n",
      "precision@50:0.1696\n",
      "ndcg@10:0.1839\n",
      "ndcg@30:0.1530\n",
      "ndcg@50:0.1460\n",
      "ndcg@all:0.4274\n"
     ]
    },
    {
     "data": {
      "application/vnd.jupyter.widget-view+json": {
       "model_id": "5d028f6846e2424fa4d806c46b79cfc8",
       "version_major": 2,
       "version_minor": 0
      },
      "text/plain": [
       "Training:   0%|          | 0/313 [00:00<?, ?it/s]"
      ]
     },
     "metadata": {},
     "output_type": "display_data"
    },
    {
     "name": "stdout",
     "output_type": "stream",
     "text": [
      "[Epoch 391]\n",
      "precision@10:0.3645\n",
      "precision@30:0.2146\n",
      "precision@50:0.1692\n",
      "ndcg@10:0.1838\n",
      "ndcg@30:0.1526\n",
      "ndcg@50:0.1458\n",
      "ndcg@all:0.4272\n"
     ]
    },
    {
     "data": {
      "application/vnd.jupyter.widget-view+json": {
       "model_id": "87db6a8302d340159d69e2887aa49aca",
       "version_major": 2,
       "version_minor": 0
      },
      "text/plain": [
       "Training:   0%|          | 0/313 [00:00<?, ?it/s]"
      ]
     },
     "metadata": {},
     "output_type": "display_data"
    },
    {
     "name": "stdout",
     "output_type": "stream",
     "text": [
      "[Epoch 392]\n",
      "precision@10:0.3651\n",
      "precision@30:0.2151\n",
      "precision@50:0.1689\n",
      "ndcg@10:0.1839\n",
      "ndcg@30:0.1529\n",
      "ndcg@50:0.1458\n",
      "ndcg@all:0.4272\n"
     ]
    },
    {
     "data": {
      "application/vnd.jupyter.widget-view+json": {
       "model_id": "c619cdbfb22c4441a0ad04b82d4799fb",
       "version_major": 2,
       "version_minor": 0
      },
      "text/plain": [
       "Training:   0%|          | 0/313 [00:00<?, ?it/s]"
      ]
     },
     "metadata": {},
     "output_type": "display_data"
    },
    {
     "name": "stdout",
     "output_type": "stream",
     "text": [
      "[Epoch 393]\n",
      "precision@10:0.3656\n",
      "precision@30:0.2144\n",
      "precision@50:0.1691\n",
      "ndcg@10:0.1840\n",
      "ndcg@30:0.1526\n",
      "ndcg@50:0.1459\n",
      "ndcg@all:0.4273\n"
     ]
    },
    {
     "data": {
      "application/vnd.jupyter.widget-view+json": {
       "model_id": "bc0f57ce875d4fff889b1d7b080e8263",
       "version_major": 2,
       "version_minor": 0
      },
      "text/plain": [
       "Training:   0%|          | 0/313 [00:00<?, ?it/s]"
      ]
     },
     "metadata": {},
     "output_type": "display_data"
    },
    {
     "name": "stdout",
     "output_type": "stream",
     "text": [
      "[Epoch 394]\n",
      "precision@10:0.3641\n",
      "precision@30:0.2138\n",
      "precision@50:0.1680\n",
      "ndcg@10:0.1835\n",
      "ndcg@30:0.1524\n",
      "ndcg@50:0.1454\n",
      "ndcg@all:0.4270\n"
     ]
    },
    {
     "data": {
      "application/vnd.jupyter.widget-view+json": {
       "model_id": "531bbd55880d4a96bc899492b7443b8d",
       "version_major": 2,
       "version_minor": 0
      },
      "text/plain": [
       "Training:   0%|          | 0/313 [00:00<?, ?it/s]"
      ]
     },
     "metadata": {},
     "output_type": "display_data"
    },
    {
     "name": "stdout",
     "output_type": "stream",
     "text": [
      "[Epoch 395]\n",
      "precision@10:0.3640\n",
      "precision@30:0.2142\n",
      "precision@50:0.1686\n",
      "ndcg@10:0.1838\n",
      "ndcg@30:0.1527\n",
      "ndcg@50:0.1459\n",
      "ndcg@all:0.4272\n"
     ]
    },
    {
     "data": {
      "application/vnd.jupyter.widget-view+json": {
       "model_id": "8e2c097e9dc24f48a24e0f2b9942e4df",
       "version_major": 2,
       "version_minor": 0
      },
      "text/plain": [
       "Training:   0%|          | 0/313 [00:00<?, ?it/s]"
      ]
     },
     "metadata": {},
     "output_type": "display_data"
    },
    {
     "name": "stdout",
     "output_type": "stream",
     "text": [
      "[Epoch 396]\n",
      "precision@10:0.3658\n",
      "precision@30:0.2150\n",
      "precision@50:0.1693\n",
      "ndcg@10:0.1841\n",
      "ndcg@30:0.1530\n",
      "ndcg@50:0.1462\n",
      "ndcg@all:0.4275\n"
     ]
    },
    {
     "data": {
      "application/vnd.jupyter.widget-view+json": {
       "model_id": "924d5e0e77464b7494a27876292e03a0",
       "version_major": 2,
       "version_minor": 0
      },
      "text/plain": [
       "Training:   0%|          | 0/313 [00:00<?, ?it/s]"
      ]
     },
     "metadata": {},
     "output_type": "display_data"
    },
    {
     "name": "stdout",
     "output_type": "stream",
     "text": [
      "[Epoch 397]\n",
      "precision@10:0.3660\n",
      "precision@30:0.2153\n",
      "precision@50:0.1694\n",
      "ndcg@10:0.1842\n",
      "ndcg@30:0.1532\n",
      "ndcg@50:0.1462\n",
      "ndcg@all:0.4276\n"
     ]
    },
    {
     "data": {
      "application/vnd.jupyter.widget-view+json": {
       "model_id": "1c7d4d82e3754d549020332ccdb37b3d",
       "version_major": 2,
       "version_minor": 0
      },
      "text/plain": [
       "Training:   0%|          | 0/313 [00:00<?, ?it/s]"
      ]
     },
     "metadata": {},
     "output_type": "display_data"
    },
    {
     "name": "stdout",
     "output_type": "stream",
     "text": [
      "[Epoch 398]\n",
      "precision@10:0.3667\n",
      "precision@30:0.2152\n",
      "precision@50:0.1693\n",
      "ndcg@10:0.1845\n",
      "ndcg@30:0.1532\n",
      "ndcg@50:0.1463\n",
      "ndcg@all:0.4277\n"
     ]
    },
    {
     "data": {
      "application/vnd.jupyter.widget-view+json": {
       "model_id": "f9e4380e9a0b46778640ee34c71884cd",
       "version_major": 2,
       "version_minor": 0
      },
      "text/plain": [
       "Training:   0%|          | 0/313 [00:00<?, ?it/s]"
      ]
     },
     "metadata": {},
     "output_type": "display_data"
    },
    {
     "name": "stdout",
     "output_type": "stream",
     "text": [
      "[Epoch 399]\n",
      "precision@10:0.3651\n",
      "precision@30:0.2147\n",
      "precision@50:0.1693\n",
      "ndcg@10:0.1842\n",
      "ndcg@30:0.1531\n",
      "ndcg@50:0.1463\n",
      "ndcg@all:0.4278\n"
     ]
    },
    {
     "data": {
      "application/vnd.jupyter.widget-view+json": {
       "model_id": "7b64ea8e42d84d66968d13f870e66af2",
       "version_major": 2,
       "version_minor": 0
      },
      "text/plain": [
       "Training:   0%|          | 0/313 [00:00<?, ?it/s]"
      ]
     },
     "metadata": {},
     "output_type": "display_data"
    },
    {
     "name": "stdout",
     "output_type": "stream",
     "text": [
      "[Epoch 400]\n",
      "precision@10:0.3649\n",
      "precision@30:0.2135\n",
      "precision@50:0.1681\n",
      "ndcg@10:0.1843\n",
      "ndcg@30:0.1527\n",
      "ndcg@50:0.1459\n",
      "ndcg@all:0.4272\n"
     ]
    },
    {
     "data": {
      "application/vnd.jupyter.widget-view+json": {
       "model_id": "78975e8b89024016aa0e7ed1592674d7",
       "version_major": 2,
       "version_minor": 0
      },
      "text/plain": [
       "Training:   0%|          | 0/313 [00:00<?, ?it/s]"
      ]
     },
     "metadata": {},
     "output_type": "display_data"
    },
    {
     "name": "stdout",
     "output_type": "stream",
     "text": [
      "[Epoch 401]\n",
      "precision@10:0.3672\n",
      "precision@30:0.2154\n",
      "precision@50:0.1698\n",
      "ndcg@10:0.1846\n",
      "ndcg@30:0.1534\n",
      "ndcg@50:0.1467\n",
      "ndcg@all:0.4280\n"
     ]
    },
    {
     "data": {
      "application/vnd.jupyter.widget-view+json": {
       "model_id": "c9542cbfa3054c4280d5381e91b3ae49",
       "version_major": 2,
       "version_minor": 0
      },
      "text/plain": [
       "Training:   0%|          | 0/313 [00:00<?, ?it/s]"
      ]
     },
     "metadata": {},
     "output_type": "display_data"
    },
    {
     "name": "stdout",
     "output_type": "stream",
     "text": [
      "[Epoch 402]\n",
      "precision@10:0.3640\n",
      "precision@30:0.2150\n",
      "precision@50:0.1694\n",
      "ndcg@10:0.1840\n",
      "ndcg@30:0.1533\n",
      "ndcg@50:0.1465\n",
      "ndcg@all:0.4279\n"
     ]
    },
    {
     "data": {
      "application/vnd.jupyter.widget-view+json": {
       "model_id": "7085ec08a7b0495dbd6d96844c373e04",
       "version_major": 2,
       "version_minor": 0
      },
      "text/plain": [
       "Training:   0%|          | 0/313 [00:00<?, ?it/s]"
      ]
     },
     "metadata": {},
     "output_type": "display_data"
    },
    {
     "name": "stdout",
     "output_type": "stream",
     "text": [
      "[Epoch 403]\n",
      "precision@10:0.3642\n",
      "precision@30:0.2145\n",
      "precision@50:0.1691\n",
      "ndcg@10:0.1840\n",
      "ndcg@30:0.1531\n",
      "ndcg@50:0.1464\n",
      "ndcg@all:0.4279\n"
     ]
    },
    {
     "data": {
      "application/vnd.jupyter.widget-view+json": {
       "model_id": "5d1259f4a5df4c6f9eb8fea88c39dec1",
       "version_major": 2,
       "version_minor": 0
      },
      "text/plain": [
       "Training:   0%|          | 0/313 [00:00<?, ?it/s]"
      ]
     },
     "metadata": {},
     "output_type": "display_data"
    },
    {
     "name": "stdout",
     "output_type": "stream",
     "text": [
      "[Epoch 404]\n",
      "precision@10:0.3653\n",
      "precision@30:0.2158\n",
      "precision@50:0.1697\n",
      "ndcg@10:0.1844\n",
      "ndcg@30:0.1536\n",
      "ndcg@50:0.1467\n",
      "ndcg@all:0.4281\n"
     ]
    },
    {
     "data": {
      "application/vnd.jupyter.widget-view+json": {
       "model_id": "b8bda6f3a9a64de6831cb3dc0a7d4581",
       "version_major": 2,
       "version_minor": 0
      },
      "text/plain": [
       "Training:   0%|          | 0/313 [00:00<?, ?it/s]"
      ]
     },
     "metadata": {},
     "output_type": "display_data"
    },
    {
     "name": "stdout",
     "output_type": "stream",
     "text": [
      "[Epoch 405]\n",
      "precision@10:0.3656\n",
      "precision@30:0.2161\n",
      "precision@50:0.1700\n",
      "ndcg@10:0.1845\n",
      "ndcg@30:0.1537\n",
      "ndcg@50:0.1468\n",
      "ndcg@all:0.4282\n"
     ]
    },
    {
     "data": {
      "application/vnd.jupyter.widget-view+json": {
       "model_id": "1b572b93c67f4538b0d8a350371f0cf5",
       "version_major": 2,
       "version_minor": 0
      },
      "text/plain": [
       "Training:   0%|          | 0/313 [00:00<?, ?it/s]"
      ]
     },
     "metadata": {},
     "output_type": "display_data"
    },
    {
     "name": "stdout",
     "output_type": "stream",
     "text": [
      "[Epoch 406]\n",
      "precision@10:0.3657\n",
      "precision@30:0.2157\n",
      "precision@50:0.1697\n",
      "ndcg@10:0.1846\n",
      "ndcg@30:0.1536\n",
      "ndcg@50:0.1467\n",
      "ndcg@all:0.4281\n"
     ]
    },
    {
     "data": {
      "application/vnd.jupyter.widget-view+json": {
       "model_id": "17481f1fb1b2456c87ad3c4143a91574",
       "version_major": 2,
       "version_minor": 0
      },
      "text/plain": [
       "Training:   0%|          | 0/313 [00:00<?, ?it/s]"
      ]
     },
     "metadata": {},
     "output_type": "display_data"
    },
    {
     "name": "stdout",
     "output_type": "stream",
     "text": [
      "[Epoch 407]\n",
      "precision@10:0.3646\n",
      "precision@30:0.2147\n",
      "precision@50:0.1689\n",
      "ndcg@10:0.1845\n",
      "ndcg@30:0.1535\n",
      "ndcg@50:0.1466\n",
      "ndcg@all:0.4280\n"
     ]
    },
    {
     "data": {
      "application/vnd.jupyter.widget-view+json": {
       "model_id": "065ab149652a40c4a2d6f835f69084b4",
       "version_major": 2,
       "version_minor": 0
      },
      "text/plain": [
       "Training:   0%|          | 0/313 [00:00<?, ?it/s]"
      ]
     },
     "metadata": {},
     "output_type": "display_data"
    },
    {
     "name": "stdout",
     "output_type": "stream",
     "text": [
      "[Epoch 408]\n",
      "precision@10:0.3651\n",
      "precision@30:0.2147\n",
      "precision@50:0.1690\n",
      "ndcg@10:0.1846\n",
      "ndcg@30:0.1536\n",
      "ndcg@50:0.1466\n",
      "ndcg@all:0.4281\n"
     ]
    },
    {
     "data": {
      "application/vnd.jupyter.widget-view+json": {
       "model_id": "3005fb86c2c448e19e55fd27b0118108",
       "version_major": 2,
       "version_minor": 0
      },
      "text/plain": [
       "Training:   0%|          | 0/313 [00:00<?, ?it/s]"
      ]
     },
     "metadata": {},
     "output_type": "display_data"
    },
    {
     "name": "stdout",
     "output_type": "stream",
     "text": [
      "[Epoch 409]\n",
      "precision@10:0.3646\n",
      "precision@30:0.2147\n",
      "precision@50:0.1695\n",
      "ndcg@10:0.1845\n",
      "ndcg@30:0.1535\n",
      "ndcg@50:0.1469\n",
      "ndcg@all:0.4281\n"
     ]
    },
    {
     "data": {
      "application/vnd.jupyter.widget-view+json": {
       "model_id": "8312d20e1a454f669488ae7f9853c8e9",
       "version_major": 2,
       "version_minor": 0
      },
      "text/plain": [
       "Training:   0%|          | 0/313 [00:00<?, ?it/s]"
      ]
     },
     "metadata": {},
     "output_type": "display_data"
    },
    {
     "name": "stdout",
     "output_type": "stream",
     "text": [
      "[Epoch 410]\n",
      "precision@10:0.3650\n",
      "precision@30:0.2148\n",
      "precision@50:0.1693\n",
      "ndcg@10:0.1844\n",
      "ndcg@30:0.1534\n",
      "ndcg@50:0.1466\n",
      "ndcg@all:0.4282\n"
     ]
    },
    {
     "data": {
      "application/vnd.jupyter.widget-view+json": {
       "model_id": "aac7727fcd4f4a5db0ea11405026b986",
       "version_major": 2,
       "version_minor": 0
      },
      "text/plain": [
       "Training:   0%|          | 0/313 [00:00<?, ?it/s]"
      ]
     },
     "metadata": {},
     "output_type": "display_data"
    },
    {
     "name": "stdout",
     "output_type": "stream",
     "text": [
      "[Epoch 411]\n",
      "precision@10:0.3649\n",
      "precision@30:0.2146\n",
      "precision@50:0.1690\n",
      "ndcg@10:0.1846\n",
      "ndcg@30:0.1537\n",
      "ndcg@50:0.1467\n",
      "ndcg@all:0.4281\n"
     ]
    },
    {
     "data": {
      "application/vnd.jupyter.widget-view+json": {
       "model_id": "3960909d0e3a490abd3ed55f174d2b4a",
       "version_major": 2,
       "version_minor": 0
      },
      "text/plain": [
       "Training:   0%|          | 0/313 [00:00<?, ?it/s]"
      ]
     },
     "metadata": {},
     "output_type": "display_data"
    },
    {
     "name": "stdout",
     "output_type": "stream",
     "text": [
      "[Epoch 412]\n",
      "precision@10:0.3651\n",
      "precision@30:0.2146\n",
      "precision@50:0.1695\n",
      "ndcg@10:0.1849\n",
      "ndcg@30:0.1536\n",
      "ndcg@50:0.1469\n",
      "ndcg@all:0.4284\n"
     ]
    },
    {
     "data": {
      "application/vnd.jupyter.widget-view+json": {
       "model_id": "9f9b501736aa410b99d3d933aabecf36",
       "version_major": 2,
       "version_minor": 0
      },
      "text/plain": [
       "Training:   0%|          | 0/313 [00:00<?, ?it/s]"
      ]
     },
     "metadata": {},
     "output_type": "display_data"
    },
    {
     "name": "stdout",
     "output_type": "stream",
     "text": [
      "[Epoch 413]\n",
      "precision@10:0.3648\n",
      "precision@30:0.2148\n",
      "precision@50:0.1693\n",
      "ndcg@10:0.1851\n",
      "ndcg@30:0.1540\n",
      "ndcg@50:0.1471\n",
      "ndcg@all:0.4285\n"
     ]
    },
    {
     "data": {
      "application/vnd.jupyter.widget-view+json": {
       "model_id": "3a60343328764acbb15ecb7c769fa1f7",
       "version_major": 2,
       "version_minor": 0
      },
      "text/plain": [
       "Training:   0%|          | 0/313 [00:00<?, ?it/s]"
      ]
     },
     "metadata": {},
     "output_type": "display_data"
    },
    {
     "name": "stdout",
     "output_type": "stream",
     "text": [
      "[Epoch 414]\n",
      "precision@10:0.3646\n",
      "precision@30:0.2148\n",
      "precision@50:0.1689\n",
      "ndcg@10:0.1848\n",
      "ndcg@30:0.1539\n",
      "ndcg@50:0.1468\n",
      "ndcg@all:0.4283\n"
     ]
    },
    {
     "data": {
      "application/vnd.jupyter.widget-view+json": {
       "model_id": "936778dea3dc4f4e9c0c464efb03bdd8",
       "version_major": 2,
       "version_minor": 0
      },
      "text/plain": [
       "Training:   0%|          | 0/313 [00:00<?, ?it/s]"
      ]
     },
     "metadata": {},
     "output_type": "display_data"
    },
    {
     "name": "stdout",
     "output_type": "stream",
     "text": [
      "[Epoch 415]\n",
      "precision@10:0.3633\n",
      "precision@30:0.2135\n",
      "precision@50:0.1681\n",
      "ndcg@10:0.1849\n",
      "ndcg@30:0.1537\n",
      "ndcg@50:0.1467\n",
      "ndcg@all:0.4280\n"
     ]
    },
    {
     "data": {
      "application/vnd.jupyter.widget-view+json": {
       "model_id": "15ffc52bfd8f48d98bbed6db9c0a11fe",
       "version_major": 2,
       "version_minor": 0
      },
      "text/plain": [
       "Training:   0%|          | 0/313 [00:00<?, ?it/s]"
      ]
     },
     "metadata": {},
     "output_type": "display_data"
    },
    {
     "name": "stdout",
     "output_type": "stream",
     "text": [
      "[Epoch 416]\n",
      "precision@10:0.3645\n",
      "precision@30:0.2155\n",
      "precision@50:0.1696\n",
      "ndcg@10:0.1849\n",
      "ndcg@30:0.1542\n",
      "ndcg@50:0.1472\n",
      "ndcg@all:0.4287\n"
     ]
    },
    {
     "data": {
      "application/vnd.jupyter.widget-view+json": {
       "model_id": "7fe3e2223ee540af9786546c675fc7f5",
       "version_major": 2,
       "version_minor": 0
      },
      "text/plain": [
       "Training:   0%|          | 0/313 [00:00<?, ?it/s]"
      ]
     },
     "metadata": {},
     "output_type": "display_data"
    },
    {
     "name": "stdout",
     "output_type": "stream",
     "text": [
      "[Epoch 417]\n",
      "precision@10:0.3648\n",
      "precision@30:0.2151\n",
      "precision@50:0.1697\n",
      "ndcg@10:0.1850\n",
      "ndcg@30:0.1539\n",
      "ndcg@50:0.1471\n",
      "ndcg@all:0.4284\n"
     ]
    },
    {
     "data": {
      "application/vnd.jupyter.widget-view+json": {
       "model_id": "c8e74c126e2e489b8191ebdb129a8884",
       "version_major": 2,
       "version_minor": 0
      },
      "text/plain": [
       "Training:   0%|          | 0/313 [00:00<?, ?it/s]"
      ]
     },
     "metadata": {},
     "output_type": "display_data"
    },
    {
     "name": "stdout",
     "output_type": "stream",
     "text": [
      "[Epoch 418]\n",
      "precision@10:0.3637\n",
      "precision@30:0.2137\n",
      "precision@50:0.1686\n",
      "ndcg@10:0.1849\n",
      "ndcg@30:0.1538\n",
      "ndcg@50:0.1469\n",
      "ndcg@all:0.4283\n"
     ]
    },
    {
     "data": {
      "application/vnd.jupyter.widget-view+json": {
       "model_id": "d74d102d83fe42649659cbaf6ca20650",
       "version_major": 2,
       "version_minor": 0
      },
      "text/plain": [
       "Training:   0%|          | 0/313 [00:00<?, ?it/s]"
      ]
     },
     "metadata": {},
     "output_type": "display_data"
    },
    {
     "name": "stdout",
     "output_type": "stream",
     "text": [
      "[Epoch 419]\n",
      "precision@10:0.3657\n",
      "precision@30:0.2153\n",
      "precision@50:0.1697\n",
      "ndcg@10:0.1854\n",
      "ndcg@30:0.1543\n",
      "ndcg@50:0.1474\n",
      "ndcg@all:0.4287\n"
     ]
    },
    {
     "data": {
      "application/vnd.jupyter.widget-view+json": {
       "model_id": "92a752e9da3741e795a9667bc298cf1d",
       "version_major": 2,
       "version_minor": 0
      },
      "text/plain": [
       "Training:   0%|          | 0/313 [00:00<?, ?it/s]"
      ]
     },
     "metadata": {},
     "output_type": "display_data"
    },
    {
     "name": "stdout",
     "output_type": "stream",
     "text": [
      "[Epoch 420]\n",
      "precision@10:0.3647\n",
      "precision@30:0.2139\n",
      "precision@50:0.1685\n",
      "ndcg@10:0.1853\n",
      "ndcg@30:0.1540\n",
      "ndcg@50:0.1471\n",
      "ndcg@all:0.4284\n"
     ]
    },
    {
     "data": {
      "application/vnd.jupyter.widget-view+json": {
       "model_id": "500b4b03e10e4fa1849df0a8515b81af",
       "version_major": 2,
       "version_minor": 0
      },
      "text/plain": [
       "Training:   0%|          | 0/313 [00:00<?, ?it/s]"
      ]
     },
     "metadata": {},
     "output_type": "display_data"
    },
    {
     "name": "stdout",
     "output_type": "stream",
     "text": [
      "[Epoch 421]\n",
      "precision@10:0.3631\n",
      "precision@30:0.2129\n",
      "precision@50:0.1678\n",
      "ndcg@10:0.1850\n",
      "ndcg@30:0.1537\n",
      "ndcg@50:0.1469\n",
      "ndcg@all:0.4282\n"
     ]
    },
    {
     "data": {
      "application/vnd.jupyter.widget-view+json": {
       "model_id": "7ab1550176294440ae4a957c6171258f",
       "version_major": 2,
       "version_minor": 0
      },
      "text/plain": [
       "Training:   0%|          | 0/313 [00:00<?, ?it/s]"
      ]
     },
     "metadata": {},
     "output_type": "display_data"
    },
    {
     "name": "stdout",
     "output_type": "stream",
     "text": [
      "[Epoch 422]\n",
      "precision@10:0.3642\n",
      "precision@30:0.2141\n",
      "precision@50:0.1685\n",
      "ndcg@10:0.1854\n",
      "ndcg@30:0.1542\n",
      "ndcg@50:0.1472\n",
      "ndcg@all:0.4285\n"
     ]
    },
    {
     "data": {
      "application/vnd.jupyter.widget-view+json": {
       "model_id": "ed7dd8d04afd452da4fd89829fe566ce",
       "version_major": 2,
       "version_minor": 0
      },
      "text/plain": [
       "Training:   0%|          | 0/313 [00:00<?, ?it/s]"
      ]
     },
     "metadata": {},
     "output_type": "display_data"
    },
    {
     "name": "stdout",
     "output_type": "stream",
     "text": [
      "[Epoch 423]\n",
      "precision@10:0.3637\n",
      "precision@30:0.2143\n",
      "precision@50:0.1689\n",
      "ndcg@10:0.1854\n",
      "ndcg@30:0.1541\n",
      "ndcg@50:0.1472\n",
      "ndcg@all:0.4287\n"
     ]
    },
    {
     "data": {
      "application/vnd.jupyter.widget-view+json": {
       "model_id": "cd27b2e4748641a99b9a9560f1c91b8b",
       "version_major": 2,
       "version_minor": 0
      },
      "text/plain": [
       "Training:   0%|          | 0/313 [00:00<?, ?it/s]"
      ]
     },
     "metadata": {},
     "output_type": "display_data"
    },
    {
     "name": "stdout",
     "output_type": "stream",
     "text": [
      "[Epoch 424]\n",
      "precision@10:0.3643\n",
      "precision@30:0.2139\n",
      "precision@50:0.1688\n",
      "ndcg@10:0.1855\n",
      "ndcg@30:0.1543\n",
      "ndcg@50:0.1475\n",
      "ndcg@all:0.4288\n"
     ]
    },
    {
     "data": {
      "application/vnd.jupyter.widget-view+json": {
       "model_id": "d328a84f9af34279b8ffe8e87a7cf0bd",
       "version_major": 2,
       "version_minor": 0
      },
      "text/plain": [
       "Training:   0%|          | 0/313 [00:00<?, ?it/s]"
      ]
     },
     "metadata": {},
     "output_type": "display_data"
    },
    {
     "name": "stdout",
     "output_type": "stream",
     "text": [
      "[Epoch 425]\n",
      "precision@10:0.3638\n",
      "precision@30:0.2146\n",
      "precision@50:0.1689\n",
      "ndcg@10:0.1853\n",
      "ndcg@30:0.1543\n",
      "ndcg@50:0.1474\n",
      "ndcg@all:0.4289\n"
     ]
    },
    {
     "data": {
      "application/vnd.jupyter.widget-view+json": {
       "model_id": "6173d633b6284f2190b7be7c599f6305",
       "version_major": 2,
       "version_minor": 0
      },
      "text/plain": [
       "Training:   0%|          | 0/313 [00:00<?, ?it/s]"
      ]
     },
     "metadata": {},
     "output_type": "display_data"
    },
    {
     "name": "stdout",
     "output_type": "stream",
     "text": [
      "[Epoch 426]\n",
      "precision@10:0.3635\n",
      "precision@30:0.2130\n",
      "precision@50:0.1684\n",
      "ndcg@10:0.1853\n",
      "ndcg@30:0.1537\n",
      "ndcg@50:0.1469\n",
      "ndcg@all:0.4286\n"
     ]
    },
    {
     "data": {
      "application/vnd.jupyter.widget-view+json": {
       "model_id": "53d64dae874e4755acfb854516bea175",
       "version_major": 2,
       "version_minor": 0
      },
      "text/plain": [
       "Training:   0%|          | 0/313 [00:00<?, ?it/s]"
      ]
     },
     "metadata": {},
     "output_type": "display_data"
    },
    {
     "name": "stdout",
     "output_type": "stream",
     "text": [
      "[Epoch 427]\n",
      "precision@10:0.3641\n",
      "precision@30:0.2140\n",
      "precision@50:0.1691\n",
      "ndcg@10:0.1857\n",
      "ndcg@30:0.1542\n",
      "ndcg@50:0.1476\n",
      "ndcg@all:0.4289\n"
     ]
    },
    {
     "data": {
      "application/vnd.jupyter.widget-view+json": {
       "model_id": "e4a581f991a743ddad97d23eb6efabbd",
       "version_major": 2,
       "version_minor": 0
      },
      "text/plain": [
       "Training:   0%|          | 0/313 [00:00<?, ?it/s]"
      ]
     },
     "metadata": {},
     "output_type": "display_data"
    },
    {
     "name": "stdout",
     "output_type": "stream",
     "text": [
      "[Epoch 428]\n",
      "precision@10:0.3644\n",
      "precision@30:0.2154\n",
      "precision@50:0.1696\n",
      "ndcg@10:0.1856\n",
      "ndcg@30:0.1548\n",
      "ndcg@50:0.1479\n",
      "ndcg@all:0.4294\n"
     ]
    },
    {
     "data": {
      "application/vnd.jupyter.widget-view+json": {
       "model_id": "fdc89e5b76de4f0fb2b423fc4dc25abb",
       "version_major": 2,
       "version_minor": 0
      },
      "text/plain": [
       "Training:   0%|          | 0/313 [00:00<?, ?it/s]"
      ]
     },
     "metadata": {},
     "output_type": "display_data"
    },
    {
     "name": "stdout",
     "output_type": "stream",
     "text": [
      "[Epoch 429]\n",
      "precision@10:0.3619\n",
      "precision@30:0.2130\n",
      "precision@50:0.1683\n",
      "ndcg@10:0.1851\n",
      "ndcg@30:0.1538\n",
      "ndcg@50:0.1469\n",
      "ndcg@all:0.4287\n"
     ]
    },
    {
     "data": {
      "application/vnd.jupyter.widget-view+json": {
       "model_id": "c6c92b624d4c40889ef082959d02e910",
       "version_major": 2,
       "version_minor": 0
      },
      "text/plain": [
       "Training:   0%|          | 0/313 [00:00<?, ?it/s]"
      ]
     },
     "metadata": {},
     "output_type": "display_data"
    },
    {
     "name": "stdout",
     "output_type": "stream",
     "text": [
      "[Epoch 430]\n",
      "precision@10:0.3636\n",
      "precision@30:0.2143\n",
      "precision@50:0.1691\n",
      "ndcg@10:0.1854\n",
      "ndcg@30:0.1544\n",
      "ndcg@50:0.1476\n",
      "ndcg@all:0.4290\n"
     ]
    },
    {
     "data": {
      "application/vnd.jupyter.widget-view+json": {
       "model_id": "e05ae3d1beab452f8bcfe956163db298",
       "version_major": 2,
       "version_minor": 0
      },
      "text/plain": [
       "Training:   0%|          | 0/313 [00:00<?, ?it/s]"
      ]
     },
     "metadata": {},
     "output_type": "display_data"
    },
    {
     "name": "stdout",
     "output_type": "stream",
     "text": [
      "[Epoch 431]\n",
      "precision@10:0.3636\n",
      "precision@30:0.2136\n",
      "precision@50:0.1686\n",
      "ndcg@10:0.1853\n",
      "ndcg@30:0.1542\n",
      "ndcg@50:0.1474\n",
      "ndcg@all:0.4288\n"
     ]
    },
    {
     "data": {
      "application/vnd.jupyter.widget-view+json": {
       "model_id": "84f325ca1c994bea8b5f79957589c637",
       "version_major": 2,
       "version_minor": 0
      },
      "text/plain": [
       "Training:   0%|          | 0/313 [00:00<?, ?it/s]"
      ]
     },
     "metadata": {},
     "output_type": "display_data"
    },
    {
     "name": "stdout",
     "output_type": "stream",
     "text": [
      "[Epoch 432]\n",
      "precision@10:0.3634\n",
      "precision@30:0.2139\n",
      "precision@50:0.1684\n",
      "ndcg@10:0.1857\n",
      "ndcg@30:0.1545\n",
      "ndcg@50:0.1475\n",
      "ndcg@all:0.4290\n"
     ]
    },
    {
     "data": {
      "application/vnd.jupyter.widget-view+json": {
       "model_id": "64228e63de15479cb29ccef34bbdd730",
       "version_major": 2,
       "version_minor": 0
      },
      "text/plain": [
       "Training:   0%|          | 0/313 [00:00<?, ?it/s]"
      ]
     },
     "metadata": {},
     "output_type": "display_data"
    },
    {
     "name": "stdout",
     "output_type": "stream",
     "text": [
      "[Epoch 433]\n",
      "precision@10:0.3635\n",
      "precision@30:0.2135\n",
      "precision@50:0.1685\n",
      "ndcg@10:0.1856\n",
      "ndcg@30:0.1544\n",
      "ndcg@50:0.1476\n",
      "ndcg@all:0.4290\n"
     ]
    },
    {
     "data": {
      "application/vnd.jupyter.widget-view+json": {
       "model_id": "17a8108e4f3945538089d34762c40081",
       "version_major": 2,
       "version_minor": 0
      },
      "text/plain": [
       "Training:   0%|          | 0/313 [00:00<?, ?it/s]"
      ]
     },
     "metadata": {},
     "output_type": "display_data"
    },
    {
     "name": "stdout",
     "output_type": "stream",
     "text": [
      "[Epoch 434]\n",
      "precision@10:0.3633\n",
      "precision@30:0.2144\n",
      "precision@50:0.1691\n",
      "ndcg@10:0.1857\n",
      "ndcg@30:0.1547\n",
      "ndcg@50:0.1479\n",
      "ndcg@all:0.4292\n"
     ]
    },
    {
     "data": {
      "application/vnd.jupyter.widget-view+json": {
       "model_id": "4a417879acb94cfea0d34980a433e0c0",
       "version_major": 2,
       "version_minor": 0
      },
      "text/plain": [
       "Training:   0%|          | 0/313 [00:00<?, ?it/s]"
      ]
     },
     "metadata": {},
     "output_type": "display_data"
    },
    {
     "name": "stdout",
     "output_type": "stream",
     "text": [
      "[Epoch 435]\n",
      "precision@10:0.3623\n",
      "precision@30:0.2133\n",
      "precision@50:0.1690\n",
      "ndcg@10:0.1856\n",
      "ndcg@30:0.1544\n",
      "ndcg@50:0.1478\n",
      "ndcg@all:0.4291\n"
     ]
    },
    {
     "data": {
      "application/vnd.jupyter.widget-view+json": {
       "model_id": "d8a3662bd72f4f7dbb2e53463aef3711",
       "version_major": 2,
       "version_minor": 0
      },
      "text/plain": [
       "Training:   0%|          | 0/313 [00:00<?, ?it/s]"
      ]
     },
     "metadata": {},
     "output_type": "display_data"
    },
    {
     "name": "stdout",
     "output_type": "stream",
     "text": [
      "[Epoch 436]\n",
      "precision@10:0.3626\n",
      "precision@30:0.2139\n",
      "precision@50:0.1691\n",
      "ndcg@10:0.1856\n",
      "ndcg@30:0.1547\n",
      "ndcg@50:0.1481\n",
      "ndcg@all:0.4292\n"
     ]
    },
    {
     "data": {
      "application/vnd.jupyter.widget-view+json": {
       "model_id": "6616fb92f6be4859a5c9c9c72460b918",
       "version_major": 2,
       "version_minor": 0
      },
      "text/plain": [
       "Training:   0%|          | 0/313 [00:00<?, ?it/s]"
      ]
     },
     "metadata": {},
     "output_type": "display_data"
    },
    {
     "name": "stdout",
     "output_type": "stream",
     "text": [
      "[Epoch 437]\n",
      "precision@10:0.3624\n",
      "precision@30:0.2140\n",
      "precision@50:0.1690\n",
      "ndcg@10:0.1856\n",
      "ndcg@30:0.1546\n",
      "ndcg@50:0.1479\n",
      "ndcg@all:0.4294\n"
     ]
    },
    {
     "data": {
      "application/vnd.jupyter.widget-view+json": {
       "model_id": "518a6924576e45ecae65bcaed5a75122",
       "version_major": 2,
       "version_minor": 0
      },
      "text/plain": [
       "Training:   0%|          | 0/313 [00:00<?, ?it/s]"
      ]
     },
     "metadata": {},
     "output_type": "display_data"
    },
    {
     "name": "stdout",
     "output_type": "stream",
     "text": [
      "[Epoch 438]\n",
      "precision@10:0.3622\n",
      "precision@30:0.2135\n",
      "precision@50:0.1687\n",
      "ndcg@10:0.1857\n",
      "ndcg@30:0.1546\n",
      "ndcg@50:0.1478\n",
      "ndcg@all:0.4294\n"
     ]
    },
    {
     "data": {
      "application/vnd.jupyter.widget-view+json": {
       "model_id": "59a31d425f6b44b7a877c4c570b5ad48",
       "version_major": 2,
       "version_minor": 0
      },
      "text/plain": [
       "Training:   0%|          | 0/313 [00:00<?, ?it/s]"
      ]
     },
     "metadata": {},
     "output_type": "display_data"
    },
    {
     "name": "stdout",
     "output_type": "stream",
     "text": [
      "[Epoch 439]\n",
      "precision@10:0.3633\n",
      "precision@30:0.2128\n",
      "precision@50:0.1677\n",
      "ndcg@10:0.1862\n",
      "ndcg@30:0.1545\n",
      "ndcg@50:0.1476\n",
      "ndcg@all:0.4290\n"
     ]
    },
    {
     "data": {
      "application/vnd.jupyter.widget-view+json": {
       "model_id": "20478c00211d40a3b10d2471a18d0c96",
       "version_major": 2,
       "version_minor": 0
      },
      "text/plain": [
       "Training:   0%|          | 0/313 [00:00<?, ?it/s]"
      ]
     },
     "metadata": {},
     "output_type": "display_data"
    },
    {
     "name": "stdout",
     "output_type": "stream",
     "text": [
      "[Epoch 440]\n",
      "precision@10:0.3635\n",
      "precision@30:0.2139\n",
      "precision@50:0.1687\n",
      "ndcg@10:0.1860\n",
      "ndcg@30:0.1549\n",
      "ndcg@50:0.1481\n",
      "ndcg@all:0.4294\n"
     ]
    },
    {
     "data": {
      "application/vnd.jupyter.widget-view+json": {
       "model_id": "ab10a4c8ee59497f8abc22c8fabc542f",
       "version_major": 2,
       "version_minor": 0
      },
      "text/plain": [
       "Training:   0%|          | 0/313 [00:00<?, ?it/s]"
      ]
     },
     "metadata": {},
     "output_type": "display_data"
    },
    {
     "name": "stdout",
     "output_type": "stream",
     "text": [
      "[Epoch 441]\n",
      "precision@10:0.3631\n",
      "precision@30:0.2139\n",
      "precision@50:0.1692\n",
      "ndcg@10:0.1863\n",
      "ndcg@30:0.1552\n",
      "ndcg@50:0.1484\n",
      "ndcg@all:0.4298\n"
     ]
    },
    {
     "data": {
      "application/vnd.jupyter.widget-view+json": {
       "model_id": "22248ae23f254bd79a825baba6b44487",
       "version_major": 2,
       "version_minor": 0
      },
      "text/plain": [
       "Training:   0%|          | 0/313 [00:00<?, ?it/s]"
      ]
     },
     "metadata": {},
     "output_type": "display_data"
    },
    {
     "name": "stdout",
     "output_type": "stream",
     "text": [
      "[Epoch 442]\n",
      "precision@10:0.3633\n",
      "precision@30:0.2139\n",
      "precision@50:0.1685\n",
      "ndcg@10:0.1862\n",
      "ndcg@30:0.1549\n",
      "ndcg@50:0.1480\n",
      "ndcg@all:0.4295\n"
     ]
    },
    {
     "data": {
      "application/vnd.jupyter.widget-view+json": {
       "model_id": "40428c0bd0f0426285f2197ede0b79b9",
       "version_major": 2,
       "version_minor": 0
      },
      "text/plain": [
       "Training:   0%|          | 0/313 [00:00<?, ?it/s]"
      ]
     },
     "metadata": {},
     "output_type": "display_data"
    },
    {
     "name": "stdout",
     "output_type": "stream",
     "text": [
      "[Epoch 443]\n",
      "precision@10:0.3629\n",
      "precision@30:0.2134\n",
      "precision@50:0.1686\n",
      "ndcg@10:0.1862\n",
      "ndcg@30:0.1548\n",
      "ndcg@50:0.1481\n",
      "ndcg@all:0.4295\n"
     ]
    },
    {
     "data": {
      "application/vnd.jupyter.widget-view+json": {
       "model_id": "18e99624324d44f38f0e9250e332e6f9",
       "version_major": 2,
       "version_minor": 0
      },
      "text/plain": [
       "Training:   0%|          | 0/313 [00:00<?, ?it/s]"
      ]
     },
     "metadata": {},
     "output_type": "display_data"
    },
    {
     "name": "stdout",
     "output_type": "stream",
     "text": [
      "[Epoch 444]\n",
      "precision@10:0.3639\n",
      "precision@30:0.2150\n",
      "precision@50:0.1699\n",
      "ndcg@10:0.1863\n",
      "ndcg@30:0.1553\n",
      "ndcg@50:0.1486\n",
      "ndcg@all:0.4300\n"
     ]
    },
    {
     "data": {
      "application/vnd.jupyter.widget-view+json": {
       "model_id": "76a149e7c00a44da975b39cd7123f26b",
       "version_major": 2,
       "version_minor": 0
      },
      "text/plain": [
       "Training:   0%|          | 0/313 [00:00<?, ?it/s]"
      ]
     },
     "metadata": {},
     "output_type": "display_data"
    },
    {
     "name": "stdout",
     "output_type": "stream",
     "text": [
      "[Epoch 445]\n",
      "precision@10:0.3633\n",
      "precision@30:0.2137\n",
      "precision@50:0.1687\n",
      "ndcg@10:0.1862\n",
      "ndcg@30:0.1548\n",
      "ndcg@50:0.1481\n",
      "ndcg@all:0.4296\n"
     ]
    },
    {
     "data": {
      "application/vnd.jupyter.widget-view+json": {
       "model_id": "ae9cd59e38d44458a609cbe4f00e5e8d",
       "version_major": 2,
       "version_minor": 0
      },
      "text/plain": [
       "Training:   0%|          | 0/313 [00:00<?, ?it/s]"
      ]
     },
     "metadata": {},
     "output_type": "display_data"
    },
    {
     "name": "stdout",
     "output_type": "stream",
     "text": [
      "[Epoch 446]\n",
      "precision@10:0.3629\n",
      "precision@30:0.2139\n",
      "precision@50:0.1691\n",
      "ndcg@10:0.1864\n",
      "ndcg@30:0.1553\n",
      "ndcg@50:0.1485\n",
      "ndcg@all:0.4298\n"
     ]
    },
    {
     "data": {
      "application/vnd.jupyter.widget-view+json": {
       "model_id": "a1a03e112d0647bfb1796c9e14d8c6d8",
       "version_major": 2,
       "version_minor": 0
      },
      "text/plain": [
       "Training:   0%|          | 0/313 [00:00<?, ?it/s]"
      ]
     },
     "metadata": {},
     "output_type": "display_data"
    },
    {
     "name": "stdout",
     "output_type": "stream",
     "text": [
      "[Epoch 447]\n",
      "precision@10:0.3639\n",
      "precision@30:0.2147\n",
      "precision@50:0.1694\n",
      "ndcg@10:0.1864\n",
      "ndcg@30:0.1554\n",
      "ndcg@50:0.1485\n",
      "ndcg@all:0.4300\n"
     ]
    },
    {
     "data": {
      "application/vnd.jupyter.widget-view+json": {
       "model_id": "362a684a83c74376931202657240c62e",
       "version_major": 2,
       "version_minor": 0
      },
      "text/plain": [
       "Training:   0%|          | 0/313 [00:00<?, ?it/s]"
      ]
     },
     "metadata": {},
     "output_type": "display_data"
    },
    {
     "name": "stdout",
     "output_type": "stream",
     "text": [
      "[Epoch 448]\n",
      "precision@10:0.3632\n",
      "precision@30:0.2140\n",
      "precision@50:0.1690\n",
      "ndcg@10:0.1864\n",
      "ndcg@30:0.1552\n",
      "ndcg@50:0.1485\n",
      "ndcg@all:0.4299\n"
     ]
    },
    {
     "data": {
      "application/vnd.jupyter.widget-view+json": {
       "model_id": "dfb41d38dc814139a6ef6899b9106bee",
       "version_major": 2,
       "version_minor": 0
      },
      "text/plain": [
       "Training:   0%|          | 0/313 [00:00<?, ?it/s]"
      ]
     },
     "metadata": {},
     "output_type": "display_data"
    },
    {
     "name": "stdout",
     "output_type": "stream",
     "text": [
      "[Epoch 449]\n",
      "precision@10:0.3625\n",
      "precision@30:0.2135\n",
      "precision@50:0.1690\n",
      "ndcg@10:0.1863\n",
      "ndcg@30:0.1551\n",
      "ndcg@50:0.1484\n",
      "ndcg@all:0.4297\n"
     ]
    },
    {
     "data": {
      "application/vnd.jupyter.widget-view+json": {
       "model_id": "6979e1350d764c66beeaf93aff861054",
       "version_major": 2,
       "version_minor": 0
      },
      "text/plain": [
       "Training:   0%|          | 0/313 [00:00<?, ?it/s]"
      ]
     },
     "metadata": {},
     "output_type": "display_data"
    },
    {
     "name": "stdout",
     "output_type": "stream",
     "text": [
      "[Epoch 450]\n",
      "precision@10:0.3623\n",
      "precision@30:0.2142\n",
      "precision@50:0.1691\n",
      "ndcg@10:0.1860\n",
      "ndcg@30:0.1552\n",
      "ndcg@50:0.1484\n",
      "ndcg@all:0.4299\n"
     ]
    },
    {
     "data": {
      "application/vnd.jupyter.widget-view+json": {
       "model_id": "4d38f5776e314a51bf5cfc3f43c223a5",
       "version_major": 2,
       "version_minor": 0
      },
      "text/plain": [
       "Training:   0%|          | 0/313 [00:00<?, ?it/s]"
      ]
     },
     "metadata": {},
     "output_type": "display_data"
    },
    {
     "name": "stdout",
     "output_type": "stream",
     "text": [
      "[Epoch 451]\n",
      "precision@10:0.3630\n",
      "precision@30:0.2141\n",
      "precision@50:0.1696\n",
      "ndcg@10:0.1866\n",
      "ndcg@30:0.1555\n",
      "ndcg@50:0.1489\n",
      "ndcg@all:0.4302\n"
     ]
    },
    {
     "data": {
      "application/vnd.jupyter.widget-view+json": {
       "model_id": "7dd967657c4d44e896a91e280c3c23e1",
       "version_major": 2,
       "version_minor": 0
      },
      "text/plain": [
       "Training:   0%|          | 0/313 [00:00<?, ?it/s]"
      ]
     },
     "metadata": {},
     "output_type": "display_data"
    },
    {
     "name": "stdout",
     "output_type": "stream",
     "text": [
      "[Epoch 452]\n",
      "precision@10:0.3636\n",
      "precision@30:0.2138\n",
      "precision@50:0.1690\n",
      "ndcg@10:0.1867\n",
      "ndcg@30:0.1554\n",
      "ndcg@50:0.1487\n",
      "ndcg@all:0.4299\n"
     ]
    },
    {
     "data": {
      "application/vnd.jupyter.widget-view+json": {
       "model_id": "2543591e252e4cb4bbf61fad38037dbf",
       "version_major": 2,
       "version_minor": 0
      },
      "text/plain": [
       "Training:   0%|          | 0/313 [00:00<?, ?it/s]"
      ]
     },
     "metadata": {},
     "output_type": "display_data"
    },
    {
     "name": "stdout",
     "output_type": "stream",
     "text": [
      "[Epoch 453]\n",
      "precision@10:0.3636\n",
      "precision@30:0.2135\n",
      "precision@50:0.1691\n",
      "ndcg@10:0.1867\n",
      "ndcg@30:0.1553\n",
      "ndcg@50:0.1486\n",
      "ndcg@all:0.4300\n"
     ]
    },
    {
     "data": {
      "application/vnd.jupyter.widget-view+json": {
       "model_id": "db272b06b4d74d8b8486e03920df4078",
       "version_major": 2,
       "version_minor": 0
      },
      "text/plain": [
       "Training:   0%|          | 0/313 [00:00<?, ?it/s]"
      ]
     },
     "metadata": {},
     "output_type": "display_data"
    },
    {
     "name": "stdout",
     "output_type": "stream",
     "text": [
      "[Epoch 454]\n",
      "precision@10:0.3635\n",
      "precision@30:0.2143\n",
      "precision@50:0.1695\n",
      "ndcg@10:0.1868\n",
      "ndcg@30:0.1556\n",
      "ndcg@50:0.1489\n",
      "ndcg@all:0.4303\n"
     ]
    },
    {
     "data": {
      "application/vnd.jupyter.widget-view+json": {
       "model_id": "a0f63181020849348ed037dbee820946",
       "version_major": 2,
       "version_minor": 0
      },
      "text/plain": [
       "Training:   0%|          | 0/313 [00:00<?, ?it/s]"
      ]
     },
     "metadata": {},
     "output_type": "display_data"
    },
    {
     "name": "stdout",
     "output_type": "stream",
     "text": [
      "[Epoch 455]\n",
      "precision@10:0.3608\n",
      "precision@30:0.2119\n",
      "precision@50:0.1671\n",
      "ndcg@10:0.1866\n",
      "ndcg@30:0.1550\n",
      "ndcg@50:0.1481\n",
      "ndcg@all:0.4294\n"
     ]
    },
    {
     "data": {
      "application/vnd.jupyter.widget-view+json": {
       "model_id": "4b52e54afdee462bb45755cf0c0bfe82",
       "version_major": 2,
       "version_minor": 0
      },
      "text/plain": [
       "Training:   0%|          | 0/313 [00:00<?, ?it/s]"
      ]
     },
     "metadata": {},
     "output_type": "display_data"
    },
    {
     "name": "stdout",
     "output_type": "stream",
     "text": [
      "[Epoch 456]\n",
      "precision@10:0.3631\n",
      "precision@30:0.2134\n",
      "precision@50:0.1688\n",
      "ndcg@10:0.1869\n",
      "ndcg@30:0.1556\n",
      "ndcg@50:0.1491\n",
      "ndcg@all:0.4302\n"
     ]
    },
    {
     "data": {
      "application/vnd.jupyter.widget-view+json": {
       "model_id": "42bf693110dd4753a29f49968604293f",
       "version_major": 2,
       "version_minor": 0
      },
      "text/plain": [
       "Training:   0%|          | 0/313 [00:00<?, ?it/s]"
      ]
     },
     "metadata": {},
     "output_type": "display_data"
    },
    {
     "name": "stdout",
     "output_type": "stream",
     "text": [
      "[Epoch 457]\n",
      "precision@10:0.3630\n",
      "precision@30:0.2139\n",
      "precision@50:0.1688\n",
      "ndcg@10:0.1867\n",
      "ndcg@30:0.1557\n",
      "ndcg@50:0.1487\n",
      "ndcg@all:0.4302\n"
     ]
    },
    {
     "data": {
      "application/vnd.jupyter.widget-view+json": {
       "model_id": "5b64b601068d4a4f830125689c9f8eda",
       "version_major": 2,
       "version_minor": 0
      },
      "text/plain": [
       "Training:   0%|          | 0/313 [00:00<?, ?it/s]"
      ]
     },
     "metadata": {},
     "output_type": "display_data"
    },
    {
     "name": "stdout",
     "output_type": "stream",
     "text": [
      "[Epoch 458]\n",
      "precision@10:0.3635\n",
      "precision@30:0.2140\n",
      "precision@50:0.1691\n",
      "ndcg@10:0.1869\n",
      "ndcg@30:0.1555\n",
      "ndcg@50:0.1488\n",
      "ndcg@all:0.4303\n"
     ]
    },
    {
     "data": {
      "application/vnd.jupyter.widget-view+json": {
       "model_id": "bce94eefa5ad435ab1b8bff7836a6a7e",
       "version_major": 2,
       "version_minor": 0
      },
      "text/plain": [
       "Training:   0%|          | 0/313 [00:00<?, ?it/s]"
      ]
     },
     "metadata": {},
     "output_type": "display_data"
    },
    {
     "name": "stdout",
     "output_type": "stream",
     "text": [
      "[Epoch 459]\n",
      "precision@10:0.3616\n",
      "precision@30:0.2131\n",
      "precision@50:0.1681\n",
      "ndcg@10:0.1867\n",
      "ndcg@30:0.1555\n",
      "ndcg@50:0.1486\n",
      "ndcg@all:0.4300\n"
     ]
    },
    {
     "data": {
      "application/vnd.jupyter.widget-view+json": {
       "model_id": "a21b01cb68934dfba27e80b36f0b2d2e",
       "version_major": 2,
       "version_minor": 0
      },
      "text/plain": [
       "Training:   0%|          | 0/313 [00:00<?, ?it/s]"
      ]
     },
     "metadata": {},
     "output_type": "display_data"
    },
    {
     "name": "stdout",
     "output_type": "stream",
     "text": [
      "[Epoch 460]\n",
      "precision@10:0.3620\n",
      "precision@30:0.2130\n",
      "precision@50:0.1685\n",
      "ndcg@10:0.1868\n",
      "ndcg@30:0.1555\n",
      "ndcg@50:0.1488\n",
      "ndcg@all:0.4303\n"
     ]
    },
    {
     "data": {
      "application/vnd.jupyter.widget-view+json": {
       "model_id": "a9096eba038941ae85809af63aca5aaf",
       "version_major": 2,
       "version_minor": 0
      },
      "text/plain": [
       "Training:   0%|          | 0/313 [00:00<?, ?it/s]"
      ]
     },
     "metadata": {},
     "output_type": "display_data"
    },
    {
     "name": "stdout",
     "output_type": "stream",
     "text": [
      "[Epoch 461]\n",
      "precision@10:0.3633\n",
      "precision@30:0.2138\n",
      "precision@50:0.1690\n",
      "ndcg@10:0.1870\n",
      "ndcg@30:0.1560\n",
      "ndcg@50:0.1492\n",
      "ndcg@all:0.4305\n"
     ]
    },
    {
     "data": {
      "application/vnd.jupyter.widget-view+json": {
       "model_id": "efd5ab6083884da79f0e84ab7715e412",
       "version_major": 2,
       "version_minor": 0
      },
      "text/plain": [
       "Training:   0%|          | 0/313 [00:00<?, ?it/s]"
      ]
     },
     "metadata": {},
     "output_type": "display_data"
    },
    {
     "name": "stdout",
     "output_type": "stream",
     "text": [
      "[Epoch 462]\n",
      "precision@10:0.3632\n",
      "precision@30:0.2139\n",
      "precision@50:0.1695\n",
      "ndcg@10:0.1873\n",
      "ndcg@30:0.1560\n",
      "ndcg@50:0.1494\n",
      "ndcg@all:0.4307\n"
     ]
    },
    {
     "data": {
      "application/vnd.jupyter.widget-view+json": {
       "model_id": "9d8dc6a70ee74bf0a0c30b2547c6404d",
       "version_major": 2,
       "version_minor": 0
      },
      "text/plain": [
       "Training:   0%|          | 0/313 [00:00<?, ?it/s]"
      ]
     },
     "metadata": {},
     "output_type": "display_data"
    },
    {
     "name": "stdout",
     "output_type": "stream",
     "text": [
      "[Epoch 463]\n",
      "precision@10:0.3631\n",
      "precision@30:0.2137\n",
      "precision@50:0.1691\n",
      "ndcg@10:0.1874\n",
      "ndcg@30:0.1559\n",
      "ndcg@50:0.1492\n",
      "ndcg@all:0.4305\n"
     ]
    },
    {
     "data": {
      "application/vnd.jupyter.widget-view+json": {
       "model_id": "775701ac8be34a978a9edd94874df38a",
       "version_major": 2,
       "version_minor": 0
      },
      "text/plain": [
       "Training:   0%|          | 0/313 [00:00<?, ?it/s]"
      ]
     },
     "metadata": {},
     "output_type": "display_data"
    },
    {
     "name": "stdout",
     "output_type": "stream",
     "text": [
      "[Epoch 464]\n",
      "precision@10:0.3618\n",
      "precision@30:0.2125\n",
      "precision@50:0.1684\n",
      "ndcg@10:0.1871\n",
      "ndcg@30:0.1557\n",
      "ndcg@50:0.1490\n",
      "ndcg@all:0.4304\n"
     ]
    },
    {
     "data": {
      "application/vnd.jupyter.widget-view+json": {
       "model_id": "1f4b626983524ca597fe67aa9d024b2e",
       "version_major": 2,
       "version_minor": 0
      },
      "text/plain": [
       "Training:   0%|          | 0/313 [00:00<?, ?it/s]"
      ]
     },
     "metadata": {},
     "output_type": "display_data"
    },
    {
     "name": "stdout",
     "output_type": "stream",
     "text": [
      "[Epoch 465]\n",
      "precision@10:0.3613\n",
      "precision@30:0.2128\n",
      "precision@50:0.1677\n",
      "ndcg@10:0.1869\n",
      "ndcg@30:0.1557\n",
      "ndcg@50:0.1487\n",
      "ndcg@all:0.4302\n"
     ]
    },
    {
     "data": {
      "application/vnd.jupyter.widget-view+json": {
       "model_id": "39f22020b2394a3b881ca485344c0736",
       "version_major": 2,
       "version_minor": 0
      },
      "text/plain": [
       "Training:   0%|          | 0/313 [00:00<?, ?it/s]"
      ]
     },
     "metadata": {},
     "output_type": "display_data"
    },
    {
     "name": "stdout",
     "output_type": "stream",
     "text": [
      "[Epoch 466]\n",
      "precision@10:0.3628\n",
      "precision@30:0.2131\n",
      "precision@50:0.1686\n",
      "ndcg@10:0.1872\n",
      "ndcg@30:0.1559\n",
      "ndcg@50:0.1492\n",
      "ndcg@all:0.4306\n"
     ]
    },
    {
     "data": {
      "application/vnd.jupyter.widget-view+json": {
       "model_id": "d09bb022e44944d7b809c12517e93a17",
       "version_major": 2,
       "version_minor": 0
      },
      "text/plain": [
       "Training:   0%|          | 0/313 [00:00<?, ?it/s]"
      ]
     },
     "metadata": {},
     "output_type": "display_data"
    },
    {
     "name": "stdout",
     "output_type": "stream",
     "text": [
      "[Epoch 467]\n",
      "precision@10:0.3621\n",
      "precision@30:0.2127\n",
      "precision@50:0.1682\n",
      "ndcg@10:0.1871\n",
      "ndcg@30:0.1559\n",
      "ndcg@50:0.1491\n",
      "ndcg@all:0.4303\n"
     ]
    },
    {
     "data": {
      "application/vnd.jupyter.widget-view+json": {
       "model_id": "acb071282e0d40f3a2962ca5a0beb487",
       "version_major": 2,
       "version_minor": 0
      },
      "text/plain": [
       "Training:   0%|          | 0/313 [00:00<?, ?it/s]"
      ]
     },
     "metadata": {},
     "output_type": "display_data"
    },
    {
     "name": "stdout",
     "output_type": "stream",
     "text": [
      "[Epoch 468]\n",
      "precision@10:0.3622\n",
      "precision@30:0.2139\n",
      "precision@50:0.1693\n",
      "ndcg@10:0.1872\n",
      "ndcg@30:0.1561\n",
      "ndcg@50:0.1495\n",
      "ndcg@all:0.4310\n"
     ]
    },
    {
     "data": {
      "application/vnd.jupyter.widget-view+json": {
       "model_id": "079854769f614dceb36b307aef8f7b0d",
       "version_major": 2,
       "version_minor": 0
      },
      "text/plain": [
       "Training:   0%|          | 0/313 [00:00<?, ?it/s]"
      ]
     },
     "metadata": {},
     "output_type": "display_data"
    },
    {
     "name": "stdout",
     "output_type": "stream",
     "text": [
      "[Epoch 469]\n",
      "precision@10:0.3612\n",
      "precision@30:0.2125\n",
      "precision@50:0.1679\n",
      "ndcg@10:0.1871\n",
      "ndcg@30:0.1558\n",
      "ndcg@50:0.1490\n",
      "ndcg@all:0.4304\n"
     ]
    },
    {
     "data": {
      "application/vnd.jupyter.widget-view+json": {
       "model_id": "5200d3ede6b149bf8d1482a93ce837c8",
       "version_major": 2,
       "version_minor": 0
      },
      "text/plain": [
       "Training:   0%|          | 0/313 [00:00<?, ?it/s]"
      ]
     },
     "metadata": {},
     "output_type": "display_data"
    },
    {
     "name": "stdout",
     "output_type": "stream",
     "text": [
      "[Epoch 470]\n",
      "precision@10:0.3623\n",
      "precision@30:0.2139\n",
      "precision@50:0.1692\n",
      "ndcg@10:0.1872\n",
      "ndcg@30:0.1563\n",
      "ndcg@50:0.1493\n",
      "ndcg@all:0.4309\n"
     ]
    },
    {
     "data": {
      "application/vnd.jupyter.widget-view+json": {
       "model_id": "48582c04630c41e29883112c10ab268f",
       "version_major": 2,
       "version_minor": 0
      },
      "text/plain": [
       "Training:   0%|          | 0/313 [00:00<?, ?it/s]"
      ]
     },
     "metadata": {},
     "output_type": "display_data"
    },
    {
     "name": "stdout",
     "output_type": "stream",
     "text": [
      "[Epoch 471]\n",
      "precision@10:0.3625\n",
      "precision@30:0.2133\n",
      "precision@50:0.1689\n",
      "ndcg@10:0.1873\n",
      "ndcg@30:0.1561\n",
      "ndcg@50:0.1493\n",
      "ndcg@all:0.4306\n"
     ]
    },
    {
     "data": {
      "application/vnd.jupyter.widget-view+json": {
       "model_id": "fd939a1d9a7e43ef8277ed5401124c4a",
       "version_major": 2,
       "version_minor": 0
      },
      "text/plain": [
       "Training:   0%|          | 0/313 [00:00<?, ?it/s]"
      ]
     },
     "metadata": {},
     "output_type": "display_data"
    },
    {
     "name": "stdout",
     "output_type": "stream",
     "text": [
      "[Epoch 472]\n",
      "precision@10:0.3597\n",
      "precision@30:0.2126\n",
      "precision@50:0.1681\n",
      "ndcg@10:0.1869\n",
      "ndcg@30:0.1561\n",
      "ndcg@50:0.1493\n",
      "ndcg@all:0.4308\n"
     ]
    },
    {
     "data": {
      "application/vnd.jupyter.widget-view+json": {
       "model_id": "302c4c20aa78458a88e846ad176dde88",
       "version_major": 2,
       "version_minor": 0
      },
      "text/plain": [
       "Training:   0%|          | 0/313 [00:00<?, ?it/s]"
      ]
     },
     "metadata": {},
     "output_type": "display_data"
    },
    {
     "name": "stdout",
     "output_type": "stream",
     "text": [
      "[Epoch 473]\n",
      "precision@10:0.3616\n",
      "precision@30:0.2128\n",
      "precision@50:0.1684\n",
      "ndcg@10:0.1874\n",
      "ndcg@30:0.1560\n",
      "ndcg@50:0.1493\n",
      "ndcg@all:0.4309\n"
     ]
    },
    {
     "data": {
      "application/vnd.jupyter.widget-view+json": {
       "model_id": "4874764d20da451d806cdf426401456c",
       "version_major": 2,
       "version_minor": 0
      },
      "text/plain": [
       "Training:   0%|          | 0/313 [00:00<?, ?it/s]"
      ]
     },
     "metadata": {},
     "output_type": "display_data"
    },
    {
     "name": "stdout",
     "output_type": "stream",
     "text": [
      "[Epoch 474]\n",
      "precision@10:0.3625\n",
      "precision@30:0.2143\n",
      "precision@50:0.1699\n",
      "ndcg@10:0.1875\n",
      "ndcg@30:0.1565\n",
      "ndcg@50:0.1498\n",
      "ndcg@all:0.4313\n"
     ]
    },
    {
     "data": {
      "application/vnd.jupyter.widget-view+json": {
       "model_id": "fa7e7e4b111c428fb25ae34e4ff6e560",
       "version_major": 2,
       "version_minor": 0
      },
      "text/plain": [
       "Training:   0%|          | 0/313 [00:00<?, ?it/s]"
      ]
     },
     "metadata": {},
     "output_type": "display_data"
    },
    {
     "name": "stdout",
     "output_type": "stream",
     "text": [
      "[Epoch 475]\n",
      "precision@10:0.3618\n",
      "precision@30:0.2140\n",
      "precision@50:0.1696\n",
      "ndcg@10:0.1870\n",
      "ndcg@30:0.1562\n",
      "ndcg@50:0.1496\n",
      "ndcg@all:0.4311\n"
     ]
    },
    {
     "data": {
      "application/vnd.jupyter.widget-view+json": {
       "model_id": "fc24179955ec4d7c930fed16a28ddc80",
       "version_major": 2,
       "version_minor": 0
      },
      "text/plain": [
       "Training:   0%|          | 0/313 [00:00<?, ?it/s]"
      ]
     },
     "metadata": {},
     "output_type": "display_data"
    },
    {
     "name": "stdout",
     "output_type": "stream",
     "text": [
      "[Epoch 476]\n",
      "precision@10:0.3611\n",
      "precision@30:0.2129\n",
      "precision@50:0.1682\n",
      "ndcg@10:0.1873\n",
      "ndcg@30:0.1563\n",
      "ndcg@50:0.1494\n",
      "ndcg@all:0.4309\n"
     ]
    },
    {
     "data": {
      "application/vnd.jupyter.widget-view+json": {
       "model_id": "b032069c5aaf425b83de7fd60a787b79",
       "version_major": 2,
       "version_minor": 0
      },
      "text/plain": [
       "Training:   0%|          | 0/313 [00:00<?, ?it/s]"
      ]
     },
     "metadata": {},
     "output_type": "display_data"
    },
    {
     "name": "stdout",
     "output_type": "stream",
     "text": [
      "[Epoch 477]\n",
      "precision@10:0.3604\n",
      "precision@30:0.2123\n",
      "precision@50:0.1680\n",
      "ndcg@10:0.1873\n",
      "ndcg@30:0.1562\n",
      "ndcg@50:0.1493\n",
      "ndcg@all:0.4307\n"
     ]
    },
    {
     "data": {
      "application/vnd.jupyter.widget-view+json": {
       "model_id": "a8883be252544c1cac95f53f7f2ef2fe",
       "version_major": 2,
       "version_minor": 0
      },
      "text/plain": [
       "Training:   0%|          | 0/313 [00:00<?, ?it/s]"
      ]
     },
     "metadata": {},
     "output_type": "display_data"
    },
    {
     "name": "stdout",
     "output_type": "stream",
     "text": [
      "[Epoch 478]\n",
      "precision@10:0.3628\n",
      "precision@30:0.2136\n",
      "precision@50:0.1695\n",
      "ndcg@10:0.1876\n",
      "ndcg@30:0.1563\n",
      "ndcg@50:0.1498\n",
      "ndcg@all:0.4312\n"
     ]
    },
    {
     "data": {
      "application/vnd.jupyter.widget-view+json": {
       "model_id": "ef4e2ec5e503463495bebff13cbeb9fe",
       "version_major": 2,
       "version_minor": 0
      },
      "text/plain": [
       "Training:   0%|          | 0/313 [00:00<?, ?it/s]"
      ]
     },
     "metadata": {},
     "output_type": "display_data"
    },
    {
     "name": "stdout",
     "output_type": "stream",
     "text": [
      "[Epoch 479]\n",
      "precision@10:0.3621\n",
      "precision@30:0.2135\n",
      "precision@50:0.1688\n",
      "ndcg@10:0.1876\n",
      "ndcg@30:0.1565\n",
      "ndcg@50:0.1496\n",
      "ndcg@all:0.4312\n"
     ]
    },
    {
     "data": {
      "application/vnd.jupyter.widget-view+json": {
       "model_id": "4155b4e43c6246368ab43dd909e1dc3d",
       "version_major": 2,
       "version_minor": 0
      },
      "text/plain": [
       "Training:   0%|          | 0/313 [00:00<?, ?it/s]"
      ]
     },
     "metadata": {},
     "output_type": "display_data"
    },
    {
     "name": "stdout",
     "output_type": "stream",
     "text": [
      "[Epoch 480]\n",
      "precision@10:0.3619\n",
      "precision@30:0.2120\n",
      "precision@50:0.1679\n",
      "ndcg@10:0.1879\n",
      "ndcg@30:0.1563\n",
      "ndcg@50:0.1495\n",
      "ndcg@all:0.4310\n"
     ]
    },
    {
     "data": {
      "application/vnd.jupyter.widget-view+json": {
       "model_id": "9eb25cbd68a34eb8909e4eadaaee751a",
       "version_major": 2,
       "version_minor": 0
      },
      "text/plain": [
       "Training:   0%|          | 0/313 [00:00<?, ?it/s]"
      ]
     },
     "metadata": {},
     "output_type": "display_data"
    },
    {
     "name": "stdout",
     "output_type": "stream",
     "text": [
      "[Epoch 481]\n",
      "precision@10:0.3613\n",
      "precision@30:0.2126\n",
      "precision@50:0.1679\n",
      "ndcg@10:0.1877\n",
      "ndcg@30:0.1566\n",
      "ndcg@50:0.1495\n",
      "ndcg@all:0.4310\n"
     ]
    },
    {
     "data": {
      "application/vnd.jupyter.widget-view+json": {
       "model_id": "9fc47dd5a0534885a86348353cfb687c",
       "version_major": 2,
       "version_minor": 0
      },
      "text/plain": [
       "Training:   0%|          | 0/313 [00:00<?, ?it/s]"
      ]
     },
     "metadata": {},
     "output_type": "display_data"
    },
    {
     "name": "stdout",
     "output_type": "stream",
     "text": [
      "[Epoch 482]\n",
      "precision@10:0.3629\n",
      "precision@30:0.2141\n",
      "precision@50:0.1694\n",
      "ndcg@10:0.1877\n",
      "ndcg@30:0.1565\n",
      "ndcg@50:0.1499\n",
      "ndcg@all:0.4314\n"
     ]
    },
    {
     "data": {
      "application/vnd.jupyter.widget-view+json": {
       "model_id": "1490d2ee34b64e6e95f1588a37883059",
       "version_major": 2,
       "version_minor": 0
      },
      "text/plain": [
       "Training:   0%|          | 0/313 [00:00<?, ?it/s]"
      ]
     },
     "metadata": {},
     "output_type": "display_data"
    },
    {
     "name": "stdout",
     "output_type": "stream",
     "text": [
      "[Epoch 483]\n",
      "precision@10:0.3620\n",
      "precision@30:0.2137\n",
      "precision@50:0.1692\n",
      "ndcg@10:0.1877\n",
      "ndcg@30:0.1568\n",
      "ndcg@50:0.1500\n",
      "ndcg@all:0.4314\n"
     ]
    },
    {
     "data": {
      "application/vnd.jupyter.widget-view+json": {
       "model_id": "b10667d38a1f43db9f52cf858841bb10",
       "version_major": 2,
       "version_minor": 0
      },
      "text/plain": [
       "Training:   0%|          | 0/313 [00:00<?, ?it/s]"
      ]
     },
     "metadata": {},
     "output_type": "display_data"
    },
    {
     "name": "stdout",
     "output_type": "stream",
     "text": [
      "[Epoch 484]\n",
      "precision@10:0.3607\n",
      "precision@30:0.2124\n",
      "precision@50:0.1684\n",
      "ndcg@10:0.1875\n",
      "ndcg@30:0.1564\n",
      "ndcg@50:0.1498\n",
      "ndcg@all:0.4313\n"
     ]
    },
    {
     "data": {
      "application/vnd.jupyter.widget-view+json": {
       "model_id": "68707aa79e7b4af795b98e528fa8967c",
       "version_major": 2,
       "version_minor": 0
      },
      "text/plain": [
       "Training:   0%|          | 0/313 [00:00<?, ?it/s]"
      ]
     },
     "metadata": {},
     "output_type": "display_data"
    },
    {
     "name": "stdout",
     "output_type": "stream",
     "text": [
      "[Epoch 485]\n",
      "precision@10:0.3606\n",
      "precision@30:0.2121\n",
      "precision@50:0.1682\n",
      "ndcg@10:0.1876\n",
      "ndcg@30:0.1566\n",
      "ndcg@50:0.1497\n",
      "ndcg@all:0.4312\n"
     ]
    },
    {
     "data": {
      "application/vnd.jupyter.widget-view+json": {
       "model_id": "be5a7212561a42ba9cc2d8a79e0939ba",
       "version_major": 2,
       "version_minor": 0
      },
      "text/plain": [
       "Training:   0%|          | 0/313 [00:00<?, ?it/s]"
      ]
     },
     "metadata": {},
     "output_type": "display_data"
    },
    {
     "name": "stdout",
     "output_type": "stream",
     "text": [
      "[Epoch 486]\n",
      "precision@10:0.3616\n",
      "precision@30:0.2125\n",
      "precision@50:0.1688\n",
      "ndcg@10:0.1878\n",
      "ndcg@30:0.1566\n",
      "ndcg@50:0.1500\n",
      "ndcg@all:0.4314\n"
     ]
    },
    {
     "data": {
      "application/vnd.jupyter.widget-view+json": {
       "model_id": "280d24a1b195438d907e03dccc2b27bd",
       "version_major": 2,
       "version_minor": 0
      },
      "text/plain": [
       "Training:   0%|          | 0/313 [00:00<?, ?it/s]"
      ]
     },
     "metadata": {},
     "output_type": "display_data"
    },
    {
     "name": "stdout",
     "output_type": "stream",
     "text": [
      "[Epoch 487]\n",
      "precision@10:0.3594\n",
      "precision@30:0.2122\n",
      "precision@50:0.1681\n",
      "ndcg@10:0.1876\n",
      "ndcg@30:0.1565\n",
      "ndcg@50:0.1499\n",
      "ndcg@all:0.4313\n"
     ]
    },
    {
     "data": {
      "application/vnd.jupyter.widget-view+json": {
       "model_id": "1a6aa01a539042c290c6480f6f940b3b",
       "version_major": 2,
       "version_minor": 0
      },
      "text/plain": [
       "Training:   0%|          | 0/313 [00:00<?, ?it/s]"
      ]
     },
     "metadata": {},
     "output_type": "display_data"
    },
    {
     "name": "stdout",
     "output_type": "stream",
     "text": [
      "[Epoch 488]\n",
      "precision@10:0.3614\n",
      "precision@30:0.2131\n",
      "precision@50:0.1688\n",
      "ndcg@10:0.1882\n",
      "ndcg@30:0.1569\n",
      "ndcg@50:0.1502\n",
      "ndcg@all:0.4315\n"
     ]
    },
    {
     "data": {
      "application/vnd.jupyter.widget-view+json": {
       "model_id": "c0ff4bb1f84440c085b0f6b0a27ee8a2",
       "version_major": 2,
       "version_minor": 0
      },
      "text/plain": [
       "Training:   0%|          | 0/313 [00:00<?, ?it/s]"
      ]
     },
     "metadata": {},
     "output_type": "display_data"
    },
    {
     "name": "stdout",
     "output_type": "stream",
     "text": [
      "[Epoch 489]\n",
      "precision@10:0.3606\n",
      "precision@30:0.2127\n",
      "precision@50:0.1687\n",
      "ndcg@10:0.1878\n",
      "ndcg@30:0.1567\n",
      "ndcg@50:0.1500\n",
      "ndcg@all:0.4314\n"
     ]
    },
    {
     "data": {
      "application/vnd.jupyter.widget-view+json": {
       "model_id": "568e7ce59bea4bf0bb3dd6bd3417f04b",
       "version_major": 2,
       "version_minor": 0
      },
      "text/plain": [
       "Training:   0%|          | 0/313 [00:00<?, ?it/s]"
      ]
     },
     "metadata": {},
     "output_type": "display_data"
    },
    {
     "name": "stdout",
     "output_type": "stream",
     "text": [
      "[Epoch 490]\n",
      "precision@10:0.3605\n",
      "precision@30:0.2124\n",
      "precision@50:0.1677\n",
      "ndcg@10:0.1880\n",
      "ndcg@30:0.1568\n",
      "ndcg@50:0.1499\n",
      "ndcg@all:0.4314\n"
     ]
    },
    {
     "data": {
      "application/vnd.jupyter.widget-view+json": {
       "model_id": "b0bca8c34bbf49178eddffb10ee7f659",
       "version_major": 2,
       "version_minor": 0
      },
      "text/plain": [
       "Training:   0%|          | 0/313 [00:00<?, ?it/s]"
      ]
     },
     "metadata": {},
     "output_type": "display_data"
    },
    {
     "name": "stdout",
     "output_type": "stream",
     "text": [
      "[Epoch 491]\n",
      "precision@10:0.3617\n",
      "precision@30:0.2142\n",
      "precision@50:0.1696\n",
      "ndcg@10:0.1880\n",
      "ndcg@30:0.1573\n",
      "ndcg@50:0.1505\n",
      "ndcg@all:0.4320\n"
     ]
    },
    {
     "data": {
      "application/vnd.jupyter.widget-view+json": {
       "model_id": "2d96120b896d4c57aac4e881ba7bceff",
       "version_major": 2,
       "version_minor": 0
      },
      "text/plain": [
       "Training:   0%|          | 0/313 [00:00<?, ?it/s]"
      ]
     },
     "metadata": {},
     "output_type": "display_data"
    },
    {
     "name": "stdout",
     "output_type": "stream",
     "text": [
      "[Epoch 492]\n",
      "precision@10:0.3612\n",
      "precision@30:0.2141\n",
      "precision@50:0.1695\n",
      "ndcg@10:0.1879\n",
      "ndcg@30:0.1572\n",
      "ndcg@50:0.1504\n",
      "ndcg@all:0.4319\n"
     ]
    },
    {
     "data": {
      "application/vnd.jupyter.widget-view+json": {
       "model_id": "30c097cfe78a4397ad833c0213e89236",
       "version_major": 2,
       "version_minor": 0
      },
      "text/plain": [
       "Training:   0%|          | 0/313 [00:00<?, ?it/s]"
      ]
     },
     "metadata": {},
     "output_type": "display_data"
    },
    {
     "name": "stdout",
     "output_type": "stream",
     "text": [
      "[Epoch 493]\n",
      "precision@10:0.3612\n",
      "precision@30:0.2127\n",
      "precision@50:0.1687\n",
      "ndcg@10:0.1883\n",
      "ndcg@30:0.1570\n",
      "ndcg@50:0.1503\n",
      "ndcg@all:0.4317\n"
     ]
    },
    {
     "data": {
      "application/vnd.jupyter.widget-view+json": {
       "model_id": "755d19221e4b4124a41cf976f83e2262",
       "version_major": 2,
       "version_minor": 0
      },
      "text/plain": [
       "Training:   0%|          | 0/313 [00:00<?, ?it/s]"
      ]
     },
     "metadata": {},
     "output_type": "display_data"
    },
    {
     "name": "stdout",
     "output_type": "stream",
     "text": [
      "[Epoch 494]\n",
      "precision@10:0.3619\n",
      "precision@30:0.2133\n",
      "precision@50:0.1688\n",
      "ndcg@10:0.1883\n",
      "ndcg@30:0.1572\n",
      "ndcg@50:0.1504\n",
      "ndcg@all:0.4317\n"
     ]
    },
    {
     "data": {
      "application/vnd.jupyter.widget-view+json": {
       "model_id": "69815efae2d142d381f28737cbce689e",
       "version_major": 2,
       "version_minor": 0
      },
      "text/plain": [
       "Training:   0%|          | 0/313 [00:00<?, ?it/s]"
      ]
     },
     "metadata": {},
     "output_type": "display_data"
    },
    {
     "name": "stdout",
     "output_type": "stream",
     "text": [
      "[Epoch 495]\n",
      "precision@10:0.3615\n",
      "precision@30:0.2133\n",
      "precision@50:0.1691\n",
      "ndcg@10:0.1883\n",
      "ndcg@30:0.1570\n",
      "ndcg@50:0.1503\n",
      "ndcg@all:0.4318\n"
     ]
    },
    {
     "data": {
      "application/vnd.jupyter.widget-view+json": {
       "model_id": "c40947e33b104591adeaa9630fdc943e",
       "version_major": 2,
       "version_minor": 0
      },
      "text/plain": [
       "Training:   0%|          | 0/313 [00:00<?, ?it/s]"
      ]
     },
     "metadata": {},
     "output_type": "display_data"
    },
    {
     "name": "stdout",
     "output_type": "stream",
     "text": [
      "[Epoch 496]\n",
      "precision@10:0.3607\n",
      "precision@30:0.2124\n",
      "precision@50:0.1686\n",
      "ndcg@10:0.1880\n",
      "ndcg@30:0.1570\n",
      "ndcg@50:0.1504\n",
      "ndcg@all:0.4318\n"
     ]
    },
    {
     "data": {
      "application/vnd.jupyter.widget-view+json": {
       "model_id": "4fe1f6eb6a884ca5974f6242dab70243",
       "version_major": 2,
       "version_minor": 0
      },
      "text/plain": [
       "Training:   0%|          | 0/313 [00:00<?, ?it/s]"
      ]
     },
     "metadata": {},
     "output_type": "display_data"
    },
    {
     "name": "stdout",
     "output_type": "stream",
     "text": [
      "[Epoch 497]\n",
      "precision@10:0.3606\n",
      "precision@30:0.2131\n",
      "precision@50:0.1687\n",
      "ndcg@10:0.1883\n",
      "ndcg@30:0.1574\n",
      "ndcg@50:0.1505\n",
      "ndcg@all:0.4320\n"
     ]
    },
    {
     "data": {
      "application/vnd.jupyter.widget-view+json": {
       "model_id": "464aa9a4ef3e495aa7ba64c2850db831",
       "version_major": 2,
       "version_minor": 0
      },
      "text/plain": [
       "Training:   0%|          | 0/313 [00:00<?, ?it/s]"
      ]
     },
     "metadata": {},
     "output_type": "display_data"
    },
    {
     "name": "stdout",
     "output_type": "stream",
     "text": [
      "[Epoch 498]\n",
      "precision@10:0.3616\n",
      "precision@30:0.2137\n",
      "precision@50:0.1690\n",
      "ndcg@10:0.1885\n",
      "ndcg@30:0.1574\n",
      "ndcg@50:0.1504\n",
      "ndcg@all:0.4321\n"
     ]
    },
    {
     "data": {
      "application/vnd.jupyter.widget-view+json": {
       "model_id": "b208a70a7d5144a6bbaafc039c335062",
       "version_major": 2,
       "version_minor": 0
      },
      "text/plain": [
       "Training:   0%|          | 0/313 [00:00<?, ?it/s]"
      ]
     },
     "metadata": {},
     "output_type": "display_data"
    },
    {
     "name": "stdout",
     "output_type": "stream",
     "text": [
      "[Epoch 499]\n",
      "precision@10:0.3616\n",
      "precision@30:0.2135\n",
      "precision@50:0.1694\n",
      "ndcg@10:0.1887\n",
      "ndcg@30:0.1576\n",
      "ndcg@50:0.1509\n",
      "ndcg@all:0.4323\n"
     ]
    },
    {
     "data": {
      "application/vnd.jupyter.widget-view+json": {
       "model_id": "2bbfbd651ff24f52bb03e4d06c6b8460",
       "version_major": 2,
       "version_minor": 0
      },
      "text/plain": [
       "Training:   0%|          | 0/313 [00:00<?, ?it/s]"
      ]
     },
     "metadata": {},
     "output_type": "display_data"
    },
    {
     "name": "stdout",
     "output_type": "stream",
     "text": [
      "[Epoch 500]\n",
      "precision@10:0.3604\n",
      "precision@30:0.2129\n",
      "precision@50:0.1687\n",
      "ndcg@10:0.1886\n",
      "ndcg@30:0.1575\n",
      "ndcg@50:0.1506\n",
      "ndcg@all:0.4322\n",
      "Parameter containing:\n",
      "tensor([[-0.3064, -1.6504,  0.7370,  ...,  0.3967,  0.5263, -0.5324],\n",
      "        [ 1.3454, -1.0220, -0.5923,  ..., -1.4330, -0.4407,  0.1754],\n",
      "        [-0.9299,  0.6226, -0.5324,  ..., -1.7264,  0.7399,  0.4072],\n",
      "        ...,\n",
      "        [ 1.0330, -1.8810, -0.7247,  ..., -0.0432,  0.4095,  1.2631],\n",
      "        [ 1.0926, -1.5971, -0.2084,  ..., -1.4981, -0.5659, -0.0134],\n",
      "        [-0.5627,  1.7876, -1.0276,  ...,  0.2475, -0.0991,  1.2782]],\n",
      "       device='cuda:0', requires_grad=True)\n"
     ]
    }
   ],
   "source": [
    "print(autoencoder.get_word_embedding())\n",
    "for epoch in range(EPOCH):\n",
    "    train_loss = 0\n",
    "    autoencoder.train()\n",
    "    decoder.train()\n",
    "    update_ae = True\n",
    "    for batch, (doc_emb, doc_label) in enumerate(tqdm(train_loader, desc='Training')):\n",
    "        doc_emb, doc_label = doc_emb.to(device), doc_label.to(device)\n",
    "        # decoded = decoder(doc_emb)\n",
    "        decoded = torch.matmul(decoder(doc_emb), torch.transpose(autoencoder.get_word_embedding(), 0, 1))\n",
    "        loss = MythNet(decoded, doc_label)\n",
    "        if update_ae:\n",
    "            update_ae = False\n",
    "            ae_loss = autoencoder(edge_index.t().contiguous())\n",
    "            loss += ae_loss\n",
    "        loss.backward()\n",
    "        \n",
    "        optimizer_ae.step()\n",
    "        optimizer_de.step()\n",
    "        optimizer_ae.zero_grad()\n",
    "        optimizer_de.zero_grad()\n",
    "        \n",
    "        train_loss += loss.item()\n",
    "    print(\"[Epoch {:02d}]\".format(epoch+1))\n",
    "    res = evaluate_Decoder(decoder, autoencoder, valid_loader)\n",
    "    for key,val in res.items():\n",
    "        print(f\"{key}:{val:.4f}\")\n",
    "print(autoencoder.get_word_embedding()) "
   ]
  },
  {
   "cell_type": "code",
   "execution_count": null,
   "id": "88e2533e",
   "metadata": {},
   "outputs": [],
   "source": [
    "# Ignore the followings"
   ]
  },
  {
   "cell_type": "code",
   "execution_count": 9,
   "id": "58549e5f",
   "metadata": {},
   "outputs": [],
   "source": [
    "class GNN_temp(nn.Module):\n",
    "    def __init__(self, word_embedding, output_dim):\n",
    "        super().__init__()\n",
    "        self.word_embedding = word_embedding\n",
    "        self.ae = VGAE(VariationalGCNEncoder(output_dim, output_dim))\n",
    "        \n",
    "    def forward(self,edge_index):\n",
    "        encoded = self.ae.encode(self.word_embedding, edge_index)\n",
    "        loss = self.ae.recon_loss(encoded, edge_index)\n",
    "        return loss\n",
    "    \n",
    "    def get_word_embedding(self):\n",
    "        return self.word_embedding"
   ]
  },
  {
   "cell_type": "code",
   "execution_count": 22,
   "id": "04b27dd6",
   "metadata": {},
   "outputs": [],
   "source": [
    "class Decoder_temp(nn.Module):\n",
    "    def __init__(self, input_dim, hidden_dim, output_dim):\n",
    "        super().__init__()\n",
    "        self.word_embedding = nn.Parameter(torch.randn(hidden_dim, output_dim))\n",
    "        self.ae = VGAE(VariationalGCNEncoder(hidden_dim, hidden_dim))\n",
    "        self.transform = nn.Sequential(\n",
    "            nn.Linear(input_dim,hidden_dim),\n",
    "            nn.BatchNorm1d(hidden_dim),\n",
    "            nn.Sigmoid(),\n",
    "            nn.Linear(hidden_dim,hidden_dim),\n",
    "            nn.BatchNorm1d(hidden_dim),\n",
    "            nn.Sigmoid(),\n",
    "        )\n",
    "    def forward(self, x):\n",
    "        docvec = self.transform(x)\n",
    "        decoded = torch.sigmoid(torch.matmul(docvec, self.word_embedding))\n",
    "        return decoded\n",
    " \n",
    "    def get_ae_loss(self, edge_index):\n",
    "        encoded = self.ae.encode(self.word_embedding, edge_index)\n",
    "        loss = self.ae.recon_loss(encoded, edge_index)\n",
    "        return loss"
   ]
  },
  {
   "cell_type": "code",
   "execution_count": 27,
   "id": "da69a1a0",
   "metadata": {},
   "outputs": [],
   "source": [
    "def evaluate_Decoder_temp(model, data_loader):\n",
    "    results = defaultdict(list)\n",
    "    model.eval()\n",
    "        \n",
    "    # predict all data\n",
    "    for data in data_loader:\n",
    "        doc_embs, target = data\n",
    "        \n",
    "        doc_embs = doc_embs.to(device)\n",
    "        target = target.to(device)\n",
    "        \n",
    "        target = torch.nn.functional.normalize(target, dim=1)\n",
    "        pred = torch.nn.functional.normalize(torch.sigmoid(model(doc_embs)), dim=1)\n",
    "    \n",
    "        # Precision\n",
    "        precision_scores = retrieval_precision_all(pred, target, k=config[\"topk\"])\n",
    "        for k, v in precision_scores.items():\n",
    "            results['precision@{}'.format(k)].append(v)\n",
    "        \n",
    "        # NDCG\n",
    "        ndcg_scores = retrieval_normalized_dcg_all(pred, target, k=config[\"topk\"])\n",
    "        for k, v in ndcg_scores.items():\n",
    "            results['ndcg@{}'.format(k)].append(v)\n",
    "        \n",
    "    for k in results:\n",
    "        results[k] = np.mean(results[k])\n",
    "\n",
    "    return results"
   ]
  }
 ],
 "metadata": {
  "kernelspec": {
   "display_name": "Python 3 (ipykernel)",
   "language": "python",
   "name": "python3"
  },
  "language_info": {
   "codemirror_mode": {
    "name": "ipython",
    "version": 3
   },
   "file_extension": ".py",
   "mimetype": "text/x-python",
   "name": "python",
   "nbconvert_exporter": "python",
   "pygments_lexer": "ipython3",
   "version": "3.9.6"
  }
 },
 "nbformat": 4,
 "nbformat_minor": 5
}
