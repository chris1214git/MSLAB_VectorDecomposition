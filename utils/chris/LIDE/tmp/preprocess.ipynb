{
 "cells": [
  {
   "cell_type": "code",
   "execution_count": 1,
   "id": "14f4ab2e",
   "metadata": {},
   "outputs": [],
   "source": [
    "from collections import defaultdict\n",
    "import math\n",
    "import numpy as np \n",
    "import re\n",
    "import torch\n",
    "import torch.nn as nn\n",
    "from itertools import cycle\n",
    "from torch.nn.utils.rnn import pad_sequence\n",
    "from torch.utils.data import DataLoader, Dataset\n",
    "import torch.nn.functional as F\n",
    "from tqdm.auto import tqdm\n",
    "\n",
    "from sklearn.metrics import ndcg_score\n",
    "import torch.nn as nn\n",
    "import torch.nn.functional as F\n",
    "import torch.optim as optim\n",
    "\n",
    "from nltk.stem import PorterStemmer\n",
    "from nltk.corpus import stopwords\n",
    "\n",
    "import matplotlib.pyplot as plt \n",
    "import pandas as pd"
   ]
  },
  {
   "cell_type": "markdown",
   "id": "6b5744ce",
   "metadata": {},
   "source": [
    "### CNN"
   ]
  },
  {
   "cell_type": "code",
   "execution_count": 2,
   "id": "e7d5ac04",
   "metadata": {},
   "outputs": [],
   "source": [
    "from sklearn.datasets import fetch_20newsgroups\n",
    "dataset = fetch_20newsgroups(subset='all',\n",
    "                             shuffle=True, random_state=42)"
   ]
  },
  {
   "cell_type": "code",
   "execution_count": 16,
   "id": "db9e5a2e",
   "metadata": {},
   "outputs": [],
   "source": [
    "with open('../data/CNN.txt', 'w') as f:\n",
    "    for d in dataset.data:\n",
    "        d = d.replace(\"\\n\", \" \")\n",
    "        print(d, file=f)"
   ]
  },
  {
   "cell_type": "markdown",
   "id": "ed86064a",
   "metadata": {},
   "source": [
    "### PubMed"
   ]
  },
  {
   "cell_type": "code",
   "execution_count": 37,
   "id": "2f9ac0e1",
   "metadata": {
    "scrolled": true
   },
   "outputs": [
    {
     "name": "stdout",
     "output_type": "stream",
     "text": [
      "error ../data/PubMed/docs/12777364.txt\n",
      "error ../data/PubMed/docs/12419768.txt\n",
      "error ../data/PubMed/docs/10933267.txt\n",
      "error ../data/PubMed/docs/15353412.txt\n",
      "error ../data/PubMed/docs/16269586.txt\n"
     ]
    }
   ],
   "source": [
    "import os\n",
    "\n",
    "dir_path = '../data/PubMed/docs'\n",
    "\n",
    "texts = []\n",
    "for file in os.listdir(dir_path):\n",
    "    file = os.path.join(dir_path, file)\n",
    "    with open(file, 'r') as f:\n",
    "        try:\n",
    "            text = ''.join(f.readlines())\n",
    "            \n",
    "        except:\n",
    "            print('error', file)\n",
    "            continue\n",
    "    text = text.replace('\\n', ' ')\n",
    "    texts.append(text)\n",
    "    "
   ]
  },
  {
   "cell_type": "code",
   "execution_count": 38,
   "id": "9f626aad",
   "metadata": {},
   "outputs": [],
   "source": [
    "with open('../data/PubMed.txt', 'w') as f:\n",
    "    for text in texts:\n",
    "        print(text, file = f)\n"
   ]
  },
  {
   "cell_type": "code",
   "execution_count": null,
   "id": "b0b057a6",
   "metadata": {},
   "outputs": [],
   "source": []
  }
 ],
 "metadata": {
  "kernelspec": {
   "display_name": "Python 3",
   "language": "python",
   "name": "python3"
  },
  "language_info": {
   "codemirror_mode": {
    "name": "ipython",
    "version": 3
   },
   "file_extension": ".py",
   "mimetype": "text/x-python",
   "name": "python",
   "nbconvert_exporter": "python",
   "pygments_lexer": "ipython3",
   "version": "3.7.0"
  }
 },
 "nbformat": 4,
 "nbformat_minor": 5
}
